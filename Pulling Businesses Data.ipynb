{
 "cells": [
  {
   "cell_type": "markdown",
   "metadata": {},
   "source": [
    "# Generating Businesses Data .CSV"
   ]
  },
  {
   "cell_type": "markdown",
   "metadata": {},
   "source": [
    "## Imports"
   ]
  },
  {
   "cell_type": "code",
   "execution_count": 1,
   "metadata": {
    "ExecuteTime": {
     "end_time": "2021-05-13T02:50:13.712510Z",
     "start_time": "2021-05-13T02:50:13.370467Z"
    }
   },
   "outputs": [],
   "source": [
    "import requests\n",
    "import pandas as pd\n",
    "import json\n",
    "import csv\n",
    "import numpy as np\n",
    "\n",
    "with open(r'C:\\Users\\bmcca\\.secret\\yelp_api.json') as f:\n",
    "    keys = json.load(f)\n",
    "\n",
    "client_id = keys['id']\n",
    "yelp_key = keys['key']"
   ]
  },
  {
   "cell_type": "markdown",
   "metadata": {},
   "source": [
    "## Creating the Pull Request"
   ]
  },
  {
   "cell_type": "code",
   "execution_count": 2,
   "metadata": {
    "ExecuteTime": {
     "end_time": "2021-05-13T02:50:13.727468Z",
     "start_time": "2021-05-13T02:50:13.715468Z"
    }
   },
   "outputs": [],
   "source": [
    "def yelp_request_offset(term, location, yelp_key, offset=0, verbose=False):\n",
    "    '''Adapted from Yelp API Lab: https://github.com/BenJMcCarty/dsc-yelp-api-lab/tree/solution'''\n",
    "    \n",
    "    url = 'https://api.yelp.com/v3/businesses/search'\n",
    "\n",
    "    headers = {\n",
    "            'Authorization': 'Bearer {}'.format(yelp_key),\n",
    "        }\n",
    "\n",
    "    url_params = {\n",
    "                    'term': term.replace(' ', '+'),\n",
    "                    'location': location.replace(' ', '+'),\n",
    "                    'limit': 50,\n",
    "                    'offset': offset\n",
    "                        }\n",
    "    \n",
    "    response = requests.get(url, headers=headers, params=url_params)\n",
    "    \n",
    "    if verbose == True:\n",
    "        print(response)\n",
    "        print(type(response.text))\n",
    "        print(response.text[:1000])\n",
    "        \n",
    "    return response.json()"
   ]
  },
  {
   "cell_type": "code",
   "execution_count": 26,
   "metadata": {
    "ExecuteTime": {
     "end_time": "2021-05-13T03:07:52.296558Z",
     "start_time": "2021-05-13T03:07:52.286553Z"
    }
   },
   "outputs": [],
   "source": [
    "def parse_data(list_of_data):\n",
    "    '''Adapted from Tyrell's code'''  \n",
    "\n",
    "    parsed_data = []\n",
    "    \n",
    "    # Loop through each business in the list of businesses\n",
    "    # Add specific k:v pairs to a dictionary\n",
    "    \n",
    "    for business in list_of_data:\n",
    "        \n",
    "        # Insert NaN for missing Price values\n",
    "        if 'price' not in business:\n",
    "            business['price'] = np.nan\n",
    "            \n",
    "        details = {'Name': business['name'],\n",
    "                     'Location': ' '.join(business['location']['display_address']),\n",
    "                     'Business ID': business['id'],\n",
    "                     'Alias': business['categories'][0]['alias'],\n",
    "                     'Title': business['categories'][0]['title'],\n",
    "                     'Rating': business['rating'],\n",
    "                     'Review Count': business['review_count'],\n",
    "                     'Price': business['price'],\n",
    "                     'Latitude': business['coordinates']['latitude'],\n",
    "                     'Longitude': business['coordinates']['longitude']\n",
    "                    }\n",
    "    \n",
    "        parsed_data.append(details)\n",
    "    \n",
    "    # Create a DataFrame from the resulting dictionary\n",
    "    \n",
    "    df_parsed_data = pd.DataFrame(parsed_data)\n",
    "\n",
    "    \n",
    "    return df_parsed_data"
   ]
  },
  {
   "cell_type": "code",
   "execution_count": 13,
   "metadata": {
    "ExecuteTime": {
     "end_time": "2021-05-13T02:56:17.590279Z",
     "start_time": "2021-05-13T02:56:17.581306Z"
    }
   },
   "outputs": [],
   "source": [
    "def get_full_data(term, location, yelp_key, file_name='data/wineries_raw.csv'):\n",
    "    '''Requests all results from Yelp API; saves as a .csv; \n",
    "    and returns a DataFrame.'''\n",
    "\n",
    "    # Create a .csv to store results\n",
    "    blank_df = pd.DataFrame()#columns= ['Name', 'Location', 'Business ID',\n",
    "                                      #'Alias', 'Title', 'Rating', \n",
    "                                      #'Review Count', 'Price', 'Latitude', \n",
    "                                      #'Longitude'])\n",
    "    blank_df.to_csv(file_name)\n",
    "    \n",
    "    # Process first request to Yelp API and calculate number of pages \n",
    "    results = yelp_request_offset(term, location, yelp_key)\n",
    "    num_pages = results['total']//50+1\n",
    "    \n",
    "    # Print out confirmation feedback\n",
    "    print(f'For {term} and {location}: ')\n",
    "    print(f\"    Total number of results: {results['total']}.\")\n",
    "    print(f'    Total number of pages: {num_pages}.')\n",
    "    \n",
    "    # Create offset for additional results\n",
    "    offset = 0\n",
    "\n",
    "    # Retrieves remaining pages\n",
    "    for num in range(num_pages-1):\n",
    "        try:\n",
    "            # Process API request\n",
    "            results = yelp_request_offset(term, location, yelp_key,\n",
    "                                          offset=offset)\n",
    "            \n",
    "            # From results, take values from \"Businesses\" key and save\n",
    "            parsed_results = parse_data(results['businesses'])\n",
    "          \n",
    "            # Save resulting DF to .csv from top\n",
    "            parsed_results.to_csv(file_name, mode='a', index = False)\n",
    "            \n",
    "            # Increase offset to move to next \"page\" of data\n",
    "            offset += 50\n",
    "            \n",
    "        except:\n",
    "            # If error, print where the error happens\n",
    "            print(f'Error on page {num}.')\n",
    "            # Then save the results so far to the .csv\n",
    "            parsed_results.to_csv(file_name, mode='a', index = False)\n",
    "\n",
    "\n",
    "    return parsed_results"
   ]
  },
  {
   "cell_type": "code",
   "execution_count": 19,
   "metadata": {
    "ExecuteTime": {
     "end_time": "2021-05-13T02:57:48.920224Z",
     "start_time": "2021-05-13T02:57:48.909198Z"
    }
   },
   "outputs": [],
   "source": [
    "def get_full_data(term, location, yelp_key, file_name = 'data/wineries_raw.csv'):\n",
    "    '''Requests all results from Yelp API; saves as a .csv; and returns a DataFrame.'''\n",
    "\n",
    "    # Create a .csv to store results\n",
    "    blank_df = pd.DataFrame()\n",
    "    blank_df.to_csv(file_name)\n",
    "    \n",
    "    # Process first request to Yelp API and calculate number of pages \n",
    "    results = yelp_request_offset(term, location, yelp_key, offset=0, \n",
    "                                  verbose=False)\n",
    "    num_pages = results['total']//50+1\n",
    "    \n",
    "    # Print out confirmation feedback\n",
    "    print(f'For {term} and {location}: ')\n",
    "    print(f\"    Total number of results: {results['total']}.\")\n",
    "    print(f'    Total number of pages: {num_pages}.')\n",
    "    \n",
    "    # Create offset for additional results\n",
    "    offset = 0\n",
    "\n",
    "    # Retrieves remaining pages\n",
    "    for num in range(num_pages-1):\n",
    "        try:\n",
    "            # Process API request\n",
    "            results = yelp_request_offset(term, location, yelp_key,\n",
    "                                          offset=offset, verbose=False)\n",
    "            \n",
    "            # From results, take values from \"Businesses\" key and save\n",
    "            parsed_results = parse_data(results['businesses'])\n",
    "          \n",
    "            # Save resulting DF to .csv from top\n",
    "            parsed_results.to_csv(file_name, mode='a', index = False)\n",
    "            \n",
    "            # Increase offset to move to next \"page\" of data\n",
    "            offset += 50\n",
    "            \n",
    "        except:\n",
    "            # If error, print where the error happens\n",
    "            print(f'Error on page {num}.')\n",
    "            # Then save the results so far to the .csv\n",
    "            parsed_results.to_csv(file_name, mode='a', index = False)\n",
    "\n",
    "\n",
    "    return parsed_results"
   ]
  },
  {
   "cell_type": "markdown",
   "metadata": {},
   "source": [
    "## Cleaning Data"
   ]
  },
  {
   "cell_type": "code",
   "execution_count": 20,
   "metadata": {
    "ExecuteTime": {
     "end_time": "2021-05-13T02:57:51.179569Z",
     "start_time": "2021-05-13T02:57:51.165567Z"
    }
   },
   "outputs": [],
   "source": [
    "def sort_by_aliases(raw_data = 'data/wineries_raw.csv'):\n",
    "\n",
    "    # Read in businesses\n",
    "    df2 = pd.read_csv(raw_data, header = 1)\n",
    "\n",
    "    alias_index = df2['alias'].value_counts()[:2].index\n",
    "\n",
    "    # Filtering rows based on condition\n",
    "\n",
    "    df3 = df2[df2['alias'].isin(alias_index)]\n",
    "    \n",
    "    # Resetting index\n",
    "    df3.reset_index(drop=True, inplace=True)\n",
    "\n",
    "    df3.to_csv('data/wineries_filtered_alias.csv', index = False)\n",
    "\n",
    "    print(\"Saved to 'data/wineries_filtered_alias.csv'\")\n",
    "    \n",
    "    return df3"
   ]
  },
  {
   "cell_type": "markdown",
   "metadata": {},
   "source": [
    "## Testing Functions"
   ]
  },
  {
   "cell_type": "markdown",
   "metadata": {
    "ExecuteTime": {
     "end_time": "2021-05-12T21:59:16.374406Z",
     "start_time": "2021-05-12T21:59:16.370411Z"
    }
   },
   "source": [
    "### Get Data"
   ]
  },
  {
   "cell_type": "code",
   "execution_count": 21,
   "metadata": {
    "ExecuteTime": {
     "end_time": "2021-05-13T02:57:56.225684Z",
     "start_time": "2021-05-13T02:57:52.020869Z"
    },
    "scrolled": false
   },
   "outputs": [
    {
     "name": "stdout",
     "output_type": "stream",
     "text": [
      "For winery and San Diego: \n",
      "    Total number of results: 262.\n",
      "    Total number of pages: 6.\n",
      "Error on page 4.\n"
     ]
    },
    {
     "data": {
      "text/html": [
       "<div>\n",
       "<style scoped>\n",
       "    .dataframe tbody tr th:only-of-type {\n",
       "        vertical-align: middle;\n",
       "    }\n",
       "\n",
       "    .dataframe tbody tr th {\n",
       "        vertical-align: top;\n",
       "    }\n",
       "\n",
       "    .dataframe thead th {\n",
       "        text-align: right;\n",
       "    }\n",
       "</style>\n",
       "<table border=\"1\" class=\"dataframe\">\n",
       "  <thead>\n",
       "    <tr style=\"text-align: right;\">\n",
       "      <th></th>\n",
       "      <th>Name</th>\n",
       "      <th>Location</th>\n",
       "      <th>Business ID</th>\n",
       "      <th>Alias</th>\n",
       "      <th>Title</th>\n",
       "      <th>Rating</th>\n",
       "      <th>Review Count</th>\n",
       "      <th>Price</th>\n",
       "      <th>Latitude</th>\n",
       "      <th>Longitude</th>\n",
       "    </tr>\n",
       "  </thead>\n",
       "  <tbody>\n",
       "    <tr>\n",
       "      <th>0</th>\n",
       "      <td>BevMo!</td>\n",
       "      <td>168 S Solana Hills Dr Solana Beach, CA 92075</td>\n",
       "      <td>m2LBkxbaDBg2VDFAW4Q9Gg</td>\n",
       "      <td>beer_and_wine</td>\n",
       "      <td>Beer, Wine &amp; Spirits</td>\n",
       "      <td>3.0</td>\n",
       "      <td>31</td>\n",
       "      <td>$$</td>\n",
       "      <td>32.994626</td>\n",
       "      <td>-117.257886</td>\n",
       "    </tr>\n",
       "  </tbody>\n",
       "</table>\n",
       "</div>"
      ],
      "text/plain": [
       "     Name                                      Location  \\\n",
       "0  BevMo!  168 S Solana Hills Dr Solana Beach, CA 92075   \n",
       "\n",
       "              Business ID          Alias                 Title  Rating  \\\n",
       "0  m2LBkxbaDBg2VDFAW4Q9Gg  beer_and_wine  Beer, Wine & Spirits     3.0   \n",
       "\n",
       "   Review Count Price   Latitude   Longitude  \n",
       "0            31    $$  32.994626 -117.257886  "
      ]
     },
     "execution_count": 21,
     "metadata": {},
     "output_type": "execute_result"
    }
   ],
   "source": [
    "get_full_data('winery','San Diego', yelp_key)"
   ]
  },
  {
   "cell_type": "code",
   "execution_count": null,
   "metadata": {
    "ExecuteTime": {
     "end_time": "2021-05-12T22:31:44.366680Z",
     "start_time": "2021-05-12T22:31:44.323681Z"
    }
   },
   "outputs": [],
   "source": [
    "df_test = pd.read_csv('data/wineries_raw.csv', header = 1)\n",
    "df_test"
   ]
  },
  {
   "cell_type": "markdown",
   "metadata": {},
   "source": [
    "### Clean Data"
   ]
  },
  {
   "cell_type": "code",
   "execution_count": null,
   "metadata": {
    "ExecuteTime": {
     "end_time": "2021-05-12T22:31:50.222014Z",
     "start_time": "2021-05-12T22:31:50.194002Z"
    }
   },
   "outputs": [],
   "source": [
    "df_test_clean = sort_by_aliases(raw_data = 'data/wineries_raw.csv')\n",
    "df_test_clean"
   ]
  },
  {
   "cell_type": "code",
   "execution_count": null,
   "metadata": {
    "ExecuteTime": {
     "end_time": "2021-05-12T22:35:34.443598Z",
     "start_time": "2021-05-12T22:35:34.402600Z"
    }
   },
   "outputs": [],
   "source": [
    "df_test2 = pd.read_csv('data/wineries_filtered_alias.csv')\n",
    "df_test2"
   ]
  },
  {
   "cell_type": "code",
   "execution_count": null,
   "metadata": {
    "ExecuteTime": {
     "end_time": "2021-05-12T22:32:03.913325Z",
     "start_time": "2021-05-12T22:32:03.905296Z"
    }
   },
   "outputs": [],
   "source": [
    "# list_test = df_test2.id\n",
    "# list_test[list_test.str.startswith(\"-\")]"
   ]
  },
  {
   "cell_type": "code",
   "execution_count": null,
   "metadata": {
    "ExecuteTime": {
     "end_time": "2021-05-12T22:32:06.391348Z",
     "start_time": "2021-05-12T22:32:06.385358Z"
    }
   },
   "outputs": [],
   "source": [
    "# for item in df_test2['id']:\n",
    "#     if item.startswith(\"-\") == True:\n",
    "#         item = None"
   ]
  },
  {
   "cell_type": "code",
   "execution_count": null,
   "metadata": {
    "ExecuteTime": {
     "end_time": "2021-05-12T22:45:38.055176Z",
     "start_time": "2021-05-12T22:45:38.050176Z"
    }
   },
   "outputs": [],
   "source": [
    "def fix_csv_issue(df_var_name):\n",
    "    for item in df_var_name['id']:\n",
    "        if item.startswith(\"-\") == True:\n",
    "            df_var_name['id'].replace(to_replace=item, value = 0, inplace=True)\n",
    "#     df_var_name = df_var_name['id'].dropna(inplace=True)\n",
    "    \n",
    "    return df_var_name"
   ]
  },
  {
   "cell_type": "code",
   "execution_count": null,
   "metadata": {
    "ExecuteTime": {
     "end_time": "2021-05-12T22:45:38.475244Z",
     "start_time": "2021-05-12T22:45:38.438215Z"
    }
   },
   "outputs": [],
   "source": [
    "fix_csv_issue(df_test2)"
   ]
  },
  {
   "cell_type": "code",
   "execution_count": null,
   "metadata": {
    "ExecuteTime": {
     "end_time": "2021-05-12T22:34:00.434822Z",
     "start_time": "2021-05-12T22:34:00.395827Z"
    },
    "scrolled": true
   },
   "outputs": [],
   "source": [
    "df_test2[~df_test2['id'].isna()]"
   ]
  },
  {
   "cell_type": "code",
   "execution_count": null,
   "metadata": {
    "ExecuteTime": {
     "end_time": "2021-05-12T22:35:15.815295Z",
     "start_time": "2021-05-12T22:35:15.778313Z"
    }
   },
   "outputs": [],
   "source": [
    "df_test2.dropna(axis=0, inplace=True)\n",
    "df_test2"
   ]
  },
  {
   "cell_type": "markdown",
   "metadata": {},
   "source": [
    "## Saving Data"
   ]
  },
  {
   "cell_type": "code",
   "execution_count": null,
   "metadata": {},
   "outputs": [],
   "source": []
  }
 ],
 "metadata": {
  "kernelspec": {
   "display_name": "Python (learn-env-bmc)",
   "language": "python",
   "name": "learn-env-bmc"
  },
  "language_info": {
   "codemirror_mode": {
    "name": "ipython",
    "version": 3
   },
   "file_extension": ".py",
   "mimetype": "text/x-python",
   "name": "python",
   "nbconvert_exporter": "python",
   "pygments_lexer": "ipython3",
   "version": "3.8.5"
  },
  "toc": {
   "base_numbering": 1,
   "nav_menu": {},
   "number_sections": true,
   "sideBar": true,
   "skip_h1_title": false,
   "title_cell": "Table of Contents",
   "title_sidebar": "Contents",
   "toc_cell": false,
   "toc_position": {
    "height": "calc(100% - 180px)",
    "left": "10px",
    "top": "150px",
    "width": "165px"
   },
   "toc_section_display": true,
   "toc_window_display": true
  },
  "varInspector": {
   "cols": {
    "lenName": "32",
    "lenType": 16,
    "lenVar": 40
   },
   "kernels_config": {
    "python": {
     "delete_cmd_postfix": "",
     "delete_cmd_prefix": "del ",
     "library": "var_list.py",
     "varRefreshCmd": "print(var_dic_list())"
    },
    "r": {
     "delete_cmd_postfix": ") ",
     "delete_cmd_prefix": "rm(",
     "library": "var_list.r",
     "varRefreshCmd": "cat(var_dic_list()) "
    }
   },
   "types_to_exclude": [
    "module",
    "function",
    "builtin_function_or_method",
    "instance",
    "_Feature"
   ],
   "window_display": false
  }
 },
 "nbformat": 4,
 "nbformat_minor": 4
}
