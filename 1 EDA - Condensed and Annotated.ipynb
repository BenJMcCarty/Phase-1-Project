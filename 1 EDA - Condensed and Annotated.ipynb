{
 "cells": [
  {
   "cell_type": "markdown",
   "metadata": {
    "heading_collapsed": true
   },
   "source": [
    "# Planting a Winery: Comparing California Wine Countries"
   ]
  },
  {
   "cell_type": "markdown",
   "metadata": {
    "hidden": true
   },
   "source": [
    "We are interested in opening a winery in California, and we compared Napa Valley and San Diego to make the most profitable decision. We reviewed data from the Yelp API to guide our decision. We used API requests to gather the data, then parsed and cleaned the data to collect the most relevant data for analysis. After reviewing our statistical analysis and comparing data between the regions, we decided that San Diego would be the better area."
   ]
  },
  {
   "cell_type": "markdown",
   "metadata": {},
   "source": [
    "# Business Problem"
   ]
  },
  {
   "cell_type": "markdown",
   "metadata": {},
   "source": [
    "We want to open a winery, and we know that Napa Valley is one of the best-known locations for wineries. We also want to investigate a lesser-known region for other opportunities. We chose San Diego as it is in southern California, away from Napa Valley to the north.\n",
    "\n",
    "***\n",
    "We needed to consider:\n",
    "- **Q1: What do the regions look like statistically?**\n",
    "  - Are there any strong relationships between the statistics?\n",
    "  - Are there any clusters of businesses in each area?\n",
    "  \n",
    "  \n",
    "- **Q2: What are the price\n",
    "ranges for each area?**\n",
    "    - Lower prices may be more broadly appealing\n",
    "    - Higher pricing targets more discerning, luxury clientele\n",
    "        \n",
    "        \n",
    "- **Q3: Ratings**\n",
    " - How satisfied are the customers in each area?\n",
    "   - Unsatisfied customers indicate oportunities to steal their business from the other wineries\n",
    " - Are there more satisfied customers in one region vs. the other?\n",
    " \n",
    " \n",
    "- **Q4: Number of reviews**\n",
    " - May indicate the popularity of businesses\n",
    "   - More popular businesses may have more reviews\n",
    " - Larger review counts may indicate larger volumes of visitors to the area"
   ]
  },
  {
   "cell_type": "markdown",
   "metadata": {
    "heading_collapsed": true
   },
   "source": [
    "# Exploring, Analyzing, and Interpreting Results"
   ]
  },
  {
   "cell_type": "markdown",
   "metadata": {
    "hidden": true
   },
   "source": [
    "In our previous notebook(`NOTEBOOK NAME`), we collected data from the Yelp API for our two regions of interest, Napa Valley and San Diego. We used that data to gain insight into our markets. \n",
    "\n",
    "Some of the data represented includes:\n",
    "- The average rating per business\n",
    "- Total number of reviews per business\n",
    "- Pricing per business \n",
    "- The location for each business\n",
    "\n",
    "First, we will import our packages and load in the data for each respective region. Then, we will combine them for analysis."
   ]
  },
  {
   "cell_type": "markdown",
   "metadata": {
    "ExecuteTime": {
     "end_time": "2021-05-13T18:56:02.029967Z",
     "start_time": "2021-05-13T18:56:02.026965Z"
    },
    "heading_collapsed": true
   },
   "source": [
    "# Importing Packages"
   ]
  },
  {
   "cell_type": "code",
   "execution_count": 2,
   "metadata": {
    "ExecuteTime": {
     "end_time": "2021-05-17T00:06:16.271555Z",
     "start_time": "2021-05-17T00:06:14.770413Z"
    },
    "hidden": true
   },
   "outputs": [],
   "source": [
    "# Accessing stored data\n",
    "import csv\n",
    "import json\n",
    "\n",
    "# Data exploration and statistics\n",
    "import pandas as pd\n",
    "import numpy as np\n",
    "\n",
    "# Creating Visualizations\n",
    "import plotly.express as px\n",
    "import seaborn as sns\n",
    "import matplotlib.pyplot as plt\n",
    "%matplotlib inline"
   ]
  },
  {
   "cell_type": "markdown",
   "metadata": {},
   "source": [
    "# Loading Data"
   ]
  },
  {
   "cell_type": "markdown",
   "metadata": {
    "ExecuteTime": {
     "end_time": "2021-05-13T21:10:22.821335Z",
     "start_time": "2021-05-13T21:10:22.806336Z"
    },
    "heading_collapsed": true
   },
   "source": [
    "## San Diego Wineries"
   ]
  },
  {
   "cell_type": "code",
   "execution_count": 3,
   "metadata": {
    "ExecuteTime": {
     "end_time": "2021-05-17T00:06:16.287462Z",
     "start_time": "2021-05-17T00:06:16.274413Z"
    },
    "hidden": true
   },
   "outputs": [],
   "source": [
    "# Read in data from the San Diego .csv\n",
    "df_sd_details = pd.read_csv(\"data/wineries_San_Diego_price_converted.csv\")\n",
    "df_sd_details.reset_index(drop=True, inplace=True)\n",
    "df_sd_details['City'] = 'San Diego'"
   ]
  },
  {
   "cell_type": "markdown",
   "metadata": {
    "heading_collapsed": true
   },
   "source": [
    "## Napa Valley Wineries"
   ]
  },
  {
   "cell_type": "code",
   "execution_count": 4,
   "metadata": {
    "ExecuteTime": {
     "end_time": "2021-05-17T00:06:24.020806Z",
     "start_time": "2021-05-17T00:06:23.997806Z"
    },
    "hidden": true,
    "scrolled": false
   },
   "outputs": [],
   "source": [
    "# Read in data from the Napa Valley .csv\n",
    "df_nv_details = pd.read_csv(\"data/wineries_Napa Valley_price_converted.csv\")\n",
    "df_nv_details.reset_index(drop=True, inplace=True)\n",
    "df_nv_details['City'] = 'Napa Valley'"
   ]
  },
  {
   "cell_type": "markdown",
   "metadata": {
    "ExecuteTime": {
     "end_time": "2021-05-16T19:41:26.624350Z",
     "start_time": "2021-05-16T19:41:26.611351Z"
    },
    "heading_collapsed": true
   },
   "source": [
    "## Combined Data for Both Regions"
   ]
  },
  {
   "cell_type": "code",
   "execution_count": 5,
   "metadata": {
    "ExecuteTime": {
     "end_time": "2021-05-17T00:06:40.432568Z",
     "start_time": "2021-05-17T00:06:40.395568Z"
    },
    "collapsed": true,
    "hidden": true
   },
   "outputs": [
    {
     "data": {
      "text/html": [
       "<div>\n",
       "<style scoped>\n",
       "    .dataframe tbody tr th:only-of-type {\n",
       "        vertical-align: middle;\n",
       "    }\n",
       "\n",
       "    .dataframe tbody tr th {\n",
       "        vertical-align: top;\n",
       "    }\n",
       "\n",
       "    .dataframe thead th {\n",
       "        text-align: right;\n",
       "    }\n",
       "</style>\n",
       "<table border=\"1\" class=\"dataframe\">\n",
       "  <thead>\n",
       "    <tr style=\"text-align: right;\">\n",
       "      <th></th>\n",
       "      <th>name</th>\n",
       "      <th>location</th>\n",
       "      <th>Business ID</th>\n",
       "      <th>alias</th>\n",
       "      <th>title</th>\n",
       "      <th>rating</th>\n",
       "      <th>review_count</th>\n",
       "      <th>price</th>\n",
       "      <th>latitude</th>\n",
       "      <th>longitude</th>\n",
       "      <th>City</th>\n",
       "      <th>price_converted</th>\n",
       "    </tr>\n",
       "  </thead>\n",
       "  <tbody>\n",
       "    <tr>\n",
       "      <th>0</th>\n",
       "      <td>Bernardo Winery</td>\n",
       "      <td>13330 Paseo Del Verano Norte San Diego, CA 92128</td>\n",
       "      <td>DknnpiG1p4OoM1maFshzXA</td>\n",
       "      <td>winetastingroom</td>\n",
       "      <td>Wine Tasting Room</td>\n",
       "      <td>4.5</td>\n",
       "      <td>626</td>\n",
       "      <td>$$</td>\n",
       "      <td>33.032800</td>\n",
       "      <td>-117.046460</td>\n",
       "      <td>San Diego</td>\n",
       "      <td>2</td>\n",
       "    </tr>\n",
       "    <tr>\n",
       "      <th>1</th>\n",
       "      <td>Callaway Vineyard &amp; Winery</td>\n",
       "      <td>517 4th Ave Ste 101 San Diego, CA 92101</td>\n",
       "      <td>Cn2_bpTngghYW1ej4zreZg</td>\n",
       "      <td>winetastingroom</td>\n",
       "      <td>Wine Tasting Room</td>\n",
       "      <td>5.0</td>\n",
       "      <td>100</td>\n",
       "      <td>$$</td>\n",
       "      <td>32.710751</td>\n",
       "      <td>-117.160918</td>\n",
       "      <td>San Diego</td>\n",
       "      <td>2</td>\n",
       "    </tr>\n",
       "    <tr>\n",
       "      <th>2</th>\n",
       "      <td>San Pasqual Winery - Seaport Village</td>\n",
       "      <td>805 W Harbor Dr San Diego, CA 92101</td>\n",
       "      <td>gMW1RvyLu90RSQAY9UrIHw</td>\n",
       "      <td>winetastingroom</td>\n",
       "      <td>Wine Tasting Room</td>\n",
       "      <td>4.5</td>\n",
       "      <td>138</td>\n",
       "      <td>$$</td>\n",
       "      <td>32.708732</td>\n",
       "      <td>-117.168195</td>\n",
       "      <td>San Diego</td>\n",
       "      <td>2</td>\n",
       "    </tr>\n",
       "    <tr>\n",
       "      <th>3</th>\n",
       "      <td>Négociant Winery</td>\n",
       "      <td>2419 El Cajon Blvd San Diego, CA 92104</td>\n",
       "      <td>Cc1sQWRWgGyMCjzX2mmMQQ</td>\n",
       "      <td>winetastingroom</td>\n",
       "      <td>Wine Tasting Room</td>\n",
       "      <td>4.5</td>\n",
       "      <td>103</td>\n",
       "      <td>$$</td>\n",
       "      <td>32.754880</td>\n",
       "      <td>-117.138280</td>\n",
       "      <td>San Diego</td>\n",
       "      <td>2</td>\n",
       "    </tr>\n",
       "    <tr>\n",
       "      <th>4</th>\n",
       "      <td>Domaine Artefact Vineyard &amp; Winery</td>\n",
       "      <td>15404 Highland Valley Rd Escondido, CA 92025</td>\n",
       "      <td>WqVbxY77Ag96X90LultCUw</td>\n",
       "      <td>wineries</td>\n",
       "      <td>Wineries</td>\n",
       "      <td>5.0</td>\n",
       "      <td>96</td>\n",
       "      <td>$$</td>\n",
       "      <td>33.068170</td>\n",
       "      <td>-117.001600</td>\n",
       "      <td>San Diego</td>\n",
       "      <td>2</td>\n",
       "    </tr>\n",
       "    <tr>\n",
       "      <th>...</th>\n",
       "      <td>...</td>\n",
       "      <td>...</td>\n",
       "      <td>...</td>\n",
       "      <td>...</td>\n",
       "      <td>...</td>\n",
       "      <td>...</td>\n",
       "      <td>...</td>\n",
       "      <td>...</td>\n",
       "      <td>...</td>\n",
       "      <td>...</td>\n",
       "      <td>...</td>\n",
       "      <td>...</td>\n",
       "    </tr>\n",
       "    <tr>\n",
       "      <th>398</th>\n",
       "      <td>Andretti Winery</td>\n",
       "      <td>1625 Trancas St Ste 3017 Napa, CA 94558</td>\n",
       "      <td>NKCMqIlRopcSMA15JpeyJg</td>\n",
       "      <td>wineries</td>\n",
       "      <td>Wineries</td>\n",
       "      <td>3.5</td>\n",
       "      <td>311</td>\n",
       "      <td>$$</td>\n",
       "      <td>38.321516</td>\n",
       "      <td>-122.304108</td>\n",
       "      <td>Napa Valley</td>\n",
       "      <td>2</td>\n",
       "    </tr>\n",
       "    <tr>\n",
       "      <th>399</th>\n",
       "      <td>Lionstone International</td>\n",
       "      <td>21481 8th St E Sonoma, CA 95476</td>\n",
       "      <td>pW9QPUkm2_tTXLCzyQ6qvg</td>\n",
       "      <td>wineries</td>\n",
       "      <td>Wineries</td>\n",
       "      <td>1.0</td>\n",
       "      <td>1</td>\n",
       "      <td>$$</td>\n",
       "      <td>38.262062</td>\n",
       "      <td>-122.442036</td>\n",
       "      <td>Napa Valley</td>\n",
       "      <td>2</td>\n",
       "    </tr>\n",
       "    <tr>\n",
       "      <th>400</th>\n",
       "      <td>Napa Vinyards</td>\n",
       "      <td>Napa, CA 94558</td>\n",
       "      <td>UwgQWRkTzlFnw3-QYCaBlQ</td>\n",
       "      <td>wineries</td>\n",
       "      <td>Wineries</td>\n",
       "      <td>1.0</td>\n",
       "      <td>1</td>\n",
       "      <td>$$</td>\n",
       "      <td>38.383260</td>\n",
       "      <td>-122.313060</td>\n",
       "      <td>Napa Valley</td>\n",
       "      <td>2</td>\n",
       "    </tr>\n",
       "    <tr>\n",
       "      <th>401</th>\n",
       "      <td>Cook Vinyard Management</td>\n",
       "      <td>19626 Eighth St E Sonoma, CA 95476</td>\n",
       "      <td>LxMkyxBokxu6iRIsuMF5Tw</td>\n",
       "      <td>wineries</td>\n",
       "      <td>Wineries</td>\n",
       "      <td>1.0</td>\n",
       "      <td>1</td>\n",
       "      <td>$$</td>\n",
       "      <td>38.286261</td>\n",
       "      <td>-122.434893</td>\n",
       "      <td>Napa Valley</td>\n",
       "      <td>2</td>\n",
       "    </tr>\n",
       "    <tr>\n",
       "      <th>402</th>\n",
       "      <td>Top It Off Bottling</td>\n",
       "      <td>21481 8th St E Ste 1 Sonoma, CA 95476</td>\n",
       "      <td>Jt-VYmagp5ETW1v_G_Ae0g</td>\n",
       "      <td>wineries</td>\n",
       "      <td>Wineries</td>\n",
       "      <td>1.0</td>\n",
       "      <td>2</td>\n",
       "      <td>$$</td>\n",
       "      <td>38.262480</td>\n",
       "      <td>-122.442070</td>\n",
       "      <td>Napa Valley</td>\n",
       "      <td>2</td>\n",
       "    </tr>\n",
       "  </tbody>\n",
       "</table>\n",
       "<p>485 rows × 12 columns</p>\n",
       "</div>"
      ],
      "text/plain": [
       "                                     name  \\\n",
       "0                         Bernardo Winery   \n",
       "1              Callaway Vineyard & Winery   \n",
       "2    San Pasqual Winery - Seaport Village   \n",
       "3                        Négociant Winery   \n",
       "4      Domaine Artefact Vineyard & Winery   \n",
       "..                                    ...   \n",
       "398                       Andretti Winery   \n",
       "399               Lionstone International   \n",
       "400                         Napa Vinyards   \n",
       "401               Cook Vinyard Management   \n",
       "402                   Top It Off Bottling   \n",
       "\n",
       "                                             location             Business ID  \\\n",
       "0    13330 Paseo Del Verano Norte San Diego, CA 92128  DknnpiG1p4OoM1maFshzXA   \n",
       "1             517 4th Ave Ste 101 San Diego, CA 92101  Cn2_bpTngghYW1ej4zreZg   \n",
       "2                 805 W Harbor Dr San Diego, CA 92101  gMW1RvyLu90RSQAY9UrIHw   \n",
       "3              2419 El Cajon Blvd San Diego, CA 92104  Cc1sQWRWgGyMCjzX2mmMQQ   \n",
       "4        15404 Highland Valley Rd Escondido, CA 92025  WqVbxY77Ag96X90LultCUw   \n",
       "..                                                ...                     ...   \n",
       "398           1625 Trancas St Ste 3017 Napa, CA 94558  NKCMqIlRopcSMA15JpeyJg   \n",
       "399                   21481 8th St E Sonoma, CA 95476  pW9QPUkm2_tTXLCzyQ6qvg   \n",
       "400                                    Napa, CA 94558  UwgQWRkTzlFnw3-QYCaBlQ   \n",
       "401                19626 Eighth St E Sonoma, CA 95476  LxMkyxBokxu6iRIsuMF5Tw   \n",
       "402             21481 8th St E Ste 1 Sonoma, CA 95476  Jt-VYmagp5ETW1v_G_Ae0g   \n",
       "\n",
       "               alias              title  rating  review_count price  \\\n",
       "0    winetastingroom  Wine Tasting Room     4.5           626    $$   \n",
       "1    winetastingroom  Wine Tasting Room     5.0           100    $$   \n",
       "2    winetastingroom  Wine Tasting Room     4.5           138    $$   \n",
       "3    winetastingroom  Wine Tasting Room     4.5           103    $$   \n",
       "4           wineries           Wineries     5.0            96    $$   \n",
       "..               ...                ...     ...           ...   ...   \n",
       "398         wineries           Wineries     3.5           311    $$   \n",
       "399         wineries           Wineries     1.0             1    $$   \n",
       "400         wineries           Wineries     1.0             1    $$   \n",
       "401         wineries           Wineries     1.0             1    $$   \n",
       "402         wineries           Wineries     1.0             2    $$   \n",
       "\n",
       "      latitude   longitude         City  price_converted  \n",
       "0    33.032800 -117.046460    San Diego                2  \n",
       "1    32.710751 -117.160918    San Diego                2  \n",
       "2    32.708732 -117.168195    San Diego                2  \n",
       "3    32.754880 -117.138280    San Diego                2  \n",
       "4    33.068170 -117.001600    San Diego                2  \n",
       "..         ...         ...          ...              ...  \n",
       "398  38.321516 -122.304108  Napa Valley                2  \n",
       "399  38.262062 -122.442036  Napa Valley                2  \n",
       "400  38.383260 -122.313060  Napa Valley                2  \n",
       "401  38.286261 -122.434893  Napa Valley                2  \n",
       "402  38.262480 -122.442070  Napa Valley                2  \n",
       "\n",
       "[485 rows x 12 columns]"
      ]
     },
     "execution_count": 5,
     "metadata": {},
     "output_type": "execute_result"
    }
   ],
   "source": [
    "# Concatenating the two dataframes into one\n",
    "combined = pd.concat([df_sd_details, df_nv_details], ignore_index = 0)\n",
    "combined"
   ]
  },
  {
   "cell_type": "markdown",
   "metadata": {
    "ExecuteTime": {
     "end_time": "2021-05-13T21:15:22.392762Z",
     "start_time": "2021-05-13T21:15:22.375765Z"
    }
   },
   "source": [
    "# Data Exploration"
   ]
  },
  {
   "cell_type": "markdown",
   "metadata": {},
   "source": [
    "Now that we collected the data, we will begin with our statistical overview of the data."
   ]
  },
  {
   "cell_type": "code",
   "execution_count": 50,
   "metadata": {
    "ExecuteTime": {
     "end_time": "2021-05-17T00:28:48.155853Z",
     "start_time": "2021-05-17T00:28:48.109079Z"
    },
    "collapsed": true
   },
   "outputs": [
    {
     "data": {
      "text/html": [
       "<div>\n",
       "<style scoped>\n",
       "    .dataframe tbody tr th:only-of-type {\n",
       "        vertical-align: middle;\n",
       "    }\n",
       "\n",
       "    .dataframe tbody tr th {\n",
       "        vertical-align: top;\n",
       "    }\n",
       "\n",
       "    .dataframe thead th {\n",
       "        text-align: right;\n",
       "    }\n",
       "</style>\n",
       "<table border=\"1\" class=\"dataframe\">\n",
       "  <thead>\n",
       "    <tr style=\"text-align: right;\">\n",
       "      <th></th>\n",
       "      <th>City</th>\n",
       "      <th>Napa Valley</th>\n",
       "      <th>San Diego</th>\n",
       "    </tr>\n",
       "  </thead>\n",
       "  <tbody>\n",
       "    <tr>\n",
       "      <th rowspan=\"8\" valign=\"top\">rating</th>\n",
       "      <th>count</th>\n",
       "      <td>403.000000</td>\n",
       "      <td>82.000000</td>\n",
       "    </tr>\n",
       "    <tr>\n",
       "      <th>mean</th>\n",
       "      <td>4.555831</td>\n",
       "      <td>4.530488</td>\n",
       "    </tr>\n",
       "    <tr>\n",
       "      <th>std</th>\n",
       "      <td>0.696462</td>\n",
       "      <td>0.594977</td>\n",
       "    </tr>\n",
       "    <tr>\n",
       "      <th>min</th>\n",
       "      <td>1.000000</td>\n",
       "      <td>1.000000</td>\n",
       "    </tr>\n",
       "    <tr>\n",
       "      <th>25%</th>\n",
       "      <td>4.500000</td>\n",
       "      <td>4.500000</td>\n",
       "    </tr>\n",
       "    <tr>\n",
       "      <th>50%</th>\n",
       "      <td>5.000000</td>\n",
       "      <td>4.500000</td>\n",
       "    </tr>\n",
       "    <tr>\n",
       "      <th>75%</th>\n",
       "      <td>5.000000</td>\n",
       "      <td>5.000000</td>\n",
       "    </tr>\n",
       "    <tr>\n",
       "      <th>max</th>\n",
       "      <td>5.000000</td>\n",
       "      <td>5.000000</td>\n",
       "    </tr>\n",
       "    <tr>\n",
       "      <th rowspan=\"8\" valign=\"top\">review_count</th>\n",
       "      <th>count</th>\n",
       "      <td>403.000000</td>\n",
       "      <td>82.000000</td>\n",
       "    </tr>\n",
       "    <tr>\n",
       "      <th>mean</th>\n",
       "      <td>85.382134</td>\n",
       "      <td>63.743902</td>\n",
       "    </tr>\n",
       "    <tr>\n",
       "      <th>std</th>\n",
       "      <td>195.580404</td>\n",
       "      <td>102.770367</td>\n",
       "    </tr>\n",
       "    <tr>\n",
       "      <th>min</th>\n",
       "      <td>1.000000</td>\n",
       "      <td>1.000000</td>\n",
       "    </tr>\n",
       "    <tr>\n",
       "      <th>25%</th>\n",
       "      <td>3.000000</td>\n",
       "      <td>7.000000</td>\n",
       "    </tr>\n",
       "    <tr>\n",
       "      <th>50%</th>\n",
       "      <td>14.000000</td>\n",
       "      <td>26.000000</td>\n",
       "    </tr>\n",
       "    <tr>\n",
       "      <th>75%</th>\n",
       "      <td>73.500000</td>\n",
       "      <td>93.500000</td>\n",
       "    </tr>\n",
       "    <tr>\n",
       "      <th>max</th>\n",
       "      <td>2239.000000</td>\n",
       "      <td>626.000000</td>\n",
       "    </tr>\n",
       "    <tr>\n",
       "      <th rowspan=\"8\" valign=\"top\">price_converted</th>\n",
       "      <th>count</th>\n",
       "      <td>403.000000</td>\n",
       "      <td>82.000000</td>\n",
       "    </tr>\n",
       "    <tr>\n",
       "      <th>mean</th>\n",
       "      <td>2.220844</td>\n",
       "      <td>1.975610</td>\n",
       "    </tr>\n",
       "    <tr>\n",
       "      <th>std</th>\n",
       "      <td>0.521538</td>\n",
       "      <td>0.220863</td>\n",
       "    </tr>\n",
       "    <tr>\n",
       "      <th>min</th>\n",
       "      <td>1.000000</td>\n",
       "      <td>1.000000</td>\n",
       "    </tr>\n",
       "    <tr>\n",
       "      <th>25%</th>\n",
       "      <td>2.000000</td>\n",
       "      <td>2.000000</td>\n",
       "    </tr>\n",
       "    <tr>\n",
       "      <th>50%</th>\n",
       "      <td>2.000000</td>\n",
       "      <td>2.000000</td>\n",
       "    </tr>\n",
       "    <tr>\n",
       "      <th>75%</th>\n",
       "      <td>2.000000</td>\n",
       "      <td>2.000000</td>\n",
       "    </tr>\n",
       "    <tr>\n",
       "      <th>max</th>\n",
       "      <td>4.000000</td>\n",
       "      <td>3.000000</td>\n",
       "    </tr>\n",
       "  </tbody>\n",
       "</table>\n",
       "</div>"
      ],
      "text/plain": [
       "City                   Napa Valley   San Diego\n",
       "rating          count   403.000000   82.000000\n",
       "                mean      4.555831    4.530488\n",
       "                std       0.696462    0.594977\n",
       "                min       1.000000    1.000000\n",
       "                25%       4.500000    4.500000\n",
       "                50%       5.000000    4.500000\n",
       "                75%       5.000000    5.000000\n",
       "                max       5.000000    5.000000\n",
       "review_count    count   403.000000   82.000000\n",
       "                mean     85.382134   63.743902\n",
       "                std     195.580404  102.770367\n",
       "                min       1.000000    1.000000\n",
       "                25%       3.000000    7.000000\n",
       "                50%      14.000000   26.000000\n",
       "                75%      73.500000   93.500000\n",
       "                max    2239.000000  626.000000\n",
       "price_converted count   403.000000   82.000000\n",
       "                mean      2.220844    1.975610\n",
       "                std       0.521538    0.220863\n",
       "                min       1.000000    1.000000\n",
       "                25%       2.000000    2.000000\n",
       "                50%       2.000000    2.000000\n",
       "                75%       2.000000    2.000000\n",
       "                max       4.000000    3.000000"
      ]
     },
     "execution_count": 50,
     "metadata": {},
     "output_type": "execute_result"
    }
   ],
   "source": [
    "# Concentrating statistical overview and comparing between cities\n",
    "combined.groupby('City')[['rating','review_count','price_converted']].describe().T"
   ]
  },
  {
   "cell_type": "markdown",
   "metadata": {},
   "source": [
    "**A1:** Based on these statistics, we can take away a few insights:\n",
    "\n",
    "- Despite a large difference between number of ratings and reviews, the average of ratings and reviews are close between the two regions.\n",
    "    - The data is heavily skewed in the case of Napa Valley's reviews - their max number of reviews for one business is nearly 2300, artificially increasing their average.\n",
    "        - Considering the median number of reviews is 14 for Napa Valley and 36 for San Diego, it is more likely that the average for San Diego is realistic, although still affected by outliers.\n",
    "        \n",
    "\n",
    "- The average price is slightly higher in Napa Valley\n",
    "    - The larger number of businesses means more competition; some businesses would need to differentiate their business and appeal to the clientele desiring more expensive wines and experiences."
   ]
  },
  {
   "cell_type": "markdown",
   "metadata": {},
   "source": [
    "## Visualizations"
   ]
  },
  {
   "cell_type": "markdown",
   "metadata": {},
   "source": [
    "We created several visualizations to assist the understanding of the data.\n",
    "1. We started with geospatial maps reflecting the clustering and representing the overall population of each region.\n",
    "2. Next, we reviewed the normalized **Pricing per Region**, indicating the lack of competition in San Diego for a higher-priced winery."
   ]
  },
  {
   "cell_type": "code",
   "execution_count": 45,
   "metadata": {
    "ExecuteTime": {
     "end_time": "2021-05-17T00:22:43.926032Z",
     "start_time": "2021-05-17T00:22:43.853005Z"
    },
    "code_folding": []
   },
   "outputs": [
    {
     "data": {
      "application/vnd.plotly.v1+json": {
       "config": {
        "plotlyServerURL": "https://plot.ly"
       },
       "data": [
        {
         "hovertemplate": "<b>%{hovertext}</b><br><br>Number of Reviews =%{marker.size}<br>Latitude =%{lat}<br>Longitude =%{lon}<br>Price ($) =%{marker.color}<extra></extra>",
         "hovertext": [
          "Hendry Vineyard and Winery",
          "Domaine Carneros",
          "Paraduxx Winery",
          "Jarvis Winery",
          "Cuvaison Estate Wines",
          "Clos du Val",
          "William Hill Estate Winery",
          "White Rock Vineyards",
          "Platypus Wine Tours",
          "Shadybrook Estate Winery",
          "Stag's Leap Wine Cellars",
          "Ashes & Diamonds",
          "Hagafen Cellars",
          "Saintsbury",
          "Stags' Leap Winery",
          "Chimney Rock Winery",
          "Trefethen Family Vineyards",
          "Trinitas Cellars",
          "Verve Napa Valley",
          "Darioush Winery",
          "Piazza Del Dotto",
          "Judd's Hill Winery",
          "Roots Run Deep Winery",
          "Silverado Vineyards",
          "Monticello Vineyards - Corley Family Napa Valley",
          "Kieu Hoang Winery",
          "Signorello Estate",
          "Palmaz Vineyards",
          "Porter Family Vineyards",
          "Cornerstone Cellars",
          "Truchard Vineyards",
          "O'Brien Estate",
          "Laird Family Estate",
          "Etude Wines",
          "Silenus Winery",
          "Kenzo Estate",
          "Napa Sonoma Wine Tasting Driver ®",
          "Goosecross Cellars",
          "Eleven Eleven Winery",
          "Reynolds Family Winery",
          "JaM Cellars",
          "Caldwell Vineyard",
          "Robert Mondavi Winery",
          "Elyse Winery",
          "Fontanella Family Winery",
          "Pine Ridge Vineyards",
          "Trahan Winery",
          "Chandon",
          "Odette Estate",
          "Robert Sinskey Vineyards",
          "Hyde Estate Winery",
          "AvinoDos Wines",
          "Yao Family Wines",
          "Mi Sueno Winery",
          "Cakebread Cellars",
          "McKenzie-Mueller Vineyards and Winery",
          "WineINN & DineINN",
          "Encanto Vineyards",
          "James Cole Winery",
          "Scribe Winery",
          "Ceja Vineyards",
          "Napa Cellars Tasting Room",
          "Baldacci Family Vineyards",
          "Tulocay Winery",
          "Materra, Cunat Family Vineyards",
          "Robert Biale Vineyards",
          "WeWine Napa",
          "Jacuzzi Family Vineyards",
          "Viansa Winery & Marketplace",
          "Quixote Winery",
          "PF Wine Tours",
          "Hudson Ranch",
          "John Anthony Vineyards",
          "Opus One Winery",
          "Whetstone Wine Cellars",
          "Cornerstone Cellars",
          "Far Niente Winery",
          "Silver Oak - Oakville",
          "The Caves at Soda Canyon",
          "Tres Sabores Winery",
          "Inglenook",
          "Grgich Hills Estate",
          "Shafer Vineyards",
          "Laces and Limos",
          "PlumpJack Winery",
          "Wine Country Drivers",
          "Luna Vineyards",
          "Larson Family Winery",
          "Napa Private Tours",
          "Razi Winery",
          "Carneros Della Notte",
          "Mayacamas Vineyards & Winery",
          "Madonna Estate",
          "Aonair Wine",
          "Beaulieu Vineyard",
          "Beau Wine Tours & Limousine Service",
          "Hamel Family Wines",
          "Celani Family Vineyards",
          "St. Supery Estate Vineyards & Winery",
          "The Wine Foundry",
          "B Cellars Vineyards & Winery",
          "Gundlach Bundschu Winery",
          "Madorom Vineyards",
          "Prime Cellars",
          "All Day Wine Tours",
          "Nickel & Nickel",
          "T3 - Tesla Tours & Transportation",
          "Robert Craig Winery Tasting Salon",
          "Holman Cellars",
          "Napa Bee Driven",
          "Gloria Ferrer Winery",
          "Sciandri Family Vineyards",
          "Antica Napa Valley",
          "Italics Winegrowers",
          "Robledo Family Winery",
          "Rocca Family Vineyards Tasting Room",
          "Vine Cliff Winery",
          "Buena Vista Winery",
          "Lewis Cellars",
          "Wine Country Safari",
          "Wine Tour Drivers",
          "Covert Estate",
          "Napa Valley Wine Trolley",
          "Promontory Winery",
          "Havens Winery",
          "Wine Tasting Driver",
          "We Drive Your Car Napa Valley",
          "Oakville Ranch Vineyards",
          "Napa Valley Wine Guides",
          "Small Lot Wine Tours",
          "Maritas Vineyard",
          "Shed Creek Cellar",
          "Cliff Lede Vineyards",
          "Fortunati Vineyards",
          "Stewart Cellars",
          "Groth Vineyards & Winery",
          "Wine Me Away",
          "Bello Family Vineyards",
          "Amuse Bouche Winery",
          "Gargiulo Vineyards",
          "Miner Family Winery",
          "Boyd Family Vineyard",
          "Matthiasson Wines",
          "Oasis by Hoopes",
          "Priest Ranch",
          "Hidden Napa Jeep Wine Tours",
          "Bell Wine Cellars",
          "Reid Family Vineyards",
          "Mira Winery",
          "Smith Devereux Wines",
          "Roy Estate",
          "Screaming Eagle Winery",
          "Ram's Gate Winery",
          "Falcor Winery",
          "The Donum Estate",
          "Let's Roll Wine Tours & Designated Drivers",
          "Hill Family Estate",
          "Ideology Cellars",
          "Ovid Vineyard",
          "Black Cat Vineyard",
          "Realm Cellars",
          "Handwritten Wines",
          "Elkhorn Peak Cellars",
          "Taylor Family Vineyards",
          "Staglin Family Vineyard",
          "Robinson Family Vineyards",
          "Beckstoffer Vineyards",
          "Nicholson Ranch Winery",
          "Suisun Creek Winery",
          "Ancien",
          "Oberon",
          "Vezer Family Vineyard",
          "Intimate Wine Tours",
          "Futo Wines",
          "Spelletich Family Winery",
          "Cardinale Winery",
          "Sodaro Estate Winery",
          "Silver Trident Winery",
          "Paradigm Winery",
          "Harvest Wine Tours",
          "Gamble Family Vineyard",
          "Manny´s Wine Tours",
          "J.Moss",
          "Kale Wines",
          "Hyde de Villaine Wines",
          "Westwood Estate Wine",
          "Own A Napa Vineyard",
          "Harlan Estate",
          "Frias Family Vineyard",
          "RAM Wine Country Tours",
          "Bliss Wine Tours",
          "Elizabeth Spencer Winery",
          "Eagle Eye Winery",
          "Buccella",
          "Tournesol Wine",
          "Rudd Estate",
          "Savor Napa Valley Wine Tours",
          "Napa Valley Chauffeur",
          "Schug Carneros Estate Winery",
          "The Hess Collection Winery",
          "My Private Napa Driver",
          "Farella Vineyard",
          "BOND",
          "Meadowcroft Wines",
          "Quintessential Wines",
          "Napa Valley Wine Country Tours",
          "Hanzell Vineyards",
          "Blackbird Vineyards",
          "Napa Driving Services",
          "Relic Wine Cellars",
          "Dolce Winery",
          "Altamura Winery",
          "Stacy's Wine Tours",
          "Valley Wine Warehouse",
          "Destiny Wine Tours",
          "Napa Valley College Winery",
          "Forthright Winery",
          "Favia Erickson Winegrowers",
          "Thirty-Seven Winery",
          "Vezer Family Vineyard",
          "Ghost Block Estate Wines",
          "J Moss",
          "Sonoma Valley Wine Trolley",
          "Peter Cellars",
          "David Arthur Vineyards",
          "Wooden Valley Winery",
          "Buoncristiani Family Winery",
          "Absolutely Fabulous Tours",
          "Scholium Project",
          "Your Driver In Napa Wine Tours",
          "Dynamic Napa Wine Tours",
          "G V Cellars",
          "Simply Driven",
          "Napa Your Way",
          "Kongsgaard Winery",
          "Rock Creek Vineyard",
          "Winter Wineland",
          "Valley of the Moon Winery",
          "Hope & Grace Wines",
          "Classic Convertible Wine Tours",
          "Auteur Wines",
          "Blankiet Estate",
          "Godspeed Vineyards",
          "Ceja Vineyards Wine Salon",
          "Mountain Terraces Vineyard",
          "Groth Vineyards & Winery",
          "Gemstone Vineyard",
          "Vinoce Vineyards",
          "Napa Valley Wine Tours",
          "Phenomenal Limos & Wine Tours",
          "Patz & Hall Winery",
          "Wine & Dine Events",
          "Keever Vineyards",
          "Vinfolio",
          "Lagier Meredith Vineyard",
          "Roche Winery & Vineyards",
          "Moss Creek Winery",
          "Master Wine Tours",
          "J Gregory Cellars",
          "Fine Wine Tours",
          "Napa Private Driver",
          "Wine Country Confidential",
          "Iconic Wine Tours",
          "Bonneau Wines",
          "Dominus Estate",
          "Designated Drivers Napa Sonoma",
          "Stone Edge Farm Winery",
          "Frazier Winery",
          "Tin Barn Vineyards",
          "Darms Lane Vineyard",
          "Napa Sonoma Wine Guy",
          "Mangels Vineyards",
          "VinRoc Wine Caves",
          "WALT Wines",
          "Wine Tours by Shane",
          "Repris Wines",
          "Petroni Vineyards",
          "Amapola Creek",
          "Homewood Winery",
          "Napa Valley Vics Wine Tours & Car Services",
          "Monticelli Brothers",
          "Robert John Vineyards",
          "Kapcsandy Family Winery",
          "Vinum Cellars",
          "Driven in Napa Valley",
          "Beau Vigne",
          "Jade Mountain Winery",
          "Ilsley Vineyards",
          "Old Bridge Cellars",
          "Perry's Tours",
          "Detert Family Vineyard",
          "Unique Wine Experience",
          "BX of Napa Wines",
          "Chris Phelps Wines",
          "Surh Cellars",
          "Sip California",
          "Crosby Roamann",
          "Random Ridge",
          "CM Destinations & Consulting",
          "Andrew's Tours and Transportation",
          "Galvan Family Cellars",
          "Maroon Wines",
          "Destination Napa Valley",
          "Chanticleer Winery",
          "Kamen Estate Wines",
          "Liparita Cellars",
          "Napa Valley Luxury Wine Tours",
          "Vellum Wines",
          "Canihan Wines",
          "Napa Wine Company",
          "Wine Compliance Alliance",
          "Lake Sonoma Winery",
          "CALNAP Winery Tours & Limousine",
          "Hawkes",
          "Leviathan Winery",
          "Corner 103",
          "Topaz Wines",
          "Rutas De Napa Wine Tours",
          "EMBRAZEN",
          "Lail Vineyards",
          "Sonoma Private Tours",
          "Vine Tours Luxury Transportation",
          "Chiarello Family Vineyards",
          "Agajanian Vineyards & Wine Company",
          "Oakville Cross",
          "Lindstrom Wines",
          "PUNCH Vineyards",
          "Napa Driver Tours",
          "Noah Vineyards",
          "Stagecoach Vineyard",
          "Elan Vineyards",
          "Bedrock Wine Company",
          "Last Bottle Wines",
          "Rancho Maria Wines",
          "CINNAMON'S WINE TOURS",
          "Amicis Tours",
          "Entre Nous Wines",
          "Napa Native Wine Tours",
          "Justice Grace Vineyards",
          "Eighth Street Wineries Open House",
          "Napa Limousine Inc",
          "Atlas Peak",
          "Lonnie's Wine Tours & Transportation",
          "WineZooloo",
          "Dog-Friendly Wine Tours",
          "Wine Tasting HdV",
          "Clarbec Wines",
          "Bacchus Wine Tours & Transportation LLC",
          "Three Sticks Wines",
          "Bardessono Vineyards And Wines",
          "Food & Vine Inc",
          "Spoto Wines",
          "Rutherford Appellation Wineries Passport Weekend",
          "Selene Wines",
          "Destination Drivers Napa & Sonoma",
          "Winery Sixteen 600",
          "Mora Estate",
          "Howell At the Moon",
          "Vino Valley Tours",
          "Troika Wines",
          "B. Kosuge Wines",
          "Napa Terroir Wine Tours",
          "Coho Wines",
          "Valet of the Moon Wine Tours",
          "Grapeline Wine Tours",
          "Gourmet Food & Wine Tours",
          "Consort Wine Tours",
          "Don Sebastiani & Sons",
          "Peter Franus Wines",
          "Alluvium Wine Tours",
          "Rosalynd Winery",
          "Napa Valley Excursions & Wine Tours",
          "Sojourn Cellars",
          "Shifflett Estate",
          "Page Wine Cellars",
          "Bump Wine Cellars",
          "Signature Transportation of Napa Valley",
          "Valley of the Moon Vintage Festival",
          "L'Uvaggio di Giácomo",
          "Swanson Wine Tours",
          "Oro Puro Vineyards",
          "Sonoma Plaza Wine Experience",
          "Zina Hyde Cunningham Winery",
          "California Wine Tour Services",
          "West Wine Tours",
          "David Arthur Vineyards",
          "Calmere Estate Winery",
          "Ez Wine Tours",
          "Ultimate Wine Tours",
          "Pina Vineyard Management",
          "Napa Wine Tours",
          "G Wine Cellars",
          "Valley Wine Tours",
          "Rose Wine Tours",
          "The Napa Card",
          "Tom Scott Vineyards",
          "Barrel Stop",
          "Modus Operandi Cellars",
          "Andretti Winery",
          "Lionstone International",
          "Napa Vinyards",
          "Cook Vinyard Management",
          "Top It Off Bottling"
         ],
         "lat": [
          38.32168,
          38.25553421701142,
          38.43548,
          38.35701,
          38.251176,
          38.3872498,
          38.3555817630865,
          38.37768300000001,
          38.22830820000001,
          38.308954,
          38.3983978,
          38.34425,
          38.364751,
          38.24996,
          38.415754,
          38.390201,
          38.35623742236329,
          38.2471,
          38.3177642822266,
          38.36752,
          38.422,
          38.3393261000088,
          38.297016,
          38.412273,
          38.359204,
          38.26739,
          38.37017,
          38.323297,
          38.2890722,
          38.29734000000001,
          38.289128186648,
          38.345885353769496,
          38.353977203369105,
          38.245847,
          38.363672,
          38.354502,
          38.2587139,
          38.4266242980957,
          38.3249893,
          38.3552406,
          38.297435,
          38.2869459,
          38.441422,
          38.38361,
          38.312613,
          38.4047399,
          38.29745,
          38.3963745949975,
          38.40556,
          38.425414,
          38.253863,
          38.25867,
          38.26787567138671,
          38.2598016,
          38.447904,
          38.23234,
          38.29204,
          38.30111,
          38.37071513224139,
          38.2712839,
          38.23562255391007,
          38.421192,
          38.418323571036034,
          38.2979965209961,
          38.3612027,
          38.35606948287929,
          38.32151629999999,
          38.21471,
          38.20847,
          38.4181009125607,
          38.31865,
          38.264949,
          38.2975791,
          38.4414391100535,
          38.3393115,
          38.2474144,
          38.424479,
          38.4404422,
          38.401433,
          38.461548,
          38.458392,
          38.465419,
          38.419881,
          38.295639,
          38.455434,
          38.29695,
          38.34508,
          38.2361999,
          38.28276,
          38.349254,
          38.2575999,
          38.36518,
          38.255641937255895,
          38.3177642822266,
          38.46016,
          38.296694,
          38.3458142305308,
          38.334573,
          38.4551318502323,
          38.26033020000001,
          38.449864,
          38.27853,
          38.340156,
          38.2973361393272,
          38.32923889160156,
          38.443243,
          38.2968914,
          38.30657,
          38.259432,
          38.291168,
          38.223832,
          38.281436,
          38.427937,
          38.3137,
          38.24739263290604,
          38.23821,
          38.447107,
          38.299502,
          38.351246,
          38.305503,
          38.291542053222656,
          38.307445,
          38.296725490059295,
          38.4208658,
          38.301274,
          38.3364765,
          38.3088677,
          38.4610071602159,
          38.3841682813529,
          38.33684,
          38.302154,
          38.338405360536775,
          38.42407,
          38.34905,
          38.406152,
          38.44922,
          38.38326,
          38.453556060791,
          38.30039,
          38.453315,
          38.462719,
          38.3612027,
          38.33861,
          38.38795716301858,
          38.400084,
          38.31832,
          38.389816,
          38.3137,
          38.38732,
          38.297448,
          38.36585,
          38.436927795410206,
          38.1741152,
          38.25603,
          38.231313,
          38.2968,
          38.4011459350586,
          38.3638202476272,
          38.46344000000001,
          38.28149000000001,
          38.400333,
          38.4001796,
          38.228224,
          38.2586755,
          38.442506,
          38.41086361969035,
          38.464284,
          38.255251261885,
          38.264721,
          38.297691,
          38.2237,
          38.2940805917162,
          38.2830221,
          38.416192,
          38.253694,
          38.428591,
          38.315,
          38.400497,
          38.42056,
          38.3066965,
          38.429147,
          38.291168,
          38.2585653718793,
          38.291168,
          38.325776,
          38.2915583,
          38.2575999,
          38.436927795410206,
          38.3348546,
          38.398939,
          38.38326,
          38.458979181419295,
          38.341023,
          38.39829,
          38.2965803877752,
          38.4578819274902,
          38.3213996887207,
          38.3233943,
          38.233022670015295,
          38.190715,
          38.3077323,
          38.312621,
          38.43462,
          38.2272243158716,
          38.29735,
          38.2136164,
          38.31343002237461,
          38.3606279211163,
          38.3214,
          38.411912,
          38.4240773,
          38.364395,
          38.195022,
          38.2104,
          38.33656,
          38.274349,
          38.33031,
          38.29348,
          38.150444,
          38.285969,
          38.43597877573925,
          38.258674,
          38.26046,
          38.2578964073869,
          38.465325,
          38.27656,
          38.40336,
          38.3170536,
          38.26635,
          38.3177642822266,
          38.29669000000001,
          38.24296221671643,
          38.338537,
          38.20490984621871,
          38.436451,
          38.268109,
          38.293415,
          38.2931453,
          38.402992248535206,
          38.2975381,
          38.29397897266821,
          38.400724200000006,
          38.38908,
          38.2460468131242,
          38.35700900000001,
          38.3687531,
          38.40245,
          38.43888,
          38.3177642822266,
          38.31918579999999,
          38.26397,
          38.4348204,
          38.40245,
          38.220461,
          38.3747445,
          38.24168,
          38.44593,
          38.3581390380859,
          38.3349609,
          38.2895385,
          38.297370910644496,
          38.23927688598629,
          38.2798408,
          38.2595709,
          38.4048461914062,
          38.3288089,
          38.2890739440918,
          38.38326,
          38.25905584491571,
          38.36385,
          38.291168,
          38.2646811628515,
          38.42648,
          38.294342041015604,
          38.31865,
          38.345924,
          38.3426659738006,
          38.33422,
          38.24556,
          38.15215301513671,
          38.33379,
          38.297093,
          38.40245,
          38.223094,
          38.3177642822266,
          38.4065716,
          38.21761,
          38.425524,
          38.2950233,
          38.25877,
          38.428924,
          38.32923889160156,
          38.3177642822266,
          38.3029507537766,
          38.31832,
          38.291859,
          38.2603912353516,
          38.3702,
          38.297370910644496,
          38.3177642822266,
          38.205394,
          38.3180046081543,
          38.31777,
          38.3899895846844,
          38.2915849246945,
          38.436786,
          38.342125,
          38.31364,
          38.273313,
          38.4363635,
          38.2965202331543,
          38.29312,
          38.310683,
          38.294241,
          38.4366,
          38.291935,
          38.33738,
          38.3177642822266,
          38.22224,
          38.46024,
          38.2827606201172,
          38.3214,
          38.401611096057,
          38.246978759765604,
          38.44308,
          38.407973,
          38.293898,
          38.17406,
          38.390735,
          38.4379,
          38.446128845214794,
          38.29323382456121,
          38.21843719482421,
          38.2924731,
          38.3078,
          38.38326,
          38.432011,
          38.33653,
          38.242694,
          38.2621651,
          38.292613,
          38.31364,
          38.2930030822754,
          38.3113199134266,
          38.29737,
          38.326141357421896,
          38.28882,
          38.2726044,
          38.2621635,
          38.4015781,
          38.2870740762265,
          38.436927795410206,
          38.46024,
          38.31777,
          38.29188,
          38.290421,
          38.294652,
          38.2975381,
          38.3071213,
          38.245232,
          38.29695,
          38.3210506945237,
          38.29695,
          38.2890739440918,
          38.2825,
          38.2927444,
          38.4019490823782,
          38.29187,
          38.299079895019496,
          38.3177642822266,
          38.266387741610366,
          38.3186492919922,
          38.2913799,
          38.4366,
          38.2938649,
          38.2915015,
          38.3221893310547,
          38.293415,
          38.29695,
          38.28691,
          38.29695,
          38.291919708252,
          38.2921374,
          38.27259,
          38.28664000000001,
          38.46024,
          38.230914,
          38.31777,
          38.2676277160645,
          38.46518,
          38.32322,
          38.3130398821026,
          38.29188,
          38.28691,
          38.31364,
          38.425273,
          38.31364,
          38.29885864257809,
          38.32151629999999,
          38.262062,
          38.38326,
          38.2862614,
          38.26248
         ],
         "legendgroup": "",
         "lon": [
          -122.34481,
          -122.3513909116566,
          -122.35143,
          -122.21362,
          -122.347084,
          -122.3125063,
          -122.270102462921,
          -122.286565,
          -122.2539009,
          -122.248219,
          -122.32439270000002,
          -122.32628400000002,
          -122.289435,
          -122.32538,
          -122.318884,
          -122.313843,
          -122.32299104997801,
          -122.274639,
          -122.29174041747999,
          -122.29424,
          -122.38811,
          -122.27976149046002,
          -122.291339,
          -122.336858,
          -122.3106703,
          -122.3487,
          -122.29481,
          -122.235727,
          -122.2273244,
          -122.28893,
          -122.317485809326,
          -122.33976825643451,
          -122.335693359375,
          -122.3150228,
          -122.339213,
          -122.204136,
          -122.2717063,
          -122.352890014648,
          -122.286911,
          -122.2869398,
          -122.2893433,
          -122.2358185,
          -122.409546,
          -122.35451,
          -122.373269,
          -122.33277,
          -122.28838,
          -122.364698011115,
          -122.32773,
          -122.337002,
          -122.330619,
          -122.2736,
          -122.24878692627001,
          -122.2720075,
          -122.409682,
          -122.33191,
          -122.29214,
          -122.282289,
          -122.298978236493,
          -122.4230626,
          -122.31443098305695,
          -122.390177,
          -122.337243,
          -122.25869750976601,
          -122.3118133,
          -122.30843067169201,
          -122.30410790000002,
          -122.453885,
          -122.451805,
          -122.323620009856,
          -122.29994,
          -122.365935,
          -122.2891414,
          -122.39972029669902,
          -122.2623851,
          -122.27207659999998,
          -122.404132,
          -122.3809788,
          -122.30133,
          -122.444536,
          -122.423796,
          -122.428989,
          -122.326894,
          -122.2999753,
          -122.374111,
          -122.2868,
          -122.28383999999998,
          -122.4483,
          -122.27123,
          -122.283146,
          -122.339651,
          -122.42326,
          -122.341018676758,
          -122.29174041747999,
          -122.423291,
          -122.2924582,
          -122.494017806885,
          -122.293094,
          -122.41456055411601,
          -122.2742081,
          -122.373264,
          -122.42058,
          -122.281946,
          -122.28831382142599,
          -122.2959213256836,
          -122.40676299999998,
          -122.2889887,
          -122.28252,
          -122.274448,
          -122.286279,
          -122.472276,
          -122.23796000000002,
          -122.274933,
          -122.250615,
          -122.48350054331848,
          -122.26942,
          -122.350549,
          -122.421942,
          -122.307404,
          -122.2915887,
          -122.28694152832031,
          -122.247464,
          -122.289325989441,
          -122.4149621,
          -122.2874659,
          -122.3229962,
          -122.2917507,
          -122.358888437234,
          -122.285937502441,
          -122.31545,
          -122.249869,
          -122.101645,
          -122.344787,
          -122.30949,
          -122.3664433,
          -122.379524,
          -122.31306,
          -122.414756774902,
          -122.286039,
          -122.366836,
          -122.371093,
          -122.3118133,
          -122.35076,
          -122.34952523506253,
          -122.359028,
          -122.29177,
          -122.345741,
          -122.34831,
          -122.34847,
          -122.289345,
          -122.27873,
          -122.402816772461,
          -122.4504982,
          -122.276279,
          -122.402866,
          -122.286,
          -122.359878540039,
          -122.33911094477502,
          -122.34397,
          -122.247714,
          -122.33066399999998,
          -122.3593313,
          -122.219554,
          -122.2716831,
          -122.424445,
          -122.31935492416466,
          -122.395302,
          -122.3913731858,
          -122.119915,
          -122.235151,
          -122.26617,
          -122.12020345369,
          -122.2712837,
          -122.412366,
          -122.275972,
          -122.390506,
          -122.23313,
          -122.360031,
          -122.39378,
          -122.288272,
          -122.386892,
          -122.286279,
          -122.273029536009,
          -122.286064423279,
          -122.2830894,
          -122.4574775,
          -122.33965,
          -122.402816772461,
          -122.3199497,
          -122.373129,
          -122.31306,
          -122.42206067842599,
          -122.125888,
          -122.37058,
          -122.223340272903,
          -122.366798400879,
          -122.304061889648,
          -122.3018681,
          -122.47125148773199,
          -122.270332,
          -122.3058297,
          -122.22863999999998,
          -122.40057,
          -122.457089424133,
          -122.28764,
          -122.2533803,
          -122.462327066159,
          -122.31809463568399,
          -122.30406,
          -122.293303,
          -122.402102,
          -122.1751742,
          -122.24115,
          -122.25724,
          -122.2587,
          -122.277736,
          -122.34389,
          -122.24972,
          -122.4489975,
          -122.107518,
          -122.40191144110308,
          -122.273574,
          -122.44134,
          -122.45004057884199,
          -122.345735,
          -122.112879,
          -122.30048,
          -122.3019206,
          -122.33292,
          -122.29174041747999,
          -122.29246,
          -122.1690453203512,
          -122.312223,
          -122.115153021875,
          -122.2475128,
          -122.163499,
          -122.470589,
          -122.4593959,
          -122.36212158203101,
          -122.286865,
          -122.458705292053,
          -122.3837445,
          -122.43917,
          -122.42282741057501,
          -122.466577,
          -122.341313,
          -122.36106,
          -122.48222,
          -122.29174041747999,
          -122.310113,
          -122.43761,
          -122.2958469,
          -122.36106,
          -122.261675,
          -122.3879989,
          -122.48098,
          -122.19492,
          -122.263832092285,
          -122.3201294,
          -122.2915722,
          -122.29046630859399,
          -122.33062744140601,
          -122.256173,
          -122.4395611,
          -122.37353515625,
          -122.3365829,
          -122.39685821533199,
          -122.31306,
          -122.434944500494,
          -122.35121,
          -122.286279,
          -122.11363149811199,
          -122.24922,
          -122.45832824707001,
          -122.29994,
          -122.458795,
          -122.47730255127001,
          -122.48064,
          -122.42121000000002,
          -122.265014648438,
          -122.32668,
          -122.288957,
          -122.36106,
          -122.263104,
          -122.29174041747999,
          -122.3670058,
          -122.26923,
          -122.328653,
          -122.2938891,
          -122.24879,
          -122.417375,
          -122.2959213256836,
          -122.29174041747999,
          -122.314904261924,
          -122.29177,
          -122.4580356,
          -122.274131774902,
          -122.461713,
          -122.29046630859399,
          -122.29174041747999,
          -122.142333,
          -122.244613647461,
          -122.29174,
          -122.36078068614,
          -122.45612814245001,
          -122.4027311,
          -122.32106,
          -122.29476,
          -122.43121200000002,
          -122.4023528,
          -122.2880859375,
          -122.45937,
          -122.298832,
          -122.458823,
          -122.40259,
          -122.459152,
          -122.31894,
          -122.29174041747999,
          -122.26713,
          -122.42023,
          -122.27123260497999,
          -122.30406,
          -122.362370916077,
          -122.276596069336,
          -122.38796,
          -122.32692,
          -122.296768,
          -122.25726,
          -122.346252,
          -122.2956,
          -122.24951171875,
          -122.456364071755,
          -122.27011108398399,
          -122.4591225,
          -122.30571,
          -122.31306,
          -122.392476,
          -122.32299,
          -122.422773,
          -122.4399338,
          -122.301467,
          -122.29476,
          -122.282814025879,
          -122.487856708467,
          -122.29047,
          -122.282272338867,
          -122.49469,
          -122.4291397,
          -122.4399347,
          -122.3608105,
          -122.28713518551399,
          -122.402816772461,
          -122.42023,
          -122.29174,
          -122.45726,
          -122.459446,
          -122.457418,
          -122.286865,
          -122.3335037,
          -122.422307,
          -122.2868,
          -122.293578274548,
          -122.2868,
          -122.39685821533199,
          -122.45971000000002,
          -122.4570054,
          -122.36280441284201,
          -122.45988,
          -122.28537750244101,
          -122.29174041747999,
          -122.12993134347964,
          -122.299942016602,
          -122.45576,
          -122.40259,
          -122.30022,
          -122.45839,
          -122.28855133056601,
          -122.470589,
          -122.2868,
          -122.46547,
          -122.2868,
          -122.45630645752001,
          -122.45652040000002,
          -122.43762,
          -122.46553,
          -122.42023,
          -122.348861,
          -122.29174,
          -122.48998260497999,
          -122.37511,
          -122.30206,
          -122.234573364258,
          -122.45726,
          -122.46547,
          -122.29476,
          -122.346766,
          -122.29476,
          -122.28521728515601,
          -122.30410790000002,
          -122.44203600000002,
          -122.31306,
          -122.434893,
          -122.44207
         ],
         "marker": {
          "color": [
           2,
           2,
           2,
           3,
           2,
           2,
           2,
           2,
           2,
           2,
           3,
           2,
           2,
           2,
           3,
           3,
           2,
           2,
           2,
           3,
           4,
           2,
           2,
           2,
           2,
           2,
           2,
           3,
           3,
           2,
           2,
           2,
           2,
           2,
           2,
           3,
           2,
           2,
           3,
           2,
           2,
           3,
           2,
           2,
           2,
           3,
           2,
           2,
           2,
           3,
           2,
           2,
           2,
           2,
           2,
           2,
           2,
           2,
           3,
           2,
           2,
           2,
           2,
           2,
           2,
           2,
           2,
           2,
           2,
           2,
           2,
           2,
           2,
           4,
           2,
           2,
           3,
           3,
           3,
           2,
           3,
           2,
           3,
           2,
           2,
           2,
           2,
           2,
           2,
           2,
           2,
           4,
           2,
           3,
           2,
           2,
           3,
           3,
           2,
           1,
           2,
           2,
           2,
           2,
           2,
           3,
           2,
           2,
           2,
           2,
           2,
           3,
           3,
           3,
           2,
           2,
           4,
           2,
           4,
           2,
           2,
           2,
           2,
           4,
           3,
           2,
           2,
           2,
           2,
           2,
           3,
           2,
           2,
           2,
           2,
           2,
           2,
           2,
           3,
           2,
           2,
           2,
           2,
           2,
           2,
           2,
           2,
           2,
           2,
           2,
           4,
           4,
           3,
           2,
           3,
           2,
           2,
           2,
           3,
           2,
           3,
           3,
           2,
           3,
           3,
           2,
           2,
           2,
           2,
           2,
           2,
           2,
           2,
           4,
           3,
           4,
           2,
           2,
           2,
           2,
           3,
           2,
           2,
           2,
           3,
           2,
           2,
           4,
           2,
           2,
           2,
           2,
           2,
           4,
           2,
           3,
           2,
           2,
           2,
           2,
           2,
           2,
           3,
           2,
           2,
           2,
           3,
           3,
           2,
           2,
           2,
           3,
           2,
           2,
           2,
           2,
           2,
           2,
           2,
           2,
           2,
           2,
           2,
           2,
           3,
           2,
           3,
           2,
           2,
           2,
           2,
           2,
           2,
           2,
           2,
           2,
           1,
           2,
           2,
           2,
           3,
           2,
           2,
           2,
           4,
           3,
           4,
           2,
           2,
           2,
           3,
           2,
           2,
           2,
           2,
           2,
           3,
           2,
           2,
           2,
           2,
           2,
           2,
           2,
           4,
           2,
           2,
           2,
           2,
           2,
           2,
           2,
           2,
           2,
           2,
           3,
           2,
           2,
           2,
           2,
           2,
           2,
           3,
           2,
           2,
           3,
           3,
           3,
           2,
           2,
           2,
           2,
           2,
           2,
           2,
           1,
           2,
           2,
           2,
           2,
           2,
           2,
           2,
           2,
           3,
           2,
           2,
           2,
           2,
           2,
           2,
           2,
           2,
           2,
           2,
           2,
           2,
           2,
           2,
           2,
           2,
           2,
           2,
           2,
           2,
           2,
           2,
           2,
           2,
           3,
           2,
           2,
           3,
           2,
           2,
           2,
           3,
           2,
           3,
           2,
           2,
           2,
           2,
           2,
           2,
           3,
           2,
           2,
           2,
           2,
           2,
           3,
           2,
           2,
           2,
           2,
           2,
           2,
           2,
           2,
           2,
           2,
           2,
           2,
           2,
           2,
           2,
           2,
           2,
           2,
           2,
           2,
           2,
           2,
           2,
           2,
           2,
           1,
           2,
           2,
           2,
           2,
           2,
           2,
           2,
           2,
           2,
           2,
           2,
           2,
           2,
           2,
           2,
           2,
           2,
           4,
           2,
           2,
           2,
           2,
           2,
           2,
           2
          ],
          "coloraxis": "coloraxis",
          "size": [
           658,
           2239,
           373,
           209,
           327,
           328,
           186,
           55,
           895,
           180,
           487,
           181,
           459,
           136,
           223,
           316,
           351,
           205,
           41,
           554,
           74,
           275,
           55,
           312,
           128,
           88,
           142,
           125,
           57,
           178,
           85,
           187,
           163,
           176,
           121,
           68,
           126,
           387,
           36,
           127,
           161,
           49,
           1099,
           117,
           52,
           307,
           99,
           1449,
           78,
           338,
           4,
           25,
           81,
           34,
           788,
           56,
           5,
           3,
           130,
           322,
           79,
           376,
           112,
           14,
           43,
           125,
           10,
           821,
           624,
           61,
           55,
           4,
           140,
           465,
           87,
           7,
           162,
           489,
           10,
           126,
           367,
           590,
           45,
           8,
           179,
           23,
           230,
           566,
           60,
           36,
           16,
           11,
           173,
           63,
           413,
           349,
           97,
           2,
           461,
           10,
           157,
           567,
           3,
           31,
           24,
           131,
           24,
           54,
           38,
           55,
           836,
           7,
           8,
           14,
           217,
           12,
           45,
           450,
           13,
           9,
           72,
           4,
           143,
           15,
           8,
           18,
           12,
           3,
           56,
           50,
           9,
           2,
           226,
           14,
           49,
           57,
           19,
           1,
           3,
           21,
           239,
           9,
           1,
           15,
           171,
           23,
           123,
           27,
           6,
           1,
           1,
           6,
           441,
           70,
           33,
           13,
           160,
           1,
           12,
           13,
           11,
           49,
           12,
           17,
           13,
           21,
           3,
           320,
           1,
           4,
           2,
           81,
           34,
           4,
           18,
           48,
           13,
           64,
           53,
           7,
           19,
           56,
           3,
           1,
           22,
           106,
           1,
           5,
           6,
           13,
           18,
           213,
           7,
           3,
           10,
           18,
           6,
           19,
           167,
           7,
           3,
           7,
           3,
           121,
           2,
           214,
           85,
           10,
           4,
           10,
           1,
           12,
           8,
           1,
           23,
           3,
           1,
           6,
           2,
           108,
           14,
           4,
           100,
           73,
           18,
           130,
           5,
           14,
           5,
           25,
           33,
           73,
           21,
           27,
           1,
           15,
           11,
           129,
           171,
           20,
           18,
           11,
           2,
           32,
           1,
           2,
           4,
           1,
           8,
           4,
           67,
           7,
           20,
           2,
           4,
           19,
           1,
           7,
           4,
           8,
           21,
           15,
           3,
           15,
           6,
           50,
           8,
           8,
           83,
           2,
           4,
           7,
           1,
           151,
           8,
           60,
           96,
           1,
           116,
           7,
           1,
           2,
           5,
           1,
           5,
           33,
           1,
           2,
           2,
           8,
           3,
           12,
           5,
           1,
           2,
           1,
           5,
           1,
           3,
           2,
           9,
           1,
           5,
           2,
           54,
           2,
           6,
           1,
           6,
           39,
           1,
           56,
           15,
           71,
           1,
           113,
           1,
           4,
           1,
           2,
           1,
           3,
           6,
           1,
           1,
           1,
           1,
           21,
           2,
           2,
           5,
           19,
           54,
           70,
           4,
           17,
           2,
           13,
           13,
           2,
           12,
           1,
           5,
           2,
           3,
           2,
           1,
           13,
           1,
           1,
           1,
           4,
           2,
           1,
           15,
           24,
           1,
           2,
           2,
           9,
           1,
           8,
           2,
           33,
           27,
           62,
           3,
           1,
           1,
           4,
           5,
           10,
           62,
           1,
           6,
           91,
           6,
           1,
           1,
           17,
           1,
           1,
           36,
           4,
           14,
           1,
           68,
           3,
           4,
           1,
           1,
           1,
           42,
           7,
           6,
           1,
           1,
           1,
           311,
           1,
           1,
           1,
           2
          ],
          "sizemode": "area",
          "sizeref": 9.95111111111111
         },
         "mode": "markers",
         "name": "",
         "showlegend": false,
         "subplot": "mapbox",
         "type": "scattermapbox"
        }
       ],
       "layout": {
        "coloraxis": {
         "cmax": 3,
         "cmin": 0,
         "colorbar": {
          "title": {
           "text": "Price ($) "
          }
         },
         "colorscale": [
          [
           0,
           "rgb(255,255,255)"
          ],
          [
           0.125,
           "rgb(240,240,240)"
          ],
          [
           0.25,
           "rgb(217,217,217)"
          ],
          [
           0.375,
           "rgb(189,189,189)"
          ],
          [
           0.5,
           "rgb(150,150,150)"
          ],
          [
           0.625,
           "rgb(115,115,115)"
          ],
          [
           0.75,
           "rgb(82,82,82)"
          ],
          [
           0.875,
           "rgb(37,37,37)"
          ],
          [
           1,
           "rgb(0,0,0)"
          ]
         ]
        },
        "height": 500,
        "legend": {
         "itemsizing": "constant",
         "tracegroupgap": 0
        },
        "mapbox": {
         "accesstoken": "pk.eyJ1IjoiYm1jY2FydHk1MDUiLCJhIjoiY2tvbnJvdnFkMDNuZzJ2cHBwbTd1d2dibiJ9.m6-cNXAgqZ4WZZUWhoTjKA",
         "center": {
          "lat": 38.3295241953953,
          "lon": -122.3340846822716
         },
         "domain": {
          "x": [
           0,
           1
          ],
          "y": [
           0,
           1
          ]
         },
         "style": "light",
         "zoom": 8.75
        },
        "template": {
         "data": {
          "bar": [
           {
            "error_x": {
             "color": "#2a3f5f"
            },
            "error_y": {
             "color": "#2a3f5f"
            },
            "marker": {
             "line": {
              "color": "#E5ECF6",
              "width": 0.5
             }
            },
            "type": "bar"
           }
          ],
          "barpolar": [
           {
            "marker": {
             "line": {
              "color": "#E5ECF6",
              "width": 0.5
             }
            },
            "type": "barpolar"
           }
          ],
          "carpet": [
           {
            "aaxis": {
             "endlinecolor": "#2a3f5f",
             "gridcolor": "white",
             "linecolor": "white",
             "minorgridcolor": "white",
             "startlinecolor": "#2a3f5f"
            },
            "baxis": {
             "endlinecolor": "#2a3f5f",
             "gridcolor": "white",
             "linecolor": "white",
             "minorgridcolor": "white",
             "startlinecolor": "#2a3f5f"
            },
            "type": "carpet"
           }
          ],
          "choropleth": [
           {
            "colorbar": {
             "outlinewidth": 0,
             "ticks": ""
            },
            "type": "choropleth"
           }
          ],
          "contour": [
           {
            "colorbar": {
             "outlinewidth": 0,
             "ticks": ""
            },
            "colorscale": [
             [
              0,
              "#0d0887"
             ],
             [
              0.1111111111111111,
              "#46039f"
             ],
             [
              0.2222222222222222,
              "#7201a8"
             ],
             [
              0.3333333333333333,
              "#9c179e"
             ],
             [
              0.4444444444444444,
              "#bd3786"
             ],
             [
              0.5555555555555556,
              "#d8576b"
             ],
             [
              0.6666666666666666,
              "#ed7953"
             ],
             [
              0.7777777777777778,
              "#fb9f3a"
             ],
             [
              0.8888888888888888,
              "#fdca26"
             ],
             [
              1,
              "#f0f921"
             ]
            ],
            "type": "contour"
           }
          ],
          "contourcarpet": [
           {
            "colorbar": {
             "outlinewidth": 0,
             "ticks": ""
            },
            "type": "contourcarpet"
           }
          ],
          "heatmap": [
           {
            "colorbar": {
             "outlinewidth": 0,
             "ticks": ""
            },
            "colorscale": [
             [
              0,
              "#0d0887"
             ],
             [
              0.1111111111111111,
              "#46039f"
             ],
             [
              0.2222222222222222,
              "#7201a8"
             ],
             [
              0.3333333333333333,
              "#9c179e"
             ],
             [
              0.4444444444444444,
              "#bd3786"
             ],
             [
              0.5555555555555556,
              "#d8576b"
             ],
             [
              0.6666666666666666,
              "#ed7953"
             ],
             [
              0.7777777777777778,
              "#fb9f3a"
             ],
             [
              0.8888888888888888,
              "#fdca26"
             ],
             [
              1,
              "#f0f921"
             ]
            ],
            "type": "heatmap"
           }
          ],
          "heatmapgl": [
           {
            "colorbar": {
             "outlinewidth": 0,
             "ticks": ""
            },
            "colorscale": [
             [
              0,
              "#0d0887"
             ],
             [
              0.1111111111111111,
              "#46039f"
             ],
             [
              0.2222222222222222,
              "#7201a8"
             ],
             [
              0.3333333333333333,
              "#9c179e"
             ],
             [
              0.4444444444444444,
              "#bd3786"
             ],
             [
              0.5555555555555556,
              "#d8576b"
             ],
             [
              0.6666666666666666,
              "#ed7953"
             ],
             [
              0.7777777777777778,
              "#fb9f3a"
             ],
             [
              0.8888888888888888,
              "#fdca26"
             ],
             [
              1,
              "#f0f921"
             ]
            ],
            "type": "heatmapgl"
           }
          ],
          "histogram": [
           {
            "marker": {
             "colorbar": {
              "outlinewidth": 0,
              "ticks": ""
             }
            },
            "type": "histogram"
           }
          ],
          "histogram2d": [
           {
            "colorbar": {
             "outlinewidth": 0,
             "ticks": ""
            },
            "colorscale": [
             [
              0,
              "#0d0887"
             ],
             [
              0.1111111111111111,
              "#46039f"
             ],
             [
              0.2222222222222222,
              "#7201a8"
             ],
             [
              0.3333333333333333,
              "#9c179e"
             ],
             [
              0.4444444444444444,
              "#bd3786"
             ],
             [
              0.5555555555555556,
              "#d8576b"
             ],
             [
              0.6666666666666666,
              "#ed7953"
             ],
             [
              0.7777777777777778,
              "#fb9f3a"
             ],
             [
              0.8888888888888888,
              "#fdca26"
             ],
             [
              1,
              "#f0f921"
             ]
            ],
            "type": "histogram2d"
           }
          ],
          "histogram2dcontour": [
           {
            "colorbar": {
             "outlinewidth": 0,
             "ticks": ""
            },
            "colorscale": [
             [
              0,
              "#0d0887"
             ],
             [
              0.1111111111111111,
              "#46039f"
             ],
             [
              0.2222222222222222,
              "#7201a8"
             ],
             [
              0.3333333333333333,
              "#9c179e"
             ],
             [
              0.4444444444444444,
              "#bd3786"
             ],
             [
              0.5555555555555556,
              "#d8576b"
             ],
             [
              0.6666666666666666,
              "#ed7953"
             ],
             [
              0.7777777777777778,
              "#fb9f3a"
             ],
             [
              0.8888888888888888,
              "#fdca26"
             ],
             [
              1,
              "#f0f921"
             ]
            ],
            "type": "histogram2dcontour"
           }
          ],
          "mesh3d": [
           {
            "colorbar": {
             "outlinewidth": 0,
             "ticks": ""
            },
            "type": "mesh3d"
           }
          ],
          "parcoords": [
           {
            "line": {
             "colorbar": {
              "outlinewidth": 0,
              "ticks": ""
             }
            },
            "type": "parcoords"
           }
          ],
          "pie": [
           {
            "automargin": true,
            "type": "pie"
           }
          ],
          "scatter": [
           {
            "marker": {
             "colorbar": {
              "outlinewidth": 0,
              "ticks": ""
             }
            },
            "type": "scatter"
           }
          ],
          "scatter3d": [
           {
            "line": {
             "colorbar": {
              "outlinewidth": 0,
              "ticks": ""
             }
            },
            "marker": {
             "colorbar": {
              "outlinewidth": 0,
              "ticks": ""
             }
            },
            "type": "scatter3d"
           }
          ],
          "scattercarpet": [
           {
            "marker": {
             "colorbar": {
              "outlinewidth": 0,
              "ticks": ""
             }
            },
            "type": "scattercarpet"
           }
          ],
          "scattergeo": [
           {
            "marker": {
             "colorbar": {
              "outlinewidth": 0,
              "ticks": ""
             }
            },
            "type": "scattergeo"
           }
          ],
          "scattergl": [
           {
            "marker": {
             "colorbar": {
              "outlinewidth": 0,
              "ticks": ""
             }
            },
            "type": "scattergl"
           }
          ],
          "scattermapbox": [
           {
            "marker": {
             "colorbar": {
              "outlinewidth": 0,
              "ticks": ""
             }
            },
            "type": "scattermapbox"
           }
          ],
          "scatterpolar": [
           {
            "marker": {
             "colorbar": {
              "outlinewidth": 0,
              "ticks": ""
             }
            },
            "type": "scatterpolar"
           }
          ],
          "scatterpolargl": [
           {
            "marker": {
             "colorbar": {
              "outlinewidth": 0,
              "ticks": ""
             }
            },
            "type": "scatterpolargl"
           }
          ],
          "scatterternary": [
           {
            "marker": {
             "colorbar": {
              "outlinewidth": 0,
              "ticks": ""
             }
            },
            "type": "scatterternary"
           }
          ],
          "surface": [
           {
            "colorbar": {
             "outlinewidth": 0,
             "ticks": ""
            },
            "colorscale": [
             [
              0,
              "#0d0887"
             ],
             [
              0.1111111111111111,
              "#46039f"
             ],
             [
              0.2222222222222222,
              "#7201a8"
             ],
             [
              0.3333333333333333,
              "#9c179e"
             ],
             [
              0.4444444444444444,
              "#bd3786"
             ],
             [
              0.5555555555555556,
              "#d8576b"
             ],
             [
              0.6666666666666666,
              "#ed7953"
             ],
             [
              0.7777777777777778,
              "#fb9f3a"
             ],
             [
              0.8888888888888888,
              "#fdca26"
             ],
             [
              1,
              "#f0f921"
             ]
            ],
            "type": "surface"
           }
          ],
          "table": [
           {
            "cells": {
             "fill": {
              "color": "#EBF0F8"
             },
             "line": {
              "color": "white"
             }
            },
            "header": {
             "fill": {
              "color": "#C8D4E3"
             },
             "line": {
              "color": "white"
             }
            },
            "type": "table"
           }
          ]
         },
         "layout": {
          "annotationdefaults": {
           "arrowcolor": "#2a3f5f",
           "arrowhead": 0,
           "arrowwidth": 1
          },
          "coloraxis": {
           "colorbar": {
            "outlinewidth": 0,
            "ticks": ""
           }
          },
          "colorscale": {
           "diverging": [
            [
             0,
             "#8e0152"
            ],
            [
             0.1,
             "#c51b7d"
            ],
            [
             0.2,
             "#de77ae"
            ],
            [
             0.3,
             "#f1b6da"
            ],
            [
             0.4,
             "#fde0ef"
            ],
            [
             0.5,
             "#f7f7f7"
            ],
            [
             0.6,
             "#e6f5d0"
            ],
            [
             0.7,
             "#b8e186"
            ],
            [
             0.8,
             "#7fbc41"
            ],
            [
             0.9,
             "#4d9221"
            ],
            [
             1,
             "#276419"
            ]
           ],
           "sequential": [
            [
             0,
             "#0d0887"
            ],
            [
             0.1111111111111111,
             "#46039f"
            ],
            [
             0.2222222222222222,
             "#7201a8"
            ],
            [
             0.3333333333333333,
             "#9c179e"
            ],
            [
             0.4444444444444444,
             "#bd3786"
            ],
            [
             0.5555555555555556,
             "#d8576b"
            ],
            [
             0.6666666666666666,
             "#ed7953"
            ],
            [
             0.7777777777777778,
             "#fb9f3a"
            ],
            [
             0.8888888888888888,
             "#fdca26"
            ],
            [
             1,
             "#f0f921"
            ]
           ],
           "sequentialminus": [
            [
             0,
             "#0d0887"
            ],
            [
             0.1111111111111111,
             "#46039f"
            ],
            [
             0.2222222222222222,
             "#7201a8"
            ],
            [
             0.3333333333333333,
             "#9c179e"
            ],
            [
             0.4444444444444444,
             "#bd3786"
            ],
            [
             0.5555555555555556,
             "#d8576b"
            ],
            [
             0.6666666666666666,
             "#ed7953"
            ],
            [
             0.7777777777777778,
             "#fb9f3a"
            ],
            [
             0.8888888888888888,
             "#fdca26"
            ],
            [
             1,
             "#f0f921"
            ]
           ]
          },
          "colorway": [
           "#636efa",
           "#EF553B",
           "#00cc96",
           "#ab63fa",
           "#FFA15A",
           "#19d3f3",
           "#FF6692",
           "#B6E880",
           "#FF97FF",
           "#FECB52"
          ],
          "font": {
           "color": "#2a3f5f"
          },
          "geo": {
           "bgcolor": "white",
           "lakecolor": "white",
           "landcolor": "#E5ECF6",
           "showlakes": true,
           "showland": true,
           "subunitcolor": "white"
          },
          "hoverlabel": {
           "align": "left"
          },
          "hovermode": "closest",
          "mapbox": {
           "style": "light"
          },
          "paper_bgcolor": "white",
          "plot_bgcolor": "#E5ECF6",
          "polar": {
           "angularaxis": {
            "gridcolor": "white",
            "linecolor": "white",
            "ticks": ""
           },
           "bgcolor": "#E5ECF6",
           "radialaxis": {
            "gridcolor": "white",
            "linecolor": "white",
            "ticks": ""
           }
          },
          "scene": {
           "xaxis": {
            "backgroundcolor": "#E5ECF6",
            "gridcolor": "white",
            "gridwidth": 2,
            "linecolor": "white",
            "showbackground": true,
            "ticks": "",
            "zerolinecolor": "white"
           },
           "yaxis": {
            "backgroundcolor": "#E5ECF6",
            "gridcolor": "white",
            "gridwidth": 2,
            "linecolor": "white",
            "showbackground": true,
            "ticks": "",
            "zerolinecolor": "white"
           },
           "zaxis": {
            "backgroundcolor": "#E5ECF6",
            "gridcolor": "white",
            "gridwidth": 2,
            "linecolor": "white",
            "showbackground": true,
            "ticks": "",
            "zerolinecolor": "white"
           }
          },
          "shapedefaults": {
           "line": {
            "color": "#2a3f5f"
           }
          },
          "ternary": {
           "aaxis": {
            "gridcolor": "white",
            "linecolor": "white",
            "ticks": ""
           },
           "baxis": {
            "gridcolor": "white",
            "linecolor": "white",
            "ticks": ""
           },
           "bgcolor": "#E5ECF6",
           "caxis": {
            "gridcolor": "white",
            "linecolor": "white",
            "ticks": ""
           }
          },
          "title": {
           "x": 0.05
          },
          "xaxis": {
           "automargin": true,
           "gridcolor": "white",
           "linecolor": "white",
           "ticks": "",
           "title": {
            "standoff": 15
           },
           "zerolinecolor": "white",
           "zerolinewidth": 2
          },
          "yaxis": {
           "automargin": true,
           "gridcolor": "white",
           "linecolor": "white",
           "ticks": "",
           "title": {
            "standoff": 15
           },
           "zerolinecolor": "white",
           "zerolinewidth": 2
          }
         }
        },
        "title": {
         "text": "Napa Valley Wineries"
        },
        "width": 600
       }
      },
      "text/html": [
       "<div>                            <div id=\"373c6d8d-a54a-4062-b60c-7fb28b78d09e\" class=\"plotly-graph-div\" style=\"height:500px; width:600px;\"></div>            <script type=\"text/javascript\">                require([\"plotly\"], function(Plotly) {                    window.PLOTLYENV=window.PLOTLYENV || {};                                    if (document.getElementById(\"373c6d8d-a54a-4062-b60c-7fb28b78d09e\")) {                    Plotly.newPlot(                        \"373c6d8d-a54a-4062-b60c-7fb28b78d09e\",                        [{\"hovertemplate\": \"<b>%{hovertext}</b><br><br>Number of Reviews =%{marker.size}<br>Latitude =%{lat}<br>Longitude =%{lon}<br>Price ($) =%{marker.color}<extra></extra>\", \"hovertext\": [\"Hendry Vineyard and Winery\", \"Domaine Carneros\", \"Paraduxx Winery\", \"Jarvis Winery\", \"Cuvaison Estate Wines\", \"Clos du Val\", \"William Hill Estate Winery\", \"White Rock Vineyards\", \"Platypus Wine Tours\", \"Shadybrook Estate Winery\", \"Stag's Leap Wine Cellars\", \"Ashes & Diamonds\", \"Hagafen Cellars\", \"Saintsbury\", \"Stags' Leap Winery\", \"Chimney Rock Winery\", \"Trefethen Family Vineyards\", \"Trinitas Cellars\", \"Verve Napa Valley\", \"Darioush Winery\", \"Piazza Del Dotto\", \"Judd's Hill Winery\", \"Roots Run Deep Winery\", \"Silverado Vineyards\", \"Monticello Vineyards - Corley Family Napa Valley\", \"Kieu Hoang Winery\", \"Signorello Estate\", \"Palmaz Vineyards\", \"Porter Family Vineyards\", \"Cornerstone Cellars\", \"Truchard Vineyards\", \"O'Brien Estate\", \"Laird Family Estate\", \"Etude Wines\", \"Silenus Winery\", \"Kenzo Estate\", \"Napa Sonoma Wine Tasting Driver \\u00ae\", \"Goosecross Cellars\", \"Eleven Eleven Winery\", \"Reynolds Family Winery\", \"JaM Cellars\", \"Caldwell Vineyard\", \"Robert Mondavi Winery\", \"Elyse Winery\", \"Fontanella Family Winery\", \"Pine Ridge Vineyards\", \"Trahan Winery\", \"Chandon\", \"Odette Estate\", \"Robert Sinskey Vineyards\", \"Hyde Estate Winery\", \"AvinoDos Wines\", \"Yao Family Wines\", \"Mi Sueno Winery\", \"Cakebread Cellars\", \"McKenzie-Mueller Vineyards and Winery\", \"WineINN & DineINN\", \"Encanto Vineyards\", \"James Cole Winery\", \"Scribe Winery\", \"Ceja Vineyards\", \"Napa Cellars Tasting Room\", \"Baldacci Family Vineyards\", \"Tulocay Winery\", \"Materra, Cunat Family Vineyards\", \"Robert Biale Vineyards\", \"WeWine Napa\", \"Jacuzzi Family Vineyards\", \"Viansa Winery & Marketplace\", \"Quixote Winery\", \"PF Wine Tours\", \"Hudson Ranch\", \"John Anthony Vineyards\", \"Opus One Winery\", \"Whetstone Wine Cellars\", \"Cornerstone Cellars\", \"Far Niente Winery\", \"Silver Oak - Oakville\", \"The Caves at Soda Canyon\", \"Tres Sabores Winery\", \"Inglenook\", \"Grgich Hills Estate\", \"Shafer Vineyards\", \"Laces and Limos\", \"PlumpJack Winery\", \"Wine Country Drivers\", \"Luna Vineyards\", \"Larson Family Winery\", \"Napa Private Tours\", \"Razi Winery\", \"Carneros Della Notte\", \"Mayacamas Vineyards & Winery\", \"Madonna Estate\", \"Aonair Wine\", \"Beaulieu Vineyard\", \"Beau Wine Tours & Limousine Service\", \"Hamel Family Wines\", \"Celani Family Vineyards\", \"St. Supery Estate Vineyards & Winery\", \"The Wine Foundry\", \"B Cellars Vineyards & Winery\", \"Gundlach Bundschu Winery\", \"Madorom Vineyards\", \"Prime Cellars\", \"All Day Wine Tours\", \"Nickel & Nickel\", \"T3 - Tesla Tours & Transportation\", \"Robert Craig Winery Tasting Salon\", \"Holman Cellars\", \"Napa Bee Driven\", \"Gloria Ferrer Winery\", \"Sciandri Family Vineyards\", \"Antica Napa Valley\", \"Italics Winegrowers\", \"Robledo Family Winery\", \"Rocca Family Vineyards Tasting Room\", \"Vine Cliff Winery\", \"Buena Vista Winery\", \"Lewis Cellars\", \"Wine Country Safari\", \"Wine Tour Drivers\", \"Covert Estate\", \"Napa Valley Wine Trolley\", \"Promontory Winery\", \"Havens Winery\", \"Wine Tasting Driver\", \"We Drive Your Car Napa Valley\", \"Oakville Ranch Vineyards\", \"Napa Valley Wine Guides\", \"Small Lot Wine Tours\", \"Maritas Vineyard\", \"Shed Creek Cellar\", \"Cliff Lede Vineyards\", \"Fortunati Vineyards\", \"Stewart Cellars\", \"Groth Vineyards & Winery\", \"Wine Me Away\", \"Bello Family Vineyards\", \"Amuse Bouche Winery\", \"Gargiulo Vineyards\", \"Miner Family Winery\", \"Boyd Family Vineyard\", \"Matthiasson Wines\", \"Oasis by Hoopes\", \"Priest Ranch\", \"Hidden Napa Jeep Wine Tours\", \"Bell Wine Cellars\", \"Reid Family Vineyards\", \"Mira Winery\", \"Smith Devereux Wines\", \"Roy Estate\", \"Screaming Eagle Winery\", \"Ram's Gate Winery\", \"Falcor Winery\", \"The Donum Estate\", \"Let's Roll Wine Tours & Designated Drivers\", \"Hill Family Estate\", \"Ideology Cellars\", \"Ovid Vineyard\", \"Black Cat Vineyard\", \"Realm Cellars\", \"Handwritten Wines\", \"Elkhorn Peak Cellars\", \"Taylor Family Vineyards\", \"Staglin Family Vineyard\", \"Robinson Family Vineyards\", \"Beckstoffer Vineyards\", \"Nicholson Ranch Winery\", \"Suisun Creek Winery\", \"Ancien\", \"Oberon\", \"Vezer Family Vineyard\", \"Intimate Wine Tours\", \"Futo Wines\", \"Spelletich Family Winery\", \"Cardinale Winery\", \"Sodaro Estate Winery\", \"Silver Trident Winery\", \"Paradigm Winery\", \"Harvest Wine Tours\", \"Gamble Family Vineyard\", \"Manny\\u00b4s Wine Tours\", \"J.Moss\", \"Kale Wines\", \"Hyde de Villaine Wines\", \"Westwood Estate Wine\", \"Own A Napa Vineyard\", \"Harlan Estate\", \"Frias Family Vineyard\", \"RAM Wine Country Tours\", \"Bliss Wine Tours\", \"Elizabeth Spencer Winery\", \"Eagle Eye Winery\", \"Buccella\", \"Tournesol Wine\", \"Rudd Estate\", \"Savor Napa Valley Wine Tours\", \"Napa Valley Chauffeur\", \"Schug Carneros Estate Winery\", \"The Hess Collection Winery\", \"My Private Napa Driver\", \"Farella Vineyard\", \"BOND\", \"Meadowcroft Wines\", \"Quintessential Wines\", \"Napa Valley Wine Country Tours\", \"Hanzell Vineyards\", \"Blackbird Vineyards\", \"Napa Driving Services\", \"Relic Wine Cellars\", \"Dolce Winery\", \"Altamura Winery\", \"Stacy's Wine Tours\", \"Valley Wine Warehouse\", \"Destiny Wine Tours\", \"Napa Valley College Winery\", \"Forthright Winery\", \"Favia Erickson Winegrowers\", \"Thirty-Seven Winery\", \"Vezer Family Vineyard\", \"Ghost Block Estate Wines\", \"J Moss\", \"Sonoma Valley Wine Trolley\", \"Peter Cellars\", \"David Arthur Vineyards\", \"Wooden Valley Winery\", \"Buoncristiani Family Winery\", \"Absolutely Fabulous Tours\", \"Scholium Project\", \"Your Driver In Napa Wine Tours\", \"Dynamic Napa Wine Tours\", \"G V Cellars\", \"Simply Driven\", \"Napa Your Way\", \"Kongsgaard Winery\", \"Rock Creek Vineyard\", \"Winter Wineland\", \"Valley of the Moon Winery\", \"Hope & Grace Wines\", \"Classic Convertible Wine Tours\", \"Auteur Wines\", \"Blankiet Estate\", \"Godspeed Vineyards\", \"Ceja Vineyards Wine Salon\", \"Mountain Terraces Vineyard\", \"Groth Vineyards & Winery\", \"Gemstone Vineyard\", \"Vinoce Vineyards\", \"Napa Valley Wine Tours\", \"Phenomenal Limos & Wine Tours\", \"Patz & Hall Winery\", \"Wine & Dine Events\", \"Keever Vineyards\", \"Vinfolio\", \"Lagier Meredith Vineyard\", \"Roche Winery & Vineyards\", \"Moss Creek Winery\", \"Master Wine Tours\", \"J Gregory Cellars\", \"Fine Wine Tours\", \"Napa Private Driver\", \"Wine Country Confidential\", \"Iconic Wine Tours\", \"Bonneau Wines\", \"Dominus Estate\", \"Designated Drivers Napa Sonoma\", \"Stone Edge Farm Winery\", \"Frazier Winery\", \"Tin Barn Vineyards\", \"Darms Lane Vineyard\", \"Napa Sonoma Wine Guy\", \"Mangels Vineyards\", \"VinRoc Wine Caves\", \"WALT Wines\", \"Wine Tours by Shane\", \"Repris Wines\", \"Petroni Vineyards\", \"Amapola Creek\", \"Homewood Winery\", \"Napa Valley Vics Wine Tours & Car Services\", \"Monticelli Brothers\", \"Robert John Vineyards\", \"Kapcsandy Family Winery\", \"Vinum Cellars\", \"Driven in Napa Valley\", \"Beau Vigne\", \"Jade Mountain Winery\", \"Ilsley Vineyards\", \"Old Bridge Cellars\", \"Perry's Tours\", \"Detert Family Vineyard\", \"Unique Wine Experience\", \"BX of Napa Wines\", \"Chris Phelps Wines\", \"Surh Cellars\", \"Sip California\", \"Crosby Roamann\", \"Random Ridge\", \"CM Destinations & Consulting\", \"Andrew's Tours and Transportation\", \"Galvan Family Cellars\", \"Maroon Wines\", \"Destination Napa Valley\", \"Chanticleer Winery\", \"Kamen Estate Wines\", \"Liparita Cellars\", \"Napa Valley Luxury Wine Tours\", \"Vellum Wines\", \"Canihan Wines\", \"Napa Wine Company\", \"Wine Compliance Alliance\", \"Lake Sonoma Winery\", \"CALNAP Winery Tours & Limousine\", \"Hawkes\", \"Leviathan Winery\", \"Corner 103\", \"Topaz Wines\", \"Rutas De Napa Wine Tours\", \"EMBRAZEN\", \"Lail Vineyards\", \"Sonoma Private Tours\", \"Vine Tours Luxury Transportation\", \"Chiarello Family Vineyards\", \"Agajanian Vineyards & Wine Company\", \"Oakville Cross\", \"Lindstrom Wines\", \"PUNCH Vineyards\", \"Napa Driver Tours\", \"Noah Vineyards\", \"Stagecoach Vineyard\", \"Elan Vineyards\", \"Bedrock Wine Company\", \"Last Bottle Wines\", \"Rancho Maria Wines\", \"CINNAMON'S WINE TOURS\", \"Amicis Tours\", \"Entre Nous Wines\", \"Napa Native Wine Tours\", \"Justice Grace Vineyards\", \"Eighth Street Wineries Open House\", \"Napa Limousine Inc\", \"Atlas Peak\", \"Lonnie's Wine Tours & Transportation\", \"WineZooloo\", \"Dog-Friendly Wine Tours\", \"Wine Tasting HdV\", \"Clarbec Wines\", \"Bacchus Wine Tours & Transportation LLC\", \"Three Sticks Wines\", \"Bardessono Vineyards And Wines\", \"Food & Vine Inc\", \"Spoto Wines\", \"Rutherford Appellation Wineries Passport Weekend\", \"Selene Wines\", \"Destination Drivers Napa & Sonoma\", \"Winery Sixteen 600\", \"Mora Estate\", \"Howell At the Moon\", \"Vino Valley Tours\", \"Troika Wines\", \"B. Kosuge Wines\", \"Napa Terroir Wine Tours\", \"Coho Wines\", \"Valet of the Moon Wine Tours\", \"Grapeline Wine Tours\", \"Gourmet Food & Wine Tours\", \"Consort Wine Tours\", \"Don Sebastiani & Sons\", \"Peter Franus Wines\", \"Alluvium Wine Tours\", \"Rosalynd Winery\", \"Napa Valley Excursions & Wine Tours\", \"Sojourn Cellars\", \"Shifflett Estate\", \"Page Wine Cellars\", \"Bump Wine Cellars\", \"Signature Transportation of Napa Valley\", \"Valley of the Moon Vintage Festival\", \"L'Uvaggio di Gi\\u00e1como\", \"Swanson Wine Tours\", \"Oro Puro Vineyards\", \"Sonoma Plaza Wine Experience\", \"Zina Hyde Cunningham Winery\", \"California Wine Tour Services\", \"West Wine Tours\", \"David Arthur Vineyards\", \"Calmere Estate Winery\", \"Ez Wine Tours\", \"Ultimate Wine Tours\", \"Pina Vineyard Management\", \"Napa Wine Tours\", \"G Wine Cellars\", \"Valley Wine Tours\", \"Rose Wine Tours\", \"The Napa Card\", \"Tom Scott Vineyards\", \"Barrel Stop\", \"Modus Operandi Cellars\", \"Andretti Winery\", \"Lionstone International\", \"Napa Vinyards\", \"Cook Vinyard Management\", \"Top It Off Bottling\"], \"lat\": [38.32168, 38.25553421701142, 38.43548, 38.35701, 38.251176, 38.3872498, 38.3555817630865, 38.37768300000001, 38.22830820000001, 38.308954, 38.3983978, 38.34425, 38.364751, 38.24996, 38.415754, 38.390201, 38.35623742236329, 38.2471, 38.3177642822266, 38.36752, 38.422, 38.3393261000088, 38.297016, 38.412273, 38.359204, 38.26739, 38.37017, 38.323297, 38.2890722, 38.29734000000001, 38.289128186648, 38.345885353769496, 38.353977203369105, 38.245847, 38.363672, 38.354502, 38.2587139, 38.4266242980957, 38.3249893, 38.3552406, 38.297435, 38.2869459, 38.441422, 38.38361, 38.312613, 38.4047399, 38.29745, 38.3963745949975, 38.40556, 38.425414, 38.253863, 38.25867, 38.26787567138671, 38.2598016, 38.447904, 38.23234, 38.29204, 38.30111, 38.37071513224139, 38.2712839, 38.23562255391007, 38.421192, 38.418323571036034, 38.2979965209961, 38.3612027, 38.35606948287929, 38.32151629999999, 38.21471, 38.20847, 38.4181009125607, 38.31865, 38.264949, 38.2975791, 38.4414391100535, 38.3393115, 38.2474144, 38.424479, 38.4404422, 38.401433, 38.461548, 38.458392, 38.465419, 38.419881, 38.295639, 38.455434, 38.29695, 38.34508, 38.2361999, 38.28276, 38.349254, 38.2575999, 38.36518, 38.255641937255895, 38.3177642822266, 38.46016, 38.296694, 38.3458142305308, 38.334573, 38.4551318502323, 38.26033020000001, 38.449864, 38.27853, 38.340156, 38.2973361393272, 38.32923889160156, 38.443243, 38.2968914, 38.30657, 38.259432, 38.291168, 38.223832, 38.281436, 38.427937, 38.3137, 38.24739263290604, 38.23821, 38.447107, 38.299502, 38.351246, 38.305503, 38.291542053222656, 38.307445, 38.296725490059295, 38.4208658, 38.301274, 38.3364765, 38.3088677, 38.4610071602159, 38.3841682813529, 38.33684, 38.302154, 38.338405360536775, 38.42407, 38.34905, 38.406152, 38.44922, 38.38326, 38.453556060791, 38.30039, 38.453315, 38.462719, 38.3612027, 38.33861, 38.38795716301858, 38.400084, 38.31832, 38.389816, 38.3137, 38.38732, 38.297448, 38.36585, 38.436927795410206, 38.1741152, 38.25603, 38.231313, 38.2968, 38.4011459350586, 38.3638202476272, 38.46344000000001, 38.28149000000001, 38.400333, 38.4001796, 38.228224, 38.2586755, 38.442506, 38.41086361969035, 38.464284, 38.255251261885, 38.264721, 38.297691, 38.2237, 38.2940805917162, 38.2830221, 38.416192, 38.253694, 38.428591, 38.315, 38.400497, 38.42056, 38.3066965, 38.429147, 38.291168, 38.2585653718793, 38.291168, 38.325776, 38.2915583, 38.2575999, 38.436927795410206, 38.3348546, 38.398939, 38.38326, 38.458979181419295, 38.341023, 38.39829, 38.2965803877752, 38.4578819274902, 38.3213996887207, 38.3233943, 38.233022670015295, 38.190715, 38.3077323, 38.312621, 38.43462, 38.2272243158716, 38.29735, 38.2136164, 38.31343002237461, 38.3606279211163, 38.3214, 38.411912, 38.4240773, 38.364395, 38.195022, 38.2104, 38.33656, 38.274349, 38.33031, 38.29348, 38.150444, 38.285969, 38.43597877573925, 38.258674, 38.26046, 38.2578964073869, 38.465325, 38.27656, 38.40336, 38.3170536, 38.26635, 38.3177642822266, 38.29669000000001, 38.24296221671643, 38.338537, 38.20490984621871, 38.436451, 38.268109, 38.293415, 38.2931453, 38.402992248535206, 38.2975381, 38.29397897266821, 38.400724200000006, 38.38908, 38.2460468131242, 38.35700900000001, 38.3687531, 38.40245, 38.43888, 38.3177642822266, 38.31918579999999, 38.26397, 38.4348204, 38.40245, 38.220461, 38.3747445, 38.24168, 38.44593, 38.3581390380859, 38.3349609, 38.2895385, 38.297370910644496, 38.23927688598629, 38.2798408, 38.2595709, 38.4048461914062, 38.3288089, 38.2890739440918, 38.38326, 38.25905584491571, 38.36385, 38.291168, 38.2646811628515, 38.42648, 38.294342041015604, 38.31865, 38.345924, 38.3426659738006, 38.33422, 38.24556, 38.15215301513671, 38.33379, 38.297093, 38.40245, 38.223094, 38.3177642822266, 38.4065716, 38.21761, 38.425524, 38.2950233, 38.25877, 38.428924, 38.32923889160156, 38.3177642822266, 38.3029507537766, 38.31832, 38.291859, 38.2603912353516, 38.3702, 38.297370910644496, 38.3177642822266, 38.205394, 38.3180046081543, 38.31777, 38.3899895846844, 38.2915849246945, 38.436786, 38.342125, 38.31364, 38.273313, 38.4363635, 38.2965202331543, 38.29312, 38.310683, 38.294241, 38.4366, 38.291935, 38.33738, 38.3177642822266, 38.22224, 38.46024, 38.2827606201172, 38.3214, 38.401611096057, 38.246978759765604, 38.44308, 38.407973, 38.293898, 38.17406, 38.390735, 38.4379, 38.446128845214794, 38.29323382456121, 38.21843719482421, 38.2924731, 38.3078, 38.38326, 38.432011, 38.33653, 38.242694, 38.2621651, 38.292613, 38.31364, 38.2930030822754, 38.3113199134266, 38.29737, 38.326141357421896, 38.28882, 38.2726044, 38.2621635, 38.4015781, 38.2870740762265, 38.436927795410206, 38.46024, 38.31777, 38.29188, 38.290421, 38.294652, 38.2975381, 38.3071213, 38.245232, 38.29695, 38.3210506945237, 38.29695, 38.2890739440918, 38.2825, 38.2927444, 38.4019490823782, 38.29187, 38.299079895019496, 38.3177642822266, 38.266387741610366, 38.3186492919922, 38.2913799, 38.4366, 38.2938649, 38.2915015, 38.3221893310547, 38.293415, 38.29695, 38.28691, 38.29695, 38.291919708252, 38.2921374, 38.27259, 38.28664000000001, 38.46024, 38.230914, 38.31777, 38.2676277160645, 38.46518, 38.32322, 38.3130398821026, 38.29188, 38.28691, 38.31364, 38.425273, 38.31364, 38.29885864257809, 38.32151629999999, 38.262062, 38.38326, 38.2862614, 38.26248], \"legendgroup\": \"\", \"lon\": [-122.34481, -122.3513909116566, -122.35143, -122.21362, -122.347084, -122.3125063, -122.270102462921, -122.286565, -122.2539009, -122.248219, -122.32439270000002, -122.32628400000002, -122.289435, -122.32538, -122.318884, -122.313843, -122.32299104997801, -122.274639, -122.29174041747999, -122.29424, -122.38811, -122.27976149046002, -122.291339, -122.336858, -122.3106703, -122.3487, -122.29481, -122.235727, -122.2273244, -122.28893, -122.317485809326, -122.33976825643451, -122.335693359375, -122.3150228, -122.339213, -122.204136, -122.2717063, -122.352890014648, -122.286911, -122.2869398, -122.2893433, -122.2358185, -122.409546, -122.35451, -122.373269, -122.33277, -122.28838, -122.364698011115, -122.32773, -122.337002, -122.330619, -122.2736, -122.24878692627001, -122.2720075, -122.409682, -122.33191, -122.29214, -122.282289, -122.298978236493, -122.4230626, -122.31443098305695, -122.390177, -122.337243, -122.25869750976601, -122.3118133, -122.30843067169201, -122.30410790000002, -122.453885, -122.451805, -122.323620009856, -122.29994, -122.365935, -122.2891414, -122.39972029669902, -122.2623851, -122.27207659999998, -122.404132, -122.3809788, -122.30133, -122.444536, -122.423796, -122.428989, -122.326894, -122.2999753, -122.374111, -122.2868, -122.28383999999998, -122.4483, -122.27123, -122.283146, -122.339651, -122.42326, -122.341018676758, -122.29174041747999, -122.423291, -122.2924582, -122.494017806885, -122.293094, -122.41456055411601, -122.2742081, -122.373264, -122.42058, -122.281946, -122.28831382142599, -122.2959213256836, -122.40676299999998, -122.2889887, -122.28252, -122.274448, -122.286279, -122.472276, -122.23796000000002, -122.274933, -122.250615, -122.48350054331848, -122.26942, -122.350549, -122.421942, -122.307404, -122.2915887, -122.28694152832031, -122.247464, -122.289325989441, -122.4149621, -122.2874659, -122.3229962, -122.2917507, -122.358888437234, -122.285937502441, -122.31545, -122.249869, -122.101645, -122.344787, -122.30949, -122.3664433, -122.379524, -122.31306, -122.414756774902, -122.286039, -122.366836, -122.371093, -122.3118133, -122.35076, -122.34952523506253, -122.359028, -122.29177, -122.345741, -122.34831, -122.34847, -122.289345, -122.27873, -122.402816772461, -122.4504982, -122.276279, -122.402866, -122.286, -122.359878540039, -122.33911094477502, -122.34397, -122.247714, -122.33066399999998, -122.3593313, -122.219554, -122.2716831, -122.424445, -122.31935492416466, -122.395302, -122.3913731858, -122.119915, -122.235151, -122.26617, -122.12020345369, -122.2712837, -122.412366, -122.275972, -122.390506, -122.23313, -122.360031, -122.39378, -122.288272, -122.386892, -122.286279, -122.273029536009, -122.286064423279, -122.2830894, -122.4574775, -122.33965, -122.402816772461, -122.3199497, -122.373129, -122.31306, -122.42206067842599, -122.125888, -122.37058, -122.223340272903, -122.366798400879, -122.304061889648, -122.3018681, -122.47125148773199, -122.270332, -122.3058297, -122.22863999999998, -122.40057, -122.457089424133, -122.28764, -122.2533803, -122.462327066159, -122.31809463568399, -122.30406, -122.293303, -122.402102, -122.1751742, -122.24115, -122.25724, -122.2587, -122.277736, -122.34389, -122.24972, -122.4489975, -122.107518, -122.40191144110308, -122.273574, -122.44134, -122.45004057884199, -122.345735, -122.112879, -122.30048, -122.3019206, -122.33292, -122.29174041747999, -122.29246, -122.1690453203512, -122.312223, -122.115153021875, -122.2475128, -122.163499, -122.470589, -122.4593959, -122.36212158203101, -122.286865, -122.458705292053, -122.3837445, -122.43917, -122.42282741057501, -122.466577, -122.341313, -122.36106, -122.48222, -122.29174041747999, -122.310113, -122.43761, -122.2958469, -122.36106, -122.261675, -122.3879989, -122.48098, -122.19492, -122.263832092285, -122.3201294, -122.2915722, -122.29046630859399, -122.33062744140601, -122.256173, -122.4395611, -122.37353515625, -122.3365829, -122.39685821533199, -122.31306, -122.434944500494, -122.35121, -122.286279, -122.11363149811199, -122.24922, -122.45832824707001, -122.29994, -122.458795, -122.47730255127001, -122.48064, -122.42121000000002, -122.265014648438, -122.32668, -122.288957, -122.36106, -122.263104, -122.29174041747999, -122.3670058, -122.26923, -122.328653, -122.2938891, -122.24879, -122.417375, -122.2959213256836, -122.29174041747999, -122.314904261924, -122.29177, -122.4580356, -122.274131774902, -122.461713, -122.29046630859399, -122.29174041747999, -122.142333, -122.244613647461, -122.29174, -122.36078068614, -122.45612814245001, -122.4027311, -122.32106, -122.29476, -122.43121200000002, -122.4023528, -122.2880859375, -122.45937, -122.298832, -122.458823, -122.40259, -122.459152, -122.31894, -122.29174041747999, -122.26713, -122.42023, -122.27123260497999, -122.30406, -122.362370916077, -122.276596069336, -122.38796, -122.32692, -122.296768, -122.25726, -122.346252, -122.2956, -122.24951171875, -122.456364071755, -122.27011108398399, -122.4591225, -122.30571, -122.31306, -122.392476, -122.32299, -122.422773, -122.4399338, -122.301467, -122.29476, -122.282814025879, -122.487856708467, -122.29047, -122.282272338867, -122.49469, -122.4291397, -122.4399347, -122.3608105, -122.28713518551399, -122.402816772461, -122.42023, -122.29174, -122.45726, -122.459446, -122.457418, -122.286865, -122.3335037, -122.422307, -122.2868, -122.293578274548, -122.2868, -122.39685821533199, -122.45971000000002, -122.4570054, -122.36280441284201, -122.45988, -122.28537750244101, -122.29174041747999, -122.12993134347964, -122.299942016602, -122.45576, -122.40259, -122.30022, -122.45839, -122.28855133056601, -122.470589, -122.2868, -122.46547, -122.2868, -122.45630645752001, -122.45652040000002, -122.43762, -122.46553, -122.42023, -122.348861, -122.29174, -122.48998260497999, -122.37511, -122.30206, -122.234573364258, -122.45726, -122.46547, -122.29476, -122.346766, -122.29476, -122.28521728515601, -122.30410790000002, -122.44203600000002, -122.31306, -122.434893, -122.44207], \"marker\": {\"color\": [2, 2, 2, 3, 2, 2, 2, 2, 2, 2, 3, 2, 2, 2, 3, 3, 2, 2, 2, 3, 4, 2, 2, 2, 2, 2, 2, 3, 3, 2, 2, 2, 2, 2, 2, 3, 2, 2, 3, 2, 2, 3, 2, 2, 2, 3, 2, 2, 2, 3, 2, 2, 2, 2, 2, 2, 2, 2, 3, 2, 2, 2, 2, 2, 2, 2, 2, 2, 2, 2, 2, 2, 2, 4, 2, 2, 3, 3, 3, 2, 3, 2, 3, 2, 2, 2, 2, 2, 2, 2, 2, 4, 2, 3, 2, 2, 3, 3, 2, 1, 2, 2, 2, 2, 2, 3, 2, 2, 2, 2, 2, 3, 3, 3, 2, 2, 4, 2, 4, 2, 2, 2, 2, 4, 3, 2, 2, 2, 2, 2, 3, 2, 2, 2, 2, 2, 2, 2, 3, 2, 2, 2, 2, 2, 2, 2, 2, 2, 2, 2, 4, 4, 3, 2, 3, 2, 2, 2, 3, 2, 3, 3, 2, 3, 3, 2, 2, 2, 2, 2, 2, 2, 2, 4, 3, 4, 2, 2, 2, 2, 3, 2, 2, 2, 3, 2, 2, 4, 2, 2, 2, 2, 2, 4, 2, 3, 2, 2, 2, 2, 2, 2, 3, 2, 2, 2, 3, 3, 2, 2, 2, 3, 2, 2, 2, 2, 2, 2, 2, 2, 2, 2, 2, 2, 3, 2, 3, 2, 2, 2, 2, 2, 2, 2, 2, 2, 1, 2, 2, 2, 3, 2, 2, 2, 4, 3, 4, 2, 2, 2, 3, 2, 2, 2, 2, 2, 3, 2, 2, 2, 2, 2, 2, 2, 4, 2, 2, 2, 2, 2, 2, 2, 2, 2, 2, 3, 2, 2, 2, 2, 2, 2, 3, 2, 2, 3, 3, 3, 2, 2, 2, 2, 2, 2, 2, 1, 2, 2, 2, 2, 2, 2, 2, 2, 3, 2, 2, 2, 2, 2, 2, 2, 2, 2, 2, 2, 2, 2, 2, 2, 2, 2, 2, 2, 2, 2, 2, 2, 2, 3, 2, 2, 3, 2, 2, 2, 3, 2, 3, 2, 2, 2, 2, 2, 2, 3, 2, 2, 2, 2, 2, 3, 2, 2, 2, 2, 2, 2, 2, 2, 2, 2, 2, 2, 2, 2, 2, 2, 2, 2, 2, 2, 2, 2, 2, 2, 2, 1, 2, 2, 2, 2, 2, 2, 2, 2, 2, 2, 2, 2, 2, 2, 2, 2, 2, 4, 2, 2, 2, 2, 2, 2, 2], \"coloraxis\": \"coloraxis\", \"size\": [658, 2239, 373, 209, 327, 328, 186, 55, 895, 180, 487, 181, 459, 136, 223, 316, 351, 205, 41, 554, 74, 275, 55, 312, 128, 88, 142, 125, 57, 178, 85, 187, 163, 176, 121, 68, 126, 387, 36, 127, 161, 49, 1099, 117, 52, 307, 99, 1449, 78, 338, 4, 25, 81, 34, 788, 56, 5, 3, 130, 322, 79, 376, 112, 14, 43, 125, 10, 821, 624, 61, 55, 4, 140, 465, 87, 7, 162, 489, 10, 126, 367, 590, 45, 8, 179, 23, 230, 566, 60, 36, 16, 11, 173, 63, 413, 349, 97, 2, 461, 10, 157, 567, 3, 31, 24, 131, 24, 54, 38, 55, 836, 7, 8, 14, 217, 12, 45, 450, 13, 9, 72, 4, 143, 15, 8, 18, 12, 3, 56, 50, 9, 2, 226, 14, 49, 57, 19, 1, 3, 21, 239, 9, 1, 15, 171, 23, 123, 27, 6, 1, 1, 6, 441, 70, 33, 13, 160, 1, 12, 13, 11, 49, 12, 17, 13, 21, 3, 320, 1, 4, 2, 81, 34, 4, 18, 48, 13, 64, 53, 7, 19, 56, 3, 1, 22, 106, 1, 5, 6, 13, 18, 213, 7, 3, 10, 18, 6, 19, 167, 7, 3, 7, 3, 121, 2, 214, 85, 10, 4, 10, 1, 12, 8, 1, 23, 3, 1, 6, 2, 108, 14, 4, 100, 73, 18, 130, 5, 14, 5, 25, 33, 73, 21, 27, 1, 15, 11, 129, 171, 20, 18, 11, 2, 32, 1, 2, 4, 1, 8, 4, 67, 7, 20, 2, 4, 19, 1, 7, 4, 8, 21, 15, 3, 15, 6, 50, 8, 8, 83, 2, 4, 7, 1, 151, 8, 60, 96, 1, 116, 7, 1, 2, 5, 1, 5, 33, 1, 2, 2, 8, 3, 12, 5, 1, 2, 1, 5, 1, 3, 2, 9, 1, 5, 2, 54, 2, 6, 1, 6, 39, 1, 56, 15, 71, 1, 113, 1, 4, 1, 2, 1, 3, 6, 1, 1, 1, 1, 21, 2, 2, 5, 19, 54, 70, 4, 17, 2, 13, 13, 2, 12, 1, 5, 2, 3, 2, 1, 13, 1, 1, 1, 4, 2, 1, 15, 24, 1, 2, 2, 9, 1, 8, 2, 33, 27, 62, 3, 1, 1, 4, 5, 10, 62, 1, 6, 91, 6, 1, 1, 17, 1, 1, 36, 4, 14, 1, 68, 3, 4, 1, 1, 1, 42, 7, 6, 1, 1, 1, 311, 1, 1, 1, 2], \"sizemode\": \"area\", \"sizeref\": 9.95111111111111}, \"mode\": \"markers\", \"name\": \"\", \"showlegend\": false, \"subplot\": \"mapbox\", \"type\": \"scattermapbox\"}],                        {\"coloraxis\": {\"cmax\": 3, \"cmin\": 0, \"colorbar\": {\"title\": {\"text\": \"Price ($) \"}}, \"colorscale\": [[0.0, \"rgb(255,255,255)\"], [0.125, \"rgb(240,240,240)\"], [0.25, \"rgb(217,217,217)\"], [0.375, \"rgb(189,189,189)\"], [0.5, \"rgb(150,150,150)\"], [0.625, \"rgb(115,115,115)\"], [0.75, \"rgb(82,82,82)\"], [0.875, \"rgb(37,37,37)\"], [1.0, \"rgb(0,0,0)\"]]}, \"height\": 500, \"legend\": {\"itemsizing\": \"constant\", \"tracegroupgap\": 0}, \"mapbox\": {\"accesstoken\": \"pk.eyJ1IjoiYm1jY2FydHk1MDUiLCJhIjoiY2tvbnJvdnFkMDNuZzJ2cHBwbTd1d2dibiJ9.m6-cNXAgqZ4WZZUWhoTjKA\", \"center\": {\"lat\": 38.3295241953953, \"lon\": -122.3340846822716}, \"domain\": {\"x\": [0.0, 1.0], \"y\": [0.0, 1.0]}, \"style\": \"light\", \"zoom\": 8.75}, \"template\": {\"data\": {\"bar\": [{\"error_x\": {\"color\": \"#2a3f5f\"}, \"error_y\": {\"color\": \"#2a3f5f\"}, \"marker\": {\"line\": {\"color\": \"#E5ECF6\", \"width\": 0.5}}, \"type\": \"bar\"}], \"barpolar\": [{\"marker\": {\"line\": {\"color\": \"#E5ECF6\", \"width\": 0.5}}, \"type\": \"barpolar\"}], \"carpet\": [{\"aaxis\": {\"endlinecolor\": \"#2a3f5f\", \"gridcolor\": \"white\", \"linecolor\": \"white\", \"minorgridcolor\": \"white\", \"startlinecolor\": \"#2a3f5f\"}, \"baxis\": {\"endlinecolor\": \"#2a3f5f\", \"gridcolor\": \"white\", \"linecolor\": \"white\", \"minorgridcolor\": \"white\", \"startlinecolor\": \"#2a3f5f\"}, \"type\": \"carpet\"}], \"choropleth\": [{\"colorbar\": {\"outlinewidth\": 0, \"ticks\": \"\"}, \"type\": \"choropleth\"}], \"contour\": [{\"colorbar\": {\"outlinewidth\": 0, \"ticks\": \"\"}, \"colorscale\": [[0.0, \"#0d0887\"], [0.1111111111111111, \"#46039f\"], [0.2222222222222222, \"#7201a8\"], [0.3333333333333333, \"#9c179e\"], [0.4444444444444444, \"#bd3786\"], [0.5555555555555556, \"#d8576b\"], [0.6666666666666666, \"#ed7953\"], [0.7777777777777778, \"#fb9f3a\"], [0.8888888888888888, \"#fdca26\"], [1.0, \"#f0f921\"]], \"type\": \"contour\"}], \"contourcarpet\": [{\"colorbar\": {\"outlinewidth\": 0, \"ticks\": \"\"}, \"type\": \"contourcarpet\"}], \"heatmap\": [{\"colorbar\": {\"outlinewidth\": 0, \"ticks\": \"\"}, \"colorscale\": [[0.0, \"#0d0887\"], [0.1111111111111111, \"#46039f\"], [0.2222222222222222, \"#7201a8\"], [0.3333333333333333, \"#9c179e\"], [0.4444444444444444, \"#bd3786\"], [0.5555555555555556, \"#d8576b\"], [0.6666666666666666, \"#ed7953\"], [0.7777777777777778, \"#fb9f3a\"], [0.8888888888888888, \"#fdca26\"], [1.0, \"#f0f921\"]], \"type\": \"heatmap\"}], \"heatmapgl\": [{\"colorbar\": {\"outlinewidth\": 0, \"ticks\": \"\"}, \"colorscale\": [[0.0, \"#0d0887\"], [0.1111111111111111, \"#46039f\"], [0.2222222222222222, \"#7201a8\"], [0.3333333333333333, \"#9c179e\"], [0.4444444444444444, \"#bd3786\"], [0.5555555555555556, \"#d8576b\"], [0.6666666666666666, \"#ed7953\"], [0.7777777777777778, \"#fb9f3a\"], [0.8888888888888888, \"#fdca26\"], [1.0, \"#f0f921\"]], \"type\": \"heatmapgl\"}], \"histogram\": [{\"marker\": {\"colorbar\": {\"outlinewidth\": 0, \"ticks\": \"\"}}, \"type\": \"histogram\"}], \"histogram2d\": [{\"colorbar\": {\"outlinewidth\": 0, \"ticks\": \"\"}, \"colorscale\": [[0.0, \"#0d0887\"], [0.1111111111111111, \"#46039f\"], [0.2222222222222222, \"#7201a8\"], [0.3333333333333333, \"#9c179e\"], [0.4444444444444444, \"#bd3786\"], [0.5555555555555556, \"#d8576b\"], [0.6666666666666666, \"#ed7953\"], [0.7777777777777778, \"#fb9f3a\"], [0.8888888888888888, \"#fdca26\"], [1.0, \"#f0f921\"]], \"type\": \"histogram2d\"}], \"histogram2dcontour\": [{\"colorbar\": {\"outlinewidth\": 0, \"ticks\": \"\"}, \"colorscale\": [[0.0, \"#0d0887\"], [0.1111111111111111, \"#46039f\"], [0.2222222222222222, \"#7201a8\"], [0.3333333333333333, \"#9c179e\"], [0.4444444444444444, \"#bd3786\"], [0.5555555555555556, \"#d8576b\"], [0.6666666666666666, \"#ed7953\"], [0.7777777777777778, \"#fb9f3a\"], [0.8888888888888888, \"#fdca26\"], [1.0, \"#f0f921\"]], \"type\": \"histogram2dcontour\"}], \"mesh3d\": [{\"colorbar\": {\"outlinewidth\": 0, \"ticks\": \"\"}, \"type\": \"mesh3d\"}], \"parcoords\": [{\"line\": {\"colorbar\": {\"outlinewidth\": 0, \"ticks\": \"\"}}, \"type\": \"parcoords\"}], \"pie\": [{\"automargin\": true, \"type\": \"pie\"}], \"scatter\": [{\"marker\": {\"colorbar\": {\"outlinewidth\": 0, \"ticks\": \"\"}}, \"type\": \"scatter\"}], \"scatter3d\": [{\"line\": {\"colorbar\": {\"outlinewidth\": 0, \"ticks\": \"\"}}, \"marker\": {\"colorbar\": {\"outlinewidth\": 0, \"ticks\": \"\"}}, \"type\": \"scatter3d\"}], \"scattercarpet\": [{\"marker\": {\"colorbar\": {\"outlinewidth\": 0, \"ticks\": \"\"}}, \"type\": \"scattercarpet\"}], \"scattergeo\": [{\"marker\": {\"colorbar\": {\"outlinewidth\": 0, \"ticks\": \"\"}}, \"type\": \"scattergeo\"}], \"scattergl\": [{\"marker\": {\"colorbar\": {\"outlinewidth\": 0, \"ticks\": \"\"}}, \"type\": \"scattergl\"}], \"scattermapbox\": [{\"marker\": {\"colorbar\": {\"outlinewidth\": 0, \"ticks\": \"\"}}, \"type\": \"scattermapbox\"}], \"scatterpolar\": [{\"marker\": {\"colorbar\": {\"outlinewidth\": 0, \"ticks\": \"\"}}, \"type\": \"scatterpolar\"}], \"scatterpolargl\": [{\"marker\": {\"colorbar\": {\"outlinewidth\": 0, \"ticks\": \"\"}}, \"type\": \"scatterpolargl\"}], \"scatterternary\": [{\"marker\": {\"colorbar\": {\"outlinewidth\": 0, \"ticks\": \"\"}}, \"type\": \"scatterternary\"}], \"surface\": [{\"colorbar\": {\"outlinewidth\": 0, \"ticks\": \"\"}, \"colorscale\": [[0.0, \"#0d0887\"], [0.1111111111111111, \"#46039f\"], [0.2222222222222222, \"#7201a8\"], [0.3333333333333333, \"#9c179e\"], [0.4444444444444444, \"#bd3786\"], [0.5555555555555556, \"#d8576b\"], [0.6666666666666666, \"#ed7953\"], [0.7777777777777778, \"#fb9f3a\"], [0.8888888888888888, \"#fdca26\"], [1.0, \"#f0f921\"]], \"type\": \"surface\"}], \"table\": [{\"cells\": {\"fill\": {\"color\": \"#EBF0F8\"}, \"line\": {\"color\": \"white\"}}, \"header\": {\"fill\": {\"color\": \"#C8D4E3\"}, \"line\": {\"color\": \"white\"}}, \"type\": \"table\"}]}, \"layout\": {\"annotationdefaults\": {\"arrowcolor\": \"#2a3f5f\", \"arrowhead\": 0, \"arrowwidth\": 1}, \"coloraxis\": {\"colorbar\": {\"outlinewidth\": 0, \"ticks\": \"\"}}, \"colorscale\": {\"diverging\": [[0, \"#8e0152\"], [0.1, \"#c51b7d\"], [0.2, \"#de77ae\"], [0.3, \"#f1b6da\"], [0.4, \"#fde0ef\"], [0.5, \"#f7f7f7\"], [0.6, \"#e6f5d0\"], [0.7, \"#b8e186\"], [0.8, \"#7fbc41\"], [0.9, \"#4d9221\"], [1, \"#276419\"]], \"sequential\": [[0.0, \"#0d0887\"], [0.1111111111111111, \"#46039f\"], [0.2222222222222222, \"#7201a8\"], [0.3333333333333333, \"#9c179e\"], [0.4444444444444444, \"#bd3786\"], [0.5555555555555556, \"#d8576b\"], [0.6666666666666666, \"#ed7953\"], [0.7777777777777778, \"#fb9f3a\"], [0.8888888888888888, \"#fdca26\"], [1.0, \"#f0f921\"]], \"sequentialminus\": [[0.0, \"#0d0887\"], [0.1111111111111111, \"#46039f\"], [0.2222222222222222, \"#7201a8\"], [0.3333333333333333, \"#9c179e\"], [0.4444444444444444, \"#bd3786\"], [0.5555555555555556, \"#d8576b\"], [0.6666666666666666, \"#ed7953\"], [0.7777777777777778, \"#fb9f3a\"], [0.8888888888888888, \"#fdca26\"], [1.0, \"#f0f921\"]]}, \"colorway\": [\"#636efa\", \"#EF553B\", \"#00cc96\", \"#ab63fa\", \"#FFA15A\", \"#19d3f3\", \"#FF6692\", \"#B6E880\", \"#FF97FF\", \"#FECB52\"], \"font\": {\"color\": \"#2a3f5f\"}, \"geo\": {\"bgcolor\": \"white\", \"lakecolor\": \"white\", \"landcolor\": \"#E5ECF6\", \"showlakes\": true, \"showland\": true, \"subunitcolor\": \"white\"}, \"hoverlabel\": {\"align\": \"left\"}, \"hovermode\": \"closest\", \"mapbox\": {\"style\": \"light\"}, \"paper_bgcolor\": \"white\", \"plot_bgcolor\": \"#E5ECF6\", \"polar\": {\"angularaxis\": {\"gridcolor\": \"white\", \"linecolor\": \"white\", \"ticks\": \"\"}, \"bgcolor\": \"#E5ECF6\", \"radialaxis\": {\"gridcolor\": \"white\", \"linecolor\": \"white\", \"ticks\": \"\"}}, \"scene\": {\"xaxis\": {\"backgroundcolor\": \"#E5ECF6\", \"gridcolor\": \"white\", \"gridwidth\": 2, \"linecolor\": \"white\", \"showbackground\": true, \"ticks\": \"\", \"zerolinecolor\": \"white\"}, \"yaxis\": {\"backgroundcolor\": \"#E5ECF6\", \"gridcolor\": \"white\", \"gridwidth\": 2, \"linecolor\": \"white\", \"showbackground\": true, \"ticks\": \"\", \"zerolinecolor\": \"white\"}, \"zaxis\": {\"backgroundcolor\": \"#E5ECF6\", \"gridcolor\": \"white\", \"gridwidth\": 2, \"linecolor\": \"white\", \"showbackground\": true, \"ticks\": \"\", \"zerolinecolor\": \"white\"}}, \"shapedefaults\": {\"line\": {\"color\": \"#2a3f5f\"}}, \"ternary\": {\"aaxis\": {\"gridcolor\": \"white\", \"linecolor\": \"white\", \"ticks\": \"\"}, \"baxis\": {\"gridcolor\": \"white\", \"linecolor\": \"white\", \"ticks\": \"\"}, \"bgcolor\": \"#E5ECF6\", \"caxis\": {\"gridcolor\": \"white\", \"linecolor\": \"white\", \"ticks\": \"\"}}, \"title\": {\"x\": 0.05}, \"xaxis\": {\"automargin\": true, \"gridcolor\": \"white\", \"linecolor\": \"white\", \"ticks\": \"\", \"title\": {\"standoff\": 15}, \"zerolinecolor\": \"white\", \"zerolinewidth\": 2}, \"yaxis\": {\"automargin\": true, \"gridcolor\": \"white\", \"linecolor\": \"white\", \"ticks\": \"\", \"title\": {\"standoff\": 15}, \"zerolinecolor\": \"white\", \"zerolinewidth\": 2}}}, \"title\": {\"text\": \"Napa Valley Wineries\"}, \"width\": 600},                        {\"responsive\": true}                    ).then(function(){\n",
       "                            \n",
       "var gd = document.getElementById('373c6d8d-a54a-4062-b60c-7fb28b78d09e');\n",
       "var x = new MutationObserver(function (mutations, observer) {{\n",
       "        var display = window.getComputedStyle(gd).display;\n",
       "        if (!display || display === 'none') {{\n",
       "            console.log([gd, 'removed!']);\n",
       "            Plotly.purge(gd);\n",
       "            observer.disconnect();\n",
       "        }}\n",
       "}});\n",
       "\n",
       "// Listen for the removal of the full notebook cells\n",
       "var notebookContainer = gd.closest('#notebook-container');\n",
       "if (notebookContainer) {{\n",
       "    x.observe(notebookContainer, {childList: true});\n",
       "}}\n",
       "\n",
       "// Listen for the clearing of the current output cell\n",
       "var outputEl = gd.closest('.output');\n",
       "if (outputEl) {{\n",
       "    x.observe(outputEl, {childList: true});\n",
       "}}\n",
       "\n",
       "                        })                };                });            </script>        </div>"
      ]
     },
     "metadata": {},
     "output_type": "display_data"
    }
   ],
   "source": [
    "# Creating geospatial view of Napa Valley Wineries\n",
    "\n",
    "# Using Mapbox's API for geographical information\n",
    "with open(r'C:\\Users\\bmcca\\.secret\\mapbox_api.json') as f:\n",
    "    token = json.load(f)\n",
    "\n",
    "open(r'C:\\Users\\bmcca\\.secret\\mapbox_api.json').read()\n",
    "    \n",
    "token = token['token']\n",
    "\n",
    "px.set_mapbox_access_token(token)\n",
    "\n",
    "# Setting the dataframe to be visualized\n",
    "df_nv = combined[combined['City'] == 'Napa Valley']\n",
    "\n",
    "# Creating the map\n",
    "fig = px.scatter_mapbox(df_nv, lat= \"latitude\", lon= \"longitude\", \n",
    "                        color= \"price_converted\", range_color= (0, 3),\n",
    "                        labels= {\"price_converted\": \"Price ($) \",\n",
    "                                 \"latitude\":\"Latitude \",\n",
    "                                 \"longitude\":\"Longitude \",\n",
    "                                 'review_count':'Number of Reviews '},\n",
    "                        size= 'review_count', hover_name = df_nv[\"name\"],\n",
    "                        color_continuous_scale=px.colors.sequential.Greys,\n",
    "                        size_max=15, zoom=8.75, title='Napa Valley Wineries',\n",
    "                        mapbox_style='light', width=600, height=500)\n",
    "fig.show()"
   ]
  },
  {
   "cell_type": "markdown",
   "metadata": {},
   "source": [
    "Our geospatial map of Napa Valley shows the locations of the wineries, with the size of each point reflecting the number of reviews and the color saturation reflecting price. The map shows there is a strong clustering of wineries in the Northern region, as well as to the Southwest of Napa.\n",
    "\n",
    "**Based on this mapping, we can see that there is a strong amount of competition in the Napa Valley area. The wineries in the Southwest area show a larger number of reviews, indicating an established presence. Both of these evaluations indicate the difficulty in establishing a new winery in this market due to the established wineries and number of competitors.**"
   ]
  },
  {
   "cell_type": "code",
   "execution_count": 48,
   "metadata": {
    "ExecuteTime": {
     "end_time": "2021-05-17T00:23:10.144971Z",
     "start_time": "2021-05-17T00:23:10.076988Z"
    },
    "code_folding": [
     0
    ],
    "scrolled": false
   },
   "outputs": [
    {
     "data": {
      "application/vnd.plotly.v1+json": {
       "config": {
        "plotlyServerURL": "https://plot.ly"
       },
       "data": [
        {
         "hovertemplate": "<b>%{hovertext}</b><br><br>Number of Reviews =%{marker.size}<br>Latitude =%{lat}<br>Longitude =%{lon}<br>Price ($) =%{marker.color}<extra></extra>",
         "hovertext": [
          "Bernardo Winery",
          "Callaway Vineyard & Winery",
          "San Pasqual Winery - Seaport Village",
          "Négociant Winery",
          "Domaine Artefact Vineyard & Winery",
          "Carruth Cellars Wine Garden",
          "Blue Door Urban Winery",
          "Cordiano Winery",
          "FruitCraft - Fermentery & Distillery",
          "Pali Wine Co",
          "LJ Crafted Wines - Wines & Tastings",
          "Koi Zen Cellars",
          "Speckle Rock Vineyards",
          "San Pasqual Winery",
          "Altipiano Vineyard & Winery",
          "Gianni Buonomo Vintners",
          "La Mesa Wine Works",
          "Granite Lion Cellars",
          "Highland Valley Vineyards",
          "Three Hills Winery",
          "Bastian's Vineyards",
          "Woof'n Rose Winery and Vineyard",
          "80 Sips Around the World",
          "Abnormal Wine Company",
          "Vineyard Grant James",
          "Rose's Tasting Room",
          "Rustic Ridge Vineyards",
          "Espinosa Vineyards and Winery",
          "So Cal Wines",
          "Charlie & Echo",
          "California Wine Line",
          "San Pasqual Winery Tasting Room & Gallery",
          "Chuparosa Vineyards",
          "Record Family Wines",
          "Principe di Tricase Winery",
          "Dulzura Vineyard & Winery",
          "Hatfield Creek Winery",
          "Cheval Winery",
          "Quigley Fine Wines",
          "Wine Smarties",
          "Mermaid Valley Vineyard",
          "La Finquita Winery & Vineyard",
          "Trevi Hills",
          "Old Julian Vineyards & Winery",
          "Hungry Hawk Vineyards & Winery",
          "Rancho Guejito Vineyard",
          "Poppaea Vineyard",
          "Barrel 1 Winery",
          "Mahogany Mountain Vineyard and Winery",
          "Mission Cellars",
          "Forgotten Barrel Tasting Room",
          "Old Survey Vineyards",
          "Crystal Hill Vineyard",
          "Schwaesdall Winery",
          "Turtle Rock Ridge Vineyard Winery",
          "Carruth Cellars",
          "Castelli Family Vineyards",
          "L.A. Cetto",
          "Correcaminos Vineyard",
          "Siela Wines",
          "Pamo Valley Winery Tasting Room",
          "Rock Canyon Vineyards",
          "La Jolla Art & Wine Festival",
          "Campo Creek Vineyards Tasting Room",
          "Edwards Vineyard & Cellars",
          "Mia Marie Vineyards",
          "ZXQ Vineyards",
          "Milagro Farm Winery",
          "Kohill Winery",
          "I Love Wine",
          "Good Omen Mead",
          "Barrel Riot",
          "Vineyard Grant James",
          "GSalinas Negociante en Vinos",
          "La Contra",
          "Sans V Tasting Room",
          "Rashelica Winery & Art Garden",
          "Roll OutThe Barrell Charity Event by Meritage",
          "Licores Kentucky",
          "Barrica 9",
          "RL Liquid Assets, Inc",
          "Cactus Star Vineyard at Scaredy Cat Ranch"
         ],
         "lat": [
          33.0328,
          32.710750611729395,
          32.7087316452387,
          32.75488,
          33.06817,
          32.72748,
          32.814091,
          33.068117972323016,
          32.748217219191105,
          32.7267968,
          32.81438,
          32.9864799,
          33.0613615832364,
          32.7715894,
          33.063289642334,
          32.745389,
          32.7716259387843,
          32.715435,
          33.071769714355504,
          33.03098,
          33.070272,
          33.021401000000004,
          32.715738,
          33.023853302002,
          33.052155931209,
          32.7555682871263,
          32.72896,
          33.0704482,
          32.917669399999994,
          32.89655,
          32.6059744,
          32.76572,
          33.009689,
          32.748259999999995,
          33.0246391,
          32.639056,
          33.0441995688399,
          33.12341,
          32.6837679,
          32.90345,
          33.0268827348204,
          33.0317768,
          32.89992,
          33.052261,
          33.09388,
          33.095456,
          33.0555,
          33.0632476806641,
          32.9863389262394,
          32.96892183,
          33.1022,
          33.0778968096676,
          33.049052,
          33.008227000000005,
          33.033069610595696,
          32.99163,
          33.06372,
          32.524224,
          33.0762799,
          33.0656310151373,
          33.0455332,
          32.8350521,
          32.837047576904304,
          32.9566704507056,
          33.0666150952216,
          33.070192,
          33.06571,
          33.052468,
          33.0285148620605,
          32.801342,
          33.12182,
          33.12177,
          33.05236,
          32.5126076,
          32.521736,
          33.121009,
          33.010505,
          33.037121,
          32.534236,
          32.53043,
          33.134743,
          33.02015
         ],
         "legendgroup": "",
         "lon": [
          -117.04646,
          -117.160917759246,
          -117.168194991742,
          -117.13828,
          -117.0016,
          -117.17056,
          -117.218254,
          -116.99171457055219,
          -117.149462938309,
          -117.1697587,
          -117.2695,
          -117.072145,
          -116.97740401976601,
          -117.0213181,
          -117.00439453125,
          -117.24811,
          -117.021328279762,
          -116.84783157306343,
          -117.00839233398399,
          -116.96538,
          -117.011318,
          -116.936933,
          -117.1610838,
          -117.085762023926,
          -116.78319322693899,
          -117.19690329126301,
          -116.83318,
          -117.0094544,
          -117.2309713,
          -117.13743,
          -117.0441009,
          -117.01787,
          -116.858495,
          -117.15441,
          -116.932663,
          -116.769926,
          -116.828583402447,
          -117.13297,
          -117.0923119,
          -117.18322,
          -116.93342195866501,
          -116.82126540000002,
          -116.89408,
          -116.781211,
          -117.03008,
          -116.957487,
          -116.77747,
          -116.843803405762,
          -116.91655755043,
          -117.0359015,
          -117.08685,
          -116.96157606030899,
          -116.808999,
          -116.9243421,
          -116.82577514648399,
          -117.27013999999998,
          -116.93436,
          -117.037935,
          -116.86303999999998,
          -117.3028134612,
          -116.8624832,
          -116.7664109,
          -117.255386352539,
          -117.037956596771,
          -116.757814805557,
          -117.016705,
          -116.99772,
          -116.750704,
          -116.953086853027,
          -117.2253647,
          -117.08044,
          -117.08053999999998,
          -116.78258999999998,
          -117.0024643,
          -117.026009,
          -117.115748,
          -116.919508,
          -117.238654,
          -117.034976,
          -117.0365,
          -117.248093,
          -116.92813999999998
         ],
         "marker": {
          "color": [
           2,
           2,
           2,
           2,
           2,
           2,
           2,
           2,
           2,
           2,
           2,
           2,
           2,
           2,
           2,
           2,
           2,
           2,
           2,
           2,
           2,
           2,
           2,
           2,
           2,
           2,
           2,
           2,
           2,
           1,
           2,
           2,
           2,
           2,
           2,
           2,
           2,
           2,
           2,
           2,
           2,
           2,
           2,
           2,
           2,
           2,
           2,
           2,
           2,
           2,
           2,
           2,
           2,
           2,
           2,
           2,
           2,
           2,
           2,
           2,
           2,
           2,
           1,
           2,
           2,
           2,
           2,
           2,
           2,
           2,
           2,
           2,
           2,
           3,
           2,
           2,
           2,
           2,
           2,
           2,
           2,
           1
          ],
          "coloraxis": "coloraxis",
          "size": [
           626,
           100,
           138,
           103,
           96,
           196,
           76,
           547,
           308,
           176,
           86,
           113,
           60,
           20,
           111,
           55,
           43,
           26,
           38,
           6,
           1,
           23,
           1,
           99,
           155,
           99,
           18,
           126,
           2,
           12,
           2,
           81,
           39,
           3,
           71,
           24,
           104,
           33,
           3,
           26,
           3,
           45,
           15,
           4,
           118,
           31,
           19,
           33,
           14,
           46,
           76,
           27,
           9,
           23,
           114,
           244,
           8,
           35,
           29,
           1,
           54,
           7,
           14,
           13,
           17,
           17,
           2,
           141,
           17,
           1,
           5,
           2,
           1,
           6,
           1,
           26,
           144,
           1,
           1,
           7,
           2,
           8
          ],
          "sizemode": "area",
          "sizeref": 2.7822222222222224
         },
         "mode": "markers",
         "name": "",
         "showlegend": false,
         "subplot": "mapbox",
         "type": "scattermapbox"
        }
       ],
       "layout": {
        "coloraxis": {
         "cmax": 3,
         "cmin": 0,
         "colorbar": {
          "title": {
           "text": "Price ($) "
          }
         },
         "colorscale": [
          [
           0,
           "rgb(255,255,255)"
          ],
          [
           0.125,
           "rgb(240,240,240)"
          ],
          [
           0.25,
           "rgb(217,217,217)"
          ],
          [
           0.375,
           "rgb(189,189,189)"
          ],
          [
           0.5,
           "rgb(150,150,150)"
          ],
          [
           0.625,
           "rgb(115,115,115)"
          ],
          [
           0.75,
           "rgb(82,82,82)"
          ],
          [
           0.875,
           "rgb(37,37,37)"
          ],
          [
           1,
           "rgb(0,0,0)"
          ]
         ]
        },
        "height": 500,
        "legend": {
         "itemsizing": "constant",
         "tracegroupgap": 0
        },
        "mapbox": {
         "accesstoken": "pk.eyJ1IjoiYm1jY2FydHk1MDUiLCJhIjoiY2tvbnJvdnFkMDNuZzJ2cHBwbTd1d2dibiJ9.m6-cNXAgqZ4WZZUWhoTjKA",
         "center": {
          "lat": 32.926059337907155,
          "lon": -117.01434377235364
         },
         "domain": {
          "x": [
           0,
           1
          ],
          "y": [
           0,
           1
          ]
         },
         "style": "light",
         "zoom": 8.5
        },
        "template": {
         "data": {
          "bar": [
           {
            "error_x": {
             "color": "#2a3f5f"
            },
            "error_y": {
             "color": "#2a3f5f"
            },
            "marker": {
             "line": {
              "color": "#E5ECF6",
              "width": 0.5
             }
            },
            "type": "bar"
           }
          ],
          "barpolar": [
           {
            "marker": {
             "line": {
              "color": "#E5ECF6",
              "width": 0.5
             }
            },
            "type": "barpolar"
           }
          ],
          "carpet": [
           {
            "aaxis": {
             "endlinecolor": "#2a3f5f",
             "gridcolor": "white",
             "linecolor": "white",
             "minorgridcolor": "white",
             "startlinecolor": "#2a3f5f"
            },
            "baxis": {
             "endlinecolor": "#2a3f5f",
             "gridcolor": "white",
             "linecolor": "white",
             "minorgridcolor": "white",
             "startlinecolor": "#2a3f5f"
            },
            "type": "carpet"
           }
          ],
          "choropleth": [
           {
            "colorbar": {
             "outlinewidth": 0,
             "ticks": ""
            },
            "type": "choropleth"
           }
          ],
          "contour": [
           {
            "colorbar": {
             "outlinewidth": 0,
             "ticks": ""
            },
            "colorscale": [
             [
              0,
              "#0d0887"
             ],
             [
              0.1111111111111111,
              "#46039f"
             ],
             [
              0.2222222222222222,
              "#7201a8"
             ],
             [
              0.3333333333333333,
              "#9c179e"
             ],
             [
              0.4444444444444444,
              "#bd3786"
             ],
             [
              0.5555555555555556,
              "#d8576b"
             ],
             [
              0.6666666666666666,
              "#ed7953"
             ],
             [
              0.7777777777777778,
              "#fb9f3a"
             ],
             [
              0.8888888888888888,
              "#fdca26"
             ],
             [
              1,
              "#f0f921"
             ]
            ],
            "type": "contour"
           }
          ],
          "contourcarpet": [
           {
            "colorbar": {
             "outlinewidth": 0,
             "ticks": ""
            },
            "type": "contourcarpet"
           }
          ],
          "heatmap": [
           {
            "colorbar": {
             "outlinewidth": 0,
             "ticks": ""
            },
            "colorscale": [
             [
              0,
              "#0d0887"
             ],
             [
              0.1111111111111111,
              "#46039f"
             ],
             [
              0.2222222222222222,
              "#7201a8"
             ],
             [
              0.3333333333333333,
              "#9c179e"
             ],
             [
              0.4444444444444444,
              "#bd3786"
             ],
             [
              0.5555555555555556,
              "#d8576b"
             ],
             [
              0.6666666666666666,
              "#ed7953"
             ],
             [
              0.7777777777777778,
              "#fb9f3a"
             ],
             [
              0.8888888888888888,
              "#fdca26"
             ],
             [
              1,
              "#f0f921"
             ]
            ],
            "type": "heatmap"
           }
          ],
          "heatmapgl": [
           {
            "colorbar": {
             "outlinewidth": 0,
             "ticks": ""
            },
            "colorscale": [
             [
              0,
              "#0d0887"
             ],
             [
              0.1111111111111111,
              "#46039f"
             ],
             [
              0.2222222222222222,
              "#7201a8"
             ],
             [
              0.3333333333333333,
              "#9c179e"
             ],
             [
              0.4444444444444444,
              "#bd3786"
             ],
             [
              0.5555555555555556,
              "#d8576b"
             ],
             [
              0.6666666666666666,
              "#ed7953"
             ],
             [
              0.7777777777777778,
              "#fb9f3a"
             ],
             [
              0.8888888888888888,
              "#fdca26"
             ],
             [
              1,
              "#f0f921"
             ]
            ],
            "type": "heatmapgl"
           }
          ],
          "histogram": [
           {
            "marker": {
             "colorbar": {
              "outlinewidth": 0,
              "ticks": ""
             }
            },
            "type": "histogram"
           }
          ],
          "histogram2d": [
           {
            "colorbar": {
             "outlinewidth": 0,
             "ticks": ""
            },
            "colorscale": [
             [
              0,
              "#0d0887"
             ],
             [
              0.1111111111111111,
              "#46039f"
             ],
             [
              0.2222222222222222,
              "#7201a8"
             ],
             [
              0.3333333333333333,
              "#9c179e"
             ],
             [
              0.4444444444444444,
              "#bd3786"
             ],
             [
              0.5555555555555556,
              "#d8576b"
             ],
             [
              0.6666666666666666,
              "#ed7953"
             ],
             [
              0.7777777777777778,
              "#fb9f3a"
             ],
             [
              0.8888888888888888,
              "#fdca26"
             ],
             [
              1,
              "#f0f921"
             ]
            ],
            "type": "histogram2d"
           }
          ],
          "histogram2dcontour": [
           {
            "colorbar": {
             "outlinewidth": 0,
             "ticks": ""
            },
            "colorscale": [
             [
              0,
              "#0d0887"
             ],
             [
              0.1111111111111111,
              "#46039f"
             ],
             [
              0.2222222222222222,
              "#7201a8"
             ],
             [
              0.3333333333333333,
              "#9c179e"
             ],
             [
              0.4444444444444444,
              "#bd3786"
             ],
             [
              0.5555555555555556,
              "#d8576b"
             ],
             [
              0.6666666666666666,
              "#ed7953"
             ],
             [
              0.7777777777777778,
              "#fb9f3a"
             ],
             [
              0.8888888888888888,
              "#fdca26"
             ],
             [
              1,
              "#f0f921"
             ]
            ],
            "type": "histogram2dcontour"
           }
          ],
          "mesh3d": [
           {
            "colorbar": {
             "outlinewidth": 0,
             "ticks": ""
            },
            "type": "mesh3d"
           }
          ],
          "parcoords": [
           {
            "line": {
             "colorbar": {
              "outlinewidth": 0,
              "ticks": ""
             }
            },
            "type": "parcoords"
           }
          ],
          "pie": [
           {
            "automargin": true,
            "type": "pie"
           }
          ],
          "scatter": [
           {
            "marker": {
             "colorbar": {
              "outlinewidth": 0,
              "ticks": ""
             }
            },
            "type": "scatter"
           }
          ],
          "scatter3d": [
           {
            "line": {
             "colorbar": {
              "outlinewidth": 0,
              "ticks": ""
             }
            },
            "marker": {
             "colorbar": {
              "outlinewidth": 0,
              "ticks": ""
             }
            },
            "type": "scatter3d"
           }
          ],
          "scattercarpet": [
           {
            "marker": {
             "colorbar": {
              "outlinewidth": 0,
              "ticks": ""
             }
            },
            "type": "scattercarpet"
           }
          ],
          "scattergeo": [
           {
            "marker": {
             "colorbar": {
              "outlinewidth": 0,
              "ticks": ""
             }
            },
            "type": "scattergeo"
           }
          ],
          "scattergl": [
           {
            "marker": {
             "colorbar": {
              "outlinewidth": 0,
              "ticks": ""
             }
            },
            "type": "scattergl"
           }
          ],
          "scattermapbox": [
           {
            "marker": {
             "colorbar": {
              "outlinewidth": 0,
              "ticks": ""
             }
            },
            "type": "scattermapbox"
           }
          ],
          "scatterpolar": [
           {
            "marker": {
             "colorbar": {
              "outlinewidth": 0,
              "ticks": ""
             }
            },
            "type": "scatterpolar"
           }
          ],
          "scatterpolargl": [
           {
            "marker": {
             "colorbar": {
              "outlinewidth": 0,
              "ticks": ""
             }
            },
            "type": "scatterpolargl"
           }
          ],
          "scatterternary": [
           {
            "marker": {
             "colorbar": {
              "outlinewidth": 0,
              "ticks": ""
             }
            },
            "type": "scatterternary"
           }
          ],
          "surface": [
           {
            "colorbar": {
             "outlinewidth": 0,
             "ticks": ""
            },
            "colorscale": [
             [
              0,
              "#0d0887"
             ],
             [
              0.1111111111111111,
              "#46039f"
             ],
             [
              0.2222222222222222,
              "#7201a8"
             ],
             [
              0.3333333333333333,
              "#9c179e"
             ],
             [
              0.4444444444444444,
              "#bd3786"
             ],
             [
              0.5555555555555556,
              "#d8576b"
             ],
             [
              0.6666666666666666,
              "#ed7953"
             ],
             [
              0.7777777777777778,
              "#fb9f3a"
             ],
             [
              0.8888888888888888,
              "#fdca26"
             ],
             [
              1,
              "#f0f921"
             ]
            ],
            "type": "surface"
           }
          ],
          "table": [
           {
            "cells": {
             "fill": {
              "color": "#EBF0F8"
             },
             "line": {
              "color": "white"
             }
            },
            "header": {
             "fill": {
              "color": "#C8D4E3"
             },
             "line": {
              "color": "white"
             }
            },
            "type": "table"
           }
          ]
         },
         "layout": {
          "annotationdefaults": {
           "arrowcolor": "#2a3f5f",
           "arrowhead": 0,
           "arrowwidth": 1
          },
          "coloraxis": {
           "colorbar": {
            "outlinewidth": 0,
            "ticks": ""
           }
          },
          "colorscale": {
           "diverging": [
            [
             0,
             "#8e0152"
            ],
            [
             0.1,
             "#c51b7d"
            ],
            [
             0.2,
             "#de77ae"
            ],
            [
             0.3,
             "#f1b6da"
            ],
            [
             0.4,
             "#fde0ef"
            ],
            [
             0.5,
             "#f7f7f7"
            ],
            [
             0.6,
             "#e6f5d0"
            ],
            [
             0.7,
             "#b8e186"
            ],
            [
             0.8,
             "#7fbc41"
            ],
            [
             0.9,
             "#4d9221"
            ],
            [
             1,
             "#276419"
            ]
           ],
           "sequential": [
            [
             0,
             "#0d0887"
            ],
            [
             0.1111111111111111,
             "#46039f"
            ],
            [
             0.2222222222222222,
             "#7201a8"
            ],
            [
             0.3333333333333333,
             "#9c179e"
            ],
            [
             0.4444444444444444,
             "#bd3786"
            ],
            [
             0.5555555555555556,
             "#d8576b"
            ],
            [
             0.6666666666666666,
             "#ed7953"
            ],
            [
             0.7777777777777778,
             "#fb9f3a"
            ],
            [
             0.8888888888888888,
             "#fdca26"
            ],
            [
             1,
             "#f0f921"
            ]
           ],
           "sequentialminus": [
            [
             0,
             "#0d0887"
            ],
            [
             0.1111111111111111,
             "#46039f"
            ],
            [
             0.2222222222222222,
             "#7201a8"
            ],
            [
             0.3333333333333333,
             "#9c179e"
            ],
            [
             0.4444444444444444,
             "#bd3786"
            ],
            [
             0.5555555555555556,
             "#d8576b"
            ],
            [
             0.6666666666666666,
             "#ed7953"
            ],
            [
             0.7777777777777778,
             "#fb9f3a"
            ],
            [
             0.8888888888888888,
             "#fdca26"
            ],
            [
             1,
             "#f0f921"
            ]
           ]
          },
          "colorway": [
           "#636efa",
           "#EF553B",
           "#00cc96",
           "#ab63fa",
           "#FFA15A",
           "#19d3f3",
           "#FF6692",
           "#B6E880",
           "#FF97FF",
           "#FECB52"
          ],
          "font": {
           "color": "#2a3f5f"
          },
          "geo": {
           "bgcolor": "white",
           "lakecolor": "white",
           "landcolor": "#E5ECF6",
           "showlakes": true,
           "showland": true,
           "subunitcolor": "white"
          },
          "hoverlabel": {
           "align": "left"
          },
          "hovermode": "closest",
          "mapbox": {
           "style": "light"
          },
          "paper_bgcolor": "white",
          "plot_bgcolor": "#E5ECF6",
          "polar": {
           "angularaxis": {
            "gridcolor": "white",
            "linecolor": "white",
            "ticks": ""
           },
           "bgcolor": "#E5ECF6",
           "radialaxis": {
            "gridcolor": "white",
            "linecolor": "white",
            "ticks": ""
           }
          },
          "scene": {
           "xaxis": {
            "backgroundcolor": "#E5ECF6",
            "gridcolor": "white",
            "gridwidth": 2,
            "linecolor": "white",
            "showbackground": true,
            "ticks": "",
            "zerolinecolor": "white"
           },
           "yaxis": {
            "backgroundcolor": "#E5ECF6",
            "gridcolor": "white",
            "gridwidth": 2,
            "linecolor": "white",
            "showbackground": true,
            "ticks": "",
            "zerolinecolor": "white"
           },
           "zaxis": {
            "backgroundcolor": "#E5ECF6",
            "gridcolor": "white",
            "gridwidth": 2,
            "linecolor": "white",
            "showbackground": true,
            "ticks": "",
            "zerolinecolor": "white"
           }
          },
          "shapedefaults": {
           "line": {
            "color": "#2a3f5f"
           }
          },
          "ternary": {
           "aaxis": {
            "gridcolor": "white",
            "linecolor": "white",
            "ticks": ""
           },
           "baxis": {
            "gridcolor": "white",
            "linecolor": "white",
            "ticks": ""
           },
           "bgcolor": "#E5ECF6",
           "caxis": {
            "gridcolor": "white",
            "linecolor": "white",
            "ticks": ""
           }
          },
          "title": {
           "x": 0.05
          },
          "xaxis": {
           "automargin": true,
           "gridcolor": "white",
           "linecolor": "white",
           "ticks": "",
           "title": {
            "standoff": 15
           },
           "zerolinecolor": "white",
           "zerolinewidth": 2
          },
          "yaxis": {
           "automargin": true,
           "gridcolor": "white",
           "linecolor": "white",
           "ticks": "",
           "title": {
            "standoff": 15
           },
           "zerolinecolor": "white",
           "zerolinewidth": 2
          }
         }
        },
        "title": {
         "text": "San Diego Wineries"
        },
        "width": 600
       }
      },
      "text/html": [
       "<div>                            <div id=\"0ad0b48d-725d-4f0d-aa36-1b819faac619\" class=\"plotly-graph-div\" style=\"height:500px; width:600px;\"></div>            <script type=\"text/javascript\">                require([\"plotly\"], function(Plotly) {                    window.PLOTLYENV=window.PLOTLYENV || {};                                    if (document.getElementById(\"0ad0b48d-725d-4f0d-aa36-1b819faac619\")) {                    Plotly.newPlot(                        \"0ad0b48d-725d-4f0d-aa36-1b819faac619\",                        [{\"hovertemplate\": \"<b>%{hovertext}</b><br><br>Number of Reviews =%{marker.size}<br>Latitude =%{lat}<br>Longitude =%{lon}<br>Price ($) =%{marker.color}<extra></extra>\", \"hovertext\": [\"Bernardo Winery\", \"Callaway Vineyard & Winery\", \"San Pasqual Winery - Seaport Village\", \"N\\u00e9gociant Winery\", \"Domaine Artefact Vineyard & Winery\", \"Carruth Cellars Wine Garden\", \"Blue Door Urban Winery\", \"Cordiano Winery\", \"FruitCraft - Fermentery & Distillery\", \"Pali Wine Co\", \"LJ Crafted Wines - Wines & Tastings\", \"Koi Zen Cellars\", \"Speckle Rock Vineyards\", \"San Pasqual Winery\", \"Altipiano Vineyard & Winery\", \"Gianni Buonomo Vintners\", \"La Mesa Wine Works\", \"Granite Lion Cellars\", \"Highland Valley Vineyards\", \"Three Hills Winery\", \"Bastian's Vineyards\", \"Woof'n Rose Winery and Vineyard\", \"80 Sips Around the World\", \"Abnormal Wine Company\", \"Vineyard Grant James\", \"Rose's Tasting Room\", \"Rustic Ridge Vineyards\", \"Espinosa Vineyards and Winery\", \"So Cal Wines\", \"Charlie & Echo\", \"California Wine Line\", \"San Pasqual Winery Tasting Room & Gallery\", \"Chuparosa Vineyards\", \"Record Family Wines\", \"Principe di Tricase Winery\", \"Dulzura Vineyard & Winery\", \"Hatfield Creek Winery\", \"Cheval Winery\", \"Quigley Fine Wines\", \"Wine Smarties\", \"Mermaid Valley Vineyard\", \"La Finquita Winery & Vineyard\", \"Trevi Hills\", \"Old Julian Vineyards & Winery\", \"Hungry Hawk Vineyards & Winery\", \"Rancho Guejito Vineyard\", \"Poppaea Vineyard\", \"Barrel 1 Winery\", \"Mahogany Mountain Vineyard and Winery\", \"Mission Cellars\", \"Forgotten Barrel Tasting Room\", \"Old Survey Vineyards\", \"Crystal Hill Vineyard\", \"Schwaesdall Winery\", \"Turtle Rock Ridge Vineyard Winery\", \"Carruth Cellars\", \"Castelli Family Vineyards\", \"L.A. Cetto\", \"Correcaminos Vineyard\", \"Siela Wines\", \"Pamo Valley Winery Tasting Room\", \"Rock Canyon Vineyards\", \"La Jolla Art & Wine Festival\", \"Campo Creek Vineyards Tasting Room\", \"Edwards Vineyard & Cellars\", \"Mia Marie Vineyards\", \"ZXQ Vineyards\", \"Milagro Farm Winery\", \"Kohill Winery\", \"I Love Wine\", \"Good Omen Mead\", \"Barrel Riot\", \"Vineyard Grant James\", \"GSalinas Negociante en Vinos\", \"La Contra\", \"Sans V Tasting Room\", \"Rashelica Winery & Art Garden\", \"Roll OutThe Barrell Charity Event by Meritage\", \"Licores Kentucky\", \"Barrica 9\", \"RL Liquid Assets, Inc\", \"Cactus Star Vineyard at Scaredy Cat Ranch\"], \"lat\": [33.0328, 32.710750611729395, 32.7087316452387, 32.75488, 33.06817, 32.72748, 32.814091, 33.068117972323016, 32.748217219191105, 32.7267968, 32.81438, 32.9864799, 33.0613615832364, 32.7715894, 33.063289642334, 32.745389, 32.7716259387843, 32.715435, 33.071769714355504, 33.03098, 33.070272, 33.021401000000004, 32.715738, 33.023853302002, 33.052155931209, 32.7555682871263, 32.72896, 33.0704482, 32.917669399999994, 32.89655, 32.6059744, 32.76572, 33.009689, 32.748259999999995, 33.0246391, 32.639056, 33.0441995688399, 33.12341, 32.6837679, 32.90345, 33.0268827348204, 33.0317768, 32.89992, 33.052261, 33.09388, 33.095456, 33.0555, 33.0632476806641, 32.9863389262394, 32.96892183, 33.1022, 33.0778968096676, 33.049052, 33.008227000000005, 33.033069610595696, 32.99163, 33.06372, 32.524224, 33.0762799, 33.0656310151373, 33.0455332, 32.8350521, 32.837047576904304, 32.9566704507056, 33.0666150952216, 33.070192, 33.06571, 33.052468, 33.0285148620605, 32.801342, 33.12182, 33.12177, 33.05236, 32.5126076, 32.521736, 33.121009, 33.010505, 33.037121, 32.534236, 32.53043, 33.134743, 33.02015], \"legendgroup\": \"\", \"lon\": [-117.04646, -117.160917759246, -117.168194991742, -117.13828, -117.0016, -117.17056, -117.218254, -116.99171457055219, -117.149462938309, -117.1697587, -117.2695, -117.072145, -116.97740401976601, -117.0213181, -117.00439453125, -117.24811, -117.021328279762, -116.84783157306343, -117.00839233398399, -116.96538, -117.011318, -116.936933, -117.1610838, -117.085762023926, -116.78319322693899, -117.19690329126301, -116.83318, -117.0094544, -117.2309713, -117.13743, -117.0441009, -117.01787, -116.858495, -117.15441, -116.932663, -116.769926, -116.828583402447, -117.13297, -117.0923119, -117.18322, -116.93342195866501, -116.82126540000002, -116.89408, -116.781211, -117.03008, -116.957487, -116.77747, -116.843803405762, -116.91655755043, -117.0359015, -117.08685, -116.96157606030899, -116.808999, -116.9243421, -116.82577514648399, -117.27013999999998, -116.93436, -117.037935, -116.86303999999998, -117.3028134612, -116.8624832, -116.7664109, -117.255386352539, -117.037956596771, -116.757814805557, -117.016705, -116.99772, -116.750704, -116.953086853027, -117.2253647, -117.08044, -117.08053999999998, -116.78258999999998, -117.0024643, -117.026009, -117.115748, -116.919508, -117.238654, -117.034976, -117.0365, -117.248093, -116.92813999999998], \"marker\": {\"color\": [2, 2, 2, 2, 2, 2, 2, 2, 2, 2, 2, 2, 2, 2, 2, 2, 2, 2, 2, 2, 2, 2, 2, 2, 2, 2, 2, 2, 2, 1, 2, 2, 2, 2, 2, 2, 2, 2, 2, 2, 2, 2, 2, 2, 2, 2, 2, 2, 2, 2, 2, 2, 2, 2, 2, 2, 2, 2, 2, 2, 2, 2, 1, 2, 2, 2, 2, 2, 2, 2, 2, 2, 2, 3, 2, 2, 2, 2, 2, 2, 2, 1], \"coloraxis\": \"coloraxis\", \"size\": [626, 100, 138, 103, 96, 196, 76, 547, 308, 176, 86, 113, 60, 20, 111, 55, 43, 26, 38, 6, 1, 23, 1, 99, 155, 99, 18, 126, 2, 12, 2, 81, 39, 3, 71, 24, 104, 33, 3, 26, 3, 45, 15, 4, 118, 31, 19, 33, 14, 46, 76, 27, 9, 23, 114, 244, 8, 35, 29, 1, 54, 7, 14, 13, 17, 17, 2, 141, 17, 1, 5, 2, 1, 6, 1, 26, 144, 1, 1, 7, 2, 8], \"sizemode\": \"area\", \"sizeref\": 2.7822222222222224}, \"mode\": \"markers\", \"name\": \"\", \"showlegend\": false, \"subplot\": \"mapbox\", \"type\": \"scattermapbox\"}],                        {\"coloraxis\": {\"cmax\": 3, \"cmin\": 0, \"colorbar\": {\"title\": {\"text\": \"Price ($) \"}}, \"colorscale\": [[0.0, \"rgb(255,255,255)\"], [0.125, \"rgb(240,240,240)\"], [0.25, \"rgb(217,217,217)\"], [0.375, \"rgb(189,189,189)\"], [0.5, \"rgb(150,150,150)\"], [0.625, \"rgb(115,115,115)\"], [0.75, \"rgb(82,82,82)\"], [0.875, \"rgb(37,37,37)\"], [1.0, \"rgb(0,0,0)\"]]}, \"height\": 500, \"legend\": {\"itemsizing\": \"constant\", \"tracegroupgap\": 0}, \"mapbox\": {\"accesstoken\": \"pk.eyJ1IjoiYm1jY2FydHk1MDUiLCJhIjoiY2tvbnJvdnFkMDNuZzJ2cHBwbTd1d2dibiJ9.m6-cNXAgqZ4WZZUWhoTjKA\", \"center\": {\"lat\": 32.926059337907155, \"lon\": -117.01434377235364}, \"domain\": {\"x\": [0.0, 1.0], \"y\": [0.0, 1.0]}, \"style\": \"light\", \"zoom\": 8.5}, \"template\": {\"data\": {\"bar\": [{\"error_x\": {\"color\": \"#2a3f5f\"}, \"error_y\": {\"color\": \"#2a3f5f\"}, \"marker\": {\"line\": {\"color\": \"#E5ECF6\", \"width\": 0.5}}, \"type\": \"bar\"}], \"barpolar\": [{\"marker\": {\"line\": {\"color\": \"#E5ECF6\", \"width\": 0.5}}, \"type\": \"barpolar\"}], \"carpet\": [{\"aaxis\": {\"endlinecolor\": \"#2a3f5f\", \"gridcolor\": \"white\", \"linecolor\": \"white\", \"minorgridcolor\": \"white\", \"startlinecolor\": \"#2a3f5f\"}, \"baxis\": {\"endlinecolor\": \"#2a3f5f\", \"gridcolor\": \"white\", \"linecolor\": \"white\", \"minorgridcolor\": \"white\", \"startlinecolor\": \"#2a3f5f\"}, \"type\": \"carpet\"}], \"choropleth\": [{\"colorbar\": {\"outlinewidth\": 0, \"ticks\": \"\"}, \"type\": \"choropleth\"}], \"contour\": [{\"colorbar\": {\"outlinewidth\": 0, \"ticks\": \"\"}, \"colorscale\": [[0.0, \"#0d0887\"], [0.1111111111111111, \"#46039f\"], [0.2222222222222222, \"#7201a8\"], [0.3333333333333333, \"#9c179e\"], [0.4444444444444444, \"#bd3786\"], [0.5555555555555556, \"#d8576b\"], [0.6666666666666666, \"#ed7953\"], [0.7777777777777778, \"#fb9f3a\"], [0.8888888888888888, \"#fdca26\"], [1.0, \"#f0f921\"]], \"type\": \"contour\"}], \"contourcarpet\": [{\"colorbar\": {\"outlinewidth\": 0, \"ticks\": \"\"}, \"type\": \"contourcarpet\"}], \"heatmap\": [{\"colorbar\": {\"outlinewidth\": 0, \"ticks\": \"\"}, \"colorscale\": [[0.0, \"#0d0887\"], [0.1111111111111111, \"#46039f\"], [0.2222222222222222, \"#7201a8\"], [0.3333333333333333, \"#9c179e\"], [0.4444444444444444, \"#bd3786\"], [0.5555555555555556, \"#d8576b\"], [0.6666666666666666, \"#ed7953\"], [0.7777777777777778, \"#fb9f3a\"], [0.8888888888888888, \"#fdca26\"], [1.0, \"#f0f921\"]], \"type\": \"heatmap\"}], \"heatmapgl\": [{\"colorbar\": {\"outlinewidth\": 0, \"ticks\": \"\"}, \"colorscale\": [[0.0, \"#0d0887\"], [0.1111111111111111, \"#46039f\"], [0.2222222222222222, \"#7201a8\"], [0.3333333333333333, \"#9c179e\"], [0.4444444444444444, \"#bd3786\"], [0.5555555555555556, \"#d8576b\"], [0.6666666666666666, \"#ed7953\"], [0.7777777777777778, \"#fb9f3a\"], [0.8888888888888888, \"#fdca26\"], [1.0, \"#f0f921\"]], \"type\": \"heatmapgl\"}], \"histogram\": [{\"marker\": {\"colorbar\": {\"outlinewidth\": 0, \"ticks\": \"\"}}, \"type\": \"histogram\"}], \"histogram2d\": [{\"colorbar\": {\"outlinewidth\": 0, \"ticks\": \"\"}, \"colorscale\": [[0.0, \"#0d0887\"], [0.1111111111111111, \"#46039f\"], [0.2222222222222222, \"#7201a8\"], [0.3333333333333333, \"#9c179e\"], [0.4444444444444444, \"#bd3786\"], [0.5555555555555556, \"#d8576b\"], [0.6666666666666666, \"#ed7953\"], [0.7777777777777778, \"#fb9f3a\"], [0.8888888888888888, \"#fdca26\"], [1.0, \"#f0f921\"]], \"type\": \"histogram2d\"}], \"histogram2dcontour\": [{\"colorbar\": {\"outlinewidth\": 0, \"ticks\": \"\"}, \"colorscale\": [[0.0, \"#0d0887\"], [0.1111111111111111, \"#46039f\"], [0.2222222222222222, \"#7201a8\"], [0.3333333333333333, \"#9c179e\"], [0.4444444444444444, \"#bd3786\"], [0.5555555555555556, \"#d8576b\"], [0.6666666666666666, \"#ed7953\"], [0.7777777777777778, \"#fb9f3a\"], [0.8888888888888888, \"#fdca26\"], [1.0, \"#f0f921\"]], \"type\": \"histogram2dcontour\"}], \"mesh3d\": [{\"colorbar\": {\"outlinewidth\": 0, \"ticks\": \"\"}, \"type\": \"mesh3d\"}], \"parcoords\": [{\"line\": {\"colorbar\": {\"outlinewidth\": 0, \"ticks\": \"\"}}, \"type\": \"parcoords\"}], \"pie\": [{\"automargin\": true, \"type\": \"pie\"}], \"scatter\": [{\"marker\": {\"colorbar\": {\"outlinewidth\": 0, \"ticks\": \"\"}}, \"type\": \"scatter\"}], \"scatter3d\": [{\"line\": {\"colorbar\": {\"outlinewidth\": 0, \"ticks\": \"\"}}, \"marker\": {\"colorbar\": {\"outlinewidth\": 0, \"ticks\": \"\"}}, \"type\": \"scatter3d\"}], \"scattercarpet\": [{\"marker\": {\"colorbar\": {\"outlinewidth\": 0, \"ticks\": \"\"}}, \"type\": \"scattercarpet\"}], \"scattergeo\": [{\"marker\": {\"colorbar\": {\"outlinewidth\": 0, \"ticks\": \"\"}}, \"type\": \"scattergeo\"}], \"scattergl\": [{\"marker\": {\"colorbar\": {\"outlinewidth\": 0, \"ticks\": \"\"}}, \"type\": \"scattergl\"}], \"scattermapbox\": [{\"marker\": {\"colorbar\": {\"outlinewidth\": 0, \"ticks\": \"\"}}, \"type\": \"scattermapbox\"}], \"scatterpolar\": [{\"marker\": {\"colorbar\": {\"outlinewidth\": 0, \"ticks\": \"\"}}, \"type\": \"scatterpolar\"}], \"scatterpolargl\": [{\"marker\": {\"colorbar\": {\"outlinewidth\": 0, \"ticks\": \"\"}}, \"type\": \"scatterpolargl\"}], \"scatterternary\": [{\"marker\": {\"colorbar\": {\"outlinewidth\": 0, \"ticks\": \"\"}}, \"type\": \"scatterternary\"}], \"surface\": [{\"colorbar\": {\"outlinewidth\": 0, \"ticks\": \"\"}, \"colorscale\": [[0.0, \"#0d0887\"], [0.1111111111111111, \"#46039f\"], [0.2222222222222222, \"#7201a8\"], [0.3333333333333333, \"#9c179e\"], [0.4444444444444444, \"#bd3786\"], [0.5555555555555556, \"#d8576b\"], [0.6666666666666666, \"#ed7953\"], [0.7777777777777778, \"#fb9f3a\"], [0.8888888888888888, \"#fdca26\"], [1.0, \"#f0f921\"]], \"type\": \"surface\"}], \"table\": [{\"cells\": {\"fill\": {\"color\": \"#EBF0F8\"}, \"line\": {\"color\": \"white\"}}, \"header\": {\"fill\": {\"color\": \"#C8D4E3\"}, \"line\": {\"color\": \"white\"}}, \"type\": \"table\"}]}, \"layout\": {\"annotationdefaults\": {\"arrowcolor\": \"#2a3f5f\", \"arrowhead\": 0, \"arrowwidth\": 1}, \"coloraxis\": {\"colorbar\": {\"outlinewidth\": 0, \"ticks\": \"\"}}, \"colorscale\": {\"diverging\": [[0, \"#8e0152\"], [0.1, \"#c51b7d\"], [0.2, \"#de77ae\"], [0.3, \"#f1b6da\"], [0.4, \"#fde0ef\"], [0.5, \"#f7f7f7\"], [0.6, \"#e6f5d0\"], [0.7, \"#b8e186\"], [0.8, \"#7fbc41\"], [0.9, \"#4d9221\"], [1, \"#276419\"]], \"sequential\": [[0.0, \"#0d0887\"], [0.1111111111111111, \"#46039f\"], [0.2222222222222222, \"#7201a8\"], [0.3333333333333333, \"#9c179e\"], [0.4444444444444444, \"#bd3786\"], [0.5555555555555556, \"#d8576b\"], [0.6666666666666666, \"#ed7953\"], [0.7777777777777778, \"#fb9f3a\"], [0.8888888888888888, \"#fdca26\"], [1.0, \"#f0f921\"]], \"sequentialminus\": [[0.0, \"#0d0887\"], [0.1111111111111111, \"#46039f\"], [0.2222222222222222, \"#7201a8\"], [0.3333333333333333, \"#9c179e\"], [0.4444444444444444, \"#bd3786\"], [0.5555555555555556, \"#d8576b\"], [0.6666666666666666, \"#ed7953\"], [0.7777777777777778, \"#fb9f3a\"], [0.8888888888888888, \"#fdca26\"], [1.0, \"#f0f921\"]]}, \"colorway\": [\"#636efa\", \"#EF553B\", \"#00cc96\", \"#ab63fa\", \"#FFA15A\", \"#19d3f3\", \"#FF6692\", \"#B6E880\", \"#FF97FF\", \"#FECB52\"], \"font\": {\"color\": \"#2a3f5f\"}, \"geo\": {\"bgcolor\": \"white\", \"lakecolor\": \"white\", \"landcolor\": \"#E5ECF6\", \"showlakes\": true, \"showland\": true, \"subunitcolor\": \"white\"}, \"hoverlabel\": {\"align\": \"left\"}, \"hovermode\": \"closest\", \"mapbox\": {\"style\": \"light\"}, \"paper_bgcolor\": \"white\", \"plot_bgcolor\": \"#E5ECF6\", \"polar\": {\"angularaxis\": {\"gridcolor\": \"white\", \"linecolor\": \"white\", \"ticks\": \"\"}, \"bgcolor\": \"#E5ECF6\", \"radialaxis\": {\"gridcolor\": \"white\", \"linecolor\": \"white\", \"ticks\": \"\"}}, \"scene\": {\"xaxis\": {\"backgroundcolor\": \"#E5ECF6\", \"gridcolor\": \"white\", \"gridwidth\": 2, \"linecolor\": \"white\", \"showbackground\": true, \"ticks\": \"\", \"zerolinecolor\": \"white\"}, \"yaxis\": {\"backgroundcolor\": \"#E5ECF6\", \"gridcolor\": \"white\", \"gridwidth\": 2, \"linecolor\": \"white\", \"showbackground\": true, \"ticks\": \"\", \"zerolinecolor\": \"white\"}, \"zaxis\": {\"backgroundcolor\": \"#E5ECF6\", \"gridcolor\": \"white\", \"gridwidth\": 2, \"linecolor\": \"white\", \"showbackground\": true, \"ticks\": \"\", \"zerolinecolor\": \"white\"}}, \"shapedefaults\": {\"line\": {\"color\": \"#2a3f5f\"}}, \"ternary\": {\"aaxis\": {\"gridcolor\": \"white\", \"linecolor\": \"white\", \"ticks\": \"\"}, \"baxis\": {\"gridcolor\": \"white\", \"linecolor\": \"white\", \"ticks\": \"\"}, \"bgcolor\": \"#E5ECF6\", \"caxis\": {\"gridcolor\": \"white\", \"linecolor\": \"white\", \"ticks\": \"\"}}, \"title\": {\"x\": 0.05}, \"xaxis\": {\"automargin\": true, \"gridcolor\": \"white\", \"linecolor\": \"white\", \"ticks\": \"\", \"title\": {\"standoff\": 15}, \"zerolinecolor\": \"white\", \"zerolinewidth\": 2}, \"yaxis\": {\"automargin\": true, \"gridcolor\": \"white\", \"linecolor\": \"white\", \"ticks\": \"\", \"title\": {\"standoff\": 15}, \"zerolinecolor\": \"white\", \"zerolinewidth\": 2}}}, \"title\": {\"text\": \"San Diego Wineries\"}, \"width\": 600},                        {\"responsive\": true}                    ).then(function(){\n",
       "                            \n",
       "var gd = document.getElementById('0ad0b48d-725d-4f0d-aa36-1b819faac619');\n",
       "var x = new MutationObserver(function (mutations, observer) {{\n",
       "        var display = window.getComputedStyle(gd).display;\n",
       "        if (!display || display === 'none') {{\n",
       "            console.log([gd, 'removed!']);\n",
       "            Plotly.purge(gd);\n",
       "            observer.disconnect();\n",
       "        }}\n",
       "}});\n",
       "\n",
       "// Listen for the removal of the full notebook cells\n",
       "var notebookContainer = gd.closest('#notebook-container');\n",
       "if (notebookContainer) {{\n",
       "    x.observe(notebookContainer, {childList: true});\n",
       "}}\n",
       "\n",
       "// Listen for the clearing of the current output cell\n",
       "var outputEl = gd.closest('.output');\n",
       "if (outputEl) {{\n",
       "    x.observe(outputEl, {childList: true});\n",
       "}}\n",
       "\n",
       "                        })                };                });            </script>        </div>"
      ]
     },
     "metadata": {},
     "output_type": "display_data"
    }
   ],
   "source": [
    "# Creating geospatial view of San Diego Wineries\n",
    "\n",
    "with open(r'C:\\Users\\bmcca\\.secret\\mapbox_api.json') as f:\n",
    "    token = json.load(f)\n",
    "\n",
    "open(r'C:\\Users\\bmcca\\.secret\\mapbox_api.json').read()\n",
    "    \n",
    "token = token['token']\n",
    "\n",
    "px.set_mapbox_access_token(token)\n",
    "\n",
    "df_sd = combined[combined['City'] == 'San Diego']\n",
    "\n",
    "fig = px.scatter_mapbox(df_sd, lat= \"latitude\", lon= \"longitude\",\n",
    "                        color= \"price_converted\", range_color= (0, 3),\n",
    "                        labels= {\"price_converted\": \"Price ($) \", \n",
    "                                \"latitude\":\"Latitude \",\"longitude\":\"Longitude \",\n",
    "                                'review_count':'Number of Reviews '},\n",
    "                        size= 'review_count', hover_name = df_sd[\"name\"],\n",
    "                        color_continuous_scale=px.colors.sequential.Greys,\n",
    "                        size_max=15, zoom=8.5, title='San Diego Wineries',\n",
    "                        mapbox_style='light', width=600, height=500)\n",
    "fig.show()"
   ]
  },
  {
   "cell_type": "markdown",
   "metadata": {},
   "source": [
    "This is the geospatial map of the San Diego wineries, with the size of each point reflecting the number of reviews and the color saturation reflecting price. The map shows there are fewer wineries, with a handful of wineries with a large number of reviews. Additionally, the wineries are more scattered, allowing for more space in which to establish the vineyards.\n",
    "\n",
    "**Based on this map, we can see there are three target areas for a new winery: northern San Diego; west of Ramona; and Encinitas. These locations offer accessibility via major roadways and other wineries which may encourage wine tours between the wineries. The reduced density of wineries may indicate less competition in the sub-regions.**"
   ]
  },
  {
   "cell_type": "code",
   "execution_count": 55,
   "metadata": {
    "ExecuteTime": {
     "end_time": "2021-05-17T01:10:19.241498Z",
     "start_time": "2021-05-17T01:10:19.068498Z"
    },
    "code_folding": [],
    "scrolled": true
   },
   "outputs": [
    {
     "data": {
      "image/png": "[encoded data removed]",
      "text/plain": [
       "<Figure size 432x288 with 1 Axes>"
      ]
     },
     "metadata": {
      "needs_background": "light"
     },
     "output_type": "display_data"
    }
   ],
   "source": [
    "# Making a grouped bar chart for each city after normalizing the prices\n",
    "norm_pricing = combined.groupby('City')['price_converted'].value_counts(normalize=True).to_frame().unstack(0, fill_value=0)\n",
    "norm_pricing.plot(kind='bar')\n",
    "legend = plt.legend()\n",
    "legend.get_texts()[0].set_text('Napa Valley')\n",
    "legend.get_texts()[1].set_text('San Diego')\n",
    "plt.xlabel('Price ($)')\n",
    "plt.xticks(rotation = 0)\n",
    "plt.ylabel('% of Price Totals')\n",
    "plt.title('Normalized Pricing per Region');"
   ]
  },
  {
   "cell_type": "markdown",
   "metadata": {},
   "source": [
    "**A2:** Based on our Prices per Region chart, we can see that both regions favor the two-dollar-sign market. The chart also reflects the market for higher-priced wineries in Napa Valley and the lack in the San Diego area. **The lack of higher-priced wineries in San Diego indicates a potentially underserved market.**"
   ]
  },
  {
   "cell_type": "code",
   "execution_count": 54,
   "metadata": {
    "ExecuteTime": {
     "end_time": "2021-05-17T01:10:08.558801Z",
     "start_time": "2021-05-17T01:10:08.317798Z"
    },
    "code_folding": []
   },
   "outputs": [
    {
     "data": {
      "image/png": "[encoded data removed]",
      "text/plain": [
       "<Figure size 432x288 with 1 Axes>"
      ]
     },
     "metadata": {
      "needs_background": "light"
     },
     "output_type": "display_data"
    }
   ],
   "source": [
    "# Making a grouped bar chart for each city after normalizing the ratings\n",
    "norm_rating = combined.groupby('City')['rating'].value_counts(normalize=True).to_frame()\n",
    "norm_rating.unstack(0).plot(kind='bar')\n",
    "legend = plt.legend()\n",
    "legend.get_texts()[0].set_text('Napa Valley')\n",
    "legend.get_texts()[1].set_text('San Diego')\n",
    "plt.xticks(rotation = 0)\n",
    "plt.xlabel('Rating')\n",
    "plt.ylabel('% of Total Ratings')\n",
    "plt.title('Normalized Ratings per Region');"
   ]
  },
  {
   "cell_type": "markdown",
   "metadata": {},
   "source": [
    "**A3:** This normalized chart shows the ratings per region, demonstrating the difference in ratings between the two regions. **Based on this chart, we can see there are fewer 5-star ratings than 4.5-stars; this indicates there are customers who are not fully satisfied and may be willing to try a new winery.**"
   ]
  },
  {
   "cell_type": "markdown",
   "metadata": {},
   "source": [
    "# Conclusion"
   ]
  },
  {
   "cell_type": "markdown",
   "metadata": {},
   "source": [
    "Our analysis leads us to recommend the San Diego area as the better location for a new winery.\n",
    "\n",
    "Additional steps to take include:\n",
    "\n",
    "* **Evaluating the cost of real estate in each region:** Wineries and vineyards require a large amount of space, and due to the popularity of San Diego, prices may be higher than Napa Valley.\n",
    "\n",
    "\n",
    "* **Reviewing the performance statistics of California wineries post-COVID19:** prior to COVID19, California wineries faced the challenge of higher supply in comparison to the demand. With the return of weddings and large gatherings, demand will increase, but it may not be enough to resolve the over-supply. [Reference.](https://www.svb.com/trends-insights/reports/wine-report#:~:text=2020%20began%20with%20declining%20volume,even%20with%20the%20prior%20year.)\n",
    "\n",
    "\n",
    "* **Determine sales and marketing directions - shift towards direct-to-consumer sales:** COVID19 spurred a change in where and how people get their wine. If the market moves away from tasting rooms and wineries, the business will need to emphasize their online presence."
   ]
  },
  {
   "cell_type": "code",
   "execution_count": null,
   "metadata": {},
   "outputs": [],
   "source": []
  }
 ],
 "metadata": {
  "kernelspec": {
   "display_name": "Python (learn-env-bmc)",
   "language": "python",
   "name": "learn-env-bmc"
  },
  "language_info": {
   "codemirror_mode": {
    "name": "ipython",
    "version": 3
   },
   "file_extension": ".py",
   "mimetype": "text/x-python",
   "name": "python",
   "nbconvert_exporter": "python",
   "pygments_lexer": "ipython3",
   "version": "3.8.5"
  },
  "toc": {
   "base_numbering": 1,
   "nav_menu": {},
   "number_sections": true,
   "sideBar": true,
   "skip_h1_title": false,
   "title_cell": "Table of Contents",
   "title_sidebar": "Contents",
   "toc_cell": false,
   "toc_position": {
    "height": "calc(100% - 180px)",
    "left": "10px",
    "top": "150px",
    "width": "165px"
   },
   "toc_section_display": true,
   "toc_window_display": true
  },
  "varInspector": {
   "cols": {
    "lenName": "32",
    "lenType": 16,
    "lenVar": 40
   },
   "kernels_config": {
    "python": {
     "delete_cmd_postfix": "",
     "delete_cmd_prefix": "del ",
     "library": "var_list.py",
     "varRefreshCmd": "print(var_dic_list())"
    },
    "r": {
     "delete_cmd_postfix": ") ",
     "delete_cmd_prefix": "rm(",
     "library": "var_list.r",
     "varRefreshCmd": "cat(var_dic_list()) "
    }
   },
   "position": {
    "height": "144.4px",
    "left": "1144.4px",
    "right": "20px",
    "top": "122px",
    "width": "350px"
   },
   "types_to_exclude": [
    "module",
    "function",
    "builtin_function_or_method",
    "instance",
    "_Feature"
   ],
   "window_display": false
  },
  "widgets": {
   "application/vnd.jupyter.widget-state+json": {
    "state": {},
    "version_major": 2,
    "version_minor": 0
   }
  }
 },
 "nbformat": 4,
 "nbformat_minor": 4
}
