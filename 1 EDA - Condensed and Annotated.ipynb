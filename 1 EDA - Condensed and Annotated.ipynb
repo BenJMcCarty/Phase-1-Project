{
 "cells": [
  {
   "cell_type": "markdown",
   "metadata": {},
   "source": [
    "# Data Visualizations Workbook"
   ]
  },
  {
   "cell_type": "markdown",
   "metadata": {},
   "source": [
    "In our previous notebook, we collected data from the Yelp API for our two regions of interest, Napa Valley and San Diego.\n",
    "\n",
    "In this notebook, we will explore, analyze, and interpret the results. We will look at the general statistics of the cities; use plots to visualize the data; and then we will review the results at the end.\n",
    "\n",
    "By the end of the notebook, we will have our recommendation for in which region to start our winery."
   ]
  },
  {
   "cell_type": "markdown",
   "metadata": {},
   "source": [
    "# Exploring, Analyzing, and Interpreting Results"
   ]
  },
  {
   "cell_type": "markdown",
   "metadata": {},
   "source": [
    "Now that we pulled the business data from the Yelp API, we will explore the data to gain insight to guide our decision.\n",
    "\n",
    "Our guiding questions will be:\n",
    "- **What does each specific region look like, statistically?**\n",
    "  - How do the specific metrics relate to each other?\n",
    "      - Are there any strong relationships between them?\n",
    "  - Are there any clusters of businesses in each area?\n",
    "      - Indicates strong local competition as well as ideal real estate.\n",
    " \n",
    " \n",
    "- **What are the price ranges for each area?**\n",
    "    - Gives indication of the clientele for local businesses\n",
    "        - Lower price may be more broadly appealing\n",
    "        - Higher pricing targets more discerning, luxury clientele\n",
    "\n",
    " \n",
    "- **Ratings**\n",
    " - Indicates how strongly satisfied and unsatisfied clients may be\n",
    "   - Unsatisfied customers indicate oportunities to steal their business from the other wineries\n",
    " - How do the ratings compare/contrast between regions?\n",
    "   - Are there more satisfied customers in one region vs. the other?\n",
    " \n",
    " \n",
    "- **Number of reviews**\n",
    " - May indicate the popularity of businesses\n",
    "   - More popular businesses may have more reviews\n",
    " - The larger number of reviews creates a larger sample size for analyses, such as the average number of reviews per business.\n"
   ]
  },
  {
   "cell_type": "markdown",
   "metadata": {
    "ExecuteTime": {
     "end_time": "2021-05-13T18:56:02.029967Z",
     "start_time": "2021-05-13T18:56:02.026965Z"
    }
   },
   "source": [
    "# Importing Packages"
   ]
  },
  {
   "cell_type": "markdown",
   "metadata": {},
   "source": [
    "First, we are going to import our packages for use in the notebook. \n",
    "\n",
    "We are going to import packages to:\n",
    "- access our saved data\n",
    "- explore the data and generate statistics \n",
    "- create visualizations"
   ]
  },
  {
   "cell_type": "code",
   "execution_count": 1,
   "metadata": {
    "ExecuteTime": {
     "end_time": "2021-05-16T22:01:25.713307Z",
     "start_time": "2021-05-16T22:01:24.066308Z"
    }
   },
   "outputs": [],
   "source": [
    "# Accessing stored data\n",
    "import csv\n",
    "import json\n",
    "\n",
    "# Data exploration and statistics\n",
    "import pandas as pd\n",
    "import numpy as np\n",
    "\n",
    "# Creating Visualizations\n",
    "import plotly.express as px\n",
    "import seaborn as sns\n",
    "import matplotlib.pyplot as plt\n",
    "%matplotlib inline"
   ]
  },
  {
   "cell_type": "markdown",
   "metadata": {},
   "source": [
    "# Loading Data"
   ]
  },
  {
   "cell_type": "markdown",
   "metadata": {},
   "source": [
    " We will use our CSV package to load in the data generated previously in the Data Acquisition notebook."
   ]
  },
  {
   "cell_type": "markdown",
   "metadata": {
    "ExecuteTime": {
     "end_time": "2021-05-13T21:10:22.821335Z",
     "start_time": "2021-05-13T21:10:22.806336Z"
    }
   },
   "source": [
    "## San Diego Wineries"
   ]
  },
  {
   "cell_type": "code",
   "execution_count": 2,
   "metadata": {
    "ExecuteTime": {
     "end_time": "2021-05-16T22:01:25.745305Z",
     "start_time": "2021-05-16T22:01:25.715306Z"
    }
   },
   "outputs": [
    {
     "data": {
      "text/html": [
       "<div>\n",
       "<style scoped>\n",
       "    .dataframe tbody tr th:only-of-type {\n",
       "        vertical-align: middle;\n",
       "    }\n",
       "\n",
       "    .dataframe tbody tr th {\n",
       "        vertical-align: top;\n",
       "    }\n",
       "\n",
       "    .dataframe thead th {\n",
       "        text-align: right;\n",
       "    }\n",
       "</style>\n",
       "<table border=\"1\" class=\"dataframe\">\n",
       "  <thead>\n",
       "    <tr style=\"text-align: right;\">\n",
       "      <th></th>\n",
       "      <th>name</th>\n",
       "      <th>location</th>\n",
       "      <th>Business ID</th>\n",
       "      <th>alias</th>\n",
       "      <th>title</th>\n",
       "      <th>rating</th>\n",
       "      <th>review_count</th>\n",
       "      <th>price</th>\n",
       "      <th>latitude</th>\n",
       "      <th>longitude</th>\n",
       "      <th>City</th>\n",
       "      <th>price_converted</th>\n",
       "    </tr>\n",
       "  </thead>\n",
       "  <tbody>\n",
       "    <tr>\n",
       "      <th>0</th>\n",
       "      <td>Bernardo Winery</td>\n",
       "      <td>13330 Paseo Del Verano Norte San Diego, CA 92128</td>\n",
       "      <td>DknnpiG1p4OoM1maFshzXA</td>\n",
       "      <td>winetastingroom</td>\n",
       "      <td>Wine Tasting Room</td>\n",
       "      <td>4.5</td>\n",
       "      <td>626</td>\n",
       "      <td>$$</td>\n",
       "      <td>33.032800</td>\n",
       "      <td>-117.046460</td>\n",
       "      <td>San Diego</td>\n",
       "      <td>2</td>\n",
       "    </tr>\n",
       "    <tr>\n",
       "      <th>1</th>\n",
       "      <td>Callaway Vineyard &amp; Winery</td>\n",
       "      <td>517 4th Ave Ste 101 San Diego, CA 92101</td>\n",
       "      <td>Cn2_bpTngghYW1ej4zreZg</td>\n",
       "      <td>winetastingroom</td>\n",
       "      <td>Wine Tasting Room</td>\n",
       "      <td>5.0</td>\n",
       "      <td>100</td>\n",
       "      <td>$$</td>\n",
       "      <td>32.710751</td>\n",
       "      <td>-117.160918</td>\n",
       "      <td>San Diego</td>\n",
       "      <td>2</td>\n",
       "    </tr>\n",
       "    <tr>\n",
       "      <th>2</th>\n",
       "      <td>San Pasqual Winery - Seaport Village</td>\n",
       "      <td>805 W Harbor Dr San Diego, CA 92101</td>\n",
       "      <td>gMW1RvyLu90RSQAY9UrIHw</td>\n",
       "      <td>winetastingroom</td>\n",
       "      <td>Wine Tasting Room</td>\n",
       "      <td>4.5</td>\n",
       "      <td>138</td>\n",
       "      <td>$$</td>\n",
       "      <td>32.708732</td>\n",
       "      <td>-117.168195</td>\n",
       "      <td>San Diego</td>\n",
       "      <td>2</td>\n",
       "    </tr>\n",
       "    <tr>\n",
       "      <th>3</th>\n",
       "      <td>Négociant Winery</td>\n",
       "      <td>2419 El Cajon Blvd San Diego, CA 92104</td>\n",
       "      <td>Cc1sQWRWgGyMCjzX2mmMQQ</td>\n",
       "      <td>winetastingroom</td>\n",
       "      <td>Wine Tasting Room</td>\n",
       "      <td>4.5</td>\n",
       "      <td>103</td>\n",
       "      <td>$$</td>\n",
       "      <td>32.754880</td>\n",
       "      <td>-117.138280</td>\n",
       "      <td>San Diego</td>\n",
       "      <td>2</td>\n",
       "    </tr>\n",
       "    <tr>\n",
       "      <th>4</th>\n",
       "      <td>Domaine Artefact Vineyard &amp; Winery</td>\n",
       "      <td>15404 Highland Valley Rd Escondido, CA 92025</td>\n",
       "      <td>WqVbxY77Ag96X90LultCUw</td>\n",
       "      <td>wineries</td>\n",
       "      <td>Wineries</td>\n",
       "      <td>5.0</td>\n",
       "      <td>96</td>\n",
       "      <td>$$</td>\n",
       "      <td>33.068170</td>\n",
       "      <td>-117.001600</td>\n",
       "      <td>San Diego</td>\n",
       "      <td>2</td>\n",
       "    </tr>\n",
       "  </tbody>\n",
       "</table>\n",
       "</div>"
      ],
      "text/plain": [
       "                                   name  \\\n",
       "0                       Bernardo Winery   \n",
       "1            Callaway Vineyard & Winery   \n",
       "2  San Pasqual Winery - Seaport Village   \n",
       "3                      Négociant Winery   \n",
       "4    Domaine Artefact Vineyard & Winery   \n",
       "\n",
       "                                           location             Business ID  \\\n",
       "0  13330 Paseo Del Verano Norte San Diego, CA 92128  DknnpiG1p4OoM1maFshzXA   \n",
       "1           517 4th Ave Ste 101 San Diego, CA 92101  Cn2_bpTngghYW1ej4zreZg   \n",
       "2               805 W Harbor Dr San Diego, CA 92101  gMW1RvyLu90RSQAY9UrIHw   \n",
       "3            2419 El Cajon Blvd San Diego, CA 92104  Cc1sQWRWgGyMCjzX2mmMQQ   \n",
       "4      15404 Highland Valley Rd Escondido, CA 92025  WqVbxY77Ag96X90LultCUw   \n",
       "\n",
       "             alias              title  rating  review_count price   latitude  \\\n",
       "0  winetastingroom  Wine Tasting Room     4.5           626    $$  33.032800   \n",
       "1  winetastingroom  Wine Tasting Room     5.0           100    $$  32.710751   \n",
       "2  winetastingroom  Wine Tasting Room     4.5           138    $$  32.708732   \n",
       "3  winetastingroom  Wine Tasting Room     4.5           103    $$  32.754880   \n",
       "4         wineries           Wineries     5.0            96    $$  33.068170   \n",
       "\n",
       "    longitude       City  price_converted  \n",
       "0 -117.046460  San Diego                2  \n",
       "1 -117.160918  San Diego                2  \n",
       "2 -117.168195  San Diego                2  \n",
       "3 -117.138280  San Diego                2  \n",
       "4 -117.001600  San Diego                2  "
      ]
     },
     "execution_count": 2,
     "metadata": {},
     "output_type": "execute_result"
    }
   ],
   "source": [
    "# Read in data from the San Diego .csv\n",
    "df_sd_details = pd.read_csv(\"data/wineries_San_Diego_price_converted.csv\")\n",
    "df_sd_details.reset_index(drop=True, inplace=True)\n",
    "df_sd_details['City'] = 'San Diego'\n",
    "\n",
    "# View results\n",
    "df_sd_details.head()"
   ]
  },
  {
   "cell_type": "markdown",
   "metadata": {},
   "source": [
    "## Napa Valley Wineries"
   ]
  },
  {
   "cell_type": "code",
   "execution_count": 9,
   "metadata": {
    "ExecuteTime": {
     "end_time": "2021-05-16T22:04:25.398342Z",
     "start_time": "2021-05-16T22:04:25.369357Z"
    },
    "scrolled": false
   },
   "outputs": [
    {
     "data": {
      "text/html": [
       "<div>\n",
       "<style scoped>\n",
       "    .dataframe tbody tr th:only-of-type {\n",
       "        vertical-align: middle;\n",
       "    }\n",
       "\n",
       "    .dataframe tbody tr th {\n",
       "        vertical-align: top;\n",
       "    }\n",
       "\n",
       "    .dataframe thead th {\n",
       "        text-align: right;\n",
       "    }\n",
       "</style>\n",
       "<table border=\"1\" class=\"dataframe\">\n",
       "  <thead>\n",
       "    <tr style=\"text-align: right;\">\n",
       "      <th></th>\n",
       "      <th>name</th>\n",
       "      <th>location</th>\n",
       "      <th>Business ID</th>\n",
       "      <th>alias</th>\n",
       "      <th>title</th>\n",
       "      <th>rating</th>\n",
       "      <th>review_count</th>\n",
       "      <th>price</th>\n",
       "      <th>latitude</th>\n",
       "      <th>longitude</th>\n",
       "      <th>City</th>\n",
       "      <th>price_converted</th>\n",
       "    </tr>\n",
       "  </thead>\n",
       "  <tbody>\n",
       "    <tr>\n",
       "      <th>0</th>\n",
       "      <td>Hendry Vineyard and Winery</td>\n",
       "      <td>3104 Redwood Rd Napa, CA 94558</td>\n",
       "      <td>mO8n3zTLoFhlmcfQr7X_TQ</td>\n",
       "      <td>wineries</td>\n",
       "      <td>Wineries</td>\n",
       "      <td>5.0</td>\n",
       "      <td>658</td>\n",
       "      <td>$$</td>\n",
       "      <td>38.321680</td>\n",
       "      <td>-122.344810</td>\n",
       "      <td>Napa Valley</td>\n",
       "      <td>2</td>\n",
       "    </tr>\n",
       "    <tr>\n",
       "      <th>1</th>\n",
       "      <td>Domaine Carneros</td>\n",
       "      <td>1240 Duhig Rd Napa, CA 94559</td>\n",
       "      <td>8eGTOeEQpUpYb89ISug3ag</td>\n",
       "      <td>wineries</td>\n",
       "      <td>Wineries</td>\n",
       "      <td>4.0</td>\n",
       "      <td>2239</td>\n",
       "      <td>$$</td>\n",
       "      <td>38.255534</td>\n",
       "      <td>-122.351391</td>\n",
       "      <td>Napa Valley</td>\n",
       "      <td>2</td>\n",
       "    </tr>\n",
       "    <tr>\n",
       "      <th>2</th>\n",
       "      <td>Paraduxx Winery</td>\n",
       "      <td>7257 Silverado Trl Napa, CA 94558</td>\n",
       "      <td>cBFZALrZbLV5XBsiPcgknQ</td>\n",
       "      <td>wineries</td>\n",
       "      <td>Wineries</td>\n",
       "      <td>4.5</td>\n",
       "      <td>373</td>\n",
       "      <td>$$</td>\n",
       "      <td>38.435480</td>\n",
       "      <td>-122.351430</td>\n",
       "      <td>Napa Valley</td>\n",
       "      <td>2</td>\n",
       "    </tr>\n",
       "    <tr>\n",
       "      <th>3</th>\n",
       "      <td>Jarvis Winery</td>\n",
       "      <td>2970 Monticello Rd Napa, CA 94558</td>\n",
       "      <td>NPkAqW68Og5eBofEpPiRXQ</td>\n",
       "      <td>wineries</td>\n",
       "      <td>Wineries</td>\n",
       "      <td>4.5</td>\n",
       "      <td>209</td>\n",
       "      <td>$$$</td>\n",
       "      <td>38.357010</td>\n",
       "      <td>-122.213620</td>\n",
       "      <td>Napa Valley</td>\n",
       "      <td>3</td>\n",
       "    </tr>\n",
       "    <tr>\n",
       "      <th>4</th>\n",
       "      <td>Cuvaison Estate Wines</td>\n",
       "      <td>1221 Duhig Rd Napa, CA 94559</td>\n",
       "      <td>rjiMUH4UecBVD3wkqhgxXw</td>\n",
       "      <td>wineries</td>\n",
       "      <td>Wineries</td>\n",
       "      <td>4.0</td>\n",
       "      <td>327</td>\n",
       "      <td>$$</td>\n",
       "      <td>38.251176</td>\n",
       "      <td>-122.347084</td>\n",
       "      <td>Napa Valley</td>\n",
       "      <td>2</td>\n",
       "    </tr>\n",
       "  </tbody>\n",
       "</table>\n",
       "</div>"
      ],
      "text/plain": [
       "                         name                           location  \\\n",
       "0  Hendry Vineyard and Winery     3104 Redwood Rd Napa, CA 94558   \n",
       "1            Domaine Carneros       1240 Duhig Rd Napa, CA 94559   \n",
       "2             Paraduxx Winery  7257 Silverado Trl Napa, CA 94558   \n",
       "3               Jarvis Winery  2970 Monticello Rd Napa, CA 94558   \n",
       "4       Cuvaison Estate Wines       1221 Duhig Rd Napa, CA 94559   \n",
       "\n",
       "              Business ID     alias     title  rating  review_count price  \\\n",
       "0  mO8n3zTLoFhlmcfQr7X_TQ  wineries  Wineries     5.0           658    $$   \n",
       "1  8eGTOeEQpUpYb89ISug3ag  wineries  Wineries     4.0          2239    $$   \n",
       "2  cBFZALrZbLV5XBsiPcgknQ  wineries  Wineries     4.5           373    $$   \n",
       "3  NPkAqW68Og5eBofEpPiRXQ  wineries  Wineries     4.5           209   $$$   \n",
       "4  rjiMUH4UecBVD3wkqhgxXw  wineries  Wineries     4.0           327    $$   \n",
       "\n",
       "    latitude   longitude         City  price_converted  \n",
       "0  38.321680 -122.344810  Napa Valley                2  \n",
       "1  38.255534 -122.351391  Napa Valley                2  \n",
       "2  38.435480 -122.351430  Napa Valley                2  \n",
       "3  38.357010 -122.213620  Napa Valley                3  \n",
       "4  38.251176 -122.347084  Napa Valley                2  "
      ]
     },
     "execution_count": 9,
     "metadata": {},
     "output_type": "execute_result"
    }
   ],
   "source": [
    "# Read in data from the Napa Valley .csv\n",
    "df_nv_details = pd.read_csv(\"data/wineries_Napa Valley_price_converted.csv\")\n",
    "df_nv_details.reset_index(drop=True, inplace=True)\n",
    "df_nv_details['City'] = 'Napa Valley'\n",
    "\n",
    "# View results\n",
    "df_nv_details.head()"
   ]
  },
  {
   "cell_type": "markdown",
   "metadata": {
    "ExecuteTime": {
     "end_time": "2021-05-16T19:41:26.624350Z",
     "start_time": "2021-05-16T19:41:26.611351Z"
    }
   },
   "source": [
    "## Combined Data for Both Regions"
   ]
  },
  {
   "cell_type": "markdown",
   "metadata": {},
   "source": [
    "Now we'll concatenate the dataframes for our regions to compare the data."
   ]
  },
  {
   "cell_type": "code",
   "execution_count": 13,
   "metadata": {
    "ExecuteTime": {
     "end_time": "2021-05-16T22:04:43.952898Z",
     "start_time": "2021-05-16T22:04:43.911894Z"
    },
    "scrolled": true
   },
   "outputs": [
    {
     "data": {
      "text/html": [
       "<div>\n",
       "<style scoped>\n",
       "    .dataframe tbody tr th:only-of-type {\n",
       "        vertical-align: middle;\n",
       "    }\n",
       "\n",
       "    .dataframe tbody tr th {\n",
       "        vertical-align: top;\n",
       "    }\n",
       "\n",
       "    .dataframe thead th {\n",
       "        text-align: right;\n",
       "    }\n",
       "</style>\n",
       "<table border=\"1\" class=\"dataframe\">\n",
       "  <thead>\n",
       "    <tr style=\"text-align: right;\">\n",
       "      <th></th>\n",
       "      <th>name</th>\n",
       "      <th>location</th>\n",
       "      <th>Business ID</th>\n",
       "      <th>alias</th>\n",
       "      <th>title</th>\n",
       "      <th>rating</th>\n",
       "      <th>review_count</th>\n",
       "      <th>price</th>\n",
       "      <th>latitude</th>\n",
       "      <th>longitude</th>\n",
       "      <th>City</th>\n",
       "      <th>price_converted</th>\n",
       "    </tr>\n",
       "  </thead>\n",
       "  <tbody>\n",
       "    <tr>\n",
       "      <th>0</th>\n",
       "      <td>Bernardo Winery</td>\n",
       "      <td>13330 Paseo Del Verano Norte San Diego, CA 92128</td>\n",
       "      <td>DknnpiG1p4OoM1maFshzXA</td>\n",
       "      <td>winetastingroom</td>\n",
       "      <td>Wine Tasting Room</td>\n",
       "      <td>4.5</td>\n",
       "      <td>626</td>\n",
       "      <td>$$</td>\n",
       "      <td>33.032800</td>\n",
       "      <td>-117.046460</td>\n",
       "      <td>San Diego</td>\n",
       "      <td>2</td>\n",
       "    </tr>\n",
       "    <tr>\n",
       "      <th>1</th>\n",
       "      <td>Callaway Vineyard &amp; Winery</td>\n",
       "      <td>517 4th Ave Ste 101 San Diego, CA 92101</td>\n",
       "      <td>Cn2_bpTngghYW1ej4zreZg</td>\n",
       "      <td>winetastingroom</td>\n",
       "      <td>Wine Tasting Room</td>\n",
       "      <td>5.0</td>\n",
       "      <td>100</td>\n",
       "      <td>$$</td>\n",
       "      <td>32.710751</td>\n",
       "      <td>-117.160918</td>\n",
       "      <td>San Diego</td>\n",
       "      <td>2</td>\n",
       "    </tr>\n",
       "    <tr>\n",
       "      <th>2</th>\n",
       "      <td>San Pasqual Winery - Seaport Village</td>\n",
       "      <td>805 W Harbor Dr San Diego, CA 92101</td>\n",
       "      <td>gMW1RvyLu90RSQAY9UrIHw</td>\n",
       "      <td>winetastingroom</td>\n",
       "      <td>Wine Tasting Room</td>\n",
       "      <td>4.5</td>\n",
       "      <td>138</td>\n",
       "      <td>$$</td>\n",
       "      <td>32.708732</td>\n",
       "      <td>-117.168195</td>\n",
       "      <td>San Diego</td>\n",
       "      <td>2</td>\n",
       "    </tr>\n",
       "    <tr>\n",
       "      <th>3</th>\n",
       "      <td>Négociant Winery</td>\n",
       "      <td>2419 El Cajon Blvd San Diego, CA 92104</td>\n",
       "      <td>Cc1sQWRWgGyMCjzX2mmMQQ</td>\n",
       "      <td>winetastingroom</td>\n",
       "      <td>Wine Tasting Room</td>\n",
       "      <td>4.5</td>\n",
       "      <td>103</td>\n",
       "      <td>$$</td>\n",
       "      <td>32.754880</td>\n",
       "      <td>-117.138280</td>\n",
       "      <td>San Diego</td>\n",
       "      <td>2</td>\n",
       "    </tr>\n",
       "    <tr>\n",
       "      <th>4</th>\n",
       "      <td>Domaine Artefact Vineyard &amp; Winery</td>\n",
       "      <td>15404 Highland Valley Rd Escondido, CA 92025</td>\n",
       "      <td>WqVbxY77Ag96X90LultCUw</td>\n",
       "      <td>wineries</td>\n",
       "      <td>Wineries</td>\n",
       "      <td>5.0</td>\n",
       "      <td>96</td>\n",
       "      <td>$$</td>\n",
       "      <td>33.068170</td>\n",
       "      <td>-117.001600</td>\n",
       "      <td>San Diego</td>\n",
       "      <td>2</td>\n",
       "    </tr>\n",
       "    <tr>\n",
       "      <th>...</th>\n",
       "      <td>...</td>\n",
       "      <td>...</td>\n",
       "      <td>...</td>\n",
       "      <td>...</td>\n",
       "      <td>...</td>\n",
       "      <td>...</td>\n",
       "      <td>...</td>\n",
       "      <td>...</td>\n",
       "      <td>...</td>\n",
       "      <td>...</td>\n",
       "      <td>...</td>\n",
       "      <td>...</td>\n",
       "    </tr>\n",
       "    <tr>\n",
       "      <th>398</th>\n",
       "      <td>Andretti Winery</td>\n",
       "      <td>1625 Trancas St Ste 3017 Napa, CA 94558</td>\n",
       "      <td>NKCMqIlRopcSMA15JpeyJg</td>\n",
       "      <td>wineries</td>\n",
       "      <td>Wineries</td>\n",
       "      <td>3.5</td>\n",
       "      <td>311</td>\n",
       "      <td>$$</td>\n",
       "      <td>38.321516</td>\n",
       "      <td>-122.304108</td>\n",
       "      <td>Napa Valley</td>\n",
       "      <td>2</td>\n",
       "    </tr>\n",
       "    <tr>\n",
       "      <th>399</th>\n",
       "      <td>Lionstone International</td>\n",
       "      <td>21481 8th St E Sonoma, CA 95476</td>\n",
       "      <td>pW9QPUkm2_tTXLCzyQ6qvg</td>\n",
       "      <td>wineries</td>\n",
       "      <td>Wineries</td>\n",
       "      <td>1.0</td>\n",
       "      <td>1</td>\n",
       "      <td>$$</td>\n",
       "      <td>38.262062</td>\n",
       "      <td>-122.442036</td>\n",
       "      <td>Napa Valley</td>\n",
       "      <td>2</td>\n",
       "    </tr>\n",
       "    <tr>\n",
       "      <th>400</th>\n",
       "      <td>Napa Vinyards</td>\n",
       "      <td>Napa, CA 94558</td>\n",
       "      <td>UwgQWRkTzlFnw3-QYCaBlQ</td>\n",
       "      <td>wineries</td>\n",
       "      <td>Wineries</td>\n",
       "      <td>1.0</td>\n",
       "      <td>1</td>\n",
       "      <td>$$</td>\n",
       "      <td>38.383260</td>\n",
       "      <td>-122.313060</td>\n",
       "      <td>Napa Valley</td>\n",
       "      <td>2</td>\n",
       "    </tr>\n",
       "    <tr>\n",
       "      <th>401</th>\n",
       "      <td>Cook Vinyard Management</td>\n",
       "      <td>19626 Eighth St E Sonoma, CA 95476</td>\n",
       "      <td>LxMkyxBokxu6iRIsuMF5Tw</td>\n",
       "      <td>wineries</td>\n",
       "      <td>Wineries</td>\n",
       "      <td>1.0</td>\n",
       "      <td>1</td>\n",
       "      <td>$$</td>\n",
       "      <td>38.286261</td>\n",
       "      <td>-122.434893</td>\n",
       "      <td>Napa Valley</td>\n",
       "      <td>2</td>\n",
       "    </tr>\n",
       "    <tr>\n",
       "      <th>402</th>\n",
       "      <td>Top It Off Bottling</td>\n",
       "      <td>21481 8th St E Ste 1 Sonoma, CA 95476</td>\n",
       "      <td>Jt-VYmagp5ETW1v_G_Ae0g</td>\n",
       "      <td>wineries</td>\n",
       "      <td>Wineries</td>\n",
       "      <td>1.0</td>\n",
       "      <td>2</td>\n",
       "      <td>$$</td>\n",
       "      <td>38.262480</td>\n",
       "      <td>-122.442070</td>\n",
       "      <td>Napa Valley</td>\n",
       "      <td>2</td>\n",
       "    </tr>\n",
       "  </tbody>\n",
       "</table>\n",
       "<p>485 rows × 12 columns</p>\n",
       "</div>"
      ],
      "text/plain": [
       "                                     name  \\\n",
       "0                         Bernardo Winery   \n",
       "1              Callaway Vineyard & Winery   \n",
       "2    San Pasqual Winery - Seaport Village   \n",
       "3                        Négociant Winery   \n",
       "4      Domaine Artefact Vineyard & Winery   \n",
       "..                                    ...   \n",
       "398                       Andretti Winery   \n",
       "399               Lionstone International   \n",
       "400                         Napa Vinyards   \n",
       "401               Cook Vinyard Management   \n",
       "402                   Top It Off Bottling   \n",
       "\n",
       "                                             location             Business ID  \\\n",
       "0    13330 Paseo Del Verano Norte San Diego, CA 92128  DknnpiG1p4OoM1maFshzXA   \n",
       "1             517 4th Ave Ste 101 San Diego, CA 92101  Cn2_bpTngghYW1ej4zreZg   \n",
       "2                 805 W Harbor Dr San Diego, CA 92101  gMW1RvyLu90RSQAY9UrIHw   \n",
       "3              2419 El Cajon Blvd San Diego, CA 92104  Cc1sQWRWgGyMCjzX2mmMQQ   \n",
       "4        15404 Highland Valley Rd Escondido, CA 92025  WqVbxY77Ag96X90LultCUw   \n",
       "..                                                ...                     ...   \n",
       "398           1625 Trancas St Ste 3017 Napa, CA 94558  NKCMqIlRopcSMA15JpeyJg   \n",
       "399                   21481 8th St E Sonoma, CA 95476  pW9QPUkm2_tTXLCzyQ6qvg   \n",
       "400                                    Napa, CA 94558  UwgQWRkTzlFnw3-QYCaBlQ   \n",
       "401                19626 Eighth St E Sonoma, CA 95476  LxMkyxBokxu6iRIsuMF5Tw   \n",
       "402             21481 8th St E Ste 1 Sonoma, CA 95476  Jt-VYmagp5ETW1v_G_Ae0g   \n",
       "\n",
       "               alias              title  rating  review_count price  \\\n",
       "0    winetastingroom  Wine Tasting Room     4.5           626    $$   \n",
       "1    winetastingroom  Wine Tasting Room     5.0           100    $$   \n",
       "2    winetastingroom  Wine Tasting Room     4.5           138    $$   \n",
       "3    winetastingroom  Wine Tasting Room     4.5           103    $$   \n",
       "4           wineries           Wineries     5.0            96    $$   \n",
       "..               ...                ...     ...           ...   ...   \n",
       "398         wineries           Wineries     3.5           311    $$   \n",
       "399         wineries           Wineries     1.0             1    $$   \n",
       "400         wineries           Wineries     1.0             1    $$   \n",
       "401         wineries           Wineries     1.0             1    $$   \n",
       "402         wineries           Wineries     1.0             2    $$   \n",
       "\n",
       "      latitude   longitude         City  price_converted  \n",
       "0    33.032800 -117.046460    San Diego                2  \n",
       "1    32.710751 -117.160918    San Diego                2  \n",
       "2    32.708732 -117.168195    San Diego                2  \n",
       "3    32.754880 -117.138280    San Diego                2  \n",
       "4    33.068170 -117.001600    San Diego                2  \n",
       "..         ...         ...          ...              ...  \n",
       "398  38.321516 -122.304108  Napa Valley                2  \n",
       "399  38.262062 -122.442036  Napa Valley                2  \n",
       "400  38.383260 -122.313060  Napa Valley                2  \n",
       "401  38.286261 -122.434893  Napa Valley                2  \n",
       "402  38.262480 -122.442070  Napa Valley                2  \n",
       "\n",
       "[485 rows x 12 columns]"
      ]
     },
     "execution_count": 13,
     "metadata": {},
     "output_type": "execute_result"
    }
   ],
   "source": [
    "combined = pd.concat([df_sd_details, df_nv_details], ignore_index = 0)\n",
    "combined"
   ]
  },
  {
   "cell_type": "markdown",
   "metadata": {},
   "source": [
    "Everything looks good! Let's go ahead and get a quick overview of the dataframe."
   ]
  },
  {
   "cell_type": "code",
   "execution_count": 18,
   "metadata": {
    "ExecuteTime": {
     "end_time": "2021-05-16T22:05:36.190045Z",
     "start_time": "2021-05-16T22:05:36.152045Z"
    },
    "scrolled": true
   },
   "outputs": [
    {
     "name": "stdout",
     "output_type": "stream",
     "text": [
      "<class 'pandas.core.frame.DataFrame'>\n",
      "Int64Index: 485 entries, 0 to 402\n",
      "Data columns (total 12 columns):\n",
      " #   Column           Non-Null Count  Dtype  \n",
      "---  ------           --------------  -----  \n",
      " 0   name             485 non-null    object \n",
      " 1   location         485 non-null    object \n",
      " 2   Business ID      485 non-null    object \n",
      " 3   alias            485 non-null    object \n",
      " 4   title            485 non-null    object \n",
      " 5   rating           485 non-null    float64\n",
      " 6   review_count     485 non-null    int64  \n",
      " 7   price            485 non-null    object \n",
      " 8   latitude         485 non-null    float64\n",
      " 9   longitude        485 non-null    float64\n",
      " 10  City             485 non-null    object \n",
      " 11  price_converted  485 non-null    int64  \n",
      "dtypes: float64(3), int64(2), object(7)\n",
      "memory usage: 49.3+ KB\n"
     ]
    }
   ],
   "source": [
    "combined.info()"
   ]
  },
  {
   "cell_type": "code",
   "execution_count": 19,
   "metadata": {
    "ExecuteTime": {
     "end_time": "2021-05-16T22:06:08.537247Z",
     "start_time": "2021-05-16T22:06:08.520246Z"
    }
   },
   "outputs": [
    {
     "data": {
      "text/plain": [
       "(485, 12)"
      ]
     },
     "execution_count": 19,
     "metadata": {},
     "output_type": "execute_result"
    }
   ],
   "source": [
    "combined.shape"
   ]
  },
  {
   "cell_type": "code",
   "execution_count": 15,
   "metadata": {
    "ExecuteTime": {
     "end_time": "2021-05-16T22:05:19.613350Z",
     "start_time": "2021-05-16T22:05:19.578349Z"
    }
   },
   "outputs": [
    {
     "data": {
      "text/html": [
       "<div>\n",
       "<style scoped>\n",
       "    .dataframe tbody tr th:only-of-type {\n",
       "        vertical-align: middle;\n",
       "    }\n",
       "\n",
       "    .dataframe tbody tr th {\n",
       "        vertical-align: top;\n",
       "    }\n",
       "\n",
       "    .dataframe thead th {\n",
       "        text-align: right;\n",
       "    }\n",
       "</style>\n",
       "<table border=\"1\" class=\"dataframe\">\n",
       "  <thead>\n",
       "    <tr style=\"text-align: right;\">\n",
       "      <th></th>\n",
       "      <th>rating</th>\n",
       "      <th>review_count</th>\n",
       "      <th>latitude</th>\n",
       "      <th>longitude</th>\n",
       "      <th>price_converted</th>\n",
       "    </tr>\n",
       "  </thead>\n",
       "  <tbody>\n",
       "    <tr>\n",
       "      <th>count</th>\n",
       "      <td>485.000000</td>\n",
       "      <td>485.000000</td>\n",
       "      <td>485.000000</td>\n",
       "      <td>485.000000</td>\n",
       "      <td>485.000000</td>\n",
       "    </tr>\n",
       "    <tr>\n",
       "      <th>mean</th>\n",
       "      <td>4.551546</td>\n",
       "      <td>81.723711</td>\n",
       "      <td>37.415949</td>\n",
       "      <td>-121.434665</td>\n",
       "      <td>2.179381</td>\n",
       "    </tr>\n",
       "    <tr>\n",
       "      <th>std</th>\n",
       "      <td>0.679863</td>\n",
       "      <td>183.315341</td>\n",
       "      <td>2.029642</td>\n",
       "      <td>1.998159</td>\n",
       "      <td>0.492493</td>\n",
       "    </tr>\n",
       "    <tr>\n",
       "      <th>min</th>\n",
       "      <td>1.000000</td>\n",
       "      <td>1.000000</td>\n",
       "      <td>32.512608</td>\n",
       "      <td>-122.494690</td>\n",
       "      <td>1.000000</td>\n",
       "    </tr>\n",
       "    <tr>\n",
       "      <th>25%</th>\n",
       "      <td>4.500000</td>\n",
       "      <td>4.000000</td>\n",
       "      <td>38.247393</td>\n",
       "      <td>-122.371093</td>\n",
       "      <td>2.000000</td>\n",
       "    </tr>\n",
       "    <tr>\n",
       "      <th>50%</th>\n",
       "      <td>4.500000</td>\n",
       "      <td>15.000000</td>\n",
       "      <td>38.297370</td>\n",
       "      <td>-122.295921</td>\n",
       "      <td>2.000000</td>\n",
       "    </tr>\n",
       "    <tr>\n",
       "      <th>75%</th>\n",
       "      <td>5.000000</td>\n",
       "      <td>79.000000</td>\n",
       "      <td>38.363850</td>\n",
       "      <td>-122.253380</td>\n",
       "      <td>2.000000</td>\n",
       "    </tr>\n",
       "    <tr>\n",
       "      <th>max</th>\n",
       "      <td>5.000000</td>\n",
       "      <td>2239.000000</td>\n",
       "      <td>38.465419</td>\n",
       "      <td>-116.750704</td>\n",
       "      <td>4.000000</td>\n",
       "    </tr>\n",
       "  </tbody>\n",
       "</table>\n",
       "</div>"
      ],
      "text/plain": [
       "           rating  review_count    latitude   longitude  price_converted\n",
       "count  485.000000    485.000000  485.000000  485.000000       485.000000\n",
       "mean     4.551546     81.723711   37.415949 -121.434665         2.179381\n",
       "std      0.679863    183.315341    2.029642    1.998159         0.492493\n",
       "min      1.000000      1.000000   32.512608 -122.494690         1.000000\n",
       "25%      4.500000      4.000000   38.247393 -122.371093         2.000000\n",
       "50%      4.500000     15.000000   38.297370 -122.295921         2.000000\n",
       "75%      5.000000     79.000000   38.363850 -122.253380         2.000000\n",
       "max      5.000000   2239.000000   38.465419 -116.750704         4.000000"
      ]
     },
     "execution_count": 15,
     "metadata": {},
     "output_type": "execute_result"
    }
   ],
   "source": [
    "combined.describe()"
   ]
  },
  {
   "cell_type": "code",
   "execution_count": 20,
   "metadata": {
    "ExecuteTime": {
     "end_time": "2021-05-16T22:06:28.878985Z",
     "start_time": "2021-05-16T22:06:28.824959Z"
    }
   },
   "outputs": [
    {
     "data": {
      "text/html": [
       "<div>\n",
       "<style scoped>\n",
       "    .dataframe tbody tr th:only-of-type {\n",
       "        vertical-align: middle;\n",
       "    }\n",
       "\n",
       "    .dataframe tbody tr th {\n",
       "        vertical-align: top;\n",
       "    }\n",
       "\n",
       "    .dataframe thead th {\n",
       "        text-align: right;\n",
       "    }\n",
       "</style>\n",
       "<table border=\"1\" class=\"dataframe\">\n",
       "  <thead>\n",
       "    <tr style=\"text-align: right;\">\n",
       "      <th></th>\n",
       "      <th>count</th>\n",
       "      <th>mean</th>\n",
       "      <th>min</th>\n",
       "      <th>median</th>\n",
       "      <th>max</th>\n",
       "    </tr>\n",
       "    <tr>\n",
       "      <th>City</th>\n",
       "      <th></th>\n",
       "      <th></th>\n",
       "      <th></th>\n",
       "      <th></th>\n",
       "      <th></th>\n",
       "    </tr>\n",
       "  </thead>\n",
       "  <tbody>\n",
       "    <tr>\n",
       "      <th>Napa Valley</th>\n",
       "      <td>403</td>\n",
       "      <td>2.220844</td>\n",
       "      <td>1</td>\n",
       "      <td>2</td>\n",
       "      <td>4</td>\n",
       "    </tr>\n",
       "    <tr>\n",
       "      <th>San Diego</th>\n",
       "      <td>82</td>\n",
       "      <td>1.975610</td>\n",
       "      <td>1</td>\n",
       "      <td>2</td>\n",
       "      <td>3</td>\n",
       "    </tr>\n",
       "  </tbody>\n",
       "</table>\n",
       "</div>"
      ],
      "text/plain": [
       "             count      mean  min  median  max\n",
       "City                                          \n",
       "Napa Valley    403  2.220844    1       2    4\n",
       "San Diego       82  1.975610    1       2    3"
      ]
     },
     "execution_count": 20,
     "metadata": {},
     "output_type": "execute_result"
    }
   ],
   "source": [
    "combined.groupby('City').agg(['count', 'mean', min, 'median', max])['price_converted']"
   ]
  },
  {
   "cell_type": "markdown",
   "metadata": {
    "ExecuteTime": {
     "end_time": "2021-05-13T21:15:22.392762Z",
     "start_time": "2021-05-13T21:15:22.375765Z"
    }
   },
   "source": [
    "# Exploring the Data for Each City"
   ]
  },
  {
   "cell_type": "markdown",
   "metadata": {},
   "source": [
    "## EDA: San Diego Business Details"
   ]
  },
  {
   "cell_type": "markdown",
   "metadata": {},
   "source": [
    "- .describe()\n",
    "- box plot, scatter plot, hist\n",
    "- what details stand out?\n",
    "- What insight do we gain from these details?"
   ]
  },
  {
   "cell_type": "code",
   "execution_count": null,
   "metadata": {
    "ExecuteTime": {
     "end_time": "2021-05-16T14:51:16.673602Z",
     "start_time": "2021-05-16T14:51:16.644578Z"
    }
   },
   "outputs": [],
   "source": [
    "# First, let's see an overview of the data with the .head() method.\n",
    "df_sd_details.head()"
   ]
  },
  {
   "cell_type": "markdown",
   "metadata": {},
   "source": [
    "- What does this data show? Any insight?"
   ]
  },
  {
   "cell_type": "code",
   "execution_count": null,
   "metadata": {},
   "outputs": [],
   "source": [
    "# Now let's see the centrality of the data via the .describe() method.\n",
    "df_sd_details.describe()"
   ]
  },
  {
   "cell_type": "markdown",
   "metadata": {
    "ExecuteTime": {
     "end_time": "2021-05-16T19:24:13.515238Z",
     "start_time": "2021-05-16T19:24:13.504228Z"
    }
   },
   "source": [
    "- What does this data show? Any insight?"
   ]
  },
  {
   "cell_type": "markdown",
   "metadata": {
    "ExecuteTime": {
     "end_time": "2021-05-13T21:43:51.825458Z",
     "start_time": "2021-05-13T21:43:51.819276Z"
    }
   },
   "source": [
    "### San Diego - Visualizing the Data"
   ]
  },
  {
   "cell_type": "markdown",
   "metadata": {},
   "source": [
    "- .describe()\n",
    "- box plot, scatter plot, hist\n",
    "- what details stand out?\n",
    "- What insight do we gain from these details?"
   ]
  },
  {
   "cell_type": "code",
   "execution_count": null,
   "metadata": {
    "ExecuteTime": {
     "end_time": "2021-05-16T14:51:17.020607Z",
     "start_time": "2021-05-16T14:51:16.831580Z"
    }
   },
   "outputs": [],
   "source": [
    "# Visualizing the centrality of the data.\n",
    "\n",
    "df_sd_details['review_count'].plot(kind='box');"
   ]
  },
  {
   "cell_type": "markdown",
   "metadata": {},
   "source": [
    "Our box plot for the review counts of San Diego show that almost 75% of businesses have fewer than 100 reviews, with some **close to 200**. Four businesses have significantly more reviews, which raises the question of _why_ those businesses are so popular?\n",
    "\n",
    "Let's get a closer look at the data without those outliers."
   ]
  },
  {
   "cell_type": "code",
   "execution_count": null,
   "metadata": {
    "ExecuteTime": {
     "end_time": "2021-05-16T14:51:17.163611Z",
     "start_time": "2021-05-16T14:51:17.022579Z"
    }
   },
   "outputs": [],
   "source": [
    "# Boxplot using the same data as above with the outliers removed.\n",
    "\n",
    "df_sd_details['review_count'].plot(kind='box', showfliers=False);"
   ]
  },
  {
   "cell_type": "markdown",
   "metadata": {},
   "source": [
    "This new box plot gives us a clearer idea of the spread of the data. Half of the reviews call between about 10 to 90 reviews, with an average close to 30 reviews.\n",
    "\n",
    "Where does the other half of the data fall? Let's use a histogram to visualize the data differently."
   ]
  },
  {
   "cell_type": "code",
   "execution_count": null,
   "metadata": {
    "ExecuteTime": {
     "end_time": "2021-05-16T14:51:17.355577Z",
     "start_time": "2021-05-16T14:51:17.165578Z"
    }
   },
   "outputs": [],
   "source": [
    "# Counting the occurences of each review total\n",
    "\n",
    "sns.histplot(df_sd_details['review_count']);"
   ]
  },
  {
   "cell_type": "markdown",
   "metadata": {},
   "source": [
    "This histogram shows that a large number of businesses have below 50 reviews. This matches our understanding from above."
   ]
  },
  {
   "cell_type": "code",
   "execution_count": null,
   "metadata": {
    "ExecuteTime": {
     "end_time": "2021-05-16T14:51:17.547607Z",
     "start_time": "2021-05-16T14:51:17.357590Z"
    }
   },
   "outputs": [],
   "source": [
    "fig, ax = plt.subplots()\n",
    "df_sd_details['price_converted'].plot.hist(bins=5)\n",
    "ax.set_xlabel('Price ($)');"
   ]
  },
  {
   "cell_type": "markdown",
   "metadata": {},
   "source": [
    "## EDA: Napa Valley Business Details"
   ]
  },
  {
   "cell_type": "code",
   "execution_count": null,
   "metadata": {
    "ExecuteTime": {
     "end_time": "2021-05-16T14:51:17.578578Z",
     "start_time": "2021-05-16T14:51:17.549577Z"
    }
   },
   "outputs": [],
   "source": [
    "df_nv_details.head()"
   ]
  },
  {
   "cell_type": "markdown",
   "metadata": {},
   "source": [
    "- .describe()\n",
    "- box plot, scatter plot, hist\n",
    "- what details stand out?\n",
    "- What insight do we gain from these details?"
   ]
  },
  {
   "cell_type": "code",
   "execution_count": null,
   "metadata": {},
   "outputs": [],
   "source": [
    "# Now let's see the centrality of the data via the .describe() method.\n",
    "df_nv_details.describe()"
   ]
  },
  {
   "cell_type": "markdown",
   "metadata": {
    "ExecuteTime": {
     "end_time": "2021-05-16T19:24:13.515238Z",
     "start_time": "2021-05-16T19:24:13.504228Z"
    }
   },
   "source": [
    "- What does this data show? Any insight?"
   ]
  },
  {
   "cell_type": "code",
   "execution_count": null,
   "metadata": {},
   "outputs": [],
   "source": []
  },
  {
   "cell_type": "markdown",
   "metadata": {
    "ExecuteTime": {
     "end_time": "2021-05-13T21:43:51.825458Z",
     "start_time": "2021-05-13T21:43:51.819276Z"
    }
   },
   "source": [
    "### Napa Valley- Visualizing the Data"
   ]
  },
  {
   "cell_type": "markdown",
   "metadata": {},
   "source": [
    "- .describe()\n",
    "- box plot, scatter plot, hist\n",
    "- what details stand out?\n",
    "- What insight do we gain from these details?"
   ]
  },
  {
   "cell_type": "code",
   "execution_count": null,
   "metadata": {
    "ExecuteTime": {
     "end_time": "2021-05-16T14:51:17.020607Z",
     "start_time": "2021-05-16T14:51:16.831580Z"
    }
   },
   "outputs": [],
   "source": [
    "# Visualizing the centrality of the data.\n",
    "\n",
    "df_sd_details['review_count'].plot(kind='box');"
   ]
  },
  {
   "cell_type": "markdown",
   "metadata": {},
   "source": [
    "Our box plot for the review counts of San Diego show that almost 75% of businesses have fewer than 100 reviews, with some **close to 200**. Four businesses have significantly more reviews, which raises the question of _why_ those businesses are so popular?\n",
    "\n",
    "Let's get a closer look at the data without those outliers."
   ]
  },
  {
   "cell_type": "code",
   "execution_count": null,
   "metadata": {
    "ExecuteTime": {
     "end_time": "2021-05-16T14:51:17.163611Z",
     "start_time": "2021-05-16T14:51:17.022579Z"
    }
   },
   "outputs": [],
   "source": [
    "# Boxplot using the same data as above with the outliers removed.\n",
    "\n",
    "df_sd_details['review_count'].plot(kind='box', showfliers=False);"
   ]
  },
  {
   "cell_type": "markdown",
   "metadata": {},
   "source": [
    "This new box plot gives us a clearer idea of the spread of the data. Half of the reviews call between about 10 to 90 reviews, with an average close to 30 reviews.\n",
    "\n",
    "Where does the other half of the data fall? Let's use a histogram to visualize the data differently."
   ]
  },
  {
   "cell_type": "code",
   "execution_count": null,
   "metadata": {
    "ExecuteTime": {
     "end_time": "2021-05-16T14:51:17.355577Z",
     "start_time": "2021-05-16T14:51:17.165578Z"
    }
   },
   "outputs": [],
   "source": [
    "# Counting the occurences of each review total\n",
    "\n",
    "sns.histplot(df_sd_details['review_count']);"
   ]
  },
  {
   "cell_type": "markdown",
   "metadata": {},
   "source": [
    "This histogram shows that a large number of businesses have below 50 reviews. This matches our understanding from above."
   ]
  },
  {
   "cell_type": "code",
   "execution_count": null,
   "metadata": {
    "ExecuteTime": {
     "end_time": "2021-05-16T14:51:17.547607Z",
     "start_time": "2021-05-16T14:51:17.357590Z"
    }
   },
   "outputs": [],
   "source": [
    "fig, ax = plt.subplots()\n",
    "df_sd_details['price_converted'].plot.hist(bins=5)\n",
    "ax.set_xlabel('Price ($)');"
   ]
  },
  {
   "cell_type": "markdown",
   "metadata": {
    "ExecuteTime": {
     "end_time": "2021-05-13T23:04:31.705080Z",
     "start_time": "2021-05-13T23:04:31.699078Z"
    }
   },
   "source": [
    "# Exploring the Combined Data"
   ]
  },
  {
   "cell_type": "markdown",
   "metadata": {},
   "source": [
    "Now that we looked at each of the individual businesses, we are going to compare each region's details to help us determine the best choice for our winery."
   ]
  },
  {
   "cell_type": "markdown",
   "metadata": {},
   "source": [
    "## Inspecting the Combined Data"
   ]
  },
  {
   "cell_type": "code",
   "execution_count": null,
   "metadata": {
    "ExecuteTime": {
     "end_time": "2021-05-16T14:51:17.843603Z",
     "start_time": "2021-05-16T14:51:17.815581Z"
    }
   },
   "outputs": [],
   "source": [
    "combined.head()"
   ]
  },
  {
   "cell_type": "code",
   "execution_count": null,
   "metadata": {
    "ExecuteTime": {
     "end_time": "2021-05-16T14:51:17.874577Z",
     "start_time": "2021-05-16T14:51:17.846578Z"
    }
   },
   "outputs": [],
   "source": [
    "combined.describe()"
   ]
  },
  {
   "cell_type": "code",
   "execution_count": null,
   "metadata": {
    "ExecuteTime": {
     "end_time": "2021-05-16T14:51:17.921578Z",
     "start_time": "2021-05-16T14:51:17.876578Z"
    }
   },
   "outputs": [],
   "source": [
    "combined.groupby('City').agg(['count', 'mean', min, 'median', max])['price_converted']"
   ]
  },
  {
   "cell_type": "markdown",
   "metadata": {},
   "source": [
    "## Combined Data: Visualizing the Data"
   ]
  },
  {
   "cell_type": "code",
   "execution_count": null,
   "metadata": {
    "ExecuteTime": {
     "end_time": "2021-05-16T14:51:18.111610Z",
     "start_time": "2021-05-16T14:51:17.923580Z"
    }
   },
   "outputs": [],
   "source": [
    "sns.countplot(data=combined, hue='City', x='price_converted' );"
   ]
  },
  {
   "cell_type": "code",
   "execution_count": null,
   "metadata": {
    "ExecuteTime": {
     "end_time": "2021-05-16T14:51:18.367611Z",
     "start_time": "2021-05-16T14:51:18.113581Z"
    }
   },
   "outputs": [],
   "source": [
    "sns.countplot(data=combined, hue='City', x='rating' );"
   ]
  },
  {
   "cell_type": "code",
   "execution_count": null,
   "metadata": {
    "ExecuteTime": {
     "end_time": "2021-05-16T14:51:18.663608Z",
     "start_time": "2021-05-16T14:51:18.369578Z"
    },
    "code_folding": []
   },
   "outputs": [],
   "source": [
    "# Making a grouped bar chart for each city normalizing the ratings\n",
    "norm_rating = combined.groupby('City')['rating'].value_counts(normalize=True).to_frame()\n",
    "norm_rating.unstack(0).plot(kind='bar')\n",
    "legend = plt.legend()\n",
    "legend.get_texts()[0].set_text('Napa Valley')\n",
    "legend.get_texts()[1].set_text('San Diego')\n",
    "plt.xticks(rotation = 0)\n",
    "plt.xlabel('Rating')\n",
    "plt.ylabel('Reviews (%)')\n",
    "plt.title('Ratings per Region');"
   ]
  },
  {
   "cell_type": "code",
   "execution_count": null,
   "metadata": {
    "ExecuteTime": {
     "end_time": "2021-05-16T14:51:18.679580Z",
     "start_time": "2021-05-16T14:51:18.665578Z"
    },
    "code_folding": []
   },
   "outputs": [],
   "source": [
    "# Exploring how to normalize values, then change the structure of a dataframe\n",
    "# normalized_rating = combined.groupby('City')['rating'].value_counts(normalize=True).to_frame().unstack(0, fill_value=0)\n",
    "# normalized_rating"
   ]
  },
  {
   "cell_type": "code",
   "execution_count": null,
   "metadata": {
    "ExecuteTime": {
     "end_time": "2021-05-16T14:51:18.868712Z",
     "start_time": "2021-05-16T14:51:18.681594Z"
    },
    "code_folding": []
   },
   "outputs": [],
   "source": [
    "# Making a grouped bar chart for each city normalizing the ratings\n",
    "norm_pricing = combined.groupby('City')['price_converted'].value_counts(normalize=True).to_frame().unstack(0, fill_value=0)\n",
    "norm_pricing.plot(kind='bar')\n",
    "legend = plt.legend()\n",
    "legend.get_texts()[0].set_text('Napa Valley')\n",
    "legend.get_texts()[1].set_text('San Diego')\n",
    "plt.xlabel('Price ($)')\n",
    "plt.xticks(rotation = 0)\n",
    "plt.ylabel('Normalized Count')\n",
    "plt.title('Menu Pricing per Region');"
   ]
  },
  {
   "cell_type": "code",
   "execution_count": null,
   "metadata": {
    "ExecuteTime": {
     "end_time": "2021-05-16T14:51:18.884611Z",
     "start_time": "2021-05-16T14:51:18.871580Z"
    },
    "code_folding": []
   },
   "outputs": [],
   "source": [
    "# # Comparing Review Counts between regions\n",
    "# norm_r_c = combined.groupby('City')['review_count'].value_counts(normalize=True).to_frame().unstack(0, fill_value=0)\n",
    "# norm_r_c.plot(kind='bar')\n",
    "# legend = plt.legend()\n",
    "# legend.get_texts()[0].set_text('Napa Valley')\n",
    "# legend.get_texts()[1].set_text('San Diego')\n",
    "# plt.xlabel('Number of Reviews')\n",
    "# plt.xticks(rotation = 0)\n",
    "# plt.ylabel('Normalized Count')\n",
    "# plt.title('Review Counts per Region');"
   ]
  },
  {
   "cell_type": "code",
   "execution_count": null,
   "metadata": {
    "ExecuteTime": {
     "end_time": "2021-05-16T14:51:19.059627Z",
     "start_time": "2021-05-16T14:51:18.886589Z"
    }
   },
   "outputs": [],
   "source": [
    "combined_sd = combined[combined.loc[:,'City'] == 'San Diego']\n",
    "combined_sd.hist(column = 'review_count');"
   ]
  },
  {
   "cell_type": "code",
   "execution_count": null,
   "metadata": {
    "ExecuteTime": {
     "end_time": "2021-05-16T14:51:19.233577Z",
     "start_time": "2021-05-16T14:51:19.062615Z"
    }
   },
   "outputs": [],
   "source": [
    "combined_sd = combined[combined.loc[:,'City'] == 'Napa Valley']\n",
    "combined_sd.hist(column = 'review_count');"
   ]
  },
  {
   "cell_type": "code",
   "execution_count": null,
   "metadata": {
    "ExecuteTime": {
     "end_time": "2021-05-16T14:51:19.374605Z",
     "start_time": "2021-05-16T14:51:19.235579Z"
    }
   },
   "outputs": [],
   "source": [
    "# Determining # businesses for NV vs. SD\n",
    "\n",
    "sns.countplot(x=combined['City']);"
   ]
  },
  {
   "cell_type": "code",
   "execution_count": null,
   "metadata": {
    "ExecuteTime": {
     "end_time": "2021-05-16T14:51:19.389602Z",
     "start_time": "2021-05-16T14:51:19.376579Z"
    },
    "code_folding": [],
    "scrolled": true
   },
   "outputs": [],
   "source": [
    "# rc_norm = combined.groupby('City')['review_count'].value_counts(normalize=True)\n",
    "# rc_norm = rc_norm.to_frame().unstack(0, fill_value=0).reset_index(drop=True)\n",
    "# rc_norm"
   ]
  },
  {
   "cell_type": "code",
   "execution_count": null,
   "metadata": {
    "ExecuteTime": {
     "end_time": "2021-05-16T14:51:19.530578Z",
     "start_time": "2021-05-16T14:51:19.391577Z"
    }
   },
   "outputs": [],
   "source": [
    "combined_sd = combined[combined.loc[:,'City'] == 'Napa Valley']\n",
    "combined_sd['review_count'].hist(grid=False);"
   ]
  },
  {
   "cell_type": "markdown",
   "metadata": {},
   "source": [
    "# Finished Vis"
   ]
  },
  {
   "cell_type": "markdown",
   "metadata": {
    "ExecuteTime": {
     "end_time": "2021-05-16T19:45:29.000410Z",
     "start_time": "2021-05-16T19:45:28.995409Z"
    }
   },
   "source": [
    "Now that we have an idea of what each dataset looks like, we will use visualizations to compare each of the data sets to answer our questions, guiding our decision."
   ]
  },
  {
   "cell_type": "code",
   "execution_count": null,
   "metadata": {
    "ExecuteTime": {
     "end_time": "2021-05-16T14:51:19.731611Z",
     "start_time": "2021-05-16T14:51:19.532607Z"
    },
    "code_folding": []
   },
   "outputs": [],
   "source": [
    "# Comparing 'price' values between regions\n",
    "norm_pricing = combined.groupby('City')['price_converted'].value_counts(normalize=True).to_frame().unstack(0, fill_value=0)\n",
    "norm_pricing.plot(kind='bar')\n",
    "legend = plt.legend()\n",
    "legend.get_texts()[0].set_text('Napa Valley')\n",
    "legend.get_texts()[1].set_text('San Diego')\n",
    "plt.xlabel('Price ($)')\n",
    "plt.xticks(rotation = 0)\n",
    "plt.ylabel('Normalized Count')\n",
    "plt.title('Business Pricing per Region');\n",
    "\n",
    "# plt.savefig('Business_Pricing_per_Region.png')"
   ]
  },
  {
   "cell_type": "code",
   "execution_count": null,
   "metadata": {
    "ExecuteTime": {
     "end_time": "2021-05-16T14:51:19.953615Z",
     "start_time": "2021-05-16T14:51:19.733578Z"
    },
    "code_folding": []
   },
   "outputs": [],
   "source": [
    "# Making a grouped bar chart for each city normalizing the ratings\n",
    "norm_rating = combined.groupby('City')['rating'].value_counts(normalize=True).to_frame().unstack(0).plot(kind='bar')\n",
    "legend = plt.legend()\n",
    "legend.get_texts()[0].set_text('Napa Valley')\n",
    "legend.get_texts()[1].set_text('San Diego')\n",
    "plt.xticks(rotation = 0)\n",
    "plt.xlabel('Rating')\n",
    "plt.ylabel('Reviews (%)')\n",
    "plt.title('Ratings per Region');\n",
    "\n",
    "# plt.savefig('Ratings_per_Region.png')"
   ]
  },
  {
   "cell_type": "code",
   "execution_count": null,
   "metadata": {
    "ExecuteTime": {
     "end_time": "2021-05-16T14:52:56.082985Z",
     "start_time": "2021-05-16T14:52:50.007194Z"
    }
   },
   "outputs": [],
   "source": [
    "for style in plt.style.available:\n",
    "    with plt.style.context(style):\n",
    "        \n",
    "        # Making a grouped bar chart for each city normalizing the ratings\n",
    "        norm_rating = combined.groupby('City')['rating'].value_counts(normalize=True).to_frame().unstack(0).plot(kind='bar')\n",
    "        legend = plt.legend()\n",
    "        legend.get_texts()[0].set_text('Napa Valley')\n",
    "        legend.get_texts()[1].set_text('San Diego')\n",
    "        plt.xticks(rotation = 0)\n",
    "        plt.xlabel('Rating')\n",
    "        plt.ylabel('Reviews (%)')\n",
    "        plt.title(style)\n",
    "        plt.show();\n",
    "\n",
    "        # plt.savefig('Ratings_per_Region.png')"
   ]
  },
  {
   "cell_type": "code",
   "execution_count": null,
   "metadata": {
    "ExecuteTime": {
     "end_time": "2021-05-16T14:57:08.313508Z",
     "start_time": "2021-05-16T14:57:08.072482Z"
    }
   },
   "outputs": [],
   "source": [
    "# Combining SNS styles - merge settings of first with second\n",
    "with plt.style.context(['seaborn-talk', 'seaborn-darkgrid']):\n",
    "\n",
    "    # Making a grouped bar chart for each city normalizing the ratings\n",
    "    norm_rating = combined.groupby('City')['rating'].value_counts(normalize=True).to_frame().unstack(0).plot(kind='bar')\n",
    "    legend = plt.legend()\n",
    "    legend.get_texts()[0].set_text('Napa Valley')\n",
    "    legend.get_texts()[1].set_text('San Diego')\n",
    "    plt.xticks(rotation = 0)\n",
    "    plt.xlabel('Rating')\n",
    "    plt.ylabel('Reviews (%)')\n",
    "    plt.title(style)\n",
    "    plt.show();\n",
    "\n",
    "    # plt.savefig('Ratings_per_Region.png')"
   ]
  },
  {
   "cell_type": "code",
   "execution_count": null,
   "metadata": {
    "ExecuteTime": {
     "end_time": "2021-05-16T14:57:08.609482Z",
     "start_time": "2021-05-16T14:57:08.457484Z"
    },
    "code_folding": [],
    "scrolled": false
   },
   "outputs": [],
   "source": [
    "# Show count of businesses per city\n",
    "\n",
    "sns.countplot(x=combined['City'])\n",
    "plt.xlabel('Region')\n",
    "plt.ylabel('Total')\n",
    "plt.title('Number of Wineries per Region');\n",
    "\n",
    "# plt.savefig('Number_of_Wineries_per_Region.png')"
   ]
  },
  {
   "cell_type": "code",
   "execution_count": null,
   "metadata": {
    "ExecuteTime": {
     "end_time": "2021-05-15T20:57:04.655182Z",
     "start_time": "2021-05-15T20:57:04.610490Z"
    }
   },
   "outputs": [],
   "source": [
    "df_nv = combined[combined['City'] == 'Napa Valley']\n",
    "df_nv"
   ]
  },
  {
   "cell_type": "code",
   "execution_count": null,
   "metadata": {
    "ExecuteTime": {
     "end_time": "2021-05-15T20:59:17.507324Z",
     "start_time": "2021-05-15T20:59:17.420900Z"
    }
   },
   "outputs": [],
   "source": [
    "# Creating geospatial view of Napa Valley Wineries\n",
    "\n",
    "with open(r'C:\\Users\\bmcca\\.secret\\mapbox_api.json') as f:\n",
    "    token = json.load(f)\n",
    "\n",
    "open(r'C:\\Users\\bmcca\\.secret\\mapbox_api.json').read()\n",
    "    \n",
    "token = token['token']\n",
    "\n",
    "px.set_mapbox_access_token(token)\n",
    "\n",
    "fig = px.scatter_mapbox(df_nv, lat= \"latitude\", lon= \"longitude\", \n",
    "                        color= \"price_converted\", range_color= (0, 3),\n",
    "                        labels= {\"price_converted\": \"Price ($) \",\n",
    "                                 \"latitude\":\"Latitude \",\n",
    "                                 \"longitude\":\"Longitude \",\n",
    "                                 'review_count':'Number of Reviews '},\n",
    "                        size= 'review_count', hover_name = df_nv[\"name\"],\n",
    "                        color_continuous_scale=px.colors.sequential.Greys,\n",
    "                        size_max=15, zoom=9.8, title='Napa Valley Wineries',\n",
    "                        mapbox_style='light', width=900, height=900)\n",
    "fig.show()"
   ]
  },
  {
   "cell_type": "code",
   "execution_count": null,
   "metadata": {
    "ExecuteTime": {
     "end_time": "2021-05-15T20:59:17.586281Z",
     "start_time": "2021-05-15T20:59:17.509324Z"
    }
   },
   "outputs": [],
   "source": [
    "# Creating geospatial view of Napa Valley Wineries\n",
    "\n",
    "with open(r'C:\\Users\\bmcca\\.secret\\mapbox_api.json') as f:\n",
    "    token = json.load(f)\n",
    "\n",
    "open(r'C:\\Users\\bmcca\\.secret\\mapbox_api.json').read()\n",
    "    \n",
    "token = token['token']\n",
    "\n",
    "px.set_mapbox_access_token(token)\n",
    "\n",
    "fig = px.scatter_mapbox(df_nv, lat= \"latitude\", lon= \"longitude\", \n",
    "                         range_color= (0, 3),\n",
    "                        labels= {\"price_converted\": \"Price ($) \",\n",
    "                                 \"latitude\":\"Latitude \",\n",
    "                                 \"longitude\":\"Longitude \",\n",
    "                                 'review_count':'Number of Reviews '},\n",
    "                        size= 'review_count', hover_name = df_nv[\"name\"],\n",
    "                        size_max=15, zoom=10.25, title='Napa Valley Wineries',\n",
    "                        mapbox_style='light', width=900, height=900)\n",
    "fig.show()"
   ]
  },
  {
   "cell_type": "code",
   "execution_count": null,
   "metadata": {
    "ExecuteTime": {
     "end_time": "2021-05-15T20:59:17.648105Z",
     "start_time": "2021-05-15T20:59:17.589278Z"
    }
   },
   "outputs": [],
   "source": [
    "df_sd = combined[combined['City'] == 'San Diego']\n",
    "df_sd"
   ]
  },
  {
   "cell_type": "code",
   "execution_count": null,
   "metadata": {
    "ExecuteTime": {
     "end_time": "2021-05-15T20:59:17.758106Z",
     "start_time": "2021-05-15T20:59:17.654106Z"
    },
    "code_folding": []
   },
   "outputs": [],
   "source": [
    "# Creating geospatial view of San Diego Wineries\n",
    "\n",
    "with open(r'C:\\Users\\bmcca\\.secret\\mapbox_api.json') as f:\n",
    "    token = json.load(f)\n",
    "\n",
    "open(r'C:\\Users\\bmcca\\.secret\\mapbox_api.json').read()\n",
    "    \n",
    "token = token['token']\n",
    "\n",
    "px.set_mapbox_access_token(token)\n",
    "\n",
    "fig = px.scatter_mapbox(df_sd, lat= \"latitude\", lon= \"longitude\",\n",
    "                        color= \"price_converted\", range_color= (0, 3),\n",
    "                        labels= {\"price_converted\": \"Price ($) \", \n",
    "                                \"latitude\":\"Latitude \",\"longitude\":\"Longitude \",\n",
    "                                'review_count':'Number of Reviews '},\n",
    "                        size= 'review_count', hover_name = df_sd[\"name\"],\n",
    "                        color_continuous_scale=px.colors.sequential.Greys,\n",
    "                        size_max=15, zoom=9.75, title='San Diego Wineries',\n",
    "                        mapbox_style='light', width=900, height=900)\n",
    "fig.show()"
   ]
  },
  {
   "cell_type": "code",
   "execution_count": null,
   "metadata": {
    "ExecuteTime": {
     "end_time": "2021-05-15T20:59:17.774108Z",
     "start_time": "2021-05-15T20:59:17.761105Z"
    }
   },
   "outputs": [],
   "source": [
    "# # Creating geospatial view of San Diego Wineries\n",
    "\n",
    "# with open(r'C:\\Users\\bmcca\\.secret\\mapbox_api.json') as f:\n",
    "#     token = json.load(f)\n",
    "\n",
    "# open(r'C:\\Users\\bmcca\\.secret\\mapbox_api.json').read()\n",
    "    \n",
    "# token = token['token']\n",
    "\n",
    "# px.set_mapbox_access_token(token)\n",
    "\n",
    "# fig = px.scatter_mapbox(df_sd, lat= \"latitude\", lon= \"longitude\",\n",
    "#                         color= \"review_count\", range_color= (0,150),\n",
    "#                         labels= {\"review_count\": \"Number of Reviews \", \n",
    "#                                 \"latitude\":\"Latitude \",\"longitude\":\"Longitude \",\n",
    "#                                 'review_count':'Number of Reviews '},\n",
    "#                         size= 'review_count', hover_name = df_sd[\"name\"],\n",
    "#                         color_continuous_scale=px.colors.sequential.Greys,\n",
    "#                         size_max=15, zoom=9.25, title='San Diego Wineries',\n",
    "#                         mapbox_style='light', width=800, height=800)\n",
    "# fig.show()"
   ]
  },
  {
   "cell_type": "code",
   "execution_count": null,
   "metadata": {
    "ExecuteTime": {
     "end_time": "2021-05-15T20:59:17.901110Z",
     "start_time": "2021-05-15T20:59:17.777106Z"
    }
   },
   "outputs": [],
   "source": [
    "# Creating geospatial view of San Diego Wineries\n",
    "\n",
    "with open(r'C:\\Users\\bmcca\\.secret\\mapbox_api.json') as f:\n",
    "    token = json.load(f)\n",
    "\n",
    "open(r'C:\\Users\\bmcca\\.secret\\mapbox_api.json').read()\n",
    "    \n",
    "token = token['token']\n",
    "\n",
    "px.set_mapbox_access_token(token)\n",
    "\n",
    "fig = px.scatter_mapbox(df_sd, lat= \"latitude\", lon= \"longitude\",\n",
    "                        range_color= (0,150),\n",
    "                        labels= {\"review_count\": \"Number of Reviews \", \n",
    "                                \"latitude\":\"Latitude \",\"longitude\":\"Longitude \",\n",
    "                                'review_count':'Number of Reviews '},\n",
    "                        size= 'review_count', hover_name = df_sd[\"name\"],\n",
    "                        size_max=15, zoom=9.25, title='San Diego Wineries',\n",
    "                        mapbox_style='light', width=800, height=800)\n",
    "fig.show();"
   ]
  },
  {
   "cell_type": "code",
   "execution_count": null,
   "metadata": {},
   "outputs": [],
   "source": []
  }
 ],
 "metadata": {
  "kernelspec": {
   "display_name": "Python (learn-env-bmc)",
   "language": "python",
   "name": "learn-env-bmc"
  },
  "language_info": {
   "codemirror_mode": {
    "name": "ipython",
    "version": 3
   },
   "file_extension": ".py",
   "mimetype": "text/x-python",
   "name": "python",
   "nbconvert_exporter": "python",
   "pygments_lexer": "ipython3",
   "version": "3.8.5"
  },
  "toc": {
   "base_numbering": 1,
   "nav_menu": {},
   "number_sections": true,
   "sideBar": true,
   "skip_h1_title": false,
   "title_cell": "Table of Contents",
   "title_sidebar": "Contents",
   "toc_cell": false,
   "toc_position": {
    "height": "calc(100% - 180px)",
    "left": "10px",
    "top": "150px",
    "width": "304.469px"
   },
   "toc_section_display": true,
   "toc_window_display": true
  },
  "varInspector": {
   "cols": {
    "lenName": "32",
    "lenType": 16,
    "lenVar": 40
   },
   "kernels_config": {
    "python": {
     "delete_cmd_postfix": "",
     "delete_cmd_prefix": "del ",
     "library": "var_list.py",
     "varRefreshCmd": "print(var_dic_list())"
    },
    "r": {
     "delete_cmd_postfix": ") ",
     "delete_cmd_prefix": "rm(",
     "library": "var_list.r",
     "varRefreshCmd": "cat(var_dic_list()) "
    }
   },
   "position": {
    "height": "144.4px",
    "left": "1144.4px",
    "right": "20px",
    "top": "122px",
    "width": "350px"
   },
   "types_to_exclude": [
    "module",
    "function",
    "builtin_function_or_method",
    "instance",
    "_Feature"
   ],
   "window_display": false
  },
  "widgets": {
   "application/vnd.jupyter.widget-state+json": {
    "state": {},
    "version_major": 2,
    "version_minor": 0
   }
  }
 },
 "nbformat": 4,
 "nbformat_minor": 4
}
