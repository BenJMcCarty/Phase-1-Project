{
 "cells": [
  {
   "cell_type": "markdown",
   "metadata": {},
   "source": [
    "Data Visualizations Workbook"
   ]
  },
  {
   "cell_type": "markdown",
   "metadata": {
    "ExecuteTime": {
     "end_time": "2021-05-13T18:56:02.029967Z",
     "start_time": "2021-05-13T18:56:02.026965Z"
    }
   },
   "source": [
    "# Imports"
   ]
  },
  {
   "cell_type": "code",
   "execution_count": 5,
   "metadata": {
    "ExecuteTime": {
     "end_time": "2021-05-13T21:13:03.056723Z",
     "start_time": "2021-05-13T21:13:01.511103Z"
    }
   },
   "outputs": [],
   "source": [
    "import plotly.express as px\n",
    "import pandas as pd\n",
    "import csv\n",
    "import seaborn as sns\n",
    "import matplotlib.pyplot as plt\n",
    "%matplotlib inline"
   ]
  },
  {
   "cell_type": "markdown",
   "metadata": {},
   "source": [
    "# Open CSVs"
   ]
  },
  {
   "cell_type": "markdown",
   "metadata": {
    "ExecuteTime": {
     "end_time": "2021-05-13T21:10:22.821335Z",
     "start_time": "2021-05-13T21:10:22.806336Z"
    },
    "heading_collapsed": true
   },
   "source": [
    "## San Diego Wineries"
   ]
  },
  {
   "cell_type": "code",
   "execution_count": 6,
   "metadata": {
    "ExecuteTime": {
     "end_time": "2021-05-13T21:13:03.134973Z",
     "start_time": "2021-05-13T21:13:03.089108Z"
    },
    "hidden": true
   },
   "outputs": [
    {
     "data": {
      "text/html": [
       "<div>\n",
       "<style scoped>\n",
       "    .dataframe tbody tr th:only-of-type {\n",
       "        vertical-align: middle;\n",
       "    }\n",
       "\n",
       "    .dataframe tbody tr th {\n",
       "        vertical-align: top;\n",
       "    }\n",
       "\n",
       "    .dataframe thead th {\n",
       "        text-align: right;\n",
       "    }\n",
       "</style>\n",
       "<table border=\"1\" class=\"dataframe\">\n",
       "  <thead>\n",
       "    <tr style=\"text-align: right;\">\n",
       "      <th></th>\n",
       "      <th>name</th>\n",
       "      <th>location</th>\n",
       "      <th>Business ID</th>\n",
       "      <th>alias</th>\n",
       "      <th>title</th>\n",
       "      <th>rating</th>\n",
       "      <th>review_count</th>\n",
       "      <th>price</th>\n",
       "      <th>latitude</th>\n",
       "      <th>longitude</th>\n",
       "      <th>price_converted</th>\n",
       "    </tr>\n",
       "  </thead>\n",
       "  <tbody>\n",
       "    <tr>\n",
       "      <th>0</th>\n",
       "      <td>Bernardo Winery</td>\n",
       "      <td>13330 Paseo Del Verano Norte San Diego, CA 92128</td>\n",
       "      <td>DknnpiG1p4OoM1maFshzXA</td>\n",
       "      <td>winetastingroom</td>\n",
       "      <td>Wine Tasting Room</td>\n",
       "      <td>4.5</td>\n",
       "      <td>626</td>\n",
       "      <td>$$</td>\n",
       "      <td>33.032800</td>\n",
       "      <td>-117.046460</td>\n",
       "      <td>2</td>\n",
       "    </tr>\n",
       "    <tr>\n",
       "      <th>1</th>\n",
       "      <td>Callaway Vineyard &amp; Winery</td>\n",
       "      <td>517 4th Ave Ste 101 San Diego, CA 92101</td>\n",
       "      <td>Cn2_bpTngghYW1ej4zreZg</td>\n",
       "      <td>winetastingroom</td>\n",
       "      <td>Wine Tasting Room</td>\n",
       "      <td>5.0</td>\n",
       "      <td>100</td>\n",
       "      <td>$$</td>\n",
       "      <td>32.710751</td>\n",
       "      <td>-117.160918</td>\n",
       "      <td>2</td>\n",
       "    </tr>\n",
       "    <tr>\n",
       "      <th>2</th>\n",
       "      <td>Négociant Winery</td>\n",
       "      <td>2419 El Cajon Blvd San Diego, CA 92104</td>\n",
       "      <td>Cc1sQWRWgGyMCjzX2mmMQQ</td>\n",
       "      <td>winetastingroom</td>\n",
       "      <td>Wine Tasting Room</td>\n",
       "      <td>4.5</td>\n",
       "      <td>103</td>\n",
       "      <td>$$</td>\n",
       "      <td>32.754880</td>\n",
       "      <td>-117.138280</td>\n",
       "      <td>2</td>\n",
       "    </tr>\n",
       "    <tr>\n",
       "      <th>3</th>\n",
       "      <td>San Pasqual Winery - Seaport Village</td>\n",
       "      <td>805 W Harbor Dr San Diego, CA 92101</td>\n",
       "      <td>gMW1RvyLu90RSQAY9UrIHw</td>\n",
       "      <td>winetastingroom</td>\n",
       "      <td>Wine Tasting Room</td>\n",
       "      <td>4.5</td>\n",
       "      <td>138</td>\n",
       "      <td>$$</td>\n",
       "      <td>32.708732</td>\n",
       "      <td>-117.168195</td>\n",
       "      <td>2</td>\n",
       "    </tr>\n",
       "    <tr>\n",
       "      <th>4</th>\n",
       "      <td>Domaine Artefact Vineyard &amp; Winery</td>\n",
       "      <td>15404 Highland Valley Rd Escondido, CA 92025</td>\n",
       "      <td>WqVbxY77Ag96X90LultCUw</td>\n",
       "      <td>wineries</td>\n",
       "      <td>Wineries</td>\n",
       "      <td>5.0</td>\n",
       "      <td>96</td>\n",
       "      <td>$$</td>\n",
       "      <td>33.068170</td>\n",
       "      <td>-117.001600</td>\n",
       "      <td>2</td>\n",
       "    </tr>\n",
       "    <tr>\n",
       "      <th>...</th>\n",
       "      <td>...</td>\n",
       "      <td>...</td>\n",
       "      <td>...</td>\n",
       "      <td>...</td>\n",
       "      <td>...</td>\n",
       "      <td>...</td>\n",
       "      <td>...</td>\n",
       "      <td>...</td>\n",
       "      <td>...</td>\n",
       "      <td>...</td>\n",
       "      <td>...</td>\n",
       "    </tr>\n",
       "    <tr>\n",
       "      <th>77</th>\n",
       "      <td>Roll OutThe Barrell Charity Event by Meritage</td>\n",
       "      <td>162 S Rancho Santa Fe Rd Encinitas, CA 92024</td>\n",
       "      <td>wyLm9fIoamN-VALcu3nUVg</td>\n",
       "      <td>wineries</td>\n",
       "      <td>Wineries</td>\n",
       "      <td>4.0</td>\n",
       "      <td>1</td>\n",
       "      <td>NaN</td>\n",
       "      <td>33.037121</td>\n",
       "      <td>-117.238654</td>\n",
       "      <td>0</td>\n",
       "    </tr>\n",
       "    <tr>\n",
       "      <th>78</th>\n",
       "      <td>Licores Kentucky</td>\n",
       "      <td>Calle Puerto y 3ra S/N Col. Centro 22000 Tijua...</td>\n",
       "      <td>B7gID-M2EsdpthrTcwTNYA</td>\n",
       "      <td>wineries</td>\n",
       "      <td>Wineries</td>\n",
       "      <td>5.0</td>\n",
       "      <td>1</td>\n",
       "      <td>NaN</td>\n",
       "      <td>32.534236</td>\n",
       "      <td>-117.034976</td>\n",
       "      <td>0</td>\n",
       "    </tr>\n",
       "    <tr>\n",
       "      <th>79</th>\n",
       "      <td>Barrica 9</td>\n",
       "      <td>Av. Revolución 1265 Col. Zona Centro 22000 Tij...</td>\n",
       "      <td>HxTqmzT4G43iAKXrB3pqQg</td>\n",
       "      <td>winetastingroom</td>\n",
       "      <td>Wine Tasting Room</td>\n",
       "      <td>4.5</td>\n",
       "      <td>7</td>\n",
       "      <td>$$</td>\n",
       "      <td>32.530430</td>\n",
       "      <td>-117.036500</td>\n",
       "      <td>2</td>\n",
       "    </tr>\n",
       "    <tr>\n",
       "      <th>80</th>\n",
       "      <td>RL Liquid Assets, Inc</td>\n",
       "      <td>5909 Sea Lion Pl Ste G Carlsbad, CA 92010</td>\n",
       "      <td>-STecUUsS69EMSE7PxwPwA</td>\n",
       "      <td>wineries</td>\n",
       "      <td>Wineries</td>\n",
       "      <td>3.0</td>\n",
       "      <td>2</td>\n",
       "      <td>NaN</td>\n",
       "      <td>33.134743</td>\n",
       "      <td>-117.248093</td>\n",
       "      <td>0</td>\n",
       "    </tr>\n",
       "    <tr>\n",
       "      <th>81</th>\n",
       "      <td>Cactus Star Vineyard at Scaredy Cat Ranch</td>\n",
       "      <td>17029 Handlebar Rd Ramona, CA 92065</td>\n",
       "      <td>ZeiVSF1SMdVVSkiGE7qaSg</td>\n",
       "      <td>winetastingroom</td>\n",
       "      <td>Wine Tasting Room</td>\n",
       "      <td>5.0</td>\n",
       "      <td>8</td>\n",
       "      <td>$</td>\n",
       "      <td>33.020150</td>\n",
       "      <td>-116.928140</td>\n",
       "      <td>1</td>\n",
       "    </tr>\n",
       "  </tbody>\n",
       "</table>\n",
       "<p>82 rows × 11 columns</p>\n",
       "</div>"
      ],
      "text/plain": [
       "                                             name  \\\n",
       "0                                 Bernardo Winery   \n",
       "1                      Callaway Vineyard & Winery   \n",
       "2                                Négociant Winery   \n",
       "3            San Pasqual Winery - Seaport Village   \n",
       "4              Domaine Artefact Vineyard & Winery   \n",
       "..                                            ...   \n",
       "77  Roll OutThe Barrell Charity Event by Meritage   \n",
       "78                               Licores Kentucky   \n",
       "79                                      Barrica 9   \n",
       "80                          RL Liquid Assets, Inc   \n",
       "81      Cactus Star Vineyard at Scaredy Cat Ranch   \n",
       "\n",
       "                                             location             Business ID  \\\n",
       "0    13330 Paseo Del Verano Norte San Diego, CA 92128  DknnpiG1p4OoM1maFshzXA   \n",
       "1             517 4th Ave Ste 101 San Diego, CA 92101  Cn2_bpTngghYW1ej4zreZg   \n",
       "2              2419 El Cajon Blvd San Diego, CA 92104  Cc1sQWRWgGyMCjzX2mmMQQ   \n",
       "3                 805 W Harbor Dr San Diego, CA 92101  gMW1RvyLu90RSQAY9UrIHw   \n",
       "4        15404 Highland Valley Rd Escondido, CA 92025  WqVbxY77Ag96X90LultCUw   \n",
       "..                                                ...                     ...   \n",
       "77       162 S Rancho Santa Fe Rd Encinitas, CA 92024  wyLm9fIoamN-VALcu3nUVg   \n",
       "78  Calle Puerto y 3ra S/N Col. Centro 22000 Tijua...  B7gID-M2EsdpthrTcwTNYA   \n",
       "79  Av. Revolución 1265 Col. Zona Centro 22000 Tij...  HxTqmzT4G43iAKXrB3pqQg   \n",
       "80          5909 Sea Lion Pl Ste G Carlsbad, CA 92010  -STecUUsS69EMSE7PxwPwA   \n",
       "81                17029 Handlebar Rd Ramona, CA 92065  ZeiVSF1SMdVVSkiGE7qaSg   \n",
       "\n",
       "              alias              title  rating  review_count price   latitude  \\\n",
       "0   winetastingroom  Wine Tasting Room     4.5           626    $$  33.032800   \n",
       "1   winetastingroom  Wine Tasting Room     5.0           100    $$  32.710751   \n",
       "2   winetastingroom  Wine Tasting Room     4.5           103    $$  32.754880   \n",
       "3   winetastingroom  Wine Tasting Room     4.5           138    $$  32.708732   \n",
       "4          wineries           Wineries     5.0            96    $$  33.068170   \n",
       "..              ...                ...     ...           ...   ...        ...   \n",
       "77         wineries           Wineries     4.0             1   NaN  33.037121   \n",
       "78         wineries           Wineries     5.0             1   NaN  32.534236   \n",
       "79  winetastingroom  Wine Tasting Room     4.5             7    $$  32.530430   \n",
       "80         wineries           Wineries     3.0             2   NaN  33.134743   \n",
       "81  winetastingroom  Wine Tasting Room     5.0             8     $  33.020150   \n",
       "\n",
       "     longitude  price_converted  \n",
       "0  -117.046460                2  \n",
       "1  -117.160918                2  \n",
       "2  -117.138280                2  \n",
       "3  -117.168195                2  \n",
       "4  -117.001600                2  \n",
       "..         ...              ...  \n",
       "77 -117.238654                0  \n",
       "78 -117.034976                0  \n",
       "79 -117.036500                2  \n",
       "80 -117.248093                0  \n",
       "81 -116.928140                1  \n",
       "\n",
       "[82 rows x 11 columns]"
      ]
     },
     "execution_count": 6,
     "metadata": {},
     "output_type": "execute_result"
    }
   ],
   "source": [
    "df_sd_details = pd.read_csv(\"data/wineries_price_converted.csv\")\n",
    "df_sd_details.reset_index(drop=True, inplace=True)\n",
    "\n",
    "df_sd_details"
   ]
  },
  {
   "cell_type": "code",
   "execution_count": 7,
   "metadata": {
    "ExecuteTime": {
     "end_time": "2021-05-13T21:13:03.196518Z",
     "start_time": "2021-05-13T21:13:03.183362Z"
    },
    "hidden": true
   },
   "outputs": [],
   "source": [
    "# df_sd_reviews = pd.read_csv(\"data/reviews_raw.csv\")\n",
    "# df_sd_reviews.reset_index(drop=True, inplace=True)\n",
    "\n",
    "# df_sd_reviews"
   ]
  },
  {
   "cell_type": "markdown",
   "metadata": {
    "heading_collapsed": true
   },
   "source": [
    "## Napa Valley Wineries"
   ]
  },
  {
   "cell_type": "code",
   "execution_count": 8,
   "metadata": {
    "ExecuteTime": {
     "end_time": "2021-05-13T21:13:03.601522Z",
     "start_time": "2021-05-13T21:13:03.558116Z"
    },
    "hidden": true
   },
   "outputs": [
    {
     "data": {
      "text/html": [
       "<div>\n",
       "<style scoped>\n",
       "    .dataframe tbody tr th:only-of-type {\n",
       "        vertical-align: middle;\n",
       "    }\n",
       "\n",
       "    .dataframe tbody tr th {\n",
       "        vertical-align: top;\n",
       "    }\n",
       "\n",
       "    .dataframe thead th {\n",
       "        text-align: right;\n",
       "    }\n",
       "</style>\n",
       "<table border=\"1\" class=\"dataframe\">\n",
       "  <thead>\n",
       "    <tr style=\"text-align: right;\">\n",
       "      <th></th>\n",
       "      <th>name</th>\n",
       "      <th>location</th>\n",
       "      <th>Business ID</th>\n",
       "      <th>alias</th>\n",
       "      <th>title</th>\n",
       "      <th>rating</th>\n",
       "      <th>review_count</th>\n",
       "      <th>price</th>\n",
       "      <th>latitude</th>\n",
       "      <th>longitude</th>\n",
       "      <th>price_converted</th>\n",
       "    </tr>\n",
       "  </thead>\n",
       "  <tbody>\n",
       "    <tr>\n",
       "      <th>0</th>\n",
       "      <td>Hendry Vineyard and Winery</td>\n",
       "      <td>3104 Redwood Rd Napa, CA 94558</td>\n",
       "      <td>mO8n3zTLoFhlmcfQr7X_TQ</td>\n",
       "      <td>wineries</td>\n",
       "      <td>Wineries</td>\n",
       "      <td>5.0</td>\n",
       "      <td>658</td>\n",
       "      <td>$$</td>\n",
       "      <td>38.321680</td>\n",
       "      <td>-122.344810</td>\n",
       "      <td>2</td>\n",
       "    </tr>\n",
       "    <tr>\n",
       "      <th>1</th>\n",
       "      <td>Domaine Carneros</td>\n",
       "      <td>1240 Duhig Rd Napa, CA 94559</td>\n",
       "      <td>8eGTOeEQpUpYb89ISug3ag</td>\n",
       "      <td>wineries</td>\n",
       "      <td>Wineries</td>\n",
       "      <td>4.0</td>\n",
       "      <td>2239</td>\n",
       "      <td>$$</td>\n",
       "      <td>38.255534</td>\n",
       "      <td>-122.351391</td>\n",
       "      <td>2</td>\n",
       "    </tr>\n",
       "    <tr>\n",
       "      <th>2</th>\n",
       "      <td>Paraduxx Winery</td>\n",
       "      <td>7257 Silverado Trl Napa, CA 94558</td>\n",
       "      <td>cBFZALrZbLV5XBsiPcgknQ</td>\n",
       "      <td>wineries</td>\n",
       "      <td>Wineries</td>\n",
       "      <td>4.5</td>\n",
       "      <td>373</td>\n",
       "      <td>$$</td>\n",
       "      <td>38.435480</td>\n",
       "      <td>-122.351430</td>\n",
       "      <td>2</td>\n",
       "    </tr>\n",
       "    <tr>\n",
       "      <th>3</th>\n",
       "      <td>Jarvis Winery</td>\n",
       "      <td>2970 Monticello Rd Napa, CA 94558</td>\n",
       "      <td>NPkAqW68Og5eBofEpPiRXQ</td>\n",
       "      <td>wineries</td>\n",
       "      <td>Wineries</td>\n",
       "      <td>4.5</td>\n",
       "      <td>209</td>\n",
       "      <td>$$$</td>\n",
       "      <td>38.357010</td>\n",
       "      <td>-122.213620</td>\n",
       "      <td>3</td>\n",
       "    </tr>\n",
       "    <tr>\n",
       "      <th>4</th>\n",
       "      <td>White Rock Vineyards</td>\n",
       "      <td>1112 Loma Vista Dr Napa, CA 94558</td>\n",
       "      <td>shbhrTpVLOdql8hNGC9NDw</td>\n",
       "      <td>wineries</td>\n",
       "      <td>Wineries</td>\n",
       "      <td>5.0</td>\n",
       "      <td>55</td>\n",
       "      <td>$$</td>\n",
       "      <td>38.377683</td>\n",
       "      <td>-122.286565</td>\n",
       "      <td>2</td>\n",
       "    </tr>\n",
       "    <tr>\n",
       "      <th>...</th>\n",
       "      <td>...</td>\n",
       "      <td>...</td>\n",
       "      <td>...</td>\n",
       "      <td>...</td>\n",
       "      <td>...</td>\n",
       "      <td>...</td>\n",
       "      <td>...</td>\n",
       "      <td>...</td>\n",
       "      <td>...</td>\n",
       "      <td>...</td>\n",
       "      <td>...</td>\n",
       "    </tr>\n",
       "    <tr>\n",
       "      <th>398</th>\n",
       "      <td>Andretti Winery</td>\n",
       "      <td>1625 Trancas St NAPA, CA 94558</td>\n",
       "      <td>NKCMqIlRopcSMA15JpeyJg</td>\n",
       "      <td>wineries</td>\n",
       "      <td>Wineries</td>\n",
       "      <td>3.5</td>\n",
       "      <td>311</td>\n",
       "      <td>$$</td>\n",
       "      <td>38.321516</td>\n",
       "      <td>-122.304108</td>\n",
       "      <td>2</td>\n",
       "    </tr>\n",
       "    <tr>\n",
       "      <th>399</th>\n",
       "      <td>Lionstone International</td>\n",
       "      <td>21481 8th St E Sonoma, CA 95476</td>\n",
       "      <td>pW9QPUkm2_tTXLCzyQ6qvg</td>\n",
       "      <td>wineries</td>\n",
       "      <td>Wineries</td>\n",
       "      <td>1.0</td>\n",
       "      <td>1</td>\n",
       "      <td>NaN</td>\n",
       "      <td>38.262062</td>\n",
       "      <td>-122.442036</td>\n",
       "      <td>0</td>\n",
       "    </tr>\n",
       "    <tr>\n",
       "      <th>400</th>\n",
       "      <td>Napa Vinyards</td>\n",
       "      <td>Napa, CA 94558</td>\n",
       "      <td>UwgQWRkTzlFnw3-QYCaBlQ</td>\n",
       "      <td>wineries</td>\n",
       "      <td>Wineries</td>\n",
       "      <td>1.0</td>\n",
       "      <td>1</td>\n",
       "      <td>NaN</td>\n",
       "      <td>38.383260</td>\n",
       "      <td>-122.313060</td>\n",
       "      <td>0</td>\n",
       "    </tr>\n",
       "    <tr>\n",
       "      <th>401</th>\n",
       "      <td>Cook Vinyard Management</td>\n",
       "      <td>19626 Eighth St E Sonoma, CA 95476</td>\n",
       "      <td>LxMkyxBokxu6iRIsuMF5Tw</td>\n",
       "      <td>wineries</td>\n",
       "      <td>Wineries</td>\n",
       "      <td>1.0</td>\n",
       "      <td>1</td>\n",
       "      <td>NaN</td>\n",
       "      <td>38.286261</td>\n",
       "      <td>-122.434893</td>\n",
       "      <td>0</td>\n",
       "    </tr>\n",
       "    <tr>\n",
       "      <th>402</th>\n",
       "      <td>Top It Off Bottling</td>\n",
       "      <td>21481 8th St E Ste 1 Sonoma, CA 95476</td>\n",
       "      <td>Jt-VYmagp5ETW1v_G_Ae0g</td>\n",
       "      <td>wineries</td>\n",
       "      <td>Wineries</td>\n",
       "      <td>1.0</td>\n",
       "      <td>2</td>\n",
       "      <td>NaN</td>\n",
       "      <td>38.262480</td>\n",
       "      <td>-122.442070</td>\n",
       "      <td>0</td>\n",
       "    </tr>\n",
       "  </tbody>\n",
       "</table>\n",
       "<p>403 rows × 11 columns</p>\n",
       "</div>"
      ],
      "text/plain": [
       "                           name                               location  \\\n",
       "0    Hendry Vineyard and Winery         3104 Redwood Rd Napa, CA 94558   \n",
       "1              Domaine Carneros           1240 Duhig Rd Napa, CA 94559   \n",
       "2               Paraduxx Winery      7257 Silverado Trl Napa, CA 94558   \n",
       "3                 Jarvis Winery      2970 Monticello Rd Napa, CA 94558   \n",
       "4          White Rock Vineyards      1112 Loma Vista Dr Napa, CA 94558   \n",
       "..                          ...                                    ...   \n",
       "398             Andretti Winery         1625 Trancas St NAPA, CA 94558   \n",
       "399     Lionstone International        21481 8th St E Sonoma, CA 95476   \n",
       "400               Napa Vinyards                         Napa, CA 94558   \n",
       "401     Cook Vinyard Management     19626 Eighth St E Sonoma, CA 95476   \n",
       "402         Top It Off Bottling  21481 8th St E Ste 1 Sonoma, CA 95476   \n",
       "\n",
       "                Business ID     alias     title  rating  review_count price  \\\n",
       "0    mO8n3zTLoFhlmcfQr7X_TQ  wineries  Wineries     5.0           658    $$   \n",
       "1    8eGTOeEQpUpYb89ISug3ag  wineries  Wineries     4.0          2239    $$   \n",
       "2    cBFZALrZbLV5XBsiPcgknQ  wineries  Wineries     4.5           373    $$   \n",
       "3    NPkAqW68Og5eBofEpPiRXQ  wineries  Wineries     4.5           209   $$$   \n",
       "4    shbhrTpVLOdql8hNGC9NDw  wineries  Wineries     5.0            55    $$   \n",
       "..                      ...       ...       ...     ...           ...   ...   \n",
       "398  NKCMqIlRopcSMA15JpeyJg  wineries  Wineries     3.5           311    $$   \n",
       "399  pW9QPUkm2_tTXLCzyQ6qvg  wineries  Wineries     1.0             1   NaN   \n",
       "400  UwgQWRkTzlFnw3-QYCaBlQ  wineries  Wineries     1.0             1   NaN   \n",
       "401  LxMkyxBokxu6iRIsuMF5Tw  wineries  Wineries     1.0             1   NaN   \n",
       "402  Jt-VYmagp5ETW1v_G_Ae0g  wineries  Wineries     1.0             2   NaN   \n",
       "\n",
       "      latitude   longitude  price_converted  \n",
       "0    38.321680 -122.344810                2  \n",
       "1    38.255534 -122.351391                2  \n",
       "2    38.435480 -122.351430                2  \n",
       "3    38.357010 -122.213620                3  \n",
       "4    38.377683 -122.286565                2  \n",
       "..         ...         ...              ...  \n",
       "398  38.321516 -122.304108                2  \n",
       "399  38.262062 -122.442036                0  \n",
       "400  38.383260 -122.313060                0  \n",
       "401  38.286261 -122.434893                0  \n",
       "402  38.262480 -122.442070                0  \n",
       "\n",
       "[403 rows x 11 columns]"
      ]
     },
     "execution_count": 8,
     "metadata": {},
     "output_type": "execute_result"
    }
   ],
   "source": [
    "df_nv_details = pd.read_csv(\"data/wineries_north_price_converted.csv\")\n",
    "df_nv_details.reset_index(drop=True, inplace=True)\n",
    "\n",
    "df_nv_details"
   ]
  },
  {
   "cell_type": "code",
   "execution_count": 9,
   "metadata": {
    "ExecuteTime": {
     "end_time": "2021-05-13T21:13:04.050436Z",
     "start_time": "2021-05-13T21:13:04.038436Z"
    },
    "hidden": true
   },
   "outputs": [],
   "source": [
    "# df_nv_reviews = pd.read_csv(\"data/reviews_north_raw.csv\")\n",
    "# df_nv_reviews.reset_index(drop=True, inplace=True)\n",
    "\n",
    "# df_nv_reviews"
   ]
  },
  {
   "cell_type": "markdown",
   "metadata": {},
   "source": [
    "# EDA: df_price_converted"
   ]
  },
  {
   "cell_type": "code",
   "execution_count": 11,
   "metadata": {
    "ExecuteTime": {
     "end_time": "2021-05-13T19:06:13.368453Z",
     "start_time": "2021-05-13T19:06:13.345833Z"
    }
   },
   "outputs": [
    {
     "data": {
      "text/html": [
       "<div>\n",
       "<style scoped>\n",
       "    .dataframe tbody tr th:only-of-type {\n",
       "        vertical-align: middle;\n",
       "    }\n",
       "\n",
       "    .dataframe tbody tr th {\n",
       "        vertical-align: top;\n",
       "    }\n",
       "\n",
       "    .dataframe thead th {\n",
       "        text-align: right;\n",
       "    }\n",
       "</style>\n",
       "<table border=\"1\" class=\"dataframe\">\n",
       "  <thead>\n",
       "    <tr style=\"text-align: right;\">\n",
       "      <th></th>\n",
       "      <th>name</th>\n",
       "      <th>location</th>\n",
       "      <th>Business ID</th>\n",
       "      <th>alias</th>\n",
       "      <th>title</th>\n",
       "      <th>rating</th>\n",
       "      <th>review_count</th>\n",
       "      <th>price</th>\n",
       "      <th>latitude</th>\n",
       "      <th>longitude</th>\n",
       "      <th>price_converted</th>\n",
       "    </tr>\n",
       "  </thead>\n",
       "  <tbody>\n",
       "    <tr>\n",
       "      <th>0</th>\n",
       "      <td>Bernardo Winery</td>\n",
       "      <td>13330 Paseo Del Verano Norte San Diego, CA 92128</td>\n",
       "      <td>DknnpiG1p4OoM1maFshzXA</td>\n",
       "      <td>winetastingroom</td>\n",
       "      <td>Wine Tasting Room</td>\n",
       "      <td>4.5</td>\n",
       "      <td>626</td>\n",
       "      <td>$$</td>\n",
       "      <td>33.032800</td>\n",
       "      <td>-117.046460</td>\n",
       "      <td>2</td>\n",
       "    </tr>\n",
       "    <tr>\n",
       "      <th>1</th>\n",
       "      <td>Callaway Vineyard &amp; Winery</td>\n",
       "      <td>517 4th Ave Ste 101 San Diego, CA 92101</td>\n",
       "      <td>Cn2_bpTngghYW1ej4zreZg</td>\n",
       "      <td>winetastingroom</td>\n",
       "      <td>Wine Tasting Room</td>\n",
       "      <td>5.0</td>\n",
       "      <td>100</td>\n",
       "      <td>$$</td>\n",
       "      <td>32.710751</td>\n",
       "      <td>-117.160918</td>\n",
       "      <td>2</td>\n",
       "    </tr>\n",
       "    <tr>\n",
       "      <th>2</th>\n",
       "      <td>Négociant Winery</td>\n",
       "      <td>2419 El Cajon Blvd San Diego, CA 92104</td>\n",
       "      <td>Cc1sQWRWgGyMCjzX2mmMQQ</td>\n",
       "      <td>winetastingroom</td>\n",
       "      <td>Wine Tasting Room</td>\n",
       "      <td>4.5</td>\n",
       "      <td>103</td>\n",
       "      <td>$$</td>\n",
       "      <td>32.754880</td>\n",
       "      <td>-117.138280</td>\n",
       "      <td>2</td>\n",
       "    </tr>\n",
       "    <tr>\n",
       "      <th>3</th>\n",
       "      <td>San Pasqual Winery - Seaport Village</td>\n",
       "      <td>805 W Harbor Dr San Diego, CA 92101</td>\n",
       "      <td>gMW1RvyLu90RSQAY9UrIHw</td>\n",
       "      <td>winetastingroom</td>\n",
       "      <td>Wine Tasting Room</td>\n",
       "      <td>4.5</td>\n",
       "      <td>138</td>\n",
       "      <td>$$</td>\n",
       "      <td>32.708732</td>\n",
       "      <td>-117.168195</td>\n",
       "      <td>2</td>\n",
       "    </tr>\n",
       "    <tr>\n",
       "      <th>4</th>\n",
       "      <td>Domaine Artefact Vineyard &amp; Winery</td>\n",
       "      <td>15404 Highland Valley Rd Escondido, CA 92025</td>\n",
       "      <td>WqVbxY77Ag96X90LultCUw</td>\n",
       "      <td>wineries</td>\n",
       "      <td>Wineries</td>\n",
       "      <td>5.0</td>\n",
       "      <td>96</td>\n",
       "      <td>$$</td>\n",
       "      <td>33.068170</td>\n",
       "      <td>-117.001600</td>\n",
       "      <td>2</td>\n",
       "    </tr>\n",
       "  </tbody>\n",
       "</table>\n",
       "</div>"
      ],
      "text/plain": [
       "                                   name  \\\n",
       "0                       Bernardo Winery   \n",
       "1            Callaway Vineyard & Winery   \n",
       "2                      Négociant Winery   \n",
       "3  San Pasqual Winery - Seaport Village   \n",
       "4    Domaine Artefact Vineyard & Winery   \n",
       "\n",
       "                                           location             Business ID  \\\n",
       "0  13330 Paseo Del Verano Norte San Diego, CA 92128  DknnpiG1p4OoM1maFshzXA   \n",
       "1           517 4th Ave Ste 101 San Diego, CA 92101  Cn2_bpTngghYW1ej4zreZg   \n",
       "2            2419 El Cajon Blvd San Diego, CA 92104  Cc1sQWRWgGyMCjzX2mmMQQ   \n",
       "3               805 W Harbor Dr San Diego, CA 92101  gMW1RvyLu90RSQAY9UrIHw   \n",
       "4      15404 Highland Valley Rd Escondido, CA 92025  WqVbxY77Ag96X90LultCUw   \n",
       "\n",
       "             alias              title  rating  review_count price   latitude  \\\n",
       "0  winetastingroom  Wine Tasting Room     4.5           626    $$  33.032800   \n",
       "1  winetastingroom  Wine Tasting Room     5.0           100    $$  32.710751   \n",
       "2  winetastingroom  Wine Tasting Room     4.5           103    $$  32.754880   \n",
       "3  winetastingroom  Wine Tasting Room     4.5           138    $$  32.708732   \n",
       "4         wineries           Wineries     5.0            96    $$  33.068170   \n",
       "\n",
       "    longitude  price_converted  \n",
       "0 -117.046460                2  \n",
       "1 -117.160918                2  \n",
       "2 -117.138280                2  \n",
       "3 -117.168195                2  \n",
       "4 -117.001600                2  "
      ]
     },
     "execution_count": 11,
     "metadata": {},
     "output_type": "execute_result"
    }
   ],
   "source": [
    "df_price_converted.head()"
   ]
  },
  {
   "cell_type": "markdown",
   "metadata": {},
   "source": [
    "## Bad Plots"
   ]
  },
  {
   "cell_type": "code",
   "execution_count": 22,
   "metadata": {
    "ExecuteTime": {
     "end_time": "2021-05-13T19:11:07.608360Z",
     "start_time": "2021-05-13T19:11:05.853014Z"
    },
    "scrolled": true
   },
   "outputs": [
    {
     "data": {
      "image/png": "[encoded data removed]",
      "text/plain": [
       "<Figure size 432x288 with 1 Axes>"
      ]
     },
     "metadata": {
      "needs_background": "light"
     },
     "output_type": "display_data"
    }
   ],
   "source": [
    "df_price_converted['rating'].plot(x = 'name', y = 'rating', kind=\"bar\", rot = 45);"
   ]
  },
  {
   "cell_type": "code",
   "execution_count": 46,
   "metadata": {
    "ExecuteTime": {
     "end_time": "2021-05-13T19:23:30.669336Z",
     "start_time": "2021-05-13T19:23:30.653593Z"
    }
   },
   "outputs": [
    {
     "data": {
      "text/html": [
       "<div>\n",
       "<style scoped>\n",
       "    .dataframe tbody tr th:only-of-type {\n",
       "        vertical-align: middle;\n",
       "    }\n",
       "\n",
       "    .dataframe tbody tr th {\n",
       "        vertical-align: top;\n",
       "    }\n",
       "\n",
       "    .dataframe thead th {\n",
       "        text-align: right;\n",
       "    }\n",
       "</style>\n",
       "<table border=\"1\" class=\"dataframe\">\n",
       "  <thead>\n",
       "    <tr style=\"text-align: right;\">\n",
       "      <th></th>\n",
       "      <th>rating</th>\n",
       "      <th>review_count</th>\n",
       "      <th>latitude</th>\n",
       "      <th>longitude</th>\n",
       "      <th>price_converted</th>\n",
       "    </tr>\n",
       "  </thead>\n",
       "  <tbody>\n",
       "    <tr>\n",
       "      <th>rating</th>\n",
       "      <td>1.000000</td>\n",
       "      <td>-0.092302</td>\n",
       "      <td>0.042171</td>\n",
       "      <td>0.220041</td>\n",
       "      <td>0.001892</td>\n",
       "    </tr>\n",
       "    <tr>\n",
       "      <th>review_count</th>\n",
       "      <td>-0.092302</td>\n",
       "      <td>1.000000</td>\n",
       "      <td>0.077012</td>\n",
       "      <td>-0.096238</td>\n",
       "      <td>0.348155</td>\n",
       "    </tr>\n",
       "    <tr>\n",
       "      <th>latitude</th>\n",
       "      <td>0.042171</td>\n",
       "      <td>0.077012</td>\n",
       "      <td>1.000000</td>\n",
       "      <td>0.254646</td>\n",
       "      <td>-0.115251</td>\n",
       "    </tr>\n",
       "    <tr>\n",
       "      <th>longitude</th>\n",
       "      <td>0.220041</td>\n",
       "      <td>-0.096238</td>\n",
       "      <td>0.254646</td>\n",
       "      <td>1.000000</td>\n",
       "      <td>0.150593</td>\n",
       "    </tr>\n",
       "    <tr>\n",
       "      <th>price_converted</th>\n",
       "      <td>0.001892</td>\n",
       "      <td>0.348155</td>\n",
       "      <td>-0.115251</td>\n",
       "      <td>0.150593</td>\n",
       "      <td>1.000000</td>\n",
       "    </tr>\n",
       "  </tbody>\n",
       "</table>\n",
       "</div>"
      ],
      "text/plain": [
       "                   rating  review_count  latitude  longitude  price_converted\n",
       "rating           1.000000     -0.092302  0.042171   0.220041         0.001892\n",
       "review_count    -0.092302      1.000000  0.077012  -0.096238         0.348155\n",
       "latitude         0.042171      0.077012  1.000000   0.254646        -0.115251\n",
       "longitude        0.220041     -0.096238  0.254646   1.000000         0.150593\n",
       "price_converted  0.001892      0.348155 -0.115251   0.150593         1.000000"
      ]
     },
     "execution_count": 46,
     "metadata": {},
     "output_type": "execute_result"
    }
   ],
   "source": [
    "pc_corr = df_price_converted.corr()\n",
    "pc_corr"
   ]
  },
  {
   "cell_type": "code",
   "execution_count": 50,
   "metadata": {
    "ExecuteTime": {
     "end_time": "2021-05-13T19:24:30.416944Z",
     "start_time": "2021-05-13T19:24:30.237449Z"
    }
   },
   "outputs": [
    {
     "data": {
      "image/png": "[encoded data removed]",
      "text/plain": [
       "<Figure size 432x288 with 1 Axes>"
      ]
     },
     "metadata": {
      "needs_background": "light"
     },
     "output_type": "display_data"
    }
   ],
   "source": [
    "pc_corr.plot('price_converted','rating', kind='bar');"
   ]
  },
  {
   "cell_type": "code",
   "execution_count": 10,
   "metadata": {
    "ExecuteTime": {
     "end_time": "2021-05-13T19:03:14.805450Z",
     "start_time": "2021-05-13T19:03:02.527653Z"
    }
   },
   "outputs": [
    {
     "data": {
      "image/png": "[encoded data removed]",
      "text/plain": [
       "<Figure size 432x288 with 20 Axes>"
      ]
     },
     "metadata": {
      "needs_background": "light"
     },
     "output_type": "display_data"
    }
   ],
   "source": [
    "df_price_converted.plot(kind=\"bar\", subplots=True, layout=(4,5))\n",
    "\n",
    "plt.tight_layout();"
   ]
  },
  {
   "cell_type": "code",
   "execution_count": 44,
   "metadata": {
    "ExecuteTime": {
     "end_time": "2021-05-13T19:21:03.281055Z",
     "start_time": "2021-05-13T19:21:02.925552Z"
    }
   },
   "outputs": [
    {
     "data": {
      "text/plain": [
       "<AxesSubplot:ylabel='Frequency'>"
      ]
     },
     "execution_count": 44,
     "metadata": {},
     "output_type": "execute_result"
    },
    {
     "data": {
      "image/png": "[encoded data removed]",
      "text/plain": [
       "<Figure size 432x288 with 1 Axes>"
      ]
     },
     "metadata": {
      "needs_background": "light"
     },
     "output_type": "display_data"
    }
   ],
   "source": [
    "df_price_converted.plot(kind='hist')"
   ]
  },
  {
   "cell_type": "markdown",
   "metadata": {},
   "source": [
    "# EDA: df_reviews_raw"
   ]
  },
  {
   "cell_type": "code",
   "execution_count": null,
   "metadata": {},
   "outputs": [],
   "source": []
  },
  {
   "cell_type": "code",
   "execution_count": null,
   "metadata": {},
   "outputs": [],
   "source": []
  }
 ],
 "metadata": {
  "kernelspec": {
   "display_name": "Python (learn-env-bmc)",
   "language": "python",
   "name": "learn-env-bmc"
  },
  "language_info": {
   "codemirror_mode": {
    "name": "ipython",
    "version": 3
   },
   "file_extension": ".py",
   "mimetype": "text/x-python",
   "name": "python",
   "nbconvert_exporter": "python",
   "pygments_lexer": "ipython3",
   "version": "3.8.5"
  },
  "toc": {
   "base_numbering": 1,
   "nav_menu": {},
   "number_sections": true,
   "sideBar": true,
   "skip_h1_title": false,
   "title_cell": "Table of Contents",
   "title_sidebar": "Contents",
   "toc_cell": false,
   "toc_position": {},
   "toc_section_display": true,
   "toc_window_display": true
  },
  "varInspector": {
   "cols": {
    "lenName": "32",
    "lenType": 16,
    "lenVar": 40
   },
   "kernels_config": {
    "python": {
     "delete_cmd_postfix": "",
     "delete_cmd_prefix": "del ",
     "library": "var_list.py",
     "varRefreshCmd": "print(var_dic_list())"
    },
    "r": {
     "delete_cmd_postfix": ") ",
     "delete_cmd_prefix": "rm(",
     "library": "var_list.r",
     "varRefreshCmd": "cat(var_dic_list()) "
    }
   },
   "types_to_exclude": [
    "module",
    "function",
    "builtin_function_or_method",
    "instance",
    "_Feature"
   ],
   "window_display": false
  }
 },
 "nbformat": 4,
 "nbformat_minor": 4
}
