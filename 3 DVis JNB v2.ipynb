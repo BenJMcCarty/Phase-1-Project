{
 "cells": [
  {
   "cell_type": "markdown",
   "metadata": {},
   "source": [
    "Data Visualizations Workbook"
   ]
  },
  {
   "cell_type": "markdown",
   "metadata": {
    "ExecuteTime": {
     "end_time": "2021-05-13T18:56:02.029967Z",
     "start_time": "2021-05-13T18:56:02.026965Z"
    },
    "heading_collapsed": true
   },
   "source": [
    "# Imports"
   ]
  },
  {
   "cell_type": "code",
   "execution_count": 5,
   "metadata": {
    "ExecuteTime": {
     "end_time": "2021-05-13T21:13:03.056723Z",
     "start_time": "2021-05-13T21:13:01.511103Z"
    },
    "hidden": true
   },
   "outputs": [],
   "source": [
    "import plotly.express as px\n",
    "import pandas as pd\n",
    "import csv\n",
    "import seaborn as sns\n",
    "import matplotlib.pyplot as plt\n",
    "%matplotlib inline"
   ]
  },
  {
   "cell_type": "markdown",
   "metadata": {},
   "source": [
    "# Open CSVs"
   ]
  },
  {
   "cell_type": "markdown",
   "metadata": {
    "ExecuteTime": {
     "end_time": "2021-05-13T21:10:22.821335Z",
     "start_time": "2021-05-13T21:10:22.806336Z"
    }
   },
   "source": [
    "## San Diego Wineries"
   ]
  },
  {
   "cell_type": "code",
   "execution_count": 94,
   "metadata": {
    "ExecuteTime": {
     "end_time": "2021-05-13T22:52:39.942414Z",
     "start_time": "2021-05-13T22:52:39.900418Z"
    }
   },
   "outputs": [
    {
     "data": {
      "text/html": [
       "<div>\n",
       "<style scoped>\n",
       "    .dataframe tbody tr th:only-of-type {\n",
       "        vertical-align: middle;\n",
       "    }\n",
       "\n",
       "    .dataframe tbody tr th {\n",
       "        vertical-align: top;\n",
       "    }\n",
       "\n",
       "    .dataframe thead th {\n",
       "        text-align: right;\n",
       "    }\n",
       "</style>\n",
       "<table border=\"1\" class=\"dataframe\">\n",
       "  <thead>\n",
       "    <tr style=\"text-align: right;\">\n",
       "      <th></th>\n",
       "      <th>name</th>\n",
       "      <th>location</th>\n",
       "      <th>Business ID</th>\n",
       "      <th>alias</th>\n",
       "      <th>title</th>\n",
       "      <th>rating</th>\n",
       "      <th>review_count</th>\n",
       "      <th>price</th>\n",
       "      <th>latitude</th>\n",
       "      <th>longitude</th>\n",
       "      <th>price_converted</th>\n",
       "      <th>City</th>\n",
       "    </tr>\n",
       "  </thead>\n",
       "  <tbody>\n",
       "    <tr>\n",
       "      <th>0</th>\n",
       "      <td>Bernardo Winery</td>\n",
       "      <td>13330 Paseo Del Verano Norte San Diego, CA 92128</td>\n",
       "      <td>DknnpiG1p4OoM1maFshzXA</td>\n",
       "      <td>winetastingroom</td>\n",
       "      <td>Wine Tasting Room</td>\n",
       "      <td>4.5</td>\n",
       "      <td>626</td>\n",
       "      <td>$$</td>\n",
       "      <td>33.032800</td>\n",
       "      <td>-117.046460</td>\n",
       "      <td>2</td>\n",
       "      <td>San Diego</td>\n",
       "    </tr>\n",
       "    <tr>\n",
       "      <th>1</th>\n",
       "      <td>Callaway Vineyard &amp; Winery</td>\n",
       "      <td>517 4th Ave Ste 101 San Diego, CA 92101</td>\n",
       "      <td>Cn2_bpTngghYW1ej4zreZg</td>\n",
       "      <td>winetastingroom</td>\n",
       "      <td>Wine Tasting Room</td>\n",
       "      <td>5.0</td>\n",
       "      <td>100</td>\n",
       "      <td>$$</td>\n",
       "      <td>32.710751</td>\n",
       "      <td>-117.160918</td>\n",
       "      <td>2</td>\n",
       "      <td>San Diego</td>\n",
       "    </tr>\n",
       "    <tr>\n",
       "      <th>2</th>\n",
       "      <td>Négociant Winery</td>\n",
       "      <td>2419 El Cajon Blvd San Diego, CA 92104</td>\n",
       "      <td>Cc1sQWRWgGyMCjzX2mmMQQ</td>\n",
       "      <td>winetastingroom</td>\n",
       "      <td>Wine Tasting Room</td>\n",
       "      <td>4.5</td>\n",
       "      <td>103</td>\n",
       "      <td>$$</td>\n",
       "      <td>32.754880</td>\n",
       "      <td>-117.138280</td>\n",
       "      <td>2</td>\n",
       "      <td>San Diego</td>\n",
       "    </tr>\n",
       "    <tr>\n",
       "      <th>3</th>\n",
       "      <td>San Pasqual Winery - Seaport Village</td>\n",
       "      <td>805 W Harbor Dr San Diego, CA 92101</td>\n",
       "      <td>gMW1RvyLu90RSQAY9UrIHw</td>\n",
       "      <td>winetastingroom</td>\n",
       "      <td>Wine Tasting Room</td>\n",
       "      <td>4.5</td>\n",
       "      <td>138</td>\n",
       "      <td>$$</td>\n",
       "      <td>32.708732</td>\n",
       "      <td>-117.168195</td>\n",
       "      <td>2</td>\n",
       "      <td>San Diego</td>\n",
       "    </tr>\n",
       "    <tr>\n",
       "      <th>4</th>\n",
       "      <td>Domaine Artefact Vineyard &amp; Winery</td>\n",
       "      <td>15404 Highland Valley Rd Escondido, CA 92025</td>\n",
       "      <td>WqVbxY77Ag96X90LultCUw</td>\n",
       "      <td>wineries</td>\n",
       "      <td>Wineries</td>\n",
       "      <td>5.0</td>\n",
       "      <td>96</td>\n",
       "      <td>$$</td>\n",
       "      <td>33.068170</td>\n",
       "      <td>-117.001600</td>\n",
       "      <td>2</td>\n",
       "      <td>San Diego</td>\n",
       "    </tr>\n",
       "    <tr>\n",
       "      <th>...</th>\n",
       "      <td>...</td>\n",
       "      <td>...</td>\n",
       "      <td>...</td>\n",
       "      <td>...</td>\n",
       "      <td>...</td>\n",
       "      <td>...</td>\n",
       "      <td>...</td>\n",
       "      <td>...</td>\n",
       "      <td>...</td>\n",
       "      <td>...</td>\n",
       "      <td>...</td>\n",
       "      <td>...</td>\n",
       "    </tr>\n",
       "    <tr>\n",
       "      <th>77</th>\n",
       "      <td>Roll OutThe Barrell Charity Event by Meritage</td>\n",
       "      <td>162 S Rancho Santa Fe Rd Encinitas, CA 92024</td>\n",
       "      <td>wyLm9fIoamN-VALcu3nUVg</td>\n",
       "      <td>wineries</td>\n",
       "      <td>Wineries</td>\n",
       "      <td>4.0</td>\n",
       "      <td>1</td>\n",
       "      <td>NaN</td>\n",
       "      <td>33.037121</td>\n",
       "      <td>-117.238654</td>\n",
       "      <td>0</td>\n",
       "      <td>San Diego</td>\n",
       "    </tr>\n",
       "    <tr>\n",
       "      <th>78</th>\n",
       "      <td>Licores Kentucky</td>\n",
       "      <td>Calle Puerto y 3ra S/N Col. Centro 22000 Tijua...</td>\n",
       "      <td>B7gID-M2EsdpthrTcwTNYA</td>\n",
       "      <td>wineries</td>\n",
       "      <td>Wineries</td>\n",
       "      <td>5.0</td>\n",
       "      <td>1</td>\n",
       "      <td>NaN</td>\n",
       "      <td>32.534236</td>\n",
       "      <td>-117.034976</td>\n",
       "      <td>0</td>\n",
       "      <td>San Diego</td>\n",
       "    </tr>\n",
       "    <tr>\n",
       "      <th>79</th>\n",
       "      <td>Barrica 9</td>\n",
       "      <td>Av. Revolución 1265 Col. Zona Centro 22000 Tij...</td>\n",
       "      <td>HxTqmzT4G43iAKXrB3pqQg</td>\n",
       "      <td>winetastingroom</td>\n",
       "      <td>Wine Tasting Room</td>\n",
       "      <td>4.5</td>\n",
       "      <td>7</td>\n",
       "      <td>$$</td>\n",
       "      <td>32.530430</td>\n",
       "      <td>-117.036500</td>\n",
       "      <td>2</td>\n",
       "      <td>San Diego</td>\n",
       "    </tr>\n",
       "    <tr>\n",
       "      <th>80</th>\n",
       "      <td>RL Liquid Assets, Inc</td>\n",
       "      <td>5909 Sea Lion Pl Ste G Carlsbad, CA 92010</td>\n",
       "      <td>-STecUUsS69EMSE7PxwPwA</td>\n",
       "      <td>wineries</td>\n",
       "      <td>Wineries</td>\n",
       "      <td>3.0</td>\n",
       "      <td>2</td>\n",
       "      <td>NaN</td>\n",
       "      <td>33.134743</td>\n",
       "      <td>-117.248093</td>\n",
       "      <td>0</td>\n",
       "      <td>San Diego</td>\n",
       "    </tr>\n",
       "    <tr>\n",
       "      <th>81</th>\n",
       "      <td>Cactus Star Vineyard at Scaredy Cat Ranch</td>\n",
       "      <td>17029 Handlebar Rd Ramona, CA 92065</td>\n",
       "      <td>ZeiVSF1SMdVVSkiGE7qaSg</td>\n",
       "      <td>winetastingroom</td>\n",
       "      <td>Wine Tasting Room</td>\n",
       "      <td>5.0</td>\n",
       "      <td>8</td>\n",
       "      <td>$</td>\n",
       "      <td>33.020150</td>\n",
       "      <td>-116.928140</td>\n",
       "      <td>1</td>\n",
       "      <td>San Diego</td>\n",
       "    </tr>\n",
       "  </tbody>\n",
       "</table>\n",
       "<p>82 rows × 12 columns</p>\n",
       "</div>"
      ],
      "text/plain": [
       "                                             name  \\\n",
       "0                                 Bernardo Winery   \n",
       "1                      Callaway Vineyard & Winery   \n",
       "2                                Négociant Winery   \n",
       "3            San Pasqual Winery - Seaport Village   \n",
       "4              Domaine Artefact Vineyard & Winery   \n",
       "..                                            ...   \n",
       "77  Roll OutThe Barrell Charity Event by Meritage   \n",
       "78                               Licores Kentucky   \n",
       "79                                      Barrica 9   \n",
       "80                          RL Liquid Assets, Inc   \n",
       "81      Cactus Star Vineyard at Scaredy Cat Ranch   \n",
       "\n",
       "                                             location             Business ID  \\\n",
       "0    13330 Paseo Del Verano Norte San Diego, CA 92128  DknnpiG1p4OoM1maFshzXA   \n",
       "1             517 4th Ave Ste 101 San Diego, CA 92101  Cn2_bpTngghYW1ej4zreZg   \n",
       "2              2419 El Cajon Blvd San Diego, CA 92104  Cc1sQWRWgGyMCjzX2mmMQQ   \n",
       "3                 805 W Harbor Dr San Diego, CA 92101  gMW1RvyLu90RSQAY9UrIHw   \n",
       "4        15404 Highland Valley Rd Escondido, CA 92025  WqVbxY77Ag96X90LultCUw   \n",
       "..                                                ...                     ...   \n",
       "77       162 S Rancho Santa Fe Rd Encinitas, CA 92024  wyLm9fIoamN-VALcu3nUVg   \n",
       "78  Calle Puerto y 3ra S/N Col. Centro 22000 Tijua...  B7gID-M2EsdpthrTcwTNYA   \n",
       "79  Av. Revolución 1265 Col. Zona Centro 22000 Tij...  HxTqmzT4G43iAKXrB3pqQg   \n",
       "80          5909 Sea Lion Pl Ste G Carlsbad, CA 92010  -STecUUsS69EMSE7PxwPwA   \n",
       "81                17029 Handlebar Rd Ramona, CA 92065  ZeiVSF1SMdVVSkiGE7qaSg   \n",
       "\n",
       "              alias              title  rating  review_count price   latitude  \\\n",
       "0   winetastingroom  Wine Tasting Room     4.5           626    $$  33.032800   \n",
       "1   winetastingroom  Wine Tasting Room     5.0           100    $$  32.710751   \n",
       "2   winetastingroom  Wine Tasting Room     4.5           103    $$  32.754880   \n",
       "3   winetastingroom  Wine Tasting Room     4.5           138    $$  32.708732   \n",
       "4          wineries           Wineries     5.0            96    $$  33.068170   \n",
       "..              ...                ...     ...           ...   ...        ...   \n",
       "77         wineries           Wineries     4.0             1   NaN  33.037121   \n",
       "78         wineries           Wineries     5.0             1   NaN  32.534236   \n",
       "79  winetastingroom  Wine Tasting Room     4.5             7    $$  32.530430   \n",
       "80         wineries           Wineries     3.0             2   NaN  33.134743   \n",
       "81  winetastingroom  Wine Tasting Room     5.0             8     $  33.020150   \n",
       "\n",
       "     longitude  price_converted       City  \n",
       "0  -117.046460                2  San Diego  \n",
       "1  -117.160918                2  San Diego  \n",
       "2  -117.138280                2  San Diego  \n",
       "3  -117.168195                2  San Diego  \n",
       "4  -117.001600                2  San Diego  \n",
       "..         ...              ...        ...  \n",
       "77 -117.238654                0  San Diego  \n",
       "78 -117.034976                0  San Diego  \n",
       "79 -117.036500                2  San Diego  \n",
       "80 -117.248093                0  San Diego  \n",
       "81 -116.928140                1  San Diego  \n",
       "\n",
       "[82 rows x 12 columns]"
      ]
     },
     "execution_count": 94,
     "metadata": {},
     "output_type": "execute_result"
    }
   ],
   "source": [
    "df_sd_details = pd.read_csv(\"data/wineries_price_converted.csv\")\n",
    "df_sd_details.reset_index(drop=True, inplace=True)\n",
    "df_sd_details['City'] = 'San Diego'\n",
    "\n",
    "df_sd_details\n"
   ]
  },
  {
   "cell_type": "code",
   "execution_count": 7,
   "metadata": {
    "ExecuteTime": {
     "end_time": "2021-05-13T21:13:03.196518Z",
     "start_time": "2021-05-13T21:13:03.183362Z"
    }
   },
   "outputs": [],
   "source": [
    "# df_sd_reviews = pd.read_csv(\"data/reviews_raw.csv\")\n",
    "# df_sd_reviews.reset_index(drop=True, inplace=True)\n",
    "\n",
    "# df_sd_reviews"
   ]
  },
  {
   "cell_type": "markdown",
   "metadata": {},
   "source": [
    "## Napa Valley Wineries"
   ]
  },
  {
   "cell_type": "code",
   "execution_count": 95,
   "metadata": {
    "ExecuteTime": {
     "end_time": "2021-05-13T22:52:58.631321Z",
     "start_time": "2021-05-13T22:52:58.591321Z"
    }
   },
   "outputs": [
    {
     "data": {
      "text/html": [
       "<div>\n",
       "<style scoped>\n",
       "    .dataframe tbody tr th:only-of-type {\n",
       "        vertical-align: middle;\n",
       "    }\n",
       "\n",
       "    .dataframe tbody tr th {\n",
       "        vertical-align: top;\n",
       "    }\n",
       "\n",
       "    .dataframe thead th {\n",
       "        text-align: right;\n",
       "    }\n",
       "</style>\n",
       "<table border=\"1\" class=\"dataframe\">\n",
       "  <thead>\n",
       "    <tr style=\"text-align: right;\">\n",
       "      <th></th>\n",
       "      <th>name</th>\n",
       "      <th>location</th>\n",
       "      <th>Business ID</th>\n",
       "      <th>alias</th>\n",
       "      <th>title</th>\n",
       "      <th>rating</th>\n",
       "      <th>review_count</th>\n",
       "      <th>price</th>\n",
       "      <th>latitude</th>\n",
       "      <th>longitude</th>\n",
       "      <th>price_converted</th>\n",
       "      <th>City</th>\n",
       "    </tr>\n",
       "  </thead>\n",
       "  <tbody>\n",
       "    <tr>\n",
       "      <th>0</th>\n",
       "      <td>Hendry Vineyard and Winery</td>\n",
       "      <td>3104 Redwood Rd Napa, CA 94558</td>\n",
       "      <td>mO8n3zTLoFhlmcfQr7X_TQ</td>\n",
       "      <td>wineries</td>\n",
       "      <td>Wineries</td>\n",
       "      <td>5.0</td>\n",
       "      <td>658</td>\n",
       "      <td>$$</td>\n",
       "      <td>38.321680</td>\n",
       "      <td>-122.344810</td>\n",
       "      <td>2</td>\n",
       "      <td>Napa Valley</td>\n",
       "    </tr>\n",
       "    <tr>\n",
       "      <th>1</th>\n",
       "      <td>Domaine Carneros</td>\n",
       "      <td>1240 Duhig Rd Napa, CA 94559</td>\n",
       "      <td>8eGTOeEQpUpYb89ISug3ag</td>\n",
       "      <td>wineries</td>\n",
       "      <td>Wineries</td>\n",
       "      <td>4.0</td>\n",
       "      <td>2239</td>\n",
       "      <td>$$</td>\n",
       "      <td>38.255534</td>\n",
       "      <td>-122.351391</td>\n",
       "      <td>2</td>\n",
       "      <td>Napa Valley</td>\n",
       "    </tr>\n",
       "    <tr>\n",
       "      <th>2</th>\n",
       "      <td>Paraduxx Winery</td>\n",
       "      <td>7257 Silverado Trl Napa, CA 94558</td>\n",
       "      <td>cBFZALrZbLV5XBsiPcgknQ</td>\n",
       "      <td>wineries</td>\n",
       "      <td>Wineries</td>\n",
       "      <td>4.5</td>\n",
       "      <td>373</td>\n",
       "      <td>$$</td>\n",
       "      <td>38.435480</td>\n",
       "      <td>-122.351430</td>\n",
       "      <td>2</td>\n",
       "      <td>Napa Valley</td>\n",
       "    </tr>\n",
       "    <tr>\n",
       "      <th>3</th>\n",
       "      <td>Jarvis Winery</td>\n",
       "      <td>2970 Monticello Rd Napa, CA 94558</td>\n",
       "      <td>NPkAqW68Og5eBofEpPiRXQ</td>\n",
       "      <td>wineries</td>\n",
       "      <td>Wineries</td>\n",
       "      <td>4.5</td>\n",
       "      <td>209</td>\n",
       "      <td>$$$</td>\n",
       "      <td>38.357010</td>\n",
       "      <td>-122.213620</td>\n",
       "      <td>3</td>\n",
       "      <td>Napa Valley</td>\n",
       "    </tr>\n",
       "    <tr>\n",
       "      <th>4</th>\n",
       "      <td>White Rock Vineyards</td>\n",
       "      <td>1112 Loma Vista Dr Napa, CA 94558</td>\n",
       "      <td>shbhrTpVLOdql8hNGC9NDw</td>\n",
       "      <td>wineries</td>\n",
       "      <td>Wineries</td>\n",
       "      <td>5.0</td>\n",
       "      <td>55</td>\n",
       "      <td>$$</td>\n",
       "      <td>38.377683</td>\n",
       "      <td>-122.286565</td>\n",
       "      <td>2</td>\n",
       "      <td>Napa Valley</td>\n",
       "    </tr>\n",
       "    <tr>\n",
       "      <th>...</th>\n",
       "      <td>...</td>\n",
       "      <td>...</td>\n",
       "      <td>...</td>\n",
       "      <td>...</td>\n",
       "      <td>...</td>\n",
       "      <td>...</td>\n",
       "      <td>...</td>\n",
       "      <td>...</td>\n",
       "      <td>...</td>\n",
       "      <td>...</td>\n",
       "      <td>...</td>\n",
       "      <td>...</td>\n",
       "    </tr>\n",
       "    <tr>\n",
       "      <th>398</th>\n",
       "      <td>Andretti Winery</td>\n",
       "      <td>1625 Trancas St NAPA, CA 94558</td>\n",
       "      <td>NKCMqIlRopcSMA15JpeyJg</td>\n",
       "      <td>wineries</td>\n",
       "      <td>Wineries</td>\n",
       "      <td>3.5</td>\n",
       "      <td>311</td>\n",
       "      <td>$$</td>\n",
       "      <td>38.321516</td>\n",
       "      <td>-122.304108</td>\n",
       "      <td>2</td>\n",
       "      <td>Napa Valley</td>\n",
       "    </tr>\n",
       "    <tr>\n",
       "      <th>399</th>\n",
       "      <td>Lionstone International</td>\n",
       "      <td>21481 8th St E Sonoma, CA 95476</td>\n",
       "      <td>pW9QPUkm2_tTXLCzyQ6qvg</td>\n",
       "      <td>wineries</td>\n",
       "      <td>Wineries</td>\n",
       "      <td>1.0</td>\n",
       "      <td>1</td>\n",
       "      <td>NaN</td>\n",
       "      <td>38.262062</td>\n",
       "      <td>-122.442036</td>\n",
       "      <td>0</td>\n",
       "      <td>Napa Valley</td>\n",
       "    </tr>\n",
       "    <tr>\n",
       "      <th>400</th>\n",
       "      <td>Napa Vinyards</td>\n",
       "      <td>Napa, CA 94558</td>\n",
       "      <td>UwgQWRkTzlFnw3-QYCaBlQ</td>\n",
       "      <td>wineries</td>\n",
       "      <td>Wineries</td>\n",
       "      <td>1.0</td>\n",
       "      <td>1</td>\n",
       "      <td>NaN</td>\n",
       "      <td>38.383260</td>\n",
       "      <td>-122.313060</td>\n",
       "      <td>0</td>\n",
       "      <td>Napa Valley</td>\n",
       "    </tr>\n",
       "    <tr>\n",
       "      <th>401</th>\n",
       "      <td>Cook Vinyard Management</td>\n",
       "      <td>19626 Eighth St E Sonoma, CA 95476</td>\n",
       "      <td>LxMkyxBokxu6iRIsuMF5Tw</td>\n",
       "      <td>wineries</td>\n",
       "      <td>Wineries</td>\n",
       "      <td>1.0</td>\n",
       "      <td>1</td>\n",
       "      <td>NaN</td>\n",
       "      <td>38.286261</td>\n",
       "      <td>-122.434893</td>\n",
       "      <td>0</td>\n",
       "      <td>Napa Valley</td>\n",
       "    </tr>\n",
       "    <tr>\n",
       "      <th>402</th>\n",
       "      <td>Top It Off Bottling</td>\n",
       "      <td>21481 8th St E Ste 1 Sonoma, CA 95476</td>\n",
       "      <td>Jt-VYmagp5ETW1v_G_Ae0g</td>\n",
       "      <td>wineries</td>\n",
       "      <td>Wineries</td>\n",
       "      <td>1.0</td>\n",
       "      <td>2</td>\n",
       "      <td>NaN</td>\n",
       "      <td>38.262480</td>\n",
       "      <td>-122.442070</td>\n",
       "      <td>0</td>\n",
       "      <td>Napa Valley</td>\n",
       "    </tr>\n",
       "  </tbody>\n",
       "</table>\n",
       "<p>403 rows × 12 columns</p>\n",
       "</div>"
      ],
      "text/plain": [
       "                           name                               location  \\\n",
       "0    Hendry Vineyard and Winery         3104 Redwood Rd Napa, CA 94558   \n",
       "1              Domaine Carneros           1240 Duhig Rd Napa, CA 94559   \n",
       "2               Paraduxx Winery      7257 Silverado Trl Napa, CA 94558   \n",
       "3                 Jarvis Winery      2970 Monticello Rd Napa, CA 94558   \n",
       "4          White Rock Vineyards      1112 Loma Vista Dr Napa, CA 94558   \n",
       "..                          ...                                    ...   \n",
       "398             Andretti Winery         1625 Trancas St NAPA, CA 94558   \n",
       "399     Lionstone International        21481 8th St E Sonoma, CA 95476   \n",
       "400               Napa Vinyards                         Napa, CA 94558   \n",
       "401     Cook Vinyard Management     19626 Eighth St E Sonoma, CA 95476   \n",
       "402         Top It Off Bottling  21481 8th St E Ste 1 Sonoma, CA 95476   \n",
       "\n",
       "                Business ID     alias     title  rating  review_count price  \\\n",
       "0    mO8n3zTLoFhlmcfQr7X_TQ  wineries  Wineries     5.0           658    $$   \n",
       "1    8eGTOeEQpUpYb89ISug3ag  wineries  Wineries     4.0          2239    $$   \n",
       "2    cBFZALrZbLV5XBsiPcgknQ  wineries  Wineries     4.5           373    $$   \n",
       "3    NPkAqW68Og5eBofEpPiRXQ  wineries  Wineries     4.5           209   $$$   \n",
       "4    shbhrTpVLOdql8hNGC9NDw  wineries  Wineries     5.0            55    $$   \n",
       "..                      ...       ...       ...     ...           ...   ...   \n",
       "398  NKCMqIlRopcSMA15JpeyJg  wineries  Wineries     3.5           311    $$   \n",
       "399  pW9QPUkm2_tTXLCzyQ6qvg  wineries  Wineries     1.0             1   NaN   \n",
       "400  UwgQWRkTzlFnw3-QYCaBlQ  wineries  Wineries     1.0             1   NaN   \n",
       "401  LxMkyxBokxu6iRIsuMF5Tw  wineries  Wineries     1.0             1   NaN   \n",
       "402  Jt-VYmagp5ETW1v_G_Ae0g  wineries  Wineries     1.0             2   NaN   \n",
       "\n",
       "      latitude   longitude  price_converted         City  \n",
       "0    38.321680 -122.344810                2  Napa Valley  \n",
       "1    38.255534 -122.351391                2  Napa Valley  \n",
       "2    38.435480 -122.351430                2  Napa Valley  \n",
       "3    38.357010 -122.213620                3  Napa Valley  \n",
       "4    38.377683 -122.286565                2  Napa Valley  \n",
       "..         ...         ...              ...          ...  \n",
       "398  38.321516 -122.304108                2  Napa Valley  \n",
       "399  38.262062 -122.442036                0  Napa Valley  \n",
       "400  38.383260 -122.313060                0  Napa Valley  \n",
       "401  38.286261 -122.434893                0  Napa Valley  \n",
       "402  38.262480 -122.442070                0  Napa Valley  \n",
       "\n",
       "[403 rows x 12 columns]"
      ]
     },
     "execution_count": 95,
     "metadata": {},
     "output_type": "execute_result"
    }
   ],
   "source": [
    "df_nv_details = pd.read_csv(\"data/wineries_north_price_converted.csv\")\n",
    "df_nv_details.reset_index(drop=True, inplace=True)\n",
    "df_nv_details['City'] = 'Napa Valley'\n",
    "\n",
    "df_nv_details"
   ]
  },
  {
   "cell_type": "code",
   "execution_count": 9,
   "metadata": {
    "ExecuteTime": {
     "end_time": "2021-05-13T21:13:04.050436Z",
     "start_time": "2021-05-13T21:13:04.038436Z"
    }
   },
   "outputs": [],
   "source": [
    "# df_nv_reviews = pd.read_csv(\"data/reviews_north_raw.csv\")\n",
    "# df_nv_reviews.reset_index(drop=True, inplace=True)\n",
    "\n",
    "# df_nv_reviews"
   ]
  },
  {
   "cell_type": "markdown",
   "metadata": {},
   "source": [
    "## Combining "
   ]
  },
  {
   "cell_type": "code",
   "execution_count": 96,
   "metadata": {
    "ExecuteTime": {
     "end_time": "2021-05-13T22:53:02.490260Z",
     "start_time": "2021-05-13T22:53:02.445284Z"
    }
   },
   "outputs": [
    {
     "data": {
      "text/html": [
       "<div>\n",
       "<style scoped>\n",
       "    .dataframe tbody tr th:only-of-type {\n",
       "        vertical-align: middle;\n",
       "    }\n",
       "\n",
       "    .dataframe tbody tr th {\n",
       "        vertical-align: top;\n",
       "    }\n",
       "\n",
       "    .dataframe thead th {\n",
       "        text-align: right;\n",
       "    }\n",
       "</style>\n",
       "<table border=\"1\" class=\"dataframe\">\n",
       "  <thead>\n",
       "    <tr style=\"text-align: right;\">\n",
       "      <th></th>\n",
       "      <th>name</th>\n",
       "      <th>location</th>\n",
       "      <th>Business ID</th>\n",
       "      <th>alias</th>\n",
       "      <th>title</th>\n",
       "      <th>rating</th>\n",
       "      <th>review_count</th>\n",
       "      <th>price</th>\n",
       "      <th>latitude</th>\n",
       "      <th>longitude</th>\n",
       "      <th>price_converted</th>\n",
       "      <th>City</th>\n",
       "    </tr>\n",
       "  </thead>\n",
       "  <tbody>\n",
       "    <tr>\n",
       "      <th>0</th>\n",
       "      <td>Bernardo Winery</td>\n",
       "      <td>13330 Paseo Del Verano Norte San Diego, CA 92128</td>\n",
       "      <td>DknnpiG1p4OoM1maFshzXA</td>\n",
       "      <td>winetastingroom</td>\n",
       "      <td>Wine Tasting Room</td>\n",
       "      <td>4.5</td>\n",
       "      <td>626</td>\n",
       "      <td>$$</td>\n",
       "      <td>33.032800</td>\n",
       "      <td>-117.046460</td>\n",
       "      <td>2</td>\n",
       "      <td>San Diego</td>\n",
       "    </tr>\n",
       "    <tr>\n",
       "      <th>1</th>\n",
       "      <td>Callaway Vineyard &amp; Winery</td>\n",
       "      <td>517 4th Ave Ste 101 San Diego, CA 92101</td>\n",
       "      <td>Cn2_bpTngghYW1ej4zreZg</td>\n",
       "      <td>winetastingroom</td>\n",
       "      <td>Wine Tasting Room</td>\n",
       "      <td>5.0</td>\n",
       "      <td>100</td>\n",
       "      <td>$$</td>\n",
       "      <td>32.710751</td>\n",
       "      <td>-117.160918</td>\n",
       "      <td>2</td>\n",
       "      <td>San Diego</td>\n",
       "    </tr>\n",
       "    <tr>\n",
       "      <th>2</th>\n",
       "      <td>Négociant Winery</td>\n",
       "      <td>2419 El Cajon Blvd San Diego, CA 92104</td>\n",
       "      <td>Cc1sQWRWgGyMCjzX2mmMQQ</td>\n",
       "      <td>winetastingroom</td>\n",
       "      <td>Wine Tasting Room</td>\n",
       "      <td>4.5</td>\n",
       "      <td>103</td>\n",
       "      <td>$$</td>\n",
       "      <td>32.754880</td>\n",
       "      <td>-117.138280</td>\n",
       "      <td>2</td>\n",
       "      <td>San Diego</td>\n",
       "    </tr>\n",
       "    <tr>\n",
       "      <th>3</th>\n",
       "      <td>San Pasqual Winery - Seaport Village</td>\n",
       "      <td>805 W Harbor Dr San Diego, CA 92101</td>\n",
       "      <td>gMW1RvyLu90RSQAY9UrIHw</td>\n",
       "      <td>winetastingroom</td>\n",
       "      <td>Wine Tasting Room</td>\n",
       "      <td>4.5</td>\n",
       "      <td>138</td>\n",
       "      <td>$$</td>\n",
       "      <td>32.708732</td>\n",
       "      <td>-117.168195</td>\n",
       "      <td>2</td>\n",
       "      <td>San Diego</td>\n",
       "    </tr>\n",
       "    <tr>\n",
       "      <th>4</th>\n",
       "      <td>Domaine Artefact Vineyard &amp; Winery</td>\n",
       "      <td>15404 Highland Valley Rd Escondido, CA 92025</td>\n",
       "      <td>WqVbxY77Ag96X90LultCUw</td>\n",
       "      <td>wineries</td>\n",
       "      <td>Wineries</td>\n",
       "      <td>5.0</td>\n",
       "      <td>96</td>\n",
       "      <td>$$</td>\n",
       "      <td>33.068170</td>\n",
       "      <td>-117.001600</td>\n",
       "      <td>2</td>\n",
       "      <td>San Diego</td>\n",
       "    </tr>\n",
       "    <tr>\n",
       "      <th>...</th>\n",
       "      <td>...</td>\n",
       "      <td>...</td>\n",
       "      <td>...</td>\n",
       "      <td>...</td>\n",
       "      <td>...</td>\n",
       "      <td>...</td>\n",
       "      <td>...</td>\n",
       "      <td>...</td>\n",
       "      <td>...</td>\n",
       "      <td>...</td>\n",
       "      <td>...</td>\n",
       "      <td>...</td>\n",
       "    </tr>\n",
       "    <tr>\n",
       "      <th>480</th>\n",
       "      <td>Andretti Winery</td>\n",
       "      <td>1625 Trancas St NAPA, CA 94558</td>\n",
       "      <td>NKCMqIlRopcSMA15JpeyJg</td>\n",
       "      <td>wineries</td>\n",
       "      <td>Wineries</td>\n",
       "      <td>3.5</td>\n",
       "      <td>311</td>\n",
       "      <td>$$</td>\n",
       "      <td>38.321516</td>\n",
       "      <td>-122.304108</td>\n",
       "      <td>2</td>\n",
       "      <td>Napa Valley</td>\n",
       "    </tr>\n",
       "    <tr>\n",
       "      <th>481</th>\n",
       "      <td>Lionstone International</td>\n",
       "      <td>21481 8th St E Sonoma, CA 95476</td>\n",
       "      <td>pW9QPUkm2_tTXLCzyQ6qvg</td>\n",
       "      <td>wineries</td>\n",
       "      <td>Wineries</td>\n",
       "      <td>1.0</td>\n",
       "      <td>1</td>\n",
       "      <td>NaN</td>\n",
       "      <td>38.262062</td>\n",
       "      <td>-122.442036</td>\n",
       "      <td>0</td>\n",
       "      <td>Napa Valley</td>\n",
       "    </tr>\n",
       "    <tr>\n",
       "      <th>482</th>\n",
       "      <td>Napa Vinyards</td>\n",
       "      <td>Napa, CA 94558</td>\n",
       "      <td>UwgQWRkTzlFnw3-QYCaBlQ</td>\n",
       "      <td>wineries</td>\n",
       "      <td>Wineries</td>\n",
       "      <td>1.0</td>\n",
       "      <td>1</td>\n",
       "      <td>NaN</td>\n",
       "      <td>38.383260</td>\n",
       "      <td>-122.313060</td>\n",
       "      <td>0</td>\n",
       "      <td>Napa Valley</td>\n",
       "    </tr>\n",
       "    <tr>\n",
       "      <th>483</th>\n",
       "      <td>Cook Vinyard Management</td>\n",
       "      <td>19626 Eighth St E Sonoma, CA 95476</td>\n",
       "      <td>LxMkyxBokxu6iRIsuMF5Tw</td>\n",
       "      <td>wineries</td>\n",
       "      <td>Wineries</td>\n",
       "      <td>1.0</td>\n",
       "      <td>1</td>\n",
       "      <td>NaN</td>\n",
       "      <td>38.286261</td>\n",
       "      <td>-122.434893</td>\n",
       "      <td>0</td>\n",
       "      <td>Napa Valley</td>\n",
       "    </tr>\n",
       "    <tr>\n",
       "      <th>484</th>\n",
       "      <td>Top It Off Bottling</td>\n",
       "      <td>21481 8th St E Ste 1 Sonoma, CA 95476</td>\n",
       "      <td>Jt-VYmagp5ETW1v_G_Ae0g</td>\n",
       "      <td>wineries</td>\n",
       "      <td>Wineries</td>\n",
       "      <td>1.0</td>\n",
       "      <td>2</td>\n",
       "      <td>NaN</td>\n",
       "      <td>38.262480</td>\n",
       "      <td>-122.442070</td>\n",
       "      <td>0</td>\n",
       "      <td>Napa Valley</td>\n",
       "    </tr>\n",
       "  </tbody>\n",
       "</table>\n",
       "<p>485 rows × 12 columns</p>\n",
       "</div>"
      ],
      "text/plain": [
       "                                     name  \\\n",
       "0                         Bernardo Winery   \n",
       "1              Callaway Vineyard & Winery   \n",
       "2                        Négociant Winery   \n",
       "3    San Pasqual Winery - Seaport Village   \n",
       "4      Domaine Artefact Vineyard & Winery   \n",
       "..                                    ...   \n",
       "480                       Andretti Winery   \n",
       "481               Lionstone International   \n",
       "482                         Napa Vinyards   \n",
       "483               Cook Vinyard Management   \n",
       "484                   Top It Off Bottling   \n",
       "\n",
       "                                             location             Business ID  \\\n",
       "0    13330 Paseo Del Verano Norte San Diego, CA 92128  DknnpiG1p4OoM1maFshzXA   \n",
       "1             517 4th Ave Ste 101 San Diego, CA 92101  Cn2_bpTngghYW1ej4zreZg   \n",
       "2              2419 El Cajon Blvd San Diego, CA 92104  Cc1sQWRWgGyMCjzX2mmMQQ   \n",
       "3                 805 W Harbor Dr San Diego, CA 92101  gMW1RvyLu90RSQAY9UrIHw   \n",
       "4        15404 Highland Valley Rd Escondido, CA 92025  WqVbxY77Ag96X90LultCUw   \n",
       "..                                                ...                     ...   \n",
       "480                    1625 Trancas St NAPA, CA 94558  NKCMqIlRopcSMA15JpeyJg   \n",
       "481                   21481 8th St E Sonoma, CA 95476  pW9QPUkm2_tTXLCzyQ6qvg   \n",
       "482                                    Napa, CA 94558  UwgQWRkTzlFnw3-QYCaBlQ   \n",
       "483                19626 Eighth St E Sonoma, CA 95476  LxMkyxBokxu6iRIsuMF5Tw   \n",
       "484             21481 8th St E Ste 1 Sonoma, CA 95476  Jt-VYmagp5ETW1v_G_Ae0g   \n",
       "\n",
       "               alias              title  rating  review_count price  \\\n",
       "0    winetastingroom  Wine Tasting Room     4.5           626    $$   \n",
       "1    winetastingroom  Wine Tasting Room     5.0           100    $$   \n",
       "2    winetastingroom  Wine Tasting Room     4.5           103    $$   \n",
       "3    winetastingroom  Wine Tasting Room     4.5           138    $$   \n",
       "4           wineries           Wineries     5.0            96    $$   \n",
       "..               ...                ...     ...           ...   ...   \n",
       "480         wineries           Wineries     3.5           311    $$   \n",
       "481         wineries           Wineries     1.0             1   NaN   \n",
       "482         wineries           Wineries     1.0             1   NaN   \n",
       "483         wineries           Wineries     1.0             1   NaN   \n",
       "484         wineries           Wineries     1.0             2   NaN   \n",
       "\n",
       "      latitude   longitude  price_converted         City  \n",
       "0    33.032800 -117.046460                2    San Diego  \n",
       "1    32.710751 -117.160918                2    San Diego  \n",
       "2    32.754880 -117.138280                2    San Diego  \n",
       "3    32.708732 -117.168195                2    San Diego  \n",
       "4    33.068170 -117.001600                2    San Diego  \n",
       "..         ...         ...              ...          ...  \n",
       "480  38.321516 -122.304108                2  Napa Valley  \n",
       "481  38.262062 -122.442036                0  Napa Valley  \n",
       "482  38.383260 -122.313060                0  Napa Valley  \n",
       "483  38.286261 -122.434893                0  Napa Valley  \n",
       "484  38.262480 -122.442070                0  Napa Valley  \n",
       "\n",
       "[485 rows x 12 columns]"
      ]
     },
     "execution_count": 96,
     "metadata": {},
     "output_type": "execute_result"
    }
   ],
   "source": [
    "combined = pd.concat([df_sd_details,df_nv_details], ignore_index = True)\n",
    "combined"
   ]
  },
  {
   "cell_type": "code",
   "execution_count": 102,
   "metadata": {
    "ExecuteTime": {
     "end_time": "2021-05-13T22:55:40.714456Z",
     "start_time": "2021-05-13T22:55:40.655437Z"
    },
    "scrolled": true
   },
   "outputs": [
    {
     "data": {
      "text/html": [
       "<div>\n",
       "<style scoped>\n",
       "    .dataframe tbody tr th:only-of-type {\n",
       "        vertical-align: middle;\n",
       "    }\n",
       "\n",
       "    .dataframe tbody tr th {\n",
       "        vertical-align: top;\n",
       "    }\n",
       "\n",
       "    .dataframe thead th {\n",
       "        text-align: right;\n",
       "    }\n",
       "</style>\n",
       "<table border=\"1\" class=\"dataframe\">\n",
       "  <thead>\n",
       "    <tr style=\"text-align: right;\">\n",
       "      <th></th>\n",
       "      <th>count</th>\n",
       "      <th>mean</th>\n",
       "      <th>min</th>\n",
       "      <th>max</th>\n",
       "    </tr>\n",
       "    <tr>\n",
       "      <th>City</th>\n",
       "      <th></th>\n",
       "      <th></th>\n",
       "      <th></th>\n",
       "      <th></th>\n",
       "    </tr>\n",
       "  </thead>\n",
       "  <tbody>\n",
       "    <tr>\n",
       "      <th>Napa Valley</th>\n",
       "      <td>403</td>\n",
       "      <td>1.397022</td>\n",
       "      <td>0</td>\n",
       "      <td>4</td>\n",
       "    </tr>\n",
       "    <tr>\n",
       "      <th>San Diego</th>\n",
       "      <td>82</td>\n",
       "      <td>1.365854</td>\n",
       "      <td>0</td>\n",
       "      <td>3</td>\n",
       "    </tr>\n",
       "  </tbody>\n",
       "</table>\n",
       "</div>"
      ],
      "text/plain": [
       "             count      mean  min  max\n",
       "City                                  \n",
       "Napa Valley    403  1.397022    0    4\n",
       "San Diego       82  1.365854    0    3"
      ]
     },
     "execution_count": 102,
     "metadata": {},
     "output_type": "execute_result"
    }
   ],
   "source": [
    "combined.groupby('City').agg(['count', 'mean', min, max])['price_converted']"
   ]
  },
  {
   "cell_type": "code",
   "execution_count": 106,
   "metadata": {
    "ExecuteTime": {
     "end_time": "2021-05-13T22:58:07.584613Z",
     "start_time": "2021-05-13T22:58:07.358603Z"
    }
   },
   "outputs": [
    {
     "data": {
      "image/png": "[encoded data removed]",
      "text/plain": [
       "<Figure size 432x288 with 1 Axes>"
      ]
     },
     "metadata": {
      "needs_background": "light"
     },
     "output_type": "display_data"
    }
   ],
   "source": [
    "sns.countplot(data=combined, hue='City', x='price_converted' );"
   ]
  },
  {
   "cell_type": "markdown",
   "metadata": {
    "ExecuteTime": {
     "end_time": "2021-05-13T21:15:22.392762Z",
     "start_time": "2021-05-13T21:15:22.375765Z"
    },
    "heading_collapsed": true
   },
   "source": [
    "# EDA: Separate Cities - Business Details"
   ]
  },
  {
   "cell_type": "markdown",
   "metadata": {
    "hidden": true
   },
   "source": [
    "## EDA: San Diego Business Details"
   ]
  },
  {
   "cell_type": "code",
   "execution_count": 12,
   "metadata": {
    "ExecuteTime": {
     "end_time": "2021-05-13T21:16:30.310692Z",
     "start_time": "2021-05-13T21:16:30.283685Z"
    },
    "collapsed": true,
    "hidden": true
   },
   "outputs": [
    {
     "data": {
      "text/html": [
       "<div>\n",
       "<style scoped>\n",
       "    .dataframe tbody tr th:only-of-type {\n",
       "        vertical-align: middle;\n",
       "    }\n",
       "\n",
       "    .dataframe tbody tr th {\n",
       "        vertical-align: top;\n",
       "    }\n",
       "\n",
       "    .dataframe thead th {\n",
       "        text-align: right;\n",
       "    }\n",
       "</style>\n",
       "<table border=\"1\" class=\"dataframe\">\n",
       "  <thead>\n",
       "    <tr style=\"text-align: right;\">\n",
       "      <th></th>\n",
       "      <th>name</th>\n",
       "      <th>location</th>\n",
       "      <th>Business ID</th>\n",
       "      <th>alias</th>\n",
       "      <th>title</th>\n",
       "      <th>rating</th>\n",
       "      <th>review_count</th>\n",
       "      <th>price</th>\n",
       "      <th>latitude</th>\n",
       "      <th>longitude</th>\n",
       "      <th>price_converted</th>\n",
       "    </tr>\n",
       "  </thead>\n",
       "  <tbody>\n",
       "    <tr>\n",
       "      <th>0</th>\n",
       "      <td>Bernardo Winery</td>\n",
       "      <td>13330 Paseo Del Verano Norte San Diego, CA 92128</td>\n",
       "      <td>DknnpiG1p4OoM1maFshzXA</td>\n",
       "      <td>winetastingroom</td>\n",
       "      <td>Wine Tasting Room</td>\n",
       "      <td>4.5</td>\n",
       "      <td>626</td>\n",
       "      <td>$$</td>\n",
       "      <td>33.032800</td>\n",
       "      <td>-117.046460</td>\n",
       "      <td>2</td>\n",
       "    </tr>\n",
       "    <tr>\n",
       "      <th>1</th>\n",
       "      <td>Callaway Vineyard &amp; Winery</td>\n",
       "      <td>517 4th Ave Ste 101 San Diego, CA 92101</td>\n",
       "      <td>Cn2_bpTngghYW1ej4zreZg</td>\n",
       "      <td>winetastingroom</td>\n",
       "      <td>Wine Tasting Room</td>\n",
       "      <td>5.0</td>\n",
       "      <td>100</td>\n",
       "      <td>$$</td>\n",
       "      <td>32.710751</td>\n",
       "      <td>-117.160918</td>\n",
       "      <td>2</td>\n",
       "    </tr>\n",
       "    <tr>\n",
       "      <th>2</th>\n",
       "      <td>Négociant Winery</td>\n",
       "      <td>2419 El Cajon Blvd San Diego, CA 92104</td>\n",
       "      <td>Cc1sQWRWgGyMCjzX2mmMQQ</td>\n",
       "      <td>winetastingroom</td>\n",
       "      <td>Wine Tasting Room</td>\n",
       "      <td>4.5</td>\n",
       "      <td>103</td>\n",
       "      <td>$$</td>\n",
       "      <td>32.754880</td>\n",
       "      <td>-117.138280</td>\n",
       "      <td>2</td>\n",
       "    </tr>\n",
       "    <tr>\n",
       "      <th>3</th>\n",
       "      <td>San Pasqual Winery - Seaport Village</td>\n",
       "      <td>805 W Harbor Dr San Diego, CA 92101</td>\n",
       "      <td>gMW1RvyLu90RSQAY9UrIHw</td>\n",
       "      <td>winetastingroom</td>\n",
       "      <td>Wine Tasting Room</td>\n",
       "      <td>4.5</td>\n",
       "      <td>138</td>\n",
       "      <td>$$</td>\n",
       "      <td>32.708732</td>\n",
       "      <td>-117.168195</td>\n",
       "      <td>2</td>\n",
       "    </tr>\n",
       "    <tr>\n",
       "      <th>4</th>\n",
       "      <td>Domaine Artefact Vineyard &amp; Winery</td>\n",
       "      <td>15404 Highland Valley Rd Escondido, CA 92025</td>\n",
       "      <td>WqVbxY77Ag96X90LultCUw</td>\n",
       "      <td>wineries</td>\n",
       "      <td>Wineries</td>\n",
       "      <td>5.0</td>\n",
       "      <td>96</td>\n",
       "      <td>$$</td>\n",
       "      <td>33.068170</td>\n",
       "      <td>-117.001600</td>\n",
       "      <td>2</td>\n",
       "    </tr>\n",
       "  </tbody>\n",
       "</table>\n",
       "</div>"
      ],
      "text/plain": [
       "                                   name  \\\n",
       "0                       Bernardo Winery   \n",
       "1            Callaway Vineyard & Winery   \n",
       "2                      Négociant Winery   \n",
       "3  San Pasqual Winery - Seaport Village   \n",
       "4    Domaine Artefact Vineyard & Winery   \n",
       "\n",
       "                                           location             Business ID  \\\n",
       "0  13330 Paseo Del Verano Norte San Diego, CA 92128  DknnpiG1p4OoM1maFshzXA   \n",
       "1           517 4th Ave Ste 101 San Diego, CA 92101  Cn2_bpTngghYW1ej4zreZg   \n",
       "2            2419 El Cajon Blvd San Diego, CA 92104  Cc1sQWRWgGyMCjzX2mmMQQ   \n",
       "3               805 W Harbor Dr San Diego, CA 92101  gMW1RvyLu90RSQAY9UrIHw   \n",
       "4      15404 Highland Valley Rd Escondido, CA 92025  WqVbxY77Ag96X90LultCUw   \n",
       "\n",
       "             alias              title  rating  review_count price   latitude  \\\n",
       "0  winetastingroom  Wine Tasting Room     4.5           626    $$  33.032800   \n",
       "1  winetastingroom  Wine Tasting Room     5.0           100    $$  32.710751   \n",
       "2  winetastingroom  Wine Tasting Room     4.5           103    $$  32.754880   \n",
       "3  winetastingroom  Wine Tasting Room     4.5           138    $$  32.708732   \n",
       "4         wineries           Wineries     5.0            96    $$  33.068170   \n",
       "\n",
       "    longitude  price_converted  \n",
       "0 -117.046460                2  \n",
       "1 -117.160918                2  \n",
       "2 -117.138280                2  \n",
       "3 -117.168195                2  \n",
       "4 -117.001600                2  "
      ]
     },
     "execution_count": 12,
     "metadata": {},
     "output_type": "execute_result"
    }
   ],
   "source": [
    "df_sd_details.head()"
   ]
  },
  {
   "cell_type": "code",
   "execution_count": 16,
   "metadata": {
    "ExecuteTime": {
     "end_time": "2021-05-13T21:18:43.269884Z",
     "start_time": "2021-05-13T21:18:43.256147Z"
    },
    "collapsed": true,
    "hidden": true
   },
   "outputs": [
    {
     "data": {
      "text/plain": [
       "name                0\n",
       "location            0\n",
       "Business ID         0\n",
       "alias               0\n",
       "title               0\n",
       "rating              0\n",
       "review_count        0\n",
       "price              25\n",
       "latitude            0\n",
       "longitude           0\n",
       "price_converted     0\n",
       "dtype: int64"
      ]
     },
     "execution_count": 16,
     "metadata": {},
     "output_type": "execute_result"
    }
   ],
   "source": [
    "# Check for null values\n",
    "\n",
    "df_sd_details.isna().sum()"
   ]
  },
  {
   "cell_type": "code",
   "execution_count": 18,
   "metadata": {
    "ExecuteTime": {
     "end_time": "2021-05-13T21:19:20.011448Z",
     "start_time": "2021-05-13T21:19:19.990489Z"
    },
    "collapsed": true,
    "hidden": true
   },
   "outputs": [
    {
     "data": {
      "text/plain": [
       "$$     53\n",
       "$       3\n",
       "$$$     1\n",
       "Name: price, dtype: int64"
      ]
     },
     "execution_count": 18,
     "metadata": {},
     "output_type": "execute_result"
    }
   ],
   "source": [
    "# Determine if best to fill those values\n",
    "df_sd_details['price'].value_counts()"
   ]
  },
  {
   "cell_type": "code",
   "execution_count": 21,
   "metadata": {
    "ExecuteTime": {
     "end_time": "2021-05-13T21:21:32.948763Z",
     "start_time": "2021-05-13T21:21:32.935736Z"
    },
    "collapsed": true,
    "hidden": true
   },
   "outputs": [
    {
     "data": {
      "text/plain": [
       "name               0\n",
       "location           0\n",
       "Business ID        0\n",
       "alias              0\n",
       "title              0\n",
       "rating             0\n",
       "review_count       0\n",
       "price              0\n",
       "latitude           0\n",
       "longitude          0\n",
       "price_converted    0\n",
       "dtype: int64"
      ]
     },
     "execution_count": 21,
     "metadata": {},
     "output_type": "execute_result"
    }
   ],
   "source": [
    "# Fill with \"$$\", which is the mean, median, and mode all in one!\n",
    "df_sd_details.fillna(value=\"$$\", inplace=True)\n",
    "\n",
    "## Confirm all NaN are fixed\n",
    "df_sd_details.isna().sum()"
   ]
  },
  {
   "cell_type": "code",
   "execution_count": 23,
   "metadata": {
    "ExecuteTime": {
     "end_time": "2021-05-13T21:25:47.974079Z",
     "start_time": "2021-05-13T21:25:47.959448Z"
    },
    "code_folding": [
     1
    ],
    "hidden": true
   },
   "outputs": [],
   "source": [
    "# Add prior converter function for updated price values\n",
    "def convert_price(dataframe):\n",
    "    ''' - Requires a dataframe with the 'price' column elements being NaN,\n",
    "    $, $$, $$$, $$$$, or $$$$$.\n",
    "    - Takes a pre-existing dataframe and adds a column to store the \\\n",
    "    conversion from $ to an integer.'''\n",
    "    \n",
    "    # Converting $s to integers, then saving to new column.\n",
    "    dataframe['price_converted'] = dataframe.loc[:,'price'] \\\n",
    "    .map({np.nan:0, '$':1, '$$':2, '$$$':3, '$$$$':4, '$$$$$':5})\n",
    "    \n",
    "    return dataframe"
   ]
  },
  {
   "cell_type": "code",
   "execution_count": 24,
   "metadata": {
    "ExecuteTime": {
     "end_time": "2021-05-13T21:26:02.592840Z",
     "start_time": "2021-05-13T21:26:02.567535Z"
    },
    "collapsed": true,
    "hidden": true
   },
   "outputs": [
    {
     "data": {
      "text/html": [
       "<div>\n",
       "<style scoped>\n",
       "    .dataframe tbody tr th:only-of-type {\n",
       "        vertical-align: middle;\n",
       "    }\n",
       "\n",
       "    .dataframe tbody tr th {\n",
       "        vertical-align: top;\n",
       "    }\n",
       "\n",
       "    .dataframe thead th {\n",
       "        text-align: right;\n",
       "    }\n",
       "</style>\n",
       "<table border=\"1\" class=\"dataframe\">\n",
       "  <thead>\n",
       "    <tr style=\"text-align: right;\">\n",
       "      <th></th>\n",
       "      <th>name</th>\n",
       "      <th>location</th>\n",
       "      <th>Business ID</th>\n",
       "      <th>alias</th>\n",
       "      <th>title</th>\n",
       "      <th>rating</th>\n",
       "      <th>review_count</th>\n",
       "      <th>price</th>\n",
       "      <th>latitude</th>\n",
       "      <th>longitude</th>\n",
       "      <th>price_converted</th>\n",
       "    </tr>\n",
       "  </thead>\n",
       "  <tbody>\n",
       "    <tr>\n",
       "      <th>0</th>\n",
       "      <td>Bernardo Winery</td>\n",
       "      <td>13330 Paseo Del Verano Norte San Diego, CA 92128</td>\n",
       "      <td>DknnpiG1p4OoM1maFshzXA</td>\n",
       "      <td>winetastingroom</td>\n",
       "      <td>Wine Tasting Room</td>\n",
       "      <td>4.5</td>\n",
       "      <td>626</td>\n",
       "      <td>$$</td>\n",
       "      <td>33.032800</td>\n",
       "      <td>-117.046460</td>\n",
       "      <td>2</td>\n",
       "    </tr>\n",
       "    <tr>\n",
       "      <th>1</th>\n",
       "      <td>Callaway Vineyard &amp; Winery</td>\n",
       "      <td>517 4th Ave Ste 101 San Diego, CA 92101</td>\n",
       "      <td>Cn2_bpTngghYW1ej4zreZg</td>\n",
       "      <td>winetastingroom</td>\n",
       "      <td>Wine Tasting Room</td>\n",
       "      <td>5.0</td>\n",
       "      <td>100</td>\n",
       "      <td>$$</td>\n",
       "      <td>32.710751</td>\n",
       "      <td>-117.160918</td>\n",
       "      <td>2</td>\n",
       "    </tr>\n",
       "    <tr>\n",
       "      <th>2</th>\n",
       "      <td>Négociant Winery</td>\n",
       "      <td>2419 El Cajon Blvd San Diego, CA 92104</td>\n",
       "      <td>Cc1sQWRWgGyMCjzX2mmMQQ</td>\n",
       "      <td>winetastingroom</td>\n",
       "      <td>Wine Tasting Room</td>\n",
       "      <td>4.5</td>\n",
       "      <td>103</td>\n",
       "      <td>$$</td>\n",
       "      <td>32.754880</td>\n",
       "      <td>-117.138280</td>\n",
       "      <td>2</td>\n",
       "    </tr>\n",
       "    <tr>\n",
       "      <th>3</th>\n",
       "      <td>San Pasqual Winery - Seaport Village</td>\n",
       "      <td>805 W Harbor Dr San Diego, CA 92101</td>\n",
       "      <td>gMW1RvyLu90RSQAY9UrIHw</td>\n",
       "      <td>winetastingroom</td>\n",
       "      <td>Wine Tasting Room</td>\n",
       "      <td>4.5</td>\n",
       "      <td>138</td>\n",
       "      <td>$$</td>\n",
       "      <td>32.708732</td>\n",
       "      <td>-117.168195</td>\n",
       "      <td>2</td>\n",
       "    </tr>\n",
       "    <tr>\n",
       "      <th>4</th>\n",
       "      <td>Domaine Artefact Vineyard &amp; Winery</td>\n",
       "      <td>15404 Highland Valley Rd Escondido, CA 92025</td>\n",
       "      <td>WqVbxY77Ag96X90LultCUw</td>\n",
       "      <td>wineries</td>\n",
       "      <td>Wineries</td>\n",
       "      <td>5.0</td>\n",
       "      <td>96</td>\n",
       "      <td>$$</td>\n",
       "      <td>33.068170</td>\n",
       "      <td>-117.001600</td>\n",
       "      <td>2</td>\n",
       "    </tr>\n",
       "    <tr>\n",
       "      <th>...</th>\n",
       "      <td>...</td>\n",
       "      <td>...</td>\n",
       "      <td>...</td>\n",
       "      <td>...</td>\n",
       "      <td>...</td>\n",
       "      <td>...</td>\n",
       "      <td>...</td>\n",
       "      <td>...</td>\n",
       "      <td>...</td>\n",
       "      <td>...</td>\n",
       "      <td>...</td>\n",
       "    </tr>\n",
       "    <tr>\n",
       "      <th>77</th>\n",
       "      <td>Roll OutThe Barrell Charity Event by Meritage</td>\n",
       "      <td>162 S Rancho Santa Fe Rd Encinitas, CA 92024</td>\n",
       "      <td>wyLm9fIoamN-VALcu3nUVg</td>\n",
       "      <td>wineries</td>\n",
       "      <td>Wineries</td>\n",
       "      <td>4.0</td>\n",
       "      <td>1</td>\n",
       "      <td>$$</td>\n",
       "      <td>33.037121</td>\n",
       "      <td>-117.238654</td>\n",
       "      <td>2</td>\n",
       "    </tr>\n",
       "    <tr>\n",
       "      <th>78</th>\n",
       "      <td>Licores Kentucky</td>\n",
       "      <td>Calle Puerto y 3ra S/N Col. Centro 22000 Tijua...</td>\n",
       "      <td>B7gID-M2EsdpthrTcwTNYA</td>\n",
       "      <td>wineries</td>\n",
       "      <td>Wineries</td>\n",
       "      <td>5.0</td>\n",
       "      <td>1</td>\n",
       "      <td>$$</td>\n",
       "      <td>32.534236</td>\n",
       "      <td>-117.034976</td>\n",
       "      <td>2</td>\n",
       "    </tr>\n",
       "    <tr>\n",
       "      <th>79</th>\n",
       "      <td>Barrica 9</td>\n",
       "      <td>Av. Revolución 1265 Col. Zona Centro 22000 Tij...</td>\n",
       "      <td>HxTqmzT4G43iAKXrB3pqQg</td>\n",
       "      <td>winetastingroom</td>\n",
       "      <td>Wine Tasting Room</td>\n",
       "      <td>4.5</td>\n",
       "      <td>7</td>\n",
       "      <td>$$</td>\n",
       "      <td>32.530430</td>\n",
       "      <td>-117.036500</td>\n",
       "      <td>2</td>\n",
       "    </tr>\n",
       "    <tr>\n",
       "      <th>80</th>\n",
       "      <td>RL Liquid Assets, Inc</td>\n",
       "      <td>5909 Sea Lion Pl Ste G Carlsbad, CA 92010</td>\n",
       "      <td>-STecUUsS69EMSE7PxwPwA</td>\n",
       "      <td>wineries</td>\n",
       "      <td>Wineries</td>\n",
       "      <td>3.0</td>\n",
       "      <td>2</td>\n",
       "      <td>$$</td>\n",
       "      <td>33.134743</td>\n",
       "      <td>-117.248093</td>\n",
       "      <td>2</td>\n",
       "    </tr>\n",
       "    <tr>\n",
       "      <th>81</th>\n",
       "      <td>Cactus Star Vineyard at Scaredy Cat Ranch</td>\n",
       "      <td>17029 Handlebar Rd Ramona, CA 92065</td>\n",
       "      <td>ZeiVSF1SMdVVSkiGE7qaSg</td>\n",
       "      <td>winetastingroom</td>\n",
       "      <td>Wine Tasting Room</td>\n",
       "      <td>5.0</td>\n",
       "      <td>8</td>\n",
       "      <td>$</td>\n",
       "      <td>33.020150</td>\n",
       "      <td>-116.928140</td>\n",
       "      <td>1</td>\n",
       "    </tr>\n",
       "  </tbody>\n",
       "</table>\n",
       "<p>82 rows × 11 columns</p>\n",
       "</div>"
      ],
      "text/plain": [
       "                                             name  \\\n",
       "0                                 Bernardo Winery   \n",
       "1                      Callaway Vineyard & Winery   \n",
       "2                                Négociant Winery   \n",
       "3            San Pasqual Winery - Seaport Village   \n",
       "4              Domaine Artefact Vineyard & Winery   \n",
       "..                                            ...   \n",
       "77  Roll OutThe Barrell Charity Event by Meritage   \n",
       "78                               Licores Kentucky   \n",
       "79                                      Barrica 9   \n",
       "80                          RL Liquid Assets, Inc   \n",
       "81      Cactus Star Vineyard at Scaredy Cat Ranch   \n",
       "\n",
       "                                             location             Business ID  \\\n",
       "0    13330 Paseo Del Verano Norte San Diego, CA 92128  DknnpiG1p4OoM1maFshzXA   \n",
       "1             517 4th Ave Ste 101 San Diego, CA 92101  Cn2_bpTngghYW1ej4zreZg   \n",
       "2              2419 El Cajon Blvd San Diego, CA 92104  Cc1sQWRWgGyMCjzX2mmMQQ   \n",
       "3                 805 W Harbor Dr San Diego, CA 92101  gMW1RvyLu90RSQAY9UrIHw   \n",
       "4        15404 Highland Valley Rd Escondido, CA 92025  WqVbxY77Ag96X90LultCUw   \n",
       "..                                                ...                     ...   \n",
       "77       162 S Rancho Santa Fe Rd Encinitas, CA 92024  wyLm9fIoamN-VALcu3nUVg   \n",
       "78  Calle Puerto y 3ra S/N Col. Centro 22000 Tijua...  B7gID-M2EsdpthrTcwTNYA   \n",
       "79  Av. Revolución 1265 Col. Zona Centro 22000 Tij...  HxTqmzT4G43iAKXrB3pqQg   \n",
       "80          5909 Sea Lion Pl Ste G Carlsbad, CA 92010  -STecUUsS69EMSE7PxwPwA   \n",
       "81                17029 Handlebar Rd Ramona, CA 92065  ZeiVSF1SMdVVSkiGE7qaSg   \n",
       "\n",
       "              alias              title  rating  review_count price   latitude  \\\n",
       "0   winetastingroom  Wine Tasting Room     4.5           626    $$  33.032800   \n",
       "1   winetastingroom  Wine Tasting Room     5.0           100    $$  32.710751   \n",
       "2   winetastingroom  Wine Tasting Room     4.5           103    $$  32.754880   \n",
       "3   winetastingroom  Wine Tasting Room     4.5           138    $$  32.708732   \n",
       "4          wineries           Wineries     5.0            96    $$  33.068170   \n",
       "..              ...                ...     ...           ...   ...        ...   \n",
       "77         wineries           Wineries     4.0             1    $$  33.037121   \n",
       "78         wineries           Wineries     5.0             1    $$  32.534236   \n",
       "79  winetastingroom  Wine Tasting Room     4.5             7    $$  32.530430   \n",
       "80         wineries           Wineries     3.0             2    $$  33.134743   \n",
       "81  winetastingroom  Wine Tasting Room     5.0             8     $  33.020150   \n",
       "\n",
       "     longitude  price_converted  \n",
       "0  -117.046460                2  \n",
       "1  -117.160918                2  \n",
       "2  -117.138280                2  \n",
       "3  -117.168195                2  \n",
       "4  -117.001600                2  \n",
       "..         ...              ...  \n",
       "77 -117.238654                2  \n",
       "78 -117.034976                2  \n",
       "79 -117.036500                2  \n",
       "80 -117.248093                2  \n",
       "81 -116.928140                1  \n",
       "\n",
       "[82 rows x 11 columns]"
      ]
     },
     "execution_count": 24,
     "metadata": {},
     "output_type": "execute_result"
    }
   ],
   "source": [
    "# Run function to correct for any \"0\" values in 'price_converted' column\n",
    "convert_price(df_sd_details)"
   ]
  },
  {
   "cell_type": "code",
   "execution_count": 25,
   "metadata": {
    "ExecuteTime": {
     "end_time": "2021-05-13T21:26:40.568086Z",
     "start_time": "2021-05-13T21:26:40.529144Z"
    },
    "collapsed": true,
    "hidden": true
   },
   "outputs": [
    {
     "data": {
      "text/html": [
       "<div>\n",
       "<style scoped>\n",
       "    .dataframe tbody tr th:only-of-type {\n",
       "        vertical-align: middle;\n",
       "    }\n",
       "\n",
       "    .dataframe tbody tr th {\n",
       "        vertical-align: top;\n",
       "    }\n",
       "\n",
       "    .dataframe thead th {\n",
       "        text-align: right;\n",
       "    }\n",
       "</style>\n",
       "<table border=\"1\" class=\"dataframe\">\n",
       "  <thead>\n",
       "    <tr style=\"text-align: right;\">\n",
       "      <th></th>\n",
       "      <th>rating</th>\n",
       "      <th>review_count</th>\n",
       "      <th>latitude</th>\n",
       "      <th>longitude</th>\n",
       "      <th>price_converted</th>\n",
       "    </tr>\n",
       "  </thead>\n",
       "  <tbody>\n",
       "    <tr>\n",
       "      <th>count</th>\n",
       "      <td>82.000000</td>\n",
       "      <td>82.000000</td>\n",
       "      <td>82.000000</td>\n",
       "      <td>82.000000</td>\n",
       "      <td>82.000000</td>\n",
       "    </tr>\n",
       "    <tr>\n",
       "      <th>mean</th>\n",
       "      <td>4.530488</td>\n",
       "      <td>63.646341</td>\n",
       "      <td>32.926059</td>\n",
       "      <td>-117.014344</td>\n",
       "      <td>1.975610</td>\n",
       "    </tr>\n",
       "    <tr>\n",
       "      <th>std</th>\n",
       "      <td>0.594977</td>\n",
       "      <td>102.761184</td>\n",
       "      <td>0.175643</td>\n",
       "      <td>0.146575</td>\n",
       "      <td>0.220863</td>\n",
       "    </tr>\n",
       "    <tr>\n",
       "      <th>min</th>\n",
       "      <td>1.000000</td>\n",
       "      <td>1.000000</td>\n",
       "      <td>32.512608</td>\n",
       "      <td>-117.302813</td>\n",
       "      <td>1.000000</td>\n",
       "    </tr>\n",
       "    <tr>\n",
       "      <th>25%</th>\n",
       "      <td>4.500000</td>\n",
       "      <td>7.000000</td>\n",
       "      <td>32.767187</td>\n",
       "      <td>-117.136315</td>\n",
       "      <td>2.000000</td>\n",
       "    </tr>\n",
       "    <tr>\n",
       "      <th>50%</th>\n",
       "      <td>4.500000</td>\n",
       "      <td>26.000000</td>\n",
       "      <td>33.020775</td>\n",
       "      <td>-117.017288</td>\n",
       "      <td>2.000000</td>\n",
       "    </tr>\n",
       "    <tr>\n",
       "      <th>75%</th>\n",
       "      <td>5.000000</td>\n",
       "      <td>93.250000</td>\n",
       "      <td>33.063279</td>\n",
       "      <td>-116.920717</td>\n",
       "      <td>2.000000</td>\n",
       "    </tr>\n",
       "    <tr>\n",
       "      <th>max</th>\n",
       "      <td>5.000000</td>\n",
       "      <td>626.000000</td>\n",
       "      <td>33.134743</td>\n",
       "      <td>-116.750704</td>\n",
       "      <td>3.000000</td>\n",
       "    </tr>\n",
       "  </tbody>\n",
       "</table>\n",
       "</div>"
      ],
      "text/plain": [
       "          rating  review_count   latitude   longitude  price_converted\n",
       "count  82.000000     82.000000  82.000000   82.000000        82.000000\n",
       "mean    4.530488     63.646341  32.926059 -117.014344         1.975610\n",
       "std     0.594977    102.761184   0.175643    0.146575         0.220863\n",
       "min     1.000000      1.000000  32.512608 -117.302813         1.000000\n",
       "25%     4.500000      7.000000  32.767187 -117.136315         2.000000\n",
       "50%     4.500000     26.000000  33.020775 -117.017288         2.000000\n",
       "75%     5.000000     93.250000  33.063279 -116.920717         2.000000\n",
       "max     5.000000    626.000000  33.134743 -116.750704         3.000000"
      ]
     },
     "execution_count": 25,
     "metadata": {},
     "output_type": "execute_result"
    }
   ],
   "source": [
    "df_sd_details.describe()"
   ]
  },
  {
   "cell_type": "markdown",
   "metadata": {
    "ExecuteTime": {
     "end_time": "2021-05-13T21:43:51.825458Z",
     "start_time": "2021-05-13T21:43:51.819276Z"
    },
    "heading_collapsed": true,
    "hidden": true
   },
   "source": [
    "### San Diego - Good Plots"
   ]
  },
  {
   "cell_type": "code",
   "execution_count": 68,
   "metadata": {
    "ExecuteTime": {
     "end_time": "2021-05-13T21:45:11.684346Z",
     "start_time": "2021-05-13T21:45:11.442331Z"
    },
    "hidden": true
   },
   "outputs": [
    {
     "data": {
      "image/png": "[encoded data removed]",
      "text/plain": [
       "<Figure size 432x288 with 1 Axes>"
      ]
     },
     "metadata": {
      "needs_background": "light"
     },
     "output_type": "display_data"
    }
   ],
   "source": [
    "df_sd_details.plot(kind='box');"
   ]
  },
  {
   "cell_type": "code",
   "execution_count": 70,
   "metadata": {
    "ExecuteTime": {
     "end_time": "2021-05-13T21:47:58.778402Z",
     "start_time": "2021-05-13T21:47:58.651363Z"
    },
    "hidden": true
   },
   "outputs": [
    {
     "data": {
      "image/png": "[encoded data removed]",
      "text/plain": [
       "<Figure size 432x288 with 1 Axes>"
      ]
     },
     "metadata": {
      "needs_background": "light"
     },
     "output_type": "display_data"
    }
   ],
   "source": [
    "df_sd_details['review_count'].plot(kind='box');"
   ]
  },
  {
   "cell_type": "code",
   "execution_count": 78,
   "metadata": {
    "ExecuteTime": {
     "end_time": "2021-05-13T21:54:28.614914Z",
     "start_time": "2021-05-13T21:54:28.404900Z"
    },
    "hidden": true
   },
   "outputs": [
    {
     "data": {
      "image/png": "[encoded data removed]",
      "text/plain": [
       "<Figure size 432x288 with 1 Axes>"
      ]
     },
     "metadata": {
      "needs_background": "light"
     },
     "output_type": "display_data"
    }
   ],
   "source": [
    "fig, ax = plt.subplots()\n",
    "df_sd_details['price_converted'].plot.hist(bins=5)\n",
    "ax.set_xlabel('Price ($)');"
   ]
  },
  {
   "cell_type": "code",
   "execution_count": 81,
   "metadata": {
    "ExecuteTime": {
     "end_time": "2021-05-13T21:55:23.429960Z",
     "start_time": "2021-05-13T21:55:23.174987Z"
    },
    "hidden": true
   },
   "outputs": [
    {
     "data": {
      "image/png": "[encoded data removed]",
      "text/plain": [
       "<Figure size 432x288 with 1 Axes>"
      ]
     },
     "metadata": {
      "needs_background": "light"
     },
     "output_type": "display_data"
    }
   ],
   "source": [
    "fig, ax = plt.subplots()\n",
    "df_sd_details['price_converted'].hist(bins=3, ax=ax)\n",
    "ax.set_xlabel('Price ($)');"
   ]
  },
  {
   "cell_type": "code",
   "execution_count": 84,
   "metadata": {
    "ExecuteTime": {
     "end_time": "2021-05-13T22:00:34.937978Z",
     "start_time": "2021-05-13T22:00:34.908163Z"
    },
    "hidden": true,
    "scrolled": false
   },
   "outputs": [
    {
     "data": {
      "text/html": [
       "<div>\n",
       "<style scoped>\n",
       "    .dataframe tbody tr th:only-of-type {\n",
       "        vertical-align: middle;\n",
       "    }\n",
       "\n",
       "    .dataframe tbody tr th {\n",
       "        vertical-align: top;\n",
       "    }\n",
       "\n",
       "    .dataframe thead th {\n",
       "        text-align: right;\n",
       "    }\n",
       "</style>\n",
       "<table border=\"1\" class=\"dataframe\">\n",
       "  <thead>\n",
       "    <tr style=\"text-align: right;\">\n",
       "      <th></th>\n",
       "      <th>rating</th>\n",
       "      <th>review_count</th>\n",
       "      <th>latitude</th>\n",
       "      <th>longitude</th>\n",
       "      <th>price_converted</th>\n",
       "    </tr>\n",
       "  </thead>\n",
       "  <tbody>\n",
       "    <tr>\n",
       "      <th>count</th>\n",
       "      <td>82.000000</td>\n",
       "      <td>82.000000</td>\n",
       "      <td>82.000000</td>\n",
       "      <td>82.000000</td>\n",
       "      <td>82.000000</td>\n",
       "    </tr>\n",
       "    <tr>\n",
       "      <th>mean</th>\n",
       "      <td>4.530488</td>\n",
       "      <td>63.646341</td>\n",
       "      <td>32.926059</td>\n",
       "      <td>-117.014344</td>\n",
       "      <td>1.975610</td>\n",
       "    </tr>\n",
       "    <tr>\n",
       "      <th>std</th>\n",
       "      <td>0.594977</td>\n",
       "      <td>102.761184</td>\n",
       "      <td>0.175643</td>\n",
       "      <td>0.146575</td>\n",
       "      <td>0.220863</td>\n",
       "    </tr>\n",
       "    <tr>\n",
       "      <th>min</th>\n",
       "      <td>1.000000</td>\n",
       "      <td>1.000000</td>\n",
       "      <td>32.512608</td>\n",
       "      <td>-117.302813</td>\n",
       "      <td>1.000000</td>\n",
       "    </tr>\n",
       "    <tr>\n",
       "      <th>25%</th>\n",
       "      <td>4.500000</td>\n",
       "      <td>7.000000</td>\n",
       "      <td>32.767187</td>\n",
       "      <td>-117.136315</td>\n",
       "      <td>2.000000</td>\n",
       "    </tr>\n",
       "    <tr>\n",
       "      <th>50%</th>\n",
       "      <td>4.500000</td>\n",
       "      <td>26.000000</td>\n",
       "      <td>33.020775</td>\n",
       "      <td>-117.017288</td>\n",
       "      <td>2.000000</td>\n",
       "    </tr>\n",
       "    <tr>\n",
       "      <th>75%</th>\n",
       "      <td>5.000000</td>\n",
       "      <td>93.250000</td>\n",
       "      <td>33.063279</td>\n",
       "      <td>-116.920717</td>\n",
       "      <td>2.000000</td>\n",
       "    </tr>\n",
       "    <tr>\n",
       "      <th>max</th>\n",
       "      <td>5.000000</td>\n",
       "      <td>626.000000</td>\n",
       "      <td>33.134743</td>\n",
       "      <td>-116.750704</td>\n",
       "      <td>3.000000</td>\n",
       "    </tr>\n",
       "  </tbody>\n",
       "</table>\n",
       "</div>"
      ],
      "text/plain": [
       "          rating  review_count   latitude   longitude  price_converted\n",
       "count  82.000000     82.000000  82.000000   82.000000        82.000000\n",
       "mean    4.530488     63.646341  32.926059 -117.014344         1.975610\n",
       "std     0.594977    102.761184   0.175643    0.146575         0.220863\n",
       "min     1.000000      1.000000  32.512608 -117.302813         1.000000\n",
       "25%     4.500000      7.000000  32.767187 -117.136315         2.000000\n",
       "50%     4.500000     26.000000  33.020775 -117.017288         2.000000\n",
       "75%     5.000000     93.250000  33.063279 -116.920717         2.000000\n",
       "max     5.000000    626.000000  33.134743 -116.750704         3.000000"
      ]
     },
     "execution_count": 84,
     "metadata": {},
     "output_type": "execute_result"
    }
   ],
   "source": [
    "describe_sd = df_sd_details.describe()\n",
    "describe_sd"
   ]
  },
  {
   "cell_type": "markdown",
   "metadata": {
    "heading_collapsed": true,
    "hidden": true
   },
   "source": [
    "### SD - Bad Plots"
   ]
  },
  {
   "cell_type": "code",
   "execution_count": 22,
   "metadata": {
    "ExecuteTime": {
     "end_time": "2021-05-13T19:11:07.608360Z",
     "start_time": "2021-05-13T19:11:05.853014Z"
    },
    "hidden": true,
    "scrolled": true
   },
   "outputs": [
    {
     "data": {
      "image/png": "[encoded data removed]",
      "text/plain": [
       "<Figure size 432x288 with 1 Axes>"
      ]
     },
     "metadata": {
      "needs_background": "light"
     },
     "output_type": "display_data"
    }
   ],
   "source": [
    "df_price_converted['rating'].plot(x = 'name', y = 'rating', kind=\"bar\", rot = 45);"
   ]
  },
  {
   "cell_type": "code",
   "execution_count": 46,
   "metadata": {
    "ExecuteTime": {
     "end_time": "2021-05-13T19:23:30.669336Z",
     "start_time": "2021-05-13T19:23:30.653593Z"
    },
    "hidden": true
   },
   "outputs": [
    {
     "data": {
      "text/html": [
       "<div>\n",
       "<style scoped>\n",
       "    .dataframe tbody tr th:only-of-type {\n",
       "        vertical-align: middle;\n",
       "    }\n",
       "\n",
       "    .dataframe tbody tr th {\n",
       "        vertical-align: top;\n",
       "    }\n",
       "\n",
       "    .dataframe thead th {\n",
       "        text-align: right;\n",
       "    }\n",
       "</style>\n",
       "<table border=\"1\" class=\"dataframe\">\n",
       "  <thead>\n",
       "    <tr style=\"text-align: right;\">\n",
       "      <th></th>\n",
       "      <th>rating</th>\n",
       "      <th>review_count</th>\n",
       "      <th>latitude</th>\n",
       "      <th>longitude</th>\n",
       "      <th>price_converted</th>\n",
       "    </tr>\n",
       "  </thead>\n",
       "  <tbody>\n",
       "    <tr>\n",
       "      <th>rating</th>\n",
       "      <td>1.000000</td>\n",
       "      <td>-0.092302</td>\n",
       "      <td>0.042171</td>\n",
       "      <td>0.220041</td>\n",
       "      <td>0.001892</td>\n",
       "    </tr>\n",
       "    <tr>\n",
       "      <th>review_count</th>\n",
       "      <td>-0.092302</td>\n",
       "      <td>1.000000</td>\n",
       "      <td>0.077012</td>\n",
       "      <td>-0.096238</td>\n",
       "      <td>0.348155</td>\n",
       "    </tr>\n",
       "    <tr>\n",
       "      <th>latitude</th>\n",
       "      <td>0.042171</td>\n",
       "      <td>0.077012</td>\n",
       "      <td>1.000000</td>\n",
       "      <td>0.254646</td>\n",
       "      <td>-0.115251</td>\n",
       "    </tr>\n",
       "    <tr>\n",
       "      <th>longitude</th>\n",
       "      <td>0.220041</td>\n",
       "      <td>-0.096238</td>\n",
       "      <td>0.254646</td>\n",
       "      <td>1.000000</td>\n",
       "      <td>0.150593</td>\n",
       "    </tr>\n",
       "    <tr>\n",
       "      <th>price_converted</th>\n",
       "      <td>0.001892</td>\n",
       "      <td>0.348155</td>\n",
       "      <td>-0.115251</td>\n",
       "      <td>0.150593</td>\n",
       "      <td>1.000000</td>\n",
       "    </tr>\n",
       "  </tbody>\n",
       "</table>\n",
       "</div>"
      ],
      "text/plain": [
       "                   rating  review_count  latitude  longitude  price_converted\n",
       "rating           1.000000     -0.092302  0.042171   0.220041         0.001892\n",
       "review_count    -0.092302      1.000000  0.077012  -0.096238         0.348155\n",
       "latitude         0.042171      0.077012  1.000000   0.254646        -0.115251\n",
       "longitude        0.220041     -0.096238  0.254646   1.000000         0.150593\n",
       "price_converted  0.001892      0.348155 -0.115251   0.150593         1.000000"
      ]
     },
     "execution_count": 46,
     "metadata": {},
     "output_type": "execute_result"
    }
   ],
   "source": [
    "pc_corr = df_price_converted.corr()\n",
    "pc_corr"
   ]
  },
  {
   "cell_type": "code",
   "execution_count": 50,
   "metadata": {
    "ExecuteTime": {
     "end_time": "2021-05-13T19:24:30.416944Z",
     "start_time": "2021-05-13T19:24:30.237449Z"
    },
    "hidden": true
   },
   "outputs": [
    {
     "data": {
      "image/png": "[encoded data removed]",
      "text/plain": [
       "<Figure size 432x288 with 1 Axes>"
      ]
     },
     "metadata": {
      "needs_background": "light"
     },
     "output_type": "display_data"
    }
   ],
   "source": [
    "pc_corr.plot('price_converted','rating', kind='bar');"
   ]
  },
  {
   "cell_type": "code",
   "execution_count": 10,
   "metadata": {
    "ExecuteTime": {
     "end_time": "2021-05-13T19:03:14.805450Z",
     "start_time": "2021-05-13T19:03:02.527653Z"
    },
    "hidden": true
   },
   "outputs": [
    {
     "data": {
      "image/png": "[encoded data removed]",
      "text/plain": [
       "<Figure size 432x288 with 20 Axes>"
      ]
     },
     "metadata": {
      "needs_background": "light"
     },
     "output_type": "display_data"
    }
   ],
   "source": [
    "df_price_converted.plot(kind=\"bar\", subplots=True, layout=(4,5))\n",
    "\n",
    "plt.tight_layout();"
   ]
  },
  {
   "cell_type": "code",
   "execution_count": 44,
   "metadata": {
    "ExecuteTime": {
     "end_time": "2021-05-13T19:21:03.281055Z",
     "start_time": "2021-05-13T19:21:02.925552Z"
    },
    "hidden": true
   },
   "outputs": [
    {
     "data": {
      "text/plain": [
       "<AxesSubplot:ylabel='Frequency'>"
      ]
     },
     "execution_count": 44,
     "metadata": {},
     "output_type": "execute_result"
    },
    {
     "data": {
      "image/png": "[encoded data removed]",
      "text/plain": [
       "<Figure size 432x288 with 1 Axes>"
      ]
     },
     "metadata": {
      "needs_background": "light"
     },
     "output_type": "display_data"
    }
   ],
   "source": [
    "df_price_converted.plot(kind='hist')"
   ]
  },
  {
   "cell_type": "markdown",
   "metadata": {
    "hidden": true
   },
   "source": [
    "## EDA: San Diego Reviews"
   ]
  },
  {
   "cell_type": "markdown",
   "metadata": {
    "heading_collapsed": true,
    "hidden": true
   },
   "source": [
    "## EDA: Napa Valley Business Details"
   ]
  },
  {
   "cell_type": "code",
   "execution_count": 27,
   "metadata": {
    "ExecuteTime": {
     "end_time": "2021-05-13T21:31:05.826435Z",
     "start_time": "2021-05-13T21:31:05.808831Z"
    },
    "hidden": true
   },
   "outputs": [
    {
     "data": {
      "text/html": [
       "<div>\n",
       "<style scoped>\n",
       "    .dataframe tbody tr th:only-of-type {\n",
       "        vertical-align: middle;\n",
       "    }\n",
       "\n",
       "    .dataframe tbody tr th {\n",
       "        vertical-align: top;\n",
       "    }\n",
       "\n",
       "    .dataframe thead th {\n",
       "        text-align: right;\n",
       "    }\n",
       "</style>\n",
       "<table border=\"1\" class=\"dataframe\">\n",
       "  <thead>\n",
       "    <tr style=\"text-align: right;\">\n",
       "      <th></th>\n",
       "      <th>name</th>\n",
       "      <th>location</th>\n",
       "      <th>Business ID</th>\n",
       "      <th>alias</th>\n",
       "      <th>title</th>\n",
       "      <th>rating</th>\n",
       "      <th>review_count</th>\n",
       "      <th>price</th>\n",
       "      <th>latitude</th>\n",
       "      <th>longitude</th>\n",
       "      <th>price_converted</th>\n",
       "    </tr>\n",
       "  </thead>\n",
       "  <tbody>\n",
       "    <tr>\n",
       "      <th>0</th>\n",
       "      <td>Hendry Vineyard and Winery</td>\n",
       "      <td>3104 Redwood Rd Napa, CA 94558</td>\n",
       "      <td>mO8n3zTLoFhlmcfQr7X_TQ</td>\n",
       "      <td>wineries</td>\n",
       "      <td>Wineries</td>\n",
       "      <td>5.0</td>\n",
       "      <td>658</td>\n",
       "      <td>$$</td>\n",
       "      <td>38.321680</td>\n",
       "      <td>-122.344810</td>\n",
       "      <td>2</td>\n",
       "    </tr>\n",
       "    <tr>\n",
       "      <th>1</th>\n",
       "      <td>Domaine Carneros</td>\n",
       "      <td>1240 Duhig Rd Napa, CA 94559</td>\n",
       "      <td>8eGTOeEQpUpYb89ISug3ag</td>\n",
       "      <td>wineries</td>\n",
       "      <td>Wineries</td>\n",
       "      <td>4.0</td>\n",
       "      <td>2239</td>\n",
       "      <td>$$</td>\n",
       "      <td>38.255534</td>\n",
       "      <td>-122.351391</td>\n",
       "      <td>2</td>\n",
       "    </tr>\n",
       "    <tr>\n",
       "      <th>2</th>\n",
       "      <td>Paraduxx Winery</td>\n",
       "      <td>7257 Silverado Trl Napa, CA 94558</td>\n",
       "      <td>cBFZALrZbLV5XBsiPcgknQ</td>\n",
       "      <td>wineries</td>\n",
       "      <td>Wineries</td>\n",
       "      <td>4.5</td>\n",
       "      <td>373</td>\n",
       "      <td>$$</td>\n",
       "      <td>38.435480</td>\n",
       "      <td>-122.351430</td>\n",
       "      <td>2</td>\n",
       "    </tr>\n",
       "    <tr>\n",
       "      <th>3</th>\n",
       "      <td>Jarvis Winery</td>\n",
       "      <td>2970 Monticello Rd Napa, CA 94558</td>\n",
       "      <td>NPkAqW68Og5eBofEpPiRXQ</td>\n",
       "      <td>wineries</td>\n",
       "      <td>Wineries</td>\n",
       "      <td>4.5</td>\n",
       "      <td>209</td>\n",
       "      <td>$$$</td>\n",
       "      <td>38.357010</td>\n",
       "      <td>-122.213620</td>\n",
       "      <td>3</td>\n",
       "    </tr>\n",
       "    <tr>\n",
       "      <th>4</th>\n",
       "      <td>White Rock Vineyards</td>\n",
       "      <td>1112 Loma Vista Dr Napa, CA 94558</td>\n",
       "      <td>shbhrTpVLOdql8hNGC9NDw</td>\n",
       "      <td>wineries</td>\n",
       "      <td>Wineries</td>\n",
       "      <td>5.0</td>\n",
       "      <td>55</td>\n",
       "      <td>$$</td>\n",
       "      <td>38.377683</td>\n",
       "      <td>-122.286565</td>\n",
       "      <td>2</td>\n",
       "    </tr>\n",
       "  </tbody>\n",
       "</table>\n",
       "</div>"
      ],
      "text/plain": [
       "                         name                           location  \\\n",
       "0  Hendry Vineyard and Winery     3104 Redwood Rd Napa, CA 94558   \n",
       "1            Domaine Carneros       1240 Duhig Rd Napa, CA 94559   \n",
       "2             Paraduxx Winery  7257 Silverado Trl Napa, CA 94558   \n",
       "3               Jarvis Winery  2970 Monticello Rd Napa, CA 94558   \n",
       "4        White Rock Vineyards  1112 Loma Vista Dr Napa, CA 94558   \n",
       "\n",
       "              Business ID     alias     title  rating  review_count price  \\\n",
       "0  mO8n3zTLoFhlmcfQr7X_TQ  wineries  Wineries     5.0           658    $$   \n",
       "1  8eGTOeEQpUpYb89ISug3ag  wineries  Wineries     4.0          2239    $$   \n",
       "2  cBFZALrZbLV5XBsiPcgknQ  wineries  Wineries     4.5           373    $$   \n",
       "3  NPkAqW68Og5eBofEpPiRXQ  wineries  Wineries     4.5           209   $$$   \n",
       "4  shbhrTpVLOdql8hNGC9NDw  wineries  Wineries     5.0            55    $$   \n",
       "\n",
       "    latitude   longitude  price_converted  \n",
       "0  38.321680 -122.344810                2  \n",
       "1  38.255534 -122.351391                2  \n",
       "2  38.435480 -122.351430                2  \n",
       "3  38.357010 -122.213620                3  \n",
       "4  38.377683 -122.286565                2  "
      ]
     },
     "execution_count": 27,
     "metadata": {},
     "output_type": "execute_result"
    }
   ],
   "source": [
    "df_nv_details.head()"
   ]
  },
  {
   "cell_type": "code",
   "execution_count": 28,
   "metadata": {
    "ExecuteTime": {
     "end_time": "2021-05-13T21:31:06.526106Z",
     "start_time": "2021-05-13T21:31:06.507457Z"
    },
    "hidden": true
   },
   "outputs": [
    {
     "data": {
      "text/plain": [
       "name                 0\n",
       "location             0\n",
       "Business ID          0\n",
       "alias                0\n",
       "title                0\n",
       "rating               0\n",
       "review_count         0\n",
       "price              166\n",
       "latitude             0\n",
       "longitude            0\n",
       "price_converted      0\n",
       "dtype: int64"
      ]
     },
     "execution_count": 28,
     "metadata": {},
     "output_type": "execute_result"
    }
   ],
   "source": [
    "# Check for null values\n",
    "\n",
    "df_nv_details.isna().sum()"
   ]
  },
  {
   "cell_type": "code",
   "execution_count": 29,
   "metadata": {
    "ExecuteTime": {
     "end_time": "2021-05-13T21:31:10.323128Z",
     "start_time": "2021-05-13T21:31:10.315121Z"
    },
    "hidden": true
   },
   "outputs": [
    {
     "data": {
      "text/plain": [
       "$$      156\n",
       "$$$      61\n",
       "$$$$     16\n",
       "$         4\n",
       "Name: price, dtype: int64"
      ]
     },
     "execution_count": 29,
     "metadata": {},
     "output_type": "execute_result"
    }
   ],
   "source": [
    "# Determine if best to fill those values\n",
    "df_nv_details['price'].value_counts()"
   ]
  },
  {
   "cell_type": "code",
   "execution_count": 59,
   "metadata": {
    "ExecuteTime": {
     "end_time": "2021-05-13T21:37:45.578021Z",
     "start_time": "2021-05-13T21:37:45.572015Z"
    },
    "hidden": true
   },
   "outputs": [
    {
     "name": "stdout",
     "output_type": "stream",
     "text": [
      "2.3755274261603376\n",
      "2.0\n"
     ]
    }
   ],
   "source": [
    "nv_not_zero = df_nv_details[df_nv_details['price_converted'] > 0]\n",
    "nv_price_mean = nv_not_zero['price_converted'].agg('mean')\n",
    "print(nv_price_mean)\n",
    "nv_price_median = nv_not_zero['price_converted'].agg('median')\n",
    "print(nv_price_median)"
   ]
  },
  {
   "cell_type": "code",
   "execution_count": 61,
   "metadata": {
    "ExecuteTime": {
     "end_time": "2021-05-13T21:42:27.026373Z",
     "start_time": "2021-05-13T21:42:27.014893Z"
    },
    "hidden": true
   },
   "outputs": [
    {
     "data": {
      "text/plain": [
       "name               0\n",
       "location           0\n",
       "Business ID        0\n",
       "alias              0\n",
       "title              0\n",
       "rating             0\n",
       "review_count       0\n",
       "price              0\n",
       "latitude           0\n",
       "longitude          0\n",
       "price_converted    0\n",
       "dtype: int64"
      ]
     },
     "execution_count": 61,
     "metadata": {},
     "output_type": "execute_result"
    }
   ],
   "source": [
    "# Fill with \"$$\", representing the majority of the data\n",
    "df_nv_details['price'].fillna(value=\"$$\", inplace=True)\n",
    "\n",
    "## Confirm all NaN are fixed\n",
    "df_nv_details.isna().sum()"
   ]
  },
  {
   "cell_type": "code",
   "execution_count": 62,
   "metadata": {
    "ExecuteTime": {
     "end_time": "2021-05-13T21:42:35.971436Z",
     "start_time": "2021-05-13T21:42:35.960428Z"
    },
    "code_folding": [],
    "hidden": true
   },
   "outputs": [],
   "source": [
    "# Add prior converter function for updated price values\n",
    "def convert_price(dataframe):\n",
    "    ''' - Requires a dataframe with the 'price' column elements being NaN,\n",
    "    $, $$, $$$, $$$$, or $$$$$.\n",
    "    - Takes a pre-existing dataframe and adds a column to store the \\\n",
    "    conversion from $ to an integer.'''\n",
    "    \n",
    "    # Converting $s to integers, then saving to new column.\n",
    "    dataframe['price_converted'] = dataframe.loc[:,'price'] \\\n",
    "    .map({np.nan:0, '$':1, '$$':2, '$$$':3, '$$$$':4, '$$$$$':5})\n",
    "    \n",
    "    return dataframe"
   ]
  },
  {
   "cell_type": "code",
   "execution_count": 63,
   "metadata": {
    "ExecuteTime": {
     "end_time": "2021-05-13T21:42:36.343659Z",
     "start_time": "2021-05-13T21:42:36.304580Z"
    },
    "hidden": true
   },
   "outputs": [
    {
     "data": {
      "text/html": [
       "<div>\n",
       "<style scoped>\n",
       "    .dataframe tbody tr th:only-of-type {\n",
       "        vertical-align: middle;\n",
       "    }\n",
       "\n",
       "    .dataframe tbody tr th {\n",
       "        vertical-align: top;\n",
       "    }\n",
       "\n",
       "    .dataframe thead th {\n",
       "        text-align: right;\n",
       "    }\n",
       "</style>\n",
       "<table border=\"1\" class=\"dataframe\">\n",
       "  <thead>\n",
       "    <tr style=\"text-align: right;\">\n",
       "      <th></th>\n",
       "      <th>name</th>\n",
       "      <th>location</th>\n",
       "      <th>Business ID</th>\n",
       "      <th>alias</th>\n",
       "      <th>title</th>\n",
       "      <th>rating</th>\n",
       "      <th>review_count</th>\n",
       "      <th>price</th>\n",
       "      <th>latitude</th>\n",
       "      <th>longitude</th>\n",
       "      <th>price_converted</th>\n",
       "    </tr>\n",
       "  </thead>\n",
       "  <tbody>\n",
       "    <tr>\n",
       "      <th>0</th>\n",
       "      <td>Hendry Vineyard and Winery</td>\n",
       "      <td>3104 Redwood Rd Napa, CA 94558</td>\n",
       "      <td>mO8n3zTLoFhlmcfQr7X_TQ</td>\n",
       "      <td>wineries</td>\n",
       "      <td>Wineries</td>\n",
       "      <td>5.0</td>\n",
       "      <td>658</td>\n",
       "      <td>$$</td>\n",
       "      <td>38.321680</td>\n",
       "      <td>-122.344810</td>\n",
       "      <td>2</td>\n",
       "    </tr>\n",
       "    <tr>\n",
       "      <th>1</th>\n",
       "      <td>Domaine Carneros</td>\n",
       "      <td>1240 Duhig Rd Napa, CA 94559</td>\n",
       "      <td>8eGTOeEQpUpYb89ISug3ag</td>\n",
       "      <td>wineries</td>\n",
       "      <td>Wineries</td>\n",
       "      <td>4.0</td>\n",
       "      <td>2239</td>\n",
       "      <td>$$</td>\n",
       "      <td>38.255534</td>\n",
       "      <td>-122.351391</td>\n",
       "      <td>2</td>\n",
       "    </tr>\n",
       "    <tr>\n",
       "      <th>2</th>\n",
       "      <td>Paraduxx Winery</td>\n",
       "      <td>7257 Silverado Trl Napa, CA 94558</td>\n",
       "      <td>cBFZALrZbLV5XBsiPcgknQ</td>\n",
       "      <td>wineries</td>\n",
       "      <td>Wineries</td>\n",
       "      <td>4.5</td>\n",
       "      <td>373</td>\n",
       "      <td>$$</td>\n",
       "      <td>38.435480</td>\n",
       "      <td>-122.351430</td>\n",
       "      <td>2</td>\n",
       "    </tr>\n",
       "    <tr>\n",
       "      <th>3</th>\n",
       "      <td>Jarvis Winery</td>\n",
       "      <td>2970 Monticello Rd Napa, CA 94558</td>\n",
       "      <td>NPkAqW68Og5eBofEpPiRXQ</td>\n",
       "      <td>wineries</td>\n",
       "      <td>Wineries</td>\n",
       "      <td>4.5</td>\n",
       "      <td>209</td>\n",
       "      <td>$$$</td>\n",
       "      <td>38.357010</td>\n",
       "      <td>-122.213620</td>\n",
       "      <td>3</td>\n",
       "    </tr>\n",
       "    <tr>\n",
       "      <th>4</th>\n",
       "      <td>White Rock Vineyards</td>\n",
       "      <td>1112 Loma Vista Dr Napa, CA 94558</td>\n",
       "      <td>shbhrTpVLOdql8hNGC9NDw</td>\n",
       "      <td>wineries</td>\n",
       "      <td>Wineries</td>\n",
       "      <td>5.0</td>\n",
       "      <td>55</td>\n",
       "      <td>$$</td>\n",
       "      <td>38.377683</td>\n",
       "      <td>-122.286565</td>\n",
       "      <td>2</td>\n",
       "    </tr>\n",
       "    <tr>\n",
       "      <th>...</th>\n",
       "      <td>...</td>\n",
       "      <td>...</td>\n",
       "      <td>...</td>\n",
       "      <td>...</td>\n",
       "      <td>...</td>\n",
       "      <td>...</td>\n",
       "      <td>...</td>\n",
       "      <td>...</td>\n",
       "      <td>...</td>\n",
       "      <td>...</td>\n",
       "      <td>...</td>\n",
       "    </tr>\n",
       "    <tr>\n",
       "      <th>398</th>\n",
       "      <td>Andretti Winery</td>\n",
       "      <td>1625 Trancas St NAPA, CA 94558</td>\n",
       "      <td>NKCMqIlRopcSMA15JpeyJg</td>\n",
       "      <td>wineries</td>\n",
       "      <td>Wineries</td>\n",
       "      <td>3.5</td>\n",
       "      <td>311</td>\n",
       "      <td>$$</td>\n",
       "      <td>38.321516</td>\n",
       "      <td>-122.304108</td>\n",
       "      <td>2</td>\n",
       "    </tr>\n",
       "    <tr>\n",
       "      <th>399</th>\n",
       "      <td>Lionstone International</td>\n",
       "      <td>21481 8th St E Sonoma, CA 95476</td>\n",
       "      <td>pW9QPUkm2_tTXLCzyQ6qvg</td>\n",
       "      <td>wineries</td>\n",
       "      <td>Wineries</td>\n",
       "      <td>1.0</td>\n",
       "      <td>1</td>\n",
       "      <td>$$</td>\n",
       "      <td>38.262062</td>\n",
       "      <td>-122.442036</td>\n",
       "      <td>2</td>\n",
       "    </tr>\n",
       "    <tr>\n",
       "      <th>400</th>\n",
       "      <td>Napa Vinyards</td>\n",
       "      <td>Napa, CA 94558</td>\n",
       "      <td>UwgQWRkTzlFnw3-QYCaBlQ</td>\n",
       "      <td>wineries</td>\n",
       "      <td>Wineries</td>\n",
       "      <td>1.0</td>\n",
       "      <td>1</td>\n",
       "      <td>$$</td>\n",
       "      <td>38.383260</td>\n",
       "      <td>-122.313060</td>\n",
       "      <td>2</td>\n",
       "    </tr>\n",
       "    <tr>\n",
       "      <th>401</th>\n",
       "      <td>Cook Vinyard Management</td>\n",
       "      <td>19626 Eighth St E Sonoma, CA 95476</td>\n",
       "      <td>LxMkyxBokxu6iRIsuMF5Tw</td>\n",
       "      <td>wineries</td>\n",
       "      <td>Wineries</td>\n",
       "      <td>1.0</td>\n",
       "      <td>1</td>\n",
       "      <td>$$</td>\n",
       "      <td>38.286261</td>\n",
       "      <td>-122.434893</td>\n",
       "      <td>2</td>\n",
       "    </tr>\n",
       "    <tr>\n",
       "      <th>402</th>\n",
       "      <td>Top It Off Bottling</td>\n",
       "      <td>21481 8th St E Ste 1 Sonoma, CA 95476</td>\n",
       "      <td>Jt-VYmagp5ETW1v_G_Ae0g</td>\n",
       "      <td>wineries</td>\n",
       "      <td>Wineries</td>\n",
       "      <td>1.0</td>\n",
       "      <td>2</td>\n",
       "      <td>$$</td>\n",
       "      <td>38.262480</td>\n",
       "      <td>-122.442070</td>\n",
       "      <td>2</td>\n",
       "    </tr>\n",
       "  </tbody>\n",
       "</table>\n",
       "<p>403 rows × 11 columns</p>\n",
       "</div>"
      ],
      "text/plain": [
       "                           name                               location  \\\n",
       "0    Hendry Vineyard and Winery         3104 Redwood Rd Napa, CA 94558   \n",
       "1              Domaine Carneros           1240 Duhig Rd Napa, CA 94559   \n",
       "2               Paraduxx Winery      7257 Silverado Trl Napa, CA 94558   \n",
       "3                 Jarvis Winery      2970 Monticello Rd Napa, CA 94558   \n",
       "4          White Rock Vineyards      1112 Loma Vista Dr Napa, CA 94558   \n",
       "..                          ...                                    ...   \n",
       "398             Andretti Winery         1625 Trancas St NAPA, CA 94558   \n",
       "399     Lionstone International        21481 8th St E Sonoma, CA 95476   \n",
       "400               Napa Vinyards                         Napa, CA 94558   \n",
       "401     Cook Vinyard Management     19626 Eighth St E Sonoma, CA 95476   \n",
       "402         Top It Off Bottling  21481 8th St E Ste 1 Sonoma, CA 95476   \n",
       "\n",
       "                Business ID     alias     title  rating  review_count price  \\\n",
       "0    mO8n3zTLoFhlmcfQr7X_TQ  wineries  Wineries     5.0           658    $$   \n",
       "1    8eGTOeEQpUpYb89ISug3ag  wineries  Wineries     4.0          2239    $$   \n",
       "2    cBFZALrZbLV5XBsiPcgknQ  wineries  Wineries     4.5           373    $$   \n",
       "3    NPkAqW68Og5eBofEpPiRXQ  wineries  Wineries     4.5           209   $$$   \n",
       "4    shbhrTpVLOdql8hNGC9NDw  wineries  Wineries     5.0            55    $$   \n",
       "..                      ...       ...       ...     ...           ...   ...   \n",
       "398  NKCMqIlRopcSMA15JpeyJg  wineries  Wineries     3.5           311    $$   \n",
       "399  pW9QPUkm2_tTXLCzyQ6qvg  wineries  Wineries     1.0             1    $$   \n",
       "400  UwgQWRkTzlFnw3-QYCaBlQ  wineries  Wineries     1.0             1    $$   \n",
       "401  LxMkyxBokxu6iRIsuMF5Tw  wineries  Wineries     1.0             1    $$   \n",
       "402  Jt-VYmagp5ETW1v_G_Ae0g  wineries  Wineries     1.0             2    $$   \n",
       "\n",
       "      latitude   longitude  price_converted  \n",
       "0    38.321680 -122.344810                2  \n",
       "1    38.255534 -122.351391                2  \n",
       "2    38.435480 -122.351430                2  \n",
       "3    38.357010 -122.213620                3  \n",
       "4    38.377683 -122.286565                2  \n",
       "..         ...         ...              ...  \n",
       "398  38.321516 -122.304108                2  \n",
       "399  38.262062 -122.442036                2  \n",
       "400  38.383260 -122.313060                2  \n",
       "401  38.286261 -122.434893                2  \n",
       "402  38.262480 -122.442070                2  \n",
       "\n",
       "[403 rows x 11 columns]"
      ]
     },
     "execution_count": 63,
     "metadata": {},
     "output_type": "execute_result"
    }
   ],
   "source": [
    "# Run function to correct for any \"0\" values in 'price_converted' column\n",
    "convert_price(df_nv_details)"
   ]
  },
  {
   "cell_type": "code",
   "execution_count": 64,
   "metadata": {
    "ExecuteTime": {
     "end_time": "2021-05-13T21:42:39.614179Z",
     "start_time": "2021-05-13T21:42:39.576347Z"
    },
    "hidden": true
   },
   "outputs": [
    {
     "data": {
      "text/html": [
       "<div>\n",
       "<style scoped>\n",
       "    .dataframe tbody tr th:only-of-type {\n",
       "        vertical-align: middle;\n",
       "    }\n",
       "\n",
       "    .dataframe tbody tr th {\n",
       "        vertical-align: top;\n",
       "    }\n",
       "\n",
       "    .dataframe thead th {\n",
       "        text-align: right;\n",
       "    }\n",
       "</style>\n",
       "<table border=\"1\" class=\"dataframe\">\n",
       "  <thead>\n",
       "    <tr style=\"text-align: right;\">\n",
       "      <th></th>\n",
       "      <th>rating</th>\n",
       "      <th>review_count</th>\n",
       "      <th>latitude</th>\n",
       "      <th>longitude</th>\n",
       "      <th>price_converted</th>\n",
       "    </tr>\n",
       "  </thead>\n",
       "  <tbody>\n",
       "    <tr>\n",
       "      <th>count</th>\n",
       "      <td>403.000000</td>\n",
       "      <td>403.000000</td>\n",
       "      <td>403.000000</td>\n",
       "      <td>403.000000</td>\n",
       "      <td>403.000000</td>\n",
       "    </tr>\n",
       "    <tr>\n",
       "      <th>mean</th>\n",
       "      <td>4.558313</td>\n",
       "      <td>85.310174</td>\n",
       "      <td>38.329524</td>\n",
       "      <td>-122.334085</td>\n",
       "      <td>2.220844</td>\n",
       "    </tr>\n",
       "    <tr>\n",
       "      <th>std</th>\n",
       "      <td>0.696258</td>\n",
       "      <td>195.505406</td>\n",
       "      <td>0.069026</td>\n",
       "      <td>0.078398</td>\n",
       "      <td>0.521538</td>\n",
       "    </tr>\n",
       "    <tr>\n",
       "      <th>min</th>\n",
       "      <td>1.000000</td>\n",
       "      <td>1.000000</td>\n",
       "      <td>38.150444</td>\n",
       "      <td>-122.494690</td>\n",
       "      <td>1.000000</td>\n",
       "    </tr>\n",
       "    <tr>\n",
       "      <th>25%</th>\n",
       "      <td>4.500000</td>\n",
       "      <td>3.000000</td>\n",
       "      <td>38.288946</td>\n",
       "      <td>-122.396858</td>\n",
       "      <td>2.000000</td>\n",
       "    </tr>\n",
       "    <tr>\n",
       "      <th>50%</th>\n",
       "      <td>5.000000</td>\n",
       "      <td>14.000000</td>\n",
       "      <td>38.317054</td>\n",
       "      <td>-122.317486</td>\n",
       "      <td>2.000000</td>\n",
       "    </tr>\n",
       "    <tr>\n",
       "      <th>75%</th>\n",
       "      <td>5.000000</td>\n",
       "      <td>73.500000</td>\n",
       "      <td>38.387639</td>\n",
       "      <td>-122.286800</td>\n",
       "      <td>2.000000</td>\n",
       "    </tr>\n",
       "    <tr>\n",
       "      <th>max</th>\n",
       "      <td>5.000000</td>\n",
       "      <td>2239.000000</td>\n",
       "      <td>38.465419</td>\n",
       "      <td>-122.101645</td>\n",
       "      <td>4.000000</td>\n",
       "    </tr>\n",
       "  </tbody>\n",
       "</table>\n",
       "</div>"
      ],
      "text/plain": [
       "           rating  review_count    latitude   longitude  price_converted\n",
       "count  403.000000    403.000000  403.000000  403.000000       403.000000\n",
       "mean     4.558313     85.310174   38.329524 -122.334085         2.220844\n",
       "std      0.696258    195.505406    0.069026    0.078398         0.521538\n",
       "min      1.000000      1.000000   38.150444 -122.494690         1.000000\n",
       "25%      4.500000      3.000000   38.288946 -122.396858         2.000000\n",
       "50%      5.000000     14.000000   38.317054 -122.317486         2.000000\n",
       "75%      5.000000     73.500000   38.387639 -122.286800         2.000000\n",
       "max      5.000000   2239.000000   38.465419 -122.101645         4.000000"
      ]
     },
     "execution_count": 64,
     "metadata": {},
     "output_type": "execute_result"
    }
   ],
   "source": [
    "df_nv_details.describe()"
   ]
  },
  {
   "cell_type": "markdown",
   "metadata": {
    "ExecuteTime": {
     "end_time": "2021-05-13T21:29:22.624418Z",
     "start_time": "2021-05-13T21:29:22.613387Z"
    },
    "hidden": true
   },
   "source": [
    "## EDA: Napa Valley Review Details"
   ]
  },
  {
   "cell_type": "markdown",
   "metadata": {
    "ExecuteTime": {
     "end_time": "2021-05-13T23:04:31.705080Z",
     "start_time": "2021-05-13T23:04:31.699078Z"
    }
   },
   "source": [
    "# EDA: Combined Cities - Business Details"
   ]
  },
  {
   "cell_type": "code",
   "execution_count": 108,
   "metadata": {
    "ExecuteTime": {
     "end_time": "2021-05-13T23:05:23.610010Z",
     "start_time": "2021-05-13T23:05:23.591006Z"
    }
   },
   "outputs": [
    {
     "data": {
      "text/html": [
       "<div>\n",
       "<style scoped>\n",
       "    .dataframe tbody tr th:only-of-type {\n",
       "        vertical-align: middle;\n",
       "    }\n",
       "\n",
       "    .dataframe tbody tr th {\n",
       "        vertical-align: top;\n",
       "    }\n",
       "\n",
       "    .dataframe thead th {\n",
       "        text-align: right;\n",
       "    }\n",
       "</style>\n",
       "<table border=\"1\" class=\"dataframe\">\n",
       "  <thead>\n",
       "    <tr style=\"text-align: right;\">\n",
       "      <th></th>\n",
       "      <th>name</th>\n",
       "      <th>location</th>\n",
       "      <th>Business ID</th>\n",
       "      <th>alias</th>\n",
       "      <th>title</th>\n",
       "      <th>rating</th>\n",
       "      <th>review_count</th>\n",
       "      <th>price</th>\n",
       "      <th>latitude</th>\n",
       "      <th>longitude</th>\n",
       "      <th>price_converted</th>\n",
       "      <th>City</th>\n",
       "    </tr>\n",
       "  </thead>\n",
       "  <tbody>\n",
       "    <tr>\n",
       "      <th>0</th>\n",
       "      <td>Bernardo Winery</td>\n",
       "      <td>13330 Paseo Del Verano Norte San Diego, CA 92128</td>\n",
       "      <td>DknnpiG1p4OoM1maFshzXA</td>\n",
       "      <td>winetastingroom</td>\n",
       "      <td>Wine Tasting Room</td>\n",
       "      <td>4.5</td>\n",
       "      <td>626</td>\n",
       "      <td>$$</td>\n",
       "      <td>33.032800</td>\n",
       "      <td>-117.046460</td>\n",
       "      <td>2</td>\n",
       "      <td>San Diego</td>\n",
       "    </tr>\n",
       "    <tr>\n",
       "      <th>1</th>\n",
       "      <td>Callaway Vineyard &amp; Winery</td>\n",
       "      <td>517 4th Ave Ste 101 San Diego, CA 92101</td>\n",
       "      <td>Cn2_bpTngghYW1ej4zreZg</td>\n",
       "      <td>winetastingroom</td>\n",
       "      <td>Wine Tasting Room</td>\n",
       "      <td>5.0</td>\n",
       "      <td>100</td>\n",
       "      <td>$$</td>\n",
       "      <td>32.710751</td>\n",
       "      <td>-117.160918</td>\n",
       "      <td>2</td>\n",
       "      <td>San Diego</td>\n",
       "    </tr>\n",
       "    <tr>\n",
       "      <th>2</th>\n",
       "      <td>Négociant Winery</td>\n",
       "      <td>2419 El Cajon Blvd San Diego, CA 92104</td>\n",
       "      <td>Cc1sQWRWgGyMCjzX2mmMQQ</td>\n",
       "      <td>winetastingroom</td>\n",
       "      <td>Wine Tasting Room</td>\n",
       "      <td>4.5</td>\n",
       "      <td>103</td>\n",
       "      <td>$$</td>\n",
       "      <td>32.754880</td>\n",
       "      <td>-117.138280</td>\n",
       "      <td>2</td>\n",
       "      <td>San Diego</td>\n",
       "    </tr>\n",
       "    <tr>\n",
       "      <th>3</th>\n",
       "      <td>San Pasqual Winery - Seaport Village</td>\n",
       "      <td>805 W Harbor Dr San Diego, CA 92101</td>\n",
       "      <td>gMW1RvyLu90RSQAY9UrIHw</td>\n",
       "      <td>winetastingroom</td>\n",
       "      <td>Wine Tasting Room</td>\n",
       "      <td>4.5</td>\n",
       "      <td>138</td>\n",
       "      <td>$$</td>\n",
       "      <td>32.708732</td>\n",
       "      <td>-117.168195</td>\n",
       "      <td>2</td>\n",
       "      <td>San Diego</td>\n",
       "    </tr>\n",
       "    <tr>\n",
       "      <th>4</th>\n",
       "      <td>Domaine Artefact Vineyard &amp; Winery</td>\n",
       "      <td>15404 Highland Valley Rd Escondido, CA 92025</td>\n",
       "      <td>WqVbxY77Ag96X90LultCUw</td>\n",
       "      <td>wineries</td>\n",
       "      <td>Wineries</td>\n",
       "      <td>5.0</td>\n",
       "      <td>96</td>\n",
       "      <td>$$</td>\n",
       "      <td>33.068170</td>\n",
       "      <td>-117.001600</td>\n",
       "      <td>2</td>\n",
       "      <td>San Diego</td>\n",
       "    </tr>\n",
       "  </tbody>\n",
       "</table>\n",
       "</div>"
      ],
      "text/plain": [
       "                                   name  \\\n",
       "0                       Bernardo Winery   \n",
       "1            Callaway Vineyard & Winery   \n",
       "2                      Négociant Winery   \n",
       "3  San Pasqual Winery - Seaport Village   \n",
       "4    Domaine Artefact Vineyard & Winery   \n",
       "\n",
       "                                           location             Business ID  \\\n",
       "0  13330 Paseo Del Verano Norte San Diego, CA 92128  DknnpiG1p4OoM1maFshzXA   \n",
       "1           517 4th Ave Ste 101 San Diego, CA 92101  Cn2_bpTngghYW1ej4zreZg   \n",
       "2            2419 El Cajon Blvd San Diego, CA 92104  Cc1sQWRWgGyMCjzX2mmMQQ   \n",
       "3               805 W Harbor Dr San Diego, CA 92101  gMW1RvyLu90RSQAY9UrIHw   \n",
       "4      15404 Highland Valley Rd Escondido, CA 92025  WqVbxY77Ag96X90LultCUw   \n",
       "\n",
       "             alias              title  rating  review_count price   latitude  \\\n",
       "0  winetastingroom  Wine Tasting Room     4.5           626    $$  33.032800   \n",
       "1  winetastingroom  Wine Tasting Room     5.0           100    $$  32.710751   \n",
       "2  winetastingroom  Wine Tasting Room     4.5           103    $$  32.754880   \n",
       "3  winetastingroom  Wine Tasting Room     4.5           138    $$  32.708732   \n",
       "4         wineries           Wineries     5.0            96    $$  33.068170   \n",
       "\n",
       "    longitude  price_converted       City  \n",
       "0 -117.046460                2  San Diego  \n",
       "1 -117.160918                2  San Diego  \n",
       "2 -117.138280                2  San Diego  \n",
       "3 -117.168195                2  San Diego  \n",
       "4 -117.001600                2  San Diego  "
      ]
     },
     "execution_count": 108,
     "metadata": {},
     "output_type": "execute_result"
    }
   ],
   "source": [
    "combined.head()"
   ]
  },
  {
   "cell_type": "code",
   "execution_count": null,
   "metadata": {},
   "outputs": [],
   "source": []
  }
 ],
 "metadata": {
  "kernelspec": {
   "display_name": "Python (learn-env-bmc)",
   "language": "python",
   "name": "learn-env-bmc"
  },
  "language_info": {
   "codemirror_mode": {
    "name": "ipython",
    "version": 3
   },
   "file_extension": ".py",
   "mimetype": "text/x-python",
   "name": "python",
   "nbconvert_exporter": "python",
   "pygments_lexer": "ipython3",
   "version": "3.8.5"
  },
  "toc": {
   "base_numbering": 1,
   "nav_menu": {},
   "number_sections": true,
   "sideBar": true,
   "skip_h1_title": false,
   "title_cell": "Table of Contents",
   "title_sidebar": "Contents",
   "toc_cell": false,
   "toc_position": {},
   "toc_section_display": true,
   "toc_window_display": true
  },
  "varInspector": {
   "cols": {
    "lenName": "32",
    "lenType": 16,
    "lenVar": 40
   },
   "kernels_config": {
    "python": {
     "delete_cmd_postfix": "",
     "delete_cmd_prefix": "del ",
     "library": "var_list.py",
     "varRefreshCmd": "print(var_dic_list())"
    },
    "r": {
     "delete_cmd_postfix": ") ",
     "delete_cmd_prefix": "rm(",
     "library": "var_list.r",
     "varRefreshCmd": "cat(var_dic_list()) "
    }
   },
   "types_to_exclude": [
    "module",
    "function",
    "builtin_function_or_method",
    "instance",
    "_Feature"
   ],
   "window_display": false
  }
 },
 "nbformat": 4,
 "nbformat_minor": 4
}
