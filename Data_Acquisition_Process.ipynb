{
 "cells": [
  {
   "cell_type": "markdown",
   "metadata": {},
   "source": [
    "# Getting Your Data From Yelp!"
   ]
  },
  {
   "cell_type": "markdown",
   "metadata": {},
   "source": [
    "In order to make sure you are on track to completing the project, you will complete this workbook first. Below are steps that you need to take in order to make sure you have your data from yelp and are ready to analyze it. Your cohort lead will review this workbook with you the Wednesday before your project is due.    "
   ]
  },
  {
   "cell_type": "markdown",
   "metadata": {
    "heading_collapsed": true
   },
   "source": [
    "## Part 1 - Understanding your data and question"
   ]
  },
  {
   "cell_type": "markdown",
   "metadata": {
    "hidden": true
   },
   "source": [
    "You will be pulling data from the Yelp API to complete your analysis. The API, however, provides you with a lot of information that will not be pertinent to your analysis. You will pull data from the API and parse through it to keep only the data that you will need. In order to help you identify that information,look at the API documentation and understand what data the API will provide you. \n",
    "\n",
    "Identify which data fields you will want to keep for your analysis. \n",
    "\n",
    "https://www.yelp.com/developers/documentation/v3/get_started"
   ]
  },
  {
   "cell_type": "markdown",
   "metadata": {},
   "source": [
    "## Part 2 - Create ETL pipeline for the business data from the API"
   ]
  },
  {
   "cell_type": "markdown",
   "metadata": {
    "heading_collapsed": true
   },
   "source": [
    "### Details"
   ]
  },
  {
   "cell_type": "markdown",
   "metadata": {
    "hidden": true
   },
   "source": [
    "Now that you know what data you need from the API, you want to write code that will execute an API call, parse those results and then insert the results into the DB.  \n",
    "\n",
    "It is helpful to break this up into three different functions (*API call, parse results, and insert into DB*) and then you can write a function/script that pull the other three functions together. \n",
    "\n",
    "Let's first do this for the Business endpoint."
   ]
  },
  {
   "cell_type": "markdown",
   "metadata": {
    "heading_collapsed": true
   },
   "source": [
    "### Request"
   ]
  },
  {
   "cell_type": "code",
   "execution_count": 97,
   "metadata": {
    "ExecuteTime": {
     "end_time": "2021-05-10T00:42:39.501404Z",
     "start_time": "2021-05-10T00:42:39.496391Z"
    },
    "code_folding": [],
    "hidden": true
   },
   "outputs": [],
   "source": [
    "import requests\n",
    "import pandas as pd\n",
    "import json\n",
    "\n",
    "with open(r'C:\\Users\\bmcca\\.secret\\yelp_api.json') as f:\n",
    "    keys = json.load(f)\n",
    "\n",
    "client_id = keys['id']\n",
    "yelp_key = keys['key']\n",
    "\n",
    "# keys.values()"
   ]
  },
  {
   "cell_type": "code",
   "execution_count": 98,
   "metadata": {
    "ExecuteTime": {
     "end_time": "2021-05-10T00:42:39.532390Z",
     "start_time": "2021-05-10T00:42:39.504394Z"
    },
    "code_folding": [],
    "hidden": true
   },
   "outputs": [],
   "source": [
    "def yelp_request(term, location, yelp_key, verbose=True):\n",
    "    '''Adapted from Yelp API Lab: https://github.com/BenJMcCarty/dsc-yelp-api-lab/tree/solution'''\n",
    "    \n",
    "    url = 'https://api.yelp.com/v3/businesses/search'\n",
    "\n",
    "    headers = {\n",
    "            'Authorization': 'Bearer {}'.format(yelp_key),\n",
    "        }\n",
    "\n",
    "    url_params = {\n",
    "                    'term': term.replace(' ', '+'),\n",
    "                    'location': location.replace(' ', '+'),\n",
    "                    'limit': 50\n",
    "                }\n",
    "    response = requests.get(url, headers=headers, params=url_params)\n",
    "    \n",
    "    if verbose == True:\n",
    "        print(response)\n",
    "        print(type(response.text))\n",
    "        print(response.text[:1000])\n",
    "        \n",
    "    return response.json()"
   ]
  },
  {
   "cell_type": "code",
   "execution_count": 99,
   "metadata": {
    "ExecuteTime": {
     "end_time": "2021-05-10T00:42:40.186390Z",
     "start_time": "2021-05-10T00:42:39.535390Z"
    },
    "hidden": true,
    "scrolled": true
   },
   "outputs": [
    {
     "name": "stdout",
     "output_type": "stream",
     "text": [
      "<Response [200]>\n",
      "<class 'str'>\n",
      "{\"businesses\": [{\"id\": \"4N2pC-h3Ba6qUQ7cN4xP-g\", \"alias\": \"san-antonio-winery-ontario\", \"name\": \"San Antonio Winery\", \"image_url\": \"https://s3-media2.fl.yelpcdn.com/bphoto/__5IBirgkaHoRGdVnUIdng/o.jpg\", \"is_closed\": false, \"url\": \"https://www.yelp.com/biz/san-antonio-winery-ontario?adjust_creative=eyY_X0k6PMB2bu6EM1dXdw&utm_campaign=yelp_api_v3&utm_medium=api_v3_business_search&utm_source=eyY_X0k6PMB2bu6EM1dXdw\", \"review_count\": 248, \"categories\": [{\"alias\": \"wineries\", \"title\": \"Wineries\"}], \"rating\": 4.0, \"coordinates\": {\"latitude\": 34.022224, \"longitude\": -117.558985}, \"transactions\": [], \"price\": \"$$\", \"location\": {\"address1\": \"2802 S Milliken Ave\", \"address2\": null, \"address3\": \"\", \"city\": \"Ontario\", \"zip_code\": \"91761\", \"country\": \"US\", \"state\": \"CA\", \"display_address\": [\"2802 S Milliken Ave\", \"Ontario, CA 91761\"]}, \"phone\": \"+19099473995\", \"display_phone\": \"(909) 947-3995\", \"distance\": 26348.268371330654}, {\"id\": \"Q0Cuh5XZY29AdrWpUv8yhw\", \"alias\": \"joseph-filippi-winery-rancho-c\n"
     ]
    }
   ],
   "source": [
    "response = yelp_request('winery','Southern California', yelp_key)"
   ]
  },
  {
   "cell_type": "code",
   "execution_count": 100,
   "metadata": {
    "ExecuteTime": {
     "end_time": "2021-05-10T00:42:40.201391Z",
     "start_time": "2021-05-10T00:42:40.188392Z"
    },
    "hidden": true
   },
   "outputs": [
    {
     "data": {
      "text/plain": [
       "dict_keys(['businesses', 'total', 'region'])"
      ]
     },
     "execution_count": 100,
     "metadata": {},
     "output_type": "execute_result"
    }
   ],
   "source": [
    "# Identify keys\n",
    "\n",
    "response.keys()"
   ]
  },
  {
   "cell_type": "code",
   "execution_count": 101,
   "metadata": {
    "ExecuteTime": {
     "end_time": "2021-05-10T00:42:40.217391Z",
     "start_time": "2021-05-10T00:42:40.203392Z"
    },
    "code_folding": [],
    "hidden": true,
    "scrolled": true
   },
   "outputs": [
    {
     "data": {
      "text/plain": [
       "{'latitude': 34.022224, 'longitude': -117.558985}"
      ]
     },
     "execution_count": 101,
     "metadata": {},
     "output_type": "execute_result"
    }
   ],
   "source": [
    "# Show first item w/in list of businesses\n",
    "\n",
    "response['businesses'][0]['coordinates']"
   ]
  },
  {
   "cell_type": "markdown",
   "metadata": {},
   "source": [
    "### Parse"
   ]
  },
  {
   "cell_type": "markdown",
   "metadata": {},
   "source": [
    "#### TODO: Figure out why it's not filtering out null values for Price"
   ]
  },
  {
   "cell_type": "code",
   "execution_count": 102,
   "metadata": {
    "ExecuteTime": {
     "end_time": "2021-05-10T00:42:40.232388Z",
     "start_time": "2021-05-10T00:42:40.220391Z"
    }
   },
   "outputs": [],
   "source": [
    "# # your code to parse the result to make them easier to insert into the DB\n",
    "\n",
    "# def parse_results(results):\n",
    "    \n",
    "#     return parsed_results"
   ]
  },
  {
   "cell_type": "code",
   "execution_count": 109,
   "metadata": {
    "ExecuteTime": {
     "end_time": "2021-05-10T00:43:34.271702Z",
     "start_time": "2021-05-10T00:43:34.251702Z"
    }
   },
   "outputs": [],
   "source": [
    "def parse_data(list_of_data):\n",
    "  \n",
    "    PD = []\n",
    "     \n",
    "    for business in list_of_data:\n",
    "        if 'price' in business:\n",
    "            biz_tuple = {'name': business['name'], 'location': business['location']['display_address'], 'id': business['id'], 'rating': business['rating'],\n",
    "                      'review_count': business['review_count'], 'price': business['price'], 'coordinates': business['coordinates']}\n",
    "        else:\n",
    "            biz_tuple = {'name': business['name'], 'location': business['location']['display_address'], 'id': business['id'], 'rating': business['rating'],\n",
    "                      'review_count': business['review_count'], 'coordinates': business['coordinates']}\n",
    "    \n",
    "        PD.append(biz_tuple)\n",
    "    \n",
    "    return PD\n"
   ]
  },
  {
   "cell_type": "code",
   "execution_count": 110,
   "metadata": {
    "ExecuteTime": {
     "end_time": "2021-05-10T00:43:34.541701Z",
     "start_time": "2021-05-10T00:43:34.527708Z"
    }
   },
   "outputs": [],
   "source": [
    "pd_biz = parse_data(response['businesses'])"
   ]
  },
  {
   "cell_type": "code",
   "execution_count": 119,
   "metadata": {
    "ExecuteTime": {
     "end_time": "2021-05-10T00:46:01.513253Z",
     "start_time": "2021-05-10T00:46:01.498253Z"
    }
   },
   "outputs": [],
   "source": [
    "# type(pd_biz)"
   ]
  },
  {
   "cell_type": "code",
   "execution_count": 112,
   "metadata": {
    "ExecuteTime": {
     "end_time": "2021-05-10T00:43:35.118697Z",
     "start_time": "2021-05-10T00:43:35.099684Z"
    }
   },
   "outputs": [],
   "source": [
    "df_pd_biz = pd.DataFrame(pd_biz)"
   ]
  },
  {
   "cell_type": "code",
   "execution_count": 113,
   "metadata": {
    "ExecuteTime": {
     "end_time": "2021-05-10T00:43:35.449667Z",
     "start_time": "2021-05-10T00:43:35.434673Z"
    }
   },
   "outputs": [],
   "source": [
    "df_pd_biz.dropna(inplace=True)"
   ]
  },
  {
   "cell_type": "code",
   "execution_count": 114,
   "metadata": {
    "ExecuteTime": {
     "end_time": "2021-05-10T00:43:35.790670Z",
     "start_time": "2021-05-10T00:43:35.773681Z"
    }
   },
   "outputs": [
    {
     "data": {
      "text/html": [
       "<div>\n",
       "<style scoped>\n",
       "    .dataframe tbody tr th:only-of-type {\n",
       "        vertical-align: middle;\n",
       "    }\n",
       "\n",
       "    .dataframe tbody tr th {\n",
       "        vertical-align: top;\n",
       "    }\n",
       "\n",
       "    .dataframe thead th {\n",
       "        text-align: right;\n",
       "    }\n",
       "</style>\n",
       "<table border=\"1\" class=\"dataframe\">\n",
       "  <thead>\n",
       "    <tr style=\"text-align: right;\">\n",
       "      <th></th>\n",
       "      <th>name</th>\n",
       "      <th>location</th>\n",
       "      <th>id</th>\n",
       "      <th>rating</th>\n",
       "      <th>review_count</th>\n",
       "      <th>price</th>\n",
       "      <th>coordinates</th>\n",
       "    </tr>\n",
       "  </thead>\n",
       "  <tbody>\n",
       "    <tr>\n",
       "      <th>0</th>\n",
       "      <td>San Antonio Winery</td>\n",
       "      <td>[2802 S Milliken Ave, Ontario, CA 91761]</td>\n",
       "      <td>4N2pC-h3Ba6qUQ7cN4xP-g</td>\n",
       "      <td>4.0</td>\n",
       "      <td>248</td>\n",
       "      <td>$$</td>\n",
       "      <td>{'latitude': 34.022224, 'longitude': -117.558985}</td>\n",
       "    </tr>\n",
       "    <tr>\n",
       "      <th>1</th>\n",
       "      <td>Joseph Filippi Winery</td>\n",
       "      <td>[12467 Baseline Rd, Rancho Cucamonga, CA 91739]</td>\n",
       "      <td>Q0Cuh5XZY29AdrWpUv8yhw</td>\n",
       "      <td>4.0</td>\n",
       "      <td>158</td>\n",
       "      <td>$$</td>\n",
       "      <td>{'latitude': 34.1209259033203, 'longitude': -1...</td>\n",
       "    </tr>\n",
       "    <tr>\n",
       "      <th>2</th>\n",
       "      <td>Galleano Winery</td>\n",
       "      <td>[4231 Wineville Ave, Mira Loma, CA 91752]</td>\n",
       "      <td>dMy0GL2mG9hKIIMsfAQAgQ</td>\n",
       "      <td>4.0</td>\n",
       "      <td>171</td>\n",
       "      <td>$$</td>\n",
       "      <td>{'latitude': 34.0109, 'longitude': -117.54246}</td>\n",
       "    </tr>\n",
       "    <tr>\n",
       "      <th>3</th>\n",
       "      <td>Third Street Wine Shop</td>\n",
       "      <td>[2142 3rd St, La Verne, CA 91750]</td>\n",
       "      <td>Liy2V5TissVcWFt9-45AKg</td>\n",
       "      <td>5.0</td>\n",
       "      <td>101</td>\n",
       "      <td>$$</td>\n",
       "      <td>{'latitude': 34.09999, 'longitude': -117.76946}</td>\n",
       "    </tr>\n",
       "    <tr>\n",
       "      <th>4</th>\n",
       "      <td>The Claremont Packing House</td>\n",
       "      <td>[532 W 1st St, Claremont, CA 91711]</td>\n",
       "      <td>jJYkAV0acTPOkqESRWjmTA</td>\n",
       "      <td>4.0</td>\n",
       "      <td>23</td>\n",
       "      <td>$$</td>\n",
       "      <td>{'latitude': 34.094265, 'longitude': -117.721303}</td>\n",
       "    </tr>\n",
       "  </tbody>\n",
       "</table>\n",
       "</div>"
      ],
      "text/plain": [
       "                          name  \\\n",
       "0           San Antonio Winery   \n",
       "1        Joseph Filippi Winery   \n",
       "2              Galleano Winery   \n",
       "3       Third Street Wine Shop   \n",
       "4  The Claremont Packing House   \n",
       "\n",
       "                                          location                      id  \\\n",
       "0         [2802 S Milliken Ave, Ontario, CA 91761]  4N2pC-h3Ba6qUQ7cN4xP-g   \n",
       "1  [12467 Baseline Rd, Rancho Cucamonga, CA 91739]  Q0Cuh5XZY29AdrWpUv8yhw   \n",
       "2        [4231 Wineville Ave, Mira Loma, CA 91752]  dMy0GL2mG9hKIIMsfAQAgQ   \n",
       "3                [2142 3rd St, La Verne, CA 91750]  Liy2V5TissVcWFt9-45AKg   \n",
       "4              [532 W 1st St, Claremont, CA 91711]  jJYkAV0acTPOkqESRWjmTA   \n",
       "\n",
       "   rating  review_count price  \\\n",
       "0     4.0           248    $$   \n",
       "1     4.0           158    $$   \n",
       "2     4.0           171    $$   \n",
       "3     5.0           101    $$   \n",
       "4     4.0            23    $$   \n",
       "\n",
       "                                         coordinates  \n",
       "0  {'latitude': 34.022224, 'longitude': -117.558985}  \n",
       "1  {'latitude': 34.1209259033203, 'longitude': -1...  \n",
       "2     {'latitude': 34.0109, 'longitude': -117.54246}  \n",
       "3    {'latitude': 34.09999, 'longitude': -117.76946}  \n",
       "4  {'latitude': 34.094265, 'longitude': -117.721303}  "
      ]
     },
     "execution_count": 114,
     "metadata": {},
     "output_type": "execute_result"
    }
   ],
   "source": [
    "df_pd_biz.head()"
   ]
  },
  {
   "cell_type": "markdown",
   "metadata": {},
   "source": [
    "### Save"
   ]
  },
  {
   "cell_type": "markdown",
   "metadata": {},
   "source": [
    "#### TODO: Figure out why it's not checking if the file already exists"
   ]
  },
  {
   "cell_type": "code",
   "execution_count": 115,
   "metadata": {
    "ExecuteTime": {
     "end_time": "2021-05-10T00:43:40.302977Z",
     "start_time": "2021-05-10T00:43:40.297978Z"
    }
   },
   "outputs": [],
   "source": [
    "# csv_path = r'C:\\Users\\bmcca\\Documents\\Flatiron_Stuff\\Phase Projects\\Phase-1-Project\\data\\wineries.csv'"
   ]
  },
  {
   "cell_type": "code",
   "execution_count": 116,
   "metadata": {
    "ExecuteTime": {
     "end_time": "2021-05-10T00:43:40.634977Z",
     "start_time": "2021-05-10T00:43:40.618977Z"
    }
   },
   "outputs": [],
   "source": [
    "def df_save(parsed_results):\n",
    "       \n",
    "    import os\n",
    "    \n",
    "    if not os.path.isfile(r'C:\\Users\\bmcca\\Documents\\Flatiron_Stuff\\Phase Projects\\Phase-1-Project\\data\\wineries.csv'):\n",
    "        parsed_results.to_csv(r'C:\\Users\\bmcca\\Documents\\Flatiron_Stuff\\Phase Projects\\Phase-1-Project\\data\\wineries.csv', header='column_names')\n",
    "    else: # else it exists so append without writing the header\n",
    "        parsed_results.to_csv(r'C:\\Users\\bmcca\\Documents\\Flatiron_Stuff\\Phase Projects\\Phase-1-Project\\data\\wineries.csv', mode='a', header=False)\n",
    "    return"
   ]
  },
  {
   "cell_type": "code",
   "execution_count": 117,
   "metadata": {
    "ExecuteTime": {
     "end_time": "2021-05-10T00:43:41.284225Z",
     "start_time": "2021-05-10T00:43:41.261195Z"
    }
   },
   "outputs": [],
   "source": [
    "df_save(df_pd_biz)"
   ]
  },
  {
   "cell_type": "markdown",
   "metadata": {},
   "source": [
    "### Condense into one function"
   ]
  },
  {
   "cell_type": "markdown",
   "metadata": {},
   "source": [
    "- Write a script that combines the three functions above into a single process."
   ]
  },
  {
   "cell_type": "markdown",
   "metadata": {},
   "source": [
    "While it will take some experimentation to write the functions above, once you get them working it will be best to put them in a `.py` file and then import the functions to use in a script "
   ]
  },
  {
   "cell_type": "code",
   "execution_count": null,
   "metadata": {
    "ExecuteTime": {
     "end_time": "2021-05-10T00:28:01.878200Z",
     "start_time": "2021-05-10T00:28:01.004Z"
    }
   },
   "outputs": [],
   "source": [
    "from helper_funcs import *"
   ]
  },
  {
   "cell_type": "code",
   "execution_count": null,
   "metadata": {
    "ExecuteTime": {
     "end_time": "2021-05-10T00:28:01.879201Z",
     "start_time": "2021-05-10T00:28:01.006Z"
    }
   },
   "outputs": [],
   "source": [
    "\n",
    "\n",
    "# create a variable  to keep track of which result you are in. \n",
    "cur = 0\n",
    "\n",
    "#set up a while loop to go through and grab the result \n",
    "while cur < num and cur < 1000:\n",
    "    #set the offset parameter to be where you currently are in the results \n",
    "    url_params['offset'] = cur\n",
    "    #make your API call with the new offset number\n",
    "    results = yelp_call(url_params, api_key)\n",
    "    \n",
    "    #after you get your results you can now use your function to parse those results\n",
    "    parsed_results = parse_results(results)\n",
    "    \n",
    "    # use your function to insert your parsed results into the db\n",
    "    df_save(parsed_results)\n",
    "    #increment the counter by 50 to move on to the next results\n",
    "    cur += 20"
   ]
  },
  {
   "cell_type": "markdown",
   "metadata": {},
   "source": [
    "___"
   ]
  },
  {
   "cell_type": "markdown",
   "metadata": {
    "heading_collapsed": true
   },
   "source": [
    "## Part 3 -  Create ETL pipeline for the restaurant review data from the API"
   ]
  },
  {
   "cell_type": "markdown",
   "metadata": {
    "hidden": true
   },
   "source": [
    "You've done this for the Businesses, now you need to do this for reviews. You will follow the same process, but your functions will be specific to reviews. Above you ahve a model of the functions you will need to write, and how to pull them together in one script. For this part, you ahve the process below "
   ]
  },
  {
   "cell_type": "markdown",
   "metadata": {
    "hidden": true
   },
   "source": [
    "- In order to pull the reveiws, you will need the business ids. So your first step will be to get all of the business ids from your businesses csv. "
   ]
  },
  {
   "cell_type": "markdown",
   "metadata": {
    "hidden": true
   },
   "source": [
    "- Write a function that takes a business id and makes a call to the API for reivews\n"
   ]
  },
  {
   "cell_type": "markdown",
   "metadata": {
    "hidden": true
   },
   "source": [
    "- Write a function to parse out the relevant information from the reviews"
   ]
  },
  {
   "cell_type": "markdown",
   "metadata": {
    "hidden": true
   },
   "source": [
    "- Write a function to save the parse data into a csv file containing all of the reviews. "
   ]
  },
  {
   "cell_type": "markdown",
   "metadata": {
    "hidden": true
   },
   "source": [
    "- Combine the functions above into a single script  "
   ]
  },
  {
   "cell_type": "markdown",
   "metadata": {
    "hidden": true
   },
   "source": [
    "___"
   ]
  },
  {
   "cell_type": "markdown",
   "metadata": {
    "heading_collapsed": true
   },
   "source": [
    "## Part 4 -  Using python and pandas, write code to answer the questions below. "
   ]
  },
  {
   "cell_type": "markdown",
   "metadata": {
    "hidden": true
   },
   "source": [
    "- Which are the 5 most reviewed businesses in your dataset?\n",
    "- What is the highest rating recieved in your data set and how many businesses have that rating?\n",
    "- What percentage of businesses have a rating greater than or  4.5?\n",
    "- What percentage of businesses have a rating less than 3?\n",
    "- What percentage of your businesseshave a price label of one dollar sign? Two dollar signs? Three dollar signs? No dollar signs?\n",
    "- Return the text of the reviews for the most reviewed business. \n",
    "- Find the highest rated business and return text of the most recent review. If multiple business have the same rating, select the business with the most reviews. \n",
    "- Find the lowest rated business and return text of the most recent review.  If multiple business have the same rating, select the business with the least reviews. "
   ]
  },
  {
   "cell_type": "markdown",
   "metadata": {
    "hidden": true
   },
   "source": [
    "___"
   ]
  },
  {
   "cell_type": "markdown",
   "metadata": {},
   "source": [
    "# Reference help"
   ]
  },
  {
   "cell_type": "markdown",
   "metadata": {},
   "source": [
    "###  Pagination\n",
    "\n",
    "Returning to the Yelp API, the [documentation](https://www.yelp.com/developers/documentation/v3/business_search) also provides us details regarding the API limits. These often include details about the number of requests a user is allowed to make within a specified time limit and the maximum number of results to be returned. In this case, we are told that any request has a maximum of 50 results per request and defaults to 20. Furthermore, any search will be limited to a total of 1000 results. To retrieve all 1000 of these results, we would have to page through the results piece by piece, retriving 50 at a time. Processes such as these are often refered to as pagination.\n",
    "\n",
    "Now that you have an initial response, you can examine the contents of the json container. For example, you might start with ```response.json().keys()```. Here, you'll see a key for `'total'`, which tells you the full number of matching results given your query parameters. Write a loop (or ideally a function) which then makes successive API calls using the offset parameter to retrieve all of the results (or 5000 for a particularly large result set) for the original query. As you do this, be mindful of how you store the data. \n",
    "\n",
    "**Note: be mindful of the API rate limits. You can only make 5000 requests per day, and APIs can make requests too fast. Start prototyping small before running a loop that could be faulty. You can also use time.sleep(n) to add delays. For more details see https://www.yelp.com/developers/documentation/v3/rate_limiting.**"
   ]
  },
  {
   "cell_type": "markdown",
   "metadata": {},
   "source": [
    "***Below is sample code that you can use to help you deal with the pagination parameter and bring all of the functions together.***\n",
    "\n",
    "\n",
    "***Also, something might cause your code to break while it is running. You don't want to constantly repull the same data when this happens, so you should insert the data into the database as you call and parse it, not after you have all of the data***\n"
   ]
  },
  {
   "cell_type": "code",
   "execution_count": null,
   "metadata": {
    "ExecuteTime": {
     "end_time": "2021-05-10T00:28:01.880198Z",
     "start_time": "2021-05-10T00:28:01.011Z"
    }
   },
   "outputs": [],
   "source": [
    "# create a variable  to keep track of which result you are in. \n",
    "cur = 0\n",
    "\n",
    "#set up a while loop to go through and grab the result \n",
    "while cur < num and cur < 1000:\n",
    "    #set the offset parameter to be where you currently are in the results \n",
    "    url_params['offset'] = cur\n",
    "    #make your API call with the new offset number\n",
    "    results = yelp_call(url_params, api_key)\n",
    "    \n",
    "    #after you get your results you can now use your function to parse those results\n",
    "    parsed_results = parse_results(results)\n",
    "    \n",
    "    # use your function to insert your parsed results into the db\n",
    "    db_insert(parsed_results)\n",
    "    #increment the counter by 50 to move on to the next results\n",
    "    cur += 20"
   ]
  },
  {
   "cell_type": "code",
   "execution_count": null,
   "metadata": {},
   "outputs": [],
   "source": []
  }
 ],
 "metadata": {
  "kernelspec": {
   "display_name": "Python 3",
   "language": "python",
   "name": "python3"
  },
  "language_info": {
   "codemirror_mode": {
    "name": "ipython",
    "version": 3
   },
   "file_extension": ".py",
   "mimetype": "text/x-python",
   "name": "python",
   "nbconvert_exporter": "python",
   "pygments_lexer": "ipython3",
   "version": "3.8.5"
  },
  "toc": {
   "base_numbering": 1,
   "nav_menu": {},
   "number_sections": false,
   "sideBar": true,
   "skip_h1_title": false,
   "title_cell": "Table of Contents",
   "title_sidebar": "Contents",
   "toc_cell": false,
   "toc_position": {
    "height": "calc(100% - 180px)",
    "left": "10px",
    "top": "150px",
    "width": "165px"
   },
   "toc_section_display": true,
   "toc_window_display": true
  },
  "varInspector": {
   "cols": {
    "lenName": "32",
    "lenType": 16,
    "lenVar": 40
   },
   "kernels_config": {
    "python": {
     "delete_cmd_postfix": "",
     "delete_cmd_prefix": "del ",
     "library": "var_list.py",
     "varRefreshCmd": "print(var_dic_list())"
    },
    "r": {
     "delete_cmd_postfix": ") ",
     "delete_cmd_prefix": "rm(",
     "library": "var_list.r",
     "varRefreshCmd": "cat(var_dic_list()) "
    }
   },
   "types_to_exclude": [
    "module",
    "function",
    "builtin_function_or_method",
    "instance",
    "_Feature"
   ],
   "window_display": false
  }
 },
 "nbformat": 4,
 "nbformat_minor": 2
}
