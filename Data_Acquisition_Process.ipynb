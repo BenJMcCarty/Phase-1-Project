{
 "cells": [
  {
   "cell_type": "markdown",
   "metadata": {},
   "source": [
    "# Getting Your Data From Yelp!"
   ]
  },
  {
   "cell_type": "markdown",
   "metadata": {},
   "source": [
    "In order to make sure you are on track to completing the project, you will complete this workbook first. Below are steps that you need to take in order to make sure you have your data from yelp and are ready to analyze it. Your cohort lead will review this workbook with you the Wednesday before your project is due.    "
   ]
  },
  {
   "cell_type": "markdown",
   "metadata": {
    "heading_collapsed": true
   },
   "source": [
    "## Part 1 - Understanding your data and question"
   ]
  },
  {
   "cell_type": "markdown",
   "metadata": {
    "hidden": true
   },
   "source": [
    "You will be pulling data from the Yelp API to complete your analysis. The API, however, provides you with a lot of information that will not be pertinent to your analysis. You will pull data from the API and parse through it to keep only the data that you will need. In order to help you identify that information,look at the API documentation and understand what data the API will provide you. \n",
    "\n",
    "Identify which data fields you will want to keep for your analysis. \n",
    "\n",
    "https://www.yelp.com/developers/documentation/v3/get_started"
   ]
  },
  {
   "cell_type": "markdown",
   "metadata": {},
   "source": [
    "## Part 2 - Create ETL pipeline for the business data from the API"
   ]
  },
  {
   "cell_type": "markdown",
   "metadata": {
    "heading_collapsed": true
   },
   "source": [
    "### Details"
   ]
  },
  {
   "cell_type": "markdown",
   "metadata": {
    "hidden": true
   },
   "source": [
    "Now that you know what data you need from the API, you want to write code that will execute an API call, parse those results and then insert the results into the DB.  \n",
    "\n",
    "It is helpful to break this up into three different functions (*API call, parse results, and insert into DB*) and then you can write a function/script that pull the other three functions together. \n",
    "\n",
    "Let's first do this for the Business endpoint."
   ]
  },
  {
   "cell_type": "markdown",
   "metadata": {},
   "source": [
    "### Request"
   ]
  },
  {
   "cell_type": "code",
   "execution_count": 2,
   "metadata": {
    "ExecuteTime": {
     "end_time": "2021-05-09T20:28:46.458121Z",
     "start_time": "2021-05-09T20:28:45.651580Z"
    },
    "code_folding": []
   },
   "outputs": [],
   "source": [
    "import requests\n",
    "import pandas as pd\n",
    "import json\n",
    "\n",
    "with open(r'C:\\Users\\bmcca\\.secret\\yelp_api.json') as f:\n",
    "    keys = json.load(f)\n",
    "\n",
    "client_id = keys['id']\n",
    "yelp_key = keys['key']\n",
    "\n",
    "# keys.keys()"
   ]
  },
  {
   "cell_type": "code",
   "execution_count": 25,
   "metadata": {
    "ExecuteTime": {
     "end_time": "2021-05-09T21:06:38.722022Z",
     "start_time": "2021-05-09T21:06:38.706024Z"
    },
    "code_folding": []
   },
   "outputs": [],
   "source": [
    "def yelp_request(term, location, yelp_key, verbose=True):\n",
    "    '''Adapted from Yelp API Lab: https://github.com/BenJMcCarty/dsc-yelp-api-lab/tree/solution'''\n",
    "    \n",
    "    url = 'https://api.yelp.com/v3/businesses/search'\n",
    "\n",
    "    headers = {\n",
    "            'Authorization': 'Bearer {}'.format(yelp_key),\n",
    "        }\n",
    "\n",
    "    url_params = {\n",
    "                    'term': term.replace(' ', '+'),\n",
    "                    'location': location.replace(' ', '+'),\n",
    "                    'limit': SEARCH_LIMIT\n",
    "                }\n",
    "    response = requests.get(url, headers=headers, params=url_params)\n",
    "    \n",
    "    if verbose == True:\n",
    "        print(response)\n",
    "        print(type(response.text))\n",
    "        print(response.text[:1000])\n",
    "        \n",
    "    return response.json()"
   ]
  },
  {
   "cell_type": "code",
   "execution_count": 5,
   "metadata": {
    "ExecuteTime": {
     "end_time": "2021-05-09T20:31:14.313180Z",
     "start_time": "2021-05-09T20:31:13.675614Z"
    }
   },
   "outputs": [],
   "source": [
    "request = yelp_request('pizza','baltimore', yelp_key)"
   ]
  },
  {
   "cell_type": "code",
   "execution_count": 13,
   "metadata": {
    "ExecuteTime": {
     "end_time": "2021-05-09T20:36:50.743040Z",
     "start_time": "2021-05-09T20:36:50.732060Z"
    }
   },
   "outputs": [
    {
     "data": {
      "text/plain": [
       "dict_keys(['businesses', 'total', 'region'])"
      ]
     },
     "execution_count": 13,
     "metadata": {},
     "output_type": "execute_result"
    }
   ],
   "source": [
    "request.keys()"
   ]
  },
  {
   "cell_type": "code",
   "execution_count": 12,
   "metadata": {
    "ExecuteTime": {
     "end_time": "2021-05-09T20:34:54.907261Z",
     "start_time": "2021-05-09T20:34:54.894250Z"
    },
    "code_folding": [],
    "scrolled": true
   },
   "outputs": [
    {
     "data": {
      "text/plain": [
       "{'id': '417YPonNwsTF-LKjGybNGA',\n",
       " 'alias': 'angelis-pizzeria-baltimore-2',\n",
       " 'name': \"Angeli's Pizzeria\",\n",
       " 'image_url': 'https://s3-media4.fl.yelpcdn.com/bphoto/285RaNTzD_rTbk2aYWC49w/o.jpg',\n",
       " 'is_closed': False,\n",
       " 'url': 'https://www.yelp.com/biz/angelis-pizzeria-baltimore-2?adjust_creative=eyY_X0k6PMB2bu6EM1dXdw&utm_campaign=yelp_api_v3&utm_medium=api_v3_business_search&utm_source=eyY_X0k6PMB2bu6EM1dXdw',\n",
       " 'review_count': 252,\n",
       " 'categories': [{'alias': 'pizza', 'title': 'Pizza'},\n",
       "  {'alias': 'italian', 'title': 'Italian'},\n",
       "  {'alias': 'sandwiches', 'title': 'Sandwiches'}],\n",
       " 'rating': 4.5,\n",
       " 'coordinates': {'latitude': 39.2853676681653, 'longitude': -76.6010601392803},\n",
       " 'transactions': ['delivery', 'pickup'],\n",
       " 'price': '$$',\n",
       " 'location': {'address1': '413 S High St',\n",
       "  'address2': '',\n",
       "  'address3': None,\n",
       "  'city': 'Baltimore',\n",
       "  'zip_code': '21202',\n",
       "  'country': 'US',\n",
       "  'state': 'MD',\n",
       "  'display_address': ['413 S High St', 'Baltimore, MD 21202']},\n",
       " 'phone': '+14437087556',\n",
       " 'display_phone': '(443) 708-7556',\n",
       " 'distance': 2746.8153711715745}"
      ]
     },
     "execution_count": 12,
     "metadata": {},
     "output_type": "execute_result"
    }
   ],
   "source": [
    "# Show first item w/in list of businesses\n",
    "\n",
    "request['businesses'][0]"
   ]
  },
  {
   "cell_type": "code",
   "execution_count": 23,
   "metadata": {
    "ExecuteTime": {
     "end_time": "2021-05-09T21:02:08.499586Z",
     "start_time": "2021-05-09T21:02:08.478588Z"
    }
   },
   "outputs": [],
   "source": [
    "request_df = pd.DataFrame(request['businesses'])"
   ]
  },
  {
   "cell_type": "code",
   "execution_count": 26,
   "metadata": {
    "ExecuteTime": {
     "end_time": "2021-05-09T21:06:46.159381Z",
     "start_time": "2021-05-09T21:06:46.111382Z"
    }
   },
   "outputs": [
    {
     "data": {
      "text/html": [
       "<div>\n",
       "<style scoped>\n",
       "    .dataframe tbody tr th:only-of-type {\n",
       "        vertical-align: middle;\n",
       "    }\n",
       "\n",
       "    .dataframe tbody tr th {\n",
       "        vertical-align: top;\n",
       "    }\n",
       "\n",
       "    .dataframe thead th {\n",
       "        text-align: right;\n",
       "    }\n",
       "</style>\n",
       "<table border=\"1\" class=\"dataframe\">\n",
       "  <thead>\n",
       "    <tr style=\"text-align: right;\">\n",
       "      <th></th>\n",
       "      <th>id</th>\n",
       "      <th>alias</th>\n",
       "      <th>name</th>\n",
       "      <th>image_url</th>\n",
       "      <th>is_closed</th>\n",
       "      <th>url</th>\n",
       "      <th>review_count</th>\n",
       "      <th>categories</th>\n",
       "      <th>rating</th>\n",
       "      <th>coordinates</th>\n",
       "      <th>transactions</th>\n",
       "      <th>price</th>\n",
       "      <th>location</th>\n",
       "      <th>phone</th>\n",
       "      <th>display_phone</th>\n",
       "      <th>distance</th>\n",
       "    </tr>\n",
       "  </thead>\n",
       "  <tbody>\n",
       "    <tr>\n",
       "      <th>0</th>\n",
       "      <td>417YPonNwsTF-LKjGybNGA</td>\n",
       "      <td>angelis-pizzeria-baltimore-2</td>\n",
       "      <td>Angeli's Pizzeria</td>\n",
       "      <td>https://s3-media4.fl.yelpcdn.com/bphoto/285RaN...</td>\n",
       "      <td>False</td>\n",
       "      <td>https://www.yelp.com/biz/angelis-pizzeria-balt...</td>\n",
       "      <td>252</td>\n",
       "      <td>[{'alias': 'pizza', 'title': 'Pizza'}, {'alias...</td>\n",
       "      <td>4.5</td>\n",
       "      <td>{'latitude': 39.2853676681653, 'longitude': -7...</td>\n",
       "      <td>[delivery, pickup]</td>\n",
       "      <td>$$</td>\n",
       "      <td>{'address1': '413 S High St', 'address2': '', ...</td>\n",
       "      <td>+14437087556</td>\n",
       "      <td>(443) 708-7556</td>\n",
       "      <td>2746.815371</td>\n",
       "    </tr>\n",
       "    <tr>\n",
       "      <th>1</th>\n",
       "      <td>9PgU81DELsu8GaVX8FT45w</td>\n",
       "      <td>underground-pizza-baltimore-2</td>\n",
       "      <td>Underground Pizza</td>\n",
       "      <td>https://s3-media4.fl.yelpcdn.com/bphoto/l2yfFl...</td>\n",
       "      <td>False</td>\n",
       "      <td>https://www.yelp.com/biz/underground-pizza-bal...</td>\n",
       "      <td>60</td>\n",
       "      <td>[{'alias': 'pizza', 'title': 'Pizza'}]</td>\n",
       "      <td>4.5</td>\n",
       "      <td>{'latitude': 39.28907, 'longitude': -76.607268}</td>\n",
       "      <td>[delivery]</td>\n",
       "      <td>NaN</td>\n",
       "      <td>{'address1': '30 Market Pl', 'address2': '', '...</td>\n",
       "      <td>+14433476190</td>\n",
       "      <td>(443) 347-6190</td>\n",
       "      <td>2255.198296</td>\n",
       "    </tr>\n",
       "    <tr>\n",
       "      <th>2</th>\n",
       "      <td>BJrktyd8gy1bPd9flu54RA</td>\n",
       "      <td>isabellas-brick-oven-pizza-and-panini-baltimore</td>\n",
       "      <td>Isabella's Brick Oven Pizza and Panini</td>\n",
       "      <td>https://s3-media1.fl.yelpcdn.com/bphoto/5pf2ED...</td>\n",
       "      <td>False</td>\n",
       "      <td>https://www.yelp.com/biz/isabellas-brick-oven-...</td>\n",
       "      <td>531</td>\n",
       "      <td>[{'alias': 'italian', 'title': 'Italian'}, {'a...</td>\n",
       "      <td>4.5</td>\n",
       "      <td>{'latitude': 39.2870444, 'longitude': -76.6020...</td>\n",
       "      <td>[delivery, pickup]</td>\n",
       "      <td>$$</td>\n",
       "      <td>{'address1': '221 S High St', 'address2': '', ...</td>\n",
       "      <td>+14109628888</td>\n",
       "      <td>(410) 962-8888</td>\n",
       "      <td>2544.246639</td>\n",
       "    </tr>\n",
       "    <tr>\n",
       "      <th>3</th>\n",
       "      <td>1n30b0G2weApQ4oEfPMWIA</td>\n",
       "      <td>matthews-pizza-baltimore</td>\n",
       "      <td>Matthew's Pizza</td>\n",
       "      <td>https://s3-media3.fl.yelpcdn.com/bphoto/n9refU...</td>\n",
       "      <td>False</td>\n",
       "      <td>https://www.yelp.com/biz/matthews-pizza-baltim...</td>\n",
       "      <td>486</td>\n",
       "      <td>[{'alias': 'pizza', 'title': 'Pizza'}]</td>\n",
       "      <td>4.0</td>\n",
       "      <td>{'latitude': 39.2861976623535, 'longitude': -7...</td>\n",
       "      <td>[delivery]</td>\n",
       "      <td>$$</td>\n",
       "      <td>{'address1': '3131 Eastern Ave', 'address2': '...</td>\n",
       "      <td>+14102768755</td>\n",
       "      <td>(410) 276-8755</td>\n",
       "      <td>4095.106366</td>\n",
       "    </tr>\n",
       "    <tr>\n",
       "      <th>4</th>\n",
       "      <td>I0GbQkQHF2sinkmG5vA3hg</td>\n",
       "      <td>bricknfire-at-baltimore-marriott-inner-harbor-...</td>\n",
       "      <td>BricknFire at Baltimore Marriott Inner Harbor ...</td>\n",
       "      <td>https://s3-media1.fl.yelpcdn.com/bphoto/wLbKlF...</td>\n",
       "      <td>False</td>\n",
       "      <td>https://www.yelp.com/biz/bricknfire-at-baltimo...</td>\n",
       "      <td>198</td>\n",
       "      <td>[{'alias': 'pizza', 'title': 'Pizza'}, {'alias...</td>\n",
       "      <td>4.5</td>\n",
       "      <td>{'latitude': 39.28685, 'longitude': -76.62138}</td>\n",
       "      <td>[delivery, pickup]</td>\n",
       "      <td>$$</td>\n",
       "      <td>{'address1': '110 S Eutaw St', 'address2': Non...</td>\n",
       "      <td>+14437647847</td>\n",
       "      <td>(443) 764-7847</td>\n",
       "      <td>2690.520752</td>\n",
       "    </tr>\n",
       "  </tbody>\n",
       "</table>\n",
       "</div>"
      ],
      "text/plain": [
       "                       id                                              alias  \\\n",
       "0  417YPonNwsTF-LKjGybNGA                       angelis-pizzeria-baltimore-2   \n",
       "1  9PgU81DELsu8GaVX8FT45w                      underground-pizza-baltimore-2   \n",
       "2  BJrktyd8gy1bPd9flu54RA    isabellas-brick-oven-pizza-and-panini-baltimore   \n",
       "3  1n30b0G2weApQ4oEfPMWIA                           matthews-pizza-baltimore   \n",
       "4  I0GbQkQHF2sinkmG5vA3hg  bricknfire-at-baltimore-marriott-inner-harbor-...   \n",
       "\n",
       "                                                name  \\\n",
       "0                                  Angeli's Pizzeria   \n",
       "1                                  Underground Pizza   \n",
       "2             Isabella's Brick Oven Pizza and Panini   \n",
       "3                                    Matthew's Pizza   \n",
       "4  BricknFire at Baltimore Marriott Inner Harbor ...   \n",
       "\n",
       "                                           image_url  is_closed  \\\n",
       "0  https://s3-media4.fl.yelpcdn.com/bphoto/285RaN...      False   \n",
       "1  https://s3-media4.fl.yelpcdn.com/bphoto/l2yfFl...      False   \n",
       "2  https://s3-media1.fl.yelpcdn.com/bphoto/5pf2ED...      False   \n",
       "3  https://s3-media3.fl.yelpcdn.com/bphoto/n9refU...      False   \n",
       "4  https://s3-media1.fl.yelpcdn.com/bphoto/wLbKlF...      False   \n",
       "\n",
       "                                                 url  review_count  \\\n",
       "0  https://www.yelp.com/biz/angelis-pizzeria-balt...           252   \n",
       "1  https://www.yelp.com/biz/underground-pizza-bal...            60   \n",
       "2  https://www.yelp.com/biz/isabellas-brick-oven-...           531   \n",
       "3  https://www.yelp.com/biz/matthews-pizza-baltim...           486   \n",
       "4  https://www.yelp.com/biz/bricknfire-at-baltimo...           198   \n",
       "\n",
       "                                          categories  rating  \\\n",
       "0  [{'alias': 'pizza', 'title': 'Pizza'}, {'alias...     4.5   \n",
       "1             [{'alias': 'pizza', 'title': 'Pizza'}]     4.5   \n",
       "2  [{'alias': 'italian', 'title': 'Italian'}, {'a...     4.5   \n",
       "3             [{'alias': 'pizza', 'title': 'Pizza'}]     4.0   \n",
       "4  [{'alias': 'pizza', 'title': 'Pizza'}, {'alias...     4.5   \n",
       "\n",
       "                                         coordinates        transactions  \\\n",
       "0  {'latitude': 39.2853676681653, 'longitude': -7...  [delivery, pickup]   \n",
       "1    {'latitude': 39.28907, 'longitude': -76.607268}          [delivery]   \n",
       "2  {'latitude': 39.2870444, 'longitude': -76.6020...  [delivery, pickup]   \n",
       "3  {'latitude': 39.2861976623535, 'longitude': -7...          [delivery]   \n",
       "4     {'latitude': 39.28685, 'longitude': -76.62138}  [delivery, pickup]   \n",
       "\n",
       "  price                                           location         phone  \\\n",
       "0    $$  {'address1': '413 S High St', 'address2': '', ...  +14437087556   \n",
       "1   NaN  {'address1': '30 Market Pl', 'address2': '', '...  +14433476190   \n",
       "2    $$  {'address1': '221 S High St', 'address2': '', ...  +14109628888   \n",
       "3    $$  {'address1': '3131 Eastern Ave', 'address2': '...  +14102768755   \n",
       "4    $$  {'address1': '110 S Eutaw St', 'address2': Non...  +14437647847   \n",
       "\n",
       "    display_phone     distance  \n",
       "0  (443) 708-7556  2746.815371  \n",
       "1  (443) 347-6190  2255.198296  \n",
       "2  (410) 962-8888  2544.246639  \n",
       "3  (410) 276-8755  4095.106366  \n",
       "4  (443) 764-7847  2690.520752  "
      ]
     },
     "execution_count": 26,
     "metadata": {},
     "output_type": "execute_result"
    }
   ],
   "source": [
    "request_df.head()"
   ]
  },
  {
   "cell_type": "markdown",
   "metadata": {},
   "source": [
    "### Parse"
   ]
  },
  {
   "cell_type": "code",
   "execution_count": null,
   "metadata": {},
   "outputs": [],
   "source": [
    "# your code to parse the result to make them easier to insert into the DB\n",
    "\n",
    "def parse_results(results):\n",
    "\n",
    "    return parsed_results"
   ]
  },
  {
   "cell_type": "markdown",
   "metadata": {
    "heading_collapsed": true
   },
   "source": [
    "### Save"
   ]
  },
  {
   "cell_type": "code",
   "execution_count": null,
   "metadata": {
    "hidden": true
   },
   "outputs": [],
   "source": [
    "def df_safe(csv filepath, parsed results):\n",
    "    # your code to open the csv file, concat the current data, and save the data. \n"
   ]
  },
  {
   "cell_type": "markdown",
   "metadata": {
    "hidden": true
   },
   "source": [
    "- Write a script that combines the three functions above into a single process."
   ]
  },
  {
   "cell_type": "markdown",
   "metadata": {
    "hidden": true
   },
   "source": [
    "While it will take some experimentation to write the functions above, once you get them working it will be best to put them in a `.py` file and then import the functions to use in a script "
   ]
  },
  {
   "cell_type": "code",
   "execution_count": null,
   "metadata": {
    "hidden": true
   },
   "outputs": [],
   "source": [
    "from helper_funcs import *"
   ]
  },
  {
   "cell_type": "code",
   "execution_count": null,
   "metadata": {
    "hidden": true
   },
   "outputs": [],
   "source": [
    "\n",
    "\n",
    "# create a variable  to keep track of which result you are in. \n",
    "cur = 0\n",
    "\n",
    "#set up a while loop to go through and grab the result \n",
    "while cur < num and cur < 1000:\n",
    "    #set the offset parameter to be where you currently are in the results \n",
    "    url_params['offset'] = cur\n",
    "    #make your API call with the new offset number\n",
    "    results = yelp_call(url_params, api_key)\n",
    "    \n",
    "    #after you get your results you can now use your function to parse those results\n",
    "    parsed_results = parse_results(results)\n",
    "    \n",
    "    # use your function to insert your parsed results into the db\n",
    "    df_save(parsed_results)\n",
    "    #increment the counter by 50 to move on to the next results\n",
    "    cur += 20"
   ]
  },
  {
   "cell_type": "markdown",
   "metadata": {
    "hidden": true
   },
   "source": [
    "___"
   ]
  },
  {
   "cell_type": "markdown",
   "metadata": {
    "heading_collapsed": true
   },
   "source": [
    "## Part 3 -  Create ETL pipeline for the restaurant review data from the API"
   ]
  },
  {
   "cell_type": "markdown",
   "metadata": {
    "hidden": true
   },
   "source": [
    "You've done this for the Businesses, now you need to do this for reviews. You will follow the same process, but your functions will be specific to reviews. Above you ahve a model of the functions you will need to write, and how to pull them together in one script. For this part, you ahve the process below "
   ]
  },
  {
   "cell_type": "markdown",
   "metadata": {
    "hidden": true
   },
   "source": [
    "- In order to pull the reveiws, you will need the business ids. So your first step will be to get all of the business ids from your businesses csv. "
   ]
  },
  {
   "cell_type": "markdown",
   "metadata": {
    "hidden": true
   },
   "source": [
    "- Write a function that takes a business id and makes a call to the API for reivews\n"
   ]
  },
  {
   "cell_type": "markdown",
   "metadata": {
    "hidden": true
   },
   "source": [
    "- Write a function to parse out the relevant information from the reviews"
   ]
  },
  {
   "cell_type": "markdown",
   "metadata": {
    "hidden": true
   },
   "source": [
    "- Write a function to save the parse data into a csv file containing all of the reviews. "
   ]
  },
  {
   "cell_type": "markdown",
   "metadata": {
    "hidden": true
   },
   "source": [
    "- Combine the functions above into a single script  "
   ]
  },
  {
   "cell_type": "markdown",
   "metadata": {
    "hidden": true
   },
   "source": [
    "___"
   ]
  },
  {
   "cell_type": "markdown",
   "metadata": {
    "heading_collapsed": true
   },
   "source": [
    "## Part 4 -  Using python and pandas, write code to answer the questions below. "
   ]
  },
  {
   "cell_type": "markdown",
   "metadata": {
    "hidden": true
   },
   "source": [
    "- Which are the 5 most reviewed businesses in your dataset?\n",
    "- What is the highest rating recieved in your data set and how many businesses have that rating?\n",
    "- What percentage of businesses have a rating greater than or  4.5?\n",
    "- What percentage of businesses have a rating less than 3?\n",
    "- What percentage of your businesseshave a price label of one dollar sign? Two dollar signs? Three dollar signs? No dollar signs?\n",
    "- Return the text of the reviews for the most reviewed business. \n",
    "- Find the highest rated business and return text of the most recent review. If multiple business have the same rating, select the business with the most reviews. \n",
    "- Find the lowest rated business and return text of the most recent review.  If multiple business have the same rating, select the business with the least reviews. "
   ]
  },
  {
   "cell_type": "markdown",
   "metadata": {
    "hidden": true
   },
   "source": [
    "___"
   ]
  },
  {
   "cell_type": "markdown",
   "metadata": {
    "heading_collapsed": true
   },
   "source": [
    "# Reference help"
   ]
  },
  {
   "cell_type": "markdown",
   "metadata": {
    "hidden": true
   },
   "source": [
    "###  Pagination\n",
    "\n",
    "Returning to the Yelp API, the [documentation](https://www.yelp.com/developers/documentation/v3/business_search) also provides us details regarding the API limits. These often include details about the number of requests a user is allowed to make within a specified time limit and the maximum number of results to be returned. In this case, we are told that any request has a maximum of 50 results per request and defaults to 20. Furthermore, any search will be limited to a total of 1000 results. To retrieve all 1000 of these results, we would have to page through the results piece by piece, retriving 50 at a time. Processes such as these are often refered to as pagination.\n",
    "\n",
    "Now that you have an initial response, you can examine the contents of the json container. For example, you might start with ```response.json().keys()```. Here, you'll see a key for `'total'`, which tells you the full number of matching results given your query parameters. Write a loop (or ideally a function) which then makes successive API calls using the offset parameter to retrieve all of the results (or 5000 for a particularly large result set) for the original query. As you do this, be mindful of how you store the data. \n",
    "\n",
    "**Note: be mindful of the API rate limits. You can only make 5000 requests per day, and APIs can make requests too fast. Start prototyping small before running a loop that could be faulty. You can also use time.sleep(n) to add delays. For more details see https://www.yelp.com/developers/documentation/v3/rate_limiting.**"
   ]
  },
  {
   "cell_type": "markdown",
   "metadata": {
    "hidden": true
   },
   "source": [
    "***Below is sample code that you can use to help you deal with the pagination parameter and bring all of the functions together.***\n",
    "\n",
    "\n",
    "***Also, something might cause your code to break while it is running. You don't want to constantly repull the same data when this happens, so you should insert the data into the database as you call and parse it, not after you have all of the data***\n"
   ]
  },
  {
   "cell_type": "code",
   "execution_count": null,
   "metadata": {
    "hidden": true
   },
   "outputs": [],
   "source": [
    "# create a variable  to keep track of which result you are in. \n",
    "cur = 0\n",
    "\n",
    "#set up a while loop to go through and grab the result \n",
    "while cur < num and cur < 1000:\n",
    "    #set the offset parameter to be where you currently are in the results \n",
    "    url_params['offset'] = cur\n",
    "    #make your API call with the new offset number\n",
    "    results = yelp_call(url_params, api_key)\n",
    "    \n",
    "    #after you get your results you can now use your function to parse those results\n",
    "    parsed_results = parse_results(results)\n",
    "    \n",
    "    # use your function to insert your parsed results into the db\n",
    "    db_insert(parsed_results)\n",
    "    #increment the counter by 50 to move on to the next results\n",
    "    cur += 20"
   ]
  },
  {
   "cell_type": "code",
   "execution_count": null,
   "metadata": {
    "hidden": true
   },
   "outputs": [],
   "source": []
  }
 ],
 "metadata": {
  "kernelspec": {
   "display_name": "Python 3",
   "language": "python",
   "name": "python3"
  },
  "language_info": {
   "codemirror_mode": {
    "name": "ipython",
    "version": 3
   },
   "file_extension": ".py",
   "mimetype": "text/x-python",
   "name": "python",
   "nbconvert_exporter": "python",
   "pygments_lexer": "ipython3",
   "version": "3.8.5"
  },
  "toc": {
   "base_numbering": 1,
   "nav_menu": {},
   "number_sections": false,
   "sideBar": true,
   "skip_h1_title": false,
   "title_cell": "Table of Contents",
   "title_sidebar": "Contents",
   "toc_cell": false,
   "toc_position": {
    "height": "calc(100% - 180px)",
    "left": "10px",
    "top": "150px",
    "width": "165px"
   },
   "toc_section_display": true,
   "toc_window_display": true
  },
  "varInspector": {
   "cols": {
    "lenName": "32",
    "lenType": 16,
    "lenVar": 40
   },
   "kernels_config": {
    "python": {
     "delete_cmd_postfix": "",
     "delete_cmd_prefix": "del ",
     "library": "var_list.py",
     "varRefreshCmd": "print(var_dic_list())"
    },
    "r": {
     "delete_cmd_postfix": ") ",
     "delete_cmd_prefix": "rm(",
     "library": "var_list.r",
     "varRefreshCmd": "cat(var_dic_list()) "
    }
   },
   "types_to_exclude": [
    "module",
    "function",
    "builtin_function_or_method",
    "instance",
    "_Feature"
   ],
   "window_display": false
  }
 },
 "nbformat": 4,
 "nbformat_minor": 2
}
