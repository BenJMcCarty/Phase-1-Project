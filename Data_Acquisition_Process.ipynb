{
 "cells": [
  {
   "cell_type": "markdown",
   "metadata": {},
   "source": [
    "# Getting Your Data From Yelp!"
   ]
  },
  {
   "cell_type": "markdown",
   "metadata": {},
   "source": [
    "In order to make sure you are on track to completing the project, you will complete this workbook first. Below are steps that you need to take in order to make sure you have your data from yelp and are ready to analyze it. Your cohort lead will review this workbook with you the Wednesday before your project is due.    "
   ]
  },
  {
   "cell_type": "markdown",
   "metadata": {
    "heading_collapsed": true
   },
   "source": [
    "# Part 1 - Understanding your data and question"
   ]
  },
  {
   "cell_type": "markdown",
   "metadata": {
    "hidden": true
   },
   "source": [
    "You will be pulling data from the Yelp API to complete your analysis. The API, however, provides you with a lot of information that will not be pertinent to your analysis. You will pull data from the API and parse through it to keep only the data that you will need. In order to help you identify that information,look at the API documentation and understand what data the API will provide you. \n",
    "\n",
    "Identify which data fields you will want to keep for your analysis. \n",
    "\n",
    "https://www.yelp.com/developers/documentation/v3/get_started"
   ]
  },
  {
   "cell_type": "markdown",
   "metadata": {},
   "source": [
    "# Part 2 - Create ETL pipeline for the business data from the API"
   ]
  },
  {
   "cell_type": "markdown",
   "metadata": {
    "heading_collapsed": true
   },
   "source": [
    "## Details"
   ]
  },
  {
   "cell_type": "markdown",
   "metadata": {
    "hidden": true
   },
   "source": [
    "Now that you know what data you need from the API, you want to write code that will execute an API call, parse those results and then insert the results into the DB.  \n",
    "\n",
    "It is helpful to break this up into three different functions (*API call, parse results, and insert into DB*) and then you can write a function/script that pull the other three functions together. \n",
    "\n",
    "Let's first do this for the Business endpoint."
   ]
  },
  {
   "cell_type": "markdown",
   "metadata": {},
   "source": [
    "## Request"
   ]
  },
  {
   "cell_type": "markdown",
   "metadata": {},
   "source": [
    "### Imports and Setup"
   ]
  },
  {
   "cell_type": "code",
   "execution_count": 39,
   "metadata": {
    "ExecuteTime": {
     "end_time": "2021-05-12T17:08:50.377856Z",
     "start_time": "2021-05-12T17:08:48.868832Z"
    },
    "code_folding": []
   },
   "outputs": [],
   "source": [
    "import requests\n",
    "import pandas as pd\n",
    "import json\n",
    "import csv\n",
    "import numpy as np\n",
    "\n",
    "with open(r'C:\\Users\\bmcca\\.secret\\yelp_api.json') as f:\n",
    "    keys = json.load(f)\n",
    "\n",
    "client_id = keys['id']\n",
    "yelp_key = keys['key']"
   ]
  },
  {
   "cell_type": "markdown",
   "metadata": {
    "heading_collapsed": true
   },
   "source": [
    "### ƒ: yelp_request"
   ]
  },
  {
   "cell_type": "markdown",
   "metadata": {
    "ExecuteTime": {
     "end_time": "2021-05-10T15:58:43.341776Z",
     "start_time": "2021-05-10T15:58:43.321768Z"
    },
    "hidden": true
   },
   "source": [
    " - Params: search term (eg. \"wineries); location; yelp_key variable (from Imports); and changing setting to print details"
   ]
  },
  {
   "cell_type": "code",
   "execution_count": 40,
   "metadata": {
    "ExecuteTime": {
     "end_time": "2021-05-12T17:08:50.393803Z",
     "start_time": "2021-05-12T17:08:50.379803Z"
    },
    "code_folding": [],
    "hidden": true
   },
   "outputs": [],
   "source": [
    "# def yelp_request(term, location, yelp_key, verbose=True):\n",
    "#     '''Adapted from Yelp API Lab: https://github.com/BenJMcCarty/dsc-yelp-api-lab/tree/solution'''\n",
    "    \n",
    "#     url = 'https://api.yelp.com/v3/businesses/search'\n",
    "\n",
    "#     headers = {\n",
    "#             'Authorization': 'Bearer {}'.format(yelp_key),\n",
    "#         }\n",
    "\n",
    "#     url_params = {\n",
    "#                     'term': term.replace(' ', '+'),\n",
    "#                     'location': location.replace(' ', '+'),\n",
    "#                     'limit': 50\n",
    "#                 }\n",
    "#     response = requests.get(url, headers=headers, params=url_params)\n",
    "    \n",
    "#     if verbose == True:\n",
    "#         print(response)\n",
    "#         print(type(response.text))\n",
    "#         print(response.text[:1000])\n",
    "        \n",
    "#     return response.json()"
   ]
  },
  {
   "cell_type": "markdown",
   "metadata": {
    "ExecuteTime": {
     "end_time": "2021-05-10T19:44:09.881783Z",
     "start_time": "2021-05-10T19:44:09.868735Z"
    },
    "heading_collapsed": true
   },
   "source": [
    "### Sending the request and saving the response"
   ]
  },
  {
   "cell_type": "markdown",
   "metadata": {
    "hidden": true
   },
   "source": [
    "- Un-comment the next line to run the response"
   ]
  },
  {
   "cell_type": "code",
   "execution_count": 41,
   "metadata": {
    "ExecuteTime": {
     "end_time": "2021-05-12T17:08:50.408812Z",
     "start_time": "2021-05-12T17:08:50.397805Z"
    },
    "hidden": true,
    "scrolled": true
   },
   "outputs": [],
   "source": [
    "# response = yelp_request('winery','Southern California', yelp_key)\n",
    "# response.keys()"
   ]
  },
  {
   "cell_type": "markdown",
   "metadata": {
    "ExecuteTime": {
     "end_time": "2021-05-10T19:43:06.445686Z",
     "start_time": "2021-05-10T19:43:06.434686Z"
    },
    "heading_collapsed": true,
    "hidden": true
   },
   "source": [
    "#### Saving/Loading as JSON for simplicity while iterating"
   ]
  },
  {
   "cell_type": "code",
   "execution_count": 42,
   "metadata": {
    "ExecuteTime": {
     "end_time": "2021-05-12T17:08:50.424804Z",
     "start_time": "2021-05-12T17:08:50.411804Z"
    },
    "hidden": true
   },
   "outputs": [],
   "source": [
    "# try:\n",
    "#     with open(r'data\\response.txt', 'w') as f:\n",
    "#         json.dump(response, f)\n",
    "# except IOError:\n",
    "#     print(\"I/O error\")"
   ]
  },
  {
   "cell_type": "code",
   "execution_count": 43,
   "metadata": {
    "ExecuteTime": {
     "end_time": "2021-05-12T17:08:50.439803Z",
     "start_time": "2021-05-12T17:08:50.426808Z"
    },
    "hidden": true
   },
   "outputs": [],
   "source": [
    "# with open('data/response.txt') as json_file:\n",
    "#     data = json.load(json_file)"
   ]
  },
  {
   "cell_type": "markdown",
   "metadata": {
    "heading_collapsed": true
   },
   "source": [
    "### Identifying and Exploring Keys"
   ]
  },
  {
   "cell_type": "code",
   "execution_count": 44,
   "metadata": {
    "ExecuteTime": {
     "end_time": "2021-05-12T17:08:50.580805Z",
     "start_time": "2021-05-12T17:08:50.441814Z"
    },
    "hidden": true
   },
   "outputs": [
    {
     "ename": "NameError",
     "evalue": "name 'response' is not defined",
     "output_type": "error",
     "traceback": [
      "\u001b[1;31m---------------------------------------------------------------------------\u001b[0m",
      "\u001b[1;31mNameError\u001b[0m                                 Traceback (most recent call last)",
      "\u001b[1;32m<ipython-input-44-d915d9f29ecb>\u001b[0m in \u001b[0;36m<module>\u001b[1;34m\u001b[0m\n\u001b[0;32m      1\u001b[0m \u001b[1;31m# Identify keys\u001b[0m\u001b[1;33m\u001b[0m\u001b[1;33m\u001b[0m\u001b[1;33m\u001b[0m\u001b[0m\n\u001b[0;32m      2\u001b[0m \u001b[1;33m\u001b[0m\u001b[0m\n\u001b[1;32m----> 3\u001b[1;33m \u001b[0mprint\u001b[0m\u001b[1;33m(\u001b[0m\u001b[0mresponse\u001b[0m\u001b[1;33m.\u001b[0m\u001b[0mkeys\u001b[0m\u001b[1;33m(\u001b[0m\u001b[1;33m)\u001b[0m\u001b[1;33m)\u001b[0m\u001b[1;33m\u001b[0m\u001b[1;33m\u001b[0m\u001b[0m\n\u001b[0m",
      "\u001b[1;31mNameError\u001b[0m: name 'response' is not defined"
     ]
    }
   ],
   "source": [
    "# Identify keys\n",
    "\n",
    "print(response.keys())"
   ]
  },
  {
   "cell_type": "markdown",
   "metadata": {
    "hidden": true
   },
   "source": [
    "#### Exploring the \"Businesses\" Key"
   ]
  },
  {
   "cell_type": "code",
   "execution_count": null,
   "metadata": {
    "ExecuteTime": {
     "end_time": "2021-05-12T17:08:50.591804Z",
     "start_time": "2021-05-12T17:08:48.888Z"
    },
    "hidden": true
   },
   "outputs": [],
   "source": [
    "response['businesses']"
   ]
  },
  {
   "cell_type": "code",
   "execution_count": null,
   "metadata": {
    "ExecuteTime": {
     "end_time": "2021-05-12T17:08:50.594804Z",
     "start_time": "2021-05-12T17:08:48.891Z"
    },
    "code_folding": [],
    "hidden": true,
    "scrolled": true
   },
   "outputs": [],
   "source": [
    "# Show first item w/in list of businesses\n",
    "\n",
    "response['businesses'][0]"
   ]
  },
  {
   "cell_type": "code",
   "execution_count": null,
   "metadata": {
    "ExecuteTime": {
     "end_time": "2021-05-12T17:08:50.597807Z",
     "start_time": "2021-05-12T17:08:48.895Z"
    },
    "hidden": true
   },
   "outputs": [],
   "source": [
    "response['businesses'][0]['categories'][0]['alias']"
   ]
  },
  {
   "cell_type": "code",
   "execution_count": null,
   "metadata": {
    "ExecuteTime": {
     "end_time": "2021-05-12T17:08:50.599808Z",
     "start_time": "2021-05-12T17:08:48.898Z"
    },
    "hidden": true
   },
   "outputs": [],
   "source": [
    "response['businesses'][0]['categories'][0]['title']"
   ]
  },
  {
   "cell_type": "markdown",
   "metadata": {
    "hidden": true
   },
   "source": [
    "#### Exploring the \"Total\" Key"
   ]
  },
  {
   "cell_type": "code",
   "execution_count": null,
   "metadata": {
    "ExecuteTime": {
     "end_time": "2021-05-12T17:08:50.601805Z",
     "start_time": "2021-05-12T17:08:48.901Z"
    },
    "hidden": true
   },
   "outputs": [],
   "source": [
    "response['total']\n",
    "\n",
    "# How many businesses are there in total for my request?"
   ]
  },
  {
   "cell_type": "markdown",
   "metadata": {
    "hidden": true
   },
   "source": [
    "#### Exploring the \"Region\" Key"
   ]
  },
  {
   "cell_type": "code",
   "execution_count": null,
   "metadata": {
    "ExecuteTime": {
     "end_time": "2021-05-12T17:08:50.602804Z",
     "start_time": "2021-05-12T17:08:48.907Z"
    },
    "hidden": true
   },
   "outputs": [],
   "source": [
    "response['region']\n",
    "\n",
    "# From which geographical area will my results come?"
   ]
  },
  {
   "cell_type": "markdown",
   "metadata": {},
   "source": [
    "## Parse"
   ]
  },
  {
   "cell_type": "code",
   "execution_count": null,
   "metadata": {
    "ExecuteTime": {
     "end_time": "2021-05-12T17:08:50.604804Z",
     "start_time": "2021-05-12T17:08:48.910Z"
    }
   },
   "outputs": [],
   "source": [
    "response.keys()"
   ]
  },
  {
   "cell_type": "markdown",
   "metadata": {
    "ExecuteTime": {
     "end_time": "2021-05-10T21:41:29.180856Z",
     "start_time": "2021-05-10T21:41:29.173856Z"
    }
   },
   "source": [
    "### ƒ: parse_data"
   ]
  },
  {
   "cell_type": "code",
   "execution_count": 46,
   "metadata": {
    "ExecuteTime": {
     "end_time": "2021-05-12T17:09:56.986805Z",
     "start_time": "2021-05-12T17:09:56.979780Z"
    },
    "code_folding": []
   },
   "outputs": [],
   "source": [
    "def parse_data(list_of_data):\n",
    "    '''Adapted from Tyrell's code'''  \n",
    "\n",
    "    # Create empty list to store results\n",
    "    \n",
    "    parsed_data = []\n",
    "    \n",
    "    # Loop through each business in the list of businesses\n",
    "    # Add specific k:v pairs to a dictionary\n",
    "    # These pairs will be used to build a DF afterwards\n",
    "    \n",
    "    for business in list_of_data:\n",
    "        if 'price' not in business:\n",
    "            business['price'] = np.nan\n",
    "            \n",
    "            # Verify that the \"price\" key is in the selected business dict\n",
    "            \n",
    "        details = {'name': business['name'],\n",
    "                     'location': ' '.join(business['location']['display_address']),\n",
    "                     'id': business['id'],\n",
    "                     #'categories': business['categories'],\n",
    "                     'alias': business['categories'][0]['alias'],\n",
    "                     'title': business['categories'][0]['title'],\n",
    "                     'rating': business['rating'],\n",
    "                     'review_count': business['review_count'],\n",
    "                     'price': business['price'],\n",
    "                     'latitude': business['coordinates']['latitude'],\n",
    "                     'longitude': business['coordinates']['longitude']\n",
    "                    }\n",
    "\n",
    "        # If the \"price\" key is missing, then skip adding that key\n",
    "        # This avoids an error when getting the desired info\n",
    "        \n",
    "#         else:\n",
    "#             details = {'name': business['name'],\n",
    "#                          'location': business['location']['display_address'],\n",
    "#                          'id': business['id'],\n",
    "#                          #'categories': business['categories'],\n",
    "#                          'alias': business['categories'][0]['alias'],\n",
    "#                          'title': business['categories'][0]['title'],\n",
    "#                          'rating': business['rating'],\n",
    "#                          'review_count': business['review_count'],\n",
    "#                          'latitude': business['coordinates']['latitude'],\n",
    "#                          'longitude': business['coordinates']['longitude']\n",
    "#                         }\n",
    "        \n",
    "        # Add the new dictionary to the previous list\n",
    "        \n",
    "        parsed_data.append(details)\n",
    "    \n",
    "    # Adjust the 'location' value to be a single string (not 2 str in a list)\n",
    "    \n",
    "#     for biz in parsed_data:\n",
    "#         biz['location'] = ' '.join(biz['location'])\n",
    "        \n",
    "    # Create a DataFrame from the resulting list\n",
    "    \n",
    "    df_parsed_data = pd.DataFrame(parsed_data)\n",
    "    \n",
    "#     df_parsed_data.dropna(inplace=True)\n",
    "    \n",
    "    return df_parsed_data"
   ]
  },
  {
   "cell_type": "code",
   "execution_count": null,
   "metadata": {
    "ExecuteTime": {
     "end_time": "2021-05-12T17:08:50.608804Z",
     "start_time": "2021-05-12T17:08:48.919Z"
    }
   },
   "outputs": [],
   "source": [
    "# parsed_results = parse_data(response['businesses'])\n",
    "# parsed_results"
   ]
  },
  {
   "cell_type": "code",
   "execution_count": null,
   "metadata": {
    "ExecuteTime": {
     "end_time": "2021-05-12T17:08:50.609804Z",
     "start_time": "2021-05-12T17:08:48.922Z"
    }
   },
   "outputs": [],
   "source": [
    "# # Identify totals of NaN values\n",
    "\n",
    "# parsed_results.isnull().sum()"
   ]
  },
  {
   "cell_type": "code",
   "execution_count": null,
   "metadata": {
    "ExecuteTime": {
     "end_time": "2021-05-12T17:08:50.610803Z",
     "start_time": "2021-05-12T17:08:48.925Z"
    }
   },
   "outputs": [],
   "source": [
    "# # Simple statistical exploration of quantitative values\n",
    "\n",
    "# parsed_results.describe()"
   ]
  },
  {
   "cell_type": "markdown",
   "metadata": {
    "ExecuteTime": {
     "end_time": "2021-05-10T22:37:53.049725Z",
     "start_time": "2021-05-10T22:37:53.042727Z"
    }
   },
   "source": [
    "## Updating Requests for Pagination"
   ]
  },
  {
   "cell_type": "markdown",
   "metadata": {},
   "source": [
    "### ƒ: yelp_request_offset"
   ]
  },
  {
   "cell_type": "code",
   "execution_count": null,
   "metadata": {
    "ExecuteTime": {
     "end_time": "2021-05-12T17:08:50.612806Z",
     "start_time": "2021-05-12T17:08:48.929Z"
    },
    "code_folding": []
   },
   "outputs": [],
   "source": [
    "def yelp_request_offset(term, location, yelp_key, offset=0, verbose=False):\n",
    "    '''Adapted from Yelp API Lab: https://github.com/BenJMcCarty/dsc-yelp-api-lab/tree/solution'''\n",
    "    \n",
    "    url = 'https://api.yelp.com/v3/businesses/search'\n",
    "\n",
    "    headers = {\n",
    "            'Authorization': 'Bearer {}'.format(yelp_key),\n",
    "        }\n",
    "\n",
    "    url_params = {\n",
    "                    'term': term.replace(' ', '+'),\n",
    "                    'location': location.replace(' ', '+'),\n",
    "                    'limit': 50,\n",
    "                    'offset': offset\n",
    "                        }\n",
    "    \n",
    "    response = requests.get(url, headers=headers, params=url_params)\n",
    "    \n",
    "    if verbose == True:\n",
    "        print(response)\n",
    "        print(type(response.text))\n",
    "        print(response.text[:1000])\n",
    "        \n",
    "    return response.json()"
   ]
  },
  {
   "cell_type": "markdown",
   "metadata": {
    "ExecuteTime": {
     "end_time": "2021-05-10T21:52:21.177479Z",
     "start_time": "2021-05-10T21:52:21.167481Z"
    },
    "heading_collapsed": true
   },
   "source": [
    "#### Test 1"
   ]
  },
  {
   "cell_type": "code",
   "execution_count": null,
   "metadata": {
    "ExecuteTime": {
     "end_time": "2021-05-12T17:08:50.614808Z",
     "start_time": "2021-05-12T17:08:48.939Z"
    },
    "hidden": true
   },
   "outputs": [],
   "source": [
    "# test1 = yelp_request_offset('winery', 'San Diego', yelp_key, offset=0, verbose=False)\n",
    "# test1"
   ]
  },
  {
   "cell_type": "code",
   "execution_count": null,
   "metadata": {
    "ExecuteTime": {
     "end_time": "2021-05-12T17:08:50.616809Z",
     "start_time": "2021-05-12T17:08:48.942Z"
    },
    "hidden": true
   },
   "outputs": [],
   "source": [
    "# test1.keys()"
   ]
  },
  {
   "cell_type": "code",
   "execution_count": null,
   "metadata": {
    "ExecuteTime": {
     "end_time": "2021-05-12T17:08:50.617807Z",
     "start_time": "2021-05-12T17:08:48.944Z"
    },
    "hidden": true,
    "scrolled": true
   },
   "outputs": [],
   "source": [
    "# test1['total']"
   ]
  },
  {
   "cell_type": "code",
   "execution_count": null,
   "metadata": {
    "ExecuteTime": {
     "end_time": "2021-05-12T17:08:50.619804Z",
     "start_time": "2021-05-12T17:08:48.946Z"
    },
    "hidden": true
   },
   "outputs": [],
   "source": [
    "# len(test1['businesses'])"
   ]
  },
  {
   "cell_type": "markdown",
   "metadata": {
    "heading_collapsed": true
   },
   "source": [
    "#### Test 2"
   ]
  },
  {
   "cell_type": "code",
   "execution_count": null,
   "metadata": {
    "ExecuteTime": {
     "end_time": "2021-05-12T17:08:50.620805Z",
     "start_time": "2021-05-12T17:08:48.949Z"
    },
    "hidden": true
   },
   "outputs": [],
   "source": [
    "# test2 = yelp_request_offset('winery', 'San Diego', yelp_key, offset=50, verbose=False)\n",
    "# test2"
   ]
  },
  {
   "cell_type": "markdown",
   "metadata": {},
   "source": [
    "#### Loop"
   ]
  },
  {
   "cell_type": "code",
   "execution_count": null,
   "metadata": {
    "ExecuteTime": {
     "end_time": "2021-05-12T17:08:50.621806Z",
     "start_time": "2021-05-12T17:08:48.952Z"
    },
    "code_folding": [
     0
    ]
   },
   "outputs": [],
   "source": [
    "# results = yelp_request_offset('winery', 'San Diego', yelp_key, offset=0, verbose=False)\n",
    "\n",
    "# num_pages = results['total']//50+1\n",
    "\n",
    "# print(results['total'])\n",
    "# print(len(results['businesses']))\n",
    "# print(num_pages)"
   ]
  },
  {
   "cell_type": "code",
   "execution_count": null,
   "metadata": {
    "ExecuteTime": {
     "end_time": "2021-05-12T17:08:50.623805Z",
     "start_time": "2021-05-12T17:08:48.955Z"
    },
    "code_folding": [
     0
    ]
   },
   "outputs": [],
   "source": [
    "# cur = 50\n",
    "# parsed_results_dfs = []\n",
    "\n",
    "# for num in range(num_pages):\n",
    "#     results = yelp_request_offset('winery', 'San Diego', yelp_key, offset=cur, verbose=False)\n",
    "#     parsed_results = parse_data(results['businesses'])\n",
    "#     parsed_results_dfs.append(parsed_results)\n",
    "#     cur += 50\n",
    "    "
   ]
  },
  {
   "cell_type": "code",
   "execution_count": null,
   "metadata": {
    "ExecuteTime": {
     "end_time": "2021-05-12T17:08:50.624805Z",
     "start_time": "2021-05-12T17:08:48.958Z"
    }
   },
   "outputs": [],
   "source": [
    "# parsed_results_dfs"
   ]
  },
  {
   "cell_type": "code",
   "execution_count": null,
   "metadata": {
    "ExecuteTime": {
     "end_time": "2021-05-12T17:08:50.625807Z",
     "start_time": "2021-05-12T17:08:48.961Z"
    },
    "scrolled": true
   },
   "outputs": [],
   "source": [
    "# df_concat = pd.concat(parsed_results_dfs, ignore_index=True)\n",
    "# df_concat"
   ]
  },
  {
   "cell_type": "markdown",
   "metadata": {
    "heading_collapsed": true
   },
   "source": [
    "## Save"
   ]
  },
  {
   "cell_type": "markdown",
   "metadata": {
    "hidden": true
   },
   "source": [
    "### ƒ: df_save"
   ]
  },
  {
   "cell_type": "markdown",
   "metadata": {
    "hidden": true
   },
   "source": [
    "Save parsed results to a .csv file"
   ]
  },
  {
   "cell_type": "code",
   "execution_count": null,
   "metadata": {
    "ExecuteTime": {
     "end_time": "2021-05-12T17:08:50.626804Z",
     "start_time": "2021-05-12T17:08:48.964Z"
    },
    "hidden": true
   },
   "outputs": [],
   "source": [
    "# df.shape"
   ]
  },
  {
   "cell_type": "code",
   "execution_count": null,
   "metadata": {
    "ExecuteTime": {
     "end_time": "2021-05-12T17:08:50.628805Z",
     "start_time": "2021-05-12T17:08:48.967Z"
    },
    "hidden": true
   },
   "outputs": [],
   "source": [
    "# df_concat.to_csv('data\\wineries.csv')"
   ]
  },
  {
   "cell_type": "code",
   "execution_count": null,
   "metadata": {
    "ExecuteTime": {
     "end_time": "2021-05-12T17:08:50.629806Z",
     "start_time": "2021-05-12T17:08:48.970Z"
    },
    "hidden": true
   },
   "outputs": [],
   "source": [
    "# df = pd.read_csv(\"data/wineries.csv\", index_col=0)\n",
    "# df"
   ]
  },
  {
   "cell_type": "markdown",
   "metadata": {
    "heading_collapsed": true,
    "hidden": true
   },
   "source": [
    "#### Old Stuff"
   ]
  },
  {
   "cell_type": "code",
   "execution_count": null,
   "metadata": {
    "ExecuteTime": {
     "end_time": "2021-05-12T17:08:50.630806Z",
     "start_time": "2021-05-12T17:08:48.972Z"
    },
    "hidden": true
   },
   "outputs": [],
   "source": [
    "# from helper_funcs import *"
   ]
  },
  {
   "cell_type": "code",
   "execution_count": null,
   "metadata": {
    "ExecuteTime": {
     "end_time": "2021-05-12T17:08:50.631804Z",
     "start_time": "2021-05-12T17:08:48.975Z"
    },
    "hidden": true
   },
   "outputs": [],
   "source": [
    "\n",
    "\n",
    "# # create a variable  to keep track of which result you are in. \n",
    "# cur = 0\n",
    "\n",
    "# #set up a while loop to go through and grab the result \n",
    "# while cur < num and cur < 1000:\n",
    "#     #set the offset parameter to be where you currently are in the results \n",
    "\n",
    "#     #make your API call with the new offset number\n",
    "#     results = yelp_call_offset('winery', 'San Diego', yelp_key, offset=cur, verbose=False)\n",
    "    \n",
    "#     #after you get your results you can now use your function to parse those results\n",
    "#     parsed_results = parse_results(results)\n",
    "    \n",
    "#     # use your function to insert your parsed results into the db\n",
    "#     df_save(parsed_results)\n",
    "#     #increment the counter by 50 to move on to the next results\n",
    "#     cur += 50"
   ]
  },
  {
   "cell_type": "markdown",
   "metadata": {},
   "source": [
    "## Edit and Condense"
   ]
  },
  {
   "cell_type": "markdown",
   "metadata": {},
   "source": [
    "Goal: condense the details down to specific functions (perhaps one function?) to pull, clean, and save data."
   ]
  },
  {
   "cell_type": "markdown",
   "metadata": {},
   "source": [
    "While it will take some experimentation to write the functions above, once you get them working it will be best to put them in a `.py` file and then import the functions to use in a script "
   ]
  },
  {
   "cell_type": "markdown",
   "metadata": {},
   "source": [
    "# ƒ: GET FULL DATA"
   ]
  },
  {
   "cell_type": "code",
   "execution_count": null,
   "metadata": {
    "ExecuteTime": {
     "end_time": "2021-05-12T17:08:50.632803Z",
     "start_time": "2021-05-12T17:08:48.981Z"
    }
   },
   "outputs": [],
   "source": [
    "# results = yelp_request_offset('winery', 'San Diego', yelp_key, offset=0, verbose=False)\n",
    "\n",
    "# num_pages = results['total']//50+1\n",
    "\n",
    "# print(results['total'])\n",
    "# print(len(results['businesses']))\n",
    "# print(num_pages)"
   ]
  },
  {
   "cell_type": "code",
   "execution_count": null,
   "metadata": {
    "ExecuteTime": {
     "end_time": "2021-05-12T17:08:50.633804Z",
     "start_time": "2021-05-12T17:08:48.985Z"
    }
   },
   "outputs": [],
   "source": [
    "num_pages = 6\n",
    "\n",
    "for i in range(num_pages):\n",
    "    print(i)"
   ]
  },
  {
   "cell_type": "code",
   "execution_count": 55,
   "metadata": {
    "ExecuteTime": {
     "end_time": "2021-05-12T17:11:42.372721Z",
     "start_time": "2021-05-12T17:11:42.360690Z"
    }
   },
   "outputs": [],
   "source": [
    "def get_full_data(term, location, yelp_key, file_name = 'data/wineries_raw.csv'):\n",
    "    '''Requests all results from Yelp API; saves as a .csv; and returns a DataFrame.'''\n",
    "    \n",
    "    blank_df = pd.DataFrame()\n",
    "    blank_df.to_csv(file_name)\n",
    "    \n",
    "    # Process first request to Yelp API and calculate number of pages \n",
    "    results = yelp_request_offset(term, location, yelp_key, offset=0, \n",
    "                                  verbose=False)\n",
    "    num_pages = results['total']//50+1\n",
    "    \n",
    "    # Print out confirmation feedback\n",
    "    print(f'For {term} and {location}: ')\n",
    "    print(f\"    Total number of results: {results['total']}.\")\n",
    "    print(f'    Total number of pages: {num_pages}.')\n",
    "    \n",
    "    # Create offset for further results and create empty list\n",
    "    offset = 0\n",
    "    \n",
    "    # Created .csv as container for results\n",
    "#     parsed_results_dfs = []\n",
    "\n",
    "    # Retrieves remaining pages\n",
    "    for num in range(num_pages-1):\n",
    "        try:\n",
    "            # Process API request\n",
    "            results = yelp_request_offset(term, location, yelp_key,\n",
    "                                          offset=offset, verbose=False)\n",
    "            \n",
    "            # From results, take values from \"Businesses\" key and save\n",
    "            parsed_results = parse_data(results['businesses'])\n",
    "            \n",
    "            \n",
    "            # Removed following line due to change to saving to df/csv\n",
    "            ## parsed_results_dfs.append(parsed_results)\n",
    "            \n",
    "            # H2: save results to df?\n",
    "            # 1. Create DF from results\n",
    "            # 2. Save resulting DF to .csv created above\n",
    "            parsed_results.to_csv(file_name, mode='a', index = False)\n",
    "            \n",
    "            # Increase offset to move to next \"page\" of data\n",
    "            offset += 50\n",
    "            \n",
    "        except:\n",
    "            # If error, print where the error happens\n",
    "            print(f'Error on page {num}.')\n",
    "            # Then save the results so far to the .csv\n",
    "            parsed_results.to_csv(file_name, mode='a', index = False)\n",
    "\n",
    "#     # Concatenate DataFrames and save to .csv\n",
    "#     df_concat = pd.concat(parsed_results_dfs, ignore_index=True)\n",
    "\n",
    "    # Created new file at start - don't need at end\n",
    "#     try:\n",
    "#         df_concat.to_csv(file_name)\n",
    "#         print(f'Saved to {file_name}.')\n",
    "#     except:\n",
    "#         print(f'Error, did not save.')\n",
    "        \n",
    "    return parsed_results"
   ]
  },
  {
   "cell_type": "code",
   "execution_count": 61,
   "metadata": {
    "ExecuteTime": {
     "end_time": "2021-05-12T17:17:54.121970Z",
     "start_time": "2021-05-12T17:17:54.085973Z"
    },
    "collapsed": true
   },
   "outputs": [
    {
     "data": {
      "text/html": [
       "<div>\n",
       "<style scoped>\n",
       "    .dataframe tbody tr th:only-of-type {\n",
       "        vertical-align: middle;\n",
       "    }\n",
       "\n",
       "    .dataframe tbody tr th {\n",
       "        vertical-align: top;\n",
       "    }\n",
       "\n",
       "    .dataframe thead th {\n",
       "        text-align: right;\n",
       "    }\n",
       "</style>\n",
       "<table border=\"1\" class=\"dataframe\">\n",
       "  <thead>\n",
       "    <tr style=\"text-align: right;\">\n",
       "      <th></th>\n",
       "      <th>name</th>\n",
       "      <th>location</th>\n",
       "      <th>id</th>\n",
       "      <th>alias</th>\n",
       "      <th>title</th>\n",
       "      <th>rating</th>\n",
       "      <th>review_count</th>\n",
       "      <th>price</th>\n",
       "      <th>latitude</th>\n",
       "      <th>longitude</th>\n",
       "    </tr>\n",
       "  </thead>\n",
       "  <tbody>\n",
       "    <tr>\n",
       "      <th>0</th>\n",
       "      <td>The Winery Restaurant &amp; Wine Bar</td>\n",
       "      <td>4301 La Jolla Village Dr Ste 2040 San Diego, C...</td>\n",
       "      <td>76ADW8x8J_69qbtsc5F-2g</td>\n",
       "      <td>bars</td>\n",
       "      <td>Bars</td>\n",
       "      <td>4.0</td>\n",
       "      <td>492</td>\n",
       "      <td>$$</td>\n",
       "      <td>32.872428</td>\n",
       "      <td>-117.213775</td>\n",
       "    </tr>\n",
       "    <tr>\n",
       "      <th>1</th>\n",
       "      <td>Bernardo Winery</td>\n",
       "      <td>13330 Paseo Del Verano Norte San Diego, CA 92128</td>\n",
       "      <td>DknnpiG1p4OoM1maFshzXA</td>\n",
       "      <td>winetastingroom</td>\n",
       "      <td>Wine Tasting Room</td>\n",
       "      <td>4.5</td>\n",
       "      <td>626</td>\n",
       "      <td>$$</td>\n",
       "      <td>33.032800</td>\n",
       "      <td>-117.046460</td>\n",
       "    </tr>\n",
       "    <tr>\n",
       "      <th>2</th>\n",
       "      <td>Baja Winery Tours</td>\n",
       "      <td>4629 Cass St San Diego, CA 92109</td>\n",
       "      <td>vVaNDvLrCCE_Cw_DyPnBpA</td>\n",
       "      <td>winetours</td>\n",
       "      <td>Wine Tours</td>\n",
       "      <td>5.0</td>\n",
       "      <td>66</td>\n",
       "      <td>NaN</td>\n",
       "      <td>32.798916</td>\n",
       "      <td>-117.252111</td>\n",
       "    </tr>\n",
       "    <tr>\n",
       "      <th>3</th>\n",
       "      <td>Callaway Vineyard &amp; Winery</td>\n",
       "      <td>517 4th Ave Ste 101 San Diego, CA 92101</td>\n",
       "      <td>Cn2_bpTngghYW1ej4zreZg</td>\n",
       "      <td>winetastingroom</td>\n",
       "      <td>Wine Tasting Room</td>\n",
       "      <td>5.0</td>\n",
       "      <td>100</td>\n",
       "      <td>$$</td>\n",
       "      <td>32.710751</td>\n",
       "      <td>-117.160918</td>\n",
       "    </tr>\n",
       "    <tr>\n",
       "      <th>4</th>\n",
       "      <td>Négociant Winery</td>\n",
       "      <td>2419 El Cajon Blvd San Diego, CA 92104</td>\n",
       "      <td>Cc1sQWRWgGyMCjzX2mmMQQ</td>\n",
       "      <td>winetastingroom</td>\n",
       "      <td>Wine Tasting Room</td>\n",
       "      <td>4.5</td>\n",
       "      <td>103</td>\n",
       "      <td>$$</td>\n",
       "      <td>32.754880</td>\n",
       "      <td>-117.138280</td>\n",
       "    </tr>\n",
       "    <tr>\n",
       "      <th>...</th>\n",
       "      <td>...</td>\n",
       "      <td>...</td>\n",
       "      <td>...</td>\n",
       "      <td>...</td>\n",
       "      <td>...</td>\n",
       "      <td>...</td>\n",
       "      <td>...</td>\n",
       "      <td>...</td>\n",
       "      <td>...</td>\n",
       "      <td>...</td>\n",
       "    </tr>\n",
       "    <tr>\n",
       "      <th>192</th>\n",
       "      <td>San Diego Limobuses</td>\n",
       "      <td>3333 Midway Dr Ste 206 San Diego, CA 92110</td>\n",
       "      <td>SCaFGyzrTGTI6aQHhLxbgA</td>\n",
       "      <td>limos</td>\n",
       "      <td>Limos</td>\n",
       "      <td>3.0</td>\n",
       "      <td>46</td>\n",
       "      <td>NaN</td>\n",
       "      <td>32.750060</td>\n",
       "      <td>-117.211380</td>\n",
       "    </tr>\n",
       "    <tr>\n",
       "      <th>193</th>\n",
       "      <td>Alpine Discount Liquor</td>\n",
       "      <td>2223 Alpine Blvd Alpine, CA 91901</td>\n",
       "      <td>#NAME?</td>\n",
       "      <td>beer_and_wine</td>\n",
       "      <td>Beer, Wine &amp; Spirits</td>\n",
       "      <td>3.5</td>\n",
       "      <td>3</td>\n",
       "      <td>$</td>\n",
       "      <td>32.835287</td>\n",
       "      <td>-116.765910</td>\n",
       "    </tr>\n",
       "    <tr>\n",
       "      <th>194</th>\n",
       "      <td>Village Wine &amp; Spirits</td>\n",
       "      <td>1552 Encinitas Blvd Encinitas, CA 92024</td>\n",
       "      <td>XkGnb-YxP5MK_ok1X011RA</td>\n",
       "      <td>beer_and_wine</td>\n",
       "      <td>Beer, Wine &amp; Spirits</td>\n",
       "      <td>4.0</td>\n",
       "      <td>24</td>\n",
       "      <td>$$</td>\n",
       "      <td>33.045896</td>\n",
       "      <td>-117.255584</td>\n",
       "    </tr>\n",
       "    <tr>\n",
       "      <th>195</th>\n",
       "      <td>The Destination Wedding Group</td>\n",
       "      <td>Escondido, CA 92033</td>\n",
       "      <td>lJwxe_fjdt-e8xPrDq63fA</td>\n",
       "      <td>wedding_planning</td>\n",
       "      <td>Wedding Planning</td>\n",
       "      <td>5.0</td>\n",
       "      <td>18</td>\n",
       "      <td>NaN</td>\n",
       "      <td>33.123470</td>\n",
       "      <td>-117.086520</td>\n",
       "    </tr>\n",
       "    <tr>\n",
       "      <th>196</th>\n",
       "      <td>BevMo!</td>\n",
       "      <td>168 S Solana Hills Dr Solana Beach, CA 92075</td>\n",
       "      <td>m2LBkxbaDBg2VDFAW4Q9Gg</td>\n",
       "      <td>beer_and_wine</td>\n",
       "      <td>Beer, Wine &amp; Spirits</td>\n",
       "      <td>3.0</td>\n",
       "      <td>31</td>\n",
       "      <td>$$</td>\n",
       "      <td>32.994626</td>\n",
       "      <td>-117.257886</td>\n",
       "    </tr>\n",
       "  </tbody>\n",
       "</table>\n",
       "<p>197 rows × 10 columns</p>\n",
       "</div>"
      ],
      "text/plain": [
       "                                 name  \\\n",
       "0    The Winery Restaurant & Wine Bar   \n",
       "1                     Bernardo Winery   \n",
       "2                   Baja Winery Tours   \n",
       "3          Callaway Vineyard & Winery   \n",
       "4                    Négociant Winery   \n",
       "..                                ...   \n",
       "192               San Diego Limobuses   \n",
       "193            Alpine Discount Liquor   \n",
       "194            Village Wine & Spirits   \n",
       "195     The Destination Wedding Group   \n",
       "196                            BevMo!   \n",
       "\n",
       "                                              location  \\\n",
       "0    4301 La Jolla Village Dr Ste 2040 San Diego, C...   \n",
       "1     13330 Paseo Del Verano Norte San Diego, CA 92128   \n",
       "2                     4629 Cass St San Diego, CA 92109   \n",
       "3              517 4th Ave Ste 101 San Diego, CA 92101   \n",
       "4               2419 El Cajon Blvd San Diego, CA 92104   \n",
       "..                                                 ...   \n",
       "192         3333 Midway Dr Ste 206 San Diego, CA 92110   \n",
       "193                  2223 Alpine Blvd Alpine, CA 91901   \n",
       "194            1552 Encinitas Blvd Encinitas, CA 92024   \n",
       "195                                Escondido, CA 92033   \n",
       "196       168 S Solana Hills Dr Solana Beach, CA 92075   \n",
       "\n",
       "                         id             alias                 title  rating  \\\n",
       "0    76ADW8x8J_69qbtsc5F-2g              bars                  Bars     4.0   \n",
       "1    DknnpiG1p4OoM1maFshzXA   winetastingroom     Wine Tasting Room     4.5   \n",
       "2    vVaNDvLrCCE_Cw_DyPnBpA         winetours            Wine Tours     5.0   \n",
       "3    Cn2_bpTngghYW1ej4zreZg   winetastingroom     Wine Tasting Room     5.0   \n",
       "4    Cc1sQWRWgGyMCjzX2mmMQQ   winetastingroom     Wine Tasting Room     4.5   \n",
       "..                      ...               ...                   ...     ...   \n",
       "192  SCaFGyzrTGTI6aQHhLxbgA             limos                 Limos     3.0   \n",
       "193                  #NAME?     beer_and_wine  Beer, Wine & Spirits     3.5   \n",
       "194  XkGnb-YxP5MK_ok1X011RA     beer_and_wine  Beer, Wine & Spirits     4.0   \n",
       "195  lJwxe_fjdt-e8xPrDq63fA  wedding_planning      Wedding Planning     5.0   \n",
       "196  m2LBkxbaDBg2VDFAW4Q9Gg     beer_and_wine  Beer, Wine & Spirits     3.0   \n",
       "\n",
       "     review_count price   latitude   longitude  \n",
       "0             492    $$  32.872428 -117.213775  \n",
       "1             626    $$  33.032800 -117.046460  \n",
       "2              66   NaN  32.798916 -117.252111  \n",
       "3             100    $$  32.710751 -117.160918  \n",
       "4             103    $$  32.754880 -117.138280  \n",
       "..            ...   ...        ...         ...  \n",
       "192            46   NaN  32.750060 -117.211380  \n",
       "193             3     $  32.835287 -116.765910  \n",
       "194            24    $$  33.045896 -117.255584  \n",
       "195            18   NaN  33.123470 -117.086520  \n",
       "196            31    $$  32.994626 -117.257886  \n",
       "\n",
       "[197 rows x 10 columns]"
      ]
     },
     "execution_count": 61,
     "metadata": {},
     "output_type": "execute_result"
    }
   ],
   "source": [
    "# Read saved data from .csv from above\n",
    "\n",
    "df2 = pd.read_csv('data/wineries_raw.csv', header = 0)\n",
    "df2"
   ]
  },
  {
   "cell_type": "markdown",
   "metadata": {},
   "source": [
    "## Cleaning Data"
   ]
  },
  {
   "cell_type": "markdown",
   "metadata": {},
   "source": [
    "## Identifying top 3 aliases"
   ]
  },
  {
   "cell_type": "code",
   "execution_count": 65,
   "metadata": {
    "ExecuteTime": {
     "end_time": "2021-05-12T17:19:37.266517Z",
     "start_time": "2021-05-12T17:19:37.256517Z"
    },
    "code_folding": [
     0
    ]
   },
   "outputs": [
    {
     "name": "stdout",
     "output_type": "stream",
     "text": [
      "             alias  title\n",
      "0         wineries     49\n",
      "1  winetastingroom     33\n",
      "['wineries', 'winetastingroom']\n"
     ]
    }
   ],
   "source": [
    "# Create new DF showing only alias and title columns\n",
    "df2_alias = df2.loc[:,['alias', 'title']]\n",
    "\n",
    "# Identify top 2 aliases \n",
    "df2_alias_count = df2_alias.groupby('alias').count().sort_values(['title'],\\\n",
    "                                                        ascending=False)[:2]\n",
    "df2_alias_count.reset_index(inplace=True)\n",
    "\n",
    "print(df2_alias_count)\n",
    "\n",
    "# display them as a list\n",
    "aliases_top_3 = df2_alias_count['alias'].tolist()\n",
    "print(aliases_top_3)\n",
    "\n",
    "# Note: initially tried top 3, but it returned distributors, not wineries"
   ]
  },
  {
   "cell_type": "code",
   "execution_count": 66,
   "metadata": {
    "ExecuteTime": {
     "end_time": "2021-05-12T17:19:37.747562Z",
     "start_time": "2021-05-12T17:19:37.706531Z"
    },
    "collapsed": true
   },
   "outputs": [
    {
     "data": {
      "text/html": [
       "<div>\n",
       "<style scoped>\n",
       "    .dataframe tbody tr th:only-of-type {\n",
       "        vertical-align: middle;\n",
       "    }\n",
       "\n",
       "    .dataframe tbody tr th {\n",
       "        vertical-align: top;\n",
       "    }\n",
       "\n",
       "    .dataframe thead th {\n",
       "        text-align: right;\n",
       "    }\n",
       "</style>\n",
       "<table border=\"1\" class=\"dataframe\">\n",
       "  <thead>\n",
       "    <tr style=\"text-align: right;\">\n",
       "      <th></th>\n",
       "      <th>name</th>\n",
       "      <th>location</th>\n",
       "      <th>id</th>\n",
       "      <th>alias</th>\n",
       "      <th>title</th>\n",
       "      <th>rating</th>\n",
       "      <th>review_count</th>\n",
       "      <th>price</th>\n",
       "      <th>latitude</th>\n",
       "      <th>longitude</th>\n",
       "    </tr>\n",
       "  </thead>\n",
       "  <tbody>\n",
       "    <tr>\n",
       "      <th>1</th>\n",
       "      <td>Bernardo Winery</td>\n",
       "      <td>13330 Paseo Del Verano Norte San Diego, CA 92128</td>\n",
       "      <td>DknnpiG1p4OoM1maFshzXA</td>\n",
       "      <td>winetastingroom</td>\n",
       "      <td>Wine Tasting Room</td>\n",
       "      <td>4.5</td>\n",
       "      <td>626</td>\n",
       "      <td>$$</td>\n",
       "      <td>33.032800</td>\n",
       "      <td>-117.046460</td>\n",
       "    </tr>\n",
       "    <tr>\n",
       "      <th>3</th>\n",
       "      <td>Callaway Vineyard &amp; Winery</td>\n",
       "      <td>517 4th Ave Ste 101 San Diego, CA 92101</td>\n",
       "      <td>Cn2_bpTngghYW1ej4zreZg</td>\n",
       "      <td>winetastingroom</td>\n",
       "      <td>Wine Tasting Room</td>\n",
       "      <td>5.0</td>\n",
       "      <td>100</td>\n",
       "      <td>$$</td>\n",
       "      <td>32.710751</td>\n",
       "      <td>-117.160918</td>\n",
       "    </tr>\n",
       "    <tr>\n",
       "      <th>4</th>\n",
       "      <td>Négociant Winery</td>\n",
       "      <td>2419 El Cajon Blvd San Diego, CA 92104</td>\n",
       "      <td>Cc1sQWRWgGyMCjzX2mmMQQ</td>\n",
       "      <td>winetastingroom</td>\n",
       "      <td>Wine Tasting Room</td>\n",
       "      <td>4.5</td>\n",
       "      <td>103</td>\n",
       "      <td>$$</td>\n",
       "      <td>32.754880</td>\n",
       "      <td>-117.138280</td>\n",
       "    </tr>\n",
       "    <tr>\n",
       "      <th>5</th>\n",
       "      <td>San Pasqual Winery - Seaport Village</td>\n",
       "      <td>805 W Harbor Dr San Diego, CA 92101</td>\n",
       "      <td>gMW1RvyLu90RSQAY9UrIHw</td>\n",
       "      <td>winetastingroom</td>\n",
       "      <td>Wine Tasting Room</td>\n",
       "      <td>4.5</td>\n",
       "      <td>138</td>\n",
       "      <td>$$</td>\n",
       "      <td>32.708732</td>\n",
       "      <td>-117.168195</td>\n",
       "    </tr>\n",
       "    <tr>\n",
       "      <th>6</th>\n",
       "      <td>Domaine Artefact Vineyard &amp; Winery</td>\n",
       "      <td>15404 Highland Valley Rd Escondido, CA 92025</td>\n",
       "      <td>WqVbxY77Ag96X90LultCUw</td>\n",
       "      <td>wineries</td>\n",
       "      <td>Wineries</td>\n",
       "      <td>5.0</td>\n",
       "      <td>96</td>\n",
       "      <td>$$</td>\n",
       "      <td>33.068170</td>\n",
       "      <td>-117.001600</td>\n",
       "    </tr>\n",
       "    <tr>\n",
       "      <th>...</th>\n",
       "      <td>...</td>\n",
       "      <td>...</td>\n",
       "      <td>...</td>\n",
       "      <td>...</td>\n",
       "      <td>...</td>\n",
       "      <td>...</td>\n",
       "      <td>...</td>\n",
       "      <td>...</td>\n",
       "      <td>...</td>\n",
       "      <td>...</td>\n",
       "    </tr>\n",
       "    <tr>\n",
       "      <th>140</th>\n",
       "      <td>Roll OutThe Barrell Charity Event by Meritage</td>\n",
       "      <td>162 S Rancho Santa Fe Rd Encinitas, CA 92024</td>\n",
       "      <td>wyLm9fIoamN-VALcu3nUVg</td>\n",
       "      <td>wineries</td>\n",
       "      <td>Wineries</td>\n",
       "      <td>4.0</td>\n",
       "      <td>1</td>\n",
       "      <td>NaN</td>\n",
       "      <td>33.037121</td>\n",
       "      <td>-117.238654</td>\n",
       "    </tr>\n",
       "    <tr>\n",
       "      <th>145</th>\n",
       "      <td>Licores Kentucky</td>\n",
       "      <td>Calle Puerto y 3ra S/N Col. Centro 22000 Tijua...</td>\n",
       "      <td>B7gID-M2EsdpthrTcwTNYA</td>\n",
       "      <td>wineries</td>\n",
       "      <td>Wineries</td>\n",
       "      <td>5.0</td>\n",
       "      <td>1</td>\n",
       "      <td>NaN</td>\n",
       "      <td>32.534236</td>\n",
       "      <td>-117.034976</td>\n",
       "    </tr>\n",
       "    <tr>\n",
       "      <th>148</th>\n",
       "      <td>Barrica 9</td>\n",
       "      <td>Av. Revolución 1265 Col. Zona Centro 22000 Tij...</td>\n",
       "      <td>HxTqmzT4G43iAKXrB3pqQg</td>\n",
       "      <td>winetastingroom</td>\n",
       "      <td>Wine Tasting Room</td>\n",
       "      <td>4.5</td>\n",
       "      <td>7</td>\n",
       "      <td>$$</td>\n",
       "      <td>32.530430</td>\n",
       "      <td>-117.036500</td>\n",
       "    </tr>\n",
       "    <tr>\n",
       "      <th>165</th>\n",
       "      <td>RL Liquid Assets, Inc</td>\n",
       "      <td>5909 Sea Lion Pl Ste G Carlsbad, CA 92010</td>\n",
       "      <td>#NAME?</td>\n",
       "      <td>wineries</td>\n",
       "      <td>Wineries</td>\n",
       "      <td>3.0</td>\n",
       "      <td>2</td>\n",
       "      <td>NaN</td>\n",
       "      <td>33.134743</td>\n",
       "      <td>-117.248093</td>\n",
       "    </tr>\n",
       "    <tr>\n",
       "      <th>190</th>\n",
       "      <td>Cactus Star Vineyard at Scaredy Cat Ranch</td>\n",
       "      <td>17029 Handlebar Rd Ramona, CA 92065</td>\n",
       "      <td>ZeiVSF1SMdVVSkiGE7qaSg</td>\n",
       "      <td>winetastingroom</td>\n",
       "      <td>Wine Tasting Room</td>\n",
       "      <td>5.0</td>\n",
       "      <td>8</td>\n",
       "      <td>$</td>\n",
       "      <td>33.020150</td>\n",
       "      <td>-116.928140</td>\n",
       "    </tr>\n",
       "  </tbody>\n",
       "</table>\n",
       "<p>82 rows × 10 columns</p>\n",
       "</div>"
      ],
      "text/plain": [
       "                                              name  \\\n",
       "1                                  Bernardo Winery   \n",
       "3                       Callaway Vineyard & Winery   \n",
       "4                                 Négociant Winery   \n",
       "5             San Pasqual Winery - Seaport Village   \n",
       "6               Domaine Artefact Vineyard & Winery   \n",
       "..                                             ...   \n",
       "140  Roll OutThe Barrell Charity Event by Meritage   \n",
       "145                               Licores Kentucky   \n",
       "148                                      Barrica 9   \n",
       "165                          RL Liquid Assets, Inc   \n",
       "190      Cactus Star Vineyard at Scaredy Cat Ranch   \n",
       "\n",
       "                                              location  \\\n",
       "1     13330 Paseo Del Verano Norte San Diego, CA 92128   \n",
       "3              517 4th Ave Ste 101 San Diego, CA 92101   \n",
       "4               2419 El Cajon Blvd San Diego, CA 92104   \n",
       "5                  805 W Harbor Dr San Diego, CA 92101   \n",
       "6         15404 Highland Valley Rd Escondido, CA 92025   \n",
       "..                                                 ...   \n",
       "140       162 S Rancho Santa Fe Rd Encinitas, CA 92024   \n",
       "145  Calle Puerto y 3ra S/N Col. Centro 22000 Tijua...   \n",
       "148  Av. Revolución 1265 Col. Zona Centro 22000 Tij...   \n",
       "165          5909 Sea Lion Pl Ste G Carlsbad, CA 92010   \n",
       "190                17029 Handlebar Rd Ramona, CA 92065   \n",
       "\n",
       "                         id            alias              title  rating  \\\n",
       "1    DknnpiG1p4OoM1maFshzXA  winetastingroom  Wine Tasting Room     4.5   \n",
       "3    Cn2_bpTngghYW1ej4zreZg  winetastingroom  Wine Tasting Room     5.0   \n",
       "4    Cc1sQWRWgGyMCjzX2mmMQQ  winetastingroom  Wine Tasting Room     4.5   \n",
       "5    gMW1RvyLu90RSQAY9UrIHw  winetastingroom  Wine Tasting Room     4.5   \n",
       "6    WqVbxY77Ag96X90LultCUw         wineries           Wineries     5.0   \n",
       "..                      ...              ...                ...     ...   \n",
       "140  wyLm9fIoamN-VALcu3nUVg         wineries           Wineries     4.0   \n",
       "145  B7gID-M2EsdpthrTcwTNYA         wineries           Wineries     5.0   \n",
       "148  HxTqmzT4G43iAKXrB3pqQg  winetastingroom  Wine Tasting Room     4.5   \n",
       "165                  #NAME?         wineries           Wineries     3.0   \n",
       "190  ZeiVSF1SMdVVSkiGE7qaSg  winetastingroom  Wine Tasting Room     5.0   \n",
       "\n",
       "     review_count price   latitude   longitude  \n",
       "1             626    $$  33.032800 -117.046460  \n",
       "3             100    $$  32.710751 -117.160918  \n",
       "4             103    $$  32.754880 -117.138280  \n",
       "5             138    $$  32.708732 -117.168195  \n",
       "6              96    $$  33.068170 -117.001600  \n",
       "..            ...   ...        ...         ...  \n",
       "140             1   NaN  33.037121 -117.238654  \n",
       "145             1   NaN  32.534236 -117.034976  \n",
       "148             7    $$  32.530430 -117.036500  \n",
       "165             2   NaN  33.134743 -117.248093  \n",
       "190             8     $  33.020150 -116.928140  \n",
       "\n",
       "[82 rows x 10 columns]"
      ]
     },
     "execution_count": 66,
     "metadata": {},
     "output_type": "execute_result"
    }
   ],
   "source": [
    "# Selecting rows based on condition\n",
    "\n",
    "df3 = df2[df2['alias'].isin(aliases_top_3)]\n",
    "df3"
   ]
  },
  {
   "cell_type": "code",
   "execution_count": 67,
   "metadata": {
    "ExecuteTime": {
     "end_time": "2021-05-12T17:20:11.663515Z",
     "start_time": "2021-05-12T17:20:11.641515Z"
    }
   },
   "outputs": [],
   "source": [
    "df3.to_csv('data/wineries_filtered_alias.csv')"
   ]
  },
  {
   "cell_type": "code",
   "execution_count": 68,
   "metadata": {
    "ExecuteTime": {
     "end_time": "2021-05-12T17:20:12.349516Z",
     "start_time": "2021-05-12T17:20:12.314517Z"
    },
    "collapsed": true
   },
   "outputs": [
    {
     "data": {
      "text/html": [
       "<div>\n",
       "<style scoped>\n",
       "    .dataframe tbody tr th:only-of-type {\n",
       "        vertical-align: middle;\n",
       "    }\n",
       "\n",
       "    .dataframe tbody tr th {\n",
       "        vertical-align: top;\n",
       "    }\n",
       "\n",
       "    .dataframe thead th {\n",
       "        text-align: right;\n",
       "    }\n",
       "</style>\n",
       "<table border=\"1\" class=\"dataframe\">\n",
       "  <thead>\n",
       "    <tr style=\"text-align: right;\">\n",
       "      <th></th>\n",
       "      <th>name</th>\n",
       "      <th>location</th>\n",
       "      <th>id</th>\n",
       "      <th>alias</th>\n",
       "      <th>title</th>\n",
       "      <th>rating</th>\n",
       "      <th>review_count</th>\n",
       "      <th>price</th>\n",
       "      <th>latitude</th>\n",
       "      <th>longitude</th>\n",
       "    </tr>\n",
       "  </thead>\n",
       "  <tbody>\n",
       "    <tr>\n",
       "      <th>1</th>\n",
       "      <td>Bernardo Winery</td>\n",
       "      <td>13330 Paseo Del Verano Norte San Diego, CA 92128</td>\n",
       "      <td>DknnpiG1p4OoM1maFshzXA</td>\n",
       "      <td>winetastingroom</td>\n",
       "      <td>Wine Tasting Room</td>\n",
       "      <td>4.5</td>\n",
       "      <td>626</td>\n",
       "      <td>$$</td>\n",
       "      <td>33.032800</td>\n",
       "      <td>-117.046460</td>\n",
       "    </tr>\n",
       "    <tr>\n",
       "      <th>3</th>\n",
       "      <td>Callaway Vineyard &amp; Winery</td>\n",
       "      <td>517 4th Ave Ste 101 San Diego, CA 92101</td>\n",
       "      <td>Cn2_bpTngghYW1ej4zreZg</td>\n",
       "      <td>winetastingroom</td>\n",
       "      <td>Wine Tasting Room</td>\n",
       "      <td>5.0</td>\n",
       "      <td>100</td>\n",
       "      <td>$$</td>\n",
       "      <td>32.710751</td>\n",
       "      <td>-117.160918</td>\n",
       "    </tr>\n",
       "    <tr>\n",
       "      <th>4</th>\n",
       "      <td>Négociant Winery</td>\n",
       "      <td>2419 El Cajon Blvd San Diego, CA 92104</td>\n",
       "      <td>Cc1sQWRWgGyMCjzX2mmMQQ</td>\n",
       "      <td>winetastingroom</td>\n",
       "      <td>Wine Tasting Room</td>\n",
       "      <td>4.5</td>\n",
       "      <td>103</td>\n",
       "      <td>$$</td>\n",
       "      <td>32.754880</td>\n",
       "      <td>-117.138280</td>\n",
       "    </tr>\n",
       "    <tr>\n",
       "      <th>5</th>\n",
       "      <td>San Pasqual Winery - Seaport Village</td>\n",
       "      <td>805 W Harbor Dr San Diego, CA 92101</td>\n",
       "      <td>gMW1RvyLu90RSQAY9UrIHw</td>\n",
       "      <td>winetastingroom</td>\n",
       "      <td>Wine Tasting Room</td>\n",
       "      <td>4.5</td>\n",
       "      <td>138</td>\n",
       "      <td>$$</td>\n",
       "      <td>32.708732</td>\n",
       "      <td>-117.168195</td>\n",
       "    </tr>\n",
       "    <tr>\n",
       "      <th>6</th>\n",
       "      <td>Domaine Artefact Vineyard &amp; Winery</td>\n",
       "      <td>15404 Highland Valley Rd Escondido, CA 92025</td>\n",
       "      <td>WqVbxY77Ag96X90LultCUw</td>\n",
       "      <td>wineries</td>\n",
       "      <td>Wineries</td>\n",
       "      <td>5.0</td>\n",
       "      <td>96</td>\n",
       "      <td>$$</td>\n",
       "      <td>33.068170</td>\n",
       "      <td>-117.001600</td>\n",
       "    </tr>\n",
       "    <tr>\n",
       "      <th>...</th>\n",
       "      <td>...</td>\n",
       "      <td>...</td>\n",
       "      <td>...</td>\n",
       "      <td>...</td>\n",
       "      <td>...</td>\n",
       "      <td>...</td>\n",
       "      <td>...</td>\n",
       "      <td>...</td>\n",
       "      <td>...</td>\n",
       "      <td>...</td>\n",
       "    </tr>\n",
       "    <tr>\n",
       "      <th>140</th>\n",
       "      <td>Roll OutThe Barrell Charity Event by Meritage</td>\n",
       "      <td>162 S Rancho Santa Fe Rd Encinitas, CA 92024</td>\n",
       "      <td>wyLm9fIoamN-VALcu3nUVg</td>\n",
       "      <td>wineries</td>\n",
       "      <td>Wineries</td>\n",
       "      <td>4.0</td>\n",
       "      <td>1</td>\n",
       "      <td>NaN</td>\n",
       "      <td>33.037121</td>\n",
       "      <td>-117.238654</td>\n",
       "    </tr>\n",
       "    <tr>\n",
       "      <th>145</th>\n",
       "      <td>Licores Kentucky</td>\n",
       "      <td>Calle Puerto y 3ra S/N Col. Centro 22000 Tijua...</td>\n",
       "      <td>B7gID-M2EsdpthrTcwTNYA</td>\n",
       "      <td>wineries</td>\n",
       "      <td>Wineries</td>\n",
       "      <td>5.0</td>\n",
       "      <td>1</td>\n",
       "      <td>NaN</td>\n",
       "      <td>32.534236</td>\n",
       "      <td>-117.034976</td>\n",
       "    </tr>\n",
       "    <tr>\n",
       "      <th>148</th>\n",
       "      <td>Barrica 9</td>\n",
       "      <td>Av. Revolución 1265 Col. Zona Centro 22000 Tij...</td>\n",
       "      <td>HxTqmzT4G43iAKXrB3pqQg</td>\n",
       "      <td>winetastingroom</td>\n",
       "      <td>Wine Tasting Room</td>\n",
       "      <td>4.5</td>\n",
       "      <td>7</td>\n",
       "      <td>$$</td>\n",
       "      <td>32.530430</td>\n",
       "      <td>-117.036500</td>\n",
       "    </tr>\n",
       "    <tr>\n",
       "      <th>165</th>\n",
       "      <td>RL Liquid Assets, Inc</td>\n",
       "      <td>5909 Sea Lion Pl Ste G Carlsbad, CA 92010</td>\n",
       "      <td>#NAME?</td>\n",
       "      <td>wineries</td>\n",
       "      <td>Wineries</td>\n",
       "      <td>3.0</td>\n",
       "      <td>2</td>\n",
       "      <td>NaN</td>\n",
       "      <td>33.134743</td>\n",
       "      <td>-117.248093</td>\n",
       "    </tr>\n",
       "    <tr>\n",
       "      <th>190</th>\n",
       "      <td>Cactus Star Vineyard at Scaredy Cat Ranch</td>\n",
       "      <td>17029 Handlebar Rd Ramona, CA 92065</td>\n",
       "      <td>ZeiVSF1SMdVVSkiGE7qaSg</td>\n",
       "      <td>winetastingroom</td>\n",
       "      <td>Wine Tasting Room</td>\n",
       "      <td>5.0</td>\n",
       "      <td>8</td>\n",
       "      <td>$</td>\n",
       "      <td>33.020150</td>\n",
       "      <td>-116.928140</td>\n",
       "    </tr>\n",
       "  </tbody>\n",
       "</table>\n",
       "<p>82 rows × 10 columns</p>\n",
       "</div>"
      ],
      "text/plain": [
       "                                              name  \\\n",
       "1                                  Bernardo Winery   \n",
       "3                       Callaway Vineyard & Winery   \n",
       "4                                 Négociant Winery   \n",
       "5             San Pasqual Winery - Seaport Village   \n",
       "6               Domaine Artefact Vineyard & Winery   \n",
       "..                                             ...   \n",
       "140  Roll OutThe Barrell Charity Event by Meritage   \n",
       "145                               Licores Kentucky   \n",
       "148                                      Barrica 9   \n",
       "165                          RL Liquid Assets, Inc   \n",
       "190      Cactus Star Vineyard at Scaredy Cat Ranch   \n",
       "\n",
       "                                              location  \\\n",
       "1     13330 Paseo Del Verano Norte San Diego, CA 92128   \n",
       "3              517 4th Ave Ste 101 San Diego, CA 92101   \n",
       "4               2419 El Cajon Blvd San Diego, CA 92104   \n",
       "5                  805 W Harbor Dr San Diego, CA 92101   \n",
       "6         15404 Highland Valley Rd Escondido, CA 92025   \n",
       "..                                                 ...   \n",
       "140       162 S Rancho Santa Fe Rd Encinitas, CA 92024   \n",
       "145  Calle Puerto y 3ra S/N Col. Centro 22000 Tijua...   \n",
       "148  Av. Revolución 1265 Col. Zona Centro 22000 Tij...   \n",
       "165          5909 Sea Lion Pl Ste G Carlsbad, CA 92010   \n",
       "190                17029 Handlebar Rd Ramona, CA 92065   \n",
       "\n",
       "                         id            alias              title  rating  \\\n",
       "1    DknnpiG1p4OoM1maFshzXA  winetastingroom  Wine Tasting Room     4.5   \n",
       "3    Cn2_bpTngghYW1ej4zreZg  winetastingroom  Wine Tasting Room     5.0   \n",
       "4    Cc1sQWRWgGyMCjzX2mmMQQ  winetastingroom  Wine Tasting Room     4.5   \n",
       "5    gMW1RvyLu90RSQAY9UrIHw  winetastingroom  Wine Tasting Room     4.5   \n",
       "6    WqVbxY77Ag96X90LultCUw         wineries           Wineries     5.0   \n",
       "..                      ...              ...                ...     ...   \n",
       "140  wyLm9fIoamN-VALcu3nUVg         wineries           Wineries     4.0   \n",
       "145  B7gID-M2EsdpthrTcwTNYA         wineries           Wineries     5.0   \n",
       "148  HxTqmzT4G43iAKXrB3pqQg  winetastingroom  Wine Tasting Room     4.5   \n",
       "165                  #NAME?         wineries           Wineries     3.0   \n",
       "190  ZeiVSF1SMdVVSkiGE7qaSg  winetastingroom  Wine Tasting Room     5.0   \n",
       "\n",
       "     review_count price   latitude   longitude  \n",
       "1             626    $$  33.032800 -117.046460  \n",
       "3             100    $$  32.710751 -117.160918  \n",
       "4             103    $$  32.754880 -117.138280  \n",
       "5             138    $$  32.708732 -117.168195  \n",
       "6              96    $$  33.068170 -117.001600  \n",
       "..            ...   ...        ...         ...  \n",
       "140             1   NaN  33.037121 -117.238654  \n",
       "145             1   NaN  32.534236 -117.034976  \n",
       "148             7    $$  32.530430 -117.036500  \n",
       "165             2   NaN  33.134743 -117.248093  \n",
       "190             8     $  33.020150 -116.928140  \n",
       "\n",
       "[82 rows x 10 columns]"
      ]
     },
     "execution_count": 68,
     "metadata": {},
     "output_type": "execute_result"
    }
   ],
   "source": [
    "df_saved = pd.read_csv(\"data/wineries_filtered_alias.csv\", index_col=0)\n",
    "df_saved"
   ]
  },
  {
   "cell_type": "markdown",
   "metadata": {},
   "source": [
    "# Part 3 -  Create ETL pipeline for the restaurant review data from the API"
   ]
  },
  {
   "cell_type": "markdown",
   "metadata": {},
   "source": [
    "You've done this for the Businesses, now you need to do this for reviews. You will follow the same process, but your functions will be specific to reviews. Above you have a model of the functions you will need to write, and how to pull them together in one script. For this part, you have the process below "
   ]
  },
  {
   "cell_type": "markdown",
   "metadata": {},
   "source": [
    "## Getting Business IDs"
   ]
  },
  {
   "cell_type": "markdown",
   "metadata": {},
   "source": [
    "- In order to pull the reveiws, you will need the business ids. So your first step will be to get all of the business ids from your businesses csv. "
   ]
  },
  {
   "cell_type": "markdown",
   "metadata": {},
   "source": [
    "### Open file and slice ID"
   ]
  },
  {
   "cell_type": "markdown",
   "metadata": {},
   "source": [
    "1. Open data/wineries.csv\n",
    "2. Slice out the 'name' and 'id' columns for each row"
   ]
  },
  {
   "cell_type": "code",
   "execution_count": 41,
   "metadata": {
    "ExecuteTime": {
     "end_time": "2021-05-11T23:21:11.382037Z",
     "start_time": "2021-05-11T23:21:11.337034Z"
    }
   },
   "outputs": [
    {
     "data": {
      "text/html": [
       "<div>\n",
       "<style scoped>\n",
       "    .dataframe tbody tr th:only-of-type {\n",
       "        vertical-align: middle;\n",
       "    }\n",
       "\n",
       "    .dataframe tbody tr th {\n",
       "        vertical-align: top;\n",
       "    }\n",
       "\n",
       "    .dataframe thead th {\n",
       "        text-align: right;\n",
       "    }\n",
       "</style>\n",
       "<table border=\"1\" class=\"dataframe\">\n",
       "  <thead>\n",
       "    <tr style=\"text-align: right;\">\n",
       "      <th></th>\n",
       "      <th>name</th>\n",
       "      <th>location</th>\n",
       "      <th>id</th>\n",
       "      <th>alias</th>\n",
       "      <th>title</th>\n",
       "      <th>rating</th>\n",
       "      <th>review_count</th>\n",
       "      <th>price</th>\n",
       "      <th>latitude</th>\n",
       "      <th>longitude</th>\n",
       "    </tr>\n",
       "  </thead>\n",
       "  <tbody>\n",
       "    <tr>\n",
       "      <th>0</th>\n",
       "      <td>Bernardo Winery</td>\n",
       "      <td>13330 Paseo Del Verano Norte San Diego, CA 92128</td>\n",
       "      <td>DknnpiG1p4OoM1maFshzXA</td>\n",
       "      <td>winetastingroom</td>\n",
       "      <td>Wine Tasting Room</td>\n",
       "      <td>4.5</td>\n",
       "      <td>626</td>\n",
       "      <td>$$</td>\n",
       "      <td>33.032800</td>\n",
       "      <td>-117.046460</td>\n",
       "    </tr>\n",
       "    <tr>\n",
       "      <th>1</th>\n",
       "      <td>Callaway Vineyard &amp; Winery</td>\n",
       "      <td>517 4th Ave Ste 101 San Diego, CA 92101</td>\n",
       "      <td>Cn2_bpTngghYW1ej4zreZg</td>\n",
       "      <td>winetastingroom</td>\n",
       "      <td>Wine Tasting Room</td>\n",
       "      <td>5.0</td>\n",
       "      <td>100</td>\n",
       "      <td>$$</td>\n",
       "      <td>32.710751</td>\n",
       "      <td>-117.160918</td>\n",
       "    </tr>\n",
       "    <tr>\n",
       "      <th>2</th>\n",
       "      <td>Négociant Winery</td>\n",
       "      <td>2419 El Cajon Blvd San Diego, CA 92104</td>\n",
       "      <td>Cc1sQWRWgGyMCjzX2mmMQQ</td>\n",
       "      <td>winetastingroom</td>\n",
       "      <td>Wine Tasting Room</td>\n",
       "      <td>4.5</td>\n",
       "      <td>103</td>\n",
       "      <td>$$</td>\n",
       "      <td>32.754880</td>\n",
       "      <td>-117.138280</td>\n",
       "    </tr>\n",
       "    <tr>\n",
       "      <th>3</th>\n",
       "      <td>San Pasqual Winery - Seaport Village</td>\n",
       "      <td>805 W Harbor Dr San Diego, CA 92101</td>\n",
       "      <td>gMW1RvyLu90RSQAY9UrIHw</td>\n",
       "      <td>winetastingroom</td>\n",
       "      <td>Wine Tasting Room</td>\n",
       "      <td>4.5</td>\n",
       "      <td>138</td>\n",
       "      <td>$$</td>\n",
       "      <td>32.708732</td>\n",
       "      <td>-117.168195</td>\n",
       "    </tr>\n",
       "    <tr>\n",
       "      <th>4</th>\n",
       "      <td>Domaine Artefact Vineyard &amp; Winery</td>\n",
       "      <td>15404 Highland Valley Rd Escondido, CA 92025</td>\n",
       "      <td>WqVbxY77Ag96X90LultCUw</td>\n",
       "      <td>wineries</td>\n",
       "      <td>Wineries</td>\n",
       "      <td>5.0</td>\n",
       "      <td>96</td>\n",
       "      <td>$$</td>\n",
       "      <td>33.068170</td>\n",
       "      <td>-117.001600</td>\n",
       "    </tr>\n",
       "    <tr>\n",
       "      <th>...</th>\n",
       "      <td>...</td>\n",
       "      <td>...</td>\n",
       "      <td>...</td>\n",
       "      <td>...</td>\n",
       "      <td>...</td>\n",
       "      <td>...</td>\n",
       "      <td>...</td>\n",
       "      <td>...</td>\n",
       "      <td>...</td>\n",
       "      <td>...</td>\n",
       "    </tr>\n",
       "    <tr>\n",
       "      <th>77</th>\n",
       "      <td>Roll OutThe Barrell Charity Event by Meritage</td>\n",
       "      <td>162 S Rancho Santa Fe Rd Encinitas, CA 92024</td>\n",
       "      <td>wyLm9fIoamN-VALcu3nUVg</td>\n",
       "      <td>wineries</td>\n",
       "      <td>Wineries</td>\n",
       "      <td>4.0</td>\n",
       "      <td>1</td>\n",
       "      <td>NaN</td>\n",
       "      <td>33.037121</td>\n",
       "      <td>-117.238654</td>\n",
       "    </tr>\n",
       "    <tr>\n",
       "      <th>78</th>\n",
       "      <td>Licores Kentucky</td>\n",
       "      <td>Calle Puerto y 3ra S/N Col. Centro 22000 Tijua...</td>\n",
       "      <td>B7gID-M2EsdpthrTcwTNYA</td>\n",
       "      <td>wineries</td>\n",
       "      <td>Wineries</td>\n",
       "      <td>5.0</td>\n",
       "      <td>1</td>\n",
       "      <td>NaN</td>\n",
       "      <td>32.534236</td>\n",
       "      <td>-117.034976</td>\n",
       "    </tr>\n",
       "    <tr>\n",
       "      <th>79</th>\n",
       "      <td>Barrica 9</td>\n",
       "      <td>Av. Revolución 1265 Col. Zona Centro 22000 Tij...</td>\n",
       "      <td>HxTqmzT4G43iAKXrB3pqQg</td>\n",
       "      <td>winetastingroom</td>\n",
       "      <td>Wine Tasting Room</td>\n",
       "      <td>4.5</td>\n",
       "      <td>7</td>\n",
       "      <td>$$</td>\n",
       "      <td>32.530430</td>\n",
       "      <td>-117.036500</td>\n",
       "    </tr>\n",
       "    <tr>\n",
       "      <th>80</th>\n",
       "      <td>RL Liquid Assets, Inc</td>\n",
       "      <td>5909 Sea Lion Pl Ste G Carlsbad, CA 92010</td>\n",
       "      <td>-STecUUsS69EMSE7PxwPwA</td>\n",
       "      <td>wineries</td>\n",
       "      <td>Wineries</td>\n",
       "      <td>3.0</td>\n",
       "      <td>2</td>\n",
       "      <td>NaN</td>\n",
       "      <td>33.134743</td>\n",
       "      <td>-117.248093</td>\n",
       "    </tr>\n",
       "    <tr>\n",
       "      <th>81</th>\n",
       "      <td>Cactus Star Vineyard at Scaredy Cat Ranch</td>\n",
       "      <td>17029 Handlebar Rd Ramona, CA 92065</td>\n",
       "      <td>ZeiVSF1SMdVVSkiGE7qaSg</td>\n",
       "      <td>winetastingroom</td>\n",
       "      <td>Wine Tasting Room</td>\n",
       "      <td>5.0</td>\n",
       "      <td>8</td>\n",
       "      <td>$</td>\n",
       "      <td>33.020150</td>\n",
       "      <td>-116.928140</td>\n",
       "    </tr>\n",
       "  </tbody>\n",
       "</table>\n",
       "<p>82 rows × 10 columns</p>\n",
       "</div>"
      ],
      "text/plain": [
       "                                             name  \\\n",
       "0                                 Bernardo Winery   \n",
       "1                      Callaway Vineyard & Winery   \n",
       "2                                Négociant Winery   \n",
       "3            San Pasqual Winery - Seaport Village   \n",
       "4              Domaine Artefact Vineyard & Winery   \n",
       "..                                            ...   \n",
       "77  Roll OutThe Barrell Charity Event by Meritage   \n",
       "78                               Licores Kentucky   \n",
       "79                                      Barrica 9   \n",
       "80                          RL Liquid Assets, Inc   \n",
       "81      Cactus Star Vineyard at Scaredy Cat Ranch   \n",
       "\n",
       "                                             location                      id  \\\n",
       "0    13330 Paseo Del Verano Norte San Diego, CA 92128  DknnpiG1p4OoM1maFshzXA   \n",
       "1             517 4th Ave Ste 101 San Diego, CA 92101  Cn2_bpTngghYW1ej4zreZg   \n",
       "2              2419 El Cajon Blvd San Diego, CA 92104  Cc1sQWRWgGyMCjzX2mmMQQ   \n",
       "3                 805 W Harbor Dr San Diego, CA 92101  gMW1RvyLu90RSQAY9UrIHw   \n",
       "4        15404 Highland Valley Rd Escondido, CA 92025  WqVbxY77Ag96X90LultCUw   \n",
       "..                                                ...                     ...   \n",
       "77       162 S Rancho Santa Fe Rd Encinitas, CA 92024  wyLm9fIoamN-VALcu3nUVg   \n",
       "78  Calle Puerto y 3ra S/N Col. Centro 22000 Tijua...  B7gID-M2EsdpthrTcwTNYA   \n",
       "79  Av. Revolución 1265 Col. Zona Centro 22000 Tij...  HxTqmzT4G43iAKXrB3pqQg   \n",
       "80          5909 Sea Lion Pl Ste G Carlsbad, CA 92010  -STecUUsS69EMSE7PxwPwA   \n",
       "81                17029 Handlebar Rd Ramona, CA 92065  ZeiVSF1SMdVVSkiGE7qaSg   \n",
       "\n",
       "              alias              title  rating  review_count price   latitude  \\\n",
       "0   winetastingroom  Wine Tasting Room     4.5           626    $$  33.032800   \n",
       "1   winetastingroom  Wine Tasting Room     5.0           100    $$  32.710751   \n",
       "2   winetastingroom  Wine Tasting Room     4.5           103    $$  32.754880   \n",
       "3   winetastingroom  Wine Tasting Room     4.5           138    $$  32.708732   \n",
       "4          wineries           Wineries     5.0            96    $$  33.068170   \n",
       "..              ...                ...     ...           ...   ...        ...   \n",
       "77         wineries           Wineries     4.0             1   NaN  33.037121   \n",
       "78         wineries           Wineries     5.0             1   NaN  32.534236   \n",
       "79  winetastingroom  Wine Tasting Room     4.5             7    $$  32.530430   \n",
       "80         wineries           Wineries     3.0             2   NaN  33.134743   \n",
       "81  winetastingroom  Wine Tasting Room     5.0             8     $  33.020150   \n",
       "\n",
       "     longitude  \n",
       "0  -117.046460  \n",
       "1  -117.160918  \n",
       "2  -117.138280  \n",
       "3  -117.168195  \n",
       "4  -117.001600  \n",
       "..         ...  \n",
       "77 -117.238654  \n",
       "78 -117.034976  \n",
       "79 -117.036500  \n",
       "80 -117.248093  \n",
       "81 -116.928140  \n",
       "\n",
       "[82 rows x 10 columns]"
      ]
     },
     "execution_count": 41,
     "metadata": {},
     "output_type": "execute_result"
    }
   ],
   "source": [
    "df_saved = pd.read_csv(\"data/filtered_aliases.csv\", index_col=0)\n",
    "df_saved.reset_index(drop=True, inplace=True)\n",
    "df_saved"
   ]
  },
  {
   "cell_type": "code",
   "execution_count": 42,
   "metadata": {
    "ExecuteTime": {
     "end_time": "2021-05-11T23:21:15.015032Z",
     "start_time": "2021-05-11T23:21:15.004037Z"
    },
    "code_folding": [],
    "scrolled": true
   },
   "outputs": [
    {
     "data": {
      "text/plain": [
       "['Bernardo Winery',\n",
       " 'Callaway Vineyard & Winery',\n",
       " 'Négociant Winery',\n",
       " 'San Pasqual Winery - Seaport Village',\n",
       " 'Domaine Artefact Vineyard & Winery',\n",
       " 'Carruth Cellars Wine Garden',\n",
       " 'Blue Door Urban Winery',\n",
       " 'Cordiano Winery',\n",
       " 'Pali Wine Co',\n",
       " 'FruitCraft - Fermentery & Distillery',\n",
       " 'LJ Crafted Wines - Wines & Tastings',\n",
       " 'Speckle Rock Vineyards',\n",
       " 'San Pasqual Winery',\n",
       " 'Altipiano Vineyard & Winery',\n",
       " 'Gianni Buonomo Vintners',\n",
       " 'Koi Zen Cellars',\n",
       " 'La Mesa Wine Works',\n",
       " 'Abnormal Wine Company',\n",
       " 'Granite Lion Cellars',\n",
       " 'Highland Valley Vineyards',\n",
       " '80 Sips Around the World',\n",
       " 'Three Hills Winery',\n",
       " \"Woof'n Rose Winery and Vineyard\",\n",
       " \"Bastian's Vineyards\",\n",
       " 'Vineyard Grant James',\n",
       " 'Rustic Ridge Vineyards',\n",
       " 'Espinosa Vineyards and Winery',\n",
       " 'Charlie & Echo',\n",
       " \"Rose's Tasting Room\",\n",
       " 'So Cal Wines',\n",
       " 'San Pasqual Winery Tasting Room & Gallery',\n",
       " 'Chuparosa Vineyards',\n",
       " 'California Wine Line',\n",
       " 'Principe di Tricase Winery',\n",
       " 'Hatfield Creek Winery',\n",
       " 'Record Family Wines',\n",
       " 'Dulzura Vineyard & Winery',\n",
       " 'Quigley Fine Wines',\n",
       " 'Wine Smarties',\n",
       " 'Cheval Winery',\n",
       " 'Mermaid Valley Vineyard',\n",
       " 'La Finquita Winery & Vineyard',\n",
       " 'Trevi Hills',\n",
       " 'Old Julian Vineyards & Winery',\n",
       " 'Hungry Hawk Vineyards & Winery',\n",
       " 'Rancho Guejito Vineyard',\n",
       " 'Poppaea Vineyard',\n",
       " 'Barrel 1 Winery',\n",
       " 'Mahogany Mountain Vineyard and Winery',\n",
       " 'Crystal Hill Vineyard',\n",
       " 'Old Survey Vineyards',\n",
       " 'Forgotten Barrel Tasting Room',\n",
       " 'Turtle Rock Ridge Vineyard Winery',\n",
       " 'Schwaesdall Winery',\n",
       " 'Mission Cellars',\n",
       " 'Castelli Family Vineyards',\n",
       " 'Carruth Cellars',\n",
       " 'Correcaminos Vineyard',\n",
       " 'Rock Canyon Vineyards',\n",
       " 'Siela Wines',\n",
       " 'La Jolla Art & Wine Festival',\n",
       " 'L.A. Cetto',\n",
       " 'Campo Creek Vineyards Tasting Room',\n",
       " 'Pamo Valley Winery Tasting Room',\n",
       " 'Mia Marie Vineyards',\n",
       " 'Edwards Vineyard & Cellars',\n",
       " 'Milagro Farm Winery',\n",
       " 'ZXQ Vineyards',\n",
       " 'Kohill Winery',\n",
       " 'I Love Wine',\n",
       " 'Barrel Riot',\n",
       " 'Vineyard Grant James',\n",
       " 'GSalinas Negociante en Vinos',\n",
       " 'Good Omen Mead',\n",
       " 'Sans V Tasting Room',\n",
       " 'La Contra',\n",
       " 'Rashelica Winery & Art Garden',\n",
       " 'Roll OutThe Barrell Charity Event by Meritage',\n",
       " 'Licores Kentucky',\n",
       " 'Barrica 9',\n",
       " 'RL Liquid Assets, Inc',\n",
       " 'Cactus Star Vineyard at Scaredy Cat Ranch']"
      ]
     },
     "execution_count": 42,
     "metadata": {},
     "output_type": "execute_result"
    }
   ],
   "source": [
    "# Slice out the elements from the \"name\" column\n",
    "\n",
    "df_saved_name = df_saved['name'].to_list()\n",
    "df_saved_name"
   ]
  },
  {
   "cell_type": "code",
   "execution_count": 43,
   "metadata": {
    "ExecuteTime": {
     "end_time": "2021-05-11T23:21:37.643035Z",
     "start_time": "2021-05-11T23:21:37.629045Z"
    },
    "code_folding": [],
    "collapsed": true
   },
   "outputs": [
    {
     "data": {
      "text/plain": [
       "['DknnpiG1p4OoM1maFshzXA',\n",
       " 'Cn2_bpTngghYW1ej4zreZg',\n",
       " 'Cc1sQWRWgGyMCjzX2mmMQQ',\n",
       " 'gMW1RvyLu90RSQAY9UrIHw',\n",
       " 'WqVbxY77Ag96X90LultCUw',\n",
       " 'yZp9FdMH6Dmn98mfNInFHw',\n",
       " 'ElE6Nj7iz-tNV4ebV6Clew',\n",
       " 'Ub2bJsi7lIOQ9TyIKdHaJw',\n",
       " 'fyh566YXm5XJ3Ntv_GLghg',\n",
       " 'sCET1pLdKNNPBQJyjPOkww',\n",
       " '7i8AdZoDySoEdT_uoMMzNA',\n",
       " 'ALTc2EAwGkWfVL9gpuGdqw',\n",
       " 'Phqm2QvJE0uEqpxMvdzH_g',\n",
       " 'NKsyDqmKiNWT4HtkBh6AdA',\n",
       " 'o0flINbzGa8LDlM9Mtbfwg',\n",
       " 'Oic9__gID0APdrBIjP4Xjw',\n",
       " 'YVMiPOAPsEd1fXxNmpjEMA',\n",
       " 'ptA-I2Kk78jydAeJIYs2Cg',\n",
       " '1PS0mcUZkJPyG72pk3zwVg',\n",
       " '9qalQETuaZnFDgZrsEB7MA',\n",
       " 'XH7njeu3FvhxoTqzHTTE5g',\n",
       " 'Ye4Pr0ZbC8sGPwpWqR5wvQ',\n",
       " 'f62YFfiriHapBhadXfMquA',\n",
       " 'BGfXAtLC5sHBWOKlcb17KA',\n",
       " 'gFPq8yqFRd9caMgkO5HvpQ',\n",
       " '97NwIhRGPhv1c4DU9DMpPA',\n",
       " 'wLEvfL3dKvMMPD17-lpcGw',\n",
       " '9YDsJ5OL1hkx_vqwlJhi_Q',\n",
       " 'VksLDK5jI-O53y0fFoUlQQ',\n",
       " '0gGOIJo3MUVpuy8hAepCGQ',\n",
       " 'ia3GRsrEDexiodnpXe0D6w',\n",
       " 'D9rtDihupzA39yBh0YcAXg',\n",
       " '5fkdGagUJDuc3axRWchzJQ',\n",
       " 'RdMY32yM5MRIztG9gzuDKw',\n",
       " 'V3kR-0Nb6ISBQ8ebXZJeVQ',\n",
       " '3mk6Tl3irp7x8baYoLRu9w',\n",
       " 'Wjn9nDudZgJ5okiB8Cbfmg',\n",
       " 'U1F6GFNI_nw4WawP546qHQ',\n",
       " 'TMuXpHvWmWlW__vpyREVjA',\n",
       " 'Ou-vDAZxoKeYkBDZzg_ZdA',\n",
       " 'rtE6b7MidHry2wEa9ls3gw',\n",
       " 'HwYHguzMcK-9yezh7DnC5Q',\n",
       " 'C679sPixYuW8kXKWdzCfhA',\n",
       " '5GXI0ATO4eX6RQWB0GUQPg',\n",
       " '-juYJgCS_538F5k7rwGquQ',\n",
       " 'ctW-k4Ci81kdjE8xOA41sg',\n",
       " 'ZI9j1CrN_Vw3BEztOMNBRQ',\n",
       " 'swPy0eGVoD3GlScWORKJEg',\n",
       " 'cfMlwfp2ZIWc3Mpzg5o8CQ',\n",
       " 'IjuPgZ-M8Oy1M6ClIJNFBw',\n",
       " 'W4K-o6UseGKyQxlnfiEltQ',\n",
       " '881CXnwIREXkDjcuVTshaA',\n",
       " 'C9YXJNAi6FggGAJ94Qmksg',\n",
       " 'Vwy9frhCg-WiurWIBznvNA',\n",
       " 'WmDjdr2Y6XXnjainystcpA',\n",
       " 'Rym_5OGVbYlRa4lvrG2JdQ',\n",
       " '4IIGIWrIrMfJmlnErtmrNQ',\n",
       " 'vJVWsXyZDg3GpwASETe1pQ',\n",
       " '9c_BLUDYbND7lY30W_Rx1g',\n",
       " 'oshle3i0k6FEHN2aujSyxg',\n",
       " 'EzSpL_O4r00ZFg4BNi9qPw',\n",
       " 'W2not8gGBbjBMUeFmwdriA',\n",
       " '1YoSxgAOK625vP0lQpR5zw',\n",
       " '2H1dXyHAcdTxNrbqKbJ8Bg',\n",
       " 'RYmQTiLfU5oIFcZ3k1O38Q',\n",
       " 'YD8O_qG9BNlQm3OtzONDww',\n",
       " 'cfUvT3H6CGh_81U0Z-X7gw',\n",
       " '7KJwHtJ30t78VYBQMVLjAw',\n",
       " 'Tu52NWMO_dnv5v4iyuLykg',\n",
       " 'fT9ysnQvYXw-RUD4GNodEQ',\n",
       " 'Z9e6h-DPZeugrv7shpfl5w',\n",
       " 'C8W1fWjVOyA10rufYYfM6Q',\n",
       " 'JVMnIFpnAxRNxHrJKqxWQg',\n",
       " 'DM_xFbiqpOgnDBCk9wUwow',\n",
       " '4nFSeNcQny91tOID2Jfv8Q',\n",
       " 'KkhZZgGdLyLJMflVCA5D9Q',\n",
       " 'Nqy6NwQSTuAjsBpE7AoJYQ',\n",
       " 'wyLm9fIoamN-VALcu3nUVg',\n",
       " 'B7gID-M2EsdpthrTcwTNYA',\n",
       " 'HxTqmzT4G43iAKXrB3pqQg',\n",
       " '-STecUUsS69EMSE7PxwPwA',\n",
       " 'ZeiVSF1SMdVVSkiGE7qaSg']"
      ]
     },
     "execution_count": 43,
     "metadata": {},
     "output_type": "execute_result"
    }
   ],
   "source": [
    "df_saved_id = df_saved['id'].to_list()\n",
    "df_saved_id"
   ]
  },
  {
   "cell_type": "markdown",
   "metadata": {},
   "source": [
    "## Requesting Reviews"
   ]
  },
  {
   "cell_type": "markdown",
   "metadata": {},
   "source": [
    "- Write a function that takes a business id and makes a call to the API for reviews.\n"
   ]
  },
  {
   "cell_type": "markdown",
   "metadata": {},
   "source": [
    "### ƒ: yelp_id_offset"
   ]
  },
  {
   "cell_type": "code",
   "execution_count": 44,
   "metadata": {
    "ExecuteTime": {
     "end_time": "2021-05-11T23:22:39.787035Z",
     "start_time": "2021-05-11T23:22:39.770036Z"
    }
   },
   "outputs": [
    {
     "data": {
      "text/plain": [
       "'https://api.yelp.com/v3/businesses/DknnpiG1p4OoM1maFshzXA/reviews'"
      ]
     },
     "execution_count": 44,
     "metadata": {},
     "output_type": "execute_result"
    }
   ],
   "source": [
    "#Testing how to create URL properly for API request\n",
    "\n",
    "biz_id = \"DknnpiG1p4OoM1maFshzXA\"\n",
    "url = 'https://api.yelp.com/v3/businesses/' + biz_id + '/reviews'\n",
    "url"
   ]
  },
  {
   "cell_type": "code",
   "execution_count": 45,
   "metadata": {
    "ExecuteTime": {
     "end_time": "2021-05-11T23:22:40.698035Z",
     "start_time": "2021-05-11T23:22:40.683034Z"
    }
   },
   "outputs": [],
   "source": [
    "# f'https /{biz_id}/reviews"
   ]
  },
  {
   "cell_type": "code",
   "execution_count": 46,
   "metadata": {
    "ExecuteTime": {
     "end_time": "2021-05-11T23:23:39.095977Z",
     "start_time": "2021-05-11T23:23:39.079978Z"
    }
   },
   "outputs": [],
   "source": [
    "# for biz in biz_ids:\n",
    "#     reviews = reviewcall(biz)\n",
    "#     parsed_reviews = parse_reviews(reviews, biz)\n",
    "    "
   ]
  },
  {
   "cell_type": "code",
   "execution_count": 47,
   "metadata": {
    "ExecuteTime": {
     "end_time": "2021-05-11T23:23:44.974976Z",
     "start_time": "2021-05-11T23:23:44.958978Z"
    },
    "code_folding": []
   },
   "outputs": [],
   "source": [
    "def yelp_id_offset(biz_id, yelp_key, offset=0, verbose=True):\n",
    "    '''Adapted from Yelp API Lab: https://github.com/BenJMcCarty/dsc-yelp-api-lab/tree/solution'''\n",
    "    \n",
    "    url = 'https://api.yelp.com/v3/businesses/'+ f'{biz_id}' + '/reviews'\n",
    "\n",
    "    headers = {\n",
    "            'Authorization': 'Bearer {}'.format(yelp_key),\n",
    "        }\n",
    "\n",
    "    url_params = {\n",
    "#                     'id': biz_id.replace(' ', '+'),\n",
    "                    'limit': 50,\n",
    "                    'offset': offset\n",
    "                        }\n",
    "    \n",
    "    response = requests.get(url, headers=headers, params=url_params)\n",
    "    \n",
    "    if verbose == True:\n",
    "        print(response)\n",
    "        print(type(response.text))\n",
    "        print(response.text[:1000])\n",
    "        \n",
    "        \n",
    "    return response.json()"
   ]
  },
  {
   "cell_type": "markdown",
   "metadata": {},
   "source": [
    "#### Test ID Offset"
   ]
  },
  {
   "cell_type": "code",
   "execution_count": 49,
   "metadata": {
    "ExecuteTime": {
     "end_time": "2021-05-11T23:24:14.884974Z",
     "start_time": "2021-05-11T23:24:14.864977Z"
    }
   },
   "outputs": [
    {
     "name": "stdout",
     "output_type": "stream",
     "text": [
      "3\n"
     ]
    }
   ],
   "source": [
    "# print(len(reviews1['reviews']))"
   ]
  },
  {
   "cell_type": "markdown",
   "metadata": {},
   "source": [
    "##### Explore Reviews1 Keys"
   ]
  },
  {
   "cell_type": "code",
   "execution_count": 66,
   "metadata": {
    "ExecuteTime": {
     "end_time": "2021-05-11T23:34:01.728650Z",
     "start_time": "2021-05-11T23:34:01.722652Z"
    }
   },
   "outputs": [],
   "source": [
    "# reviews_list"
   ]
  },
  {
   "cell_type": "code",
   "execution_count": 68,
   "metadata": {
    "ExecuteTime": {
     "end_time": "2021-05-11T23:34:05.960653Z",
     "start_time": "2021-05-11T23:34:05.947652Z"
    },
    "scrolled": true
   },
   "outputs": [],
   "source": [
    "# print(type(reviews_list['reviews']))"
   ]
  },
  {
   "cell_type": "code",
   "execution_count": 70,
   "metadata": {
    "ExecuteTime": {
     "end_time": "2021-05-11T23:34:16.956651Z",
     "start_time": "2021-05-11T23:34:16.952661Z"
    }
   },
   "outputs": [],
   "source": [
    "# reviews1['reviews'][0]"
   ]
  },
  {
   "cell_type": "code",
   "execution_count": 71,
   "metadata": {
    "ExecuteTime": {
     "end_time": "2021-05-11T23:34:21.320661Z",
     "start_time": "2021-05-11T23:34:21.303654Z"
    }
   },
   "outputs": [],
   "source": [
    "# reviews1['reviews'][0].keys()"
   ]
  },
  {
   "cell_type": "code",
   "execution_count": 72,
   "metadata": {
    "ExecuteTime": {
     "end_time": "2021-05-11T23:34:23.926653Z",
     "start_time": "2021-05-11T23:34:23.910654Z"
    }
   },
   "outputs": [],
   "source": [
    "# reviews1['reviews'][0]['user']"
   ]
  },
  {
   "cell_type": "markdown",
   "metadata": {},
   "source": [
    "### ƒ: Parse_Reviews"
   ]
  },
  {
   "cell_type": "code",
   "execution_count": 97,
   "metadata": {
    "ExecuteTime": {
     "end_time": "2021-05-11T23:49:51.807111Z",
     "start_time": "2021-05-11T23:49:51.796107Z"
    },
    "code_folding": []
   },
   "outputs": [],
   "source": [
    "def parse_reviews(list_of_reviews):\n",
    "    '''Adapted from Tyrell's code'''  \n",
    "\n",
    "    # Create empty list to store results\n",
    "    \n",
    "    parsed_reviews = []\n",
    "    \n",
    "    # Loop through each review in the list of reviews\n",
    "    # Add specific k:v pairs to a dictionary\n",
    "    # These pairs will be used to build a DF afterwards\n",
    "    \n",
    "#     print('Completed: create list ' + f'{parsed_reviews}')\n",
    "    \n",
    "    for review in list_of_reviews:\n",
    "        details = {'Reviewer Name': review['user']['name'],\n",
    "            'Review ID': review['id'],\n",
    "            'Time Created': review['time_created'],\n",
    "            'Review Rating': review['rating'],\n",
    "            'Review Text': review['text']\n",
    "            }\n",
    "        \n",
    "        # Add the new dictionary to the empty list\n",
    "        \n",
    "        parsed_reviews.append(details)\n",
    "    \n",
    "#     print('Completed: append list')\n",
    "    \n",
    "    # Create a DataFrame from the resulting list\n",
    "    \n",
    "    df_parsed_reviews = pd.DataFrame(parsed_reviews)\n",
    "\n",
    "#     print('Created DF')\n",
    "    \n",
    "    return df_parsed_reviews"
   ]
  },
  {
   "cell_type": "code",
   "execution_count": 98,
   "metadata": {
    "ExecuteTime": {
     "end_time": "2021-05-11T23:49:52.326104Z",
     "start_time": "2021-05-11T23:49:52.318109Z"
    }
   },
   "outputs": [],
   "source": [
    "# df_parsed_reviews = parse_reviews(reviews1['reviews'])\n",
    "# # df_parsed_reviews"
   ]
  },
  {
   "cell_type": "markdown",
   "metadata": {},
   "source": [
    "### ƒ: Get_Full_Reviews"
   ]
  },
  {
   "cell_type": "code",
   "execution_count": 126,
   "metadata": {
    "ExecuteTime": {
     "end_time": "2021-05-12T00:04:43.371255Z",
     "start_time": "2021-05-12T00:04:43.354245Z"
    },
    "code_folding": []
   },
   "outputs": [],
   "source": [
    "def get_reviews(biz_id, yelp_key,verbose=False):\n",
    "    '''Requests all results from Yelp API; saves as a .csv; and returns a DataFrame.'''\n",
    "    \n",
    "    # Process first request to Yelp API and calculate number of pages \n",
    "    results = yelp_id_offset(biz_id, yelp_key, offset=0, verbose=False)\n",
    "    num_pages = results['total']//50+1\n",
    "    \n",
    "    # Print out confirmation feedback\n",
    "    if verbose == True:\n",
    "        print(f'For {biz_id}: ')\n",
    "        print(f\"    Total number of results: {results['total']}.\")\n",
    "        print(f'    Total number of pages: {num_pages}.')\n",
    "    \n",
    "    # Create offset for further results and create empty list\n",
    "    cur = len(results['reviews'])\n",
    "    parsed_results_dfs = []\n",
    "\n",
    "    # Retrieves remaining pages\n",
    "    for num in range(1,num_pages):\n",
    "        try:\n",
    "            results = yelp_id_offset(biz_id, yelp_key, offset=cur, verbose=False)\n",
    "            parsed_results = parse_reviews(results['reviews'])\n",
    "            parsed_results['Business ID'] = biz_id\n",
    "            parsed_results_dfs.append(parsed_results)\n",
    "            cur += len(results['reviews'])\n",
    "        except Exception as e:\n",
    "            print(f'Error on page {num}.')\n",
    "            print(e)\n",
    "\n",
    "    # Concatenate DataFrames and save to .csv\n",
    "    try:\n",
    "        df_concat = pd.concat(parsed_results_dfs, ignore_index=True)\n",
    "        df_concat.to_csv('data/business_ids.csv')\n",
    "        return df_concat\n",
    "    except Exception as e:\n",
    "        print(f'Error, did not concat.')\n",
    "        print(e)\n",
    "#         return parsed_results_dfs\n",
    "\n",
    "\n",
    "#     try:\n",
    "#         df_concat.to_csv('data/business_ids.csv')\n",
    "# #         print(f'Saved to data/business_ids.csv.')\n",
    "#     except:\n",
    "#         print(f'Error, did not save.')\n",
    "        \n",
    "#     return df_concat"
   ]
  },
  {
   "cell_type": "code",
   "execution_count": 120,
   "metadata": {
    "ExecuteTime": {
     "end_time": "2021-05-12T00:01:34.667633Z",
     "start_time": "2021-05-12T00:01:33.335039Z"
    }
   },
   "outputs": [
    {
     "data": {
      "text/plain": [
       "'Phqm2QvJE0uEqpxMvdzH_g'"
      ]
     },
     "execution_count": 120,
     "metadata": {},
     "output_type": "execute_result"
    }
   ],
   "source": [
    "biz_id"
   ]
  },
  {
   "cell_type": "code",
   "execution_count": 121,
   "metadata": {
    "ExecuteTime": {
     "end_time": "2021-05-12T00:01:34.977631Z",
     "start_time": "2021-05-12T00:01:34.966635Z"
    }
   },
   "outputs": [],
   "source": [
    "# results = yelp_id_offset(biz_id, yelp_key, offset=0, verbose=False)\n",
    "# num_pages = 2 #results['total']//50+1\n",
    "\n",
    "# # Print out confirmation feedback\n",
    "# print(f'For {biz_id}: ')\n",
    "# print(f\"    Total number of results: {results['total']}.\")\n",
    "# print(f'    Total number of pages: {num_pages}.')\n",
    "\n",
    "# # Create offset for further results and create empty list\n",
    "# cur = 50\n",
    "# parsed_results_dfs = []\n",
    "\n",
    "# # Retrieves remaining pages\n",
    "# for num in range(num_pages-1):\n",
    "#     try:\n",
    "#         results = yelp_id_offset(biz_id, yelp_key, offset=cur, verbose=False)\n",
    "#         parsed_results = parse_reviews(results['reviews'])\n",
    "#         parsed_results_dfs.append(parsed_results)\n",
    "#         cur += 50\n",
    "#     except Exception as e:\n",
    "#         print(f'Error on page {num}.')\n",
    "#         print(e)\n",
    "\n",
    "# # Concatenate DataFrames and save to .csv\n",
    "# df_concat = pd.concat(parsed_results_dfs, ignore_index=True)\n"
   ]
  },
  {
   "cell_type": "code",
   "execution_count": 124,
   "metadata": {
    "ExecuteTime": {
     "end_time": "2021-05-12T00:03:27.530213Z",
     "start_time": "2021-05-12T00:02:36.135548Z"
    },
    "scrolled": true
   },
   "outputs": [
    {
     "name": "stdout",
     "output_type": "stream",
     "text": [
      "For DknnpiG1p4OoM1maFshzXA: \n",
      "    Total number of results: 626.\n",
      "    Total number of pages: 13.\n",
      "For Cn2_bpTngghYW1ej4zreZg: \n",
      "    Total number of results: 100.\n",
      "    Total number of pages: 3.\n",
      "Error on page 1.\n",
      "'reviews'\n",
      "For Cc1sQWRWgGyMCjzX2mmMQQ: \n",
      "    Total number of results: 103.\n",
      "    Total number of pages: 3.\n",
      "For gMW1RvyLu90RSQAY9UrIHw: \n",
      "    Total number of results: 138.\n",
      "    Total number of pages: 3.\n",
      "For WqVbxY77Ag96X90LultCUw: \n",
      "    Total number of results: 96.\n",
      "    Total number of pages: 2.\n",
      "For yZp9FdMH6Dmn98mfNInFHw: \n",
      "    Total number of results: 195.\n",
      "    Total number of pages: 4.\n",
      "For ElE6Nj7iz-tNV4ebV6Clew: \n",
      "    Total number of results: 76.\n",
      "    Total number of pages: 2.\n",
      "For Ub2bJsi7lIOQ9TyIKdHaJw: \n",
      "    Total number of results: 547.\n",
      "    Total number of pages: 11.\n",
      "For fyh566YXm5XJ3Ntv_GLghg: \n",
      "    Total number of results: 173.\n",
      "    Total number of pages: 4.\n",
      "For sCET1pLdKNNPBQJyjPOkww: \n",
      "    Total number of results: 307.\n",
      "    Total number of pages: 7.\n",
      "For 7i8AdZoDySoEdT_uoMMzNA: \n",
      "    Total number of results: 85.\n",
      "    Total number of pages: 2.\n",
      "For ALTc2EAwGkWfVL9gpuGdqw: \n",
      "    Total number of results: 59.\n",
      "    Total number of pages: 2.\n",
      "For Phqm2QvJE0uEqpxMvdzH_g: \n",
      "    Total number of results: 20.\n",
      "    Total number of pages: 1.\n",
      "Error, did not concat.\n",
      "No objects to concatenate\n",
      "For NKsyDqmKiNWT4HtkBh6AdA: \n",
      "    Total number of results: 111.\n",
      "    Total number of pages: 3.\n",
      "For o0flINbzGa8LDlM9Mtbfwg: \n",
      "    Total number of results: 55.\n",
      "    Total number of pages: 2.\n",
      "For Oic9__gID0APdrBIjP4Xjw: \n",
      "    Total number of results: 113.\n",
      "    Total number of pages: 3.\n",
      "For YVMiPOAPsEd1fXxNmpjEMA: \n",
      "    Total number of results: 43.\n",
      "    Total number of pages: 1.\n",
      "Error, did not concat.\n",
      "No objects to concatenate\n",
      "For ptA-I2Kk78jydAeJIYs2Cg: \n",
      "    Total number of results: 99.\n",
      "    Total number of pages: 2.\n",
      "For 1PS0mcUZkJPyG72pk3zwVg: \n",
      "    Total number of results: 26.\n",
      "    Total number of pages: 1.\n",
      "Error, did not concat.\n",
      "No objects to concatenate\n",
      "For 9qalQETuaZnFDgZrsEB7MA: \n",
      "    Total number of results: 38.\n",
      "    Total number of pages: 1.\n",
      "Error, did not concat.\n",
      "No objects to concatenate\n",
      "For XH7njeu3FvhxoTqzHTTE5g: \n",
      "    Total number of results: 1.\n",
      "    Total number of pages: 1.\n",
      "Error, did not concat.\n",
      "No objects to concatenate\n",
      "For Ye4Pr0ZbC8sGPwpWqR5wvQ: \n",
      "    Total number of results: 6.\n",
      "    Total number of pages: 1.\n",
      "Error, did not concat.\n",
      "No objects to concatenate\n",
      "For f62YFfiriHapBhadXfMquA: \n",
      "    Total number of results: 23.\n",
      "    Total number of pages: 1.\n",
      "Error, did not concat.\n",
      "No objects to concatenate\n",
      "For BGfXAtLC5sHBWOKlcb17KA: \n",
      "    Total number of results: 1.\n",
      "    Total number of pages: 1.\n",
      "Error, did not concat.\n",
      "No objects to concatenate\n",
      "For gFPq8yqFRd9caMgkO5HvpQ: \n",
      "    Total number of results: 155.\n",
      "    Total number of pages: 4.\n",
      "For 97NwIhRGPhv1c4DU9DMpPA: \n",
      "    Total number of results: 19.\n",
      "    Total number of pages: 1.\n",
      "Error, did not concat.\n",
      "No objects to concatenate\n",
      "For wLEvfL3dKvMMPD17-lpcGw: \n",
      "    Total number of results: 126.\n",
      "    Total number of pages: 3.\n",
      "For 9YDsJ5OL1hkx_vqwlJhi_Q: \n",
      "    Total number of results: 12.\n",
      "    Total number of pages: 1.\n",
      "Error, did not concat.\n",
      "No objects to concatenate\n",
      "For VksLDK5jI-O53y0fFoUlQQ: \n",
      "    Total number of results: 99.\n",
      "    Total number of pages: 2.\n",
      "For 0gGOIJo3MUVpuy8hAepCGQ: \n",
      "    Total number of results: 2.\n",
      "    Total number of pages: 1.\n",
      "Error, did not concat.\n",
      "No objects to concatenate\n",
      "For ia3GRsrEDexiodnpXe0D6w: \n",
      "    Total number of results: 81.\n",
      "    Total number of pages: 2.\n",
      "For D9rtDihupzA39yBh0YcAXg: \n",
      "    Total number of results: 39.\n",
      "    Total number of pages: 1.\n",
      "Error, did not concat.\n",
      "No objects to concatenate\n",
      "For 5fkdGagUJDuc3axRWchzJQ: \n",
      "    Total number of results: 2.\n",
      "    Total number of pages: 1.\n",
      "Error, did not concat.\n",
      "No objects to concatenate\n",
      "For RdMY32yM5MRIztG9gzuDKw: \n",
      "    Total number of results: 71.\n",
      "    Total number of pages: 2.\n",
      "For V3kR-0Nb6ISBQ8ebXZJeVQ: \n",
      "    Total number of results: 102.\n",
      "    Total number of pages: 3.\n",
      "For 3mk6Tl3irp7x8baYoLRu9w: \n",
      "    Total number of results: 3.\n",
      "    Total number of pages: 1.\n",
      "Error, did not concat.\n",
      "No objects to concatenate\n",
      "For Wjn9nDudZgJ5okiB8Cbfmg: \n",
      "    Total number of results: 24.\n",
      "    Total number of pages: 1.\n",
      "Error, did not concat.\n",
      "No objects to concatenate\n",
      "For U1F6GFNI_nw4WawP546qHQ: \n",
      "    Total number of results: 3.\n",
      "    Total number of pages: 1.\n",
      "Error, did not concat.\n",
      "No objects to concatenate\n",
      "For TMuXpHvWmWlW__vpyREVjA: \n",
      "    Total number of results: 26.\n",
      "    Total number of pages: 1.\n",
      "Error, did not concat.\n",
      "No objects to concatenate\n",
      "For Ou-vDAZxoKeYkBDZzg_ZdA: \n",
      "    Total number of results: 33.\n",
      "    Total number of pages: 1.\n",
      "Error, did not concat.\n",
      "No objects to concatenate\n",
      "For rtE6b7MidHry2wEa9ls3gw: \n",
      "    Total number of results: 3.\n",
      "    Total number of pages: 1.\n",
      "Error, did not concat.\n",
      "No objects to concatenate\n",
      "For HwYHguzMcK-9yezh7DnC5Q: \n",
      "    Total number of results: 45.\n",
      "    Total number of pages: 1.\n",
      "Error, did not concat.\n",
      "No objects to concatenate\n",
      "For C679sPixYuW8kXKWdzCfhA: \n",
      "    Total number of results: 15.\n",
      "    Total number of pages: 1.\n",
      "Error, did not concat.\n",
      "No objects to concatenate\n",
      "For 5GXI0ATO4eX6RQWB0GUQPg: \n",
      "    Total number of results: 4.\n",
      "    Total number of pages: 1.\n",
      "Error, did not concat.\n",
      "No objects to concatenate\n",
      "For -juYJgCS_538F5k7rwGquQ: \n",
      "    Total number of results: 118.\n",
      "    Total number of pages: 3.\n",
      "For ctW-k4Ci81kdjE8xOA41sg: \n",
      "    Total number of results: 31.\n",
      "    Total number of pages: 1.\n",
      "Error, did not concat.\n",
      "No objects to concatenate\n",
      "For ZI9j1CrN_Vw3BEztOMNBRQ: \n",
      "    Total number of results: 19.\n",
      "    Total number of pages: 1.\n",
      "Error, did not concat.\n",
      "No objects to concatenate\n",
      "For swPy0eGVoD3GlScWORKJEg: \n",
      "    Total number of results: 33.\n",
      "    Total number of pages: 1.\n",
      "Error, did not concat.\n",
      "No objects to concatenate\n",
      "For cfMlwfp2ZIWc3Mpzg5o8CQ: \n",
      "    Total number of results: 14.\n",
      "    Total number of pages: 1.\n",
      "Error, did not concat.\n",
      "No objects to concatenate\n",
      "For IjuPgZ-M8Oy1M6ClIJNFBw: \n",
      "    Total number of results: 9.\n",
      "    Total number of pages: 1.\n",
      "Error, did not concat.\n",
      "No objects to concatenate\n",
      "For W4K-o6UseGKyQxlnfiEltQ: \n",
      "    Total number of results: 26.\n",
      "    Total number of pages: 1.\n",
      "Error, did not concat.\n",
      "No objects to concatenate\n",
      "For 881CXnwIREXkDjcuVTshaA: \n",
      "    Total number of results: 76.\n",
      "    Total number of pages: 2.\n",
      "For C9YXJNAi6FggGAJ94Qmksg: \n",
      "    Total number of results: 114.\n",
      "    Total number of pages: 3.\n",
      "For Vwy9frhCg-WiurWIBznvNA: \n",
      "    Total number of results: 23.\n",
      "    Total number of pages: 1.\n",
      "Error, did not concat.\n",
      "No objects to concatenate\n",
      "For WmDjdr2Y6XXnjainystcpA: \n",
      "    Total number of results: 46.\n",
      "    Total number of pages: 1.\n",
      "Error, did not concat.\n",
      "No objects to concatenate\n",
      "For Rym_5OGVbYlRa4lvrG2JdQ: \n",
      "    Total number of results: 8.\n",
      "    Total number of pages: 1.\n",
      "Error, did not concat.\n",
      "No objects to concatenate\n",
      "For 4IIGIWrIrMfJmlnErtmrNQ: \n",
      "    Total number of results: 247.\n",
      "    Total number of pages: 5.\n",
      "For vJVWsXyZDg3GpwASETe1pQ: \n",
      "    Total number of results: 29.\n",
      "    Total number of pages: 1.\n",
      "Error, did not concat.\n",
      "No objects to concatenate\n",
      "For 9c_BLUDYbND7lY30W_Rx1g: \n",
      "    Total number of results: 7.\n",
      "    Total number of pages: 1.\n",
      "Error, did not concat.\n",
      "No objects to concatenate\n",
      "For oshle3i0k6FEHN2aujSyxg: \n",
      "    Total number of results: 1.\n",
      "    Total number of pages: 1.\n",
      "Error, did not concat.\n",
      "No objects to concatenate\n",
      "For EzSpL_O4r00ZFg4BNi9qPw: \n",
      "    Total number of results: 14.\n",
      "    Total number of pages: 1.\n",
      "Error, did not concat.\n",
      "No objects to concatenate\n",
      "For W2not8gGBbjBMUeFmwdriA: \n",
      "    Total number of results: 35.\n",
      "    Total number of pages: 1.\n",
      "Error, did not concat.\n",
      "No objects to concatenate\n",
      "For 1YoSxgAOK625vP0lQpR5zw: \n",
      "    Total number of results: 13.\n",
      "    Total number of pages: 1.\n",
      "Error, did not concat.\n",
      "No objects to concatenate\n",
      "For 2H1dXyHAcdTxNrbqKbJ8Bg: \n",
      "    Total number of results: 54.\n",
      "    Total number of pages: 2.\n",
      "For RYmQTiLfU5oIFcZ3k1O38Q: \n",
      "    Total number of results: 16.\n",
      "    Total number of pages: 1.\n",
      "Error, did not concat.\n",
      "No objects to concatenate\n",
      "For YD8O_qG9BNlQm3OtzONDww: \n",
      "    Total number of results: 17.\n",
      "    Total number of pages: 1.\n",
      "Error, did not concat.\n",
      "No objects to concatenate\n",
      "For cfUvT3H6CGh_81U0Z-X7gw: \n",
      "    Total number of results: 141.\n",
      "    Total number of pages: 3.\n",
      "For 7KJwHtJ30t78VYBQMVLjAw: \n",
      "    Total number of results: 2.\n",
      "    Total number of pages: 1.\n",
      "Error, did not concat.\n",
      "No objects to concatenate\n"
     ]
    },
    {
     "name": "stdout",
     "output_type": "stream",
     "text": [
      "For Tu52NWMO_dnv5v4iyuLykg: \n",
      "    Total number of results: 17.\n",
      "    Total number of pages: 1.\n",
      "Error, did not concat.\n",
      "No objects to concatenate\n",
      "For fT9ysnQvYXw-RUD4GNodEQ: \n",
      "    Total number of results: 1.\n",
      "    Total number of pages: 1.\n",
      "Error, did not concat.\n",
      "No objects to concatenate\n",
      "For Z9e6h-DPZeugrv7shpfl5w: \n",
      "    Total number of results: 2.\n",
      "    Total number of pages: 1.\n",
      "Error, did not concat.\n",
      "No objects to concatenate\n",
      "For C8W1fWjVOyA10rufYYfM6Q: \n",
      "    Total number of results: 1.\n",
      "    Total number of pages: 1.\n",
      "Error, did not concat.\n",
      "No objects to concatenate\n",
      "For JVMnIFpnAxRNxHrJKqxWQg: \n",
      "    Total number of results: 6.\n",
      "    Total number of pages: 1.\n",
      "Error, did not concat.\n",
      "No objects to concatenate\n",
      "For DM_xFbiqpOgnDBCk9wUwow: \n",
      "    Total number of results: 5.\n",
      "    Total number of pages: 1.\n",
      "Error, did not concat.\n",
      "No objects to concatenate\n",
      "For 4nFSeNcQny91tOID2Jfv8Q: \n",
      "    Total number of results: 26.\n",
      "    Total number of pages: 1.\n",
      "Error, did not concat.\n",
      "No objects to concatenate\n",
      "For KkhZZgGdLyLJMflVCA5D9Q: \n",
      "    Total number of results: 1.\n",
      "    Total number of pages: 1.\n",
      "Error, did not concat.\n",
      "No objects to concatenate\n",
      "For Nqy6NwQSTuAjsBpE7AoJYQ: \n",
      "    Total number of results: 144.\n",
      "    Total number of pages: 3.\n",
      "For wyLm9fIoamN-VALcu3nUVg: \n",
      "    Total number of results: 1.\n",
      "    Total number of pages: 1.\n",
      "Error, did not concat.\n",
      "No objects to concatenate\n",
      "For B7gID-M2EsdpthrTcwTNYA: \n",
      "    Total number of results: 1.\n",
      "    Total number of pages: 1.\n",
      "Error, did not concat.\n",
      "No objects to concatenate\n",
      "For HxTqmzT4G43iAKXrB3pqQg: \n",
      "    Total number of results: 7.\n",
      "    Total number of pages: 1.\n",
      "Error, did not concat.\n",
      "No objects to concatenate\n",
      "For -STecUUsS69EMSE7PxwPwA: \n",
      "    Total number of results: 2.\n",
      "    Total number of pages: 1.\n",
      "Error, did not concat.\n",
      "No objects to concatenate\n",
      "For ZeiVSF1SMdVVSkiGE7qaSg: \n",
      "    Total number of results: 8.\n",
      "    Total number of pages: 1.\n",
      "Error, did not concat.\n",
      "No objects to concatenate\n"
     ]
    },
    {
     "data": {
      "text/plain": [
       "[   Reviewer Name               Review ID         Time Created  Review Rating  \\\n",
       " 0     Patrick T.  _aZ_3xAVPVJOVC_LlL0GeQ  2021-04-13 19:18:16              5   \n",
       " 1      Bianca B.  _HFTJW4nRUe5lC8M1LLflA  2021-02-21 15:29:51              5   \n",
       " 2   stephanie l.  AmyrN0N2SjWI_Uzy3Uq0jQ  2021-02-21 17:19:02              5   \n",
       " 3     Patrick T.  _aZ_3xAVPVJOVC_LlL0GeQ  2021-04-13 19:18:16              5   \n",
       " 4      Bianca B.  _HFTJW4nRUe5lC8M1LLflA  2021-02-21 15:29:51              5   \n",
       " 5   stephanie l.  AmyrN0N2SjWI_Uzy3Uq0jQ  2021-02-21 17:19:02              5   \n",
       " 6     Patrick T.  _aZ_3xAVPVJOVC_LlL0GeQ  2021-04-13 19:18:16              5   \n",
       " 7      Bianca B.  _HFTJW4nRUe5lC8M1LLflA  2021-02-21 15:29:51              5   \n",
       " 8   stephanie l.  AmyrN0N2SjWI_Uzy3Uq0jQ  2021-02-21 17:19:02              5   \n",
       " 9     Patrick T.  _aZ_3xAVPVJOVC_LlL0GeQ  2021-04-13 19:18:16              5   \n",
       " 10     Bianca B.  _HFTJW4nRUe5lC8M1LLflA  2021-02-21 15:29:51              5   \n",
       " 11  stephanie l.  AmyrN0N2SjWI_Uzy3Uq0jQ  2021-02-21 17:19:02              5   \n",
       " 12    Patrick T.  _aZ_3xAVPVJOVC_LlL0GeQ  2021-04-13 19:18:16              5   \n",
       " 13     Bianca B.  _HFTJW4nRUe5lC8M1LLflA  2021-02-21 15:29:51              5   \n",
       " 14  stephanie l.  AmyrN0N2SjWI_Uzy3Uq0jQ  2021-02-21 17:19:02              5   \n",
       " 15    Patrick T.  _aZ_3xAVPVJOVC_LlL0GeQ  2021-04-13 19:18:16              5   \n",
       " 16     Bianca B.  _HFTJW4nRUe5lC8M1LLflA  2021-02-21 15:29:51              5   \n",
       " 17  stephanie l.  AmyrN0N2SjWI_Uzy3Uq0jQ  2021-02-21 17:19:02              5   \n",
       " 18    Patrick T.  _aZ_3xAVPVJOVC_LlL0GeQ  2021-04-13 19:18:16              5   \n",
       " 19     Bianca B.  _HFTJW4nRUe5lC8M1LLflA  2021-02-21 15:29:51              5   \n",
       " 20  stephanie l.  AmyrN0N2SjWI_Uzy3Uq0jQ  2021-02-21 17:19:02              5   \n",
       " 21    Patrick T.  _aZ_3xAVPVJOVC_LlL0GeQ  2021-04-13 19:18:16              5   \n",
       " 22     Bianca B.  _HFTJW4nRUe5lC8M1LLflA  2021-02-21 15:29:51              5   \n",
       " 23  stephanie l.  AmyrN0N2SjWI_Uzy3Uq0jQ  2021-02-21 17:19:02              5   \n",
       " 24    Patrick T.  _aZ_3xAVPVJOVC_LlL0GeQ  2021-04-13 19:18:16              5   \n",
       " 25     Bianca B.  _HFTJW4nRUe5lC8M1LLflA  2021-02-21 15:29:51              5   \n",
       " 26  stephanie l.  AmyrN0N2SjWI_Uzy3Uq0jQ  2021-02-21 17:19:02              5   \n",
       " 27    Patrick T.  _aZ_3xAVPVJOVC_LlL0GeQ  2021-04-13 19:18:16              5   \n",
       " 28     Bianca B.  _HFTJW4nRUe5lC8M1LLflA  2021-02-21 15:29:51              5   \n",
       " 29  stephanie l.  AmyrN0N2SjWI_Uzy3Uq0jQ  2021-02-21 17:19:02              5   \n",
       " 30    Patrick T.  _aZ_3xAVPVJOVC_LlL0GeQ  2021-04-13 19:18:16              5   \n",
       " 31     Bianca B.  _HFTJW4nRUe5lC8M1LLflA  2021-02-21 15:29:51              5   \n",
       " 32  stephanie l.  AmyrN0N2SjWI_Uzy3Uq0jQ  2021-02-21 17:19:02              5   \n",
       " 33    Patrick T.  _aZ_3xAVPVJOVC_LlL0GeQ  2021-04-13 19:18:16              5   \n",
       " 34     Bianca B.  _HFTJW4nRUe5lC8M1LLflA  2021-02-21 15:29:51              5   \n",
       " 35  stephanie l.  AmyrN0N2SjWI_Uzy3Uq0jQ  2021-02-21 17:19:02              5   \n",
       " \n",
       "                                           Review Text  \n",
       " 0   Debbie and Ronnie were wonderfully attentive t...  \n",
       " 1   I haven't gone to the winery since pre covid; ...  \n",
       " 2   I can't believe I never been here before! It's...  \n",
       " 3   Debbie and Ronnie were wonderfully attentive t...  \n",
       " 4   I haven't gone to the winery since pre covid; ...  \n",
       " 5   I can't believe I never been here before! It's...  \n",
       " 6   Debbie and Ronnie were wonderfully attentive t...  \n",
       " 7   I haven't gone to the winery since pre covid; ...  \n",
       " 8   I can't believe I never been here before! It's...  \n",
       " 9   Debbie and Ronnie were wonderfully attentive t...  \n",
       " 10  I haven't gone to the winery since pre covid; ...  \n",
       " 11  I can't believe I never been here before! It's...  \n",
       " 12  Debbie and Ronnie were wonderfully attentive t...  \n",
       " 13  I haven't gone to the winery since pre covid; ...  \n",
       " 14  I can't believe I never been here before! It's...  \n",
       " 15  Debbie and Ronnie were wonderfully attentive t...  \n",
       " 16  I haven't gone to the winery since pre covid; ...  \n",
       " 17  I can't believe I never been here before! It's...  \n",
       " 18  Debbie and Ronnie were wonderfully attentive t...  \n",
       " 19  I haven't gone to the winery since pre covid; ...  \n",
       " 20  I can't believe I never been here before! It's...  \n",
       " 21  Debbie and Ronnie were wonderfully attentive t...  \n",
       " 22  I haven't gone to the winery since pre covid; ...  \n",
       " 23  I can't believe I never been here before! It's...  \n",
       " 24  Debbie and Ronnie were wonderfully attentive t...  \n",
       " 25  I haven't gone to the winery since pre covid; ...  \n",
       " 26  I can't believe I never been here before! It's...  \n",
       " 27  Debbie and Ronnie were wonderfully attentive t...  \n",
       " 28  I haven't gone to the winery since pre covid; ...  \n",
       " 29  I can't believe I never been here before! It's...  \n",
       " 30  Debbie and Ronnie were wonderfully attentive t...  \n",
       " 31  I haven't gone to the winery since pre covid; ...  \n",
       " 32  I can't believe I never been here before! It's...  \n",
       " 33  Debbie and Ronnie were wonderfully attentive t...  \n",
       " 34  I haven't gone to the winery since pre covid; ...  \n",
       " 35  I can't believe I never been here before! It's...  ,\n",
       "              Reviewer Name               Review ID         Time Created  \\\n",
       " 0  The Enlightened Chef S.  289yehvv1ffFX1YpjnO-Sg  2021-04-22 12:39:46   \n",
       " 1                 Jenny F.  Bq5rdO0LciviggO0lI2x6w  2020-06-21 12:21:35   \n",
       " 2                 Marta B.  RgeiZsawZshmbKUWxFYEoQ  2020-10-04 08:12:29   \n",
       " \n",
       "    Review Rating                                        Review Text  \n",
       " 0              5  Absolutely amazing experience. We love Callawa...  \n",
       " 1              5  The menu I posted is their limited menu right ...  \n",
       " 2              5  Amazing wine and amazing service. Perfect wine...  ,\n",
       "   Reviewer Name               Review ID         Time Created  Review Rating  \\\n",
       " 0        Don M.  in8RYV-exTACuKnftkcP4g  2021-03-01 10:00:51              5   \n",
       " 1     Lauren H.  3PzGksUlZic7Vbus_D0GAw  2020-07-26 20:34:59              5   \n",
       " 2   Jennifer C.  kfsYz-4-D35ERfaGtHMJfg  2020-12-06 18:15:57              5   \n",
       " 3        Don M.  in8RYV-exTACuKnftkcP4g  2021-03-01 10:00:51              5   \n",
       " 4     Lauren H.  3PzGksUlZic7Vbus_D0GAw  2020-07-26 20:34:59              5   \n",
       " 5   Jennifer C.  kfsYz-4-D35ERfaGtHMJfg  2020-12-06 18:15:57              5   \n",
       " \n",
       "                                          Review Text  \n",
       " 0  I've been a Royal member at Negociant for seve...  \n",
       " 1  My husband and I have been members at Negocian...  \n",
       " 2  They still have some amazing reds! Got a glass...  \n",
       " 3  I've been a Royal member at Negociant for seve...  \n",
       " 4  My husband and I have been members at Negocian...  \n",
       " 5  They still have some amazing reds! Got a glass...  ,\n",
       "   Reviewer Name               Review ID         Time Created  Review Rating  \\\n",
       " 0      Allan D.  PoTLdbXvRLK_b-1qjxcgxA  2021-05-07 11:55:08              5   \n",
       " 1    Shalini G.  v5dFTy5uOQ8MGBa_SCXw9A  2021-05-10 12:05:49              4   \n",
       " 2       Ally N.  4sP52eoDxaMF5bry-MFdbQ  2021-05-07 19:05:37              4   \n",
       " 3      Allan D.  PoTLdbXvRLK_b-1qjxcgxA  2021-05-07 11:55:08              5   \n",
       " 4    Shalini G.  v5dFTy5uOQ8MGBa_SCXw9A  2021-05-10 12:05:49              4   \n",
       " 5       Ally N.  4sP52eoDxaMF5bry-MFdbQ  2021-05-07 19:05:37              4   \n",
       " \n",
       "                                          Review Text  \n",
       " 0  First time here and it's such a find on our wa...  \n",
       " 1  i'm on the email list and have heard of these ...  \n",
       " 2  I've walked by this place the last few weekend...  \n",
       " 3  First time here and it's such a find on our wa...  \n",
       " 4  i'm on the email list and have heard of these ...  \n",
       " 5  I've walked by this place the last few weekend...  ,\n",
       "   Reviewer Name               Review ID         Time Created  Review Rating  \\\n",
       " 0   Victoria L.  RNcFrVifTs8K4NG62yEPNw  2021-04-11 11:32:04              5   \n",
       " 1    Natalie G.  ho90mYf58ncFRRr11_kHug  2021-02-28 02:16:49              5   \n",
       " 2      Kerry P.  8bDObm-haokh2oqdWnTUUg  2021-05-02 18:16:14              5   \n",
       " \n",
       "                                          Review Text  \n",
       " 0  Domaine Artefact is our current favorite winer...  \n",
       " 1  Went with my little family while includes a 3 ...  \n",
       " 2  The wine here is OUT OF THIS WORLD. Definitely...  ,\n",
       "   Reviewer Name               Review ID         Time Created  Review Rating  \\\n",
       " 0       Beth G.  ugBT6aKwsndXqzf61g__MA  2021-03-14 15:51:30              5   \n",
       " 1      Amber H.  akCgSoCPg2KZmDBpO2ntRQ  2021-03-27 10:21:05              5   \n",
       " 2    Jessica S.  2DfDUS-QJ0k5gPutF9VuQw  2020-09-16 12:41:17              5   \n",
       " 3       Beth G.  ugBT6aKwsndXqzf61g__MA  2021-03-14 15:51:30              5   \n",
       " 4      Amber H.  akCgSoCPg2KZmDBpO2ntRQ  2021-03-27 10:21:05              5   \n",
       " 5    Jessica S.  2DfDUS-QJ0k5gPutF9VuQw  2020-09-16 12:41:17              5   \n",
       " 6       Beth G.  ugBT6aKwsndXqzf61g__MA  2021-03-14 15:51:30              5   \n",
       " 7      Amber H.  akCgSoCPg2KZmDBpO2ntRQ  2021-03-27 10:21:05              5   \n",
       " 8    Jessica S.  2DfDUS-QJ0k5gPutF9VuQw  2020-09-16 12:41:17              5   \n",
       " \n",
       "                                          Review Text  \n",
       " 0  This is such a cute little wine garden. It is ...  \n",
       " 1  My husband & I live in the neighborhood & we l...  \n",
       " 2  Great spot for a date or girls night!\\n\\nAweso...  \n",
       " 3  This is such a cute little wine garden. It is ...  \n",
       " 4  My husband & I live in the neighborhood & we l...  \n",
       " 5  Great spot for a date or girls night!\\n\\nAweso...  \n",
       " 6  This is such a cute little wine garden. It is ...  \n",
       " 7  My husband & I live in the neighborhood & we l...  \n",
       " 8  Great spot for a date or girls night!\\n\\nAweso...  ,\n",
       "   Reviewer Name               Review ID         Time Created  Review Rating  \\\n",
       " 0        Ben C.  p73rf7jbWX8OuuYsS_67GA  2020-05-17 10:05:14              5   \n",
       " 1       Anna L.  -JUgobcguZBDO8kQth0Veg  2019-12-08 20:20:09              5   \n",
       " 2  Gabriella M.  SR0-8FrNgEVLFXVqGBzhCA  2019-09-14 09:34:02              5   \n",
       " \n",
       "                                          Review Text  \n",
       " 0  Super cool interior, great wine, and nice peop...  \n",
       " 1  Blue Door Urban Winery truly is a hidden gem. ...  \n",
       " 2  This hidden gem is walking distance from my ne...  ,\n",
       "    Reviewer Name               Review ID         Time Created  Review Rating  \\\n",
       " 0       Tyler W.  Vl6xkfmk8AtwXsgfKD8bYg  2020-09-29 11:29:04              5   \n",
       " 1         Jen S.  ZmT9mcHDVVCr4lxytija6Q  2020-08-16 20:33:24              5   \n",
       " 2    Chrissie O.  HQJ96S71FVvCCr8niUw6Ig  2020-09-09 16:45:42              5   \n",
       " 3       Tyler W.  Vl6xkfmk8AtwXsgfKD8bYg  2020-09-29 11:29:04              5   \n",
       " 4         Jen S.  ZmT9mcHDVVCr4lxytija6Q  2020-08-16 20:33:24              5   \n",
       " 5    Chrissie O.  HQJ96S71FVvCCr8niUw6Ig  2020-09-09 16:45:42              5   \n",
       " 6       Tyler W.  Vl6xkfmk8AtwXsgfKD8bYg  2020-09-29 11:29:04              5   \n",
       " 7         Jen S.  ZmT9mcHDVVCr4lxytija6Q  2020-08-16 20:33:24              5   \n",
       " 8    Chrissie O.  HQJ96S71FVvCCr8niUw6Ig  2020-09-09 16:45:42              5   \n",
       " 9       Tyler W.  Vl6xkfmk8AtwXsgfKD8bYg  2020-09-29 11:29:04              5   \n",
       " 10        Jen S.  ZmT9mcHDVVCr4lxytija6Q  2020-08-16 20:33:24              5   \n",
       " 11   Chrissie O.  HQJ96S71FVvCCr8niUw6Ig  2020-09-09 16:45:42              5   \n",
       " 12      Tyler W.  Vl6xkfmk8AtwXsgfKD8bYg  2020-09-29 11:29:04              5   \n",
       " 13        Jen S.  ZmT9mcHDVVCr4lxytija6Q  2020-08-16 20:33:24              5   \n",
       " 14   Chrissie O.  HQJ96S71FVvCCr8niUw6Ig  2020-09-09 16:45:42              5   \n",
       " 15      Tyler W.  Vl6xkfmk8AtwXsgfKD8bYg  2020-09-29 11:29:04              5   \n",
       " 16        Jen S.  ZmT9mcHDVVCr4lxytija6Q  2020-08-16 20:33:24              5   \n",
       " 17   Chrissie O.  HQJ96S71FVvCCr8niUw6Ig  2020-09-09 16:45:42              5   \n",
       " 18      Tyler W.  Vl6xkfmk8AtwXsgfKD8bYg  2020-09-29 11:29:04              5   \n",
       " 19        Jen S.  ZmT9mcHDVVCr4lxytija6Q  2020-08-16 20:33:24              5   \n",
       " 20   Chrissie O.  HQJ96S71FVvCCr8niUw6Ig  2020-09-09 16:45:42              5   \n",
       " 21      Tyler W.  Vl6xkfmk8AtwXsgfKD8bYg  2020-09-29 11:29:04              5   \n",
       " 22        Jen S.  ZmT9mcHDVVCr4lxytija6Q  2020-08-16 20:33:24              5   \n",
       " 23   Chrissie O.  HQJ96S71FVvCCr8niUw6Ig  2020-09-09 16:45:42              5   \n",
       " 24      Tyler W.  Vl6xkfmk8AtwXsgfKD8bYg  2020-09-29 11:29:04              5   \n",
       " 25        Jen S.  ZmT9mcHDVVCr4lxytija6Q  2020-08-16 20:33:24              5   \n",
       " 26   Chrissie O.  HQJ96S71FVvCCr8niUw6Ig  2020-09-09 16:45:42              5   \n",
       " 27      Tyler W.  Vl6xkfmk8AtwXsgfKD8bYg  2020-09-29 11:29:04              5   \n",
       " 28        Jen S.  ZmT9mcHDVVCr4lxytija6Q  2020-08-16 20:33:24              5   \n",
       " 29   Chrissie O.  HQJ96S71FVvCCr8niUw6Ig  2020-09-09 16:45:42              5   \n",
       " \n",
       "                                           Review Text  \n",
       " 0   Open Now - Wine Tasting with a View\\n\\nWith th...  \n",
       " 1   Absolutely loved it here! Very beautiful and e...  \n",
       " 2   Came here for a double date with my besties.  ...  \n",
       " 3   Open Now - Wine Tasting with a View\\n\\nWith th...  \n",
       " 4   Absolutely loved it here! Very beautiful and e...  \n",
       " 5   Came here for a double date with my besties.  ...  \n",
       " 6   Open Now - Wine Tasting with a View\\n\\nWith th...  \n",
       " 7   Absolutely loved it here! Very beautiful and e...  \n",
       " 8   Came here for a double date with my besties.  ...  \n",
       " 9   Open Now - Wine Tasting with a View\\n\\nWith th...  \n",
       " 10  Absolutely loved it here! Very beautiful and e...  \n",
       " 11  Came here for a double date with my besties.  ...  \n",
       " 12  Open Now - Wine Tasting with a View\\n\\nWith th...  \n",
       " 13  Absolutely loved it here! Very beautiful and e...  \n",
       " 14  Came here for a double date with my besties.  ...  \n",
       " 15  Open Now - Wine Tasting with a View\\n\\nWith th...  \n",
       " 16  Absolutely loved it here! Very beautiful and e...  \n",
       " 17  Came here for a double date with my besties.  ...  \n",
       " 18  Open Now - Wine Tasting with a View\\n\\nWith th...  \n",
       " 19  Absolutely loved it here! Very beautiful and e...  \n",
       " 20  Came here for a double date with my besties.  ...  \n",
       " 21  Open Now - Wine Tasting with a View\\n\\nWith th...  \n",
       " 22  Absolutely loved it here! Very beautiful and e...  \n",
       " 23  Came here for a double date with my besties.  ...  \n",
       " 24  Open Now - Wine Tasting with a View\\n\\nWith th...  \n",
       " 25  Absolutely loved it here! Very beautiful and e...  \n",
       " 26  Came here for a double date with my besties.  ...  \n",
       " 27  Open Now - Wine Tasting with a View\\n\\nWith th...  \n",
       " 28  Absolutely loved it here! Very beautiful and e...  \n",
       " 29  Came here for a double date with my besties.  ...  ,\n",
       "   Reviewer Name               Review ID         Time Created  Review Rating  \\\n",
       " 0    Allyson F.  5FpIHJ6F4jaejPM2GQNIdw  2020-10-12 08:23:09              5   \n",
       " 1    Breanna F.  u5mAeYjJca3K0NbeBdT-Hw  2020-11-06 17:13:29              5   \n",
       " 2    Kristan T.  YZdIlMtaSfw5ttUt6cy_-Q  2020-06-29 14:37:32              5   \n",
       " 3    Allyson F.  5FpIHJ6F4jaejPM2GQNIdw  2020-10-12 08:23:09              5   \n",
       " 4    Breanna F.  u5mAeYjJca3K0NbeBdT-Hw  2020-11-06 17:13:29              5   \n",
       " 5    Kristan T.  YZdIlMtaSfw5ttUt6cy_-Q  2020-06-29 14:37:32              5   \n",
       " 6    Allyson F.  5FpIHJ6F4jaejPM2GQNIdw  2020-10-12 08:23:09              5   \n",
       " 7    Breanna F.  u5mAeYjJca3K0NbeBdT-Hw  2020-11-06 17:13:29              5   \n",
       " 8    Kristan T.  YZdIlMtaSfw5ttUt6cy_-Q  2020-06-29 14:37:32              5   \n",
       " \n",
       "                                          Review Text  \n",
       " 0  I can't believe I've lived in SD for over thre...  \n",
       " 1  Pali Wines is the perfect spot to stop in for ...  \n",
       " 2  Came back to San Diego and this was the first ...  \n",
       " 3  I can't believe I've lived in SD for over thre...  \n",
       " 4  Pali Wines is the perfect spot to stop in for ...  \n",
       " 5  Came back to San Diego and this was the first ...  \n",
       " 6  I can't believe I've lived in SD for over thre...  \n",
       " 7  Pali Wines is the perfect spot to stop in for ...  \n",
       " 8  Came back to San Diego and this was the first ...  ,\n",
       "    Reviewer Name               Review ID         Time Created  Review Rating  \\\n",
       " 0    emmanuel s.  Qh_rYf8P_lyktxkprC68fQ  2020-12-16 11:51:10              5   \n",
       " 1     Rachael G.  zDR1jchrv05m21zhPXq19Q  2020-08-23 10:18:58              5   \n",
       " 2    Danielle B.  Uned7E71rNcSrV2z86b7YQ  2021-02-19 21:19:27              5   \n",
       " 3    emmanuel s.  Qh_rYf8P_lyktxkprC68fQ  2020-12-16 11:51:10              5   \n",
       " 4     Rachael G.  zDR1jchrv05m21zhPXq19Q  2020-08-23 10:18:58              5   \n",
       " 5    Danielle B.  Uned7E71rNcSrV2z86b7YQ  2021-02-19 21:19:27              5   \n",
       " 6    emmanuel s.  Qh_rYf8P_lyktxkprC68fQ  2020-12-16 11:51:10              5   \n",
       " 7     Rachael G.  zDR1jchrv05m21zhPXq19Q  2020-08-23 10:18:58              5   \n",
       " 8    Danielle B.  Uned7E71rNcSrV2z86b7YQ  2021-02-19 21:19:27              5   \n",
       " 9    emmanuel s.  Qh_rYf8P_lyktxkprC68fQ  2020-12-16 11:51:10              5   \n",
       " 10    Rachael G.  zDR1jchrv05m21zhPXq19Q  2020-08-23 10:18:58              5   \n",
       " 11   Danielle B.  Uned7E71rNcSrV2z86b7YQ  2021-02-19 21:19:27              5   \n",
       " 12   emmanuel s.  Qh_rYf8P_lyktxkprC68fQ  2020-12-16 11:51:10              5   \n",
       " 13    Rachael G.  zDR1jchrv05m21zhPXq19Q  2020-08-23 10:18:58              5   \n",
       " 14   Danielle B.  Uned7E71rNcSrV2z86b7YQ  2021-02-19 21:19:27              5   \n",
       " 15   emmanuel s.  Qh_rYf8P_lyktxkprC68fQ  2020-12-16 11:51:10              5   \n",
       " 16    Rachael G.  zDR1jchrv05m21zhPXq19Q  2020-08-23 10:18:58              5   \n",
       " 17   Danielle B.  Uned7E71rNcSrV2z86b7YQ  2021-02-19 21:19:27              5   \n",
       " \n",
       "                                           Review Text  \n",
       " 0   Anna, Alan, and the entire Fruicraft team were...  \n",
       " 1   Amazing experience! With Covid restrictions ri...  \n",
       " 2   This place is a gem, hidden or not. The greene...  \n",
       " 3   Anna, Alan, and the entire Fruicraft team were...  \n",
       " 4   Amazing experience! With Covid restrictions ri...  \n",
       " 5   This place is a gem, hidden or not. The greene...  \n",
       " 6   Anna, Alan, and the entire Fruicraft team were...  \n",
       " 7   Amazing experience! With Covid restrictions ri...  \n",
       " 8   This place is a gem, hidden or not. The greene...  \n",
       " 9   Anna, Alan, and the entire Fruicraft team were...  \n",
       " 10  Amazing experience! With Covid restrictions ri...  \n",
       " 11  This place is a gem, hidden or not. The greene...  \n",
       " 12  Anna, Alan, and the entire Fruicraft team were...  \n",
       " 13  Amazing experience! With Covid restrictions ri...  \n",
       " 14  This place is a gem, hidden or not. The greene...  \n",
       " 15  Anna, Alan, and the entire Fruicraft team were...  \n",
       " 16  Amazing experience! With Covid restrictions ri...  \n",
       " 17  This place is a gem, hidden or not. The greene...  ,\n",
       "   Reviewer Name               Review ID         Time Created  Review Rating  \\\n",
       " 0   Theartsy C.  qZIHnaX6cIlP0NxZobPyyA  2020-12-30 18:13:08              5   \n",
       " 1       Sara R.  ICGE97eUdyQ2zqSXrUACVg  2020-09-13 09:13:00              5   \n",
       " 2      Sarah G.  _uehOWf8trL3jJkMn6GJgA  2020-05-23 17:33:30              5   \n",
       " \n",
       "                                          Review Text  \n",
       " 0  Great place to buy a bottle of wine and suppor...  \n",
       " 1  This place was amazing!! During COVID... they ...  \n",
       " 2  Just want to give a shout out to Derrick & Chr...  ,\n",
       "   Reviewer Name               Review ID         Time Created  Review Rating  \\\n",
       " 0     Daniel N.  HJLYZh9dv5zizEfr2t254w  2021-02-01 21:28:44              5   \n",
       " 1  Christine M.  MyLOLtp8nFWetoG6W5NV3A  2020-08-20 14:40:22              5   \n",
       " 2        Amy K.  8iSA2xi9m0xxLtTlQUo0Vw  2020-08-22 23:24:21              5   \n",
       " \n",
       "                                          Review Text  \n",
       " 0  Always a great time when visiting this winery....  \n",
       " 1  Wow! This place is jaw dropping upon entering....  \n",
       " 2  Cute little winery in San Pascual Valley (just...  ,\n",
       "   Reviewer Name               Review ID         Time Created  Review Rating  \\\n",
       " 0      Tiara W.  I7_barfqVrpiXn28Jj9PzQ  2021-05-10 13:28:52              5   \n",
       " 1     Marcos R.  CYa57GMk9T_sGlsX1lCItA  2020-08-01 12:05:20              5   \n",
       " 2     Monroe C.  PPBxQ2D98c78ZxNF2V9-Pw  2020-08-05 13:41:02              5   \n",
       " 3      Tiara W.  I7_barfqVrpiXn28Jj9PzQ  2021-05-10 13:28:52              5   \n",
       " 4     Marcos R.  CYa57GMk9T_sGlsX1lCItA  2020-08-01 12:05:20              5   \n",
       " 5     Monroe C.  PPBxQ2D98c78ZxNF2V9-Pw  2020-08-05 13:41:02              5   \n",
       " \n",
       "                                          Review Text  \n",
       " 0  What a great winery, delicious wine and beauti...  \n",
       " 1  I had a great experience here.  I headed to th...  \n",
       " 2  Above and beyond hospitality from each family ...  \n",
       " 3  What a great winery, delicious wine and beauti...  \n",
       " 4  I had a great experience here.  I headed to th...  \n",
       " 5  Above and beyond hospitality from each family ...  ,\n",
       "   Reviewer Name               Review ID         Time Created  Review Rating  \\\n",
       " 0     Leslie B.  kBWhetRwJoItGJy6ZvTrMQ  2020-05-21 17:21:11              5   \n",
       " 1     Ashley B.  uUcEz_YCpQhoydVG4j_MJA  2020-01-03 19:05:54              5   \n",
       " 2      Jamie N.  4cIIwYyq-5ZfXtnCpelvIg  2020-07-03 18:05:09              1   \n",
       " \n",
       "                                          Review Text  \n",
       " 0  Today is Thankful Thursday and I have set asid...  \n",
       " 1  This wine is so good!! I'm super particular ab...  \n",
       " 2  Rude. Walked in today and guy said with attitu...  ,\n",
       "   Reviewer Name               Review ID         Time Created  Review Rating  \\\n",
       " 0      Gregg M.  AAKBwOxxrK4r-vs6k_uvQA  2020-04-14 06:50:29              5   \n",
       " 1   Veronica M.  QzEx5sDxmmn8dhUW0PMYCQ  2021-04-25 17:07:02              5   \n",
       " 2     Saleen D.  POcUpuSSk2Gmk75cejJm9w  2020-07-07 02:29:00              4   \n",
       " 3      Gregg M.  AAKBwOxxrK4r-vs6k_uvQA  2020-04-14 06:50:29              5   \n",
       " 4   Veronica M.  QzEx5sDxmmn8dhUW0PMYCQ  2021-04-25 17:07:02              5   \n",
       " 5     Saleen D.  POcUpuSSk2Gmk75cejJm9w  2020-07-07 02:29:00              4   \n",
       " \n",
       "                                          Review Text  \n",
       " 0  My wife and I stumbled upon Koi Zen about a ye...  \n",
       " 1  We had a great time at Koi Zen Cellars, great ...  \n",
       " 2  Awesome winery in the business district of Car...  \n",
       " 3  My wife and I stumbled upon Koi Zen about a ye...  \n",
       " 4  We had a great time at Koi Zen Cellars, great ...  \n",
       " 5  Awesome winery in the business district of Car...  ,\n",
       "   Reviewer Name               Review ID         Time Created  Review Rating  \\\n",
       " 0    Jessica N.  giFqagv2Qpq_MAm9SRxVIg  2021-03-24 17:11:56              5   \n",
       " 1       Thuy N.  sg4D7YSOxAGLimx7saokEw  2019-03-08 06:19:48              5   \n",
       " 2       Dung N.  Dq6983YM3TP08sBwcNNxPg  2018-03-30 14:13:00              3   \n",
       " \n",
       "                                          Review Text  \n",
       " 0  Came in today to get out of the house and enjo...  \n",
       " 1  PROS:\\n+ happy hour from 3-6\\n+ bread pudding ...  \n",
       " 2  It was my second time here and I came to atten...  ,\n",
       "   Reviewer Name               Review ID         Time Created  Review Rating  \\\n",
       " 0    Justine F.  -KBbLyXWITyzwX1v_S5AgQ  2021-02-11 16:31:50              5   \n",
       " 1      Susan M.  mdDB_nU_rx250UVlYp1Ttg  2020-07-25 20:05:13              5   \n",
       " 2    Beverly D.  dZLZogT2TKjDvqqkkt1tkA  2020-04-11 14:31:47              5   \n",
       " 3    Justine F.  -KBbLyXWITyzwX1v_S5AgQ  2021-02-11 16:31:50              5   \n",
       " 4      Susan M.  mdDB_nU_rx250UVlYp1Ttg  2020-07-25 20:05:13              5   \n",
       " 5    Beverly D.  dZLZogT2TKjDvqqkkt1tkA  2020-04-11 14:31:47              5   \n",
       " 6    Justine F.  -KBbLyXWITyzwX1v_S5AgQ  2021-02-11 16:31:50              5   \n",
       " 7      Susan M.  mdDB_nU_rx250UVlYp1Ttg  2020-07-25 20:05:13              5   \n",
       " 8    Beverly D.  dZLZogT2TKjDvqqkkt1tkA  2020-04-11 14:31:47              5   \n",
       " \n",
       "                                          Review Text  \n",
       " 0  We visited this gorgeous winery in December ju...  \n",
       " 1  Wow, have I learned a lot about this valley in...  \n",
       " 2  We are members of GJ.  Today we picked up are ...  \n",
       " 3  We visited this gorgeous winery in December ju...  \n",
       " 4  Wow, have I learned a lot about this valley in...  \n",
       " 5  We are members of GJ.  Today we picked up are ...  \n",
       " 6  We visited this gorgeous winery in December ju...  \n",
       " 7  Wow, have I learned a lot about this valley in...  \n",
       " 8  We are members of GJ.  Today we picked up are ...  ,\n",
       "   Reviewer Name               Review ID         Time Created  Review Rating  \\\n",
       " 0       Meri D.  8l0j3FKC3tVT1M2lzo-Sfg  2020-12-20 22:01:13              5   \n",
       " 1       Tanu C.  KLJmWr10sJ6r-DugA3ruSw  2020-10-18 16:50:05              5   \n",
       " 2   Veronica M.  gn7oiQdh-D0cUwBT6HtUEg  2021-05-09 23:25:36              5   \n",
       " 3       Meri D.  8l0j3FKC3tVT1M2lzo-Sfg  2020-12-20 22:01:13              5   \n",
       " 4       Tanu C.  KLJmWr10sJ6r-DugA3ruSw  2020-10-18 16:50:05              5   \n",
       " 5   Veronica M.  gn7oiQdh-D0cUwBT6HtUEg  2021-05-09 23:25:36              5   \n",
       " \n",
       "                                          Review Text  \n",
       " 0  Love this winery located in Escondido! This is...  \n",
       " 1  Super cute winery! Staff wore masks and we wer...  \n",
       " 2  Roberto and Noelle are the best! We enjoyed ou...  \n",
       " 3  Love this winery located in Escondido! This is...  \n",
       " 4  Super cute winery! Staff wore masks and we wer...  \n",
       " 5  Roberto and Noelle are the best! We enjoyed ou...  ,\n",
       "       Reviewer Name               Review ID         Time Created  \\\n",
       " 0        Natalie P.  E0x833tQAYDsAy3YWrUsvA  2020-09-27 17:43:12   \n",
       " 1  Time To Relax L.  -RAD6RLcQr5XlGLJhkXJeQ  2021-03-28 20:21:38   \n",
       " 2      Christine A.  j81fnoHXQuFDYiyMgsA92g  2020-11-15 22:45:39   \n",
       " \n",
       "    Review Rating                                        Review Text  \n",
       " 0              5  A smooth experience overall. Called the night ...  \n",
       " 1              5  What a wonderful way to end my scavenger hunt!...  \n",
       " 2              5  My bf and I were touring around San Diego and ...  ,\n",
       "   Reviewer Name               Review ID         Time Created  Review Rating  \\\n",
       " 0    Kathryn B.  VEPfDcqs1n9AhO_Eahak9Q  2021-05-02 20:22:54              5   \n",
       " 1   Channing C.  aaXRSJD78buKjFOXvS_LBA  2020-12-16 14:23:40              3   \n",
       " 2       Jack M.  flZcYI6VDolZ7cmOBwnBzQ  2017-12-22 09:42:14              5   \n",
       " \n",
       "                                          Review Text  \n",
       " 0  Really like their wines. My boyfriend is a mem...  \n",
       " 1  A nice cute and quaint wine tasting room locat...  \n",
       " 2  Great wine testing location and great people. ...  ,\n",
       "   Reviewer Name               Review ID         Time Created  Review Rating  \\\n",
       " 0      Susan M.  PHlfFFbFtH7uw6YibFGoRQ  2020-07-22 17:31:19              5   \n",
       " 1        Ted S.  LY3F9zCVAL083aUmJSnOXw  2020-03-28 21:48:41              5   \n",
       " 2    Natasha B.  STHSCD5M6Gje8Dm025rujA  2021-02-23 20:37:55              5   \n",
       " \n",
       "                                          Review Text  \n",
       " 0  This was a real treat. It was great to drink I...  \n",
       " 1  Principe di Tricase has some of the most fanta...  \n",
       " 2  Visited this winery over the weekend and had t...  ,\n",
       "   Reviewer Name               Review ID         Time Created  Review Rating  \\\n",
       " 0      Jenna D.  vFDjzAiK4YlsqpHwCSsrxw  2021-04-18 13:14:48              5   \n",
       " 1      Trish S.  IOrVbSU0woltiXoLA7dh9Q  2020-10-27 15:03:26              5   \n",
       " 2     Laurie K.  -5-RCV5fDdxEIu1ZZ69ESg  2020-11-21 11:03:12              5   \n",
       " 3      Jenna D.  vFDjzAiK4YlsqpHwCSsrxw  2021-04-18 13:14:48              5   \n",
       " 4      Trish S.  IOrVbSU0woltiXoLA7dh9Q  2020-10-27 15:03:26              5   \n",
       " 5     Laurie K.  -5-RCV5fDdxEIu1ZZ69ESg  2020-11-21 11:03:12              5   \n",
       " \n",
       "                                          Review Text  \n",
       " 0  Visited the winery today while driving through...  \n",
       " 1  Five stars for Ms. Debbie who put up with us a...  \n",
       " 2  We stopped at this amazing winery! So quaint a...  \n",
       " 3  Visited the winery today while driving through...  \n",
       " 4  Five stars for Ms. Debbie who put up with us a...  \n",
       " 5  We stopped at this amazing winery! So quaint a...  ,\n",
       "   Reviewer Name               Review ID         Time Created  Review Rating  \\\n",
       " 0     Ashley B.  hOkxR8GMaonaHHYSCRe2Ew  2020-11-29 10:38:55              5   \n",
       " 1  Catherine G.  AEJzFQOX6n7-QhepQfTNOQ  2021-01-18 12:06:12              5   \n",
       " 2        Amy K.  L_ivV6d5azC_kqfbXtx2bA  2020-04-30 23:29:39              5   \n",
       " 3     Ashley B.  hOkxR8GMaonaHHYSCRe2Ew  2020-11-29 10:38:55              5   \n",
       " 4  Catherine G.  AEJzFQOX6n7-QhepQfTNOQ  2021-01-18 12:06:12              5   \n",
       " 5        Amy K.  L_ivV6d5azC_kqfbXtx2bA  2020-04-30 23:29:39              5   \n",
       " \n",
       "                                          Review Text  \n",
       " 0  I love this winery!!! There are so many beauti...  \n",
       " 1  This family owned and operated vineyard makes ...  \n",
       " 2  Covid pick up hours Fri - Sun 12-5p\\n\\nThis is...  \n",
       " 3  I love this winery!!! There are so many beauti...  \n",
       " 4  This family owned and operated vineyard makes ...  \n",
       " 5  Covid pick up hours Fri - Sun 12-5p\\n\\nThis is...  ,\n",
       "   Reviewer Name               Review ID         Time Created  Review Rating  \\\n",
       " 0    Jessika M.  CM_Im3P6Z5R0xRl4pz6LpQ  2021-04-29 12:29:21              5   \n",
       " 1     Krista P.  9Mj_QBci3YzPtgk9dfQmHQ  2021-04-10 21:41:37              5   \n",
       " 2       Elle N.  TbReKzyMjRSMQrWX1CRJwg  2020-10-11 13:00:54              5   \n",
       " \n",
       "                                          Review Text  \n",
       " 0  WINE TASTING: \\nI love the overall vibe of thi...  \n",
       " 1  We just visited this winery for the first time...  \n",
       " 2  Hey, Incase no one noticed but we are in a Pan...  ,\n",
       "   Reviewer Name               Review ID         Time Created  Review Rating  \\\n",
       " 0    Jessica T.  LhJ_xvD0615924xNTqVPlA  2020-10-19 17:07:34              5   \n",
       " 1     Saleen D.  Axt7fR1UlppdikbA0cvLQg  2021-03-19 12:16:00              5   \n",
       " 2     Nayeli F.  C8BZQ45NPxJd85S9B6W38Q  2021-02-20 01:00:48              5   \n",
       " 3    Jessica T.  LhJ_xvD0615924xNTqVPlA  2020-10-19 17:07:34              5   \n",
       " 4     Saleen D.  Axt7fR1UlppdikbA0cvLQg  2021-03-19 12:16:00              5   \n",
       " 5     Nayeli F.  C8BZQ45NPxJd85S9B6W38Q  2021-02-20 01:00:48              5   \n",
       " \n",
       "                                          Review Text  \n",
       " 0  I absolutely love their sangria and hello gorg...  \n",
       " 1  Beautiful winery in Ramona with nice views!\\n\\...  \n",
       " 2  This place is beautiful very cute and great vi...  \n",
       " 3  I absolutely love their sangria and hello gorg...  \n",
       " 4  Beautiful winery in Ramona with nice views!\\n\\...  \n",
       " 5  This place is beautiful very cute and great vi...  ,\n",
       "    Reviewer Name               Review ID         Time Created  Review Rating  \\\n",
       " 0         Tom H.  m1MnW4f-FXmesSyVtOu5Ug  2020-10-24 18:11:32              5   \n",
       " 1     Shalini G.  iO1n8hWKTndlYNhUU_bZ9A  2020-06-14 12:27:02              5   \n",
       " 2      Ashley B.  S8lPj_RkF9YNy6u72kJuzg  2020-10-21 15:24:40              5   \n",
       " 3         Tom H.  m1MnW4f-FXmesSyVtOu5Ug  2020-10-24 18:11:32              5   \n",
       " 4     Shalini G.  iO1n8hWKTndlYNhUU_bZ9A  2020-06-14 12:27:02              5   \n",
       " 5      Ashley B.  S8lPj_RkF9YNy6u72kJuzg  2020-10-21 15:24:40              5   \n",
       " 6         Tom H.  m1MnW4f-FXmesSyVtOu5Ug  2020-10-24 18:11:32              5   \n",
       " 7     Shalini G.  iO1n8hWKTndlYNhUU_bZ9A  2020-06-14 12:27:02              5   \n",
       " 8      Ashley B.  S8lPj_RkF9YNy6u72kJuzg  2020-10-21 15:24:40              5   \n",
       " 9         Tom H.  m1MnW4f-FXmesSyVtOu5Ug  2020-10-24 18:11:32              5   \n",
       " 10    Shalini G.  iO1n8hWKTndlYNhUU_bZ9A  2020-06-14 12:27:02              5   \n",
       " 11     Ashley B.  S8lPj_RkF9YNy6u72kJuzg  2020-10-21 15:24:40              5   \n",
       " \n",
       "                                           Review Text  \n",
       " 0   There are actually two Yelp listings for this ...  \n",
       " 1   ****************************COVID 2020 REVIEW*...  \n",
       " 2   This is by far my favorite carruth location. A...  \n",
       " 3   There are actually two Yelp listings for this ...  \n",
       " 4   ****************************COVID 2020 REVIEW*...  \n",
       " 5   This is by far my favorite carruth location. A...  \n",
       " 6   There are actually two Yelp listings for this ...  \n",
       " 7   ****************************COVID 2020 REVIEW*...  \n",
       " 8   This is by far my favorite carruth location. A...  \n",
       " 9   There are actually two Yelp listings for this ...  \n",
       " 10  ****************************COVID 2020 REVIEW*...  \n",
       " 11  This is by far my favorite carruth location. A...  ,\n",
       "   Reviewer Name               Review ID         Time Created  Review Rating  \\\n",
       " 0     Hannah K.  2PeBrb3lzL1ma30u64jXaw  2020-11-22 12:22:31              5   \n",
       " 1      Reese A.  tq1nLTV-ceYAHmiX6RGszw  2021-05-05 19:14:17              5   \n",
       " 2       Mina N.  C3TP9qaAnS7AuE-Elq2LPw  2020-06-30 19:44:53              5   \n",
       " \n",
       "                                          Review Text  \n",
       " 0  We loved it here at Pamo Valley Winery Tasting...  \n",
       " 1  The best winery In Ramona!! \\nMarti is the bes...  \n",
       " 2  Great little tasting room! I loved their sangr...  ,\n",
       "   Reviewer Name               Review ID         Time Created  Review Rating  \\\n",
       " 0    Phillip B.  veSJWRrynAALdU9hbba96Q  2020-12-03 18:40:24              5   \n",
       " 1      Jacob M.  xZ4GLyK_xn6jNRs73YfunA  2021-03-19 13:01:51              5   \n",
       " 2      Nancy G.  vqcYFiixoeaI5JJAunC_ew  2020-11-18 18:21:16              5   \n",
       " 3    Phillip B.  veSJWRrynAALdU9hbba96Q  2020-12-03 18:40:24              5   \n",
       " 4      Jacob M.  xZ4GLyK_xn6jNRs73YfunA  2021-03-19 13:01:51              5   \n",
       " 5      Nancy G.  vqcYFiixoeaI5JJAunC_ew  2020-11-18 18:21:16              5   \n",
       " \n",
       "                                          Review Text  \n",
       " 0  Milagro is a stunning wedding venue. It is abo...  \n",
       " 1  After our previous wedding venue plans feel th...  \n",
       " 2  We have been members of Milagro for about 9 ye...  \n",
       " 3  Milagro is a stunning wedding venue. It is abo...  \n",
       " 4  After our previous wedding venue plans feel th...  \n",
       " 5  We have been members of Milagro for about 9 ye...  ,\n",
       "   Reviewer Name               Review ID         Time Created  Review Rating  \\\n",
       " 0    Shannon T.  bBm-0DG0gZp93NHkZ8Racg  2019-08-27 17:14:22              5   \n",
       " 1      Grace P.  ZXanvmXHxB2FhbuHutQjhw  2021-04-03 02:26:48              1   \n",
       " 2     Justin T.  0Wvt8Punl9ckYpuCUhEI-Q  2019-06-12 20:34:50              4   \n",
       " 3    Shannon T.  bBm-0DG0gZp93NHkZ8Racg  2019-08-27 17:14:22              5   \n",
       " 4      Grace P.  ZXanvmXHxB2FhbuHutQjhw  2021-04-03 02:26:48              1   \n",
       " 5     Justin T.  0Wvt8Punl9ckYpuCUhEI-Q  2019-06-12 20:34:50              4   \n",
       " \n",
       "                                          Review Text  \n",
       " 0  We moved to Ramona about 6 months ago, and hav...  \n",
       " 1  Okay. So, this place is a cool and interesting...  \n",
       " 2  This place really has a lot of artwork & sculp...  \n",
       " 3  We moved to Ramona about 6 months ago, and hav...  \n",
       " 4  Okay. So, this place is a cool and interesting...  \n",
       " 5  This place really has a lot of artwork & sculp...  ]"
      ]
     },
     "execution_count": 124,
     "metadata": {},
     "output_type": "execute_result"
    }
   ],
   "source": [
    "reviews_list = []\n",
    "\n",
    "for biz_id in df_saved_id:\n",
    "    review_result = get_reviews(biz_id, yelp_key)\n",
    "    if review_result is not None:\n",
    "        reviews_list.append(review_result)\n",
    "\n",
    "reviews_list\n",
    "    \n"
   ]
  },
  {
   "cell_type": "code",
   "execution_count": 125,
   "metadata": {
    "ExecuteTime": {
     "end_time": "2021-05-12T00:03:27.939213Z",
     "start_time": "2021-05-12T00:03:27.895213Z"
    }
   },
   "outputs": [
    {
     "data": {
      "text/html": [
       "<div>\n",
       "<style scoped>\n",
       "    .dataframe tbody tr th:only-of-type {\n",
       "        vertical-align: middle;\n",
       "    }\n",
       "\n",
       "    .dataframe tbody tr th {\n",
       "        vertical-align: top;\n",
       "    }\n",
       "\n",
       "    .dataframe thead th {\n",
       "        text-align: right;\n",
       "    }\n",
       "</style>\n",
       "<table border=\"1\" class=\"dataframe\">\n",
       "  <thead>\n",
       "    <tr style=\"text-align: right;\">\n",
       "      <th></th>\n",
       "      <th>Reviewer Name</th>\n",
       "      <th>Review ID</th>\n",
       "      <th>Time Created</th>\n",
       "      <th>Review Rating</th>\n",
       "      <th>Review Text</th>\n",
       "    </tr>\n",
       "  </thead>\n",
       "  <tbody>\n",
       "    <tr>\n",
       "      <th>0</th>\n",
       "      <td>Patrick T.</td>\n",
       "      <td>_aZ_3xAVPVJOVC_LlL0GeQ</td>\n",
       "      <td>2021-04-13 19:18:16</td>\n",
       "      <td>5</td>\n",
       "      <td>Debbie and Ronnie were wonderfully attentive t...</td>\n",
       "    </tr>\n",
       "    <tr>\n",
       "      <th>1</th>\n",
       "      <td>Bianca B.</td>\n",
       "      <td>_HFTJW4nRUe5lC8M1LLflA</td>\n",
       "      <td>2021-02-21 15:29:51</td>\n",
       "      <td>5</td>\n",
       "      <td>I haven't gone to the winery since pre covid; ...</td>\n",
       "    </tr>\n",
       "    <tr>\n",
       "      <th>2</th>\n",
       "      <td>stephanie l.</td>\n",
       "      <td>AmyrN0N2SjWI_Uzy3Uq0jQ</td>\n",
       "      <td>2021-02-21 17:19:02</td>\n",
       "      <td>5</td>\n",
       "      <td>I can't believe I never been here before! It's...</td>\n",
       "    </tr>\n",
       "    <tr>\n",
       "      <th>3</th>\n",
       "      <td>Patrick T.</td>\n",
       "      <td>_aZ_3xAVPVJOVC_LlL0GeQ</td>\n",
       "      <td>2021-04-13 19:18:16</td>\n",
       "      <td>5</td>\n",
       "      <td>Debbie and Ronnie were wonderfully attentive t...</td>\n",
       "    </tr>\n",
       "    <tr>\n",
       "      <th>4</th>\n",
       "      <td>Bianca B.</td>\n",
       "      <td>_HFTJW4nRUe5lC8M1LLflA</td>\n",
       "      <td>2021-02-21 15:29:51</td>\n",
       "      <td>5</td>\n",
       "      <td>I haven't gone to the winery since pre covid; ...</td>\n",
       "    </tr>\n",
       "    <tr>\n",
       "      <th>...</th>\n",
       "      <td>...</td>\n",
       "      <td>...</td>\n",
       "      <td>...</td>\n",
       "      <td>...</td>\n",
       "      <td>...</td>\n",
       "    </tr>\n",
       "    <tr>\n",
       "      <th>214</th>\n",
       "      <td>Grace P.</td>\n",
       "      <td>ZXanvmXHxB2FhbuHutQjhw</td>\n",
       "      <td>2021-04-03 02:26:48</td>\n",
       "      <td>1</td>\n",
       "      <td>Okay. So, this place is a cool and interesting...</td>\n",
       "    </tr>\n",
       "    <tr>\n",
       "      <th>215</th>\n",
       "      <td>Justin T.</td>\n",
       "      <td>0Wvt8Punl9ckYpuCUhEI-Q</td>\n",
       "      <td>2019-06-12 20:34:50</td>\n",
       "      <td>4</td>\n",
       "      <td>This place really has a lot of artwork &amp; sculp...</td>\n",
       "    </tr>\n",
       "    <tr>\n",
       "      <th>216</th>\n",
       "      <td>Shannon T.</td>\n",
       "      <td>bBm-0DG0gZp93NHkZ8Racg</td>\n",
       "      <td>2019-08-27 17:14:22</td>\n",
       "      <td>5</td>\n",
       "      <td>We moved to Ramona about 6 months ago, and hav...</td>\n",
       "    </tr>\n",
       "    <tr>\n",
       "      <th>217</th>\n",
       "      <td>Grace P.</td>\n",
       "      <td>ZXanvmXHxB2FhbuHutQjhw</td>\n",
       "      <td>2021-04-03 02:26:48</td>\n",
       "      <td>1</td>\n",
       "      <td>Okay. So, this place is a cool and interesting...</td>\n",
       "    </tr>\n",
       "    <tr>\n",
       "      <th>218</th>\n",
       "      <td>Justin T.</td>\n",
       "      <td>0Wvt8Punl9ckYpuCUhEI-Q</td>\n",
       "      <td>2019-06-12 20:34:50</td>\n",
       "      <td>4</td>\n",
       "      <td>This place really has a lot of artwork &amp; sculp...</td>\n",
       "    </tr>\n",
       "  </tbody>\n",
       "</table>\n",
       "<p>219 rows × 5 columns</p>\n",
       "</div>"
      ],
      "text/plain": [
       "    Reviewer Name               Review ID         Time Created  Review Rating  \\\n",
       "0      Patrick T.  _aZ_3xAVPVJOVC_LlL0GeQ  2021-04-13 19:18:16              5   \n",
       "1       Bianca B.  _HFTJW4nRUe5lC8M1LLflA  2021-02-21 15:29:51              5   \n",
       "2    stephanie l.  AmyrN0N2SjWI_Uzy3Uq0jQ  2021-02-21 17:19:02              5   \n",
       "3      Patrick T.  _aZ_3xAVPVJOVC_LlL0GeQ  2021-04-13 19:18:16              5   \n",
       "4       Bianca B.  _HFTJW4nRUe5lC8M1LLflA  2021-02-21 15:29:51              5   \n",
       "..            ...                     ...                  ...            ...   \n",
       "214      Grace P.  ZXanvmXHxB2FhbuHutQjhw  2021-04-03 02:26:48              1   \n",
       "215     Justin T.  0Wvt8Punl9ckYpuCUhEI-Q  2019-06-12 20:34:50              4   \n",
       "216    Shannon T.  bBm-0DG0gZp93NHkZ8Racg  2019-08-27 17:14:22              5   \n",
       "217      Grace P.  ZXanvmXHxB2FhbuHutQjhw  2021-04-03 02:26:48              1   \n",
       "218     Justin T.  0Wvt8Punl9ckYpuCUhEI-Q  2019-06-12 20:34:50              4   \n",
       "\n",
       "                                           Review Text  \n",
       "0    Debbie and Ronnie were wonderfully attentive t...  \n",
       "1    I haven't gone to the winery since pre covid; ...  \n",
       "2    I can't believe I never been here before! It's...  \n",
       "3    Debbie and Ronnie were wonderfully attentive t...  \n",
       "4    I haven't gone to the winery since pre covid; ...  \n",
       "..                                                 ...  \n",
       "214  Okay. So, this place is a cool and interesting...  \n",
       "215  This place really has a lot of artwork & sculp...  \n",
       "216  We moved to Ramona about 6 months ago, and hav...  \n",
       "217  Okay. So, this place is a cool and interesting...  \n",
       "218  This place really has a lot of artwork & sculp...  \n",
       "\n",
       "[219 rows x 5 columns]"
      ]
     },
     "execution_count": 125,
     "metadata": {},
     "output_type": "execute_result"
    }
   ],
   "source": [
    "df_reviews = pd.concat(reviews_list, ignore_index=True)\n",
    "df_reviews"
   ]
  },
  {
   "cell_type": "markdown",
   "metadata": {},
   "source": [
    "## Parsing Reviews"
   ]
  },
  {
   "cell_type": "markdown",
   "metadata": {},
   "source": [
    "- Write a function to parse out the relevant information from the reviews"
   ]
  },
  {
   "cell_type": "markdown",
   "metadata": {},
   "source": [
    "### Adjust prior function"
   ]
  },
  {
   "cell_type": "code",
   "execution_count": 88,
   "metadata": {
    "ExecuteTime": {
     "end_time": "2021-05-11T01:01:23.493381Z",
     "start_time": "2021-05-11T01:01:23.481209Z"
    },
    "code_folding": [
     0
    ]
   },
   "outputs": [],
   "source": [
    "# def parse_data(list_of_data):\n",
    "#     '''Adapted from Tyrell's code'''  \n",
    "\n",
    "\n",
    "#     parsed_data = []\n",
    "     \n",
    "#     for business in list_of_data:\n",
    "#         if 'price' in business:\n",
    "#             details = {'name': business['name'],\n",
    "#                          'location': business['location']['display_address'],\n",
    "#                          'id': business['id'],\n",
    "#                          #'categories': business['categories'],\n",
    "#                          'alias': business['categories'][0]['alias'],\n",
    "#                          'title': business['categories'][0]['title'],\n",
    "#                          'rating': business['rating'],\n",
    "#                          'review_count': business['review_count'],\n",
    "#                          'price': business['price'],\n",
    "#                          'latitude': business['coordinates']['latitude'],\n",
    "#                          'longitude': business['coordinates']['longitude']\n",
    "#                         }\n",
    "#         else:\n",
    "#             details = {'name': business['name'],\n",
    "#                          'location': business['location']['display_address'],\n",
    "#                          'id': business['id'],\n",
    "#                          #'categories': business['categories'],\n",
    "#                          'alias': business['categories'][0]['alias'],\n",
    "#                          'title': business['categories'][0]['title'],\n",
    "#                          'rating': business['rating'],\n",
    "#                          'review_count': business['review_count'],\n",
    "#                          'latitude': business['coordinates']['latitude'],\n",
    "#                          'longitude': business['coordinates']['longitude']\n",
    "#                         }\n",
    "    \n",
    "#         parsed_data.append(details)\n",
    "    \n",
    "#     for biz in parsed_data:\n",
    "#         biz['location'] = ' '.join(biz['location'])\n",
    "        \n",
    "#     df_parsed_data = pd.DataFrame(parsed_data)\n",
    "    \n",
    "# #     df_parsed_data.dropna(inplace=True)\n",
    "    \n",
    "#     return df_parsed_data"
   ]
  },
  {
   "cell_type": "markdown",
   "metadata": {},
   "source": [
    "## Saving Parsed Data"
   ]
  },
  {
   "cell_type": "markdown",
   "metadata": {},
   "source": [
    "- Write a function to save the parse data into a csv file containing all of the reviews. "
   ]
  },
  {
   "cell_type": "markdown",
   "metadata": {},
   "source": [
    "### Adjust function to save to new file"
   ]
  },
  {
   "cell_type": "code",
   "execution_count": 87,
   "metadata": {
    "ExecuteTime": {
     "end_time": "2021-05-11T01:00:59.613284Z",
     "start_time": "2021-05-11T01:00:59.596732Z"
    },
    "code_folding": [
     0
    ]
   },
   "outputs": [],
   "source": [
    "# def get_full_data(term, location, yelp_key, file_name = 'data/wineries.csv'):\n",
    "#     '''Requests all results from Yelp API; saves as a .csv; and returns a DataFrame.'''\n",
    "    \n",
    "#     # Process first request to Yelp API and calculate number of pages \n",
    "#     results = yelp_request_offset(term, location, yelp_key, offset=0, verbose=False)\n",
    "#     num_pages = results['total']//50+1\n",
    "    \n",
    "#     # Print out confirmation feedback\n",
    "#     print(f'For {term} and {location}: ')\n",
    "#     print(f\"    Total number of results: {results['total']}.\")\n",
    "#     print(f'    Total number of pages: {num_pages}.')\n",
    "    \n",
    "#     # Create offset for further results and create empty list\n",
    "#     cur = 50\n",
    "#     parsed_results_dfs = []\n",
    "\n",
    "#     # Retrieves remaining pages\n",
    "#     for num in range(num_pages-1):\n",
    "#         try:\n",
    "#             results = yelp_request_offset(term, location, yelp_key, offset=cur, verbose=False)\n",
    "#             parsed_results = parse_data(results['businesses'])\n",
    "#             parsed_results_dfs.append(parsed_results)\n",
    "#             cur += 50\n",
    "#         except:\n",
    "#             print(f'Error on page {num}.')\n",
    "\n",
    "#     # Concatenate DataFrames and save to .csv\n",
    "#     df_concat = pd.concat(parsed_results_dfs, ignore_index=True)\n",
    "\n",
    "#     try:\n",
    "#         df_concat.to_csv(file_name)\n",
    "#         print(f'Saved to {file_name}.')\n",
    "#     except:\n",
    "#         print(f'Error, did not save.')\n",
    "        \n",
    "#     return df_concat"
   ]
  },
  {
   "cell_type": "markdown",
   "metadata": {},
   "source": [
    "## Combining Functions"
   ]
  },
  {
   "cell_type": "markdown",
   "metadata": {},
   "source": [
    "- Combine the functions above into a single script  "
   ]
  },
  {
   "cell_type": "markdown",
   "metadata": {},
   "source": [
    "# Part 4 -  Using python and pandas, write code to answer the questions below. "
   ]
  },
  {
   "cell_type": "markdown",
   "metadata": {},
   "source": [
    "**Reviews**\n",
    "\n",
    "Which are the 5 most reviewed businesses in your dataset?\n",
    "\n",
    "What is the highest rating received in your data set and how many businesses have that rating?\n",
    "\n",
    "What percentage of businesses have a rating greater than or  4.5?\n",
    "\n",
    "What percentage of businesses have a rating less than 3?\n",
    "\n",
    "---\n",
    "\n",
    "**Pricing**\n",
    "\n",
    "What percentage of your businesses have a price label of one dollar sign? Two dollar signs? Three dollar signs? No dollar signs?\n",
    "\n",
    "---\n",
    "\n",
    "**Returing Reviews**\n",
    "\n",
    "Return the text of the reviews for the most reviewed business. \n",
    "\n",
    "Find the highest rated business and return text of the most recent review. If multiple business have the same rating, select the business with the most reviews. \n",
    "\n",
    "Find the lowest rated business and return text of the most recent review.  If multiple business have the same rating, select the business with the least reviews. "
   ]
  },
  {
   "cell_type": "markdown",
   "metadata": {},
   "source": [
    "___"
   ]
  },
  {
   "cell_type": "markdown",
   "metadata": {},
   "source": [
    "# Reference help"
   ]
  },
  {
   "cell_type": "markdown",
   "metadata": {},
   "source": [
    "###  Pagination\n",
    "\n",
    "Returning to the Yelp API, the [documentation](https://www.yelp.com/developers/documentation/v3/business_search) also provides us details regarding the API limits. These often include details about the number of requests a user is allowed to make within a specified time limit and the maximum number of results to be returned. In this case, we are told that any request has a maximum of 50 results per request and defaults to 20. Furthermore, any search will be limited to a total of 1000 results. To retrieve all 1000 of these results, we would have to page through the results piece by piece, retriving 50 at a time. Processes such as these are often refered to as pagination.\n",
    "\n",
    "Now that you have an initial response, you can examine the contents of the json container. For example, you might start with ```response.json().keys()```. Here, you'll see a key for `'total'`, which tells you the full number of matching results given your query parameters. Write a loop (or ideally a function) which then makes successive API calls using the offset parameter to retrieve all of the results (or 5000 for a particularly large result set) for the original query. As you do this, be mindful of how you store the data. \n",
    "\n",
    "**Note: be mindful of the API rate limits. You can only make 5000 requests per day, and APIs can make requests too fast. Start prototyping small before running a loop that could be faulty. You can also use time.sleep(n) to add delays. For more details see https://www.yelp.com/developers/documentation/v3/rate_limiting.**"
   ]
  },
  {
   "cell_type": "markdown",
   "metadata": {},
   "source": [
    "***Below is sample code that you can use to help you deal with the pagination parameter and bring all of the functions together.***\n",
    "\n",
    "\n",
    "***Also, something might cause your code to break while it is running. You don't want to constantly repull the same data when this happens, so you should insert the data into the database as you call and parse it, not after you have all of the data***\n"
   ]
  },
  {
   "cell_type": "code",
   "execution_count": null,
   "metadata": {
    "ExecuteTime": {
     "end_time": "2021-05-10T22:26:50.079801Z",
     "start_time": "2021-05-10T22:26:50.066801Z"
    }
   },
   "outputs": [],
   "source": [
    "# create a variable  to keep track of which result you are in. \n",
    "cur = 0\n",
    "\n",
    "#set up a while loop to go through and grab the result \n",
    "while cur < num and cur < 1000:\n",
    "    #set the offset parameter to be where you currently are in the results \n",
    "    url_params['offset'] = cur\n",
    "    #make your API call with the new offset number\n",
    "    results = yelp_call(url_params, api_key)\n",
    "    \n",
    "    #after you get your results you can now use your function to parse those results\n",
    "    parsed_results = parse_results(results)\n",
    "    \n",
    "    # use your function to insert your parsed results into the db\n",
    "    db_insert(parsed_results)\n",
    "    #increment the counter by 50 to move on to the next results\n",
    "    cur += 20"
   ]
  },
  {
   "cell_type": "code",
   "execution_count": null,
   "metadata": {},
   "outputs": [],
   "source": []
  }
 ],
 "metadata": {
  "kernelspec": {
   "display_name": "Python 3",
   "language": "python",
   "name": "python3"
  },
  "language_info": {
   "codemirror_mode": {
    "name": "ipython",
    "version": 3
   },
   "file_extension": ".py",
   "mimetype": "text/x-python",
   "name": "python",
   "nbconvert_exporter": "python",
   "pygments_lexer": "ipython3",
   "version": "3.8.5"
  },
  "toc": {
   "base_numbering": 1,
   "nav_menu": {},
   "number_sections": false,
   "sideBar": true,
   "skip_h1_title": false,
   "title_cell": "Table of Contents",
   "title_sidebar": "Contents",
   "toc_cell": false,
   "toc_position": {
    "height": "calc(100% - 180px)",
    "left": "10px",
    "top": "150px",
    "width": "225px"
   },
   "toc_section_display": true,
   "toc_window_display": true
  },
  "varInspector": {
   "cols": {
    "lenName": "32",
    "lenType": 16,
    "lenVar": 40
   },
   "kernels_config": {
    "python": {
     "delete_cmd_postfix": "",
     "delete_cmd_prefix": "del ",
     "library": "var_list.py",
     "varRefreshCmd": "print(var_dic_list())"
    },
    "r": {
     "delete_cmd_postfix": ") ",
     "delete_cmd_prefix": "rm(",
     "library": "var_list.r",
     "varRefreshCmd": "cat(var_dic_list()) "
    }
   },
   "types_to_exclude": [
    "module",
    "function",
    "builtin_function_or_method",
    "instance",
    "_Feature"
   ],
   "window_display": false
  }
 },
 "nbformat": 4,
 "nbformat_minor": 2
}
