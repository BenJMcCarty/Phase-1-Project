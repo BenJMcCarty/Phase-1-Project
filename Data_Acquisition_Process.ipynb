{
 "cells": [
  {
   "cell_type": "markdown",
   "metadata": {},
   "source": [
    "# Getting Your Data From Yelp!"
   ]
  },
  {
   "cell_type": "markdown",
   "metadata": {},
   "source": [
    "In order to make sure you are on track to completing the project, you will complete this workbook first. Below are steps that you need to take in order to make sure you have your data from yelp and are ready to analyze it. Your cohort lead will review this workbook with you the Wednesday before your project is due.    "
   ]
  },
  {
   "cell_type": "markdown",
   "metadata": {},
   "source": [
    "# Part 1 - Understanding your data and question"
   ]
  },
  {
   "cell_type": "markdown",
   "metadata": {},
   "source": [
    "You will be pulling data from the Yelp API to complete your analysis. The API, however, provides you with a lot of information that will not be pertinent to your analysis. You will pull data from the API and parse through it to keep only the data that you will need. In order to help you identify that information,look at the API documentation and understand what data the API will provide you. \n",
    "\n",
    "Identify which data fields you will want to keep for your analysis. \n",
    "\n",
    "https://www.yelp.com/developers/documentation/v3/get_started"
   ]
  },
  {
   "cell_type": "markdown",
   "metadata": {},
   "source": [
    "# Part 2 - Create ETL pipeline for the business data from the API"
   ]
  },
  {
   "cell_type": "markdown",
   "metadata": {},
   "source": [
    "## Details"
   ]
  },
  {
   "cell_type": "markdown",
   "metadata": {},
   "source": [
    "Now that you know what data you need from the API, you want to write code that will execute an API call, parse those results and then insert the results into the DB.  \n",
    "\n",
    "It is helpful to break this up into three different functions (*API call, parse results, and insert into DB*) and then you can write a function/script that pull the other three functions together. \n",
    "\n",
    "Let's first do this for the Business endpoint."
   ]
  },
  {
   "cell_type": "markdown",
   "metadata": {},
   "source": [
    "## Request"
   ]
  },
  {
   "cell_type": "markdown",
   "metadata": {},
   "source": [
    "### Imports and Setup"
   ]
  },
  {
   "cell_type": "code",
   "execution_count": 1,
   "metadata": {
    "ExecuteTime": {
     "end_time": "2021-05-12T19:10:18.129732Z",
     "start_time": "2021-05-12T19:10:17.619682Z"
    },
    "code_folding": []
   },
   "outputs": [],
   "source": [
    "import requests\n",
    "import pandas as pd\n",
    "import json\n",
    "import csv\n",
    "import numpy as np\n",
    "\n",
    "with open(r'C:\\Users\\bmcca\\.secret\\yelp_api.json') as f:\n",
    "    keys = json.load(f)\n",
    "\n",
    "client_id = keys['id']\n",
    "yelp_key = keys['key']"
   ]
  },
  {
   "cell_type": "markdown",
   "metadata": {},
   "source": [
    "### ƒ: yelp_request"
   ]
  },
  {
   "cell_type": "markdown",
   "metadata": {
    "ExecuteTime": {
     "end_time": "2021-05-10T15:58:43.341776Z",
     "start_time": "2021-05-10T15:58:43.321768Z"
    }
   },
   "source": [
    " - Params: search term (eg. \"wineries); location; yelp_key variable (from Imports); and changing setting to print details"
   ]
  },
  {
   "cell_type": "code",
   "execution_count": 5,
   "metadata": {
    "ExecuteTime": {
     "end_time": "2021-05-12T19:10:39.602506Z",
     "start_time": "2021-05-12T19:10:39.591535Z"
    },
    "code_folding": []
   },
   "outputs": [],
   "source": [
    "def yelp_request(term, location, yelp_key, verbose=True):\n",
    "    '''Adapted from Yelp API Lab: https://github.com/BenJMcCarty/dsc-yelp-api-lab/tree/solution'''\n",
    "    \n",
    "    url = 'https://api.yelp.com/v3/businesses/search'\n",
    "\n",
    "    headers = {\n",
    "            'Authorization': 'Bearer {}'.format(yelp_key),\n",
    "        }\n",
    "\n",
    "    url_params = {\n",
    "                    'term': term.replace(' ', '+'),\n",
    "                    'location': location.replace(' ', '+'),\n",
    "                    'limit': 50\n",
    "                }\n",
    "    response = requests.get(url, headers=headers, params=url_params)\n",
    "    \n",
    "    if verbose == True:\n",
    "        print(response)\n",
    "        print(type(response.text))\n",
    "        print(response.text[:1000])\n",
    "        \n",
    "    return response.json()"
   ]
  },
  {
   "cell_type": "markdown",
   "metadata": {
    "ExecuteTime": {
     "end_time": "2021-05-10T19:44:09.881783Z",
     "start_time": "2021-05-10T19:44:09.868735Z"
    }
   },
   "source": [
    "### Sending the request\n"
   ]
  },
  {
   "cell_type": "markdown",
   "metadata": {},
   "source": [
    "- Un-comment the next line to run the response"
   ]
  },
  {
   "cell_type": "code",
   "execution_count": 6,
   "metadata": {
    "ExecuteTime": {
     "end_time": "2021-05-12T19:10:44.617428Z",
     "start_time": "2021-05-12T19:10:43.926453Z"
    },
    "scrolled": true
   },
   "outputs": [
    {
     "name": "stdout",
     "output_type": "stream",
     "text": [
      "<Response [200]>\n",
      "<class 'str'>\n",
      "{\"businesses\": [{\"id\": \"4N2pC-h3Ba6qUQ7cN4xP-g\", \"alias\": \"san-antonio-winery-ontario\", \"name\": \"San Antonio Winery\", \"image_url\": \"https://s3-media2.fl.yelpcdn.com/bphoto/__5IBirgkaHoRGdVnUIdng/o.jpg\", \"is_closed\": false, \"url\": \"https://www.yelp.com/biz/san-antonio-winery-ontario?adjust_creative=eyY_X0k6PMB2bu6EM1dXdw&utm_campaign=yelp_api_v3&utm_medium=api_v3_business_search&utm_source=eyY_X0k6PMB2bu6EM1dXdw\", \"review_count\": 248, \"categories\": [{\"alias\": \"wineries\", \"title\": \"Wineries\"}], \"rating\": 4.0, \"coordinates\": {\"latitude\": 34.022224, \"longitude\": -117.558985}, \"transactions\": [], \"price\": \"$$\", \"location\": {\"address1\": \"2802 S Milliken Ave\", \"address2\": null, \"address3\": \"\", \"city\": \"Ontario\", \"zip_code\": \"91761\", \"country\": \"US\", \"state\": \"CA\", \"display_address\": [\"2802 S Milliken Ave\", \"Ontario, CA 91761\"]}, \"phone\": \"+19099473995\", \"display_phone\": \"(909) 947-3995\", \"distance\": 26348.268371330654}, {\"id\": \"Q0Cuh5XZY29AdrWpUv8yhw\", \"alias\": \"joseph-filippi-winery-rancho-c\n"
     ]
    },
    {
     "data": {
      "text/plain": [
       "dict_keys(['businesses', 'total', 'region'])"
      ]
     },
     "execution_count": 6,
     "metadata": {},
     "output_type": "execute_result"
    }
   ],
   "source": [
    "response = yelp_request('winery','Southern California', yelp_key)\n",
    "response.keys()"
   ]
  },
  {
   "cell_type": "markdown",
   "metadata": {},
   "source": [
    "### Identifying and Exploring Keys"
   ]
  },
  {
   "cell_type": "code",
   "execution_count": 7,
   "metadata": {
    "ExecuteTime": {
     "end_time": "2021-05-12T19:10:44.773454Z",
     "start_time": "2021-05-12T19:10:44.760454Z"
    }
   },
   "outputs": [
    {
     "name": "stdout",
     "output_type": "stream",
     "text": [
      "dict_keys(['businesses', 'total', 'region'])\n"
     ]
    }
   ],
   "source": [
    "# Identify keys\n",
    "\n",
    "print(response.keys())"
   ]
  },
  {
   "cell_type": "markdown",
   "metadata": {},
   "source": [
    "#### Exploring the \"Businesses\" Key"
   ]
  },
  {
   "cell_type": "code",
   "execution_count": 8,
   "metadata": {
    "ExecuteTime": {
     "end_time": "2021-05-12T19:10:47.537172Z",
     "start_time": "2021-05-12T19:10:47.476164Z"
    }
   },
   "outputs": [
    {
     "data": {
      "text/plain": [
       "[{'id': '4N2pC-h3Ba6qUQ7cN4xP-g',\n",
       "  'alias': 'san-antonio-winery-ontario',\n",
       "  'name': 'San Antonio Winery',\n",
       "  'image_url': 'https://s3-media2.fl.yelpcdn.com/bphoto/__5IBirgkaHoRGdVnUIdng/o.jpg',\n",
       "  'is_closed': False,\n",
       "  'url': 'https://www.yelp.com/biz/san-antonio-winery-ontario?adjust_creative=eyY_X0k6PMB2bu6EM1dXdw&utm_campaign=yelp_api_v3&utm_medium=api_v3_business_search&utm_source=eyY_X0k6PMB2bu6EM1dXdw',\n",
       "  'review_count': 248,\n",
       "  'categories': [{'alias': 'wineries', 'title': 'Wineries'}],\n",
       "  'rating': 4.0,\n",
       "  'coordinates': {'latitude': 34.022224, 'longitude': -117.558985},\n",
       "  'transactions': [],\n",
       "  'price': '$$',\n",
       "  'location': {'address1': '2802 S Milliken Ave',\n",
       "   'address2': None,\n",
       "   'address3': '',\n",
       "   'city': 'Ontario',\n",
       "   'zip_code': '91761',\n",
       "   'country': 'US',\n",
       "   'state': 'CA',\n",
       "   'display_address': ['2802 S Milliken Ave', 'Ontario, CA 91761']},\n",
       "  'phone': '+19099473995',\n",
       "  'display_phone': '(909) 947-3995',\n",
       "  'distance': 26348.268371330654},\n",
       " {'id': 'Q0Cuh5XZY29AdrWpUv8yhw',\n",
       "  'alias': 'joseph-filippi-winery-rancho-cucamonga',\n",
       "  'name': 'Joseph Filippi Winery',\n",
       "  'image_url': 'https://s3-media2.fl.yelpcdn.com/bphoto/Teh-iz1NXRMKonoxJf9Hgw/o.jpg',\n",
       "  'is_closed': False,\n",
       "  'url': 'https://www.yelp.com/biz/joseph-filippi-winery-rancho-cucamonga?adjust_creative=eyY_X0k6PMB2bu6EM1dXdw&utm_campaign=yelp_api_v3&utm_medium=api_v3_business_search&utm_source=eyY_X0k6PMB2bu6EM1dXdw',\n",
       "  'review_count': 158,\n",
       "  'categories': [{'alias': 'wineries', 'title': 'Wineries'}],\n",
       "  'rating': 4.0,\n",
       "  'coordinates': {'latitude': 34.1209259033203,\n",
       "   'longitude': -117.533615112305},\n",
       "  'transactions': [],\n",
       "  'price': '$$',\n",
       "  'location': {'address1': '12467 Baseline Rd',\n",
       "   'address2': '',\n",
       "   'address3': '',\n",
       "   'city': 'Rancho Cucamonga',\n",
       "   'zip_code': '91739',\n",
       "   'country': 'US',\n",
       "   'state': 'CA',\n",
       "   'display_address': ['12467 Baseline Rd', 'Rancho Cucamonga, CA 91739']},\n",
       "  'phone': '+19098995755',\n",
       "  'display_phone': '(909) 899-5755',\n",
       "  'distance': 23703.47777669944},\n",
       " {'id': 'Liy2V5TissVcWFt9-45AKg',\n",
       "  'alias': 'third-street-wine-shop-la-verne',\n",
       "  'name': 'Third Street Wine Shop',\n",
       "  'image_url': 'https://s3-media1.fl.yelpcdn.com/bphoto/PgoWhd07MgLfk2pISWNM2g/o.jpg',\n",
       "  'is_closed': False,\n",
       "  'url': 'https://www.yelp.com/biz/third-street-wine-shop-la-verne?adjust_creative=eyY_X0k6PMB2bu6EM1dXdw&utm_campaign=yelp_api_v3&utm_medium=api_v3_business_search&utm_source=eyY_X0k6PMB2bu6EM1dXdw',\n",
       "  'review_count': 101,\n",
       "  'categories': [{'alias': 'wine_bars', 'title': 'Wine Bars'},\n",
       "   {'alias': 'winetastingroom', 'title': 'Wine Tasting Room'},\n",
       "   {'alias': 'gourmet', 'title': 'Specialty Food'}],\n",
       "  'rating': 5.0,\n",
       "  'coordinates': {'latitude': 34.09999, 'longitude': -117.76946},\n",
       "  'transactions': ['restaurant_reservation'],\n",
       "  'price': '$$',\n",
       "  'location': {'address1': '2142 3rd St',\n",
       "   'address2': None,\n",
       "   'address3': '',\n",
       "   'city': 'La Verne',\n",
       "   'zip_code': '91750',\n",
       "   'country': 'US',\n",
       "   'state': 'CA',\n",
       "   'display_address': ['2142 3rd St', 'La Verne, CA 91750']},\n",
       "  'phone': '+19095965300',\n",
       "  'display_phone': '(909) 596-5300',\n",
       "  'distance': 7692.731037285387},\n",
       " {'id': 'dMy0GL2mG9hKIIMsfAQAgQ',\n",
       "  'alias': 'galleano-winery-mira-loma',\n",
       "  'name': 'Galleano Winery',\n",
       "  'image_url': 'https://s3-media3.fl.yelpcdn.com/bphoto/9NMeTGnTdj1InJ7c7Vm1rQ/o.jpg',\n",
       "  'is_closed': False,\n",
       "  'url': 'https://www.yelp.com/biz/galleano-winery-mira-loma?adjust_creative=eyY_X0k6PMB2bu6EM1dXdw&utm_campaign=yelp_api_v3&utm_medium=api_v3_business_search&utm_source=eyY_X0k6PMB2bu6EM1dXdw',\n",
       "  'review_count': 171,\n",
       "  'categories': [{'alias': 'winetastingroom', 'title': 'Wine Tasting Room'}],\n",
       "  'rating': 4.0,\n",
       "  'coordinates': {'latitude': 34.0109, 'longitude': -117.54246},\n",
       "  'transactions': [],\n",
       "  'price': '$$',\n",
       "  'location': {'address1': '4231 Wineville Ave',\n",
       "   'address2': '',\n",
       "   'address3': '',\n",
       "   'city': 'Mira Loma',\n",
       "   'zip_code': '91752',\n",
       "   'country': 'US',\n",
       "   'state': 'CA',\n",
       "   'display_address': ['4231 Wineville Ave', 'Mira Loma, CA 91752']},\n",
       "  'phone': '+19516855376',\n",
       "  'display_phone': '(951) 685-5376',\n",
       "  'distance': 28321.583425194724},\n",
       " {'id': 'jJYkAV0acTPOkqESRWjmTA',\n",
       "  'alias': 'the-claremont-packing-house-claremont',\n",
       "  'name': 'The Claremont Packing House',\n",
       "  'image_url': 'https://s3-media3.fl.yelpcdn.com/bphoto/uVH54BVpYz2YGGeXE4_hhg/o.jpg',\n",
       "  'is_closed': False,\n",
       "  'url': 'https://www.yelp.com/biz/the-claremont-packing-house-claremont?adjust_creative=eyY_X0k6PMB2bu6EM1dXdw&utm_campaign=yelp_api_v3&utm_medium=api_v3_business_search&utm_source=eyY_X0k6PMB2bu6EM1dXdw',\n",
       "  'review_count': 23,\n",
       "  'categories': [{'alias': 'winetastingroom', 'title': 'Wine Tasting Room'},\n",
       "   {'alias': 'artclasses', 'title': 'Art Classes'}],\n",
       "  'rating': 4.0,\n",
       "  'coordinates': {'latitude': 34.094265, 'longitude': -117.721303},\n",
       "  'transactions': [],\n",
       "  'price': '$$',\n",
       "  'location': {'address1': '532 W 1st St',\n",
       "   'address2': '',\n",
       "   'address3': '',\n",
       "   'city': 'Claremont',\n",
       "   'zip_code': '91711',\n",
       "   'country': 'US',\n",
       "   'state': 'CA',\n",
       "   'display_address': ['532 W 1st St', 'Claremont, CA 91711']},\n",
       "  'phone': '',\n",
       "  'display_phone': '',\n",
       "  'distance': 10062.779425991037},\n",
       " {'id': 'wXps6c1vd4iu__NO3fV3Rg',\n",
       "  'alias': 'san-dimas-wine-shop-and-tasting-room-san-dimas',\n",
       "  'name': 'San Dimas Wine Shop & Tasting Room',\n",
       "  'image_url': 'https://s3-media4.fl.yelpcdn.com/bphoto/11qAwATHo1ldeZAJNB5VTA/o.jpg',\n",
       "  'is_closed': False,\n",
       "  'url': 'https://www.yelp.com/biz/san-dimas-wine-shop-and-tasting-room-san-dimas?adjust_creative=eyY_X0k6PMB2bu6EM1dXdw&utm_campaign=yelp_api_v3&utm_medium=api_v3_business_search&utm_source=eyY_X0k6PMB2bu6EM1dXdw',\n",
       "  'review_count': 82,\n",
       "  'categories': [{'alias': 'beer_and_wine', 'title': 'Beer, Wine & Spirits'},\n",
       "   {'alias': 'winetastingroom', 'title': 'Wine Tasting Room'}],\n",
       "  'rating': 4.5,\n",
       "  'coordinates': {'latitude': 34.10699, 'longitude': -117.81029},\n",
       "  'transactions': [],\n",
       "  'price': '$$',\n",
       "  'location': {'address1': '225 W Bonita Ave',\n",
       "   'address2': '',\n",
       "   'address3': '',\n",
       "   'city': 'San Dimas',\n",
       "   'zip_code': '91773',\n",
       "   'country': 'US',\n",
       "   'state': 'CA',\n",
       "   'display_address': ['225 W Bonita Ave', 'San Dimas, CA 91773']},\n",
       "  'phone': '+19099719425',\n",
       "  'display_phone': '(909) 971-9425',\n",
       "  'distance': 7221.392662580454},\n",
       " {'id': 'HDHWYVEIhcs039jfkIIuKg',\n",
       "  'alias': 'hartlam-winery-san-gabriel-2',\n",
       "  'name': 'Hartlam Winery',\n",
       "  'image_url': 'https://s3-media3.fl.yelpcdn.com/bphoto/JnYJkW6zG1cxzt0zrmH-1g/o.jpg',\n",
       "  'is_closed': False,\n",
       "  'url': 'https://www.yelp.com/biz/hartlam-winery-san-gabriel-2?adjust_creative=eyY_X0k6PMB2bu6EM1dXdw&utm_campaign=yelp_api_v3&utm_medium=api_v3_business_search&utm_source=eyY_X0k6PMB2bu6EM1dXdw',\n",
       "  'review_count': 1,\n",
       "  'categories': [{'alias': 'wineries', 'title': 'Wineries'},\n",
       "   {'alias': 'breweries', 'title': 'Breweries'}],\n",
       "  'rating': 5.0,\n",
       "  'coordinates': {'latitude': 34.09595, 'longitude': -118.08871},\n",
       "  'transactions': [],\n",
       "  'location': {'address1': '864 Commercial Ave',\n",
       "   'address2': None,\n",
       "   'address3': '',\n",
       "   'city': 'San Gabriel',\n",
       "   'zip_code': '91776',\n",
       "   'country': 'US',\n",
       "   'state': 'CA',\n",
       "   'display_address': ['864 Commercial Ave', 'San Gabriel, CA 91776']},\n",
       "  'phone': '+16264271652',\n",
       "  'display_phone': '(626) 427-1652',\n",
       "  'distance': 29136.52575265058},\n",
       " {'id': '06kNBRr19DOvyB83mfBjVA',\n",
       "  'alias': 'winery-at-main-street-yorba-linda',\n",
       "  'name': 'Winery At Main Street',\n",
       "  'image_url': 'https://s3-media2.fl.yelpcdn.com/bphoto/vNCx-GHnlcsK_xkWHXypUA/o.jpg',\n",
       "  'is_closed': False,\n",
       "  'url': 'https://www.yelp.com/biz/winery-at-main-street-yorba-linda?adjust_creative=eyY_X0k6PMB2bu6EM1dXdw&utm_campaign=yelp_api_v3&utm_medium=api_v3_business_search&utm_source=eyY_X0k6PMB2bu6EM1dXdw',\n",
       "  'review_count': 112,\n",
       "  'categories': [{'alias': 'wineries', 'title': 'Wineries'}],\n",
       "  'rating': 4.5,\n",
       "  'coordinates': {'latitude': 33.8904991149902,\n",
       "   'longitude': -117.814270019531},\n",
       "  'transactions': [],\n",
       "  'price': '$$',\n",
       "  'location': {'address1': '4861 Main St',\n",
       "   'address2': '',\n",
       "   'address3': '',\n",
       "   'city': 'Yorba Linda',\n",
       "   'zip_code': '92886',\n",
       "   'country': 'US',\n",
       "   'state': 'CA',\n",
       "   'display_address': ['4861 Main St', 'Yorba Linda, CA 92886']},\n",
       "  'phone': '+17147779463',\n",
       "  'display_phone': '(714) 777-9463',\n",
       "  'distance': 30995.682419781737},\n",
       " {'id': 'HlKxlisBOQ80uO6vcetlBA',\n",
       "  'alias': 'san-antonio-winery-los-angeles-2',\n",
       "  'name': 'San Antonio Winery',\n",
       "  'image_url': 'https://s3-media2.fl.yelpcdn.com/bphoto/3FNfm7oM22gDtzeDJpZ1Mw/o.jpg',\n",
       "  'is_closed': False,\n",
       "  'url': 'https://www.yelp.com/biz/san-antonio-winery-los-angeles-2?adjust_creative=eyY_X0k6PMB2bu6EM1dXdw&utm_campaign=yelp_api_v3&utm_medium=api_v3_business_search&utm_source=eyY_X0k6PMB2bu6EM1dXdw',\n",
       "  'review_count': 1392,\n",
       "  'categories': [{'alias': 'wineries', 'title': 'Wineries'},\n",
       "   {'alias': 'tradamerican', 'title': 'American (Traditional)'}],\n",
       "  'rating': 4.0,\n",
       "  'coordinates': {'latitude': 34.0636861, 'longitude': -118.2238476},\n",
       "  'transactions': ['pickup', 'delivery'],\n",
       "  'price': '$$',\n",
       "  'location': {'address1': '737 Lamar St',\n",
       "   'address2': None,\n",
       "   'address3': '',\n",
       "   'city': 'Los Angeles',\n",
       "   'zip_code': '90031',\n",
       "   'country': 'US',\n",
       "   'state': 'CA',\n",
       "   'display_address': ['737 Lamar St', 'Los Angeles, CA 90031']},\n",
       "  'phone': '+13232231401',\n",
       "  'display_phone': '(323) 223-1401',\n",
       "  'distance': 42087.58182618763},\n",
       " {'id': 'CFpBn9x8m4r2tPh7WGevww',\n",
       "  'alias': 'sycamore-ranch-vineyard-and-winery-crestline-2',\n",
       "  'name': 'Sycamore Ranch Vineyard & Winery',\n",
       "  'image_url': 'https://s3-media3.fl.yelpcdn.com/bphoto/FhIVCXC6fbwIvUkZiJhXiQ/o.jpg',\n",
       "  'is_closed': False,\n",
       "  'url': 'https://www.yelp.com/biz/sycamore-ranch-vineyard-and-winery-crestline-2?adjust_creative=eyY_X0k6PMB2bu6EM1dXdw&utm_campaign=yelp_api_v3&utm_medium=api_v3_business_search&utm_source=eyY_X0k6PMB2bu6EM1dXdw',\n",
       "  'review_count': 33,\n",
       "  'categories': [{'alias': 'winetastingroom', 'title': 'Wine Tasting Room'},\n",
       "   {'alias': 'wine_bars', 'title': 'Wine Bars'}],\n",
       "  'rating': 5.0,\n",
       "  'coordinates': {'latitude': 34.2586155, 'longitude': -117.2649433},\n",
       "  'transactions': [],\n",
       "  'price': '$$',\n",
       "  'location': {'address1': 'Dart Canyon',\n",
       "   'address2': None,\n",
       "   'address3': '',\n",
       "   'city': 'Crestline',\n",
       "   'zip_code': '92325',\n",
       "   'country': 'US',\n",
       "   'state': 'CA',\n",
       "   'display_address': ['Dart Canyon', 'Crestline, CA 92325']},\n",
       "  'phone': '+19093381725',\n",
       "  'display_phone': '(909) 338-1725',\n",
       "  'distance': 48815.025686932364},\n",
       " {'id': 'cBTnb-8Y4giinBUB0jN_UQ',\n",
       "  'alias': 'golden-star-vineyards-littlerock',\n",
       "  'name': 'Golden Star Vineyards',\n",
       "  'image_url': 'https://s3-media4.fl.yelpcdn.com/bphoto/Zx3XlYao6paOPCQxxa-amQ/o.jpg',\n",
       "  'is_closed': False,\n",
       "  'url': 'https://www.yelp.com/biz/golden-star-vineyards-littlerock?adjust_creative=eyY_X0k6PMB2bu6EM1dXdw&utm_campaign=yelp_api_v3&utm_medium=api_v3_business_search&utm_source=eyY_X0k6PMB2bu6EM1dXdw',\n",
       "  'review_count': 16,\n",
       "  'categories': [{'alias': 'wineries', 'title': 'Wineries'}],\n",
       "  'rating': 5.0,\n",
       "  'coordinates': {'latitude': 34.5367125969163,\n",
       "   'longitude': -117.943167739703},\n",
       "  'transactions': [],\n",
       "  'price': '$',\n",
       "  'location': {'address1': '36043 106th St E',\n",
       "   'address2': None,\n",
       "   'address3': '',\n",
       "   'city': 'Littlerock',\n",
       "   'zip_code': '93543',\n",
       "   'country': 'US',\n",
       "   'state': 'CA',\n",
       "   'display_address': ['36043 106th St E', 'Littlerock, CA 93543']},\n",
       "  'phone': '+16617136660',\n",
       "  'display_phone': '(661) 713-6660',\n",
       "  'distance': 43495.52047944167},\n",
       " {'id': '_tF9yUpcwlMm_F4oxvdoxA',\n",
       "  'alias': 'old-oak-cellars-pasadena',\n",
       "  'name': 'Old Oak Cellars',\n",
       "  'image_url': 'https://s3-media2.fl.yelpcdn.com/bphoto/N6VRXR1Fvoj5MofKvErpzg/o.jpg',\n",
       "  'is_closed': False,\n",
       "  'url': 'https://www.yelp.com/biz/old-oak-cellars-pasadena?adjust_creative=eyY_X0k6PMB2bu6EM1dXdw&utm_campaign=yelp_api_v3&utm_medium=api_v3_business_search&utm_source=eyY_X0k6PMB2bu6EM1dXdw',\n",
       "  'review_count': 6,\n",
       "  'categories': [{'alias': 'wineries', 'title': 'Wineries'},\n",
       "   {'alias': 'venues', 'title': 'Venues & Event Spaces'}],\n",
       "  'rating': 5.0,\n",
       "  'coordinates': {'latitude': 34.1495974886118,\n",
       "   'longitude': -118.096424329128},\n",
       "  'transactions': [],\n",
       "  'price': '$$',\n",
       "  'location': {'address1': '2620 E Foothill Blvd',\n",
       "   'address2': 'Ste D',\n",
       "   'address3': '',\n",
       "   'city': 'Pasadena',\n",
       "   'zip_code': '91107',\n",
       "   'country': 'US',\n",
       "   'state': 'CA',\n",
       "   'display_address': ['2620 E Foothill Blvd', 'Ste D', 'Pasadena, CA 91107']},\n",
       "  'phone': '+16266749244',\n",
       "  'display_phone': '(626) 674-9244',\n",
       "  'distance': 28781.814679435254},\n",
       " {'id': 'ItSiKVWoYjAwywILaEG__A',\n",
       "  'alias': 'nova-brewing-covina-2',\n",
       "  'name': 'Nova Brewing',\n",
       "  'image_url': 'https://s3-media2.fl.yelpcdn.com/bphoto/IMXQ18tIffBaBvN-IoeCPg/o.jpg',\n",
       "  'is_closed': False,\n",
       "  'url': 'https://www.yelp.com/biz/nova-brewing-covina-2?adjust_creative=eyY_X0k6PMB2bu6EM1dXdw&utm_campaign=yelp_api_v3&utm_medium=api_v3_business_search&utm_source=eyY_X0k6PMB2bu6EM1dXdw',\n",
       "  'review_count': 320,\n",
       "  'categories': [{'alias': 'venues', 'title': 'Venues & Event Spaces'},\n",
       "   {'alias': 'winetastingroom', 'title': 'Wine Tasting Room'},\n",
       "   {'alias': 'breweries', 'title': 'Breweries'}],\n",
       "  'rating': 4.5,\n",
       "  'coordinates': {'latitude': 34.0889549, 'longitude': -117.9225998},\n",
       "  'transactions': [],\n",
       "  'price': '$',\n",
       "  'location': {'address1': '1580 W San Bernadino Rd',\n",
       "   'address2': 'Ste H',\n",
       "   'address3': '',\n",
       "   'city': 'Covina',\n",
       "   'zip_code': '91722',\n",
       "   'country': 'US',\n",
       "   'state': 'CA',\n",
       "   'display_address': ['1580 W San Bernadino Rd',\n",
       "    'Ste H',\n",
       "    'Covina, CA 91722']},\n",
       "  'phone': '+16263889949',\n",
       "  'display_phone': '(626) 388-9949',\n",
       "  'distance': 15571.947219944517},\n",
       " {'id': 'A08uAmiF4wvo_UMUiPBuzg',\n",
       "  'alias': 'the-vintners-tavern-chino-3',\n",
       "  'name': \"The Vintner's Tavern\",\n",
       "  'image_url': 'https://s3-media2.fl.yelpcdn.com/bphoto/Z5j5jWOJTWRHJV4x-M_v5Q/o.jpg',\n",
       "  'is_closed': False,\n",
       "  'url': 'https://www.yelp.com/biz/the-vintners-tavern-chino-3?adjust_creative=eyY_X0k6PMB2bu6EM1dXdw&utm_campaign=yelp_api_v3&utm_medium=api_v3_business_search&utm_source=eyY_X0k6PMB2bu6EM1dXdw',\n",
       "  'review_count': 379,\n",
       "  'categories': [{'alias': 'winetastingroom', 'title': 'Wine Tasting Room'},\n",
       "   {'alias': 'newamerican', 'title': 'American (New)'}],\n",
       "  'rating': 4.5,\n",
       "  'coordinates': {'latitude': 34.002961, 'longitude': -117.722986},\n",
       "  'transactions': ['pickup', 'delivery'],\n",
       "  'price': '$$',\n",
       "  'location': {'address1': '13788 Roswell Ave',\n",
       "   'address2': 'Ste 186',\n",
       "   'address3': None,\n",
       "   'city': 'Chino',\n",
       "   'zip_code': '91710',\n",
       "   'country': 'US',\n",
       "   'state': 'CA',\n",
       "   'display_address': ['13788 Roswell Ave', 'Ste 186', 'Chino, CA 91710']},\n",
       "  'phone': '+19094977183',\n",
       "  'display_phone': '(909) 497-7183',\n",
       "  'distance': 19220.369455611526},\n",
       " {'id': 'UDxfqLxsfY3MVLo2ANgQcQ',\n",
       "  'alias': 'pali-wine-anaheim',\n",
       "  'name': 'Pali Wine',\n",
       "  'image_url': 'https://s3-media1.fl.yelpcdn.com/bphoto/s1M0Oos1PI0URRtZeZDRmg/o.jpg',\n",
       "  'is_closed': False,\n",
       "  'url': 'https://www.yelp.com/biz/pali-wine-anaheim?adjust_creative=eyY_X0k6PMB2bu6EM1dXdw&utm_campaign=yelp_api_v3&utm_medium=api_v3_business_search&utm_source=eyY_X0k6PMB2bu6EM1dXdw',\n",
       "  'review_count': 160,\n",
       "  'categories': [{'alias': 'winetastingroom', 'title': 'Wine Tasting Room'}],\n",
       "  'rating': 4.0,\n",
       "  'coordinates': {'latitude': 33.8311312, 'longitude': -117.9118908},\n",
       "  'transactions': ['pickup', 'delivery'],\n",
       "  'price': '$$',\n",
       "  'location': {'address1': '500 S Anaheim Blvd',\n",
       "   'address2': 'Unit C',\n",
       "   'address3': '',\n",
       "   'city': 'Anaheim',\n",
       "   'zip_code': '92805',\n",
       "   'country': 'US',\n",
       "   'state': 'CA',\n",
       "   'display_address': ['500 S Anaheim Blvd', 'Unit C', 'Anaheim, CA 92805']},\n",
       "  'phone': '+17144860922',\n",
       "  'display_phone': '(714) 486-0922',\n",
       "  'distance': 39274.34566041044},\n",
       " {'id': 'fVTFWIZRZdQ1tkE8Jzyveg',\n",
       "  'alias': 'agua-dulce-winery-agua-dulce',\n",
       "  'name': 'Agua Dulce Winery',\n",
       "  'image_url': 'https://s3-media3.fl.yelpcdn.com/bphoto/vim41nuzr5nkQRJaSVviyw/o.jpg',\n",
       "  'is_closed': False,\n",
       "  'url': 'https://www.yelp.com/biz/agua-dulce-winery-agua-dulce?adjust_creative=eyY_X0k6PMB2bu6EM1dXdw&utm_campaign=yelp_api_v3&utm_medium=api_v3_business_search&utm_source=eyY_X0k6PMB2bu6EM1dXdw',\n",
       "  'review_count': 300,\n",
       "  'categories': [{'alias': 'wineries', 'title': 'Wineries'}],\n",
       "  'rating': 4.0,\n",
       "  'coordinates': {'latitude': 34.519419, 'longitude': -118.302044},\n",
       "  'transactions': [],\n",
       "  'price': '$$',\n",
       "  'location': {'address1': '9640 Sierra Hwy',\n",
       "   'address2': '',\n",
       "   'address3': '',\n",
       "   'city': 'Agua Dulce',\n",
       "   'zip_code': '91390',\n",
       "   'country': 'US',\n",
       "   'state': 'CA',\n",
       "   'display_address': ['9640 Sierra Hwy', 'Agua Dulce, CA 91390']},\n",
       "  'phone': '+16612687402',\n",
       "  'display_phone': '(661) 268-7402',\n",
       "  'distance': 61513.93759753662},\n",
       " {'id': 'c8b8VTuaRdSX1tMtpbh79A',\n",
       "  'alias': 'cletes-spirit-shop-san-dimas',\n",
       "  'name': \"Clete's Spirit Shop\",\n",
       "  'image_url': '',\n",
       "  'is_closed': False,\n",
       "  'url': 'https://www.yelp.com/biz/cletes-spirit-shop-san-dimas?adjust_creative=eyY_X0k6PMB2bu6EM1dXdw&utm_campaign=yelp_api_v3&utm_medium=api_v3_business_search&utm_source=eyY_X0k6PMB2bu6EM1dXdw',\n",
       "  'review_count': 1,\n",
       "  'categories': [{'alias': 'beer_and_wine', 'title': 'Beer, Wine & Spirits'},\n",
       "   {'alias': 'wineries', 'title': 'Wineries'}],\n",
       "  'rating': 5.0,\n",
       "  'coordinates': {'latitude': 34.1060600280762,\n",
       "   'longitude': -117.804931640625},\n",
       "  'transactions': [],\n",
       "  'location': {'address1': '168 E Bonita Ave',\n",
       "   'address2': '',\n",
       "   'address3': '',\n",
       "   'city': 'San Dimas',\n",
       "   'zip_code': '91773',\n",
       "   'country': 'US',\n",
       "   'state': 'CA',\n",
       "   'display_address': ['168 E Bonita Ave', 'San Dimas, CA 91773']},\n",
       "  'phone': '+19095993118',\n",
       "  'display_phone': '(909) 599-3118',\n",
       "  'distance': 7178.138151925278},\n",
       " {'id': 'HwM1vMJWa145ruFo2ZrUMA',\n",
       "  'alias': 'azo-vino-wine-bar-covina',\n",
       "  'name': 'Azo VINO Wine Bar',\n",
       "  'image_url': 'https://s3-media2.fl.yelpcdn.com/bphoto/5JpldBU8UwEXqJAbKL6wag/o.jpg',\n",
       "  'is_closed': False,\n",
       "  'url': 'https://www.yelp.com/biz/azo-vino-wine-bar-covina?adjust_creative=eyY_X0k6PMB2bu6EM1dXdw&utm_campaign=yelp_api_v3&utm_medium=api_v3_business_search&utm_source=eyY_X0k6PMB2bu6EM1dXdw',\n",
       "  'review_count': 99,\n",
       "  'categories': [{'alias': 'wine_bars', 'title': 'Wine Bars'},\n",
       "   {'alias': 'winetastingroom', 'title': 'Wine Tasting Room'}],\n",
       "  'rating': 4.5,\n",
       "  'coordinates': {'latitude': 34.07719577714, 'longitude': -117.889975711781},\n",
       "  'transactions': [],\n",
       "  'price': '$$',\n",
       "  'location': {'address1': '678 S Citrus Ave',\n",
       "   'address2': None,\n",
       "   'address3': '',\n",
       "   'city': 'Covina',\n",
       "   'zip_code': '91723',\n",
       "   'country': 'US',\n",
       "   'state': 'CA',\n",
       "   'display_address': ['678 S Citrus Ave', 'Covina, CA 91723']},\n",
       "  'phone': '+16263643503',\n",
       "  'display_phone': '(626) 364-3503',\n",
       "  'distance': 14001.177529383127},\n",
       " {'id': '8797Pbjb259GkwdRsmg4EA',\n",
       "  'alias': 'mission-wine-gallery-riverside',\n",
       "  'name': 'Mission Wine Gallery',\n",
       "  'image_url': 'https://s3-media2.fl.yelpcdn.com/bphoto/rvcxNbp4vzUvSXoa_dzn1Q/o.jpg',\n",
       "  'is_closed': False,\n",
       "  'url': 'https://www.yelp.com/biz/mission-wine-gallery-riverside?adjust_creative=eyY_X0k6PMB2bu6EM1dXdw&utm_campaign=yelp_api_v3&utm_medium=api_v3_business_search&utm_source=eyY_X0k6PMB2bu6EM1dXdw',\n",
       "  'review_count': 3,\n",
       "  'categories': [{'alias': 'wineries', 'title': 'Wineries'}],\n",
       "  'rating': 4.5,\n",
       "  'coordinates': {'latitude': 33.9827613830566, 'longitude': -117.37336730957},\n",
       "  'transactions': [],\n",
       "  'price': '$$',\n",
       "  'location': {'address1': '3625 Main St',\n",
       "   'address2': '',\n",
       "   'address3': '',\n",
       "   'city': 'Riverside',\n",
       "   'zip_code': '92501',\n",
       "   'country': 'US',\n",
       "   'state': 'CA',\n",
       "   'display_address': ['3625 Main St', 'Riverside, CA 92501']},\n",
       "  'phone': '+19517790324',\n",
       "  'display_phone': '(951) 779-0324',\n",
       "  'distance': 43108.02462272364},\n",
       " {'id': 'f0j_REONX4EiG_Kl_-fp1w',\n",
       "  'alias': 'orange-county-wine-tours-newport-beach-2',\n",
       "  'name': 'Orange County Wine Tours',\n",
       "  'image_url': 'https://s3-media2.fl.yelpcdn.com/bphoto/PZrTMuaRNOYQON-ymmDDNg/o.jpg',\n",
       "  'is_closed': False,\n",
       "  'url': 'https://www.yelp.com/biz/orange-county-wine-tours-newport-beach-2?adjust_creative=eyY_X0k6PMB2bu6EM1dXdw&utm_campaign=yelp_api_v3&utm_medium=api_v3_business_search&utm_source=eyY_X0k6PMB2bu6EM1dXdw',\n",
       "  'review_count': 77,\n",
       "  'categories': [{'alias': 'winetours', 'title': 'Wine Tours'}],\n",
       "  'rating': 4.5,\n",
       "  'coordinates': {'latitude': 33.6284790039062,\n",
       "   'longitude': -117.865104675293},\n",
       "  'transactions': [],\n",
       "  'location': {'address1': '',\n",
       "   'address2': '',\n",
       "   'address3': '',\n",
       "   'city': 'Newport Beach',\n",
       "   'zip_code': '92660',\n",
       "   'country': 'US',\n",
       "   'state': 'CA',\n",
       "   'display_address': ['Newport Beach, CA 92660']},\n",
       "  'phone': '+19496886005',\n",
       "  'display_phone': '(949) 688-6005',\n",
       "  'distance': 60370.90794662056},\n",
       " {'id': 'w6PRiktq1pPH9TWmDDqeww',\n",
       "  'alias': 'sunshine-millions-wine-festival-arcadia',\n",
       "  'name': 'Sunshine Millions Wine Festival',\n",
       "  'image_url': 'https://s3-media3.fl.yelpcdn.com/bphoto/6qPuE3J6JHIHJmU2h3vRkA/o.jpg',\n",
       "  'is_closed': False,\n",
       "  'url': 'https://www.yelp.com/biz/sunshine-millions-wine-festival-arcadia?adjust_creative=eyY_X0k6PMB2bu6EM1dXdw&utm_campaign=yelp_api_v3&utm_medium=api_v3_business_search&utm_source=eyY_X0k6PMB2bu6EM1dXdw',\n",
       "  'review_count': 3,\n",
       "  'categories': [{'alias': 'festivals', 'title': 'Festivals'},\n",
       "   {'alias': 'wineries', 'title': 'Wineries'}],\n",
       "  'rating': 3.5,\n",
       "  'coordinates': {'latitude': 34.1387170768722,\n",
       "   'longitude': -118.045860081911},\n",
       "  'transactions': [],\n",
       "  'price': '$$',\n",
       "  'location': {'address1': '285 W Huntington Dr',\n",
       "   'address2': '',\n",
       "   'address3': '',\n",
       "   'city': 'Arcadia',\n",
       "   'zip_code': '91007',\n",
       "   'country': 'US',\n",
       "   'state': 'CA',\n",
       "   'display_address': ['285 W Huntington Dr', 'Arcadia, CA 91007']},\n",
       "  'phone': '+16265747223',\n",
       "  'display_phone': '(626) 574-7223',\n",
       "  'distance': 24278.46826626717},\n",
       " {'id': 'sJkfqogPp3pHXHKJat71aQ',\n",
       "  'alias': 'cowboy-canyon-winery-silverado',\n",
       "  'name': 'Cowboy Canyon Winery',\n",
       "  'image_url': 'https://s3-media2.fl.yelpcdn.com/bphoto/b3dpqf_Yzf_gcQHD-M0NMQ/o.jpg',\n",
       "  'is_closed': False,\n",
       "  'url': 'https://www.yelp.com/biz/cowboy-canyon-winery-silverado?adjust_creative=eyY_X0k6PMB2bu6EM1dXdw&utm_campaign=yelp_api_v3&utm_medium=api_v3_business_search&utm_source=eyY_X0k6PMB2bu6EM1dXdw',\n",
       "  'review_count': 46,\n",
       "  'categories': [{'alias': 'wineries', 'title': 'Wineries'}],\n",
       "  'rating': 4.0,\n",
       "  'coordinates': {'latitude': 33.7285186945301,\n",
       "   'longitude': -117.647947279743},\n",
       "  'transactions': [],\n",
       "  'price': '$$',\n",
       "  'location': {'address1': '16162 Jackson Ranch Rd',\n",
       "   'address2': '',\n",
       "   'address3': '',\n",
       "   'city': 'Silverado',\n",
       "   'zip_code': '92676',\n",
       "   'country': 'US',\n",
       "   'state': 'CA',\n",
       "   'display_address': ['16162 Jackson Ranch Rd', 'Silverado, CA 92676']},\n",
       "  'phone': '+17142020212',\n",
       "  'display_phone': '(714) 202-0212',\n",
       "  'distance': 50480.15261089904},\n",
       " {'id': 'WmjoUg8Fqzi20AHtrMF_zQ',\n",
       "  'alias': 'waters-edge-winery-of-long-beach-long-beach-5',\n",
       "  'name': 'Waters Edge Winery of Long Beach',\n",
       "  'image_url': 'https://s3-media3.fl.yelpcdn.com/bphoto/YjdFIEOglF71iBploC_ERw/o.jpg',\n",
       "  'is_closed': False,\n",
       "  'url': 'https://www.yelp.com/biz/waters-edge-winery-of-long-beach-long-beach-5?adjust_creative=eyY_X0k6PMB2bu6EM1dXdw&utm_campaign=yelp_api_v3&utm_medium=api_v3_business_search&utm_source=eyY_X0k6PMB2bu6EM1dXdw',\n",
       "  'review_count': 133,\n",
       "  'categories': [{'alias': 'winetastingroom', 'title': 'Wine Tasting Room'},\n",
       "   {'alias': 'newamerican', 'title': 'American (New)'}],\n",
       "  'rating': 4.5,\n",
       "  'coordinates': {'latitude': 33.769746, 'longitude': -118.192709},\n",
       "  'transactions': [],\n",
       "  'price': '$$',\n",
       "  'location': {'address1': '217 Pine Ave',\n",
       "   'address2': None,\n",
       "   'address3': '',\n",
       "   'city': 'Long Beach',\n",
       "   'zip_code': '90802',\n",
       "   'country': 'US',\n",
       "   'state': 'CA',\n",
       "   'display_address': ['217 Pine Ave', 'Long Beach, CA 90802']},\n",
       "  'phone': '+18333349463',\n",
       "  'display_phone': '(833) 334-9463',\n",
       "  'distance': 58137.99222741837},\n",
       " {'id': 'cZl0QOXPlpO4vz_9_6JnbA',\n",
       "  'alias': 'thief-and-barrel-lancaster',\n",
       "  'name': 'Thief & Barrel',\n",
       "  'image_url': 'https://s3-media4.fl.yelpcdn.com/bphoto/M9kTH4f-Y5p8_9-P87E9rQ/o.jpg',\n",
       "  'is_closed': False,\n",
       "  'url': 'https://www.yelp.com/biz/thief-and-barrel-lancaster?adjust_creative=eyY_X0k6PMB2bu6EM1dXdw&utm_campaign=yelp_api_v3&utm_medium=api_v3_business_search&utm_source=eyY_X0k6PMB2bu6EM1dXdw',\n",
       "  'review_count': 30,\n",
       "  'categories': [{'alias': 'winetastingroom', 'title': 'Wine Tasting Room'},\n",
       "   {'alias': 'venues', 'title': 'Venues & Event Spaces'}],\n",
       "  'rating': 5.0,\n",
       "  'coordinates': {'latitude': 34.6517256, 'longitude': -118.1412788},\n",
       "  'transactions': [],\n",
       "  'price': '$$',\n",
       "  'location': {'address1': '42257 6th St W',\n",
       "   'address2': 'Ste 302',\n",
       "   'address3': None,\n",
       "   'city': 'Lancaster',\n",
       "   'zip_code': '93534',\n",
       "   'country': 'US',\n",
       "   'state': 'CA',\n",
       "   'display_address': ['42257 6th St W', 'Ste 302', 'Lancaster, CA 93534']},\n",
       "  'phone': '+16617239463',\n",
       "  'display_phone': '(661) 723-9463',\n",
       "  'distance': 62869.730311634405},\n",
       " {'id': 'BvKGYiDfKcNAZOO_K2eCWw',\n",
       "  'alias': 'giracci-vineyards-and-farms-silverado',\n",
       "  'name': 'Giracci Vineyards',\n",
       "  'image_url': 'https://s3-media3.fl.yelpcdn.com/bphoto/LV0OXF6MEGsqs3l_KGyHbA/o.jpg',\n",
       "  'is_closed': False,\n",
       "  'url': 'https://www.yelp.com/biz/giracci-vineyards-and-farms-silverado?adjust_creative=eyY_X0k6PMB2bu6EM1dXdw&utm_campaign=yelp_api_v3&utm_medium=api_v3_business_search&utm_source=eyY_X0k6PMB2bu6EM1dXdw',\n",
       "  'review_count': 110,\n",
       "  'categories': [{'alias': 'wineries', 'title': 'Wineries'},\n",
       "   {'alias': 'venues', 'title': 'Venues & Event Spaces'}],\n",
       "  'rating': 4.0,\n",
       "  'coordinates': {'latitude': 33.728577, 'longitude': -117.64936},\n",
       "  'transactions': [],\n",
       "  'price': '$$',\n",
       "  'location': {'address1': '16162 Jackson Ranch Rd',\n",
       "   'address2': None,\n",
       "   'address3': '',\n",
       "   'city': 'Silverado',\n",
       "   'zip_code': '92676',\n",
       "   'country': 'US',\n",
       "   'state': 'CA',\n",
       "   'display_address': ['16162 Jackson Ranch Rd', 'Silverado, CA 92676']},\n",
       "  'phone': '+17146021109',\n",
       "  'display_phone': '(714) 602-1109',\n",
       "  'distance': 50489.71567626139},\n",
       " {'id': '0jPyvQmJT4HwM6TdO2GKAw',\n",
       "  'alias': 'reyes-winery-santa-clarita',\n",
       "  'name': 'Reyes Winery',\n",
       "  'image_url': 'https://s3-media4.fl.yelpcdn.com/bphoto/XDXdznC26PtS9TGJbAFhaA/o.jpg',\n",
       "  'is_closed': False,\n",
       "  'url': 'https://www.yelp.com/biz/reyes-winery-santa-clarita?adjust_creative=eyY_X0k6PMB2bu6EM1dXdw&utm_campaign=yelp_api_v3&utm_medium=api_v3_business_search&utm_source=eyY_X0k6PMB2bu6EM1dXdw',\n",
       "  'review_count': 87,\n",
       "  'categories': [{'alias': 'wineries', 'title': 'Wineries'}],\n",
       "  'rating': 3.5,\n",
       "  'coordinates': {'latitude': 34.51719, 'longitude': -118.31367},\n",
       "  'transactions': [],\n",
       "  'price': '$$',\n",
       "  'location': {'address1': '10262 Sierra Hwy',\n",
       "   'address2': '',\n",
       "   'address3': '',\n",
       "   'city': 'Santa Clarita',\n",
       "   'zip_code': '91390',\n",
       "   'country': 'US',\n",
       "   'state': 'CA',\n",
       "   'display_address': ['10262 Sierra Hwy', 'Santa Clarita, CA 91390']},\n",
       "  'phone': '+16612681865',\n",
       "  'display_phone': '(661) 268-1865',\n",
       "  'distance': 62208.1702341799},\n",
       " {'id': 'pR___OSFrkPW5pEuL3xOeQ',\n",
       "  'alias': 'newport-beach-vineyards-and-winery-newport-beach',\n",
       "  'name': 'Newport Beach Vineyards & Winery',\n",
       "  'image_url': 'https://s3-media4.fl.yelpcdn.com/bphoto/DvWN33LLwT5Yd58yPD7f8w/o.jpg',\n",
       "  'is_closed': False,\n",
       "  'url': 'https://www.yelp.com/biz/newport-beach-vineyards-and-winery-newport-beach?adjust_creative=eyY_X0k6PMB2bu6EM1dXdw&utm_campaign=yelp_api_v3&utm_medium=api_v3_business_search&utm_source=eyY_X0k6PMB2bu6EM1dXdw',\n",
       "  'review_count': 23,\n",
       "  'categories': [{'alias': 'wineries', 'title': 'Wineries'},\n",
       "   {'alias': 'venues', 'title': 'Venues & Event Spaces'}],\n",
       "  'rating': 4.0,\n",
       "  'coordinates': {'latitude': 33.6533746, 'longitude': -117.8810491},\n",
       "  'transactions': [],\n",
       "  'price': '$$',\n",
       "  'location': {'address1': '2128 Mesa Dr',\n",
       "   'address2': None,\n",
       "   'address3': '',\n",
       "   'city': 'Newport Beach',\n",
       "   'zip_code': '92660',\n",
       "   'country': 'US',\n",
       "   'state': 'CA',\n",
       "   'display_address': ['2128 Mesa Dr', 'Newport Beach, CA 92660']},\n",
       "  'phone': '+19496452200',\n",
       "  'display_phone': '(949) 645-2200',\n",
       "  'distance': 57931.25980163459},\n",
       " {'id': '1Dtly6wOt7t297Es9ktcEw',\n",
       "  'alias': 'antelope-valley-winery-lancaster',\n",
       "  'name': 'Antelope Valley Winery',\n",
       "  'image_url': 'https://s3-media4.fl.yelpcdn.com/bphoto/Nkvy-JlgjSvMLKWE1ooMhg/o.jpg',\n",
       "  'is_closed': False,\n",
       "  'url': 'https://www.yelp.com/biz/antelope-valley-winery-lancaster?adjust_creative=eyY_X0k6PMB2bu6EM1dXdw&utm_campaign=yelp_api_v3&utm_medium=api_v3_business_search&utm_source=eyY_X0k6PMB2bu6EM1dXdw',\n",
       "  'review_count': 61,\n",
       "  'categories': [{'alias': 'meats', 'title': 'Meat Shops'},\n",
       "   {'alias': 'wineries', 'title': 'Wineries'},\n",
       "   {'alias': 'cheese', 'title': 'Cheese Shops'}],\n",
       "  'rating': 4.0,\n",
       "  'coordinates': {'latitude': 34.6470909, 'longitude': -118.1661987},\n",
       "  'transactions': [],\n",
       "  'price': '$$',\n",
       "  'location': {'address1': '42041 20th St W',\n",
       "   'address2': '',\n",
       "   'address3': '',\n",
       "   'city': 'Lancaster',\n",
       "   'zip_code': '93534',\n",
       "   'country': 'US',\n",
       "   'state': 'CA',\n",
       "   'display_address': ['42041 20th St W', 'Lancaster, CA 93534']},\n",
       "  'phone': '+16617220145',\n",
       "  'display_phone': '(661) 722-0145',\n",
       "  'distance': 63739.43298739921},\n",
       " {'id': 'F9ToHXJvMUTbtqmTmIvPsw',\n",
       "  'alias': 'canyon-crest-winery-riverside',\n",
       "  'name': 'Canyon Crest Winery',\n",
       "  'image_url': 'https://s3-media2.fl.yelpcdn.com/bphoto/E0LkyWDCELuEzfdXqVMdcQ/o.jpg',\n",
       "  'is_closed': False,\n",
       "  'url': 'https://www.yelp.com/biz/canyon-crest-winery-riverside?adjust_creative=eyY_X0k6PMB2bu6EM1dXdw&utm_campaign=yelp_api_v3&utm_medium=api_v3_business_search&utm_source=eyY_X0k6PMB2bu6EM1dXdw',\n",
       "  'review_count': 137,\n",
       "  'categories': [{'alias': 'wineries', 'title': 'Wineries'},\n",
       "   {'alias': 'wine_bars', 'title': 'Wine Bars'}],\n",
       "  'rating': 3.5,\n",
       "  'coordinates': {'latitude': 33.9556594099371, 'longitude': -117.33044953055},\n",
       "  'transactions': [],\n",
       "  'price': '$$',\n",
       "  'location': {'address1': '5225 Canyon Crest Dr',\n",
       "   'address2': 'Ste 7A',\n",
       "   'address3': '',\n",
       "   'city': 'Riverside',\n",
       "   'zip_code': '92507',\n",
       "   'country': 'US',\n",
       "   'state': 'CA',\n",
       "   'display_address': ['5225 Canyon Crest Dr',\n",
       "    'Ste 7A',\n",
       "    'Riverside, CA 92507']},\n",
       "  'phone': '+19513699463',\n",
       "  'display_phone': '(951) 369-9463',\n",
       "  'distance': 48032.48351400277},\n",
       " {'id': 'lDACdYwbqxVrgatJB8RH-w',\n",
       "  'alias': 'hollywood-grape-escapes-pasadena',\n",
       "  'name': 'Hollywood Grape Escapes',\n",
       "  'image_url': 'https://s3-media3.fl.yelpcdn.com/bphoto/P7CdBnGLZkJMigJ-4d4_NA/o.jpg',\n",
       "  'is_closed': False,\n",
       "  'url': 'https://www.yelp.com/biz/hollywood-grape-escapes-pasadena?adjust_creative=eyY_X0k6PMB2bu6EM1dXdw&utm_campaign=yelp_api_v3&utm_medium=api_v3_business_search&utm_source=eyY_X0k6PMB2bu6EM1dXdw',\n",
       "  'review_count': 6,\n",
       "  'categories': [{'alias': 'tours', 'title': 'Tours'}],\n",
       "  'rating': 5.0,\n",
       "  'coordinates': {'latitude': 34.14914, 'longitude': -118.085},\n",
       "  'transactions': [],\n",
       "  'location': {'address1': '3202 E Foothill Blvd',\n",
       "   'address2': None,\n",
       "   'address3': '',\n",
       "   'city': 'Pasadena',\n",
       "   'zip_code': '91107',\n",
       "   'country': 'US',\n",
       "   'state': 'CA',\n",
       "   'display_address': ['3202 E Foothill Blvd', 'Pasadena, CA 91107']},\n",
       "  'phone': '+16266412124',\n",
       "  'display_phone': '(626) 641-2124',\n",
       "  'distance': 27664.792791706466},\n",
       " {'id': 'LPMpQfMDY81oA2TPbFIiIw',\n",
       "  'alias': 'angeleno-wine-company-los-angeles',\n",
       "  'name': 'Angeleno Wine Company',\n",
       "  'image_url': 'https://s3-media2.fl.yelpcdn.com/bphoto/womTANY0hSQi3vf23t9vJQ/o.jpg',\n",
       "  'is_closed': False,\n",
       "  'url': 'https://www.yelp.com/biz/angeleno-wine-company-los-angeles?adjust_creative=eyY_X0k6PMB2bu6EM1dXdw&utm_campaign=yelp_api_v3&utm_medium=api_v3_business_search&utm_source=eyY_X0k6PMB2bu6EM1dXdw',\n",
       "  'review_count': 30,\n",
       "  'categories': [{'alias': 'winetastingroom', 'title': 'Wine Tasting Room'}],\n",
       "  'rating': 5.0,\n",
       "  'coordinates': {'latitude': 34.0691, 'longitude': -118.22771},\n",
       "  'transactions': [],\n",
       "  'price': '$$',\n",
       "  'location': {'address1': '1646 N Spring St',\n",
       "   'address2': '',\n",
       "   'address3': None,\n",
       "   'city': 'Los Angeles',\n",
       "   'zip_code': '90012',\n",
       "   'country': 'US',\n",
       "   'state': 'CA',\n",
       "   'display_address': ['1646 N Spring St', 'Los Angeles, CA 90012']},\n",
       "  'phone': '',\n",
       "  'display_phone': '',\n",
       "  'distance': 42261.740558180645},\n",
       " {'id': 'GzIO3ZaZeZwfLw2YuKmJPA',\n",
       "  'alias': 'seal-beach-winery-los-alamitos',\n",
       "  'name': 'Seal Beach Winery',\n",
       "  'image_url': 'https://s3-media1.fl.yelpcdn.com/bphoto/gIrbFecENnk8syGvQn34hA/o.jpg',\n",
       "  'is_closed': False,\n",
       "  'url': 'https://www.yelp.com/biz/seal-beach-winery-los-alamitos?adjust_creative=eyY_X0k6PMB2bu6EM1dXdw&utm_campaign=yelp_api_v3&utm_medium=api_v3_business_search&utm_source=eyY_X0k6PMB2bu6EM1dXdw',\n",
       "  'review_count': 121,\n",
       "  'categories': [{'alias': 'wineries', 'title': 'Wineries'}],\n",
       "  'rating': 4.5,\n",
       "  'coordinates': {'latitude': 33.811382, 'longitude': -118.073628328388},\n",
       "  'transactions': [],\n",
       "  'price': '$$',\n",
       "  'location': {'address1': '3387 Cerritos Ave',\n",
       "   'address2': None,\n",
       "   'address3': '',\n",
       "   'city': 'Los Alamitos',\n",
       "   'zip_code': '90720',\n",
       "   'country': 'US',\n",
       "   'state': 'CA',\n",
       "   'display_address': ['3387 Cerritos Ave', 'Los Alamitos, CA 90720']},\n",
       "  'phone': '+15625945800',\n",
       "  'display_phone': '(562) 594-5800',\n",
       "  'distance': 47799.028932580164},\n",
       " {'id': 'j4Vu2KEzV3uvUdgMStZxlw',\n",
       "  'alias': 'corks-and-hops-crestline',\n",
       "  'name': 'Corks & Hops',\n",
       "  'image_url': '',\n",
       "  'is_closed': False,\n",
       "  'url': 'https://www.yelp.com/biz/corks-and-hops-crestline?adjust_creative=eyY_X0k6PMB2bu6EM1dXdw&utm_campaign=yelp_api_v3&utm_medium=api_v3_business_search&utm_source=eyY_X0k6PMB2bu6EM1dXdw',\n",
       "  'review_count': 1,\n",
       "  'categories': [{'alias': 'winetastingroom', 'title': 'Wine Tasting Room'}],\n",
       "  'rating': 5.0,\n",
       "  'coordinates': {'latitude': 34.24309, 'longitude': -117.2803},\n",
       "  'transactions': [],\n",
       "  'location': {'address1': '23971 Lake Dr',\n",
       "   'address2': '',\n",
       "   'address3': None,\n",
       "   'city': 'Crestline',\n",
       "   'zip_code': '92325',\n",
       "   'country': 'US',\n",
       "   'state': 'CA',\n",
       "   'display_address': ['23971 Lake Dr', 'Crestline, CA 92325']},\n",
       "  'phone': '+19093382706',\n",
       "  'display_phone': '(909) 338-2706',\n",
       "  'distance': 47116.67180516363},\n",
       " {'id': 'J7aaA4t2F4fltE2QC29kKg',\n",
       "  'alias': 'orange-coast-winery-newport-beach-3',\n",
       "  'name': 'Orange Coast Winery',\n",
       "  'image_url': 'https://s3-media3.fl.yelpcdn.com/bphoto/LMXFTvyskRds0aBeB6Q0zA/o.jpg',\n",
       "  'is_closed': False,\n",
       "  'url': 'https://www.yelp.com/biz/orange-coast-winery-newport-beach-3?adjust_creative=eyY_X0k6PMB2bu6EM1dXdw&utm_campaign=yelp_api_v3&utm_medium=api_v3_business_search&utm_source=eyY_X0k6PMB2bu6EM1dXdw',\n",
       "  'review_count': 757,\n",
       "  'categories': [{'alias': 'wineries', 'title': 'Wineries'}],\n",
       "  'rating': 4.5,\n",
       "  'coordinates': {'latitude': 33.6323971652318,\n",
       "   'longitude': -117.934901835208},\n",
       "  'transactions': [],\n",
       "  'price': '$$',\n",
       "  'location': {'address1': '869 W 16th St',\n",
       "   'address2': '',\n",
       "   'address3': '',\n",
       "   'city': 'Newport Beach',\n",
       "   'zip_code': '92663',\n",
       "   'country': 'US',\n",
       "   'state': 'CA',\n",
       "   'display_address': ['869 W 16th St', 'Newport Beach, CA 92663']},\n",
       "  'phone': '+19496450400',\n",
       "  'display_phone': '(949) 645-0400',\n",
       "  'distance': 61177.55755294764},\n",
       " {'id': 'jHXEy_NdFuipUON-CFeiNw',\n",
       "  'alias': 'stephen-hemmert-winery-and-tasting-room-lancaster',\n",
       "  'name': 'Stephen Hemmert Winery & Tasting Room',\n",
       "  'image_url': 'https://s3-media3.fl.yelpcdn.com/bphoto/DNlpUtBRNEyIbaaFEvUw-w/o.jpg',\n",
       "  'is_closed': False,\n",
       "  'url': 'https://www.yelp.com/biz/stephen-hemmert-winery-and-tasting-room-lancaster?adjust_creative=eyY_X0k6PMB2bu6EM1dXdw&utm_campaign=yelp_api_v3&utm_medium=api_v3_business_search&utm_source=eyY_X0k6PMB2bu6EM1dXdw',\n",
       "  'review_count': 5,\n",
       "  'categories': [{'alias': 'wineries', 'title': 'Wineries'}],\n",
       "  'rating': 5.0,\n",
       "  'coordinates': {'latitude': 34.6961, 'longitude': -118.13429},\n",
       "  'transactions': [],\n",
       "  'location': {'address1': '44732 Yucca Ave',\n",
       "   'address2': '',\n",
       "   'address3': None,\n",
       "   'city': 'Lancaster',\n",
       "   'zip_code': '93534',\n",
       "   'country': 'US',\n",
       "   'state': 'CA',\n",
       "   'display_address': ['44732 Yucca Ave', 'Lancaster, CA 93534']},\n",
       "  'phone': '+16612335100',\n",
       "  'display_phone': '(661) 233-5100',\n",
       "  'distance': 66899.89365531622},\n",
       " {'id': 'U4BazA1Z_FIk4M6x9bLvtA',\n",
       "  'alias': 'barrett-cellars-lancaster',\n",
       "  'name': 'Barrett Cellars',\n",
       "  'image_url': 'https://s3-media2.fl.yelpcdn.com/bphoto/UTxvQuLdLg62TL9fBwUa7g/o.jpg',\n",
       "  'is_closed': False,\n",
       "  'url': 'https://www.yelp.com/biz/barrett-cellars-lancaster?adjust_creative=eyY_X0k6PMB2bu6EM1dXdw&utm_campaign=yelp_api_v3&utm_medium=api_v3_business_search&utm_source=eyY_X0k6PMB2bu6EM1dXdw',\n",
       "  'review_count': 20,\n",
       "  'categories': [{'alias': 'winetastingroom', 'title': 'Wine Tasting Room'}],\n",
       "  'rating': 4.5,\n",
       "  'coordinates': {'latitude': 34.694843, 'longitude': -118.1309331},\n",
       "  'transactions': [],\n",
       "  'location': {'address1': '114 West Newgrove St',\n",
       "   'address2': None,\n",
       "   'address3': '',\n",
       "   'city': 'Lancaster',\n",
       "   'zip_code': '93534',\n",
       "   'country': 'US',\n",
       "   'state': 'CA',\n",
       "   'display_address': ['114 West Newgrove St', 'Lancaster, CA 93534']},\n",
       "  'phone': '+16619463901',\n",
       "  'display_phone': '(661) 946-3901',\n",
       "  'distance': 66631.68975919364},\n",
       " {'id': 'Rposw7waOrpXbzxEkbA-Ng',\n",
       "  'alias': 'bella-vita-wine-cellars-yorba-linda',\n",
       "  'name': 'Bella Vita Wine Cellars',\n",
       "  'image_url': 'https://s3-media1.fl.yelpcdn.com/bphoto/4AH8Yiv5o6PttaePuKGmqw/o.jpg',\n",
       "  'is_closed': False,\n",
       "  'url': 'https://www.yelp.com/biz/bella-vita-wine-cellars-yorba-linda?adjust_creative=eyY_X0k6PMB2bu6EM1dXdw&utm_campaign=yelp_api_v3&utm_medium=api_v3_business_search&utm_source=eyY_X0k6PMB2bu6EM1dXdw',\n",
       "  'review_count': 1,\n",
       "  'categories': [{'alias': 'wineries', 'title': 'Wineries'}],\n",
       "  'rating': 3.0,\n",
       "  'coordinates': {'latitude': 33.877702, 'longitude': -117.75147},\n",
       "  'transactions': [],\n",
       "  'location': {'address1': '21520 Yorba Linda Blvd',\n",
       "   'address2': 'Ste G403',\n",
       "   'address3': '',\n",
       "   'city': 'Yorba Linda',\n",
       "   'zip_code': '92887',\n",
       "   'country': 'US',\n",
       "   'state': 'CA',\n",
       "   'display_address': ['21520 Yorba Linda Blvd',\n",
       "    'Ste G403',\n",
       "    'Yorba Linda, CA 92887']},\n",
       "  'phone': '+19514963897',\n",
       "  'display_phone': '(951) 496-3897',\n",
       "  'distance': 32464.528446871565},\n",
       " {'id': '1RYcq0Qv-KIwszzAVN6ByQ',\n",
       "  'alias': 'alfresco-tasting-terrace-anaheim-2',\n",
       "  'name': 'Alfresco Tasting Terrace',\n",
       "  'image_url': 'https://s3-media4.fl.yelpcdn.com/bphoto/O5p3Va_DYkIi3eaBwguBMA/o.jpg',\n",
       "  'is_closed': False,\n",
       "  'url': 'https://www.yelp.com/biz/alfresco-tasting-terrace-anaheim-2?adjust_creative=eyY_X0k6PMB2bu6EM1dXdw&utm_campaign=yelp_api_v3&utm_medium=api_v3_business_search&utm_source=eyY_X0k6PMB2bu6EM1dXdw',\n",
       "  'review_count': 71,\n",
       "  'categories': [{'alias': 'winetastingroom', 'title': 'Wine Tasting Room'}],\n",
       "  'rating': 4.0,\n",
       "  'coordinates': {'latitude': 33.806643, 'longitude': -117.919879},\n",
       "  'transactions': [],\n",
       "  'price': '$$',\n",
       "  'location': {'address1': '1313 S Harbor Blvd',\n",
       "   'address2': '',\n",
       "   'address3': '',\n",
       "   'city': 'Anaheim',\n",
       "   'zip_code': '92825',\n",
       "   'country': 'US',\n",
       "   'state': 'CA',\n",
       "   'display_address': ['1313 S Harbor Blvd', 'Anaheim, CA 92825']},\n",
       "  'phone': '+17147814565',\n",
       "  'display_phone': '(714) 781-4565',\n",
       "  'distance': 42093.57863512956},\n",
       " {'id': 'enAr-3Cqs7aCUViLthruLA',\n",
       "  'alias': 'coruce-vineyards-and-winery-lancaster',\n",
       "  'name': 'Coruce Vineyards and Winery',\n",
       "  'image_url': 'https://s3-media2.fl.yelpcdn.com/bphoto/HzIGSNe_vMdy15W4fScmdA/o.jpg',\n",
       "  'is_closed': False,\n",
       "  'url': 'https://www.yelp.com/biz/coruce-vineyards-and-winery-lancaster?adjust_creative=eyY_X0k6PMB2bu6EM1dXdw&utm_campaign=yelp_api_v3&utm_medium=api_v3_business_search&utm_source=eyY_X0k6PMB2bu6EM1dXdw',\n",
       "  'review_count': 12,\n",
       "  'categories': [{'alias': 'winetastingroom', 'title': 'Wine Tasting Room'}],\n",
       "  'rating': 5.0,\n",
       "  'coordinates': {'latitude': 34.646408, 'longitude': -118.149679},\n",
       "  'transactions': [],\n",
       "  'price': '$$',\n",
       "  'location': {'address1': '1055 W Columbia Way',\n",
       "   'address2': 'Ste 105',\n",
       "   'address3': '',\n",
       "   'city': 'Lancaster',\n",
       "   'zip_code': '93534',\n",
       "   'country': 'US',\n",
       "   'state': 'CA',\n",
       "   'display_address': ['1055 W Columbia Way',\n",
       "    'Ste 105',\n",
       "    'Lancaster, CA 93534']},\n",
       "  'phone': '+16614948877',\n",
       "  'display_phone': '(661) 494-8877',\n",
       "  'distance': 62853.62024534938},\n",
       " {'id': 'Tl2Yf6k9Al4rHzcFc4n00g',\n",
       "  'alias': 'long-beach-grand-cru-long-beach',\n",
       "  'name': 'Long Beach Grand Cru',\n",
       "  'image_url': 'https://s3-media1.fl.yelpcdn.com/bphoto/0gTw9Kff9x9rzZmyTwXt9w/o.jpg',\n",
       "  'is_closed': False,\n",
       "  'url': 'https://www.yelp.com/biz/long-beach-grand-cru-long-beach?adjust_creative=eyY_X0k6PMB2bu6EM1dXdw&utm_campaign=yelp_api_v3&utm_medium=api_v3_business_search&utm_source=eyY_X0k6PMB2bu6EM1dXdw',\n",
       "  'review_count': 1,\n",
       "  'categories': [{'alias': 'wineries', 'title': 'Wineries'}],\n",
       "  'rating': 5.0,\n",
       "  'coordinates': {'latitude': 33.7709424682142, 'longitude': -118.1894258},\n",
       "  'transactions': [],\n",
       "  'location': {'address1': 'Rainbow Lagoon Park',\n",
       "   'address2': '',\n",
       "   'address3': '',\n",
       "   'city': 'Long Beach',\n",
       "   'zip_code': '90802',\n",
       "   'country': 'US',\n",
       "   'state': 'CA',\n",
       "   'display_address': ['Rainbow Lagoon Park', 'Long Beach, CA 90802']},\n",
       "  'phone': '',\n",
       "  'display_phone': '',\n",
       "  'distance': 57841.99389014994},\n",
       " {'id': 'UZGo04aVdHkrC4mhk7sF-A',\n",
       "  'alias': 'la-rebelde-winery-lake-elsinore',\n",
       "  'name': 'La Rebelde Winery',\n",
       "  'image_url': 'https://s3-media2.fl.yelpcdn.com/bphoto/_U8d86WINiXxNabrrYOHAA/o.jpg',\n",
       "  'is_closed': False,\n",
       "  'url': 'https://www.yelp.com/biz/la-rebelde-winery-lake-elsinore?adjust_creative=eyY_X0k6PMB2bu6EM1dXdw&utm_campaign=yelp_api_v3&utm_medium=api_v3_business_search&utm_source=eyY_X0k6PMB2bu6EM1dXdw',\n",
       "  'review_count': 50,\n",
       "  'categories': [{'alias': 'wineries', 'title': 'Wineries'}],\n",
       "  'rating': 4.5,\n",
       "  'coordinates': {'latitude': 33.68678, 'longitude': -117.33991},\n",
       "  'transactions': [],\n",
       "  'price': '$',\n",
       "  'location': {'address1': '530 Crane St',\n",
       "   'address2': 'Ste G',\n",
       "   'address3': '',\n",
       "   'city': 'Lake Elsinore',\n",
       "   'zip_code': '92530',\n",
       "   'country': 'US',\n",
       "   'state': 'CA',\n",
       "   'display_address': ['530 Crane St', 'Ste G', 'Lake Elsinore, CA 92530']},\n",
       "  'phone': '+19517417337',\n",
       "  'display_phone': '(951) 741-7337',\n",
       "  'distance': 67432.67100388434},\n",
       " {'id': '0BjT998SGKVqWdbbCyPCCg',\n",
       "  'alias': 'laguna-canyon-winery-laguna-beach',\n",
       "  'name': 'Laguna Canyon Winery',\n",
       "  'image_url': 'https://s3-media1.fl.yelpcdn.com/bphoto/uli5F8ScT61Xy2w4wZO8lQ/o.jpg',\n",
       "  'is_closed': False,\n",
       "  'url': 'https://www.yelp.com/biz/laguna-canyon-winery-laguna-beach?adjust_creative=eyY_X0k6PMB2bu6EM1dXdw&utm_campaign=yelp_api_v3&utm_medium=api_v3_business_search&utm_source=eyY_X0k6PMB2bu6EM1dXdw',\n",
       "  'review_count': 213,\n",
       "  'categories': [{'alias': 'wineries', 'title': 'Wineries'}],\n",
       "  'rating': 4.0,\n",
       "  'coordinates': {'latitude': 33.559875, 'longitude': -117.772323},\n",
       "  'transactions': [],\n",
       "  'price': '$$',\n",
       "  'location': {'address1': '2133 Laguna Canyon Rd',\n",
       "   'address2': None,\n",
       "   'address3': '',\n",
       "   'city': 'Laguna Beach',\n",
       "   'zip_code': '92651',\n",
       "   'country': 'US',\n",
       "   'state': 'CA',\n",
       "   'display_address': ['2133 Laguna Canyon Rd', 'Laguna Beach, CA 92651']},\n",
       "  'phone': '+19497159463',\n",
       "  'display_phone': '(949) 715-9463',\n",
       "  'distance': 67640.32183912437},\n",
       " {'id': 'E4Ssgs5CFLha4JLjy9N-5g',\n",
       "  'alias': 'pour-wine-and-bites-burbank',\n",
       "  'name': 'Pour Wine and Bites',\n",
       "  'image_url': 'https://s3-media2.fl.yelpcdn.com/bphoto/JYZW4o8QAt2K73IY6OvNQA/o.jpg',\n",
       "  'is_closed': False,\n",
       "  'url': 'https://www.yelp.com/biz/pour-wine-and-bites-burbank?adjust_creative=eyY_X0k6PMB2bu6EM1dXdw&utm_campaign=yelp_api_v3&utm_medium=api_v3_business_search&utm_source=eyY_X0k6PMB2bu6EM1dXdw',\n",
       "  'review_count': 1,\n",
       "  'categories': [{'alias': 'wineries', 'title': 'Wineries'}],\n",
       "  'rating': 5.0,\n",
       "  'coordinates': {'latitude': 34.2032699584961,\n",
       "   'longitude': -118.326591491699},\n",
       "  'transactions': [],\n",
       "  'location': {'address1': None,\n",
       "   'address2': None,\n",
       "   'address3': '',\n",
       "   'city': 'Burbank',\n",
       "   'zip_code': '91504',\n",
       "   'country': 'US',\n",
       "   'state': 'CA',\n",
       "   'display_address': ['Burbank, CA 91504']},\n",
       "  'phone': '+18186062172',\n",
       "  'display_phone': '(818) 606-2172',\n",
       "  'distance': 50230.30101031912},\n",
       " {'id': 'zdOfs5gVo2_h6AWIvUY9_g',\n",
       "  'alias': 'frisby-cellars-lake-forest-2',\n",
       "  'name': 'Frisby Cellars',\n",
       "  'image_url': 'https://s3-media4.fl.yelpcdn.com/bphoto/1fvlMEJQoEM97Qc56o69ZQ/o.jpg',\n",
       "  'is_closed': False,\n",
       "  'url': 'https://www.yelp.com/biz/frisby-cellars-lake-forest-2?adjust_creative=eyY_X0k6PMB2bu6EM1dXdw&utm_campaign=yelp_api_v3&utm_medium=api_v3_business_search&utm_source=eyY_X0k6PMB2bu6EM1dXdw',\n",
       "  'review_count': 61,\n",
       "  'categories': [{'alias': 'wineries', 'title': 'Wineries'}],\n",
       "  'rating': 4.5,\n",
       "  'coordinates': {'latitude': 33.6668001932167,\n",
       "   'longitude': -117.663388730164},\n",
       "  'transactions': [],\n",
       "  'price': '$$',\n",
       "  'location': {'address1': '20331 Lake Forest Dr',\n",
       "   'address2': 'Ste C-3',\n",
       "   'address3': '',\n",
       "   'city': 'Lake Forest',\n",
       "   'zip_code': '92630',\n",
       "   'country': 'US',\n",
       "   'state': 'CA',\n",
       "   'display_address': ['20331 Lake Forest Dr',\n",
       "    'Ste C-3',\n",
       "    'Lake Forest, CA 92630']},\n",
       "  'phone': '+19492436691',\n",
       "  'display_phone': '(949) 243-6691',\n",
       "  'distance': 56855.777471772104},\n",
       " {'id': '1wF_8a3n2Neg4o56dOzLsw',\n",
       "  'alias': 'malibu-wine-and-nature-tours-malibu',\n",
       "  'name': 'Malibu Wine and Nature Tours',\n",
       "  'image_url': 'https://s3-media1.fl.yelpcdn.com/bphoto/Yk_S4J0WeOXjdk0HhvCsLA/o.jpg',\n",
       "  'is_closed': False,\n",
       "  'url': 'https://www.yelp.com/biz/malibu-wine-and-nature-tours-malibu?adjust_creative=eyY_X0k6PMB2bu6EM1dXdw&utm_campaign=yelp_api_v3&utm_medium=api_v3_business_search&utm_source=eyY_X0k6PMB2bu6EM1dXdw',\n",
       "  'review_count': 34,\n",
       "  'categories': [{'alias': 'winetours', 'title': 'Wine Tours'}],\n",
       "  'rating': 5.0,\n",
       "  'coordinates': {'latitude': 34.0365180969238,\n",
       "   'longitude': -118.687957763672},\n",
       "  'transactions': [],\n",
       "  'location': {'address1': None,\n",
       "   'address2': None,\n",
       "   'address3': '',\n",
       "   'city': 'Malibu',\n",
       "   'zip_code': '90024',\n",
       "   'country': 'US',\n",
       "   'state': 'CA',\n",
       "   'display_address': ['Malibu, CA 90024']},\n",
       "  'phone': '+13104567651',\n",
       "  'display_phone': '(310) 456-7651',\n",
       "  'distance': 61177.48339757319},\n",
       " {'id': 'PWzapJFDDxi_gAWUiLjiyQ',\n",
       "  'alias': 'little-black-glass-redlands',\n",
       "  'name': 'Little Black Glass',\n",
       "  'image_url': 'https://s3-media2.fl.yelpcdn.com/bphoto/rDMvA0b3e3K6yWJsGRdvuA/o.jpg',\n",
       "  'is_closed': False,\n",
       "  'url': 'https://www.yelp.com/biz/little-black-glass-redlands?adjust_creative=eyY_X0k6PMB2bu6EM1dXdw&utm_campaign=yelp_api_v3&utm_medium=api_v3_business_search&utm_source=eyY_X0k6PMB2bu6EM1dXdw',\n",
       "  'review_count': 25,\n",
       "  'categories': [{'alias': 'winetastingroom', 'title': 'Wine Tasting Room'},\n",
       "   {'alias': 'wine_bars', 'title': 'Wine Bars'},\n",
       "   {'alias': 'speakeasies', 'title': 'Speakeasies'}],\n",
       "  'rating': 4.5,\n",
       "  'coordinates': {'latitude': 34.0568719122245,\n",
       "   'longitude': -117.182387262583},\n",
       "  'transactions': [],\n",
       "  'price': '$$',\n",
       "  'location': {'address1': '108 Orange St',\n",
       "   'address2': 'Ste 2',\n",
       "   'address3': 'Maserve Building',\n",
       "   'city': 'Redlands',\n",
       "   'zip_code': '92373',\n",
       "   'country': 'US',\n",
       "   'state': 'CA',\n",
       "   'display_address': ['108 Orange St',\n",
       "    'Ste 2',\n",
       "    'Maserve Building',\n",
       "    'Redlands, CA 92373']},\n",
       "  'phone': '+19515266272',\n",
       "  'display_phone': '(951) 526-6272',\n",
       "  'distance': 56789.34832066961},\n",
       " {'id': 'NHjSAmBMNFcNzEVe-zt2qQ',\n",
       "  'alias': 'castle-rock-winery-palos-verdes-estates',\n",
       "  'name': 'Castle Rock Winery',\n",
       "  'image_url': '',\n",
       "  'is_closed': False,\n",
       "  'url': 'https://www.yelp.com/biz/castle-rock-winery-palos-verdes-estates?adjust_creative=eyY_X0k6PMB2bu6EM1dXdw&utm_campaign=yelp_api_v3&utm_medium=api_v3_business_search&utm_source=eyY_X0k6PMB2bu6EM1dXdw',\n",
       "  'review_count': 2,\n",
       "  'categories': [{'alias': 'wineries', 'title': 'Wineries'}],\n",
       "  'rating': 4.5,\n",
       "  'coordinates': {'latitude': 33.7998761, 'longitude': -118.3896836},\n",
       "  'transactions': [],\n",
       "  'location': {'address1': '75 Malaga Cove Plz',\n",
       "   'address2': 'Ste 7',\n",
       "   'address3': '',\n",
       "   'city': 'Palos Verdes Estates',\n",
       "   'zip_code': '90274',\n",
       "   'country': 'US',\n",
       "   'state': 'CA',\n",
       "   'display_address': ['75 Malaga Cove Plz',\n",
       "    'Ste 7',\n",
       "    'Palos Verdes Estates, CA 90274']},\n",
       "  'phone': '+13103759107',\n",
       "  'display_phone': '(310) 375-9107',\n",
       "  'distance': 69226.97535865585},\n",
       " {'id': '1Jkz2ltCYUe3V5awk3ro9w',\n",
       "  'alias': 'vendome-wine-and-spirits-fullerton',\n",
       "  'name': 'Vendome Wine & Spirits',\n",
       "  'image_url': 'https://s3-media4.fl.yelpcdn.com/bphoto/8QBzakNYk1F-uYUQm_h5iQ/o.jpg',\n",
       "  'is_closed': False,\n",
       "  'url': 'https://www.yelp.com/biz/vendome-wine-and-spirits-fullerton?adjust_creative=eyY_X0k6PMB2bu6EM1dXdw&utm_campaign=yelp_api_v3&utm_medium=api_v3_business_search&utm_source=eyY_X0k6PMB2bu6EM1dXdw',\n",
       "  'review_count': 71,\n",
       "  'categories': [{'alias': 'beer_and_wine', 'title': 'Beer, Wine & Spirits'},\n",
       "   {'alias': 'winetastingroom', 'title': 'Wine Tasting Room'}],\n",
       "  'rating': 4.0,\n",
       "  'coordinates': {'latitude': 33.8893292323425,\n",
       "   'longitude': -117.871084265436},\n",
       "  'transactions': ['pickup', 'delivery'],\n",
       "  'price': '$$',\n",
       "  'location': {'address1': '3115 Yorba Linda Blvd',\n",
       "   'address2': '',\n",
       "   'address3': '',\n",
       "   'city': 'Fullerton',\n",
       "   'zip_code': '92831',\n",
       "   'country': 'US',\n",
       "   'state': 'CA',\n",
       "   'display_address': ['3115 Yorba Linda Blvd', 'Fullerton, CA 92831']},\n",
       "  'phone': '+17145240800',\n",
       "  'display_phone': '(714) 524-0800',\n",
       "  'distance': 32016.012628018856},\n",
       " {'id': 'UaRWciinX5wX23SpGIKyAA',\n",
       "  'alias': 'good-luck-wine-shop-pasadena',\n",
       "  'name': 'Good Luck Wine Shop',\n",
       "  'image_url': 'https://s3-media1.fl.yelpcdn.com/bphoto/LCmqGrhuuXY0DPySFO2cJQ/o.jpg',\n",
       "  'is_closed': False,\n",
       "  'url': 'https://www.yelp.com/biz/good-luck-wine-shop-pasadena?adjust_creative=eyY_X0k6PMB2bu6EM1dXdw&utm_campaign=yelp_api_v3&utm_medium=api_v3_business_search&utm_source=eyY_X0k6PMB2bu6EM1dXdw',\n",
       "  'review_count': 7,\n",
       "  'categories': [{'alias': 'beer_and_wine', 'title': 'Beer, Wine & Spirits'},\n",
       "   {'alias': 'wineries', 'title': 'Wineries'},\n",
       "   {'alias': 'beverage_stores', 'title': 'Beverage Store'}],\n",
       "  'rating': 5.0,\n",
       "  'coordinates': {'latitude': 34.150193, 'longitude': -118.083832},\n",
       "  'transactions': [],\n",
       "  'location': {'address1': '3225 E Foothill Blvd',\n",
       "   'address2': '',\n",
       "   'address3': None,\n",
       "   'city': 'Pasadena',\n",
       "   'zip_code': '91107',\n",
       "   'country': 'US',\n",
       "   'state': 'CA',\n",
       "   'display_address': ['3225 E Foothill Blvd', 'Pasadena, CA 91107']},\n",
       "  'phone': '+16263143022',\n",
       "  'display_phone': '(626) 314-3022',\n",
       "  'distance': 27621.314437738158},\n",
       " {'id': 'xLTAW1TkCejUdQR75Ri13Q',\n",
       "  'alias': 'suveg-cellars-yucaipa',\n",
       "  'name': 'Suveg Cellars',\n",
       "  'image_url': 'https://s3-media1.fl.yelpcdn.com/bphoto/RLtkzwRV68VcAhEbCONITw/o.jpg',\n",
       "  'is_closed': False,\n",
       "  'url': 'https://www.yelp.com/biz/suveg-cellars-yucaipa?adjust_creative=eyY_X0k6PMB2bu6EM1dXdw&utm_campaign=yelp_api_v3&utm_medium=api_v3_business_search&utm_source=eyY_X0k6PMB2bu6EM1dXdw',\n",
       "  'review_count': 30,\n",
       "  'categories': [{'alias': 'wineries', 'title': 'Wineries'}],\n",
       "  'rating': 4.5,\n",
       "  'coordinates': {'latitude': 34.0332406, 'longitude': -117.0390493},\n",
       "  'transactions': [],\n",
       "  'price': '$$',\n",
       "  'location': {'address1': '12132 California St',\n",
       "   'address2': '',\n",
       "   'address3': '',\n",
       "   'city': 'Yucaipa',\n",
       "   'zip_code': '92399',\n",
       "   'country': 'US',\n",
       "   'state': 'CA',\n",
       "   'display_address': ['12132 California St', 'Yucaipa, CA 92399']},\n",
       "  'phone': '+19097682220',\n",
       "  'display_phone': '(909) 768-2220',\n",
       "  'distance': 70250.83394837036}]"
      ]
     },
     "execution_count": 8,
     "metadata": {},
     "output_type": "execute_result"
    }
   ],
   "source": [
    "response['businesses']"
   ]
  },
  {
   "cell_type": "code",
   "execution_count": 176,
   "metadata": {
    "ExecuteTime": {
     "end_time": "2021-05-12T21:51:35.538167Z",
     "start_time": "2021-05-12T21:51:35.520136Z"
    },
    "code_folding": [],
    "scrolled": true
   },
   "outputs": [
    {
     "data": {
      "text/plain": [
       "{'id': '4N2pC-h3Ba6qUQ7cN4xP-g',\n",
       " 'alias': 'san-antonio-winery-ontario',\n",
       " 'name': 'San Antonio Winery',\n",
       " 'image_url': 'https://s3-media2.fl.yelpcdn.com/bphoto/__5IBirgkaHoRGdVnUIdng/o.jpg',\n",
       " 'is_closed': False,\n",
       " 'url': 'https://www.yelp.com/biz/san-antonio-winery-ontario?adjust_creative=eyY_X0k6PMB2bu6EM1dXdw&utm_campaign=yelp_api_v3&utm_medium=api_v3_business_search&utm_source=eyY_X0k6PMB2bu6EM1dXdw',\n",
       " 'review_count': 248,\n",
       " 'categories': [{'alias': 'wineries', 'title': 'Wineries'}],\n",
       " 'rating': 4.0,\n",
       " 'coordinates': {'latitude': 34.022224, 'longitude': -117.558985},\n",
       " 'transactions': [],\n",
       " 'price': '$$',\n",
       " 'location': {'address1': '2802 S Milliken Ave',\n",
       "  'address2': None,\n",
       "  'address3': '',\n",
       "  'city': 'Ontario',\n",
       "  'zip_code': '91761',\n",
       "  'country': 'US',\n",
       "  'state': 'CA',\n",
       "  'display_address': ['2802 S Milliken Ave', 'Ontario, CA 91761']},\n",
       " 'phone': '+19099473995',\n",
       " 'display_phone': '(909) 947-3995',\n",
       " 'distance': 26348.268371330654}"
      ]
     },
     "execution_count": 176,
     "metadata": {},
     "output_type": "execute_result"
    }
   ],
   "source": [
    "# Show first item w/in list of businesses\n",
    "\n",
    "response['businesses'][0]"
   ]
  },
  {
   "cell_type": "code",
   "execution_count": 10,
   "metadata": {
    "ExecuteTime": {
     "end_time": "2021-05-12T19:10:47.568166Z",
     "start_time": "2021-05-12T19:10:47.556167Z"
    }
   },
   "outputs": [
    {
     "data": {
      "text/plain": [
       "'wineries'"
      ]
     },
     "execution_count": 10,
     "metadata": {},
     "output_type": "execute_result"
    }
   ],
   "source": [
    "response['businesses'][0]['categories'][0]['alias']"
   ]
  },
  {
   "cell_type": "code",
   "execution_count": 11,
   "metadata": {
    "ExecuteTime": {
     "end_time": "2021-05-12T19:10:47.584164Z",
     "start_time": "2021-05-12T19:10:47.570166Z"
    }
   },
   "outputs": [
    {
     "data": {
      "text/plain": [
       "'Wineries'"
      ]
     },
     "execution_count": 11,
     "metadata": {},
     "output_type": "execute_result"
    }
   ],
   "source": [
    "response['businesses'][0]['categories'][0]['title']"
   ]
  },
  {
   "cell_type": "markdown",
   "metadata": {},
   "source": [
    "#### Exploring the \"Total\" Key"
   ]
  },
  {
   "cell_type": "code",
   "execution_count": 12,
   "metadata": {
    "ExecuteTime": {
     "end_time": "2021-05-12T19:10:47.599166Z",
     "start_time": "2021-05-12T19:10:47.587169Z"
    }
   },
   "outputs": [
    {
     "data": {
      "text/plain": [
       "494"
      ]
     },
     "execution_count": 12,
     "metadata": {},
     "output_type": "execute_result"
    }
   ],
   "source": [
    "response['total']\n",
    "\n",
    "# How many businesses are there in total for my request?"
   ]
  },
  {
   "cell_type": "markdown",
   "metadata": {},
   "source": [
    "#### Exploring the \"Region\" Key"
   ]
  },
  {
   "cell_type": "code",
   "execution_count": 13,
   "metadata": {
    "ExecuteTime": {
     "end_time": "2021-05-12T19:10:47.615168Z",
     "start_time": "2021-05-12T19:10:47.601168Z"
    }
   },
   "outputs": [
    {
     "data": {
      "text/plain": [
       "{'center': {'longitude': -117.784423828125, 'latitude': 34.16815524147703}}"
      ]
     },
     "execution_count": 13,
     "metadata": {},
     "output_type": "execute_result"
    }
   ],
   "source": [
    "response['region']\n",
    "\n",
    "# From which geographical area will my results come?"
   ]
  },
  {
   "cell_type": "markdown",
   "metadata": {},
   "source": [
    "## Parse"
   ]
  },
  {
   "cell_type": "markdown",
   "metadata": {
    "ExecuteTime": {
     "end_time": "2021-05-10T21:41:29.180856Z",
     "start_time": "2021-05-10T21:41:29.173856Z"
    }
   },
   "source": [
    "### ƒ: parse_data"
   ]
  },
  {
   "cell_type": "code",
   "execution_count": 14,
   "metadata": {
    "ExecuteTime": {
     "end_time": "2021-05-12T19:10:47.630170Z",
     "start_time": "2021-05-12T19:10:47.618171Z"
    },
    "code_folding": []
   },
   "outputs": [],
   "source": [
    "def parse_data(list_of_data):\n",
    "    '''Adapted from Tyrell's code'''  \n",
    "\n",
    "    # Create empty list to store results\n",
    "    \n",
    "    parsed_data = []\n",
    "    \n",
    "    # Loop through each business in the list of businesses\n",
    "    # Add specific k:v pairs to a dictionary\n",
    "    \n",
    "    for business in list_of_data:\n",
    "        if 'price' not in business:\n",
    "            business['price'] = np.nan\n",
    "            \n",
    "            # Verify that the \"price\" key is in the selected business dict\n",
    "            \n",
    "        details = {'name': business['name'],\n",
    "                     'location': ' '.join(business['location']['display_address']),\n",
    "                     'id': business['id'],\n",
    "                     'alias': business['categories'][0]['alias'],\n",
    "                     'title': business['categories'][0]['title'],\n",
    "                     'rating': business['rating'],\n",
    "                     'review_count': business['review_count'],\n",
    "                     'price': business['price'],\n",
    "                     'latitude': business['coordinates']['latitude'],\n",
    "                     'longitude': business['coordinates']['longitude']\n",
    "                    }\n",
    "        # Add the new dictionary to the previous list\n",
    "        \n",
    "        parsed_data.append(details)\n",
    "    \n",
    "    # Create a DataFrame from the resulting list\n",
    "    \n",
    "    df_parsed_data = pd.DataFrame(parsed_data)\n",
    "\n",
    "    \n",
    "    return df_parsed_data"
   ]
  },
  {
   "cell_type": "markdown",
   "metadata": {
    "ExecuteTime": {
     "end_time": "2021-05-10T22:37:53.049725Z",
     "start_time": "2021-05-10T22:37:53.042727Z"
    }
   },
   "source": [
    "## Updating Requests for Pagination"
   ]
  },
  {
   "cell_type": "markdown",
   "metadata": {},
   "source": [
    "### ƒ: yelp_request_offset"
   ]
  },
  {
   "cell_type": "code",
   "execution_count": 15,
   "metadata": {
    "ExecuteTime": {
     "end_time": "2021-05-12T19:10:47.646199Z",
     "start_time": "2021-05-12T19:10:47.634172Z"
    },
    "code_folding": []
   },
   "outputs": [],
   "source": [
    "def yelp_request_offset(term, location, yelp_key, offset=0, verbose=False):\n",
    "    '''Adapted from Yelp API Lab: https://github.com/BenJMcCarty/dsc-yelp-api-lab/tree/solution'''\n",
    "    \n",
    "    url = 'https://api.yelp.com/v3/businesses/search'\n",
    "\n",
    "    headers = {\n",
    "            'Authorization': 'Bearer {}'.format(yelp_key),\n",
    "        }\n",
    "\n",
    "    url_params = {\n",
    "                    'term': term.replace(' ', '+'),\n",
    "                    'location': location.replace(' ', '+'),\n",
    "                    'limit': 50,\n",
    "                    'offset': offset\n",
    "                        }\n",
    "    \n",
    "    response = requests.get(url, headers=headers, params=url_params)\n",
    "    \n",
    "    if verbose == True:\n",
    "        print(response)\n",
    "        print(type(response.text))\n",
    "        print(response.text[:1000])\n",
    "        \n",
    "    return response.json()"
   ]
  },
  {
   "cell_type": "markdown",
   "metadata": {
    "ExecuteTime": {
     "end_time": "2021-05-10T21:52:21.177479Z",
     "start_time": "2021-05-10T21:52:21.167481Z"
    }
   },
   "source": [
    "#### Test 1"
   ]
  },
  {
   "cell_type": "code",
   "execution_count": 16,
   "metadata": {
    "ExecuteTime": {
     "end_time": "2021-05-12T19:10:47.662188Z",
     "start_time": "2021-05-12T19:10:47.649173Z"
    }
   },
   "outputs": [],
   "source": [
    "# test1 = yelp_request_offset('winery', 'San Diego', yelp_key)\n",
    "# test1"
   ]
  },
  {
   "cell_type": "code",
   "execution_count": 17,
   "metadata": {
    "ExecuteTime": {
     "end_time": "2021-05-12T19:10:47.678174Z",
     "start_time": "2021-05-12T19:10:47.665173Z"
    }
   },
   "outputs": [],
   "source": [
    "# test1.keys()"
   ]
  },
  {
   "cell_type": "code",
   "execution_count": 18,
   "metadata": {
    "ExecuteTime": {
     "end_time": "2021-05-12T19:10:47.694193Z",
     "start_time": "2021-05-12T19:10:47.681172Z"
    },
    "scrolled": true
   },
   "outputs": [],
   "source": [
    "# test1['total']"
   ]
  },
  {
   "cell_type": "code",
   "execution_count": 19,
   "metadata": {
    "ExecuteTime": {
     "end_time": "2021-05-12T19:10:47.710171Z",
     "start_time": "2021-05-12T19:10:47.696173Z"
    }
   },
   "outputs": [],
   "source": [
    "# test1['businesses'][0]"
   ]
  },
  {
   "cell_type": "markdown",
   "metadata": {},
   "source": [
    "## Edit and Condense"
   ]
  },
  {
   "cell_type": "markdown",
   "metadata": {},
   "source": [
    "Goal: condense the details down to specific functions (perhaps one function?) to pull, clean, and save data."
   ]
  },
  {
   "cell_type": "markdown",
   "metadata": {},
   "source": [
    "While it will take some experimentation to write the functions above, once you get them working it will be best to put them in a `.py` file and then import the functions to use in a script "
   ]
  },
  {
   "cell_type": "markdown",
   "metadata": {},
   "source": [
    "# ƒ: GET BUSINESSES (ALL)"
   ]
  },
  {
   "cell_type": "code",
   "execution_count": 20,
   "metadata": {
    "ExecuteTime": {
     "end_time": "2021-05-12T19:10:47.725174Z",
     "start_time": "2021-05-12T19:10:47.713173Z"
    },
    "code_folding": []
   },
   "outputs": [],
   "source": [
    "def get_full_data(term, location, yelp_key, file_name = 'data/wineries_raw.csv'):\n",
    "    '''Requests all results from Yelp API; saves as a .csv; and returns a DataFrame.'''\n",
    "\n",
    "    # Create a .csv to store results\n",
    "    blank_df = pd.DataFrame()\n",
    "    blank_df.to_csv(file_name)\n",
    "    \n",
    "    # Process first request to Yelp API and calculate number of pages \n",
    "    results = yelp_request_offset(term, location, yelp_key, offset=0, \n",
    "                                  verbose=False)\n",
    "    num_pages = results['total']//50+1\n",
    "    \n",
    "    # Print out confirmation feedback\n",
    "    print(f'For {term} and {location}: ')\n",
    "    print(f\"    Total number of results: {results['total']}.\")\n",
    "    print(f'    Total number of pages: {num_pages}.')\n",
    "    \n",
    "    # Create offset for further results and create empty list\n",
    "    offset = 0\n",
    "\n",
    "    # Retrieves remaining pages\n",
    "    for num in range(num_pages-1):\n",
    "        try:\n",
    "            # Process API request\n",
    "            results = yelp_request_offset(term, location, yelp_key,\n",
    "                                          offset=offset, verbose=False)\n",
    "            \n",
    "            # From results, take values from \"Businesses\" key and save\n",
    "            parsed_results = parse_data(results['businesses'])\n",
    "          \n",
    "            # Save resulting DF to .csv from top\n",
    "            parsed_results.to_csv(file_name, mode='a', index = False)\n",
    "            \n",
    "            # Increase offset to move to next \"page\" of data\n",
    "            offset += 50\n",
    "            \n",
    "        except:\n",
    "            # If error, print where the error happens\n",
    "            print(f'Error on page {num}.')\n",
    "            # Then save the results so far to the .csv\n",
    "            parsed_results.to_csv(file_name, mode='a', index = False)\n",
    "\n",
    "\n",
    "    return parsed_results"
   ]
  },
  {
   "cell_type": "code",
   "execution_count": 21,
   "metadata": {
    "ExecuteTime": {
     "end_time": "2021-05-12T19:10:47.740176Z",
     "start_time": "2021-05-12T19:10:47.727174Z"
    },
    "code_folding": []
   },
   "outputs": [],
   "source": [
    "# # Read saved data from .csv from above\n",
    "\n",
    "# df2 = pd.read_csv('data/wineries_raw.csv', header = 0)\n",
    "# df2"
   ]
  },
  {
   "cell_type": "markdown",
   "metadata": {},
   "source": [
    "# Cleaning Data"
   ]
  },
  {
   "cell_type": "markdown",
   "metadata": {},
   "source": [
    "# ƒ: SORT_BY_ALIASES"
   ]
  },
  {
   "cell_type": "markdown",
   "metadata": {},
   "source": [
    "Identifying, Filtering for, and Saving Top 2 Aliases"
   ]
  },
  {
   "cell_type": "code",
   "execution_count": 22,
   "metadata": {
    "ExecuteTime": {
     "end_time": "2021-05-12T19:10:47.756206Z",
     "start_time": "2021-05-12T19:10:47.742190Z"
    },
    "code_folding": []
   },
   "outputs": [],
   "source": [
    "def sort_by_aliases(raw_data = 'data/wineries_raw.csv'):\n",
    "\n",
    "    # Read in businesses\n",
    "    df2 = pd.read_csv(raw_data, header = 0)\n",
    "\n",
    "    # Create new DF filtering alias and title columns\n",
    "    df2_alias = df2.loc[:,['alias', 'title']]\n",
    "\n",
    "    # Identify top 2 aliases \n",
    "    df2_alias_count = df2_alias.groupby('alias').count().sort_values(['title'],\\\n",
    "                                                            ascending=False)[:2]\n",
    "\n",
    "    # Note: initially tried top 3, but it returned distributors, not wineries\n",
    "\n",
    "    df2_alias_count.reset_index(inplace=True)\n",
    "    \n",
    "    print(\"Top two aliases: \")\n",
    "    print(df2_alias_count)\n",
    "\n",
    "    # display them as a list\n",
    "    aliases_top_2 = df2_alias_count['alias'].tolist()\n",
    "\n",
    "    # Selecting rows based on condition and saving\n",
    "\n",
    "    df3 = df2[df2['alias'].isin(aliases_top_2)]\n",
    "\n",
    "    df3.to_csv('data/wineries_filtered_alias.csv', index = False)\n",
    "    print(\"Saved to 'data/wineries_filtered_alias.csv'\")\n",
    "    \n",
    "    return df3"
   ]
  },
  {
   "cell_type": "code",
   "execution_count": 23,
   "metadata": {
    "ExecuteTime": {
     "end_time": "2021-05-12T19:10:47.803178Z",
     "start_time": "2021-05-12T19:10:47.758177Z"
    },
    "scrolled": true
   },
   "outputs": [
    {
     "name": "stdout",
     "output_type": "stream",
     "text": [
      "Top two aliases: \n",
      "             alias  title\n",
      "0         wineries     49\n",
      "1  winetastingroom     33\n",
      "Saved to 'data/wineries_filtered_alias.csv'\n"
     ]
    },
    {
     "data": {
      "text/html": [
       "<div>\n",
       "<style scoped>\n",
       "    .dataframe tbody tr th:only-of-type {\n",
       "        vertical-align: middle;\n",
       "    }\n",
       "\n",
       "    .dataframe tbody tr th {\n",
       "        vertical-align: top;\n",
       "    }\n",
       "\n",
       "    .dataframe thead th {\n",
       "        text-align: right;\n",
       "    }\n",
       "</style>\n",
       "<table border=\"1\" class=\"dataframe\">\n",
       "  <thead>\n",
       "    <tr style=\"text-align: right;\">\n",
       "      <th></th>\n",
       "      <th>name</th>\n",
       "      <th>location</th>\n",
       "      <th>id</th>\n",
       "      <th>alias</th>\n",
       "      <th>title</th>\n",
       "      <th>rating</th>\n",
       "      <th>review_count</th>\n",
       "      <th>price</th>\n",
       "      <th>latitude</th>\n",
       "      <th>longitude</th>\n",
       "    </tr>\n",
       "  </thead>\n",
       "  <tbody>\n",
       "    <tr>\n",
       "      <th>1</th>\n",
       "      <td>Bernardo Winery</td>\n",
       "      <td>13330 Paseo Del Verano Norte San Diego, CA 92128</td>\n",
       "      <td>DknnpiG1p4OoM1maFshzXA</td>\n",
       "      <td>winetastingroom</td>\n",
       "      <td>Wine Tasting Room</td>\n",
       "      <td>4.5</td>\n",
       "      <td>626</td>\n",
       "      <td>$$</td>\n",
       "      <td>33.032800</td>\n",
       "      <td>-117.046460</td>\n",
       "    </tr>\n",
       "    <tr>\n",
       "      <th>3</th>\n",
       "      <td>Callaway Vineyard &amp; Winery</td>\n",
       "      <td>517 4th Ave Ste 101 San Diego, CA 92101</td>\n",
       "      <td>Cn2_bpTngghYW1ej4zreZg</td>\n",
       "      <td>winetastingroom</td>\n",
       "      <td>Wine Tasting Room</td>\n",
       "      <td>5.0</td>\n",
       "      <td>100</td>\n",
       "      <td>$$</td>\n",
       "      <td>32.710751</td>\n",
       "      <td>-117.160918</td>\n",
       "    </tr>\n",
       "    <tr>\n",
       "      <th>4</th>\n",
       "      <td>Négociant Winery</td>\n",
       "      <td>2419 El Cajon Blvd San Diego, CA 92104</td>\n",
       "      <td>Cc1sQWRWgGyMCjzX2mmMQQ</td>\n",
       "      <td>winetastingroom</td>\n",
       "      <td>Wine Tasting Room</td>\n",
       "      <td>4.5</td>\n",
       "      <td>103</td>\n",
       "      <td>$$</td>\n",
       "      <td>32.754880</td>\n",
       "      <td>-117.138280</td>\n",
       "    </tr>\n",
       "    <tr>\n",
       "      <th>5</th>\n",
       "      <td>San Pasqual Winery - Seaport Village</td>\n",
       "      <td>805 W Harbor Dr San Diego, CA 92101</td>\n",
       "      <td>gMW1RvyLu90RSQAY9UrIHw</td>\n",
       "      <td>winetastingroom</td>\n",
       "      <td>Wine Tasting Room</td>\n",
       "      <td>4.5</td>\n",
       "      <td>138</td>\n",
       "      <td>$$</td>\n",
       "      <td>32.708732</td>\n",
       "      <td>-117.168195</td>\n",
       "    </tr>\n",
       "    <tr>\n",
       "      <th>6</th>\n",
       "      <td>Domaine Artefact Vineyard &amp; Winery</td>\n",
       "      <td>15404 Highland Valley Rd Escondido, CA 92025</td>\n",
       "      <td>WqVbxY77Ag96X90LultCUw</td>\n",
       "      <td>wineries</td>\n",
       "      <td>Wineries</td>\n",
       "      <td>5.0</td>\n",
       "      <td>96</td>\n",
       "      <td>$$</td>\n",
       "      <td>33.068170</td>\n",
       "      <td>-117.001600</td>\n",
       "    </tr>\n",
       "    <tr>\n",
       "      <th>...</th>\n",
       "      <td>...</td>\n",
       "      <td>...</td>\n",
       "      <td>...</td>\n",
       "      <td>...</td>\n",
       "      <td>...</td>\n",
       "      <td>...</td>\n",
       "      <td>...</td>\n",
       "      <td>...</td>\n",
       "      <td>...</td>\n",
       "      <td>...</td>\n",
       "    </tr>\n",
       "    <tr>\n",
       "      <th>140</th>\n",
       "      <td>Roll OutThe Barrell Charity Event by Meritage</td>\n",
       "      <td>162 S Rancho Santa Fe Rd Encinitas, CA 92024</td>\n",
       "      <td>wyLm9fIoamN-VALcu3nUVg</td>\n",
       "      <td>wineries</td>\n",
       "      <td>Wineries</td>\n",
       "      <td>4.0</td>\n",
       "      <td>1</td>\n",
       "      <td>NaN</td>\n",
       "      <td>33.037121</td>\n",
       "      <td>-117.238654</td>\n",
       "    </tr>\n",
       "    <tr>\n",
       "      <th>145</th>\n",
       "      <td>Licores Kentucky</td>\n",
       "      <td>Calle Puerto y 3ra S/N Col. Centro 22000 Tijua...</td>\n",
       "      <td>B7gID-M2EsdpthrTcwTNYA</td>\n",
       "      <td>wineries</td>\n",
       "      <td>Wineries</td>\n",
       "      <td>5.0</td>\n",
       "      <td>1</td>\n",
       "      <td>NaN</td>\n",
       "      <td>32.534236</td>\n",
       "      <td>-117.034976</td>\n",
       "    </tr>\n",
       "    <tr>\n",
       "      <th>148</th>\n",
       "      <td>Barrica 9</td>\n",
       "      <td>Av. Revolución 1265 Col. Zona Centro 22000 Tij...</td>\n",
       "      <td>HxTqmzT4G43iAKXrB3pqQg</td>\n",
       "      <td>winetastingroom</td>\n",
       "      <td>Wine Tasting Room</td>\n",
       "      <td>4.5</td>\n",
       "      <td>7</td>\n",
       "      <td>$$</td>\n",
       "      <td>32.530430</td>\n",
       "      <td>-117.036500</td>\n",
       "    </tr>\n",
       "    <tr>\n",
       "      <th>165</th>\n",
       "      <td>RL Liquid Assets, Inc</td>\n",
       "      <td>5909 Sea Lion Pl Ste G Carlsbad, CA 92010</td>\n",
       "      <td>#NAME?</td>\n",
       "      <td>wineries</td>\n",
       "      <td>Wineries</td>\n",
       "      <td>3.0</td>\n",
       "      <td>2</td>\n",
       "      <td>NaN</td>\n",
       "      <td>33.134743</td>\n",
       "      <td>-117.248093</td>\n",
       "    </tr>\n",
       "    <tr>\n",
       "      <th>190</th>\n",
       "      <td>Cactus Star Vineyard at Scaredy Cat Ranch</td>\n",
       "      <td>17029 Handlebar Rd Ramona, CA 92065</td>\n",
       "      <td>ZeiVSF1SMdVVSkiGE7qaSg</td>\n",
       "      <td>winetastingroom</td>\n",
       "      <td>Wine Tasting Room</td>\n",
       "      <td>5.0</td>\n",
       "      <td>8</td>\n",
       "      <td>$</td>\n",
       "      <td>33.020150</td>\n",
       "      <td>-116.928140</td>\n",
       "    </tr>\n",
       "  </tbody>\n",
       "</table>\n",
       "<p>82 rows × 10 columns</p>\n",
       "</div>"
      ],
      "text/plain": [
       "                                              name  \\\n",
       "1                                  Bernardo Winery   \n",
       "3                       Callaway Vineyard & Winery   \n",
       "4                                 Négociant Winery   \n",
       "5             San Pasqual Winery - Seaport Village   \n",
       "6               Domaine Artefact Vineyard & Winery   \n",
       "..                                             ...   \n",
       "140  Roll OutThe Barrell Charity Event by Meritage   \n",
       "145                               Licores Kentucky   \n",
       "148                                      Barrica 9   \n",
       "165                          RL Liquid Assets, Inc   \n",
       "190      Cactus Star Vineyard at Scaredy Cat Ranch   \n",
       "\n",
       "                                              location  \\\n",
       "1     13330 Paseo Del Verano Norte San Diego, CA 92128   \n",
       "3              517 4th Ave Ste 101 San Diego, CA 92101   \n",
       "4               2419 El Cajon Blvd San Diego, CA 92104   \n",
       "5                  805 W Harbor Dr San Diego, CA 92101   \n",
       "6         15404 Highland Valley Rd Escondido, CA 92025   \n",
       "..                                                 ...   \n",
       "140       162 S Rancho Santa Fe Rd Encinitas, CA 92024   \n",
       "145  Calle Puerto y 3ra S/N Col. Centro 22000 Tijua...   \n",
       "148  Av. Revolución 1265 Col. Zona Centro 22000 Tij...   \n",
       "165          5909 Sea Lion Pl Ste G Carlsbad, CA 92010   \n",
       "190                17029 Handlebar Rd Ramona, CA 92065   \n",
       "\n",
       "                         id            alias              title  rating  \\\n",
       "1    DknnpiG1p4OoM1maFshzXA  winetastingroom  Wine Tasting Room     4.5   \n",
       "3    Cn2_bpTngghYW1ej4zreZg  winetastingroom  Wine Tasting Room     5.0   \n",
       "4    Cc1sQWRWgGyMCjzX2mmMQQ  winetastingroom  Wine Tasting Room     4.5   \n",
       "5    gMW1RvyLu90RSQAY9UrIHw  winetastingroom  Wine Tasting Room     4.5   \n",
       "6    WqVbxY77Ag96X90LultCUw         wineries           Wineries     5.0   \n",
       "..                      ...              ...                ...     ...   \n",
       "140  wyLm9fIoamN-VALcu3nUVg         wineries           Wineries     4.0   \n",
       "145  B7gID-M2EsdpthrTcwTNYA         wineries           Wineries     5.0   \n",
       "148  HxTqmzT4G43iAKXrB3pqQg  winetastingroom  Wine Tasting Room     4.5   \n",
       "165                  #NAME?         wineries           Wineries     3.0   \n",
       "190  ZeiVSF1SMdVVSkiGE7qaSg  winetastingroom  Wine Tasting Room     5.0   \n",
       "\n",
       "     review_count price   latitude   longitude  \n",
       "1             626    $$  33.032800 -117.046460  \n",
       "3             100    $$  32.710751 -117.160918  \n",
       "4             103    $$  32.754880 -117.138280  \n",
       "5             138    $$  32.708732 -117.168195  \n",
       "6              96    $$  33.068170 -117.001600  \n",
       "..            ...   ...        ...         ...  \n",
       "140             1   NaN  33.037121 -117.238654  \n",
       "145             1   NaN  32.534236 -117.034976  \n",
       "148             7    $$  32.530430 -117.036500  \n",
       "165             2   NaN  33.134743 -117.248093  \n",
       "190             8     $  33.020150 -116.928140  \n",
       "\n",
       "[82 rows x 10 columns]"
      ]
     },
     "execution_count": 23,
     "metadata": {},
     "output_type": "execute_result"
    }
   ],
   "source": [
    "df4 = sort_by_aliases()\n",
    "df4"
   ]
  },
  {
   "cell_type": "code",
   "execution_count": 24,
   "metadata": {
    "ExecuteTime": {
     "end_time": "2021-05-12T19:10:47.833179Z",
     "start_time": "2021-05-12T19:10:47.806181Z"
    }
   },
   "outputs": [
    {
     "data": {
      "text/plain": [
       "Index(['name', 'location', 'id', 'alias', 'title', 'rating', 'review_count',\n",
       "       'price', 'latitude', 'longitude'],\n",
       "      dtype='object')"
      ]
     },
     "execution_count": 24,
     "metadata": {},
     "output_type": "execute_result"
    }
   ],
   "source": [
    "df_saved = pd.read_csv('data/wineries_filtered_alias.csv')\n",
    "df_saved.keys()"
   ]
  },
  {
   "cell_type": "code",
   "execution_count": 109,
   "metadata": {
    "ExecuteTime": {
     "end_time": "2021-05-12T21:11:00.815893Z",
     "start_time": "2021-05-12T21:11:00.793892Z"
    }
   },
   "outputs": [
    {
     "data": {
      "text/plain": [
       "name             0\n",
       "location         0\n",
       "id               0\n",
       "alias            0\n",
       "title            0\n",
       "rating           0\n",
       "review_count     0\n",
       "price           25\n",
       "latitude         0\n",
       "longitude        0\n",
       "dtype: int64"
      ]
     },
     "execution_count": 109,
     "metadata": {},
     "output_type": "execute_result"
    }
   ],
   "source": [
    "df4.isna().sum()"
   ]
  },
  {
   "cell_type": "code",
   "execution_count": 115,
   "metadata": {
    "ExecuteTime": {
     "end_time": "2021-05-12T21:13:50.337572Z",
     "start_time": "2021-05-12T21:13:50.320563Z"
    }
   },
   "outputs": [
    {
     "data": {
      "text/plain": [
       "$$     53\n",
       "$       3\n",
       "$$$     1\n",
       "Name: price, dtype: int64"
      ]
     },
     "execution_count": 115,
     "metadata": {},
     "output_type": "execute_result"
    }
   ],
   "source": [
    "df4['price'].value_counts()"
   ]
  },
  {
   "cell_type": "code",
   "execution_count": 117,
   "metadata": {
    "ExecuteTime": {
     "end_time": "2021-05-12T21:14:23.996632Z",
     "start_time": "2021-05-12T21:14:23.983649Z"
    }
   },
   "outputs": [],
   "source": [
    "df4.fillna('$$', inplace=True) #NAME?"
   ]
  },
  {
   "cell_type": "code",
   "execution_count": 159,
   "metadata": {
    "ExecuteTime": {
     "end_time": "2021-05-12T21:37:00.968401Z",
     "start_time": "2021-05-12T21:37:00.942386Z"
    },
    "scrolled": false
   },
   "outputs": [
    {
     "data": {
      "text/html": [
       "<div>\n",
       "<style scoped>\n",
       "    .dataframe tbody tr th:only-of-type {\n",
       "        vertical-align: middle;\n",
       "    }\n",
       "\n",
       "    .dataframe tbody tr th {\n",
       "        vertical-align: top;\n",
       "    }\n",
       "\n",
       "    .dataframe thead th {\n",
       "        text-align: right;\n",
       "    }\n",
       "</style>\n",
       "<table border=\"1\" class=\"dataframe\">\n",
       "  <thead>\n",
       "    <tr style=\"text-align: right;\">\n",
       "      <th></th>\n",
       "      <th>name</th>\n",
       "      <th>location</th>\n",
       "      <th>id</th>\n",
       "      <th>alias</th>\n",
       "      <th>title</th>\n",
       "      <th>rating</th>\n",
       "      <th>review_count</th>\n",
       "      <th>price</th>\n",
       "      <th>latitude</th>\n",
       "      <th>longitude</th>\n",
       "    </tr>\n",
       "  </thead>\n",
       "  <tbody>\n",
       "    <tr>\n",
       "      <th>77</th>\n",
       "      <td>Hungry Hawk Vineyards &amp; Winery</td>\n",
       "      <td>3255 Summit Dr Escondido, CA 92025</td>\n",
       "      <td>#NAME?</td>\n",
       "      <td>wineries</td>\n",
       "      <td>Wineries</td>\n",
       "      <td>4.5</td>\n",
       "      <td>118.0</td>\n",
       "      <td>$$</td>\n",
       "      <td>33.093880</td>\n",
       "      <td>-117.030080</td>\n",
       "    </tr>\n",
       "    <tr>\n",
       "      <th>165</th>\n",
       "      <td>RL Liquid Assets, Inc</td>\n",
       "      <td>5909 Sea Lion Pl Ste G Carlsbad, CA 92010</td>\n",
       "      <td>#NAME?</td>\n",
       "      <td>wineries</td>\n",
       "      <td>Wineries</td>\n",
       "      <td>3.0</td>\n",
       "      <td>2.0</td>\n",
       "      <td>$$</td>\n",
       "      <td>33.134743</td>\n",
       "      <td>-117.248093</td>\n",
       "    </tr>\n",
       "  </tbody>\n",
       "</table>\n",
       "</div>"
      ],
      "text/plain": [
       "                               name  \\\n",
       "77   Hungry Hawk Vineyards & Winery   \n",
       "165           RL Liquid Assets, Inc   \n",
       "\n",
       "                                      location      id     alias     title  \\\n",
       "77          3255 Summit Dr Escondido, CA 92025  #NAME?  wineries  Wineries   \n",
       "165  5909 Sea Lion Pl Ste G Carlsbad, CA 92010  #NAME?  wineries  Wineries   \n",
       "\n",
       "     rating  review_count price   latitude   longitude  \n",
       "77      4.5         118.0    $$  33.093880 -117.030080  \n",
       "165     3.0           2.0    $$  33.134743 -117.248093  "
      ]
     },
     "execution_count": 159,
     "metadata": {},
     "output_type": "execute_result"
    }
   ],
   "source": [
    "df5 = df4.where(df4.id == '#NAME?')\n",
    "\n",
    "df6 = df5[df5.isna() != True]\n",
    "df6.dropna()"
   ]
  },
  {
   "cell_type": "markdown",
   "metadata": {},
   "source": [
    "# Part 3 -  Create ETL pipeline for the restaurant review data from the API"
   ]
  },
  {
   "cell_type": "markdown",
   "metadata": {},
   "source": [
    "You've done this for the Businesses, now you need to do this for reviews. You will follow the same process, but your functions will be specific to reviews. Above you have a model of the functions you will need to write, and how to pull them together in one script. For this part, you have the process below "
   ]
  },
  {
   "cell_type": "markdown",
   "metadata": {},
   "source": [
    "## Getting Business IDs"
   ]
  },
  {
   "cell_type": "markdown",
   "metadata": {},
   "source": [
    "- In order to pull the reveiws, you will need the business ids. So your first step will be to get all of the business ids from your businesses csv. "
   ]
  },
  {
   "cell_type": "markdown",
   "metadata": {},
   "source": [
    "### Open file and slice ID"
   ]
  },
  {
   "cell_type": "markdown",
   "metadata": {},
   "source": [
    "1. Open data/wineries.csv\n",
    "2. Slice out the 'name' and 'id' columns for each row"
   ]
  },
  {
   "cell_type": "code",
   "execution_count": 25,
   "metadata": {
    "ExecuteTime": {
     "end_time": "2021-05-12T19:10:47.849182Z",
     "start_time": "2021-05-12T19:10:47.835181Z"
    }
   },
   "outputs": [
    {
     "data": {
      "text/plain": [
       "['DknnpiG1p4OoM1maFshzXA',\n",
       " 'Cn2_bpTngghYW1ej4zreZg',\n",
       " 'Cc1sQWRWgGyMCjzX2mmMQQ',\n",
       " 'gMW1RvyLu90RSQAY9UrIHw',\n",
       " 'WqVbxY77Ag96X90LultCUw',\n",
       " 'yZp9FdMH6Dmn98mfNInFHw',\n",
       " 'ElE6Nj7iz-tNV4ebV6Clew',\n",
       " 'Ub2bJsi7lIOQ9TyIKdHaJw',\n",
       " 'sCET1pLdKNNPBQJyjPOkww',\n",
       " 'fyh566YXm5XJ3Ntv_GLghg',\n",
       " '7i8AdZoDySoEdT_uoMMzNA',\n",
       " 'ALTc2EAwGkWfVL9gpuGdqw',\n",
       " 'Phqm2QvJE0uEqpxMvdzH_g',\n",
       " 'NKsyDqmKiNWT4HtkBh6AdA',\n",
       " 'o0flINbzGa8LDlM9Mtbfwg',\n",
       " 'Oic9__gID0APdrBIjP4Xjw',\n",
       " 'YVMiPOAPsEd1fXxNmpjEMA',\n",
       " '9qalQETuaZnFDgZrsEB7MA',\n",
       " 'XH7njeu3FvhxoTqzHTTE5g',\n",
       " '1PS0mcUZkJPyG72pk3zwVg',\n",
       " 'Ye4Pr0ZbC8sGPwpWqR5wvQ',\n",
       " 'ptA-I2Kk78jydAeJIYs2Cg',\n",
       " 'f62YFfiriHapBhadXfMquA',\n",
       " 'BGfXAtLC5sHBWOKlcb17KA',\n",
       " 'gFPq8yqFRd9caMgkO5HvpQ',\n",
       " '97NwIhRGPhv1c4DU9DMpPA',\n",
       " 'wLEvfL3dKvMMPD17-lpcGw',\n",
       " '9YDsJ5OL1hkx_vqwlJhi_Q',\n",
       " 'VksLDK5jI-O53y0fFoUlQQ',\n",
       " '0gGOIJo3MUVpuy8hAepCGQ',\n",
       " 'ia3GRsrEDexiodnpXe0D6w',\n",
       " '5fkdGagUJDuc3axRWchzJQ',\n",
       " 'D9rtDihupzA39yBh0YcAXg',\n",
       " 'RdMY32yM5MRIztG9gzuDKw',\n",
       " 'V3kR-0Nb6ISBQ8ebXZJeVQ',\n",
       " '3mk6Tl3irp7x8baYoLRu9w',\n",
       " 'Wjn9nDudZgJ5okiB8Cbfmg',\n",
       " 'U1F6GFNI_nw4WawP546qHQ',\n",
       " 'TMuXpHvWmWlW__vpyREVjA',\n",
       " 'Ou-vDAZxoKeYkBDZzg_ZdA',\n",
       " 'rtE6b7MidHry2wEa9ls3gw',\n",
       " 'HwYHguzMcK-9yezh7DnC5Q',\n",
       " 'C679sPixYuW8kXKWdzCfhA',\n",
       " '5GXI0ATO4eX6RQWB0GUQPg',\n",
       " 'ZI9j1CrN_Vw3BEztOMNBRQ',\n",
       " 'ctW-k4Ci81kdjE8xOA41sg',\n",
       " 'swPy0eGVoD3GlScWORKJEg',\n",
       " 'cfMlwfp2ZIWc3Mpzg5o8CQ',\n",
       " 'IjuPgZ-M8Oy1M6ClIJNFBw',\n",
       " 'W4K-o6UseGKyQxlnfiEltQ',\n",
       " '881CXnwIREXkDjcuVTshaA',\n",
       " 'WmDjdr2Y6XXnjainystcpA',\n",
       " 'C9YXJNAi6FggGAJ94Qmksg',\n",
       " 'Vwy9frhCg-WiurWIBznvNA',\n",
       " 'Rym_5OGVbYlRa4lvrG2JdQ',\n",
       " '4IIGIWrIrMfJmlnErtmrNQ',\n",
       " 'vJVWsXyZDg3GpwASETe1pQ',\n",
       " '9c_BLUDYbND7lY30W_Rx1g',\n",
       " 'oshle3i0k6FEHN2aujSyxg',\n",
       " 'EzSpL_O4r00ZFg4BNi9qPw',\n",
       " '2H1dXyHAcdTxNrbqKbJ8Bg',\n",
       " 'W2not8gGBbjBMUeFmwdriA',\n",
       " '1YoSxgAOK625vP0lQpR5zw',\n",
       " 'RYmQTiLfU5oIFcZ3k1O38Q',\n",
       " 'YD8O_qG9BNlQm3OtzONDww',\n",
       " 'cfUvT3H6CGh_81U0Z-X7gw',\n",
       " '7KJwHtJ30t78VYBQMVLjAw',\n",
       " 'Tu52NWMO_dnv5v4iyuLykg',\n",
       " 'fT9ysnQvYXw-RUD4GNodEQ',\n",
       " 'Z9e6h-DPZeugrv7shpfl5w',\n",
       " 'C8W1fWjVOyA10rufYYfM6Q',\n",
       " 'JVMnIFpnAxRNxHrJKqxWQg',\n",
       " 'DM_xFbiqpOgnDBCk9wUwow',\n",
       " '4nFSeNcQny91tOID2Jfv8Q',\n",
       " 'KkhZZgGdLyLJMflVCA5D9Q',\n",
       " 'Nqy6NwQSTuAjsBpE7AoJYQ',\n",
       " 'wyLm9fIoamN-VALcu3nUVg',\n",
       " 'B7gID-M2EsdpthrTcwTNYA',\n",
       " 'HxTqmzT4G43iAKXrB3pqQg',\n",
       " 'ZeiVSF1SMdVVSkiGE7qaSg']"
      ]
     },
     "execution_count": 25,
     "metadata": {},
     "output_type": "execute_result"
    }
   ],
   "source": [
    "df_saved = pd.read_csv(\"data/wineries_filtered_alias.csv\")\n",
    "df_saved.reset_index(drop=True, inplace=True)\n",
    "\n",
    "# Slice out IDs, then save them to a list\n",
    "\n",
    "df_saved_id = df_saved['id'].to_list()\n",
    "\n",
    "biz_name = df_saved['name'].to_list()\n",
    "\n",
    "cleaned_ids = []\n",
    "\n",
    "for id in df_saved_id:\n",
    "    if id != '#NAME?':\n",
    "        cleaned_ids.append(id)\n",
    "        \n",
    "cleaned_ids\n",
    "# biz_name"
   ]
  },
  {
   "cell_type": "markdown",
   "metadata": {},
   "source": [
    "## Requesting Reviews"
   ]
  },
  {
   "cell_type": "markdown",
   "metadata": {},
   "source": [
    "- Write a function that takes a business id and makes a call to the API for reviews.\n"
   ]
  },
  {
   "cell_type": "markdown",
   "metadata": {},
   "source": [
    "### ƒ: get_reviews"
   ]
  },
  {
   "cell_type": "code",
   "execution_count": 54,
   "metadata": {
    "ExecuteTime": {
     "end_time": "2021-05-12T19:37:15.347727Z",
     "start_time": "2021-05-12T19:37:15.339714Z"
    },
    "code_folding": []
   },
   "outputs": [],
   "source": [
    "def get_reviews(biz_id, yelp_key, verbose=False):\n",
    "    '''Adapted from Yelp API Lab: https://github.com/BenJMcCarty/dsc-yelp-api-lab/tree/solution'''\n",
    "    \n",
    "    url = 'https://api.yelp.com/v3/businesses/'+ biz_id + '/reviews'\n",
    "\n",
    "    headers = {\n",
    "            'Authorization': 'Bearer {}'.format(yelp_key),\n",
    "        }\n",
    "\n",
    "    response = requests.get(url, headers=headers)\n",
    "\n",
    "    if verbose == True:\n",
    "        print(response)\n",
    "        print(type(response.text))\n",
    "        print(response.text[:1000])\n",
    "\n",
    "\n",
    "    return response.json()"
   ]
  },
  {
   "cell_type": "markdown",
   "metadata": {},
   "source": [
    "# ƒ: Parse Reviews for final GET"
   ]
  },
  {
   "cell_type": "code",
   "execution_count": 100,
   "metadata": {
    "ExecuteTime": {
     "end_time": "2021-05-12T19:53:45.154349Z",
     "start_time": "2021-05-12T19:53:45.141332Z"
    },
    "code_folding": []
   },
   "outputs": [],
   "source": [
    "def parse_reviews(review):\n",
    "    '''Adapted from Tyrell's code'''  \n",
    "\n",
    "    # Create empty list to store results \n",
    "#     parsed_reviews = []\n",
    "    \n",
    "    # Loop through each review in the list of reviews\n",
    "    # Add specific k:v pairs to a dictionary      \n",
    "    details = {\n",
    "        'Reviewer Name': review['user']['name'],\n",
    "        'Review Rating': review['rating'],\n",
    "        'Review Text': review['text'],\n",
    "        'Time Created': review['time_created']\n",
    "        }\n",
    "\n",
    "        # Add the new dictionary to the empty list\n",
    "        \n",
    "#         parsed_reviews.append(details)\n",
    "       \n",
    "    # Create a DataFrame from the resulting list\n",
    "    \n",
    "    df_parsed_reviews = pd.DataFrame.from_dict([details])\n",
    "   \n",
    "    return df_parsed_reviews"
   ]
  },
  {
   "cell_type": "code",
   "execution_count": 101,
   "metadata": {
    "ExecuteTime": {
     "end_time": "2021-05-12T19:53:46.027366Z",
     "start_time": "2021-05-12T19:53:46.020338Z"
    },
    "scrolled": false
   },
   "outputs": [
    {
     "data": {
      "text/plain": [
       "{'id': '_aZ_3xAVPVJOVC_LlL0GeQ',\n",
       " 'url': 'https://www.yelp.com/biz/bernardo-winery-san-diego-2?adjust_creative=eyY_X0k6PMB2bu6EM1dXdw&hrid=_aZ_3xAVPVJOVC_LlL0GeQ&utm_campaign=yelp_api_v3&utm_medium=api_v3_business_reviews&utm_source=eyY_X0k6PMB2bu6EM1dXdw',\n",
       " 'text': 'Debbie and Ronnie were wonderfully attentive to our needs. Had the best of the both red and white wines. Well worth spending an afternoon just sipping wines...',\n",
       " 'rating': 5,\n",
       " 'time_created': '2021-04-13 19:18:16',\n",
       " 'user': {'id': '5dlWmmwLrkLsRD_Z0697OQ',\n",
       "  'profile_url': 'https://www.yelp.com/user_details?userid=5dlWmmwLrkLsRD_Z0697OQ',\n",
       "  'image_url': None,\n",
       "  'name': 'Patrick T.'}}"
      ]
     },
     "execution_count": 101,
     "metadata": {},
     "output_type": "execute_result"
    }
   ],
   "source": [
    "test_review = test1['reviews'][0]\n",
    "test_review"
   ]
  },
  {
   "cell_type": "code",
   "execution_count": 104,
   "metadata": {
    "ExecuteTime": {
     "end_time": "2021-05-12T19:57:55.820174Z",
     "start_time": "2021-05-12T19:57:55.802170Z"
    }
   },
   "outputs": [
    {
     "data": {
      "text/html": [
       "<div>\n",
       "<style scoped>\n",
       "    .dataframe tbody tr th:only-of-type {\n",
       "        vertical-align: middle;\n",
       "    }\n",
       "\n",
       "    .dataframe tbody tr th {\n",
       "        vertical-align: top;\n",
       "    }\n",
       "\n",
       "    .dataframe thead th {\n",
       "        text-align: right;\n",
       "    }\n",
       "</style>\n",
       "<table border=\"1\" class=\"dataframe\">\n",
       "  <thead>\n",
       "    <tr style=\"text-align: right;\">\n",
       "      <th></th>\n",
       "      <th>Reviewer Name</th>\n",
       "      <th>Review Rating</th>\n",
       "      <th>Review Text</th>\n",
       "      <th>Time Created</th>\n",
       "    </tr>\n",
       "  </thead>\n",
       "  <tbody>\n",
       "    <tr>\n",
       "      <th>0</th>\n",
       "      <td>Patrick T.</td>\n",
       "      <td>5</td>\n",
       "      <td>Debbie and Ronnie were wonderfully attentive t...</td>\n",
       "      <td>2021-04-13 19:18:16</td>\n",
       "    </tr>\n",
       "  </tbody>\n",
       "</table>\n",
       "</div>"
      ],
      "text/plain": [
       "  Reviewer Name  Review Rating  \\\n",
       "0    Patrick T.              5   \n",
       "\n",
       "                                         Review Text         Time Created  \n",
       "0  Debbie and Ronnie were wonderfully attentive t...  2021-04-13 19:18:16  "
      ]
     },
     "execution_count": 104,
     "metadata": {},
     "output_type": "execute_result"
    }
   ],
   "source": [
    "test2 = parse_reviews(test_review)\n",
    "test2"
   ]
  },
  {
   "cell_type": "markdown",
   "metadata": {},
   "source": [
    "# LEFT OFF HERE"
   ]
  },
  {
   "cell_type": "markdown",
   "metadata": {},
   "source": [
    "Removed stuff from Get All Reviews"
   ]
  },
  {
   "cell_type": "code",
   "execution_count": 56,
   "metadata": {
    "ExecuteTime": {
     "end_time": "2021-05-12T19:37:18.861229Z",
     "start_time": "2021-05-12T19:37:18.844200Z"
    },
    "code_folding": [
     0
    ]
   },
   "outputs": [],
   "source": [
    "# Process first request to Yelp API \n",
    "#     reviews = yelp_review_offset(list_of_biz_ids, yelp_key)\n",
    "       \n",
    "    # Parse results of first API call and save\n",
    "#     parsed_reviews = parse_reviews(reviews['reviews'])\n",
    "#     parsed_reviews.to_csv(file_name, index = False)\n",
    "#     parsed_reviews.to_csv(file_name, mode='a', index = False)\n",
    "    \n",
    "    # Calculate number of pages\n",
    "#     num_pages = reviews['total']//50+1\n",
    "    \n",
    "    # Print out confirmation feedback\n",
    "#     print(f'For Business IDs: ')\n",
    "#     print(f\"    Total number of results: {reviews['total']}.\")\n",
    "#     print(f'    Total number of pages: {num_pages}.')\n",
    "    \n",
    "#     for biz_id in list_of_biz_ids:\n",
    "#         reviews = yelp_review_offset(biz_id, yelp_key)\n",
    "\n",
    "    # Retrieve and save remaining pages\n",
    "#     for num in range(len(cleaned_ids)-1):"
   ]
  },
  {
   "cell_type": "code",
   "execution_count": 66,
   "metadata": {
    "ExecuteTime": {
     "end_time": "2021-05-12T19:39:23.178108Z",
     "start_time": "2021-05-12T19:39:22.830467Z"
    }
   },
   "outputs": [
    {
     "name": "stdout",
     "output_type": "stream",
     "text": [
      "dict_keys(['reviews', 'total', 'possible_languages'])\n"
     ]
    }
   ],
   "source": [
    "test1 = get_reviews(cleaned_ids[0], yelp_key)\n",
    "print(test1.keys())"
   ]
  },
  {
   "cell_type": "code",
   "execution_count": 67,
   "metadata": {
    "ExecuteTime": {
     "end_time": "2021-05-12T19:39:23.664330Z",
     "start_time": "2021-05-12T19:39:23.646326Z"
    }
   },
   "outputs": [
    {
     "name": "stdout",
     "output_type": "stream",
     "text": [
      "[{'id': '_aZ_3xAVPVJOVC_LlL0GeQ', 'url': 'https://www.yelp.com/biz/bernardo-winery-san-diego-2?adjust_creative=eyY_X0k6PMB2bu6EM1dXdw&hrid=_aZ_3xAVPVJOVC_LlL0GeQ&utm_campaign=yelp_api_v3&utm_medium=api_v3_business_reviews&utm_source=eyY_X0k6PMB2bu6EM1dXdw', 'text': 'Debbie and Ronnie were wonderfully attentive to our needs. Had the best of the both red and white wines. Well worth spending an afternoon just sipping wines...', 'rating': 5, 'time_created': '2021-04-13 19:18:16', 'user': {'id': '5dlWmmwLrkLsRD_Z0697OQ', 'profile_url': 'https://www.yelp.com/user_details?userid=5dlWmmwLrkLsRD_Z0697OQ', 'image_url': None, 'name': 'Patrick T.'}}, {'id': '_HFTJW4nRUe5lC8M1LLflA', 'url': 'https://www.yelp.com/biz/bernardo-winery-san-diego-2?adjust_creative=eyY_X0k6PMB2bu6EM1dXdw&hrid=_HFTJW4nRUe5lC8M1LLflA&utm_campaign=yelp_api_v3&utm_medium=api_v3_business_reviews&utm_source=eyY_X0k6PMB2bu6EM1dXdw', 'text': \"I haven't gone to the winery since pre covid; I used to go a few times a month for lunch or dinner and it was always delicious and a great environment. I...\", 'rating': 5, 'time_created': '2021-02-21 15:29:51', 'user': {'id': '1NLvP2in-7zFBglDscy18A', 'profile_url': 'https://www.yelp.com/user_details?userid=1NLvP2in-7zFBglDscy18A', 'image_url': 'https://s3-media2.fl.yelpcdn.com/photo/7Qje9J10NcpJI4XDgL-Q0Q/o.jpg', 'name': 'Bianca B.'}}, {'id': 'AmyrN0N2SjWI_Uzy3Uq0jQ', 'url': 'https://www.yelp.com/biz/bernardo-winery-san-diego-2?adjust_creative=eyY_X0k6PMB2bu6EM1dXdw&hrid=AmyrN0N2SjWI_Uzy3Uq0jQ&utm_campaign=yelp_api_v3&utm_medium=api_v3_business_reviews&utm_source=eyY_X0k6PMB2bu6EM1dXdw', 'text': \"I can't believe I never been here before! It's only 10 min from my house and for the last ten years yet only now I discovered this amazing place for family...\", 'rating': 5, 'time_created': '2021-02-21 17:19:02', 'user': {'id': 'sQMZS-voMY3rQ_SFifGdKg', 'profile_url': 'https://www.yelp.com/user_details?userid=sQMZS-voMY3rQ_SFifGdKg', 'image_url': 'https://s3-media2.fl.yelpcdn.com/photo/jY9Z872ruBQnHld5RjAmmQ/o.jpg', 'name': 'stephanie l.'}}]\n"
     ]
    }
   ],
   "source": [
    "print(test1['reviews'])"
   ]
  },
  {
   "cell_type": "markdown",
   "metadata": {
    "ExecuteTime": {
     "end_time": "2021-05-12T18:10:38.397744Z",
     "start_time": "2021-05-12T18:10:38.381718Z"
    }
   },
   "source": [
    "# ƒ: GET REVIEWS (ALL)"
   ]
  },
  {
   "cell_type": "code",
   "execution_count": 50,
   "metadata": {
    "ExecuteTime": {
     "end_time": "2021-05-12T19:33:27.115935Z",
     "start_time": "2021-05-12T19:33:27.103911Z"
    }
   },
   "outputs": [],
   "source": [
    "def get_all_reviews(list_of_biz_ids, yelp_key, file_name = 'data/reviews_raw.csv'):\n",
    "    '''Requests all review results for given business IDs from Yelp API; \\\n",
    "    saves as a .csv; and returns a DataFrame.'''\n",
    "    \n",
    "    blank_df = pd.DataFrame()\n",
    "    blank_df.to_csv(file_name)\n",
    "        \n",
    "    for i in list_of_biz_ids:\n",
    "        try:\n",
    "            # Process API request\n",
    "            raw_reviews = get_reviews(i, yelp_key)\n",
    "\n",
    "            # From results, take values from \"Businesses\" key and save\n",
    "            parsed_reviews = parse_reviews(raw_reviews['reviews']) \n",
    "\n",
    "            print(\"Parsed reviews.\")\n",
    "\n",
    "            # H2: save results to df\n",
    "            parsed_reviews.to_csv(file_name, mode='a', index = False)\n",
    "\n",
    "            print(\"Saved reviews.\")\n",
    "\n",
    "        except:\n",
    "            # If error, print where the error happens\n",
    "            print(f'Error on page {num}.')\n",
    "            # Then save the results so far to the .csv\n",
    "            parsed_reviews.to_csv(file_name, mode='a', index = False)\n",
    "\n",
    "        \n",
    "    return parsed_reviews"
   ]
  },
  {
   "cell_type": "markdown",
   "metadata": {},
   "source": [
    "#### Test GET REVIEWS"
   ]
  },
  {
   "cell_type": "code",
   "execution_count": 51,
   "metadata": {
    "ExecuteTime": {
     "end_time": "2021-05-12T19:33:28.099218Z",
     "start_time": "2021-05-12T19:33:28.085201Z"
    }
   },
   "outputs": [
    {
     "ename": "TypeError",
     "evalue": "can only concatenate str (not \"list\") to str",
     "output_type": "error",
     "traceback": [
      "\u001b[1;31m---------------------------------------------------------------------------\u001b[0m",
      "\u001b[1;31mTypeError\u001b[0m                                 Traceback (most recent call last)",
      "\u001b[1;32m<ipython-input-51-dcb4de27eb45>\u001b[0m in \u001b[0;36m<module>\u001b[1;34m\u001b[0m\n\u001b[1;32m----> 1\u001b[1;33m \u001b[0mget_reviews\u001b[0m\u001b[1;33m(\u001b[0m\u001b[0mcleaned_ids\u001b[0m\u001b[1;33m,\u001b[0m \u001b[0myelp_key\u001b[0m\u001b[1;33m)\u001b[0m\u001b[1;33m\u001b[0m\u001b[1;33m\u001b[0m\u001b[0m\n\u001b[0m",
      "\u001b[1;32m<ipython-input-48-16c0a815995b>\u001b[0m in \u001b[0;36mget_reviews\u001b[1;34m(biz_id, yelp_key, verbose)\u001b[0m\n\u001b[0;32m      2\u001b[0m     \u001b[1;34m'''Adapted from Yelp API Lab: https://github.com/BenJMcCarty/dsc-yelp-api-lab/tree/solution'''\u001b[0m\u001b[1;33m\u001b[0m\u001b[1;33m\u001b[0m\u001b[0m\n\u001b[0;32m      3\u001b[0m \u001b[1;33m\u001b[0m\u001b[0m\n\u001b[1;32m----> 4\u001b[1;33m     \u001b[0murl\u001b[0m \u001b[1;33m=\u001b[0m \u001b[1;34m'https://api.yelp.com/v3/businesses/'\u001b[0m\u001b[1;33m+\u001b[0m \u001b[0mbiz_id\u001b[0m \u001b[1;33m+\u001b[0m \u001b[1;34m'/reviews'\u001b[0m\u001b[1;33m\u001b[0m\u001b[1;33m\u001b[0m\u001b[0m\n\u001b[0m\u001b[0;32m      5\u001b[0m \u001b[1;33m\u001b[0m\u001b[0m\n\u001b[0;32m      6\u001b[0m     headers = {\n",
      "\u001b[1;31mTypeError\u001b[0m: can only concatenate str (not \"list\") to str"
     ]
    }
   ],
   "source": [
    "get_reviews(cleaned_ids, yelp_key)"
   ]
  },
  {
   "cell_type": "code",
   "execution_count": 32,
   "metadata": {
    "ExecuteTime": {
     "end_time": "2021-05-12T19:10:48.579015Z",
     "start_time": "2021-05-12T19:10:48.550005Z"
    }
   },
   "outputs": [
    {
     "data": {
      "text/html": [
       "<div>\n",
       "<style scoped>\n",
       "    .dataframe tbody tr th:only-of-type {\n",
       "        vertical-align: middle;\n",
       "    }\n",
       "\n",
       "    .dataframe tbody tr th {\n",
       "        vertical-align: top;\n",
       "    }\n",
       "\n",
       "    .dataframe thead th {\n",
       "        text-align: right;\n",
       "    }\n",
       "</style>\n",
       "<table border=\"1\" class=\"dataframe\">\n",
       "  <thead>\n",
       "    <tr style=\"text-align: right;\">\n",
       "      <th></th>\n",
       "      <th>Reviewer Name</th>\n",
       "      <th>Review ID</th>\n",
       "      <th>Time Created</th>\n",
       "      <th>Review Rating</th>\n",
       "      <th>Review Text</th>\n",
       "    </tr>\n",
       "  </thead>\n",
       "  <tbody>\n",
       "    <tr>\n",
       "      <th>0</th>\n",
       "      <td>Patrick T.</td>\n",
       "      <td>_aZ_3xAVPVJOVC_LlL0GeQ</td>\n",
       "      <td>2021-04-13 19:18:16</td>\n",
       "      <td>5</td>\n",
       "      <td>Debbie and Ronnie were wonderfully attentive t...</td>\n",
       "    </tr>\n",
       "    <tr>\n",
       "      <th>1</th>\n",
       "      <td>Bianca B.</td>\n",
       "      <td>_HFTJW4nRUe5lC8M1LLflA</td>\n",
       "      <td>2021-02-21 15:29:51</td>\n",
       "      <td>5</td>\n",
       "      <td>I haven't gone to the winery since pre covid; ...</td>\n",
       "    </tr>\n",
       "    <tr>\n",
       "      <th>2</th>\n",
       "      <td>stephanie l.</td>\n",
       "      <td>AmyrN0N2SjWI_Uzy3Uq0jQ</td>\n",
       "      <td>2021-02-21 17:19:02</td>\n",
       "      <td>5</td>\n",
       "      <td>I can't believe I never been here before! It's...</td>\n",
       "    </tr>\n",
       "  </tbody>\n",
       "</table>\n",
       "</div>"
      ],
      "text/plain": [
       "  Reviewer Name               Review ID         Time Created  Review Rating  \\\n",
       "0    Patrick T.  _aZ_3xAVPVJOVC_LlL0GeQ  2021-04-13 19:18:16              5   \n",
       "1     Bianca B.  _HFTJW4nRUe5lC8M1LLflA  2021-02-21 15:29:51              5   \n",
       "2  stephanie l.  AmyrN0N2SjWI_Uzy3Uq0jQ  2021-02-21 17:19:02              5   \n",
       "\n",
       "                                         Review Text  \n",
       "0  Debbie and Ronnie were wonderfully attentive t...  \n",
       "1  I haven't gone to the winery since pre covid; ...  \n",
       "2  I can't believe I never been here before! It's...  "
      ]
     },
     "execution_count": 32,
     "metadata": {},
     "output_type": "execute_result"
    }
   ],
   "source": [
    "reviews1 = pd.read_csv('data/reviews_raw.csv', header = 0)\n",
    "reviews1"
   ]
  },
  {
   "cell_type": "code",
   "execution_count": 33,
   "metadata": {
    "ExecuteTime": {
     "end_time": "2021-05-12T19:10:48.595006Z",
     "start_time": "2021-05-12T19:10:48.581006Z"
    }
   },
   "outputs": [
    {
     "data": {
      "text/html": [
       "<div>\n",
       "<style scoped>\n",
       "    .dataframe tbody tr th:only-of-type {\n",
       "        vertical-align: middle;\n",
       "    }\n",
       "\n",
       "    .dataframe tbody tr th {\n",
       "        vertical-align: top;\n",
       "    }\n",
       "\n",
       "    .dataframe thead th {\n",
       "        text-align: right;\n",
       "    }\n",
       "</style>\n",
       "<table border=\"1\" class=\"dataframe\">\n",
       "  <thead>\n",
       "    <tr style=\"text-align: right;\">\n",
       "      <th></th>\n",
       "      <th>Reviewer Name</th>\n",
       "      <th>Review ID</th>\n",
       "      <th>Time Created</th>\n",
       "      <th>Review Rating</th>\n",
       "      <th>Review Text</th>\n",
       "    </tr>\n",
       "  </thead>\n",
       "  <tbody>\n",
       "    <tr>\n",
       "      <th>0</th>\n",
       "      <td>Patrick T.</td>\n",
       "      <td>_aZ_3xAVPVJOVC_LlL0GeQ</td>\n",
       "      <td>2021-04-13 19:18:16</td>\n",
       "      <td>5</td>\n",
       "      <td>Debbie and Ronnie were wonderfully attentive t...</td>\n",
       "    </tr>\n",
       "    <tr>\n",
       "      <th>1</th>\n",
       "      <td>Bianca B.</td>\n",
       "      <td>_HFTJW4nRUe5lC8M1LLflA</td>\n",
       "      <td>2021-02-21 15:29:51</td>\n",
       "      <td>5</td>\n",
       "      <td>I haven't gone to the winery since pre covid; ...</td>\n",
       "    </tr>\n",
       "    <tr>\n",
       "      <th>2</th>\n",
       "      <td>stephanie l.</td>\n",
       "      <td>AmyrN0N2SjWI_Uzy3Uq0jQ</td>\n",
       "      <td>2021-02-21 17:19:02</td>\n",
       "      <td>5</td>\n",
       "      <td>I can't believe I never been here before! It's...</td>\n",
       "    </tr>\n",
       "  </tbody>\n",
       "</table>\n",
       "</div>"
      ],
      "text/plain": [
       "  Reviewer Name               Review ID         Time Created  Review Rating  \\\n",
       "0    Patrick T.  _aZ_3xAVPVJOVC_LlL0GeQ  2021-04-13 19:18:16              5   \n",
       "1     Bianca B.  _HFTJW4nRUe5lC8M1LLflA  2021-02-21 15:29:51              5   \n",
       "2  stephanie l.  AmyrN0N2SjWI_Uzy3Uq0jQ  2021-02-21 17:19:02              5   \n",
       "\n",
       "                                         Review Text  \n",
       "0  Debbie and Ronnie were wonderfully attentive t...  \n",
       "1  I haven't gone to the winery since pre covid; ...  \n",
       "2  I can't believe I never been here before! It's...  "
      ]
     },
     "execution_count": 33,
     "metadata": {},
     "output_type": "execute_result"
    }
   ],
   "source": [
    "reviews1"
   ]
  },
  {
   "cell_type": "markdown",
   "metadata": {},
   "source": [
    "## Combining Functions"
   ]
  },
  {
   "cell_type": "markdown",
   "metadata": {},
   "source": [
    "- Combine the functions above into a single script  "
   ]
  },
  {
   "cell_type": "markdown",
   "metadata": {},
   "source": [
    "# Part 4 -  Using python and pandas, write code to answer the questions below. "
   ]
  },
  {
   "cell_type": "markdown",
   "metadata": {},
   "source": [
    "**Reviews**\n",
    "\n",
    "Which are the 5 most reviewed businesses in your dataset?\n",
    "\n",
    "What is the highest rating received in your data set and how many businesses have that rating?\n",
    "\n",
    "What percentage of businesses have a rating greater than or  4.5?\n",
    "\n",
    "What percentage of businesses have a rating less than 3?\n",
    "\n",
    "---\n",
    "\n",
    "**Pricing**\n",
    "\n",
    "What percentage of your businesses have a price label of one dollar sign? Two dollar signs? Three dollar signs? No dollar signs?\n",
    "\n",
    "---\n",
    "\n",
    "**Returing Reviews**\n",
    "\n",
    "Return the text of the reviews for the most reviewed business. \n",
    "\n",
    "Find the highest rated business and return text of the most recent review. If multiple business have the same rating, select the business with the most reviews. \n",
    "\n",
    "Find the lowest rated business and return text of the most recent review.  If multiple business have the same rating, select the business with the least reviews. "
   ]
  },
  {
   "cell_type": "markdown",
   "metadata": {},
   "source": [
    "___"
   ]
  },
  {
   "cell_type": "markdown",
   "metadata": {},
   "source": [
    "# Reference help"
   ]
  },
  {
   "cell_type": "markdown",
   "metadata": {},
   "source": [
    "###  Pagination\n",
    "\n",
    "Returning to the Yelp API, the [documentation](https://www.yelp.com/developers/documentation/v3/business_search) also provides us details regarding the API limits. These often include details about the number of requests a user is allowed to make within a specified time limit and the maximum number of results to be returned. In this case, we are told that any request has a maximum of 50 results per request and defaults to 20. Furthermore, any search will be limited to a total of 1000 results. To retrieve all 1000 of these results, we would have to page through the results piece by piece, retriving 50 at a time. Processes such as these are often refered to as pagination.\n",
    "\n",
    "Now that you have an initial response, you can examine the contents of the json container. For example, you might start with ```response.json().keys()```. Here, you'll see a key for `'total'`, which tells you the full number of matching results given your query parameters. Write a loop (or ideally a function) which then makes successive API calls using the offset parameter to retrieve all of the results (or 5000 for a particularly large result set) for the original query. As you do this, be mindful of how you store the data. \n",
    "\n",
    "**Note: be mindful of the API rate limits. You can only make 5000 requests per day, and APIs can make requests too fast. Start prototyping small before running a loop that could be faulty. You can also use time.sleep(n) to add delays. For more details see https://www.yelp.com/developers/documentation/v3/rate_limiting.**"
   ]
  },
  {
   "cell_type": "markdown",
   "metadata": {},
   "source": [
    "***Below is sample code that you can use to help you deal with the pagination parameter and bring all of the functions together.***\n",
    "\n",
    "\n",
    "***Also, something might cause your code to break while it is running. You don't want to constantly repull the same data when this happens, so you should insert the data into the database as you call and parse it, not after you have all of the data***\n"
   ]
  },
  {
   "cell_type": "code",
   "execution_count": 34,
   "metadata": {
    "ExecuteTime": {
     "end_time": "2021-05-12T19:10:48.611007Z",
     "start_time": "2021-05-12T19:10:48.598005Z"
    }
   },
   "outputs": [
    {
     "ename": "NameError",
     "evalue": "name 'num' is not defined",
     "output_type": "error",
     "traceback": [
      "\u001b[1;31m---------------------------------------------------------------------------\u001b[0m",
      "\u001b[1;31mNameError\u001b[0m                                 Traceback (most recent call last)",
      "\u001b[1;32m<ipython-input-34-e716e451209b>\u001b[0m in \u001b[0;36m<module>\u001b[1;34m\u001b[0m\n\u001b[0;32m      3\u001b[0m \u001b[1;33m\u001b[0m\u001b[0m\n\u001b[0;32m      4\u001b[0m \u001b[1;31m#set up a while loop to go through and grab the result\u001b[0m\u001b[1;33m\u001b[0m\u001b[1;33m\u001b[0m\u001b[1;33m\u001b[0m\u001b[0m\n\u001b[1;32m----> 5\u001b[1;33m \u001b[1;32mwhile\u001b[0m \u001b[0mcur\u001b[0m \u001b[1;33m<\u001b[0m \u001b[0mnum\u001b[0m \u001b[1;32mand\u001b[0m \u001b[0mcur\u001b[0m \u001b[1;33m<\u001b[0m \u001b[1;36m1000\u001b[0m\u001b[1;33m:\u001b[0m\u001b[1;33m\u001b[0m\u001b[1;33m\u001b[0m\u001b[0m\n\u001b[0m\u001b[0;32m      6\u001b[0m     \u001b[1;31m#set the offset parameter to be where you currently are in the results\u001b[0m\u001b[1;33m\u001b[0m\u001b[1;33m\u001b[0m\u001b[1;33m\u001b[0m\u001b[0m\n\u001b[0;32m      7\u001b[0m     \u001b[0murl_params\u001b[0m\u001b[1;33m[\u001b[0m\u001b[1;34m'offset'\u001b[0m\u001b[1;33m]\u001b[0m \u001b[1;33m=\u001b[0m \u001b[0mcur\u001b[0m\u001b[1;33m\u001b[0m\u001b[1;33m\u001b[0m\u001b[0m\n",
      "\u001b[1;31mNameError\u001b[0m: name 'num' is not defined"
     ]
    }
   ],
   "source": [
    "# create a variable  to keep track of which result you are in. \n",
    "cur = 0\n",
    "\n",
    "#set up a while loop to go through and grab the result \n",
    "while cur < num and cur < 1000:\n",
    "    #set the offset parameter to be where you currently are in the results \n",
    "    url_params['offset'] = cur\n",
    "    #make your API call with the new offset number\n",
    "    results = yelp_call(url_params, api_key)\n",
    "    \n",
    "    #after you get your results you can now use your function to parse those results\n",
    "    parsed_results = parse_results(results)\n",
    "    \n",
    "    # use your function to insert your parsed results into the db\n",
    "    db_insert(parsed_results)\n",
    "    #increment the counter by 50 to move on to the next results\n",
    "    cur += 20"
   ]
  },
  {
   "cell_type": "code",
   "execution_count": null,
   "metadata": {},
   "outputs": [],
   "source": []
  }
 ],
 "metadata": {
  "kernelspec": {
   "display_name": "Python 3",
   "language": "python",
   "name": "python3"
  },
  "language_info": {
   "codemirror_mode": {
    "name": "ipython",
    "version": 3
   },
   "file_extension": ".py",
   "mimetype": "text/x-python",
   "name": "python",
   "nbconvert_exporter": "python",
   "pygments_lexer": "ipython3",
   "version": "3.8.5"
  },
  "toc": {
   "base_numbering": 1,
   "nav_menu": {},
   "number_sections": false,
   "sideBar": true,
   "skip_h1_title": false,
   "title_cell": "Table of Contents",
   "title_sidebar": "Contents",
   "toc_cell": false,
   "toc_position": {
    "height": "calc(100% - 180px)",
    "left": "10px",
    "top": "150px",
    "width": "225px"
   },
   "toc_section_display": true,
   "toc_window_display": true
  },
  "varInspector": {
   "cols": {
    "lenName": "32",
    "lenType": 16,
    "lenVar": 40
   },
   "kernels_config": {
    "python": {
     "delete_cmd_postfix": "",
     "delete_cmd_prefix": "del ",
     "library": "var_list.py",
     "varRefreshCmd": "print(var_dic_list())"
    },
    "r": {
     "delete_cmd_postfix": ") ",
     "delete_cmd_prefix": "rm(",
     "library": "var_list.r",
     "varRefreshCmd": "cat(var_dic_list()) "
    }
   },
   "types_to_exclude": [
    "module",
    "function",
    "builtin_function_or_method",
    "instance",
    "_Feature"
   ],
   "window_display": false
  }
 },
 "nbformat": 4,
 "nbformat_minor": 2
}
