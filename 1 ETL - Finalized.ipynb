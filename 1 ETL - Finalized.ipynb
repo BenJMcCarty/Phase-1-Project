{
 "cells": [
  {
   "cell_type": "markdown",
   "metadata": {},
   "source": [
    "# **Collecting Business Data from the Yelp API**\n"
   ]
  },
  {
   "cell_type": "markdown",
   "metadata": {},
   "source": [
    "## Import Packages"
   ]
  },
  {
   "cell_type": "markdown",
   "metadata": {},
   "source": [
    "First, we are going to import our packages for use in the notebook. \n",
    "\n",
    "We are going to import packages to:\n",
    "- Read and write to .csv files\n",
    "- Explore the data and generate statistics "
   ]
  },
  {
   "cell_type": "code",
   "execution_count": 1,
   "metadata": {
    "ExecuteTime": {
     "end_time": "2021-05-16T21:19:37.637448Z",
     "start_time": "2021-05-16T21:19:37.102422Z"
    },
    "code_folding": []
   },
   "outputs": [],
   "source": [
    "# Accessing and saving stored data\n",
    "import csv\n",
    "import json\n",
    "\n",
    "# Data exploration and statistics\n",
    "import pandas as pd\n",
    "import numpy as np\n",
    "\n",
    "# Accessing Yelp API for data\n",
    "import requests\n",
    "\n",
    "# Opening secret folder for Yelp API key\n",
    "with open(r'C:\\Users\\bmcca\\.secret\\yelp_api.json') as f:\n",
    "    keys = json.load(f)\n",
    "\n",
    "client_id = keys['id']\n",
    "yelp_key = keys['key']"
   ]
  },
  {
   "cell_type": "markdown",
   "metadata": {},
   "source": [
    "# Business Data"
   ]
  },
  {
   "cell_type": "markdown",
   "metadata": {},
   "source": [
    "## Request"
   ]
  },
  {
   "cell_type": "markdown",
   "metadata": {},
   "source": [
    "First, we need to create a function to request data from the Yelp API. \n",
    "\n",
    "To ensure we can get all of the data, we are including the \"offset\" parameter. Each request will only pull the first fifty results due to limitations from the API. \n",
    "\n",
    "The \"offset\" parameter will allow us to change the data we're pulling by changing the number count of the business. Initially we will get results 0-49, then we will change the offset to \"50\" to move to the next set of results, 50-99, etc.."
   ]
  },
  {
   "cell_type": "code",
   "execution_count": 2,
   "metadata": {
    "ExecuteTime": {
     "end_time": "2021-05-16T21:19:37.652423Z",
     "start_time": "2021-05-16T21:19:37.639418Z"
    },
    "code_folding": []
   },
   "outputs": [],
   "source": [
    "def yelp_request_offset(term, location, yelp_key, offset=0, verbose=False):\n",
    "    '''Adapted from Yelp API Lab: https://github.com/BenJMcCarty/dsc-yelp-api-lab/tree/solution'''\n",
    "    \n",
    "    url = 'https://api.yelp.com/v3/businesses/search'\n",
    "\n",
    "    headers = {\n",
    "            'Authorization': 'Bearer {}'.format(yelp_key),\n",
    "        }\n",
    "\n",
    "    url_params = {\n",
    "                    'term': term.replace(' ', '+'),\n",
    "                    'location': location.replace(' ', '+'),\n",
    "                    'limit': 50,\n",
    "                    'offset': offset\n",
    "                        }\n",
    "    \n",
    "    response = requests.get(url, headers=headers, params=url_params)\n",
    "    \n",
    "    if verbose == True:\n",
    "        print(response)\n",
    "        print(type(response.text))\n",
    "        print(response.text[:1000])\n",
    "        \n",
    "    return response.json()"
   ]
  },
  {
   "cell_type": "markdown",
   "metadata": {},
   "source": [
    "## Parse"
   ]
  },
  {
   "cell_type": "markdown",
   "metadata": {},
   "source": [
    "When we request the data, we will get a LOT of information, more than we will need for our analyses and insights.\n",
    "\n",
    "We will create a function to loop through each result and save specific parts of the information. Once this information is pulled, it will be returned to us as a dataframe, which we can use for cleaning and feature engineering afterwards."
   ]
  },
  {
   "cell_type": "code",
   "execution_count": 3,
   "metadata": {
    "ExecuteTime": {
     "end_time": "2021-05-16T21:19:37.668420Z",
     "start_time": "2021-05-16T21:19:37.659448Z"
    },
    "code_folding": [
     0
    ]
   },
   "outputs": [],
   "source": [
    "def parse_data(list_of_data):\n",
    "    '''Adapted from Tyrell's code'''  \n",
    "\n",
    "    # Create empty list to store results\n",
    "    \n",
    "    parsed_data = []\n",
    "    \n",
    "    # Loop through each business in the list of businesses\n",
    "    # Add specific k:v pairs to a dictionary\n",
    "    \n",
    "    for business in list_of_data:\n",
    "        if 'price' not in business:\n",
    "            business['price'] = np.nan\n",
    "            \n",
    "            # Verify that the \"price\" key is in the selected business dict\n",
    "            \n",
    "        details = {'name': business['name'],\n",
    "                     'location': ' '.join(business['location']['display_address']),\n",
    "                     'Business ID': business['id'],\n",
    "                     'alias': business['categories'][0]['alias'],\n",
    "                     'title': business['categories'][0]['title'],\n",
    "                     'rating': business['rating'],\n",
    "                     'review_count': business['review_count'],\n",
    "                     'price': business['price'],\n",
    "                     'latitude': business['coordinates']['latitude'],\n",
    "                     'longitude': business['coordinates']['longitude']\n",
    "                    }\n",
    "        # Add the new dictionary to the previous list\n",
    "        \n",
    "        parsed_data.append(details)\n",
    "    \n",
    "    # Create a DataFrame from the resulting list\n",
    "    \n",
    "    df_parsed_data = pd.DataFrame(parsed_data)\n",
    "\n",
    "    \n",
    "    return df_parsed_data"
   ]
  },
  {
   "cell_type": "markdown",
   "metadata": {},
   "source": [
    "## Collect All Data "
   ]
  },
  {
   "cell_type": "markdown",
   "metadata": {},
   "source": [
    "Now that we created our functions to request the data and to filter the data for the most relevant parts, we will create a function to pull all of the data, filter it, then save the results to a .csv file for storage."
   ]
  },
  {
   "cell_type": "code",
   "execution_count": 4,
   "metadata": {
    "ExecuteTime": {
     "end_time": "2021-05-16T21:19:37.684423Z",
     "start_time": "2021-05-16T21:19:37.670419Z"
    },
    "code_folding": []
   },
   "outputs": [],
   "source": [
    "def get_full_data(term, location, yelp_key):\n",
    "    '''Requests all results from Yelp API and \n",
    "    saves as a .csv; and returns a DataFrame.'''\n",
    "    \n",
    "    # Create a .csv to store results\n",
    "    file_name = 'data/wineries_' + location +'.csv'\n",
    "    \n",
    "    # Save results to the .csv\n",
    "    blank_df = pd.DataFrame()\n",
    "    blank_df.to_csv(file_name)\n",
    "    \n",
    "    # Process first request to Yelp API and calculate number of pages \n",
    "    results = yelp_request_offset(term, location, yelp_key)\n",
    "    \n",
    "    num_pages = results['total']//50+1\n",
    "    \n",
    "    # Print out confirmation feedback\n",
    "    print(f'For {term} and {location}: ')\n",
    "    print(f\"    Total number of results: {results['total']}.\")\n",
    "    print(f'    Total number of pages: {num_pages}.')\n",
    "    \n",
    "    # Create offset for additional results\n",
    "    offset = 0\n",
    "\n",
    "    # Retrieves remaining pages\n",
    "    for num in range(num_pages-1):\n",
    "        try:\n",
    "            # Process API request\n",
    "            results = yelp_request_offset(term, location, yelp_key,\n",
    "                                          offset=offset)\n",
    "            \n",
    "            # From results, take values from \"Businesses\" key and save\n",
    "            parsed_results = parse_data(results['businesses'])\n",
    "\n",
    "            # Add new key:value pair to identify in which region \n",
    "            # this business is located.\n",
    "            parsed_results['City'] = location\n",
    "          \n",
    "            # Save resulting dataframe to .csv from top\n",
    "            parsed_results.to_csv(file_name, mode='a', index = False)\n",
    "            \n",
    "            # Increase offset to move to next \"page\" of data\n",
    "            offset += 50\n",
    "            \n",
    "        except:\n",
    "            # If error, print where the error happens\n",
    "            print(f'Error on page {num}.')\n",
    "            # Then save the results so far to the .csv\n",
    "            parsed_results.to_csv(file_name, mode='a', index = False)\n",
    "\n",
    "\n",
    "    return parsed_results"
   ]
  },
  {
   "cell_type": "code",
   "execution_count": 5,
   "metadata": {
    "ExecuteTime": {
     "end_time": "2021-05-16T21:19:42.827532Z",
     "start_time": "2021-05-16T21:19:37.686427Z"
    }
   },
   "outputs": [
    {
     "name": "stdout",
     "output_type": "stream",
     "text": [
      "For winery and San Diego: \n",
      "    Total number of results: 262.\n",
      "    Total number of pages: 6.\n"
     ]
    },
    {
     "data": {
      "text/html": [
       "<div>\n",
       "<style scoped>\n",
       "    .dataframe tbody tr th:only-of-type {\n",
       "        vertical-align: middle;\n",
       "    }\n",
       "\n",
       "    .dataframe tbody tr th {\n",
       "        vertical-align: top;\n",
       "    }\n",
       "\n",
       "    .dataframe thead th {\n",
       "        text-align: right;\n",
       "    }\n",
       "</style>\n",
       "<table border=\"1\" class=\"dataframe\">\n",
       "  <thead>\n",
       "    <tr style=\"text-align: right;\">\n",
       "      <th></th>\n",
       "      <th>City</th>\n",
       "    </tr>\n",
       "  </thead>\n",
       "  <tbody>\n",
       "  </tbody>\n",
       "</table>\n",
       "</div>"
      ],
      "text/plain": [
       "Empty DataFrame\n",
       "Columns: [City]\n",
       "Index: []"
      ]
     },
     "execution_count": 5,
     "metadata": {},
     "output_type": "execute_result"
    }
   ],
   "source": [
    "get_full_data('winery', 'San Diego', yelp_key)"
   ]
  },
  {
   "cell_type": "markdown",
   "metadata": {},
   "source": [
    "## Cleaning Data and Feature Engineering"
   ]
  },
  {
   "cell_type": "markdown",
   "metadata": {},
   "source": [
    "At this point, we successfully pulled our data and saved it. Now, we need to make sure that we select only those businesses that are wineries (not distributors or venues). We will start by sorting our data by the number of businesses with each alias, or type of business."
   ]
  },
  {
   "cell_type": "code",
   "execution_count": 6,
   "metadata": {
    "ExecuteTime": {
     "end_time": "2021-05-16T21:19:42.843519Z",
     "start_time": "2021-05-16T21:19:42.829502Z"
    },
    "code_folding": []
   },
   "outputs": [],
   "source": [
    "def identify_top_aliases(raw_data = None):\n",
    "    '''- Requires user to specify an existing .csv file\n",
    "    - Takes raw business data from the Yelp API and identifies the top two\n",
    "    aliases.\n",
    "    '''\n",
    "\n",
    "    # Read in businesses\n",
    "    df1 = pd.read_csv(raw_data, header = 1)\n",
    "\n",
    "    alias_index = df1['alias'].value_counts()[:3].index\n",
    "    print(alias_index)"
   ]
  },
  {
   "cell_type": "code",
   "execution_count": 7,
   "metadata": {
    "ExecuteTime": {
     "end_time": "2021-05-16T21:19:42.875504Z",
     "start_time": "2021-05-16T21:19:42.847503Z"
    }
   },
   "outputs": [
    {
     "name": "stdout",
     "output_type": "stream",
     "text": [
      "Index(['wineries', 'winetastingroom', 'beer_and_wine'], dtype='object')\n"
     ]
    }
   ],
   "source": [
    "identify_top_aliases(raw_data = 'data/wineries_San Diego.csv')"
   ]
  },
  {
   "cell_type": "markdown",
   "metadata": {},
   "source": [
    "Based off of our function, we identified our top three businesses. Since we can tell that we only want \"wineries\" and \"winetastingrooms,\" we'll create a new function to filter out the unwanted results."
   ]
  },
  {
   "cell_type": "code",
   "execution_count": 8,
   "metadata": {
    "ExecuteTime": {
     "end_time": "2021-05-16T21:19:42.891515Z",
     "start_time": "2021-05-16T21:19:42.880505Z"
    },
    "code_folding": []
   },
   "outputs": [],
   "source": [
    "def top_two_aliases(raw_data = None, location_name = ''):\n",
    "    '''- Requires an existing .csv file and name of location.\n",
    "    - Takes raw business data from the Yelp API and filters for the top two\n",
    "    aliases (focusing on \"wineries\" and \"winetastingrooms\").\n",
    "    '''\n",
    "\n",
    "    # Read in businesses\n",
    "    df1 = pd.read_csv(raw_data, header = 1)\n",
    "\n",
    "    alias_index = df1['alias'].value_counts()[:2].index\n",
    "    print(alias_index)\n",
    "    \n",
    "    # Filtering rows based on condition\n",
    "\n",
    "    df2 = df1[df1['alias'].isin(alias_index)]\n",
    "    \n",
    "    # Resetting index\n",
    "    df2.reset_index(drop=True, inplace=True)\n",
    "    \n",
    "    # Save results\n",
    "    new_file_name = 'data/wineries_' + location_name + '_cleaned.csv'\n",
    "    df2.to_csv(new_file_name, index = False)\n",
    "       \n",
    "    print(f\"Saved to ''{new_file_name}''.\")\n",
    "    \n",
    "    return df2"
   ]
  },
  {
   "cell_type": "code",
   "execution_count": 9,
   "metadata": {
    "ExecuteTime": {
     "end_time": "2021-05-16T21:19:42.937503Z",
     "start_time": "2021-05-16T21:19:42.894504Z"
    }
   },
   "outputs": [
    {
     "name": "stdout",
     "output_type": "stream",
     "text": [
      "Index(['wineries', 'winetastingroom'], dtype='object')\n",
      "Saved to ''data/wineries_San Diego_cleaned.csv''.\n"
     ]
    },
    {
     "data": {
      "text/html": [
       "<div>\n",
       "<style scoped>\n",
       "    .dataframe tbody tr th:only-of-type {\n",
       "        vertical-align: middle;\n",
       "    }\n",
       "\n",
       "    .dataframe tbody tr th {\n",
       "        vertical-align: top;\n",
       "    }\n",
       "\n",
       "    .dataframe thead th {\n",
       "        text-align: right;\n",
       "    }\n",
       "</style>\n",
       "<table border=\"1\" class=\"dataframe\">\n",
       "  <thead>\n",
       "    <tr style=\"text-align: right;\">\n",
       "      <th></th>\n",
       "      <th>name</th>\n",
       "      <th>location</th>\n",
       "      <th>Business ID</th>\n",
       "      <th>alias</th>\n",
       "      <th>title</th>\n",
       "      <th>rating</th>\n",
       "      <th>review_count</th>\n",
       "      <th>price</th>\n",
       "      <th>latitude</th>\n",
       "      <th>longitude</th>\n",
       "      <th>City</th>\n",
       "    </tr>\n",
       "  </thead>\n",
       "  <tbody>\n",
       "    <tr>\n",
       "      <th>0</th>\n",
       "      <td>Bernardo Winery</td>\n",
       "      <td>13330 Paseo Del Verano Norte San Diego, CA 92128</td>\n",
       "      <td>DknnpiG1p4OoM1maFshzXA</td>\n",
       "      <td>winetastingroom</td>\n",
       "      <td>Wine Tasting Room</td>\n",
       "      <td>4.5</td>\n",
       "      <td>626</td>\n",
       "      <td>$$</td>\n",
       "      <td>33.0328</td>\n",
       "      <td>-117.04646</td>\n",
       "      <td>San Diego</td>\n",
       "    </tr>\n",
       "    <tr>\n",
       "      <th>1</th>\n",
       "      <td>Callaway Vineyard &amp; Winery</td>\n",
       "      <td>517 4th Ave Ste 101 San Diego, CA 92101</td>\n",
       "      <td>Cn2_bpTngghYW1ej4zreZg</td>\n",
       "      <td>winetastingroom</td>\n",
       "      <td>Wine Tasting Room</td>\n",
       "      <td>5.0</td>\n",
       "      <td>100</td>\n",
       "      <td>$$</td>\n",
       "      <td>32.7107506117294</td>\n",
       "      <td>-117.160917759246</td>\n",
       "      <td>San Diego</td>\n",
       "    </tr>\n",
       "    <tr>\n",
       "      <th>2</th>\n",
       "      <td>San Pasqual Winery - Seaport Village</td>\n",
       "      <td>805 W Harbor Dr San Diego, CA 92101</td>\n",
       "      <td>gMW1RvyLu90RSQAY9UrIHw</td>\n",
       "      <td>winetastingroom</td>\n",
       "      <td>Wine Tasting Room</td>\n",
       "      <td>4.5</td>\n",
       "      <td>138</td>\n",
       "      <td>$$</td>\n",
       "      <td>32.7087316452387</td>\n",
       "      <td>-117.168194991742</td>\n",
       "      <td>San Diego</td>\n",
       "    </tr>\n",
       "    <tr>\n",
       "      <th>3</th>\n",
       "      <td>Négociant Winery</td>\n",
       "      <td>2419 El Cajon Blvd San Diego, CA 92104</td>\n",
       "      <td>Cc1sQWRWgGyMCjzX2mmMQQ</td>\n",
       "      <td>winetastingroom</td>\n",
       "      <td>Wine Tasting Room</td>\n",
       "      <td>4.5</td>\n",
       "      <td>103</td>\n",
       "      <td>$$</td>\n",
       "      <td>32.75488</td>\n",
       "      <td>-117.13828</td>\n",
       "      <td>San Diego</td>\n",
       "    </tr>\n",
       "    <tr>\n",
       "      <th>4</th>\n",
       "      <td>Domaine Artefact Vineyard &amp; Winery</td>\n",
       "      <td>15404 Highland Valley Rd Escondido, CA 92025</td>\n",
       "      <td>WqVbxY77Ag96X90LultCUw</td>\n",
       "      <td>wineries</td>\n",
       "      <td>Wineries</td>\n",
       "      <td>5.0</td>\n",
       "      <td>96</td>\n",
       "      <td>$$</td>\n",
       "      <td>33.06817</td>\n",
       "      <td>-117.0016</td>\n",
       "      <td>San Diego</td>\n",
       "    </tr>\n",
       "    <tr>\n",
       "      <th>...</th>\n",
       "      <td>...</td>\n",
       "      <td>...</td>\n",
       "      <td>...</td>\n",
       "      <td>...</td>\n",
       "      <td>...</td>\n",
       "      <td>...</td>\n",
       "      <td>...</td>\n",
       "      <td>...</td>\n",
       "      <td>...</td>\n",
       "      <td>...</td>\n",
       "      <td>...</td>\n",
       "    </tr>\n",
       "    <tr>\n",
       "      <th>77</th>\n",
       "      <td>Roll OutThe Barrell Charity Event by Meritage</td>\n",
       "      <td>162 S Rancho Santa Fe Rd Encinitas, CA 92024</td>\n",
       "      <td>wyLm9fIoamN-VALcu3nUVg</td>\n",
       "      <td>wineries</td>\n",
       "      <td>Wineries</td>\n",
       "      <td>4.0</td>\n",
       "      <td>1</td>\n",
       "      <td>NaN</td>\n",
       "      <td>33.037121</td>\n",
       "      <td>-117.238654</td>\n",
       "      <td>San Diego</td>\n",
       "    </tr>\n",
       "    <tr>\n",
       "      <th>78</th>\n",
       "      <td>Licores Kentucky</td>\n",
       "      <td>Calle Puerto y 3ra S/N Col. Centro 22000 Tijua...</td>\n",
       "      <td>B7gID-M2EsdpthrTcwTNYA</td>\n",
       "      <td>wineries</td>\n",
       "      <td>Wineries</td>\n",
       "      <td>5.0</td>\n",
       "      <td>1</td>\n",
       "      <td>NaN</td>\n",
       "      <td>32.534236</td>\n",
       "      <td>-117.034976</td>\n",
       "      <td>San Diego</td>\n",
       "    </tr>\n",
       "    <tr>\n",
       "      <th>79</th>\n",
       "      <td>Barrica 9</td>\n",
       "      <td>Av. Revolución 1265 Col. Zona Centro 22000 Tij...</td>\n",
       "      <td>HxTqmzT4G43iAKXrB3pqQg</td>\n",
       "      <td>winetastingroom</td>\n",
       "      <td>Wine Tasting Room</td>\n",
       "      <td>4.5</td>\n",
       "      <td>7</td>\n",
       "      <td>$$</td>\n",
       "      <td>32.53043</td>\n",
       "      <td>-117.0365</td>\n",
       "      <td>San Diego</td>\n",
       "    </tr>\n",
       "    <tr>\n",
       "      <th>80</th>\n",
       "      <td>RL Liquid Assets, Inc</td>\n",
       "      <td>5909 Sea Lion Pl Ste G Carlsbad, CA 92010</td>\n",
       "      <td>-STecUUsS69EMSE7PxwPwA</td>\n",
       "      <td>wineries</td>\n",
       "      <td>Wineries</td>\n",
       "      <td>3.0</td>\n",
       "      <td>2</td>\n",
       "      <td>NaN</td>\n",
       "      <td>33.134743</td>\n",
       "      <td>-117.248093</td>\n",
       "      <td>San Diego</td>\n",
       "    </tr>\n",
       "    <tr>\n",
       "      <th>81</th>\n",
       "      <td>Cactus Star Vineyard at Scaredy Cat Ranch</td>\n",
       "      <td>17029 Handlebar Rd Ramona, CA 92065</td>\n",
       "      <td>ZeiVSF1SMdVVSkiGE7qaSg</td>\n",
       "      <td>winetastingroom</td>\n",
       "      <td>Wine Tasting Room</td>\n",
       "      <td>5.0</td>\n",
       "      <td>8</td>\n",
       "      <td>$</td>\n",
       "      <td>33.02015</td>\n",
       "      <td>-116.92814</td>\n",
       "      <td>San Diego</td>\n",
       "    </tr>\n",
       "  </tbody>\n",
       "</table>\n",
       "<p>82 rows × 11 columns</p>\n",
       "</div>"
      ],
      "text/plain": [
       "                                             name  \\\n",
       "0                                 Bernardo Winery   \n",
       "1                      Callaway Vineyard & Winery   \n",
       "2            San Pasqual Winery - Seaport Village   \n",
       "3                                Négociant Winery   \n",
       "4              Domaine Artefact Vineyard & Winery   \n",
       "..                                            ...   \n",
       "77  Roll OutThe Barrell Charity Event by Meritage   \n",
       "78                               Licores Kentucky   \n",
       "79                                      Barrica 9   \n",
       "80                          RL Liquid Assets, Inc   \n",
       "81      Cactus Star Vineyard at Scaredy Cat Ranch   \n",
       "\n",
       "                                             location             Business ID  \\\n",
       "0    13330 Paseo Del Verano Norte San Diego, CA 92128  DknnpiG1p4OoM1maFshzXA   \n",
       "1             517 4th Ave Ste 101 San Diego, CA 92101  Cn2_bpTngghYW1ej4zreZg   \n",
       "2                 805 W Harbor Dr San Diego, CA 92101  gMW1RvyLu90RSQAY9UrIHw   \n",
       "3              2419 El Cajon Blvd San Diego, CA 92104  Cc1sQWRWgGyMCjzX2mmMQQ   \n",
       "4        15404 Highland Valley Rd Escondido, CA 92025  WqVbxY77Ag96X90LultCUw   \n",
       "..                                                ...                     ...   \n",
       "77       162 S Rancho Santa Fe Rd Encinitas, CA 92024  wyLm9fIoamN-VALcu3nUVg   \n",
       "78  Calle Puerto y 3ra S/N Col. Centro 22000 Tijua...  B7gID-M2EsdpthrTcwTNYA   \n",
       "79  Av. Revolución 1265 Col. Zona Centro 22000 Tij...  HxTqmzT4G43iAKXrB3pqQg   \n",
       "80          5909 Sea Lion Pl Ste G Carlsbad, CA 92010  -STecUUsS69EMSE7PxwPwA   \n",
       "81                17029 Handlebar Rd Ramona, CA 92065  ZeiVSF1SMdVVSkiGE7qaSg   \n",
       "\n",
       "              alias              title rating review_count price  \\\n",
       "0   winetastingroom  Wine Tasting Room    4.5          626    $$   \n",
       "1   winetastingroom  Wine Tasting Room    5.0          100    $$   \n",
       "2   winetastingroom  Wine Tasting Room    4.5          138    $$   \n",
       "3   winetastingroom  Wine Tasting Room    4.5          103    $$   \n",
       "4          wineries           Wineries    5.0           96    $$   \n",
       "..              ...                ...    ...          ...   ...   \n",
       "77         wineries           Wineries    4.0            1   NaN   \n",
       "78         wineries           Wineries    5.0            1   NaN   \n",
       "79  winetastingroom  Wine Tasting Room    4.5            7    $$   \n",
       "80         wineries           Wineries    3.0            2   NaN   \n",
       "81  winetastingroom  Wine Tasting Room    5.0            8     $   \n",
       "\n",
       "            latitude          longitude       City  \n",
       "0            33.0328         -117.04646  San Diego  \n",
       "1   32.7107506117294  -117.160917759246  San Diego  \n",
       "2   32.7087316452387  -117.168194991742  San Diego  \n",
       "3           32.75488         -117.13828  San Diego  \n",
       "4           33.06817          -117.0016  San Diego  \n",
       "..               ...                ...        ...  \n",
       "77         33.037121        -117.238654  San Diego  \n",
       "78         32.534236        -117.034976  San Diego  \n",
       "79          32.53043          -117.0365  San Diego  \n",
       "80         33.134743        -117.248093  San Diego  \n",
       "81          33.02015         -116.92814  San Diego  \n",
       "\n",
       "[82 rows x 11 columns]"
      ]
     },
     "execution_count": 9,
     "metadata": {},
     "output_type": "execute_result"
    }
   ],
   "source": [
    "top_two_aliases(raw_data = 'data/wineries_San Diego.csv', \n",
    "                location_name = 'San Diego')"
   ]
  },
  {
   "cell_type": "markdown",
   "metadata": {
    "ExecuteTime": {
     "end_time": "2021-05-16T20:32:13.309519Z",
     "start_time": "2021-05-16T20:32:13.298519Z"
    }
   },
   "source": [
    "Now, we want to review the code to check for any missing or null values in our 'price' column. These missing/null values can and will cause issues during our analysis phase, so we will fix them now."
   ]
  },
  {
   "cell_type": "code",
   "execution_count": 10,
   "metadata": {
    "ExecuteTime": {
     "end_time": "2021-05-16T21:19:42.969505Z",
     "start_time": "2021-05-16T21:19:42.940503Z"
    }
   },
   "outputs": [
    {
     "data": {
      "text/plain": [
       "name             0\n",
       "location         0\n",
       "Business ID      0\n",
       "alias            0\n",
       "title            0\n",
       "rating           0\n",
       "review_count     0\n",
       "price           25\n",
       "latitude         0\n",
       "longitude        0\n",
       "City             0\n",
       "dtype: int64"
      ]
     },
     "execution_count": 10,
     "metadata": {},
     "output_type": "execute_result"
    }
   ],
   "source": [
    "# Import data to check\n",
    "df1 = pd.read_csv('data/wineries_San Diego_cleaned.csv')\n",
    "\n",
    "# Check for null values\n",
    "df1.isna().sum()"
   ]
  },
  {
   "cell_type": "code",
   "execution_count": 11,
   "metadata": {
    "ExecuteTime": {
     "end_time": "2021-05-16T21:19:42.984503Z",
     "start_time": "2021-05-16T21:19:42.972506Z"
    },
    "scrolled": true
   },
   "outputs": [
    {
     "data": {
      "text/plain": [
       "$$     53\n",
       "$       3\n",
       "$$$     1\n",
       "Name: price, dtype: int64"
      ]
     },
     "execution_count": 11,
     "metadata": {},
     "output_type": "execute_result"
    }
   ],
   "source": [
    "# Exploring the price column null values\n",
    "df1['price'].value_counts()"
   ]
  },
  {
   "cell_type": "markdown",
   "metadata": {},
   "source": [
    "Our review of the \"price\" column indicates that the average value is two dollar signs, so we will correct the null values by inserting two dollar signs."
   ]
  },
  {
   "cell_type": "code",
   "execution_count": 12,
   "metadata": {
    "ExecuteTime": {
     "end_time": "2021-05-16T21:19:42.999504Z",
     "start_time": "2021-05-16T21:19:42.987504Z"
    }
   },
   "outputs": [
    {
     "data": {
      "text/plain": [
       "name            0\n",
       "location        0\n",
       "Business ID     0\n",
       "alias           0\n",
       "title           0\n",
       "rating          0\n",
       "review_count    0\n",
       "price           0\n",
       "latitude        0\n",
       "longitude       0\n",
       "City            0\n",
       "dtype: int64"
      ]
     },
     "execution_count": 12,
     "metadata": {},
     "output_type": "execute_result"
    }
   ],
   "source": [
    "# Fill with \"$$\", which is the mean, median, and mode all in one!\n",
    "df1.fillna(value=\"$$\", inplace=True)\n",
    "\n",
    "## Confirm all NaN are fixed\n",
    "df1.isna().sum()"
   ]
  },
  {
   "cell_type": "markdown",
   "metadata": {},
   "source": [
    "Finally, we need to convert the details from our \"price\" column into more usable data. Currently, if we try to run any analysis on the column, the \"$\" symbols will return an error.\n",
    "\n",
    "To fix this, we will create another formula to convert the prices to an integer value and save them in a new column. "
   ]
  },
  {
   "cell_type": "code",
   "execution_count": 13,
   "metadata": {
    "ExecuteTime": {
     "end_time": "2021-05-16T21:19:43.015502Z",
     "start_time": "2021-05-16T21:19:43.003506Z"
    },
    "code_folding": []
   },
   "outputs": [],
   "source": [
    "def convert_price(dataframe, location_name):\n",
    "    ''' - Requires a dataframe with the 'price' column elements being NaN, $, $$, $$$, $$$$, or $$$$$.\n",
    "    - Takes a pre-existing dataframe and adds a column to store the conversion from $ to an integer.\n",
    "    - Saves results to new .csv and includes the location name in the file name.'''\n",
    "    \n",
    "    # Converting $s to integers, then saving to new column.\n",
    "    dataframe['price_converted'] = dataframe.loc[:,'price'] \\\n",
    "    .map({np.nan:0, '$':1, '$$':2, '$$$':3, '$$$$':4, '$$$$$':5})\n",
    "    \n",
    "    # Saves results to new file\n",
    "    new_file_name = 'data/wineries_' + location_name + '_price_converted.csv'\n",
    "    dataframe.to_csv(new_file_name,index = False)\n",
    "    \n",
    "    print(f\"Saved to '{new_file_name}.\")\n",
    "    \n",
    "    return dataframe"
   ]
  },
  {
   "cell_type": "code",
   "execution_count": 14,
   "metadata": {
    "ExecuteTime": {
     "end_time": "2021-05-16T21:19:43.063501Z",
     "start_time": "2021-05-16T21:19:43.017503Z"
    }
   },
   "outputs": [
    {
     "name": "stdout",
     "output_type": "stream",
     "text": [
      "Saved to 'data/wineries_San Diego_price_converted.csv.\n"
     ]
    },
    {
     "data": {
      "text/html": [
       "<div>\n",
       "<style scoped>\n",
       "    .dataframe tbody tr th:only-of-type {\n",
       "        vertical-align: middle;\n",
       "    }\n",
       "\n",
       "    .dataframe tbody tr th {\n",
       "        vertical-align: top;\n",
       "    }\n",
       "\n",
       "    .dataframe thead th {\n",
       "        text-align: right;\n",
       "    }\n",
       "</style>\n",
       "<table border=\"1\" class=\"dataframe\">\n",
       "  <thead>\n",
       "    <tr style=\"text-align: right;\">\n",
       "      <th></th>\n",
       "      <th>name</th>\n",
       "      <th>location</th>\n",
       "      <th>Business ID</th>\n",
       "      <th>alias</th>\n",
       "      <th>title</th>\n",
       "      <th>rating</th>\n",
       "      <th>review_count</th>\n",
       "      <th>price</th>\n",
       "      <th>latitude</th>\n",
       "      <th>longitude</th>\n",
       "      <th>City</th>\n",
       "      <th>price_converted</th>\n",
       "    </tr>\n",
       "  </thead>\n",
       "  <tbody>\n",
       "    <tr>\n",
       "      <th>0</th>\n",
       "      <td>Bernardo Winery</td>\n",
       "      <td>13330 Paseo Del Verano Norte San Diego, CA 92128</td>\n",
       "      <td>DknnpiG1p4OoM1maFshzXA</td>\n",
       "      <td>winetastingroom</td>\n",
       "      <td>Wine Tasting Room</td>\n",
       "      <td>4.5</td>\n",
       "      <td>626</td>\n",
       "      <td>$$</td>\n",
       "      <td>33.032800</td>\n",
       "      <td>-117.046460</td>\n",
       "      <td>San Diego</td>\n",
       "      <td>2</td>\n",
       "    </tr>\n",
       "    <tr>\n",
       "      <th>1</th>\n",
       "      <td>Callaway Vineyard &amp; Winery</td>\n",
       "      <td>517 4th Ave Ste 101 San Diego, CA 92101</td>\n",
       "      <td>Cn2_bpTngghYW1ej4zreZg</td>\n",
       "      <td>winetastingroom</td>\n",
       "      <td>Wine Tasting Room</td>\n",
       "      <td>5.0</td>\n",
       "      <td>100</td>\n",
       "      <td>$$</td>\n",
       "      <td>32.710751</td>\n",
       "      <td>-117.160918</td>\n",
       "      <td>San Diego</td>\n",
       "      <td>2</td>\n",
       "    </tr>\n",
       "    <tr>\n",
       "      <th>2</th>\n",
       "      <td>San Pasqual Winery - Seaport Village</td>\n",
       "      <td>805 W Harbor Dr San Diego, CA 92101</td>\n",
       "      <td>gMW1RvyLu90RSQAY9UrIHw</td>\n",
       "      <td>winetastingroom</td>\n",
       "      <td>Wine Tasting Room</td>\n",
       "      <td>4.5</td>\n",
       "      <td>138</td>\n",
       "      <td>$$</td>\n",
       "      <td>32.708732</td>\n",
       "      <td>-117.168195</td>\n",
       "      <td>San Diego</td>\n",
       "      <td>2</td>\n",
       "    </tr>\n",
       "    <tr>\n",
       "      <th>3</th>\n",
       "      <td>Négociant Winery</td>\n",
       "      <td>2419 El Cajon Blvd San Diego, CA 92104</td>\n",
       "      <td>Cc1sQWRWgGyMCjzX2mmMQQ</td>\n",
       "      <td>winetastingroom</td>\n",
       "      <td>Wine Tasting Room</td>\n",
       "      <td>4.5</td>\n",
       "      <td>103</td>\n",
       "      <td>$$</td>\n",
       "      <td>32.754880</td>\n",
       "      <td>-117.138280</td>\n",
       "      <td>San Diego</td>\n",
       "      <td>2</td>\n",
       "    </tr>\n",
       "    <tr>\n",
       "      <th>4</th>\n",
       "      <td>Domaine Artefact Vineyard &amp; Winery</td>\n",
       "      <td>15404 Highland Valley Rd Escondido, CA 92025</td>\n",
       "      <td>WqVbxY77Ag96X90LultCUw</td>\n",
       "      <td>wineries</td>\n",
       "      <td>Wineries</td>\n",
       "      <td>5.0</td>\n",
       "      <td>96</td>\n",
       "      <td>$$</td>\n",
       "      <td>33.068170</td>\n",
       "      <td>-117.001600</td>\n",
       "      <td>San Diego</td>\n",
       "      <td>2</td>\n",
       "    </tr>\n",
       "    <tr>\n",
       "      <th>...</th>\n",
       "      <td>...</td>\n",
       "      <td>...</td>\n",
       "      <td>...</td>\n",
       "      <td>...</td>\n",
       "      <td>...</td>\n",
       "      <td>...</td>\n",
       "      <td>...</td>\n",
       "      <td>...</td>\n",
       "      <td>...</td>\n",
       "      <td>...</td>\n",
       "      <td>...</td>\n",
       "      <td>...</td>\n",
       "    </tr>\n",
       "    <tr>\n",
       "      <th>77</th>\n",
       "      <td>Roll OutThe Barrell Charity Event by Meritage</td>\n",
       "      <td>162 S Rancho Santa Fe Rd Encinitas, CA 92024</td>\n",
       "      <td>wyLm9fIoamN-VALcu3nUVg</td>\n",
       "      <td>wineries</td>\n",
       "      <td>Wineries</td>\n",
       "      <td>4.0</td>\n",
       "      <td>1</td>\n",
       "      <td>$$</td>\n",
       "      <td>33.037121</td>\n",
       "      <td>-117.238654</td>\n",
       "      <td>San Diego</td>\n",
       "      <td>2</td>\n",
       "    </tr>\n",
       "    <tr>\n",
       "      <th>78</th>\n",
       "      <td>Licores Kentucky</td>\n",
       "      <td>Calle Puerto y 3ra S/N Col. Centro 22000 Tijua...</td>\n",
       "      <td>B7gID-M2EsdpthrTcwTNYA</td>\n",
       "      <td>wineries</td>\n",
       "      <td>Wineries</td>\n",
       "      <td>5.0</td>\n",
       "      <td>1</td>\n",
       "      <td>$$</td>\n",
       "      <td>32.534236</td>\n",
       "      <td>-117.034976</td>\n",
       "      <td>San Diego</td>\n",
       "      <td>2</td>\n",
       "    </tr>\n",
       "    <tr>\n",
       "      <th>79</th>\n",
       "      <td>Barrica 9</td>\n",
       "      <td>Av. Revolución 1265 Col. Zona Centro 22000 Tij...</td>\n",
       "      <td>HxTqmzT4G43iAKXrB3pqQg</td>\n",
       "      <td>winetastingroom</td>\n",
       "      <td>Wine Tasting Room</td>\n",
       "      <td>4.5</td>\n",
       "      <td>7</td>\n",
       "      <td>$$</td>\n",
       "      <td>32.530430</td>\n",
       "      <td>-117.036500</td>\n",
       "      <td>San Diego</td>\n",
       "      <td>2</td>\n",
       "    </tr>\n",
       "    <tr>\n",
       "      <th>80</th>\n",
       "      <td>RL Liquid Assets, Inc</td>\n",
       "      <td>5909 Sea Lion Pl Ste G Carlsbad, CA 92010</td>\n",
       "      <td>-STecUUsS69EMSE7PxwPwA</td>\n",
       "      <td>wineries</td>\n",
       "      <td>Wineries</td>\n",
       "      <td>3.0</td>\n",
       "      <td>2</td>\n",
       "      <td>$$</td>\n",
       "      <td>33.134743</td>\n",
       "      <td>-117.248093</td>\n",
       "      <td>San Diego</td>\n",
       "      <td>2</td>\n",
       "    </tr>\n",
       "    <tr>\n",
       "      <th>81</th>\n",
       "      <td>Cactus Star Vineyard at Scaredy Cat Ranch</td>\n",
       "      <td>17029 Handlebar Rd Ramona, CA 92065</td>\n",
       "      <td>ZeiVSF1SMdVVSkiGE7qaSg</td>\n",
       "      <td>winetastingroom</td>\n",
       "      <td>Wine Tasting Room</td>\n",
       "      <td>5.0</td>\n",
       "      <td>8</td>\n",
       "      <td>$</td>\n",
       "      <td>33.020150</td>\n",
       "      <td>-116.928140</td>\n",
       "      <td>San Diego</td>\n",
       "      <td>1</td>\n",
       "    </tr>\n",
       "  </tbody>\n",
       "</table>\n",
       "<p>82 rows × 12 columns</p>\n",
       "</div>"
      ],
      "text/plain": [
       "                                             name  \\\n",
       "0                                 Bernardo Winery   \n",
       "1                      Callaway Vineyard & Winery   \n",
       "2            San Pasqual Winery - Seaport Village   \n",
       "3                                Négociant Winery   \n",
       "4              Domaine Artefact Vineyard & Winery   \n",
       "..                                            ...   \n",
       "77  Roll OutThe Barrell Charity Event by Meritage   \n",
       "78                               Licores Kentucky   \n",
       "79                                      Barrica 9   \n",
       "80                          RL Liquid Assets, Inc   \n",
       "81      Cactus Star Vineyard at Scaredy Cat Ranch   \n",
       "\n",
       "                                             location             Business ID  \\\n",
       "0    13330 Paseo Del Verano Norte San Diego, CA 92128  DknnpiG1p4OoM1maFshzXA   \n",
       "1             517 4th Ave Ste 101 San Diego, CA 92101  Cn2_bpTngghYW1ej4zreZg   \n",
       "2                 805 W Harbor Dr San Diego, CA 92101  gMW1RvyLu90RSQAY9UrIHw   \n",
       "3              2419 El Cajon Blvd San Diego, CA 92104  Cc1sQWRWgGyMCjzX2mmMQQ   \n",
       "4        15404 Highland Valley Rd Escondido, CA 92025  WqVbxY77Ag96X90LultCUw   \n",
       "..                                                ...                     ...   \n",
       "77       162 S Rancho Santa Fe Rd Encinitas, CA 92024  wyLm9fIoamN-VALcu3nUVg   \n",
       "78  Calle Puerto y 3ra S/N Col. Centro 22000 Tijua...  B7gID-M2EsdpthrTcwTNYA   \n",
       "79  Av. Revolución 1265 Col. Zona Centro 22000 Tij...  HxTqmzT4G43iAKXrB3pqQg   \n",
       "80          5909 Sea Lion Pl Ste G Carlsbad, CA 92010  -STecUUsS69EMSE7PxwPwA   \n",
       "81                17029 Handlebar Rd Ramona, CA 92065  ZeiVSF1SMdVVSkiGE7qaSg   \n",
       "\n",
       "              alias              title  rating  review_count price   latitude  \\\n",
       "0   winetastingroom  Wine Tasting Room     4.5           626    $$  33.032800   \n",
       "1   winetastingroom  Wine Tasting Room     5.0           100    $$  32.710751   \n",
       "2   winetastingroom  Wine Tasting Room     4.5           138    $$  32.708732   \n",
       "3   winetastingroom  Wine Tasting Room     4.5           103    $$  32.754880   \n",
       "4          wineries           Wineries     5.0            96    $$  33.068170   \n",
       "..              ...                ...     ...           ...   ...        ...   \n",
       "77         wineries           Wineries     4.0             1    $$  33.037121   \n",
       "78         wineries           Wineries     5.0             1    $$  32.534236   \n",
       "79  winetastingroom  Wine Tasting Room     4.5             7    $$  32.530430   \n",
       "80         wineries           Wineries     3.0             2    $$  33.134743   \n",
       "81  winetastingroom  Wine Tasting Room     5.0             8     $  33.020150   \n",
       "\n",
       "     longitude       City  price_converted  \n",
       "0  -117.046460  San Diego                2  \n",
       "1  -117.160918  San Diego                2  \n",
       "2  -117.168195  San Diego                2  \n",
       "3  -117.138280  San Diego                2  \n",
       "4  -117.001600  San Diego                2  \n",
       "..         ...        ...              ...  \n",
       "77 -117.238654  San Diego                2  \n",
       "78 -117.034976  San Diego                2  \n",
       "79 -117.036500  San Diego                2  \n",
       "80 -117.248093  San Diego                2  \n",
       "81 -116.928140  San Diego                1  \n",
       "\n",
       "[82 rows x 12 columns]"
      ]
     },
     "execution_count": 14,
     "metadata": {},
     "output_type": "execute_result"
    }
   ],
   "source": [
    "convert_price(df1, 'San Diego')"
   ]
  },
  {
   "cell_type": "markdown",
   "metadata": {},
   "source": [
    "Great! **We finished up our process to call the Yelp API for our business data; parse the results and save the relevant details; and we cleaned the resulting data.**\n",
    "\n",
    "Now we are able to use this processed data for analysis in another notebook."
   ]
  }
 ],
 "metadata": {
  "kernelspec": {
   "display_name": "Python (learn-env-bmc)",
   "language": "python",
   "name": "learn-env-bmc"
  },
  "language_info": {
   "codemirror_mode": {
    "name": "ipython",
    "version": 3
   },
   "file_extension": ".py",
   "mimetype": "text/x-python",
   "name": "python",
   "nbconvert_exporter": "python",
   "pygments_lexer": "ipython3",
   "version": "3.8.5"
  },
  "toc": {
   "base_numbering": 1,
   "nav_menu": {},
   "number_sections": true,
   "sideBar": true,
   "skip_h1_title": false,
   "title_cell": "Table of Contents",
   "title_sidebar": "Contents",
   "toc_cell": false,
   "toc_position": {
    "height": "calc(100% - 180px)",
    "left": "10px",
    "top": "150px",
    "width": "165px"
   },
   "toc_section_display": true,
   "toc_window_display": true
  },
  "varInspector": {
   "cols": {
    "lenName": "32",
    "lenType": 16,
    "lenVar": 40
   },
   "kernels_config": {
    "python": {
     "delete_cmd_postfix": "",
     "delete_cmd_prefix": "del ",
     "library": "var_list.py",
     "varRefreshCmd": "print(var_dic_list())"
    },
    "r": {
     "delete_cmd_postfix": ") ",
     "delete_cmd_prefix": "rm(",
     "library": "var_list.r",
     "varRefreshCmd": "cat(var_dic_list()) "
    }
   },
   "types_to_exclude": [
    "module",
    "function",
    "builtin_function_or_method",
    "instance",
    "_Feature"
   ],
   "window_display": false
  }
 },
 "nbformat": 4,
 "nbformat_minor": 4
}
