{
 "cells": [
  {
   "cell_type": "markdown",
   "metadata": {},
   "source": [
    "# **Collecting Business Data from the Yelp API**\n"
   ]
  },
  {
   "cell_type": "markdown",
   "metadata": {},
   "source": [
    "## Import Packages"
   ]
  },
  {
   "cell_type": "markdown",
   "metadata": {},
   "source": [
    "First, we are going to import our packages for use in the notebook. \n",
    "\n",
    "We are going to import packages to:\n",
    "- Read and write to .csv files\n",
    "- Explore the data and generate statistics "
   ]
  },
  {
   "cell_type": "code",
   "execution_count": 2,
   "metadata": {
    "ExecuteTime": {
     "end_time": "2021-05-16T22:03:52.245283Z",
     "start_time": "2021-05-16T22:03:51.887253Z"
    },
    "code_folding": []
   },
   "outputs": [],
   "source": [
    "# Accessing and saving stored data\n",
    "import csv\n",
    "import json\n",
    "\n",
    "# Data exploration and statistics\n",
    "import pandas as pd\n",
    "import numpy as np\n",
    "\n",
    "# Accessing Yelp API for data\n",
    "import requests\n",
    "\n",
    "# Opening secret folder for Yelp API key\n",
    "with open(r'C:\\Users\\bmcca\\.secret\\yelp_api.json') as f:\n",
    "    keys = json.load(f)\n",
    "\n",
    "client_id = keys['id']\n",
    "yelp_key = keys['key']"
   ]
  },
  {
   "cell_type": "markdown",
   "metadata": {},
   "source": [
    "# Business Data"
   ]
  },
  {
   "cell_type": "markdown",
   "metadata": {},
   "source": [
    "## Request"
   ]
  },
  {
   "cell_type": "markdown",
   "metadata": {},
   "source": [
    "First, we need to create a function to request data from the Yelp API. \n",
    "\n",
    "To ensure we can get all of the data, we are including the \"offset\" parameter. Each request will only pull the first fifty results due to limitations from the API. \n",
    "\n",
    "The \"offset\" parameter will allow us to change the data we're pulling by changing the number count of the business. Initially we will get results 0-49, then we will change the offset to \"50\" to move to the next set of results, 50-99, etc.."
   ]
  },
  {
   "cell_type": "code",
   "execution_count": 3,
   "metadata": {
    "ExecuteTime": {
     "end_time": "2021-05-16T22:03:52.261079Z",
     "start_time": "2021-05-16T22:03:52.248049Z"
    },
    "code_folding": []
   },
   "outputs": [],
   "source": [
    "def yelp_request_offset(term, location, yelp_key, offset=0, verbose=False):\n",
    "    '''Adapted from Yelp API Lab: https://github.com/BenJMcCarty/dsc-yelp-api-lab/tree/solution'''\n",
    "    \n",
    "    url = 'https://api.yelp.com/v3/businesses/search'\n",
    "\n",
    "    headers = {\n",
    "            'Authorization': 'Bearer {}'.format(yelp_key),\n",
    "        }\n",
    "\n",
    "    url_params = {\n",
    "                    'term': term.replace(' ', '+'),\n",
    "                    'location': location.replace(' ', '+'),\n",
    "                    'limit': 50,\n",
    "                    'offset': offset\n",
    "                        }\n",
    "    \n",
    "    response = requests.get(url, headers=headers, params=url_params)\n",
    "    \n",
    "    if verbose == True:\n",
    "        print(response)\n",
    "        print(type(response.text))\n",
    "        print(response.text[:1000])\n",
    "        \n",
    "    return response.json()"
   ]
  },
  {
   "cell_type": "markdown",
   "metadata": {},
   "source": [
    "## Parse"
   ]
  },
  {
   "cell_type": "markdown",
   "metadata": {},
   "source": [
    "When we request the data, we will get a LOT of information, more than we will need for our analyses and insights.\n",
    "\n",
    "We will create a function to loop through each result and save specific parts of the information. Once this information is pulled, it will be returned to us as a dataframe, which we can use for cleaning and feature engineering afterwards."
   ]
  },
  {
   "cell_type": "code",
   "execution_count": 4,
   "metadata": {
    "ExecuteTime": {
     "end_time": "2021-05-16T22:03:52.276079Z",
     "start_time": "2021-05-16T22:03:52.264050Z"
    },
    "code_folding": [
     0
    ]
   },
   "outputs": [],
   "source": [
    "def parse_data(list_of_data):\n",
    "    '''Adapted from Tyrell's code'''  \n",
    "\n",
    "    # Create empty list to store results\n",
    "    \n",
    "    parsed_data = []\n",
    "    \n",
    "    # Loop through each business in the list of businesses\n",
    "    # Add specific k:v pairs to a dictionary\n",
    "    \n",
    "    for business in list_of_data:\n",
    "        if 'price' not in business:\n",
    "            business['price'] = np.nan\n",
    "            \n",
    "            # Verify that the \"price\" key is in the selected business dict\n",
    "            \n",
    "        details = {'name': business['name'],\n",
    "                     'location': ' '.join(business['location']['display_address']),\n",
    "                     'Business ID': business['id'],\n",
    "                     'alias': business['categories'][0]['alias'],\n",
    "                     'title': business['categories'][0]['title'],\n",
    "                     'rating': business['rating'],\n",
    "                     'review_count': business['review_count'],\n",
    "                     'price': business['price'],\n",
    "                     'latitude': business['coordinates']['latitude'],\n",
    "                     'longitude': business['coordinates']['longitude']\n",
    "                    }\n",
    "        # Add the new dictionary to the previous list\n",
    "        \n",
    "        parsed_data.append(details)\n",
    "    \n",
    "    # Create a DataFrame from the resulting list\n",
    "    \n",
    "    df_parsed_data = pd.DataFrame(parsed_data)\n",
    "\n",
    "    \n",
    "    return df_parsed_data"
   ]
  },
  {
   "cell_type": "markdown",
   "metadata": {},
   "source": [
    "## Collect All Data "
   ]
  },
  {
   "cell_type": "markdown",
   "metadata": {},
   "source": [
    "Now that we created our functions to request the data and to filter the data for the most relevant parts, we will create a function to pull all of the data, filter it, then save the results to a .csv file for storage."
   ]
  },
  {
   "cell_type": "code",
   "execution_count": 5,
   "metadata": {
    "ExecuteTime": {
     "end_time": "2021-05-16T22:03:52.292183Z",
     "start_time": "2021-05-16T22:03:52.278077Z"
    },
    "code_folding": []
   },
   "outputs": [],
   "source": [
    "def get_full_data(term, location, yelp_key):\n",
    "    '''Requests all results from Yelp API and \n",
    "    saves as a .csv; and returns a DataFrame.'''\n",
    "    \n",
    "    # Create a .csv to store results\n",
    "    file_name = 'data/wineries_' + location +'.csv'\n",
    "    \n",
    "    # Save results to the .csv\n",
    "    blank_df = pd.DataFrame()\n",
    "    blank_df.to_csv(file_name)\n",
    "    \n",
    "    # Process first request to Yelp API and calculate number of pages \n",
    "    results = yelp_request_offset(term, location, yelp_key)\n",
    "    \n",
    "    num_pages = results['total']//50+1\n",
    "    \n",
    "    # Print out confirmation feedback\n",
    "    print(f'For {term} and {location}: ')\n",
    "    print(f\"    Total number of results: {results['total']}.\")\n",
    "    print(f'    Total number of pages: {num_pages}.')\n",
    "    \n",
    "    # Create offset for additional results\n",
    "    offset = 0\n",
    "\n",
    "    # Retrieves remaining pages\n",
    "    for num in range(num_pages-1):\n",
    "        try:\n",
    "            # Process API request\n",
    "            results = yelp_request_offset(term, location, yelp_key,\n",
    "                                          offset=offset)\n",
    "            \n",
    "            # From results, take values from \"Businesses\" key and save\n",
    "            parsed_results = parse_data(results['businesses'])\n",
    "\n",
    "            # Add new key:value pair to identify in which region \n",
    "            # this business is located.\n",
    "            parsed_results['City'] = location\n",
    "          \n",
    "            # Save resulting dataframe to .csv from top\n",
    "            parsed_results.to_csv(file_name, mode='a', index = False)\n",
    "            \n",
    "            # Increase offset to move to next \"page\" of data\n",
    "            offset += 50\n",
    "            \n",
    "        except:\n",
    "            # If error, print where the error happens\n",
    "            print(f'Error on page {num}.')\n",
    "            # Then save the results so far to the .csv\n",
    "            parsed_results.to_csv(file_name, mode='a', index = False)\n",
    "\n",
    "\n",
    "    return parsed_results"
   ]
  },
  {
   "cell_type": "code",
   "execution_count": 6,
   "metadata": {
    "ExecuteTime": {
     "end_time": "2021-05-16T22:03:52.307052Z",
     "start_time": "2021-05-16T22:03:52.295052Z"
    }
   },
   "outputs": [],
   "source": [
    "# get_full_data('winery', 'San_Diego', yelp_key)"
   ]
  },
  {
   "cell_type": "markdown",
   "metadata": {},
   "source": [
    "## Cleaning Data and Feature Engineering"
   ]
  },
  {
   "cell_type": "markdown",
   "metadata": {},
   "source": [
    "At this point, we successfully pulled our data and saved it. Now, we need to make sure that we select only those businesses that are wineries (not distributors or venues). We will start by sorting our data by the number of businesses with each alias, or type of business."
   ]
  },
  {
   "cell_type": "code",
   "execution_count": 7,
   "metadata": {
    "ExecuteTime": {
     "end_time": "2021-05-16T22:03:52.323082Z",
     "start_time": "2021-05-16T22:03:52.309052Z"
    },
    "code_folding": []
   },
   "outputs": [],
   "source": [
    "def identify_top_aliases(raw_data = None):\n",
    "    '''- Requires user to specify an existing .csv file\n",
    "    - Takes raw business data from the Yelp API and identifies the top two\n",
    "    aliases.\n",
    "    '''\n",
    "\n",
    "    # Read in businesses\n",
    "    df1 = pd.read_csv(raw_data, header = 1)\n",
    "\n",
    "    alias_index = df1['alias'].value_counts()[:3].index\n",
    "    print(alias_index)"
   ]
  },
  {
   "cell_type": "code",
   "execution_count": 8,
   "metadata": {
    "ExecuteTime": {
     "end_time": "2021-05-16T22:03:52.339052Z",
     "start_time": "2021-05-16T22:03:52.325064Z"
    }
   },
   "outputs": [],
   "source": [
    "# identify_top_aliases(raw_data = 'data/wineries_San_Diego.csv')"
   ]
  },
  {
   "cell_type": "markdown",
   "metadata": {},
   "source": [
    "Based off of our function, we identified our top three businesses. Since we can tell that we only want \"wineries\" and \"winetastingrooms,\" we'll create a new function to filter out the unwanted results."
   ]
  },
  {
   "cell_type": "code",
   "execution_count": 9,
   "metadata": {
    "ExecuteTime": {
     "end_time": "2021-05-16T22:03:52.355052Z",
     "start_time": "2021-05-16T22:03:52.344054Z"
    },
    "code_folding": []
   },
   "outputs": [],
   "source": [
    "def top_two_aliases(raw_data = None, location_name = ''):\n",
    "    '''- Requires an existing .csv file and name of location.\n",
    "    - Takes raw business data from the Yelp API and filters for the top two\n",
    "    aliases (focusing on \"wineries\" and \"winetastingrooms\").\n",
    "    '''\n",
    "\n",
    "    # Read in businesses\n",
    "    df1 = pd.read_csv(raw_data, header = 1)\n",
    "\n",
    "    alias_index = df1['alias'].value_counts()[:2].index\n",
    "    print(alias_index)\n",
    "    \n",
    "    # Filtering rows based on condition\n",
    "\n",
    "    df2 = df1[df1['alias'].isin(alias_index)]\n",
    "    \n",
    "    # Resetting index\n",
    "    df2.reset_index(drop=True, inplace=True)\n",
    "    \n",
    "    # Save results\n",
    "    new_file_name = 'data/wineries_' + location_name + '_cleaned.csv'\n",
    "    df2.to_csv(new_file_name, index = False)\n",
    "       \n",
    "    print(f\"Saved to ''{new_file_name}''.\")\n",
    "    \n",
    "    return df2"
   ]
  },
  {
   "cell_type": "code",
   "execution_count": 10,
   "metadata": {
    "ExecuteTime": {
     "end_time": "2021-05-16T22:03:52.371059Z",
     "start_time": "2021-05-16T22:03:52.360049Z"
    }
   },
   "outputs": [],
   "source": [
    "# top_two_aliases(raw_data = 'data/wineries_San_Diego.csv', \n",
    "#                 location_name = 'San_Diego')"
   ]
  },
  {
   "cell_type": "markdown",
   "metadata": {
    "ExecuteTime": {
     "end_time": "2021-05-16T20:32:13.309519Z",
     "start_time": "2021-05-16T20:32:13.298519Z"
    }
   },
   "source": [
    "Now, we want to review the code to check for any missing or null values in our 'price' column. These missing/null values can and will cause issues during our analysis phase, so we will fix them now."
   ]
  },
  {
   "cell_type": "code",
   "execution_count": 11,
   "metadata": {
    "ExecuteTime": {
     "end_time": "2021-05-16T22:03:52.403055Z",
     "start_time": "2021-05-16T22:03:52.374053Z"
    }
   },
   "outputs": [
    {
     "data": {
      "text/plain": [
       "name             0\n",
       "location         0\n",
       "Business ID      0\n",
       "alias            0\n",
       "title            0\n",
       "rating           0\n",
       "review_count     0\n",
       "price           25\n",
       "latitude         0\n",
       "longitude        0\n",
       "City             0\n",
       "dtype: int64"
      ]
     },
     "execution_count": 11,
     "metadata": {},
     "output_type": "execute_result"
    }
   ],
   "source": [
    "# Import data to check\n",
    "df1 = pd.read_csv('data/wineries_San_Diego_cleaned.csv')\n",
    "\n",
    "# Check for null values\n",
    "df1.isna().sum()"
   ]
  },
  {
   "cell_type": "code",
   "execution_count": 12,
   "metadata": {
    "ExecuteTime": {
     "end_time": "2021-05-16T22:03:52.419049Z",
     "start_time": "2021-05-16T22:03:52.405049Z"
    },
    "scrolled": true
   },
   "outputs": [],
   "source": [
    "# # Exploring the price column null values\n",
    "# df1['price'].value_counts()"
   ]
  },
  {
   "cell_type": "markdown",
   "metadata": {},
   "source": [
    "Our review of the \"price\" column indicates that the average value is two dollar signs, so we will correct the null values by inserting two dollar signs."
   ]
  },
  {
   "cell_type": "code",
   "execution_count": 13,
   "metadata": {
    "ExecuteTime": {
     "end_time": "2021-05-16T22:03:52.435050Z",
     "start_time": "2021-05-16T22:03:52.422052Z"
    }
   },
   "outputs": [],
   "source": [
    "# # Fill with \"$$\", which is the mean, median, and mode all in one!\n",
    "# df1.fillna(value=\"$$\", inplace=True)\n",
    "\n",
    "# ## Confirm all NaN are fixed\n",
    "# df1.isna().sum()"
   ]
  },
  {
   "cell_type": "markdown",
   "metadata": {},
   "source": [
    "Finally, we need to convert the details from our \"price\" column into more usable data. Currently, if we try to run any analysis on the column, the \"$\" symbols will return an error.\n",
    "\n",
    "To fix this, we will create another formula to convert the prices to an integer value and save them in a new column. "
   ]
  },
  {
   "cell_type": "code",
   "execution_count": 14,
   "metadata": {
    "ExecuteTime": {
     "end_time": "2021-05-16T22:03:52.451065Z",
     "start_time": "2021-05-16T22:03:52.437049Z"
    },
    "code_folding": []
   },
   "outputs": [],
   "source": [
    "def convert_price(dataframe, location_name):\n",
    "    ''' - Requires a dataframe with the 'price' column elements being NaN, $, $$, $$$, $$$$, or $$$$$.\n",
    "    - Takes a pre-existing dataframe and adds a column to store the conversion from $ to an integer.\n",
    "    - Saves results to new .csv and includes the location name in the file name.'''\n",
    "    \n",
    "    # Converting $s to integers, then saving to new column.\n",
    "    dataframe['price_converted'] = dataframe.loc[:,'price'] \\\n",
    "    .map({np.nan:0, '$':1, '$$':2, '$$$':3, '$$$$':4, '$$$$$':5})\n",
    "    \n",
    "    # Saves results to new file\n",
    "    new_file_name = 'data/wineries_' + location_name + '_price_converted.csv'\n",
    "    dataframe.to_csv(new_file_name,index = False)\n",
    "    \n",
    "    print(f\"Saved to '{new_file_name}.\")\n",
    "    \n",
    "    return dataframe"
   ]
  },
  {
   "cell_type": "code",
   "execution_count": 15,
   "metadata": {
    "ExecuteTime": {
     "end_time": "2021-05-16T22:03:52.467052Z",
     "start_time": "2021-05-16T22:03:52.453050Z"
    }
   },
   "outputs": [],
   "source": [
    "# convert_price(df1, 'San_Diego')"
   ]
  },
  {
   "cell_type": "markdown",
   "metadata": {},
   "source": [
    "Great! **We finished up our process to call the Yelp API for our business data; parse the results and save the relevant details; and we cleaned the resulting data.**\n",
    "\n",
    "Now we are able to use this processed data for analysis in another notebook."
   ]
  },
  {
   "cell_type": "markdown",
   "metadata": {},
   "source": [
    "# Generating Data for Napa Valley"
   ]
  },
  {
   "cell_type": "markdown",
   "metadata": {},
   "source": [
    "Now that we have the code for San Diego, we will use the functions and code for the Napa Valley region. Then, we will take the code and use it in our data exploration and visualizations."
   ]
  },
  {
   "cell_type": "code",
   "execution_count": 16,
   "metadata": {
    "ExecuteTime": {
     "end_time": "2021-05-16T22:03:52.483050Z",
     "start_time": "2021-05-16T22:03:52.470051Z"
    },
    "scrolled": true
   },
   "outputs": [],
   "source": [
    "# get_full_data('winery', 'Napa_Valley', yelp_key)"
   ]
  },
  {
   "cell_type": "code",
   "execution_count": 17,
   "metadata": {
    "ExecuteTime": {
     "end_time": "2021-05-16T22:03:52.499049Z",
     "start_time": "2021-05-16T22:03:52.486051Z"
    }
   },
   "outputs": [],
   "source": [
    "# identify_top_aliases('data/wineries_Napa_Valley.csv')"
   ]
  },
  {
   "cell_type": "code",
   "execution_count": 18,
   "metadata": {
    "ExecuteTime": {
     "end_time": "2021-05-16T22:03:52.515062Z",
     "start_time": "2021-05-16T22:03:52.501050Z"
    }
   },
   "outputs": [],
   "source": [
    "# top_two_aliases('data/wineries_Napa_Valley.csv', \"Napa Valley\")"
   ]
  },
  {
   "cell_type": "code",
   "execution_count": 19,
   "metadata": {
    "ExecuteTime": {
     "end_time": "2021-05-16T22:03:52.531050Z",
     "start_time": "2021-05-16T22:03:52.517050Z"
    }
   },
   "outputs": [
    {
     "data": {
      "text/plain": [
       "name              0\n",
       "location          0\n",
       "Business ID       0\n",
       "alias             0\n",
       "title             0\n",
       "rating            0\n",
       "review_count      0\n",
       "price           166\n",
       "latitude          0\n",
       "longitude         0\n",
       "City              0\n",
       "dtype: int64"
      ]
     },
     "execution_count": 19,
     "metadata": {},
     "output_type": "execute_result"
    }
   ],
   "source": [
    "# Import data to check\n",
    "df2 = pd.read_csv('data/wineries_Napa Valley_cleaned.csv')\n",
    "\n",
    "# Check for null values\n",
    "df2.isna().sum()"
   ]
  },
  {
   "cell_type": "code",
   "execution_count": 20,
   "metadata": {
    "ExecuteTime": {
     "end_time": "2021-05-16T22:03:52.547050Z",
     "start_time": "2021-05-16T22:03:52.533050Z"
    }
   },
   "outputs": [
    {
     "data": {
      "text/plain": [
       "$$      156\n",
       "$$$      61\n",
       "$$$$     16\n",
       "$         4\n",
       "Name: price, dtype: int64"
      ]
     },
     "execution_count": 20,
     "metadata": {},
     "output_type": "execute_result"
    }
   ],
   "source": [
    "# Exploring the price column null values\n",
    "df2['price'].value_counts()"
   ]
  },
  {
   "cell_type": "code",
   "execution_count": 21,
   "metadata": {
    "ExecuteTime": {
     "end_time": "2021-05-16T22:03:56.483464Z",
     "start_time": "2021-05-16T22:03:56.472449Z"
    }
   },
   "outputs": [
    {
     "data": {
      "text/plain": [
       "name            0\n",
       "location        0\n",
       "Business ID     0\n",
       "alias           0\n",
       "title           0\n",
       "rating          0\n",
       "review_count    0\n",
       "price           0\n",
       "latitude        0\n",
       "longitude       0\n",
       "City            0\n",
       "dtype: int64"
      ]
     },
     "execution_count": 21,
     "metadata": {},
     "output_type": "execute_result"
    }
   ],
   "source": [
    "# Fill with \"$$\", which is the best representation of the data set.\n",
    "df2.fillna(value=\"$$\", inplace=True)\n",
    "\n",
    "## Confirm all NaN are fixed\n",
    "df2.isna().sum()"
   ]
  },
  {
   "cell_type": "code",
   "execution_count": 22,
   "metadata": {
    "ExecuteTime": {
     "end_time": "2021-05-16T22:03:56.843375Z",
     "start_time": "2021-05-16T22:03:56.793376Z"
    }
   },
   "outputs": [
    {
     "name": "stdout",
     "output_type": "stream",
     "text": [
      "Saved to 'data/wineries_Napa Valley_price_converted.csv.\n"
     ]
    },
    {
     "data": {
      "text/html": [
       "<div>\n",
       "<style scoped>\n",
       "    .dataframe tbody tr th:only-of-type {\n",
       "        vertical-align: middle;\n",
       "    }\n",
       "\n",
       "    .dataframe tbody tr th {\n",
       "        vertical-align: top;\n",
       "    }\n",
       "\n",
       "    .dataframe thead th {\n",
       "        text-align: right;\n",
       "    }\n",
       "</style>\n",
       "<table border=\"1\" class=\"dataframe\">\n",
       "  <thead>\n",
       "    <tr style=\"text-align: right;\">\n",
       "      <th></th>\n",
       "      <th>name</th>\n",
       "      <th>location</th>\n",
       "      <th>Business ID</th>\n",
       "      <th>alias</th>\n",
       "      <th>title</th>\n",
       "      <th>rating</th>\n",
       "      <th>review_count</th>\n",
       "      <th>price</th>\n",
       "      <th>latitude</th>\n",
       "      <th>longitude</th>\n",
       "      <th>City</th>\n",
       "      <th>price_converted</th>\n",
       "    </tr>\n",
       "  </thead>\n",
       "  <tbody>\n",
       "    <tr>\n",
       "      <th>0</th>\n",
       "      <td>Hendry Vineyard and Winery</td>\n",
       "      <td>3104 Redwood Rd Napa, CA 94558</td>\n",
       "      <td>mO8n3zTLoFhlmcfQr7X_TQ</td>\n",
       "      <td>wineries</td>\n",
       "      <td>Wineries</td>\n",
       "      <td>5.0</td>\n",
       "      <td>658</td>\n",
       "      <td>$$</td>\n",
       "      <td>38.321680</td>\n",
       "      <td>-122.344810</td>\n",
       "      <td>Napa_Valley</td>\n",
       "      <td>2</td>\n",
       "    </tr>\n",
       "    <tr>\n",
       "      <th>1</th>\n",
       "      <td>Domaine Carneros</td>\n",
       "      <td>1240 Duhig Rd Napa, CA 94559</td>\n",
       "      <td>8eGTOeEQpUpYb89ISug3ag</td>\n",
       "      <td>wineries</td>\n",
       "      <td>Wineries</td>\n",
       "      <td>4.0</td>\n",
       "      <td>2239</td>\n",
       "      <td>$$</td>\n",
       "      <td>38.255534</td>\n",
       "      <td>-122.351391</td>\n",
       "      <td>Napa_Valley</td>\n",
       "      <td>2</td>\n",
       "    </tr>\n",
       "    <tr>\n",
       "      <th>2</th>\n",
       "      <td>Paraduxx Winery</td>\n",
       "      <td>7257 Silverado Trl Napa, CA 94558</td>\n",
       "      <td>cBFZALrZbLV5XBsiPcgknQ</td>\n",
       "      <td>wineries</td>\n",
       "      <td>Wineries</td>\n",
       "      <td>4.5</td>\n",
       "      <td>373</td>\n",
       "      <td>$$</td>\n",
       "      <td>38.435480</td>\n",
       "      <td>-122.351430</td>\n",
       "      <td>Napa_Valley</td>\n",
       "      <td>2</td>\n",
       "    </tr>\n",
       "    <tr>\n",
       "      <th>3</th>\n",
       "      <td>Jarvis Winery</td>\n",
       "      <td>2970 Monticello Rd Napa, CA 94558</td>\n",
       "      <td>NPkAqW68Og5eBofEpPiRXQ</td>\n",
       "      <td>wineries</td>\n",
       "      <td>Wineries</td>\n",
       "      <td>4.5</td>\n",
       "      <td>209</td>\n",
       "      <td>$$$</td>\n",
       "      <td>38.357010</td>\n",
       "      <td>-122.213620</td>\n",
       "      <td>Napa_Valley</td>\n",
       "      <td>3</td>\n",
       "    </tr>\n",
       "    <tr>\n",
       "      <th>4</th>\n",
       "      <td>Cuvaison Estate Wines</td>\n",
       "      <td>1221 Duhig Rd Napa, CA 94559</td>\n",
       "      <td>rjiMUH4UecBVD3wkqhgxXw</td>\n",
       "      <td>wineries</td>\n",
       "      <td>Wineries</td>\n",
       "      <td>4.0</td>\n",
       "      <td>327</td>\n",
       "      <td>$$</td>\n",
       "      <td>38.251176</td>\n",
       "      <td>-122.347084</td>\n",
       "      <td>Napa_Valley</td>\n",
       "      <td>2</td>\n",
       "    </tr>\n",
       "    <tr>\n",
       "      <th>...</th>\n",
       "      <td>...</td>\n",
       "      <td>...</td>\n",
       "      <td>...</td>\n",
       "      <td>...</td>\n",
       "      <td>...</td>\n",
       "      <td>...</td>\n",
       "      <td>...</td>\n",
       "      <td>...</td>\n",
       "      <td>...</td>\n",
       "      <td>...</td>\n",
       "      <td>...</td>\n",
       "      <td>...</td>\n",
       "    </tr>\n",
       "    <tr>\n",
       "      <th>398</th>\n",
       "      <td>Andretti Winery</td>\n",
       "      <td>1625 Trancas St Ste 3017 Napa, CA 94558</td>\n",
       "      <td>NKCMqIlRopcSMA15JpeyJg</td>\n",
       "      <td>wineries</td>\n",
       "      <td>Wineries</td>\n",
       "      <td>3.5</td>\n",
       "      <td>311</td>\n",
       "      <td>$$</td>\n",
       "      <td>38.321516</td>\n",
       "      <td>-122.304108</td>\n",
       "      <td>Napa_Valley</td>\n",
       "      <td>2</td>\n",
       "    </tr>\n",
       "    <tr>\n",
       "      <th>399</th>\n",
       "      <td>Lionstone International</td>\n",
       "      <td>21481 8th St E Sonoma, CA 95476</td>\n",
       "      <td>pW9QPUkm2_tTXLCzyQ6qvg</td>\n",
       "      <td>wineries</td>\n",
       "      <td>Wineries</td>\n",
       "      <td>1.0</td>\n",
       "      <td>1</td>\n",
       "      <td>$$</td>\n",
       "      <td>38.262062</td>\n",
       "      <td>-122.442036</td>\n",
       "      <td>Napa_Valley</td>\n",
       "      <td>2</td>\n",
       "    </tr>\n",
       "    <tr>\n",
       "      <th>400</th>\n",
       "      <td>Napa Vinyards</td>\n",
       "      <td>Napa, CA 94558</td>\n",
       "      <td>UwgQWRkTzlFnw3-QYCaBlQ</td>\n",
       "      <td>wineries</td>\n",
       "      <td>Wineries</td>\n",
       "      <td>1.0</td>\n",
       "      <td>1</td>\n",
       "      <td>$$</td>\n",
       "      <td>38.383260</td>\n",
       "      <td>-122.313060</td>\n",
       "      <td>Napa_Valley</td>\n",
       "      <td>2</td>\n",
       "    </tr>\n",
       "    <tr>\n",
       "      <th>401</th>\n",
       "      <td>Cook Vinyard Management</td>\n",
       "      <td>19626 Eighth St E Sonoma, CA 95476</td>\n",
       "      <td>LxMkyxBokxu6iRIsuMF5Tw</td>\n",
       "      <td>wineries</td>\n",
       "      <td>Wineries</td>\n",
       "      <td>1.0</td>\n",
       "      <td>1</td>\n",
       "      <td>$$</td>\n",
       "      <td>38.286261</td>\n",
       "      <td>-122.434893</td>\n",
       "      <td>Napa_Valley</td>\n",
       "      <td>2</td>\n",
       "    </tr>\n",
       "    <tr>\n",
       "      <th>402</th>\n",
       "      <td>Top It Off Bottling</td>\n",
       "      <td>21481 8th St E Ste 1 Sonoma, CA 95476</td>\n",
       "      <td>Jt-VYmagp5ETW1v_G_Ae0g</td>\n",
       "      <td>wineries</td>\n",
       "      <td>Wineries</td>\n",
       "      <td>1.0</td>\n",
       "      <td>2</td>\n",
       "      <td>$$</td>\n",
       "      <td>38.262480</td>\n",
       "      <td>-122.442070</td>\n",
       "      <td>Napa_Valley</td>\n",
       "      <td>2</td>\n",
       "    </tr>\n",
       "  </tbody>\n",
       "</table>\n",
       "<p>403 rows × 12 columns</p>\n",
       "</div>"
      ],
      "text/plain": [
       "                           name                                 location  \\\n",
       "0    Hendry Vineyard and Winery           3104 Redwood Rd Napa, CA 94558   \n",
       "1              Domaine Carneros             1240 Duhig Rd Napa, CA 94559   \n",
       "2               Paraduxx Winery        7257 Silverado Trl Napa, CA 94558   \n",
       "3                 Jarvis Winery        2970 Monticello Rd Napa, CA 94558   \n",
       "4         Cuvaison Estate Wines             1221 Duhig Rd Napa, CA 94559   \n",
       "..                          ...                                      ...   \n",
       "398             Andretti Winery  1625 Trancas St Ste 3017 Napa, CA 94558   \n",
       "399     Lionstone International          21481 8th St E Sonoma, CA 95476   \n",
       "400               Napa Vinyards                           Napa, CA 94558   \n",
       "401     Cook Vinyard Management       19626 Eighth St E Sonoma, CA 95476   \n",
       "402         Top It Off Bottling    21481 8th St E Ste 1 Sonoma, CA 95476   \n",
       "\n",
       "                Business ID     alias     title  rating  review_count price  \\\n",
       "0    mO8n3zTLoFhlmcfQr7X_TQ  wineries  Wineries     5.0           658    $$   \n",
       "1    8eGTOeEQpUpYb89ISug3ag  wineries  Wineries     4.0          2239    $$   \n",
       "2    cBFZALrZbLV5XBsiPcgknQ  wineries  Wineries     4.5           373    $$   \n",
       "3    NPkAqW68Og5eBofEpPiRXQ  wineries  Wineries     4.5           209   $$$   \n",
       "4    rjiMUH4UecBVD3wkqhgxXw  wineries  Wineries     4.0           327    $$   \n",
       "..                      ...       ...       ...     ...           ...   ...   \n",
       "398  NKCMqIlRopcSMA15JpeyJg  wineries  Wineries     3.5           311    $$   \n",
       "399  pW9QPUkm2_tTXLCzyQ6qvg  wineries  Wineries     1.0             1    $$   \n",
       "400  UwgQWRkTzlFnw3-QYCaBlQ  wineries  Wineries     1.0             1    $$   \n",
       "401  LxMkyxBokxu6iRIsuMF5Tw  wineries  Wineries     1.0             1    $$   \n",
       "402  Jt-VYmagp5ETW1v_G_Ae0g  wineries  Wineries     1.0             2    $$   \n",
       "\n",
       "      latitude   longitude         City  price_converted  \n",
       "0    38.321680 -122.344810  Napa_Valley                2  \n",
       "1    38.255534 -122.351391  Napa_Valley                2  \n",
       "2    38.435480 -122.351430  Napa_Valley                2  \n",
       "3    38.357010 -122.213620  Napa_Valley                3  \n",
       "4    38.251176 -122.347084  Napa_Valley                2  \n",
       "..         ...         ...          ...              ...  \n",
       "398  38.321516 -122.304108  Napa_Valley                2  \n",
       "399  38.262062 -122.442036  Napa_Valley                2  \n",
       "400  38.383260 -122.313060  Napa_Valley                2  \n",
       "401  38.286261 -122.434893  Napa_Valley                2  \n",
       "402  38.262480 -122.442070  Napa_Valley                2  \n",
       "\n",
       "[403 rows x 12 columns]"
      ]
     },
     "execution_count": 22,
     "metadata": {},
     "output_type": "execute_result"
    }
   ],
   "source": [
    "convert_price(df2, 'Napa Valley')"
   ]
  },
  {
   "cell_type": "code",
   "execution_count": 23,
   "metadata": {
    "ExecuteTime": {
     "end_time": "2021-05-16T22:04:15.225230Z",
     "start_time": "2021-05-16T22:04:15.207207Z"
    }
   },
   "outputs": [
    {
     "data": {
      "text/plain": [
       "name               0\n",
       "location           0\n",
       "Business ID        0\n",
       "alias              0\n",
       "title              0\n",
       "rating             0\n",
       "review_count       0\n",
       "price              0\n",
       "latitude           0\n",
       "longitude          0\n",
       "City               0\n",
       "price_converted    0\n",
       "dtype: int64"
      ]
     },
     "execution_count": 23,
     "metadata": {},
     "output_type": "execute_result"
    }
   ],
   "source": [
    "# Check for null values\n",
    "df2.isna().sum()"
   ]
  },
  {
   "cell_type": "code",
   "execution_count": null,
   "metadata": {},
   "outputs": [],
   "source": []
  }
 ],
 "metadata": {
  "kernelspec": {
   "display_name": "Python (learn-env-bmc)",
   "language": "python",
   "name": "learn-env-bmc"
  },
  "language_info": {
   "codemirror_mode": {
    "name": "ipython",
    "version": 3
   },
   "file_extension": ".py",
   "mimetype": "text/x-python",
   "name": "python",
   "nbconvert_exporter": "python",
   "pygments_lexer": "ipython3",
   "version": "3.8.5"
  },
  "toc": {
   "base_numbering": 1,
   "nav_menu": {},
   "number_sections": true,
   "sideBar": true,
   "skip_h1_title": false,
   "title_cell": "Table of Contents",
   "title_sidebar": "Contents",
   "toc_cell": false,
   "toc_position": {
    "height": "calc(100% - 180px)",
    "left": "10px",
    "top": "150px",
    "width": "165px"
   },
   "toc_section_display": true,
   "toc_window_display": true
  },
  "varInspector": {
   "cols": {
    "lenName": "32",
    "lenType": 16,
    "lenVar": 40
   },
   "kernels_config": {
    "python": {
     "delete_cmd_postfix": "",
     "delete_cmd_prefix": "del ",
     "library": "var_list.py",
     "varRefreshCmd": "print(var_dic_list())"
    },
    "r": {
     "delete_cmd_postfix": ") ",
     "delete_cmd_prefix": "rm(",
     "library": "var_list.r",
     "varRefreshCmd": "cat(var_dic_list()) "
    }
   },
   "types_to_exclude": [
    "module",
    "function",
    "builtin_function_or_method",
    "instance",
    "_Feature"
   ],
   "window_display": false
  }
 },
 "nbformat": 4,
 "nbformat_minor": 4
}
