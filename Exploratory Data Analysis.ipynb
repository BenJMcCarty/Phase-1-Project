{
 "cells": [
  {
   "cell_type": "markdown",
   "metadata": {},
   "source": [
    "# Data Visualizations Workbook"
   ]
  },
  {
   "cell_type": "markdown",
   "metadata": {},
   "source": [
    "# Exploring, Analyzing, and Interpreting Results"
   ]
  },
  {
   "cell_type": "markdown",
   "metadata": {},
   "source": [
    "Now that we pulled the business data from the Yelp API, we will explore the data to gain insight.\n",
    "\n",
    "Our guiding questions will be:\n",
    "- **What does each specific region look like, statistically?**\n",
    "  - Are there any differences in pricing, ratings, reviews, b/t ea. area?\n",
    "  - Are there any clusters of businesses?\n",
    "     - Indicating local competition as well as land quality/availability\n",
    "- **What are the correlations between each metric?**\n",
    " \n",
    "- **What are the price ranges for each area?**\n",
    "    - gives indication clientele\n",
    "        - lower price more broadly appealing\n",
    "        - higher pricing more discerning, luxury clientele\n",
    "    - guides broad revenue perspective\n",
    " \n",
    "- **Ratings**\n",
    " - Satisfied/unsatisfied clients\n",
    " - diff b/t regions\n",
    " \n",
    "- **Number of reviews**\n",
    " - popularity of businesses\n",
    " - higher number = larger sample size for avg review\n"
   ]
  },
  {
   "cell_type": "markdown",
   "metadata": {
    "ExecuteTime": {
     "end_time": "2021-05-13T18:56:02.029967Z",
     "start_time": "2021-05-13T18:56:02.026965Z"
    },
    "heading_collapsed": true
   },
   "source": [
    "# Importing Packages"
   ]
  },
  {
   "cell_type": "markdown",
   "metadata": {
    "hidden": true
   },
   "source": [
    "First, we are going to import our packages for use in the notebook. We are going to import packages to access our saved data; packages to explore the data and generate statistics; and we will use the final packages to create visualizations."
   ]
  },
  {
   "cell_type": "code",
   "execution_count": 2,
   "metadata": {
    "ExecuteTime": {
     "end_time": "2021-05-16T14:51:16.563803Z",
     "start_time": "2021-05-16T14:51:12.647777Z"
    },
    "hidden": true
   },
   "outputs": [],
   "source": [
    "# Accessing stored data\n",
    "import csv\n",
    "import json\n",
    "\n",
    "# Data exploration and statistics\n",
    "import pandas as pd\n",
    "import numpy as np\n",
    "\n",
    "# Creating Visualizations\n",
    "import plotly.express as px\n",
    "import seaborn as sns\n",
    "import matplotlib.pyplot as plt\n",
    "%matplotlib inline"
   ]
  },
  {
   "cell_type": "markdown",
   "metadata": {
    "heading_collapsed": true
   },
   "source": [
    "# Loading Data"
   ]
  },
  {
   "cell_type": "markdown",
   "metadata": {
    "hidden": true
   },
   "source": [
    " We will use our CSV package to load in the data generated previously in the Data Acquisition notebook."
   ]
  },
  {
   "cell_type": "markdown",
   "metadata": {
    "ExecuteTime": {
     "end_time": "2021-05-13T21:10:22.821335Z",
     "start_time": "2021-05-13T21:10:22.806336Z"
    },
    "heading_collapsed": true,
    "hidden": true
   },
   "source": [
    "## San Diego Wineries"
   ]
  },
  {
   "cell_type": "code",
   "execution_count": 3,
   "metadata": {
    "ExecuteTime": {
     "end_time": "2021-05-16T14:51:16.610608Z",
     "start_time": "2021-05-16T14:51:16.566627Z"
    },
    "collapsed": true,
    "hidden": true
   },
   "outputs": [
    {
     "data": {
      "text/html": [
       "<div>\n",
       "<style scoped>\n",
       "    .dataframe tbody tr th:only-of-type {\n",
       "        vertical-align: middle;\n",
       "    }\n",
       "\n",
       "    .dataframe tbody tr th {\n",
       "        vertical-align: top;\n",
       "    }\n",
       "\n",
       "    .dataframe thead th {\n",
       "        text-align: right;\n",
       "    }\n",
       "</style>\n",
       "<table border=\"1\" class=\"dataframe\">\n",
       "  <thead>\n",
       "    <tr style=\"text-align: right;\">\n",
       "      <th></th>\n",
       "      <th>name</th>\n",
       "      <th>location</th>\n",
       "      <th>Business ID</th>\n",
       "      <th>alias</th>\n",
       "      <th>title</th>\n",
       "      <th>rating</th>\n",
       "      <th>review_count</th>\n",
       "      <th>price</th>\n",
       "      <th>latitude</th>\n",
       "      <th>longitude</th>\n",
       "      <th>price_converted</th>\n",
       "      <th>City</th>\n",
       "    </tr>\n",
       "  </thead>\n",
       "  <tbody>\n",
       "    <tr>\n",
       "      <th>0</th>\n",
       "      <td>Bernardo Winery</td>\n",
       "      <td>13330 Paseo Del Verano Norte San Diego, CA 92128</td>\n",
       "      <td>DknnpiG1p4OoM1maFshzXA</td>\n",
       "      <td>winetastingroom</td>\n",
       "      <td>Wine Tasting Room</td>\n",
       "      <td>4.5</td>\n",
       "      <td>626</td>\n",
       "      <td>$$</td>\n",
       "      <td>33.032800</td>\n",
       "      <td>-117.046460</td>\n",
       "      <td>2</td>\n",
       "      <td>San Diego</td>\n",
       "    </tr>\n",
       "    <tr>\n",
       "      <th>1</th>\n",
       "      <td>Callaway Vineyard &amp; Winery</td>\n",
       "      <td>517 4th Ave Ste 101 San Diego, CA 92101</td>\n",
       "      <td>Cn2_bpTngghYW1ej4zreZg</td>\n",
       "      <td>winetastingroom</td>\n",
       "      <td>Wine Tasting Room</td>\n",
       "      <td>5.0</td>\n",
       "      <td>100</td>\n",
       "      <td>$$</td>\n",
       "      <td>32.710751</td>\n",
       "      <td>-117.160918</td>\n",
       "      <td>2</td>\n",
       "      <td>San Diego</td>\n",
       "    </tr>\n",
       "    <tr>\n",
       "      <th>2</th>\n",
       "      <td>Négociant Winery</td>\n",
       "      <td>2419 El Cajon Blvd San Diego, CA 92104</td>\n",
       "      <td>Cc1sQWRWgGyMCjzX2mmMQQ</td>\n",
       "      <td>winetastingroom</td>\n",
       "      <td>Wine Tasting Room</td>\n",
       "      <td>4.5</td>\n",
       "      <td>103</td>\n",
       "      <td>$$</td>\n",
       "      <td>32.754880</td>\n",
       "      <td>-117.138280</td>\n",
       "      <td>2</td>\n",
       "      <td>San Diego</td>\n",
       "    </tr>\n",
       "    <tr>\n",
       "      <th>3</th>\n",
       "      <td>San Pasqual Winery - Seaport Village</td>\n",
       "      <td>805 W Harbor Dr San Diego, CA 92101</td>\n",
       "      <td>gMW1RvyLu90RSQAY9UrIHw</td>\n",
       "      <td>winetastingroom</td>\n",
       "      <td>Wine Tasting Room</td>\n",
       "      <td>4.5</td>\n",
       "      <td>138</td>\n",
       "      <td>$$</td>\n",
       "      <td>32.708732</td>\n",
       "      <td>-117.168195</td>\n",
       "      <td>2</td>\n",
       "      <td>San Diego</td>\n",
       "    </tr>\n",
       "    <tr>\n",
       "      <th>4</th>\n",
       "      <td>Domaine Artefact Vineyard &amp; Winery</td>\n",
       "      <td>15404 Highland Valley Rd Escondido, CA 92025</td>\n",
       "      <td>WqVbxY77Ag96X90LultCUw</td>\n",
       "      <td>wineries</td>\n",
       "      <td>Wineries</td>\n",
       "      <td>5.0</td>\n",
       "      <td>96</td>\n",
       "      <td>$$</td>\n",
       "      <td>33.068170</td>\n",
       "      <td>-117.001600</td>\n",
       "      <td>2</td>\n",
       "      <td>San Diego</td>\n",
       "    </tr>\n",
       "  </tbody>\n",
       "</table>\n",
       "</div>"
      ],
      "text/plain": [
       "                                   name  \\\n",
       "0                       Bernardo Winery   \n",
       "1            Callaway Vineyard & Winery   \n",
       "2                      Négociant Winery   \n",
       "3  San Pasqual Winery - Seaport Village   \n",
       "4    Domaine Artefact Vineyard & Winery   \n",
       "\n",
       "                                           location             Business ID  \\\n",
       "0  13330 Paseo Del Verano Norte San Diego, CA 92128  DknnpiG1p4OoM1maFshzXA   \n",
       "1           517 4th Ave Ste 101 San Diego, CA 92101  Cn2_bpTngghYW1ej4zreZg   \n",
       "2            2419 El Cajon Blvd San Diego, CA 92104  Cc1sQWRWgGyMCjzX2mmMQQ   \n",
       "3               805 W Harbor Dr San Diego, CA 92101  gMW1RvyLu90RSQAY9UrIHw   \n",
       "4      15404 Highland Valley Rd Escondido, CA 92025  WqVbxY77Ag96X90LultCUw   \n",
       "\n",
       "             alias              title  rating  review_count price   latitude  \\\n",
       "0  winetastingroom  Wine Tasting Room     4.5           626    $$  33.032800   \n",
       "1  winetastingroom  Wine Tasting Room     5.0           100    $$  32.710751   \n",
       "2  winetastingroom  Wine Tasting Room     4.5           103    $$  32.754880   \n",
       "3  winetastingroom  Wine Tasting Room     4.5           138    $$  32.708732   \n",
       "4         wineries           Wineries     5.0            96    $$  33.068170   \n",
       "\n",
       "    longitude  price_converted       City  \n",
       "0 -117.046460                2  San Diego  \n",
       "1 -117.160918                2  San Diego  \n",
       "2 -117.138280                2  San Diego  \n",
       "3 -117.168195                2  San Diego  \n",
       "4 -117.001600                2  San Diego  "
      ]
     },
     "execution_count": 3,
     "metadata": {},
     "output_type": "execute_result"
    }
   ],
   "source": [
    "# Read in data from the San Diego .csv\n",
    "df_sd_details = pd.read_csv(\"data/wineries_price_converted.csv\")\n",
    "df_sd_details.reset_index(drop=True, inplace=True)\n",
    "df_sd_details['City'] = 'San Diego'\n",
    "\n",
    "# View results\n",
    "df_sd_details.head()"
   ]
  },
  {
   "cell_type": "markdown",
   "metadata": {
    "heading_collapsed": true,
    "hidden": true
   },
   "source": [
    "## Napa Valley Wineries"
   ]
  },
  {
   "cell_type": "code",
   "execution_count": 4,
   "metadata": {
    "ExecuteTime": {
     "end_time": "2021-05-16T14:51:16.641579Z",
     "start_time": "2021-05-16T14:51:16.612578Z"
    },
    "collapsed": true,
    "hidden": true
   },
   "outputs": [
    {
     "data": {
      "text/html": [
       "<div>\n",
       "<style scoped>\n",
       "    .dataframe tbody tr th:only-of-type {\n",
       "        vertical-align: middle;\n",
       "    }\n",
       "\n",
       "    .dataframe tbody tr th {\n",
       "        vertical-align: top;\n",
       "    }\n",
       "\n",
       "    .dataframe thead th {\n",
       "        text-align: right;\n",
       "    }\n",
       "</style>\n",
       "<table border=\"1\" class=\"dataframe\">\n",
       "  <thead>\n",
       "    <tr style=\"text-align: right;\">\n",
       "      <th></th>\n",
       "      <th>name</th>\n",
       "      <th>location</th>\n",
       "      <th>Business ID</th>\n",
       "      <th>alias</th>\n",
       "      <th>title</th>\n",
       "      <th>rating</th>\n",
       "      <th>review_count</th>\n",
       "      <th>price</th>\n",
       "      <th>latitude</th>\n",
       "      <th>longitude</th>\n",
       "      <th>price_converted</th>\n",
       "      <th>City</th>\n",
       "    </tr>\n",
       "  </thead>\n",
       "  <tbody>\n",
       "    <tr>\n",
       "      <th>0</th>\n",
       "      <td>Hendry Vineyard and Winery</td>\n",
       "      <td>3104 Redwood Rd Napa, CA 94558</td>\n",
       "      <td>mO8n3zTLoFhlmcfQr7X_TQ</td>\n",
       "      <td>wineries</td>\n",
       "      <td>Wineries</td>\n",
       "      <td>5.0</td>\n",
       "      <td>658</td>\n",
       "      <td>$$</td>\n",
       "      <td>38.321680</td>\n",
       "      <td>-122.344810</td>\n",
       "      <td>2</td>\n",
       "      <td>Napa Valley</td>\n",
       "    </tr>\n",
       "    <tr>\n",
       "      <th>1</th>\n",
       "      <td>Domaine Carneros</td>\n",
       "      <td>1240 Duhig Rd Napa, CA 94559</td>\n",
       "      <td>8eGTOeEQpUpYb89ISug3ag</td>\n",
       "      <td>wineries</td>\n",
       "      <td>Wineries</td>\n",
       "      <td>4.0</td>\n",
       "      <td>2239</td>\n",
       "      <td>$$</td>\n",
       "      <td>38.255534</td>\n",
       "      <td>-122.351391</td>\n",
       "      <td>2</td>\n",
       "      <td>Napa Valley</td>\n",
       "    </tr>\n",
       "    <tr>\n",
       "      <th>2</th>\n",
       "      <td>Paraduxx Winery</td>\n",
       "      <td>7257 Silverado Trl Napa, CA 94558</td>\n",
       "      <td>cBFZALrZbLV5XBsiPcgknQ</td>\n",
       "      <td>wineries</td>\n",
       "      <td>Wineries</td>\n",
       "      <td>4.5</td>\n",
       "      <td>373</td>\n",
       "      <td>$$</td>\n",
       "      <td>38.435480</td>\n",
       "      <td>-122.351430</td>\n",
       "      <td>2</td>\n",
       "      <td>Napa Valley</td>\n",
       "    </tr>\n",
       "    <tr>\n",
       "      <th>3</th>\n",
       "      <td>Jarvis Winery</td>\n",
       "      <td>2970 Monticello Rd Napa, CA 94558</td>\n",
       "      <td>NPkAqW68Og5eBofEpPiRXQ</td>\n",
       "      <td>wineries</td>\n",
       "      <td>Wineries</td>\n",
       "      <td>4.5</td>\n",
       "      <td>209</td>\n",
       "      <td>$$$</td>\n",
       "      <td>38.357010</td>\n",
       "      <td>-122.213620</td>\n",
       "      <td>3</td>\n",
       "      <td>Napa Valley</td>\n",
       "    </tr>\n",
       "    <tr>\n",
       "      <th>4</th>\n",
       "      <td>White Rock Vineyards</td>\n",
       "      <td>1112 Loma Vista Dr Napa, CA 94558</td>\n",
       "      <td>shbhrTpVLOdql8hNGC9NDw</td>\n",
       "      <td>wineries</td>\n",
       "      <td>Wineries</td>\n",
       "      <td>5.0</td>\n",
       "      <td>55</td>\n",
       "      <td>$$</td>\n",
       "      <td>38.377683</td>\n",
       "      <td>-122.286565</td>\n",
       "      <td>2</td>\n",
       "      <td>Napa Valley</td>\n",
       "    </tr>\n",
       "  </tbody>\n",
       "</table>\n",
       "</div>"
      ],
      "text/plain": [
       "                         name                           location  \\\n",
       "0  Hendry Vineyard and Winery     3104 Redwood Rd Napa, CA 94558   \n",
       "1            Domaine Carneros       1240 Duhig Rd Napa, CA 94559   \n",
       "2             Paraduxx Winery  7257 Silverado Trl Napa, CA 94558   \n",
       "3               Jarvis Winery  2970 Monticello Rd Napa, CA 94558   \n",
       "4        White Rock Vineyards  1112 Loma Vista Dr Napa, CA 94558   \n",
       "\n",
       "              Business ID     alias     title  rating  review_count price  \\\n",
       "0  mO8n3zTLoFhlmcfQr7X_TQ  wineries  Wineries     5.0           658    $$   \n",
       "1  8eGTOeEQpUpYb89ISug3ag  wineries  Wineries     4.0          2239    $$   \n",
       "2  cBFZALrZbLV5XBsiPcgknQ  wineries  Wineries     4.5           373    $$   \n",
       "3  NPkAqW68Og5eBofEpPiRXQ  wineries  Wineries     4.5           209   $$$   \n",
       "4  shbhrTpVLOdql8hNGC9NDw  wineries  Wineries     5.0            55    $$   \n",
       "\n",
       "    latitude   longitude  price_converted         City  \n",
       "0  38.321680 -122.344810                2  Napa Valley  \n",
       "1  38.255534 -122.351391                2  Napa Valley  \n",
       "2  38.435480 -122.351430                2  Napa Valley  \n",
       "3  38.357010 -122.213620                3  Napa Valley  \n",
       "4  38.377683 -122.286565                2  Napa Valley  "
      ]
     },
     "execution_count": 4,
     "metadata": {},
     "output_type": "execute_result"
    }
   ],
   "source": [
    "# Read in data from the Napa Valley .csv\n",
    "df_nv_details = pd.read_csv(\"data/wineries_north_price_converted.csv\")\n",
    "df_nv_details.reset_index(drop=True, inplace=True)\n",
    "df_nv_details['City'] = 'Napa Valley'\n",
    "\n",
    "# View results\n",
    "df_nv_details.head()"
   ]
  },
  {
   "cell_type": "markdown",
   "metadata": {
    "ExecuteTime": {
     "end_time": "2021-05-13T21:15:22.392762Z",
     "start_time": "2021-05-13T21:15:22.375765Z"
    }
   },
   "source": [
    "# Exploring the Data for Each City"
   ]
  },
  {
   "cell_type": "markdown",
   "metadata": {},
   "source": [
    "## EDA: San Diego Business Details"
   ]
  },
  {
   "cell_type": "code",
   "execution_count": 5,
   "metadata": {
    "ExecuteTime": {
     "end_time": "2021-05-16T14:51:16.673602Z",
     "start_time": "2021-05-16T14:51:16.644578Z"
    }
   },
   "outputs": [
    {
     "data": {
      "text/html": [
       "<div>\n",
       "<style scoped>\n",
       "    .dataframe tbody tr th:only-of-type {\n",
       "        vertical-align: middle;\n",
       "    }\n",
       "\n",
       "    .dataframe tbody tr th {\n",
       "        vertical-align: top;\n",
       "    }\n",
       "\n",
       "    .dataframe thead th {\n",
       "        text-align: right;\n",
       "    }\n",
       "</style>\n",
       "<table border=\"1\" class=\"dataframe\">\n",
       "  <thead>\n",
       "    <tr style=\"text-align: right;\">\n",
       "      <th></th>\n",
       "      <th>name</th>\n",
       "      <th>location</th>\n",
       "      <th>Business ID</th>\n",
       "      <th>alias</th>\n",
       "      <th>title</th>\n",
       "      <th>rating</th>\n",
       "      <th>review_count</th>\n",
       "      <th>price</th>\n",
       "      <th>latitude</th>\n",
       "      <th>longitude</th>\n",
       "      <th>price_converted</th>\n",
       "      <th>City</th>\n",
       "    </tr>\n",
       "  </thead>\n",
       "  <tbody>\n",
       "    <tr>\n",
       "      <th>0</th>\n",
       "      <td>Bernardo Winery</td>\n",
       "      <td>13330 Paseo Del Verano Norte San Diego, CA 92128</td>\n",
       "      <td>DknnpiG1p4OoM1maFshzXA</td>\n",
       "      <td>winetastingroom</td>\n",
       "      <td>Wine Tasting Room</td>\n",
       "      <td>4.5</td>\n",
       "      <td>626</td>\n",
       "      <td>$$</td>\n",
       "      <td>33.032800</td>\n",
       "      <td>-117.046460</td>\n",
       "      <td>2</td>\n",
       "      <td>San Diego</td>\n",
       "    </tr>\n",
       "    <tr>\n",
       "      <th>1</th>\n",
       "      <td>Callaway Vineyard &amp; Winery</td>\n",
       "      <td>517 4th Ave Ste 101 San Diego, CA 92101</td>\n",
       "      <td>Cn2_bpTngghYW1ej4zreZg</td>\n",
       "      <td>winetastingroom</td>\n",
       "      <td>Wine Tasting Room</td>\n",
       "      <td>5.0</td>\n",
       "      <td>100</td>\n",
       "      <td>$$</td>\n",
       "      <td>32.710751</td>\n",
       "      <td>-117.160918</td>\n",
       "      <td>2</td>\n",
       "      <td>San Diego</td>\n",
       "    </tr>\n",
       "    <tr>\n",
       "      <th>2</th>\n",
       "      <td>Négociant Winery</td>\n",
       "      <td>2419 El Cajon Blvd San Diego, CA 92104</td>\n",
       "      <td>Cc1sQWRWgGyMCjzX2mmMQQ</td>\n",
       "      <td>winetastingroom</td>\n",
       "      <td>Wine Tasting Room</td>\n",
       "      <td>4.5</td>\n",
       "      <td>103</td>\n",
       "      <td>$$</td>\n",
       "      <td>32.754880</td>\n",
       "      <td>-117.138280</td>\n",
       "      <td>2</td>\n",
       "      <td>San Diego</td>\n",
       "    </tr>\n",
       "    <tr>\n",
       "      <th>3</th>\n",
       "      <td>San Pasqual Winery - Seaport Village</td>\n",
       "      <td>805 W Harbor Dr San Diego, CA 92101</td>\n",
       "      <td>gMW1RvyLu90RSQAY9UrIHw</td>\n",
       "      <td>winetastingroom</td>\n",
       "      <td>Wine Tasting Room</td>\n",
       "      <td>4.5</td>\n",
       "      <td>138</td>\n",
       "      <td>$$</td>\n",
       "      <td>32.708732</td>\n",
       "      <td>-117.168195</td>\n",
       "      <td>2</td>\n",
       "      <td>San Diego</td>\n",
       "    </tr>\n",
       "    <tr>\n",
       "      <th>4</th>\n",
       "      <td>Domaine Artefact Vineyard &amp; Winery</td>\n",
       "      <td>15404 Highland Valley Rd Escondido, CA 92025</td>\n",
       "      <td>WqVbxY77Ag96X90LultCUw</td>\n",
       "      <td>wineries</td>\n",
       "      <td>Wineries</td>\n",
       "      <td>5.0</td>\n",
       "      <td>96</td>\n",
       "      <td>$$</td>\n",
       "      <td>33.068170</td>\n",
       "      <td>-117.001600</td>\n",
       "      <td>2</td>\n",
       "      <td>San Diego</td>\n",
       "    </tr>\n",
       "  </tbody>\n",
       "</table>\n",
       "</div>"
      ],
      "text/plain": [
       "                                   name  \\\n",
       "0                       Bernardo Winery   \n",
       "1            Callaway Vineyard & Winery   \n",
       "2                      Négociant Winery   \n",
       "3  San Pasqual Winery - Seaport Village   \n",
       "4    Domaine Artefact Vineyard & Winery   \n",
       "\n",
       "                                           location             Business ID  \\\n",
       "0  13330 Paseo Del Verano Norte San Diego, CA 92128  DknnpiG1p4OoM1maFshzXA   \n",
       "1           517 4th Ave Ste 101 San Diego, CA 92101  Cn2_bpTngghYW1ej4zreZg   \n",
       "2            2419 El Cajon Blvd San Diego, CA 92104  Cc1sQWRWgGyMCjzX2mmMQQ   \n",
       "3               805 W Harbor Dr San Diego, CA 92101  gMW1RvyLu90RSQAY9UrIHw   \n",
       "4      15404 Highland Valley Rd Escondido, CA 92025  WqVbxY77Ag96X90LultCUw   \n",
       "\n",
       "             alias              title  rating  review_count price   latitude  \\\n",
       "0  winetastingroom  Wine Tasting Room     4.5           626    $$  33.032800   \n",
       "1  winetastingroom  Wine Tasting Room     5.0           100    $$  32.710751   \n",
       "2  winetastingroom  Wine Tasting Room     4.5           103    $$  32.754880   \n",
       "3  winetastingroom  Wine Tasting Room     4.5           138    $$  32.708732   \n",
       "4         wineries           Wineries     5.0            96    $$  33.068170   \n",
       "\n",
       "    longitude  price_converted       City  \n",
       "0 -117.046460                2  San Diego  \n",
       "1 -117.160918                2  San Diego  \n",
       "2 -117.138280                2  San Diego  \n",
       "3 -117.168195                2  San Diego  \n",
       "4 -117.001600                2  San Diego  "
      ]
     },
     "execution_count": 5,
     "metadata": {},
     "output_type": "execute_result"
    }
   ],
   "source": [
    "df_sd_details.head()"
   ]
  },
  {
   "cell_type": "code",
   "execution_count": 6,
   "metadata": {
    "ExecuteTime": {
     "end_time": "2021-05-16T14:51:16.689589Z",
     "start_time": "2021-05-16T14:51:16.675579Z"
    }
   },
   "outputs": [],
   "source": [
    "## First, we want to ensure the data is clean"
   ]
  },
  {
   "cell_type": "code",
   "execution_count": 7,
   "metadata": {
    "ExecuteTime": {
     "end_time": "2021-05-16T14:51:16.705581Z",
     "start_time": "2021-05-16T14:51:16.691585Z"
    }
   },
   "outputs": [
    {
     "data": {
      "text/plain": [
       "name                0\n",
       "location            0\n",
       "Business ID         0\n",
       "alias               0\n",
       "title               0\n",
       "rating              0\n",
       "review_count        0\n",
       "price              25\n",
       "latitude            0\n",
       "longitude           0\n",
       "price_converted     0\n",
       "City                0\n",
       "dtype: int64"
      ]
     },
     "execution_count": 7,
     "metadata": {},
     "output_type": "execute_result"
    }
   ],
   "source": [
    "# Check for null values\n",
    "\n",
    "df_sd_details.isna().sum()"
   ]
  },
  {
   "cell_type": "code",
   "execution_count": 8,
   "metadata": {
    "ExecuteTime": {
     "end_time": "2021-05-16T14:51:16.721606Z",
     "start_time": "2021-05-16T14:51:16.707577Z"
    }
   },
   "outputs": [
    {
     "data": {
      "text/plain": [
       "$$     53\n",
       "$       3\n",
       "$$$     1\n",
       "Name: price, dtype: int64"
      ]
     },
     "execution_count": 8,
     "metadata": {},
     "output_type": "execute_result"
    }
   ],
   "source": [
    "# Determine if best to fill those values\n",
    "df_sd_details['price'].value_counts()"
   ]
  },
  {
   "cell_type": "code",
   "execution_count": 9,
   "metadata": {
    "ExecuteTime": {
     "end_time": "2021-05-16T14:51:16.737592Z",
     "start_time": "2021-05-16T14:51:16.724578Z"
    }
   },
   "outputs": [
    {
     "data": {
      "text/plain": [
       "name               0\n",
       "location           0\n",
       "Business ID        0\n",
       "alias              0\n",
       "title              0\n",
       "rating             0\n",
       "review_count       0\n",
       "price              0\n",
       "latitude           0\n",
       "longitude          0\n",
       "price_converted    0\n",
       "City               0\n",
       "dtype: int64"
      ]
     },
     "execution_count": 9,
     "metadata": {},
     "output_type": "execute_result"
    }
   ],
   "source": [
    "# Fill with \"$$\", which is the mean, median, and mode all in one!\n",
    "df_sd_details.fillna(value=\"$$\", inplace=True)\n",
    "\n",
    "## Confirm all NaN are fixed\n",
    "df_sd_details.isna().sum()"
   ]
  },
  {
   "cell_type": "code",
   "execution_count": 10,
   "metadata": {
    "ExecuteTime": {
     "end_time": "2021-05-16T14:51:16.752602Z",
     "start_time": "2021-05-16T14:51:16.739578Z"
    },
    "code_folding": [
     1
    ]
   },
   "outputs": [],
   "source": [
    "# Add prior converter function for updated price values\n",
    "def convert_price(dataframe):\n",
    "    ''' - Requires a dataframe with the 'price' column elements being NaN,\n",
    "    $, $$, $$$, $$$$, or $$$$$.\n",
    "    - Takes a pre-existing dataframe and adds a column to store the \\\n",
    "    conversion from $ to an integer.'''\n",
    "    \n",
    "    # Converting $s to integers, then saving to new column.\n",
    "    dataframe['price_converted'] = dataframe.loc[:,'price'] \\\n",
    "    .map({np.nan:0, '$':1, '$$':2, '$$$':3, '$$$$':4, '$$$$$':5})\n",
    "    \n",
    "    return dataframe"
   ]
  },
  {
   "cell_type": "code",
   "execution_count": 11,
   "metadata": {
    "ExecuteTime": {
     "end_time": "2021-05-16T14:51:16.798577Z",
     "start_time": "2021-05-16T14:51:16.754578Z"
    }
   },
   "outputs": [
    {
     "data": {
      "text/html": [
       "<div>\n",
       "<style scoped>\n",
       "    .dataframe tbody tr th:only-of-type {\n",
       "        vertical-align: middle;\n",
       "    }\n",
       "\n",
       "    .dataframe tbody tr th {\n",
       "        vertical-align: top;\n",
       "    }\n",
       "\n",
       "    .dataframe thead th {\n",
       "        text-align: right;\n",
       "    }\n",
       "</style>\n",
       "<table border=\"1\" class=\"dataframe\">\n",
       "  <thead>\n",
       "    <tr style=\"text-align: right;\">\n",
       "      <th></th>\n",
       "      <th>name</th>\n",
       "      <th>location</th>\n",
       "      <th>Business ID</th>\n",
       "      <th>alias</th>\n",
       "      <th>title</th>\n",
       "      <th>rating</th>\n",
       "      <th>review_count</th>\n",
       "      <th>price</th>\n",
       "      <th>latitude</th>\n",
       "      <th>longitude</th>\n",
       "      <th>price_converted</th>\n",
       "      <th>City</th>\n",
       "    </tr>\n",
       "  </thead>\n",
       "  <tbody>\n",
       "    <tr>\n",
       "      <th>0</th>\n",
       "      <td>Bernardo Winery</td>\n",
       "      <td>13330 Paseo Del Verano Norte San Diego, CA 92128</td>\n",
       "      <td>DknnpiG1p4OoM1maFshzXA</td>\n",
       "      <td>winetastingroom</td>\n",
       "      <td>Wine Tasting Room</td>\n",
       "      <td>4.5</td>\n",
       "      <td>626</td>\n",
       "      <td>$$</td>\n",
       "      <td>33.032800</td>\n",
       "      <td>-117.046460</td>\n",
       "      <td>2</td>\n",
       "      <td>San Diego</td>\n",
       "    </tr>\n",
       "    <tr>\n",
       "      <th>1</th>\n",
       "      <td>Callaway Vineyard &amp; Winery</td>\n",
       "      <td>517 4th Ave Ste 101 San Diego, CA 92101</td>\n",
       "      <td>Cn2_bpTngghYW1ej4zreZg</td>\n",
       "      <td>winetastingroom</td>\n",
       "      <td>Wine Tasting Room</td>\n",
       "      <td>5.0</td>\n",
       "      <td>100</td>\n",
       "      <td>$$</td>\n",
       "      <td>32.710751</td>\n",
       "      <td>-117.160918</td>\n",
       "      <td>2</td>\n",
       "      <td>San Diego</td>\n",
       "    </tr>\n",
       "    <tr>\n",
       "      <th>2</th>\n",
       "      <td>Négociant Winery</td>\n",
       "      <td>2419 El Cajon Blvd San Diego, CA 92104</td>\n",
       "      <td>Cc1sQWRWgGyMCjzX2mmMQQ</td>\n",
       "      <td>winetastingroom</td>\n",
       "      <td>Wine Tasting Room</td>\n",
       "      <td>4.5</td>\n",
       "      <td>103</td>\n",
       "      <td>$$</td>\n",
       "      <td>32.754880</td>\n",
       "      <td>-117.138280</td>\n",
       "      <td>2</td>\n",
       "      <td>San Diego</td>\n",
       "    </tr>\n",
       "    <tr>\n",
       "      <th>3</th>\n",
       "      <td>San Pasqual Winery - Seaport Village</td>\n",
       "      <td>805 W Harbor Dr San Diego, CA 92101</td>\n",
       "      <td>gMW1RvyLu90RSQAY9UrIHw</td>\n",
       "      <td>winetastingroom</td>\n",
       "      <td>Wine Tasting Room</td>\n",
       "      <td>4.5</td>\n",
       "      <td>138</td>\n",
       "      <td>$$</td>\n",
       "      <td>32.708732</td>\n",
       "      <td>-117.168195</td>\n",
       "      <td>2</td>\n",
       "      <td>San Diego</td>\n",
       "    </tr>\n",
       "    <tr>\n",
       "      <th>4</th>\n",
       "      <td>Domaine Artefact Vineyard &amp; Winery</td>\n",
       "      <td>15404 Highland Valley Rd Escondido, CA 92025</td>\n",
       "      <td>WqVbxY77Ag96X90LultCUw</td>\n",
       "      <td>wineries</td>\n",
       "      <td>Wineries</td>\n",
       "      <td>5.0</td>\n",
       "      <td>96</td>\n",
       "      <td>$$</td>\n",
       "      <td>33.068170</td>\n",
       "      <td>-117.001600</td>\n",
       "      <td>2</td>\n",
       "      <td>San Diego</td>\n",
       "    </tr>\n",
       "    <tr>\n",
       "      <th>...</th>\n",
       "      <td>...</td>\n",
       "      <td>...</td>\n",
       "      <td>...</td>\n",
       "      <td>...</td>\n",
       "      <td>...</td>\n",
       "      <td>...</td>\n",
       "      <td>...</td>\n",
       "      <td>...</td>\n",
       "      <td>...</td>\n",
       "      <td>...</td>\n",
       "      <td>...</td>\n",
       "      <td>...</td>\n",
       "    </tr>\n",
       "    <tr>\n",
       "      <th>77</th>\n",
       "      <td>Roll OutThe Barrell Charity Event by Meritage</td>\n",
       "      <td>162 S Rancho Santa Fe Rd Encinitas, CA 92024</td>\n",
       "      <td>wyLm9fIoamN-VALcu3nUVg</td>\n",
       "      <td>wineries</td>\n",
       "      <td>Wineries</td>\n",
       "      <td>4.0</td>\n",
       "      <td>1</td>\n",
       "      <td>$$</td>\n",
       "      <td>33.037121</td>\n",
       "      <td>-117.238654</td>\n",
       "      <td>2</td>\n",
       "      <td>San Diego</td>\n",
       "    </tr>\n",
       "    <tr>\n",
       "      <th>78</th>\n",
       "      <td>Licores Kentucky</td>\n",
       "      <td>Calle Puerto y 3ra S/N Col. Centro 22000 Tijua...</td>\n",
       "      <td>B7gID-M2EsdpthrTcwTNYA</td>\n",
       "      <td>wineries</td>\n",
       "      <td>Wineries</td>\n",
       "      <td>5.0</td>\n",
       "      <td>1</td>\n",
       "      <td>$$</td>\n",
       "      <td>32.534236</td>\n",
       "      <td>-117.034976</td>\n",
       "      <td>2</td>\n",
       "      <td>San Diego</td>\n",
       "    </tr>\n",
       "    <tr>\n",
       "      <th>79</th>\n",
       "      <td>Barrica 9</td>\n",
       "      <td>Av. Revolución 1265 Col. Zona Centro 22000 Tij...</td>\n",
       "      <td>HxTqmzT4G43iAKXrB3pqQg</td>\n",
       "      <td>winetastingroom</td>\n",
       "      <td>Wine Tasting Room</td>\n",
       "      <td>4.5</td>\n",
       "      <td>7</td>\n",
       "      <td>$$</td>\n",
       "      <td>32.530430</td>\n",
       "      <td>-117.036500</td>\n",
       "      <td>2</td>\n",
       "      <td>San Diego</td>\n",
       "    </tr>\n",
       "    <tr>\n",
       "      <th>80</th>\n",
       "      <td>RL Liquid Assets, Inc</td>\n",
       "      <td>5909 Sea Lion Pl Ste G Carlsbad, CA 92010</td>\n",
       "      <td>-STecUUsS69EMSE7PxwPwA</td>\n",
       "      <td>wineries</td>\n",
       "      <td>Wineries</td>\n",
       "      <td>3.0</td>\n",
       "      <td>2</td>\n",
       "      <td>$$</td>\n",
       "      <td>33.134743</td>\n",
       "      <td>-117.248093</td>\n",
       "      <td>2</td>\n",
       "      <td>San Diego</td>\n",
       "    </tr>\n",
       "    <tr>\n",
       "      <th>81</th>\n",
       "      <td>Cactus Star Vineyard at Scaredy Cat Ranch</td>\n",
       "      <td>17029 Handlebar Rd Ramona, CA 92065</td>\n",
       "      <td>ZeiVSF1SMdVVSkiGE7qaSg</td>\n",
       "      <td>winetastingroom</td>\n",
       "      <td>Wine Tasting Room</td>\n",
       "      <td>5.0</td>\n",
       "      <td>8</td>\n",
       "      <td>$</td>\n",
       "      <td>33.020150</td>\n",
       "      <td>-116.928140</td>\n",
       "      <td>1</td>\n",
       "      <td>San Diego</td>\n",
       "    </tr>\n",
       "  </tbody>\n",
       "</table>\n",
       "<p>82 rows × 12 columns</p>\n",
       "</div>"
      ],
      "text/plain": [
       "                                             name  \\\n",
       "0                                 Bernardo Winery   \n",
       "1                      Callaway Vineyard & Winery   \n",
       "2                                Négociant Winery   \n",
       "3            San Pasqual Winery - Seaport Village   \n",
       "4              Domaine Artefact Vineyard & Winery   \n",
       "..                                            ...   \n",
       "77  Roll OutThe Barrell Charity Event by Meritage   \n",
       "78                               Licores Kentucky   \n",
       "79                                      Barrica 9   \n",
       "80                          RL Liquid Assets, Inc   \n",
       "81      Cactus Star Vineyard at Scaredy Cat Ranch   \n",
       "\n",
       "                                             location             Business ID  \\\n",
       "0    13330 Paseo Del Verano Norte San Diego, CA 92128  DknnpiG1p4OoM1maFshzXA   \n",
       "1             517 4th Ave Ste 101 San Diego, CA 92101  Cn2_bpTngghYW1ej4zreZg   \n",
       "2              2419 El Cajon Blvd San Diego, CA 92104  Cc1sQWRWgGyMCjzX2mmMQQ   \n",
       "3                 805 W Harbor Dr San Diego, CA 92101  gMW1RvyLu90RSQAY9UrIHw   \n",
       "4        15404 Highland Valley Rd Escondido, CA 92025  WqVbxY77Ag96X90LultCUw   \n",
       "..                                                ...                     ...   \n",
       "77       162 S Rancho Santa Fe Rd Encinitas, CA 92024  wyLm9fIoamN-VALcu3nUVg   \n",
       "78  Calle Puerto y 3ra S/N Col. Centro 22000 Tijua...  B7gID-M2EsdpthrTcwTNYA   \n",
       "79  Av. Revolución 1265 Col. Zona Centro 22000 Tij...  HxTqmzT4G43iAKXrB3pqQg   \n",
       "80          5909 Sea Lion Pl Ste G Carlsbad, CA 92010  -STecUUsS69EMSE7PxwPwA   \n",
       "81                17029 Handlebar Rd Ramona, CA 92065  ZeiVSF1SMdVVSkiGE7qaSg   \n",
       "\n",
       "              alias              title  rating  review_count price   latitude  \\\n",
       "0   winetastingroom  Wine Tasting Room     4.5           626    $$  33.032800   \n",
       "1   winetastingroom  Wine Tasting Room     5.0           100    $$  32.710751   \n",
       "2   winetastingroom  Wine Tasting Room     4.5           103    $$  32.754880   \n",
       "3   winetastingroom  Wine Tasting Room     4.5           138    $$  32.708732   \n",
       "4          wineries           Wineries     5.0            96    $$  33.068170   \n",
       "..              ...                ...     ...           ...   ...        ...   \n",
       "77         wineries           Wineries     4.0             1    $$  33.037121   \n",
       "78         wineries           Wineries     5.0             1    $$  32.534236   \n",
       "79  winetastingroom  Wine Tasting Room     4.5             7    $$  32.530430   \n",
       "80         wineries           Wineries     3.0             2    $$  33.134743   \n",
       "81  winetastingroom  Wine Tasting Room     5.0             8     $  33.020150   \n",
       "\n",
       "     longitude  price_converted       City  \n",
       "0  -117.046460                2  San Diego  \n",
       "1  -117.160918                2  San Diego  \n",
       "2  -117.138280                2  San Diego  \n",
       "3  -117.168195                2  San Diego  \n",
       "4  -117.001600                2  San Diego  \n",
       "..         ...              ...        ...  \n",
       "77 -117.238654                2  San Diego  \n",
       "78 -117.034976                2  San Diego  \n",
       "79 -117.036500                2  San Diego  \n",
       "80 -117.248093                2  San Diego  \n",
       "81 -116.928140                1  San Diego  \n",
       "\n",
       "[82 rows x 12 columns]"
      ]
     },
     "execution_count": 11,
     "metadata": {},
     "output_type": "execute_result"
    }
   ],
   "source": [
    "# Run function to correct for any \"0\" values in 'price_converted' column\n",
    "convert_price(df_sd_details)"
   ]
  },
  {
   "cell_type": "code",
   "execution_count": 12,
   "metadata": {
    "ExecuteTime": {
     "end_time": "2021-05-16T14:51:16.829579Z",
     "start_time": "2021-05-16T14:51:16.800582Z"
    }
   },
   "outputs": [
    {
     "data": {
      "text/html": [
       "<div>\n",
       "<style scoped>\n",
       "    .dataframe tbody tr th:only-of-type {\n",
       "        vertical-align: middle;\n",
       "    }\n",
       "\n",
       "    .dataframe tbody tr th {\n",
       "        vertical-align: top;\n",
       "    }\n",
       "\n",
       "    .dataframe thead th {\n",
       "        text-align: right;\n",
       "    }\n",
       "</style>\n",
       "<table border=\"1\" class=\"dataframe\">\n",
       "  <thead>\n",
       "    <tr style=\"text-align: right;\">\n",
       "      <th></th>\n",
       "      <th>rating</th>\n",
       "      <th>review_count</th>\n",
       "      <th>latitude</th>\n",
       "      <th>longitude</th>\n",
       "      <th>price_converted</th>\n",
       "    </tr>\n",
       "  </thead>\n",
       "  <tbody>\n",
       "    <tr>\n",
       "      <th>count</th>\n",
       "      <td>82.000000</td>\n",
       "      <td>82.000000</td>\n",
       "      <td>82.000000</td>\n",
       "      <td>82.000000</td>\n",
       "      <td>82.000000</td>\n",
       "    </tr>\n",
       "    <tr>\n",
       "      <th>mean</th>\n",
       "      <td>4.530488</td>\n",
       "      <td>63.646341</td>\n",
       "      <td>32.926059</td>\n",
       "      <td>-117.014344</td>\n",
       "      <td>1.975610</td>\n",
       "    </tr>\n",
       "    <tr>\n",
       "      <th>std</th>\n",
       "      <td>0.594977</td>\n",
       "      <td>102.761184</td>\n",
       "      <td>0.175643</td>\n",
       "      <td>0.146575</td>\n",
       "      <td>0.220863</td>\n",
       "    </tr>\n",
       "    <tr>\n",
       "      <th>min</th>\n",
       "      <td>1.000000</td>\n",
       "      <td>1.000000</td>\n",
       "      <td>32.512608</td>\n",
       "      <td>-117.302813</td>\n",
       "      <td>1.000000</td>\n",
       "    </tr>\n",
       "    <tr>\n",
       "      <th>25%</th>\n",
       "      <td>4.500000</td>\n",
       "      <td>7.000000</td>\n",
       "      <td>32.767187</td>\n",
       "      <td>-117.136315</td>\n",
       "      <td>2.000000</td>\n",
       "    </tr>\n",
       "    <tr>\n",
       "      <th>50%</th>\n",
       "      <td>4.500000</td>\n",
       "      <td>26.000000</td>\n",
       "      <td>33.020775</td>\n",
       "      <td>-117.017288</td>\n",
       "      <td>2.000000</td>\n",
       "    </tr>\n",
       "    <tr>\n",
       "      <th>75%</th>\n",
       "      <td>5.000000</td>\n",
       "      <td>93.250000</td>\n",
       "      <td>33.063279</td>\n",
       "      <td>-116.920717</td>\n",
       "      <td>2.000000</td>\n",
       "    </tr>\n",
       "    <tr>\n",
       "      <th>max</th>\n",
       "      <td>5.000000</td>\n",
       "      <td>626.000000</td>\n",
       "      <td>33.134743</td>\n",
       "      <td>-116.750704</td>\n",
       "      <td>3.000000</td>\n",
       "    </tr>\n",
       "  </tbody>\n",
       "</table>\n",
       "</div>"
      ],
      "text/plain": [
       "          rating  review_count   latitude   longitude  price_converted\n",
       "count  82.000000     82.000000  82.000000   82.000000        82.000000\n",
       "mean    4.530488     63.646341  32.926059 -117.014344         1.975610\n",
       "std     0.594977    102.761184   0.175643    0.146575         0.220863\n",
       "min     1.000000      1.000000  32.512608 -117.302813         1.000000\n",
       "25%     4.500000      7.000000  32.767187 -117.136315         2.000000\n",
       "50%     4.500000     26.000000  33.020775 -117.017288         2.000000\n",
       "75%     5.000000     93.250000  33.063279 -116.920717         2.000000\n",
       "max     5.000000    626.000000  33.134743 -116.750704         3.000000"
      ]
     },
     "execution_count": 12,
     "metadata": {},
     "output_type": "execute_result"
    }
   ],
   "source": [
    "df_sd_details.describe()"
   ]
  },
  {
   "cell_type": "markdown",
   "metadata": {
    "ExecuteTime": {
     "end_time": "2021-05-13T21:43:51.825458Z",
     "start_time": "2021-05-13T21:43:51.819276Z"
    },
    "heading_collapsed": true
   },
   "source": [
    "### San Diego - Good Plots"
   ]
  },
  {
   "cell_type": "code",
   "execution_count": 13,
   "metadata": {
    "ExecuteTime": {
     "end_time": "2021-05-16T14:51:17.020607Z",
     "start_time": "2021-05-16T14:51:16.831580Z"
    },
    "hidden": true,
    "scrolled": true
   },
   "outputs": [
    {
     "data": {
      "image/png": "[encoded data removed]",
      "text/plain": [
       "<Figure size 432x288 with 1 Axes>"
      ]
     },
     "metadata": {
      "needs_background": "light"
     },
     "output_type": "display_data"
    }
   ],
   "source": [
    "# Visualizing the centrality of the data.\n",
    "\n",
    "df_sd_details['review_count'].plot(kind='box');"
   ]
  },
  {
   "cell_type": "markdown",
   "metadata": {
    "hidden": true
   },
   "source": [
    "Our box plot for the review counts of San Diego show that almost 75% of businesses have fewer than 100 reviews, with some **close to 200**. Four businesses have significantly more reviews, which raises the question of _why_ those businesses are so popular?\n",
    "\n",
    "Let's get a closer look at the data without those outliers."
   ]
  },
  {
   "cell_type": "code",
   "execution_count": 14,
   "metadata": {
    "ExecuteTime": {
     "end_time": "2021-05-16T14:51:17.163611Z",
     "start_time": "2021-05-16T14:51:17.022579Z"
    },
    "hidden": true
   },
   "outputs": [
    {
     "data": {
      "image/png": "[encoded data removed]",
      "text/plain": [
       "<Figure size 432x288 with 1 Axes>"
      ]
     },
     "metadata": {
      "needs_background": "light"
     },
     "output_type": "display_data"
    }
   ],
   "source": [
    "# Boxplot using the same data as above with the outliers removed.\n",
    "\n",
    "df_sd_details['review_count'].plot(kind='box', showfliers=False);"
   ]
  },
  {
   "cell_type": "markdown",
   "metadata": {
    "hidden": true
   },
   "source": [
    "This new box plot gives us a clearer idea of the spread of the data. Half of the reviews call between about 10 to 90 reviews, with an average close to 30 reviews.\n",
    "\n",
    "Where does the other half of the data fall? Let's use a histogram to visualize the data differently."
   ]
  },
  {
   "cell_type": "code",
   "execution_count": 15,
   "metadata": {
    "ExecuteTime": {
     "end_time": "2021-05-16T14:51:17.355577Z",
     "start_time": "2021-05-16T14:51:17.165578Z"
    },
    "hidden": true
   },
   "outputs": [
    {
     "data": {
      "image/png": "[encoded data removed]",
      "text/plain": [
       "<Figure size 432x288 with 1 Axes>"
      ]
     },
     "metadata": {
      "needs_background": "light"
     },
     "output_type": "display_data"
    }
   ],
   "source": [
    "# Counting the occurences of each review total\n",
    "\n",
    "sns.histplot(df_sd_details['review_count']);"
   ]
  },
  {
   "cell_type": "markdown",
   "metadata": {
    "hidden": true
   },
   "source": [
    "This histogram shows that a large number of businesses have below 50 reviews. This matches our understanding from above."
   ]
  },
  {
   "cell_type": "code",
   "execution_count": 16,
   "metadata": {
    "ExecuteTime": {
     "end_time": "2021-05-16T14:51:17.547607Z",
     "start_time": "2021-05-16T14:51:17.357590Z"
    },
    "hidden": true
   },
   "outputs": [
    {
     "data": {
      "image/png": "[encoded data removed]",
      "text/plain": [
       "<Figure size 432x288 with 1 Axes>"
      ]
     },
     "metadata": {
      "needs_background": "light"
     },
     "output_type": "display_data"
    }
   ],
   "source": [
    "fig, ax = plt.subplots()\n",
    "df_sd_details['price_converted'].plot.hist(bins=5)\n",
    "ax.set_xlabel('Price ($)');"
   ]
  },
  {
   "cell_type": "markdown",
   "metadata": {
    "heading_collapsed": true
   },
   "source": [
    "## EDA: Napa Valley Business Details"
   ]
  },
  {
   "cell_type": "code",
   "execution_count": 17,
   "metadata": {
    "ExecuteTime": {
     "end_time": "2021-05-16T14:51:17.578578Z",
     "start_time": "2021-05-16T14:51:17.549577Z"
    },
    "hidden": true
   },
   "outputs": [
    {
     "data": {
      "text/html": [
       "<div>\n",
       "<style scoped>\n",
       "    .dataframe tbody tr th:only-of-type {\n",
       "        vertical-align: middle;\n",
       "    }\n",
       "\n",
       "    .dataframe tbody tr th {\n",
       "        vertical-align: top;\n",
       "    }\n",
       "\n",
       "    .dataframe thead th {\n",
       "        text-align: right;\n",
       "    }\n",
       "</style>\n",
       "<table border=\"1\" class=\"dataframe\">\n",
       "  <thead>\n",
       "    <tr style=\"text-align: right;\">\n",
       "      <th></th>\n",
       "      <th>name</th>\n",
       "      <th>location</th>\n",
       "      <th>Business ID</th>\n",
       "      <th>alias</th>\n",
       "      <th>title</th>\n",
       "      <th>rating</th>\n",
       "      <th>review_count</th>\n",
       "      <th>price</th>\n",
       "      <th>latitude</th>\n",
       "      <th>longitude</th>\n",
       "      <th>price_converted</th>\n",
       "      <th>City</th>\n",
       "    </tr>\n",
       "  </thead>\n",
       "  <tbody>\n",
       "    <tr>\n",
       "      <th>0</th>\n",
       "      <td>Hendry Vineyard and Winery</td>\n",
       "      <td>3104 Redwood Rd Napa, CA 94558</td>\n",
       "      <td>mO8n3zTLoFhlmcfQr7X_TQ</td>\n",
       "      <td>wineries</td>\n",
       "      <td>Wineries</td>\n",
       "      <td>5.0</td>\n",
       "      <td>658</td>\n",
       "      <td>$$</td>\n",
       "      <td>38.321680</td>\n",
       "      <td>-122.344810</td>\n",
       "      <td>2</td>\n",
       "      <td>Napa Valley</td>\n",
       "    </tr>\n",
       "    <tr>\n",
       "      <th>1</th>\n",
       "      <td>Domaine Carneros</td>\n",
       "      <td>1240 Duhig Rd Napa, CA 94559</td>\n",
       "      <td>8eGTOeEQpUpYb89ISug3ag</td>\n",
       "      <td>wineries</td>\n",
       "      <td>Wineries</td>\n",
       "      <td>4.0</td>\n",
       "      <td>2239</td>\n",
       "      <td>$$</td>\n",
       "      <td>38.255534</td>\n",
       "      <td>-122.351391</td>\n",
       "      <td>2</td>\n",
       "      <td>Napa Valley</td>\n",
       "    </tr>\n",
       "    <tr>\n",
       "      <th>2</th>\n",
       "      <td>Paraduxx Winery</td>\n",
       "      <td>7257 Silverado Trl Napa, CA 94558</td>\n",
       "      <td>cBFZALrZbLV5XBsiPcgknQ</td>\n",
       "      <td>wineries</td>\n",
       "      <td>Wineries</td>\n",
       "      <td>4.5</td>\n",
       "      <td>373</td>\n",
       "      <td>$$</td>\n",
       "      <td>38.435480</td>\n",
       "      <td>-122.351430</td>\n",
       "      <td>2</td>\n",
       "      <td>Napa Valley</td>\n",
       "    </tr>\n",
       "    <tr>\n",
       "      <th>3</th>\n",
       "      <td>Jarvis Winery</td>\n",
       "      <td>2970 Monticello Rd Napa, CA 94558</td>\n",
       "      <td>NPkAqW68Og5eBofEpPiRXQ</td>\n",
       "      <td>wineries</td>\n",
       "      <td>Wineries</td>\n",
       "      <td>4.5</td>\n",
       "      <td>209</td>\n",
       "      <td>$$$</td>\n",
       "      <td>38.357010</td>\n",
       "      <td>-122.213620</td>\n",
       "      <td>3</td>\n",
       "      <td>Napa Valley</td>\n",
       "    </tr>\n",
       "    <tr>\n",
       "      <th>4</th>\n",
       "      <td>White Rock Vineyards</td>\n",
       "      <td>1112 Loma Vista Dr Napa, CA 94558</td>\n",
       "      <td>shbhrTpVLOdql8hNGC9NDw</td>\n",
       "      <td>wineries</td>\n",
       "      <td>Wineries</td>\n",
       "      <td>5.0</td>\n",
       "      <td>55</td>\n",
       "      <td>$$</td>\n",
       "      <td>38.377683</td>\n",
       "      <td>-122.286565</td>\n",
       "      <td>2</td>\n",
       "      <td>Napa Valley</td>\n",
       "    </tr>\n",
       "  </tbody>\n",
       "</table>\n",
       "</div>"
      ],
      "text/plain": [
       "                         name                           location  \\\n",
       "0  Hendry Vineyard and Winery     3104 Redwood Rd Napa, CA 94558   \n",
       "1            Domaine Carneros       1240 Duhig Rd Napa, CA 94559   \n",
       "2             Paraduxx Winery  7257 Silverado Trl Napa, CA 94558   \n",
       "3               Jarvis Winery  2970 Monticello Rd Napa, CA 94558   \n",
       "4        White Rock Vineyards  1112 Loma Vista Dr Napa, CA 94558   \n",
       "\n",
       "              Business ID     alias     title  rating  review_count price  \\\n",
       "0  mO8n3zTLoFhlmcfQr7X_TQ  wineries  Wineries     5.0           658    $$   \n",
       "1  8eGTOeEQpUpYb89ISug3ag  wineries  Wineries     4.0          2239    $$   \n",
       "2  cBFZALrZbLV5XBsiPcgknQ  wineries  Wineries     4.5           373    $$   \n",
       "3  NPkAqW68Og5eBofEpPiRXQ  wineries  Wineries     4.5           209   $$$   \n",
       "4  shbhrTpVLOdql8hNGC9NDw  wineries  Wineries     5.0            55    $$   \n",
       "\n",
       "    latitude   longitude  price_converted         City  \n",
       "0  38.321680 -122.344810                2  Napa Valley  \n",
       "1  38.255534 -122.351391                2  Napa Valley  \n",
       "2  38.435480 -122.351430                2  Napa Valley  \n",
       "3  38.357010 -122.213620                3  Napa Valley  \n",
       "4  38.377683 -122.286565                2  Napa Valley  "
      ]
     },
     "execution_count": 17,
     "metadata": {},
     "output_type": "execute_result"
    }
   ],
   "source": [
    "df_nv_details.head()"
   ]
  },
  {
   "cell_type": "code",
   "execution_count": 18,
   "metadata": {
    "ExecuteTime": {
     "end_time": "2021-05-16T14:51:17.593603Z",
     "start_time": "2021-05-16T14:51:17.580578Z"
    },
    "hidden": true
   },
   "outputs": [
    {
     "data": {
      "text/plain": [
       "name                 0\n",
       "location             0\n",
       "Business ID          0\n",
       "alias                0\n",
       "title                0\n",
       "rating               0\n",
       "review_count         0\n",
       "price              166\n",
       "latitude             0\n",
       "longitude            0\n",
       "price_converted      0\n",
       "City                 0\n",
       "dtype: int64"
      ]
     },
     "execution_count": 18,
     "metadata": {},
     "output_type": "execute_result"
    }
   ],
   "source": [
    "# Check for null values\n",
    "\n",
    "df_nv_details.isna().sum()"
   ]
  },
  {
   "cell_type": "code",
   "execution_count": 19,
   "metadata": {
    "ExecuteTime": {
     "end_time": "2021-05-16T14:51:17.609606Z",
     "start_time": "2021-05-16T14:51:17.595578Z"
    },
    "hidden": true
   },
   "outputs": [
    {
     "data": {
      "text/plain": [
       "$$      156\n",
       "$$$      61\n",
       "$$$$     16\n",
       "$         4\n",
       "Name: price, dtype: int64"
      ]
     },
     "execution_count": 19,
     "metadata": {},
     "output_type": "execute_result"
    }
   ],
   "source": [
    "# Determine if best to fill those values\n",
    "df_nv_details['price'].value_counts()"
   ]
  },
  {
   "cell_type": "code",
   "execution_count": 20,
   "metadata": {
    "ExecuteTime": {
     "end_time": "2021-05-16T14:51:17.625577Z",
     "start_time": "2021-05-16T14:51:17.611579Z"
    },
    "hidden": true
   },
   "outputs": [
    {
     "name": "stdout",
     "output_type": "stream",
     "text": [
      "2.3755274261603376\n",
      "2.0\n"
     ]
    }
   ],
   "source": [
    "nv_not_zero = df_nv_details[df_nv_details['price_converted'] > 0]\n",
    "nv_price_mean = nv_not_zero['price_converted'].agg('mean')\n",
    "print(nv_price_mean)\n",
    "nv_price_median = nv_not_zero['price_converted'].agg('median')\n",
    "print(nv_price_median)"
   ]
  },
  {
   "cell_type": "code",
   "execution_count": 21,
   "metadata": {
    "ExecuteTime": {
     "end_time": "2021-05-16T14:51:17.641580Z",
     "start_time": "2021-05-16T14:51:17.627578Z"
    },
    "hidden": true
   },
   "outputs": [
    {
     "data": {
      "text/plain": [
       "name               0\n",
       "location           0\n",
       "Business ID        0\n",
       "alias              0\n",
       "title              0\n",
       "rating             0\n",
       "review_count       0\n",
       "price              0\n",
       "latitude           0\n",
       "longitude          0\n",
       "price_converted    0\n",
       "City               0\n",
       "dtype: int64"
      ]
     },
     "execution_count": 21,
     "metadata": {},
     "output_type": "execute_result"
    }
   ],
   "source": [
    "# Fill with \"$$\", representing the majority of the data\n",
    "df_nv_details['price'].fillna(value=\"$$\", inplace=True)\n",
    "\n",
    "## Confirm all NaN are fixed\n",
    "df_nv_details.isna().sum()"
   ]
  },
  {
   "cell_type": "code",
   "execution_count": 22,
   "metadata": {
    "ExecuteTime": {
     "end_time": "2021-05-16T14:51:17.657608Z",
     "start_time": "2021-05-16T14:51:17.643578Z"
    },
    "code_folding": [],
    "hidden": true
   },
   "outputs": [],
   "source": [
    "# Add prior converter function for updated price values\n",
    "def convert_price(dataframe):\n",
    "    ''' - Requires a dataframe with the 'price' column elements being NaN,\n",
    "    $, $$, $$$, $$$$, or $$$$$.\n",
    "    - Takes a pre-existing dataframe and adds a column to store the \\\n",
    "    conversion from $ to an integer.'''\n",
    "    \n",
    "    # Converting $s to integers, then saving to new column.\n",
    "    dataframe['price_converted'] = dataframe.loc[:,'price'] \\\n",
    "    .map({np.nan:0, '$':1, '$$':2, '$$$':3, '$$$$':4, '$$$$$':5})\n",
    "    \n",
    "    return dataframe"
   ]
  },
  {
   "cell_type": "code",
   "execution_count": 23,
   "metadata": {
    "ExecuteTime": {
     "end_time": "2021-05-16T14:51:17.735577Z",
     "start_time": "2021-05-16T14:51:17.659581Z"
    },
    "hidden": true
   },
   "outputs": [
    {
     "data": {
      "text/html": [
       "<div>\n",
       "<style scoped>\n",
       "    .dataframe tbody tr th:only-of-type {\n",
       "        vertical-align: middle;\n",
       "    }\n",
       "\n",
       "    .dataframe tbody tr th {\n",
       "        vertical-align: top;\n",
       "    }\n",
       "\n",
       "    .dataframe thead th {\n",
       "        text-align: right;\n",
       "    }\n",
       "</style>\n",
       "<table border=\"1\" class=\"dataframe\">\n",
       "  <thead>\n",
       "    <tr style=\"text-align: right;\">\n",
       "      <th></th>\n",
       "      <th>name</th>\n",
       "      <th>location</th>\n",
       "      <th>Business ID</th>\n",
       "      <th>alias</th>\n",
       "      <th>title</th>\n",
       "      <th>rating</th>\n",
       "      <th>review_count</th>\n",
       "      <th>price</th>\n",
       "      <th>latitude</th>\n",
       "      <th>longitude</th>\n",
       "      <th>price_converted</th>\n",
       "      <th>City</th>\n",
       "    </tr>\n",
       "  </thead>\n",
       "  <tbody>\n",
       "    <tr>\n",
       "      <th>0</th>\n",
       "      <td>Hendry Vineyard and Winery</td>\n",
       "      <td>3104 Redwood Rd Napa, CA 94558</td>\n",
       "      <td>mO8n3zTLoFhlmcfQr7X_TQ</td>\n",
       "      <td>wineries</td>\n",
       "      <td>Wineries</td>\n",
       "      <td>5.0</td>\n",
       "      <td>658</td>\n",
       "      <td>$$</td>\n",
       "      <td>38.321680</td>\n",
       "      <td>-122.344810</td>\n",
       "      <td>2</td>\n",
       "      <td>Napa Valley</td>\n",
       "    </tr>\n",
       "    <tr>\n",
       "      <th>1</th>\n",
       "      <td>Domaine Carneros</td>\n",
       "      <td>1240 Duhig Rd Napa, CA 94559</td>\n",
       "      <td>8eGTOeEQpUpYb89ISug3ag</td>\n",
       "      <td>wineries</td>\n",
       "      <td>Wineries</td>\n",
       "      <td>4.0</td>\n",
       "      <td>2239</td>\n",
       "      <td>$$</td>\n",
       "      <td>38.255534</td>\n",
       "      <td>-122.351391</td>\n",
       "      <td>2</td>\n",
       "      <td>Napa Valley</td>\n",
       "    </tr>\n",
       "    <tr>\n",
       "      <th>2</th>\n",
       "      <td>Paraduxx Winery</td>\n",
       "      <td>7257 Silverado Trl Napa, CA 94558</td>\n",
       "      <td>cBFZALrZbLV5XBsiPcgknQ</td>\n",
       "      <td>wineries</td>\n",
       "      <td>Wineries</td>\n",
       "      <td>4.5</td>\n",
       "      <td>373</td>\n",
       "      <td>$$</td>\n",
       "      <td>38.435480</td>\n",
       "      <td>-122.351430</td>\n",
       "      <td>2</td>\n",
       "      <td>Napa Valley</td>\n",
       "    </tr>\n",
       "    <tr>\n",
       "      <th>3</th>\n",
       "      <td>Jarvis Winery</td>\n",
       "      <td>2970 Monticello Rd Napa, CA 94558</td>\n",
       "      <td>NPkAqW68Og5eBofEpPiRXQ</td>\n",
       "      <td>wineries</td>\n",
       "      <td>Wineries</td>\n",
       "      <td>4.5</td>\n",
       "      <td>209</td>\n",
       "      <td>$$$</td>\n",
       "      <td>38.357010</td>\n",
       "      <td>-122.213620</td>\n",
       "      <td>3</td>\n",
       "      <td>Napa Valley</td>\n",
       "    </tr>\n",
       "    <tr>\n",
       "      <th>4</th>\n",
       "      <td>White Rock Vineyards</td>\n",
       "      <td>1112 Loma Vista Dr Napa, CA 94558</td>\n",
       "      <td>shbhrTpVLOdql8hNGC9NDw</td>\n",
       "      <td>wineries</td>\n",
       "      <td>Wineries</td>\n",
       "      <td>5.0</td>\n",
       "      <td>55</td>\n",
       "      <td>$$</td>\n",
       "      <td>38.377683</td>\n",
       "      <td>-122.286565</td>\n",
       "      <td>2</td>\n",
       "      <td>Napa Valley</td>\n",
       "    </tr>\n",
       "    <tr>\n",
       "      <th>...</th>\n",
       "      <td>...</td>\n",
       "      <td>...</td>\n",
       "      <td>...</td>\n",
       "      <td>...</td>\n",
       "      <td>...</td>\n",
       "      <td>...</td>\n",
       "      <td>...</td>\n",
       "      <td>...</td>\n",
       "      <td>...</td>\n",
       "      <td>...</td>\n",
       "      <td>...</td>\n",
       "      <td>...</td>\n",
       "    </tr>\n",
       "    <tr>\n",
       "      <th>398</th>\n",
       "      <td>Andretti Winery</td>\n",
       "      <td>1625 Trancas St NAPA, CA 94558</td>\n",
       "      <td>NKCMqIlRopcSMA15JpeyJg</td>\n",
       "      <td>wineries</td>\n",
       "      <td>Wineries</td>\n",
       "      <td>3.5</td>\n",
       "      <td>311</td>\n",
       "      <td>$$</td>\n",
       "      <td>38.321516</td>\n",
       "      <td>-122.304108</td>\n",
       "      <td>2</td>\n",
       "      <td>Napa Valley</td>\n",
       "    </tr>\n",
       "    <tr>\n",
       "      <th>399</th>\n",
       "      <td>Lionstone International</td>\n",
       "      <td>21481 8th St E Sonoma, CA 95476</td>\n",
       "      <td>pW9QPUkm2_tTXLCzyQ6qvg</td>\n",
       "      <td>wineries</td>\n",
       "      <td>Wineries</td>\n",
       "      <td>1.0</td>\n",
       "      <td>1</td>\n",
       "      <td>$$</td>\n",
       "      <td>38.262062</td>\n",
       "      <td>-122.442036</td>\n",
       "      <td>2</td>\n",
       "      <td>Napa Valley</td>\n",
       "    </tr>\n",
       "    <tr>\n",
       "      <th>400</th>\n",
       "      <td>Napa Vinyards</td>\n",
       "      <td>Napa, CA 94558</td>\n",
       "      <td>UwgQWRkTzlFnw3-QYCaBlQ</td>\n",
       "      <td>wineries</td>\n",
       "      <td>Wineries</td>\n",
       "      <td>1.0</td>\n",
       "      <td>1</td>\n",
       "      <td>$$</td>\n",
       "      <td>38.383260</td>\n",
       "      <td>-122.313060</td>\n",
       "      <td>2</td>\n",
       "      <td>Napa Valley</td>\n",
       "    </tr>\n",
       "    <tr>\n",
       "      <th>401</th>\n",
       "      <td>Cook Vinyard Management</td>\n",
       "      <td>19626 Eighth St E Sonoma, CA 95476</td>\n",
       "      <td>LxMkyxBokxu6iRIsuMF5Tw</td>\n",
       "      <td>wineries</td>\n",
       "      <td>Wineries</td>\n",
       "      <td>1.0</td>\n",
       "      <td>1</td>\n",
       "      <td>$$</td>\n",
       "      <td>38.286261</td>\n",
       "      <td>-122.434893</td>\n",
       "      <td>2</td>\n",
       "      <td>Napa Valley</td>\n",
       "    </tr>\n",
       "    <tr>\n",
       "      <th>402</th>\n",
       "      <td>Top It Off Bottling</td>\n",
       "      <td>21481 8th St E Ste 1 Sonoma, CA 95476</td>\n",
       "      <td>Jt-VYmagp5ETW1v_G_Ae0g</td>\n",
       "      <td>wineries</td>\n",
       "      <td>Wineries</td>\n",
       "      <td>1.0</td>\n",
       "      <td>2</td>\n",
       "      <td>$$</td>\n",
       "      <td>38.262480</td>\n",
       "      <td>-122.442070</td>\n",
       "      <td>2</td>\n",
       "      <td>Napa Valley</td>\n",
       "    </tr>\n",
       "  </tbody>\n",
       "</table>\n",
       "<p>403 rows × 12 columns</p>\n",
       "</div>"
      ],
      "text/plain": [
       "                           name                               location  \\\n",
       "0    Hendry Vineyard and Winery         3104 Redwood Rd Napa, CA 94558   \n",
       "1              Domaine Carneros           1240 Duhig Rd Napa, CA 94559   \n",
       "2               Paraduxx Winery      7257 Silverado Trl Napa, CA 94558   \n",
       "3                 Jarvis Winery      2970 Monticello Rd Napa, CA 94558   \n",
       "4          White Rock Vineyards      1112 Loma Vista Dr Napa, CA 94558   \n",
       "..                          ...                                    ...   \n",
       "398             Andretti Winery         1625 Trancas St NAPA, CA 94558   \n",
       "399     Lionstone International        21481 8th St E Sonoma, CA 95476   \n",
       "400               Napa Vinyards                         Napa, CA 94558   \n",
       "401     Cook Vinyard Management     19626 Eighth St E Sonoma, CA 95476   \n",
       "402         Top It Off Bottling  21481 8th St E Ste 1 Sonoma, CA 95476   \n",
       "\n",
       "                Business ID     alias     title  rating  review_count price  \\\n",
       "0    mO8n3zTLoFhlmcfQr7X_TQ  wineries  Wineries     5.0           658    $$   \n",
       "1    8eGTOeEQpUpYb89ISug3ag  wineries  Wineries     4.0          2239    $$   \n",
       "2    cBFZALrZbLV5XBsiPcgknQ  wineries  Wineries     4.5           373    $$   \n",
       "3    NPkAqW68Og5eBofEpPiRXQ  wineries  Wineries     4.5           209   $$$   \n",
       "4    shbhrTpVLOdql8hNGC9NDw  wineries  Wineries     5.0            55    $$   \n",
       "..                      ...       ...       ...     ...           ...   ...   \n",
       "398  NKCMqIlRopcSMA15JpeyJg  wineries  Wineries     3.5           311    $$   \n",
       "399  pW9QPUkm2_tTXLCzyQ6qvg  wineries  Wineries     1.0             1    $$   \n",
       "400  UwgQWRkTzlFnw3-QYCaBlQ  wineries  Wineries     1.0             1    $$   \n",
       "401  LxMkyxBokxu6iRIsuMF5Tw  wineries  Wineries     1.0             1    $$   \n",
       "402  Jt-VYmagp5ETW1v_G_Ae0g  wineries  Wineries     1.0             2    $$   \n",
       "\n",
       "      latitude   longitude  price_converted         City  \n",
       "0    38.321680 -122.344810                2  Napa Valley  \n",
       "1    38.255534 -122.351391                2  Napa Valley  \n",
       "2    38.435480 -122.351430                2  Napa Valley  \n",
       "3    38.357010 -122.213620                3  Napa Valley  \n",
       "4    38.377683 -122.286565                2  Napa Valley  \n",
       "..         ...         ...              ...          ...  \n",
       "398  38.321516 -122.304108                2  Napa Valley  \n",
       "399  38.262062 -122.442036                2  Napa Valley  \n",
       "400  38.383260 -122.313060                2  Napa Valley  \n",
       "401  38.286261 -122.434893                2  Napa Valley  \n",
       "402  38.262480 -122.442070                2  Napa Valley  \n",
       "\n",
       "[403 rows x 12 columns]"
      ]
     },
     "execution_count": 23,
     "metadata": {},
     "output_type": "execute_result"
    }
   ],
   "source": [
    "# Run function to correct for any \"0\" values in 'price_converted' column\n",
    "convert_price(df_nv_details)"
   ]
  },
  {
   "cell_type": "code",
   "execution_count": 24,
   "metadata": {
    "ExecuteTime": {
     "end_time": "2021-05-16T14:51:17.781608Z",
     "start_time": "2021-05-16T14:51:17.742578Z"
    },
    "hidden": true,
    "scrolled": true
   },
   "outputs": [
    {
     "data": {
      "text/html": [
       "<div>\n",
       "<style scoped>\n",
       "    .dataframe tbody tr th:only-of-type {\n",
       "        vertical-align: middle;\n",
       "    }\n",
       "\n",
       "    .dataframe tbody tr th {\n",
       "        vertical-align: top;\n",
       "    }\n",
       "\n",
       "    .dataframe thead th {\n",
       "        text-align: right;\n",
       "    }\n",
       "</style>\n",
       "<table border=\"1\" class=\"dataframe\">\n",
       "  <thead>\n",
       "    <tr style=\"text-align: right;\">\n",
       "      <th></th>\n",
       "      <th>rating</th>\n",
       "      <th>review_count</th>\n",
       "      <th>latitude</th>\n",
       "      <th>longitude</th>\n",
       "      <th>price_converted</th>\n",
       "    </tr>\n",
       "  </thead>\n",
       "  <tbody>\n",
       "    <tr>\n",
       "      <th>count</th>\n",
       "      <td>403.000000</td>\n",
       "      <td>403.000000</td>\n",
       "      <td>403.000000</td>\n",
       "      <td>403.000000</td>\n",
       "      <td>403.000000</td>\n",
       "    </tr>\n",
       "    <tr>\n",
       "      <th>mean</th>\n",
       "      <td>4.558313</td>\n",
       "      <td>85.310174</td>\n",
       "      <td>38.329524</td>\n",
       "      <td>-122.334085</td>\n",
       "      <td>2.220844</td>\n",
       "    </tr>\n",
       "    <tr>\n",
       "      <th>std</th>\n",
       "      <td>0.696258</td>\n",
       "      <td>195.505406</td>\n",
       "      <td>0.069026</td>\n",
       "      <td>0.078398</td>\n",
       "      <td>0.521538</td>\n",
       "    </tr>\n",
       "    <tr>\n",
       "      <th>min</th>\n",
       "      <td>1.000000</td>\n",
       "      <td>1.000000</td>\n",
       "      <td>38.150444</td>\n",
       "      <td>-122.494690</td>\n",
       "      <td>1.000000</td>\n",
       "    </tr>\n",
       "    <tr>\n",
       "      <th>25%</th>\n",
       "      <td>4.500000</td>\n",
       "      <td>3.000000</td>\n",
       "      <td>38.288946</td>\n",
       "      <td>-122.396858</td>\n",
       "      <td>2.000000</td>\n",
       "    </tr>\n",
       "    <tr>\n",
       "      <th>50%</th>\n",
       "      <td>5.000000</td>\n",
       "      <td>14.000000</td>\n",
       "      <td>38.317054</td>\n",
       "      <td>-122.317486</td>\n",
       "      <td>2.000000</td>\n",
       "    </tr>\n",
       "    <tr>\n",
       "      <th>75%</th>\n",
       "      <td>5.000000</td>\n",
       "      <td>73.500000</td>\n",
       "      <td>38.387639</td>\n",
       "      <td>-122.286800</td>\n",
       "      <td>2.000000</td>\n",
       "    </tr>\n",
       "    <tr>\n",
       "      <th>max</th>\n",
       "      <td>5.000000</td>\n",
       "      <td>2239.000000</td>\n",
       "      <td>38.465419</td>\n",
       "      <td>-122.101645</td>\n",
       "      <td>4.000000</td>\n",
       "    </tr>\n",
       "  </tbody>\n",
       "</table>\n",
       "</div>"
      ],
      "text/plain": [
       "           rating  review_count    latitude   longitude  price_converted\n",
       "count  403.000000    403.000000  403.000000  403.000000       403.000000\n",
       "mean     4.558313     85.310174   38.329524 -122.334085         2.220844\n",
       "std      0.696258    195.505406    0.069026    0.078398         0.521538\n",
       "min      1.000000      1.000000   38.150444 -122.494690         1.000000\n",
       "25%      4.500000      3.000000   38.288946 -122.396858         2.000000\n",
       "50%      5.000000     14.000000   38.317054 -122.317486         2.000000\n",
       "75%      5.000000     73.500000   38.387639 -122.286800         2.000000\n",
       "max      5.000000   2239.000000   38.465419 -122.101645         4.000000"
      ]
     },
     "execution_count": 24,
     "metadata": {},
     "output_type": "execute_result"
    }
   ],
   "source": [
    "df_nv_details.describe()"
   ]
  },
  {
   "cell_type": "markdown",
   "metadata": {
    "ExecuteTime": {
     "end_time": "2021-05-13T23:04:31.705080Z",
     "start_time": "2021-05-13T23:04:31.699078Z"
    },
    "heading_collapsed": true
   },
   "source": [
    "# EDA: Combined Cities - Business Details"
   ]
  },
  {
   "cell_type": "code",
   "execution_count": 25,
   "metadata": {
    "ExecuteTime": {
     "end_time": "2021-05-16T14:51:17.812578Z",
     "start_time": "2021-05-16T14:51:17.784578Z"
    },
    "hidden": true
   },
   "outputs": [
    {
     "data": {
      "text/html": [
       "<div>\n",
       "<style scoped>\n",
       "    .dataframe tbody tr th:only-of-type {\n",
       "        vertical-align: middle;\n",
       "    }\n",
       "\n",
       "    .dataframe tbody tr th {\n",
       "        vertical-align: top;\n",
       "    }\n",
       "\n",
       "    .dataframe thead th {\n",
       "        text-align: right;\n",
       "    }\n",
       "</style>\n",
       "<table border=\"1\" class=\"dataframe\">\n",
       "  <thead>\n",
       "    <tr style=\"text-align: right;\">\n",
       "      <th></th>\n",
       "      <th>name</th>\n",
       "      <th>location</th>\n",
       "      <th>Business ID</th>\n",
       "      <th>alias</th>\n",
       "      <th>title</th>\n",
       "      <th>rating</th>\n",
       "      <th>review_count</th>\n",
       "      <th>price</th>\n",
       "      <th>latitude</th>\n",
       "      <th>longitude</th>\n",
       "      <th>price_converted</th>\n",
       "      <th>City</th>\n",
       "    </tr>\n",
       "  </thead>\n",
       "  <tbody>\n",
       "    <tr>\n",
       "      <th>0</th>\n",
       "      <td>Bernardo Winery</td>\n",
       "      <td>13330 Paseo Del Verano Norte San Diego, CA 92128</td>\n",
       "      <td>DknnpiG1p4OoM1maFshzXA</td>\n",
       "      <td>winetastingroom</td>\n",
       "      <td>Wine Tasting Room</td>\n",
       "      <td>4.5</td>\n",
       "      <td>626</td>\n",
       "      <td>$$</td>\n",
       "      <td>33.032800</td>\n",
       "      <td>-117.046460</td>\n",
       "      <td>2</td>\n",
       "      <td>San Diego</td>\n",
       "    </tr>\n",
       "    <tr>\n",
       "      <th>1</th>\n",
       "      <td>Callaway Vineyard &amp; Winery</td>\n",
       "      <td>517 4th Ave Ste 101 San Diego, CA 92101</td>\n",
       "      <td>Cn2_bpTngghYW1ej4zreZg</td>\n",
       "      <td>winetastingroom</td>\n",
       "      <td>Wine Tasting Room</td>\n",
       "      <td>5.0</td>\n",
       "      <td>100</td>\n",
       "      <td>$$</td>\n",
       "      <td>32.710751</td>\n",
       "      <td>-117.160918</td>\n",
       "      <td>2</td>\n",
       "      <td>San Diego</td>\n",
       "    </tr>\n",
       "    <tr>\n",
       "      <th>2</th>\n",
       "      <td>Négociant Winery</td>\n",
       "      <td>2419 El Cajon Blvd San Diego, CA 92104</td>\n",
       "      <td>Cc1sQWRWgGyMCjzX2mmMQQ</td>\n",
       "      <td>winetastingroom</td>\n",
       "      <td>Wine Tasting Room</td>\n",
       "      <td>4.5</td>\n",
       "      <td>103</td>\n",
       "      <td>$$</td>\n",
       "      <td>32.754880</td>\n",
       "      <td>-117.138280</td>\n",
       "      <td>2</td>\n",
       "      <td>San Diego</td>\n",
       "    </tr>\n",
       "    <tr>\n",
       "      <th>3</th>\n",
       "      <td>San Pasqual Winery - Seaport Village</td>\n",
       "      <td>805 W Harbor Dr San Diego, CA 92101</td>\n",
       "      <td>gMW1RvyLu90RSQAY9UrIHw</td>\n",
       "      <td>winetastingroom</td>\n",
       "      <td>Wine Tasting Room</td>\n",
       "      <td>4.5</td>\n",
       "      <td>138</td>\n",
       "      <td>$$</td>\n",
       "      <td>32.708732</td>\n",
       "      <td>-117.168195</td>\n",
       "      <td>2</td>\n",
       "      <td>San Diego</td>\n",
       "    </tr>\n",
       "    <tr>\n",
       "      <th>4</th>\n",
       "      <td>Domaine Artefact Vineyard &amp; Winery</td>\n",
       "      <td>15404 Highland Valley Rd Escondido, CA 92025</td>\n",
       "      <td>WqVbxY77Ag96X90LultCUw</td>\n",
       "      <td>wineries</td>\n",
       "      <td>Wineries</td>\n",
       "      <td>5.0</td>\n",
       "      <td>96</td>\n",
       "      <td>$$</td>\n",
       "      <td>33.068170</td>\n",
       "      <td>-117.001600</td>\n",
       "      <td>2</td>\n",
       "      <td>San Diego</td>\n",
       "    </tr>\n",
       "    <tr>\n",
       "      <th>...</th>\n",
       "      <td>...</td>\n",
       "      <td>...</td>\n",
       "      <td>...</td>\n",
       "      <td>...</td>\n",
       "      <td>...</td>\n",
       "      <td>...</td>\n",
       "      <td>...</td>\n",
       "      <td>...</td>\n",
       "      <td>...</td>\n",
       "      <td>...</td>\n",
       "      <td>...</td>\n",
       "      <td>...</td>\n",
       "    </tr>\n",
       "    <tr>\n",
       "      <th>398</th>\n",
       "      <td>Andretti Winery</td>\n",
       "      <td>1625 Trancas St NAPA, CA 94558</td>\n",
       "      <td>NKCMqIlRopcSMA15JpeyJg</td>\n",
       "      <td>wineries</td>\n",
       "      <td>Wineries</td>\n",
       "      <td>3.5</td>\n",
       "      <td>311</td>\n",
       "      <td>$$</td>\n",
       "      <td>38.321516</td>\n",
       "      <td>-122.304108</td>\n",
       "      <td>2</td>\n",
       "      <td>Napa Valley</td>\n",
       "    </tr>\n",
       "    <tr>\n",
       "      <th>399</th>\n",
       "      <td>Lionstone International</td>\n",
       "      <td>21481 8th St E Sonoma, CA 95476</td>\n",
       "      <td>pW9QPUkm2_tTXLCzyQ6qvg</td>\n",
       "      <td>wineries</td>\n",
       "      <td>Wineries</td>\n",
       "      <td>1.0</td>\n",
       "      <td>1</td>\n",
       "      <td>$$</td>\n",
       "      <td>38.262062</td>\n",
       "      <td>-122.442036</td>\n",
       "      <td>2</td>\n",
       "      <td>Napa Valley</td>\n",
       "    </tr>\n",
       "    <tr>\n",
       "      <th>400</th>\n",
       "      <td>Napa Vinyards</td>\n",
       "      <td>Napa, CA 94558</td>\n",
       "      <td>UwgQWRkTzlFnw3-QYCaBlQ</td>\n",
       "      <td>wineries</td>\n",
       "      <td>Wineries</td>\n",
       "      <td>1.0</td>\n",
       "      <td>1</td>\n",
       "      <td>$$</td>\n",
       "      <td>38.383260</td>\n",
       "      <td>-122.313060</td>\n",
       "      <td>2</td>\n",
       "      <td>Napa Valley</td>\n",
       "    </tr>\n",
       "    <tr>\n",
       "      <th>401</th>\n",
       "      <td>Cook Vinyard Management</td>\n",
       "      <td>19626 Eighth St E Sonoma, CA 95476</td>\n",
       "      <td>LxMkyxBokxu6iRIsuMF5Tw</td>\n",
       "      <td>wineries</td>\n",
       "      <td>Wineries</td>\n",
       "      <td>1.0</td>\n",
       "      <td>1</td>\n",
       "      <td>$$</td>\n",
       "      <td>38.286261</td>\n",
       "      <td>-122.434893</td>\n",
       "      <td>2</td>\n",
       "      <td>Napa Valley</td>\n",
       "    </tr>\n",
       "    <tr>\n",
       "      <th>402</th>\n",
       "      <td>Top It Off Bottling</td>\n",
       "      <td>21481 8th St E Ste 1 Sonoma, CA 95476</td>\n",
       "      <td>Jt-VYmagp5ETW1v_G_Ae0g</td>\n",
       "      <td>wineries</td>\n",
       "      <td>Wineries</td>\n",
       "      <td>1.0</td>\n",
       "      <td>2</td>\n",
       "      <td>$$</td>\n",
       "      <td>38.262480</td>\n",
       "      <td>-122.442070</td>\n",
       "      <td>2</td>\n",
       "      <td>Napa Valley</td>\n",
       "    </tr>\n",
       "  </tbody>\n",
       "</table>\n",
       "<p>485 rows × 12 columns</p>\n",
       "</div>"
      ],
      "text/plain": [
       "                                     name  \\\n",
       "0                         Bernardo Winery   \n",
       "1              Callaway Vineyard & Winery   \n",
       "2                        Négociant Winery   \n",
       "3    San Pasqual Winery - Seaport Village   \n",
       "4      Domaine Artefact Vineyard & Winery   \n",
       "..                                    ...   \n",
       "398                       Andretti Winery   \n",
       "399               Lionstone International   \n",
       "400                         Napa Vinyards   \n",
       "401               Cook Vinyard Management   \n",
       "402                   Top It Off Bottling   \n",
       "\n",
       "                                             location             Business ID  \\\n",
       "0    13330 Paseo Del Verano Norte San Diego, CA 92128  DknnpiG1p4OoM1maFshzXA   \n",
       "1             517 4th Ave Ste 101 San Diego, CA 92101  Cn2_bpTngghYW1ej4zreZg   \n",
       "2              2419 El Cajon Blvd San Diego, CA 92104  Cc1sQWRWgGyMCjzX2mmMQQ   \n",
       "3                 805 W Harbor Dr San Diego, CA 92101  gMW1RvyLu90RSQAY9UrIHw   \n",
       "4        15404 Highland Valley Rd Escondido, CA 92025  WqVbxY77Ag96X90LultCUw   \n",
       "..                                                ...                     ...   \n",
       "398                    1625 Trancas St NAPA, CA 94558  NKCMqIlRopcSMA15JpeyJg   \n",
       "399                   21481 8th St E Sonoma, CA 95476  pW9QPUkm2_tTXLCzyQ6qvg   \n",
       "400                                    Napa, CA 94558  UwgQWRkTzlFnw3-QYCaBlQ   \n",
       "401                19626 Eighth St E Sonoma, CA 95476  LxMkyxBokxu6iRIsuMF5Tw   \n",
       "402             21481 8th St E Ste 1 Sonoma, CA 95476  Jt-VYmagp5ETW1v_G_Ae0g   \n",
       "\n",
       "               alias              title  rating  review_count price  \\\n",
       "0    winetastingroom  Wine Tasting Room     4.5           626    $$   \n",
       "1    winetastingroom  Wine Tasting Room     5.0           100    $$   \n",
       "2    winetastingroom  Wine Tasting Room     4.5           103    $$   \n",
       "3    winetastingroom  Wine Tasting Room     4.5           138    $$   \n",
       "4           wineries           Wineries     5.0            96    $$   \n",
       "..               ...                ...     ...           ...   ...   \n",
       "398         wineries           Wineries     3.5           311    $$   \n",
       "399         wineries           Wineries     1.0             1    $$   \n",
       "400         wineries           Wineries     1.0             1    $$   \n",
       "401         wineries           Wineries     1.0             1    $$   \n",
       "402         wineries           Wineries     1.0             2    $$   \n",
       "\n",
       "      latitude   longitude  price_converted         City  \n",
       "0    33.032800 -117.046460                2    San Diego  \n",
       "1    32.710751 -117.160918                2    San Diego  \n",
       "2    32.754880 -117.138280                2    San Diego  \n",
       "3    32.708732 -117.168195                2    San Diego  \n",
       "4    33.068170 -117.001600                2    San Diego  \n",
       "..         ...         ...              ...          ...  \n",
       "398  38.321516 -122.304108                2  Napa Valley  \n",
       "399  38.262062 -122.442036                2  Napa Valley  \n",
       "400  38.383260 -122.313060                2  Napa Valley  \n",
       "401  38.286261 -122.434893                2  Napa Valley  \n",
       "402  38.262480 -122.442070                2  Napa Valley  \n",
       "\n",
       "[485 rows x 12 columns]"
      ]
     },
     "execution_count": 25,
     "metadata": {},
     "output_type": "execute_result"
    }
   ],
   "source": [
    "combined = pd.concat([df_sd_details, df_nv_details], ignore_index = 0)\n",
    "combined"
   ]
  },
  {
   "cell_type": "code",
   "execution_count": 26,
   "metadata": {
    "ExecuteTime": {
     "end_time": "2021-05-16T14:51:17.843603Z",
     "start_time": "2021-05-16T14:51:17.815581Z"
    },
    "hidden": true
   },
   "outputs": [
    {
     "data": {
      "text/html": [
       "<div>\n",
       "<style scoped>\n",
       "    .dataframe tbody tr th:only-of-type {\n",
       "        vertical-align: middle;\n",
       "    }\n",
       "\n",
       "    .dataframe tbody tr th {\n",
       "        vertical-align: top;\n",
       "    }\n",
       "\n",
       "    .dataframe thead th {\n",
       "        text-align: right;\n",
       "    }\n",
       "</style>\n",
       "<table border=\"1\" class=\"dataframe\">\n",
       "  <thead>\n",
       "    <tr style=\"text-align: right;\">\n",
       "      <th></th>\n",
       "      <th>name</th>\n",
       "      <th>location</th>\n",
       "      <th>Business ID</th>\n",
       "      <th>alias</th>\n",
       "      <th>title</th>\n",
       "      <th>rating</th>\n",
       "      <th>review_count</th>\n",
       "      <th>price</th>\n",
       "      <th>latitude</th>\n",
       "      <th>longitude</th>\n",
       "      <th>price_converted</th>\n",
       "      <th>City</th>\n",
       "    </tr>\n",
       "  </thead>\n",
       "  <tbody>\n",
       "    <tr>\n",
       "      <th>0</th>\n",
       "      <td>Bernardo Winery</td>\n",
       "      <td>13330 Paseo Del Verano Norte San Diego, CA 92128</td>\n",
       "      <td>DknnpiG1p4OoM1maFshzXA</td>\n",
       "      <td>winetastingroom</td>\n",
       "      <td>Wine Tasting Room</td>\n",
       "      <td>4.5</td>\n",
       "      <td>626</td>\n",
       "      <td>$$</td>\n",
       "      <td>33.032800</td>\n",
       "      <td>-117.046460</td>\n",
       "      <td>2</td>\n",
       "      <td>San Diego</td>\n",
       "    </tr>\n",
       "    <tr>\n",
       "      <th>1</th>\n",
       "      <td>Callaway Vineyard &amp; Winery</td>\n",
       "      <td>517 4th Ave Ste 101 San Diego, CA 92101</td>\n",
       "      <td>Cn2_bpTngghYW1ej4zreZg</td>\n",
       "      <td>winetastingroom</td>\n",
       "      <td>Wine Tasting Room</td>\n",
       "      <td>5.0</td>\n",
       "      <td>100</td>\n",
       "      <td>$$</td>\n",
       "      <td>32.710751</td>\n",
       "      <td>-117.160918</td>\n",
       "      <td>2</td>\n",
       "      <td>San Diego</td>\n",
       "    </tr>\n",
       "    <tr>\n",
       "      <th>2</th>\n",
       "      <td>Négociant Winery</td>\n",
       "      <td>2419 El Cajon Blvd San Diego, CA 92104</td>\n",
       "      <td>Cc1sQWRWgGyMCjzX2mmMQQ</td>\n",
       "      <td>winetastingroom</td>\n",
       "      <td>Wine Tasting Room</td>\n",
       "      <td>4.5</td>\n",
       "      <td>103</td>\n",
       "      <td>$$</td>\n",
       "      <td>32.754880</td>\n",
       "      <td>-117.138280</td>\n",
       "      <td>2</td>\n",
       "      <td>San Diego</td>\n",
       "    </tr>\n",
       "    <tr>\n",
       "      <th>3</th>\n",
       "      <td>San Pasqual Winery - Seaport Village</td>\n",
       "      <td>805 W Harbor Dr San Diego, CA 92101</td>\n",
       "      <td>gMW1RvyLu90RSQAY9UrIHw</td>\n",
       "      <td>winetastingroom</td>\n",
       "      <td>Wine Tasting Room</td>\n",
       "      <td>4.5</td>\n",
       "      <td>138</td>\n",
       "      <td>$$</td>\n",
       "      <td>32.708732</td>\n",
       "      <td>-117.168195</td>\n",
       "      <td>2</td>\n",
       "      <td>San Diego</td>\n",
       "    </tr>\n",
       "    <tr>\n",
       "      <th>4</th>\n",
       "      <td>Domaine Artefact Vineyard &amp; Winery</td>\n",
       "      <td>15404 Highland Valley Rd Escondido, CA 92025</td>\n",
       "      <td>WqVbxY77Ag96X90LultCUw</td>\n",
       "      <td>wineries</td>\n",
       "      <td>Wineries</td>\n",
       "      <td>5.0</td>\n",
       "      <td>96</td>\n",
       "      <td>$$</td>\n",
       "      <td>33.068170</td>\n",
       "      <td>-117.001600</td>\n",
       "      <td>2</td>\n",
       "      <td>San Diego</td>\n",
       "    </tr>\n",
       "  </tbody>\n",
       "</table>\n",
       "</div>"
      ],
      "text/plain": [
       "                                   name  \\\n",
       "0                       Bernardo Winery   \n",
       "1            Callaway Vineyard & Winery   \n",
       "2                      Négociant Winery   \n",
       "3  San Pasqual Winery - Seaport Village   \n",
       "4    Domaine Artefact Vineyard & Winery   \n",
       "\n",
       "                                           location             Business ID  \\\n",
       "0  13330 Paseo Del Verano Norte San Diego, CA 92128  DknnpiG1p4OoM1maFshzXA   \n",
       "1           517 4th Ave Ste 101 San Diego, CA 92101  Cn2_bpTngghYW1ej4zreZg   \n",
       "2            2419 El Cajon Blvd San Diego, CA 92104  Cc1sQWRWgGyMCjzX2mmMQQ   \n",
       "3               805 W Harbor Dr San Diego, CA 92101  gMW1RvyLu90RSQAY9UrIHw   \n",
       "4      15404 Highland Valley Rd Escondido, CA 92025  WqVbxY77Ag96X90LultCUw   \n",
       "\n",
       "             alias              title  rating  review_count price   latitude  \\\n",
       "0  winetastingroom  Wine Tasting Room     4.5           626    $$  33.032800   \n",
       "1  winetastingroom  Wine Tasting Room     5.0           100    $$  32.710751   \n",
       "2  winetastingroom  Wine Tasting Room     4.5           103    $$  32.754880   \n",
       "3  winetastingroom  Wine Tasting Room     4.5           138    $$  32.708732   \n",
       "4         wineries           Wineries     5.0            96    $$  33.068170   \n",
       "\n",
       "    longitude  price_converted       City  \n",
       "0 -117.046460                2  San Diego  \n",
       "1 -117.160918                2  San Diego  \n",
       "2 -117.138280                2  San Diego  \n",
       "3 -117.168195                2  San Diego  \n",
       "4 -117.001600                2  San Diego  "
      ]
     },
     "execution_count": 26,
     "metadata": {},
     "output_type": "execute_result"
    }
   ],
   "source": [
    "combined.head()"
   ]
  },
  {
   "cell_type": "code",
   "execution_count": 27,
   "metadata": {
    "ExecuteTime": {
     "end_time": "2021-05-16T14:51:17.874577Z",
     "start_time": "2021-05-16T14:51:17.846578Z"
    },
    "hidden": true
   },
   "outputs": [
    {
     "data": {
      "text/html": [
       "<div>\n",
       "<style scoped>\n",
       "    .dataframe tbody tr th:only-of-type {\n",
       "        vertical-align: middle;\n",
       "    }\n",
       "\n",
       "    .dataframe tbody tr th {\n",
       "        vertical-align: top;\n",
       "    }\n",
       "\n",
       "    .dataframe thead th {\n",
       "        text-align: right;\n",
       "    }\n",
       "</style>\n",
       "<table border=\"1\" class=\"dataframe\">\n",
       "  <thead>\n",
       "    <tr style=\"text-align: right;\">\n",
       "      <th></th>\n",
       "      <th>rating</th>\n",
       "      <th>review_count</th>\n",
       "      <th>latitude</th>\n",
       "      <th>longitude</th>\n",
       "      <th>price_converted</th>\n",
       "    </tr>\n",
       "  </thead>\n",
       "  <tbody>\n",
       "    <tr>\n",
       "      <th>count</th>\n",
       "      <td>485.000000</td>\n",
       "      <td>485.000000</td>\n",
       "      <td>485.000000</td>\n",
       "      <td>485.000000</td>\n",
       "      <td>485.000000</td>\n",
       "    </tr>\n",
       "    <tr>\n",
       "      <th>mean</th>\n",
       "      <td>4.553608</td>\n",
       "      <td>81.647423</td>\n",
       "      <td>37.415949</td>\n",
       "      <td>-121.434665</td>\n",
       "      <td>2.179381</td>\n",
       "    </tr>\n",
       "    <tr>\n",
       "      <th>std</th>\n",
       "      <td>0.679703</td>\n",
       "      <td>183.248447</td>\n",
       "      <td>2.029642</td>\n",
       "      <td>1.998159</td>\n",
       "      <td>0.492493</td>\n",
       "    </tr>\n",
       "    <tr>\n",
       "      <th>min</th>\n",
       "      <td>1.000000</td>\n",
       "      <td>1.000000</td>\n",
       "      <td>32.512608</td>\n",
       "      <td>-122.494690</td>\n",
       "      <td>1.000000</td>\n",
       "    </tr>\n",
       "    <tr>\n",
       "      <th>25%</th>\n",
       "      <td>4.500000</td>\n",
       "      <td>4.000000</td>\n",
       "      <td>38.247393</td>\n",
       "      <td>-122.371093</td>\n",
       "      <td>2.000000</td>\n",
       "    </tr>\n",
       "    <tr>\n",
       "      <th>50%</th>\n",
       "      <td>4.500000</td>\n",
       "      <td>15.000000</td>\n",
       "      <td>38.297370</td>\n",
       "      <td>-122.295921</td>\n",
       "      <td>2.000000</td>\n",
       "    </tr>\n",
       "    <tr>\n",
       "      <th>75%</th>\n",
       "      <td>5.000000</td>\n",
       "      <td>79.000000</td>\n",
       "      <td>38.363850</td>\n",
       "      <td>-122.253380</td>\n",
       "      <td>2.000000</td>\n",
       "    </tr>\n",
       "    <tr>\n",
       "      <th>max</th>\n",
       "      <td>5.000000</td>\n",
       "      <td>2239.000000</td>\n",
       "      <td>38.465419</td>\n",
       "      <td>-116.750704</td>\n",
       "      <td>4.000000</td>\n",
       "    </tr>\n",
       "  </tbody>\n",
       "</table>\n",
       "</div>"
      ],
      "text/plain": [
       "           rating  review_count    latitude   longitude  price_converted\n",
       "count  485.000000    485.000000  485.000000  485.000000       485.000000\n",
       "mean     4.553608     81.647423   37.415949 -121.434665         2.179381\n",
       "std      0.679703    183.248447    2.029642    1.998159         0.492493\n",
       "min      1.000000      1.000000   32.512608 -122.494690         1.000000\n",
       "25%      4.500000      4.000000   38.247393 -122.371093         2.000000\n",
       "50%      4.500000     15.000000   38.297370 -122.295921         2.000000\n",
       "75%      5.000000     79.000000   38.363850 -122.253380         2.000000\n",
       "max      5.000000   2239.000000   38.465419 -116.750704         4.000000"
      ]
     },
     "execution_count": 27,
     "metadata": {},
     "output_type": "execute_result"
    }
   ],
   "source": [
    "combined.describe()"
   ]
  },
  {
   "cell_type": "code",
   "execution_count": 28,
   "metadata": {
    "ExecuteTime": {
     "end_time": "2021-05-16T14:51:17.921578Z",
     "start_time": "2021-05-16T14:51:17.876578Z"
    },
    "hidden": true
   },
   "outputs": [
    {
     "data": {
      "text/html": [
       "<div>\n",
       "<style scoped>\n",
       "    .dataframe tbody tr th:only-of-type {\n",
       "        vertical-align: middle;\n",
       "    }\n",
       "\n",
       "    .dataframe tbody tr th {\n",
       "        vertical-align: top;\n",
       "    }\n",
       "\n",
       "    .dataframe thead th {\n",
       "        text-align: right;\n",
       "    }\n",
       "</style>\n",
       "<table border=\"1\" class=\"dataframe\">\n",
       "  <thead>\n",
       "    <tr style=\"text-align: right;\">\n",
       "      <th></th>\n",
       "      <th>count</th>\n",
       "      <th>mean</th>\n",
       "      <th>min</th>\n",
       "      <th>median</th>\n",
       "      <th>max</th>\n",
       "    </tr>\n",
       "    <tr>\n",
       "      <th>City</th>\n",
       "      <th></th>\n",
       "      <th></th>\n",
       "      <th></th>\n",
       "      <th></th>\n",
       "      <th></th>\n",
       "    </tr>\n",
       "  </thead>\n",
       "  <tbody>\n",
       "    <tr>\n",
       "      <th>Napa Valley</th>\n",
       "      <td>403</td>\n",
       "      <td>2.220844</td>\n",
       "      <td>1</td>\n",
       "      <td>2</td>\n",
       "      <td>4</td>\n",
       "    </tr>\n",
       "    <tr>\n",
       "      <th>San Diego</th>\n",
       "      <td>82</td>\n",
       "      <td>1.975610</td>\n",
       "      <td>1</td>\n",
       "      <td>2</td>\n",
       "      <td>3</td>\n",
       "    </tr>\n",
       "  </tbody>\n",
       "</table>\n",
       "</div>"
      ],
      "text/plain": [
       "             count      mean  min  median  max\n",
       "City                                          \n",
       "Napa Valley    403  2.220844    1       2    4\n",
       "San Diego       82  1.975610    1       2    3"
      ]
     },
     "execution_count": 28,
     "metadata": {},
     "output_type": "execute_result"
    }
   ],
   "source": [
    "combined.groupby('City').agg(['count', 'mean', min, 'median', max])['price_converted']"
   ]
  },
  {
   "cell_type": "code",
   "execution_count": 29,
   "metadata": {
    "ExecuteTime": {
     "end_time": "2021-05-16T14:51:18.111610Z",
     "start_time": "2021-05-16T14:51:17.923580Z"
    },
    "hidden": true
   },
   "outputs": [
    {
     "data": {
      "image/png": "[encoded data removed]",
      "text/plain": [
       "<Figure size 432x288 with 1 Axes>"
      ]
     },
     "metadata": {
      "needs_background": "light"
     },
     "output_type": "display_data"
    }
   ],
   "source": [
    "sns.countplot(data=combined, hue='City', x='price_converted' );"
   ]
  },
  {
   "cell_type": "code",
   "execution_count": 30,
   "metadata": {
    "ExecuteTime": {
     "end_time": "2021-05-16T14:51:18.367611Z",
     "start_time": "2021-05-16T14:51:18.113581Z"
    },
    "hidden": true
   },
   "outputs": [
    {
     "data": {
      "image/png": "[encoded data removed]",
      "text/plain": [
       "<Figure size 432x288 with 1 Axes>"
      ]
     },
     "metadata": {
      "needs_background": "light"
     },
     "output_type": "display_data"
    }
   ],
   "source": [
    "sns.countplot(data=combined, hue='City', x='rating' );"
   ]
  },
  {
   "cell_type": "code",
   "execution_count": 31,
   "metadata": {
    "ExecuteTime": {
     "end_time": "2021-05-16T14:51:18.663608Z",
     "start_time": "2021-05-16T14:51:18.369578Z"
    },
    "code_folding": [
     0
    ],
    "hidden": true
   },
   "outputs": [
    {
     "data": {
      "image/png": "[encoded data removed]",
      "text/plain": [
       "<Figure size 432x288 with 1 Axes>"
      ]
     },
     "metadata": {
      "needs_background": "light"
     },
     "output_type": "display_data"
    }
   ],
   "source": [
    "# Making a grouped bar chart for each city normalizing the ratings\n",
    "norm_rating = combined.groupby('City')['rating'].value_counts(normalize=True).to_frame()\n",
    "norm_rating.unstack(0).plot(kind='bar')\n",
    "legend = plt.legend()\n",
    "legend.get_texts()[0].set_text('Napa Valley')\n",
    "legend.get_texts()[1].set_text('San Diego')\n",
    "plt.xticks(rotation = 0)\n",
    "plt.xlabel('Rating')\n",
    "plt.ylabel('Reviews (%)')\n",
    "plt.title('Ratings per Region');"
   ]
  },
  {
   "cell_type": "code",
   "execution_count": 32,
   "metadata": {
    "ExecuteTime": {
     "end_time": "2021-05-16T14:51:18.679580Z",
     "start_time": "2021-05-16T14:51:18.665578Z"
    },
    "code_folding": [
     0
    ],
    "hidden": true
   },
   "outputs": [],
   "source": [
    "# Exploring how to normalize values, then change the structure of a dataframe\n",
    "# normalized_rating = combined.groupby('City')['rating'].value_counts(normalize=True).to_frame().unstack(0, fill_value=0)\n",
    "# normalized_rating"
   ]
  },
  {
   "cell_type": "code",
   "execution_count": 33,
   "metadata": {
    "ExecuteTime": {
     "end_time": "2021-05-16T14:51:18.868712Z",
     "start_time": "2021-05-16T14:51:18.681594Z"
    },
    "code_folding": [
     0
    ],
    "hidden": true
   },
   "outputs": [
    {
     "data": {
      "image/png": "[encoded data removed]",
      "text/plain": [
       "<Figure size 432x288 with 1 Axes>"
      ]
     },
     "metadata": {
      "needs_background": "light"
     },
     "output_type": "display_data"
    }
   ],
   "source": [
    "# Making a grouped bar chart for each city normalizing the ratings\n",
    "norm_pricing = combined.groupby('City')['price_converted'].value_counts(normalize=True).to_frame().unstack(0, fill_value=0)\n",
    "norm_pricing.plot(kind='bar')\n",
    "legend = plt.legend()\n",
    "legend.get_texts()[0].set_text('Napa Valley')\n",
    "legend.get_texts()[1].set_text('San Diego')\n",
    "plt.xlabel('Price ($)')\n",
    "plt.xticks(rotation = 0)\n",
    "plt.ylabel('Normalized Count')\n",
    "plt.title('Menu Pricing per Region');"
   ]
  },
  {
   "cell_type": "code",
   "execution_count": 34,
   "metadata": {
    "ExecuteTime": {
     "end_time": "2021-05-16T14:51:18.884611Z",
     "start_time": "2021-05-16T14:51:18.871580Z"
    },
    "code_folding": [
     0
    ],
    "hidden": true
   },
   "outputs": [],
   "source": [
    "# # Comparing Review Counts between regions\n",
    "# norm_r_c = combined.groupby('City')['review_count'].value_counts(normalize=True).to_frame().unstack(0, fill_value=0)\n",
    "# norm_r_c.plot(kind='bar')\n",
    "# legend = plt.legend()\n",
    "# legend.get_texts()[0].set_text('Napa Valley')\n",
    "# legend.get_texts()[1].set_text('San Diego')\n",
    "# plt.xlabel('Number of Reviews')\n",
    "# plt.xticks(rotation = 0)\n",
    "# plt.ylabel('Normalized Count')\n",
    "# plt.title('Review Counts per Region');"
   ]
  },
  {
   "cell_type": "code",
   "execution_count": 35,
   "metadata": {
    "ExecuteTime": {
     "end_time": "2021-05-16T14:51:19.059627Z",
     "start_time": "2021-05-16T14:51:18.886589Z"
    },
    "hidden": true
   },
   "outputs": [
    {
     "data": {
      "image/png": "[encoded data removed]",
      "text/plain": [
       "<Figure size 432x288 with 1 Axes>"
      ]
     },
     "metadata": {
      "needs_background": "light"
     },
     "output_type": "display_data"
    }
   ],
   "source": [
    "combined_sd = combined[combined.loc[:,'City'] == 'San Diego']\n",
    "combined_sd.hist(column = 'review_count');"
   ]
  },
  {
   "cell_type": "code",
   "execution_count": 36,
   "metadata": {
    "ExecuteTime": {
     "end_time": "2021-05-16T14:51:19.233577Z",
     "start_time": "2021-05-16T14:51:19.062615Z"
    },
    "hidden": true
   },
   "outputs": [
    {
     "data": {
      "image/png": "[encoded data removed]",
      "text/plain": [
       "<Figure size 432x288 with 1 Axes>"
      ]
     },
     "metadata": {
      "needs_background": "light"
     },
     "output_type": "display_data"
    }
   ],
   "source": [
    "combined_sd = combined[combined.loc[:,'City'] == 'Napa Valley']\n",
    "combined_sd.hist(column = 'review_count');"
   ]
  },
  {
   "cell_type": "code",
   "execution_count": 37,
   "metadata": {
    "ExecuteTime": {
     "end_time": "2021-05-16T14:51:19.374605Z",
     "start_time": "2021-05-16T14:51:19.235579Z"
    },
    "hidden": true
   },
   "outputs": [
    {
     "data": {
      "image/png": "[encoded data removed]",
      "text/plain": [
       "<Figure size 432x288 with 1 Axes>"
      ]
     },
     "metadata": {
      "needs_background": "light"
     },
     "output_type": "display_data"
    }
   ],
   "source": [
    "# Determining # businesses for NV vs. SD\n",
    "\n",
    "sns.countplot(x=combined['City']);"
   ]
  },
  {
   "cell_type": "code",
   "execution_count": 38,
   "metadata": {
    "ExecuteTime": {
     "end_time": "2021-05-16T14:51:19.389602Z",
     "start_time": "2021-05-16T14:51:19.376579Z"
    },
    "code_folding": [
     0
    ],
    "hidden": true,
    "scrolled": true
   },
   "outputs": [],
   "source": [
    "# rc_norm = combined.groupby('City')['review_count'].value_counts(normalize=True)\n",
    "# rc_norm = rc_norm.to_frame().unstack(0, fill_value=0).reset_index(drop=True)\n",
    "# rc_norm"
   ]
  },
  {
   "cell_type": "code",
   "execution_count": 39,
   "metadata": {
    "ExecuteTime": {
     "end_time": "2021-05-16T14:51:19.530578Z",
     "start_time": "2021-05-16T14:51:19.391577Z"
    },
    "hidden": true
   },
   "outputs": [
    {
     "data": {
      "image/png": "[encoded data removed]",
      "text/plain": [
       "<Figure size 432x288 with 1 Axes>"
      ]
     },
     "metadata": {
      "needs_background": "light"
     },
     "output_type": "display_data"
    }
   ],
   "source": [
    "combined_sd = combined[combined.loc[:,'City'] == 'Napa Valley']\n",
    "combined_sd['review_count'].hist(grid=False);"
   ]
  },
  {
   "cell_type": "markdown",
   "metadata": {
    "heading_collapsed": true
   },
   "source": [
    "# Finished Vis"
   ]
  },
  {
   "cell_type": "code",
   "execution_count": 40,
   "metadata": {
    "ExecuteTime": {
     "end_time": "2021-05-16T14:51:19.731611Z",
     "start_time": "2021-05-16T14:51:19.532607Z"
    },
    "code_folding": [],
    "hidden": true
   },
   "outputs": [
    {
     "data": {
      "image/png": "[encoded data removed]",
      "text/plain": [
       "<Figure size 432x288 with 1 Axes>"
      ]
     },
     "metadata": {
      "needs_background": "light"
     },
     "output_type": "display_data"
    }
   ],
   "source": [
    "# Comparing 'price' values between regions\n",
    "norm_pricing = combined.groupby('City')['price_converted'].value_counts(normalize=True).to_frame().unstack(0, fill_value=0)\n",
    "norm_pricing.plot(kind='bar')\n",
    "legend = plt.legend()\n",
    "legend.get_texts()[0].set_text('Napa Valley')\n",
    "legend.get_texts()[1].set_text('San Diego')\n",
    "plt.xlabel('Price ($)')\n",
    "plt.xticks(rotation = 0)\n",
    "plt.ylabel('Normalized Count')\n",
    "plt.title('Business Pricing per Region');\n",
    "\n",
    "# plt.savefig('Business_Pricing_per_Region.png')"
   ]
  },
  {
   "cell_type": "code",
   "execution_count": 41,
   "metadata": {
    "ExecuteTime": {
     "end_time": "2021-05-16T14:51:19.953615Z",
     "start_time": "2021-05-16T14:51:19.733578Z"
    },
    "code_folding": [],
    "hidden": true
   },
   "outputs": [
    {
     "data": {
      "image/png": "[encoded data removed]",
      "text/plain": [
       "<Figure size 432x288 with 1 Axes>"
      ]
     },
     "metadata": {
      "needs_background": "light"
     },
     "output_type": "display_data"
    }
   ],
   "source": [
    "# Making a grouped bar chart for each city normalizing the ratings\n",
    "norm_rating = combined.groupby('City')['rating'].value_counts(normalize=True).to_frame().unstack(0).plot(kind='bar')\n",
    "legend = plt.legend()\n",
    "legend.get_texts()[0].set_text('Napa Valley')\n",
    "legend.get_texts()[1].set_text('San Diego')\n",
    "plt.xticks(rotation = 0)\n",
    "plt.xlabel('Rating')\n",
    "plt.ylabel('Reviews (%)')\n",
    "plt.title('Ratings per Region');\n",
    "\n",
    "# plt.savefig('Ratings_per_Region.png')"
   ]
  },
  {
   "cell_type": "code",
   "execution_count": 44,
   "metadata": {
    "ExecuteTime": {
     "end_time": "2021-05-16T14:52:56.082985Z",
     "start_time": "2021-05-16T14:52:50.007194Z"
    },
    "hidden": true,
    "scrolled": false
   },
   "outputs": [
    {
     "data": {
      "image/png": "[encoded data removed]",
      "text/plain": [
       "<Figure size 432x288 with 1 Axes>"
      ]
     },
     "metadata": {},
     "output_type": "display_data"
    },
    {
     "data": {
      "image/png": "[encoded data removed]",
      "text/plain": [
       "<Figure size 432x288 with 1 Axes>"
      ]
     },
     "metadata": {
      "needs_background": "light"
     },
     "output_type": "display_data"
    },
    {
     "data": {
      "image/png": "[encoded data removed]",
      "text/plain": [
       "<Figure size 432x288 with 1 Axes>"
      ]
     },
     "metadata": {
      "needs_background": "light"
     },
     "output_type": "display_data"
    },
    {
     "data": {
      "image/png": "[encoded data removed]",
      "text/plain": [
       "<Figure size 640x480 with 1 Axes>"
      ]
     },
     "metadata": {},
     "output_type": "display_data"
    },
    {
     "data": {
      "image/png": "[encoded data removed]",
      "text/plain": [
       "<Figure size 432x288 with 1 Axes>"
      ]
     },
     "metadata": {},
     "output_type": "display_data"
    },
    {
     "data": {
      "image/png": "[encoded data removed]",
      "text/plain": [
       "<Figure size 432x288 with 1 Axes>"
      ]
     },
     "metadata": {
      "needs_background": "light"
     },
     "output_type": "display_data"
    },
    {
     "data": {
      "image/png": "[encoded data removed]",
      "text/plain": [
       "<Figure size 432x288 with 1 Axes>"
      ]
     },
     "metadata": {},
     "output_type": "display_data"
    },
    {
     "data": {
      "image/png": "[encoded data removed]",
      "text/plain": [
       "<Figure size 432x288 with 1 Axes>"
      ]
     },
     "metadata": {},
     "output_type": "display_data"
    },
    {
     "data": {
      "image/png": "[encoded data removed]",
      "text/plain": [
       "<Figure size 432x288 with 1 Axes>"
      ]
     },
     "metadata": {},
     "output_type": "display_data"
    },
    {
     "data": {
      "image/png": "[encoded data removed]",
      "text/plain": [
       "<Figure size 576x396 with 1 Axes>"
      ]
     },
     "metadata": {},
     "output_type": "display_data"
    },
    {
     "data": {
      "image/png": "[encoded data removed]",
      "text/plain": [
       "<Figure size 432x288 with 1 Axes>"
      ]
     },
     "metadata": {
      "needs_background": "light"
     },
     "output_type": "display_data"
    },
    {
     "data": {
      "image/png": "[encoded data removed]",
      "text/plain": [
       "<Figure size 432x288 with 1 Axes>"
      ]
     },
     "metadata": {
      "needs_background": "light"
     },
     "output_type": "display_data"
    },
    {
     "data": {
      "image/png": "[encoded data removed]",
      "text/plain": [
       "<Figure size 432x288 with 1 Axes>"
      ]
     },
     "metadata": {},
     "output_type": "display_data"
    },
    {
     "data": {
      "image/png": "[encoded data removed]",
      "text/plain": [
       "<Figure size 432x288 with 1 Axes>"
      ]
     },
     "metadata": {
      "needs_background": "light"
     },
     "output_type": "display_data"
    },
    {
     "data": {
      "image/png": "[encoded data removed]",
      "text/plain": [
       "<Figure size 432x288 with 1 Axes>"
      ]
     },
     "metadata": {},
     "output_type": "display_data"
    },
    {
     "data": {
      "image/png": "[encoded data removed]",
      "text/plain": [
       "<Figure size 432x288 with 1 Axes>"
      ]
     },
     "metadata": {
      "needs_background": "light"
     },
     "output_type": "display_data"
    },
    {
     "data": {
      "image/png": "[encoded data removed]",
      "text/plain": [
       "<Figure size 432x288 with 1 Axes>"
      ]
     },
     "metadata": {
      "needs_background": "light"
     },
     "output_type": "display_data"
    },
    {
     "data": {
      "image/png": "[encoded data removed]",
      "text/plain": [
       "<Figure size 576x396 with 1 Axes>"
      ]
     },
     "metadata": {
      "needs_background": "light"
     },
     "output_type": "display_data"
    },
    {
     "data": {
      "image/png": "[encoded data removed]",
      "text/plain": [
       "<Figure size 460.8x316.8 with 1 Axes>"
      ]
     },
     "metadata": {
      "needs_background": "light"
     },
     "output_type": "display_data"
    },
    {
     "data": {
      "image/png": "[encoded data removed]",
      "text/plain": [
       "<Figure size 432x288 with 1 Axes>"
      ]
     },
     "metadata": {
      "needs_background": "light"
     },
     "output_type": "display_data"
    },
    {
     "data": {
      "image/png": "[encoded data removed]",
      "text/plain": [
       "<Figure size 921.6x633.6 with 1 Axes>"
      ]
     },
     "metadata": {
      "needs_background": "light"
     },
     "output_type": "display_data"
    },
    {
     "data": {
      "image/png": "[encoded data removed]",
      "text/plain": [
       "<Figure size 748.8x514.8 with 1 Axes>"
      ]
     },
     "metadata": {
      "needs_background": "light"
     },
     "output_type": "display_data"
    },
    {
     "data": {
      "image/png": "[encoded data removed]",
      "text/plain": [
       "<Figure size 432x288 with 1 Axes>"
      ]
     },
     "metadata": {},
     "output_type": "display_data"
    },
    {
     "data": {
      "image/png": "[encoded data removed]",
      "text/plain": [
       "<Figure size 432x288 with 1 Axes>"
      ]
     },
     "metadata": {},
     "output_type": "display_data"
    },
    {
     "data": {
      "image/png": "[encoded data removed]",
      "text/plain": [
       "<Figure size 432x288 with 1 Axes>"
      ]
     },
     "metadata": {},
     "output_type": "display_data"
    },
    {
     "data": {
      "image/png": "[encoded data removed]",
      "text/plain": [
       "<Figure size 432x288 with 1 Axes>"
      ]
     },
     "metadata": {
      "needs_background": "light"
     },
     "output_type": "display_data"
    }
   ],
   "source": [
    "for style in plt.style.available:\n",
    "    with plt.style.context(style):\n",
    "        \n",
    "        # Making a grouped bar chart for each city normalizing the ratings\n",
    "        norm_rating = combined.groupby('City')['rating'].value_counts(normalize=True).to_frame().unstack(0).plot(kind='bar')\n",
    "        legend = plt.legend()\n",
    "        legend.get_texts()[0].set_text('Napa Valley')\n",
    "        legend.get_texts()[1].set_text('San Diego')\n",
    "        plt.xticks(rotation = 0)\n",
    "        plt.xlabel('Rating')\n",
    "        plt.ylabel('Reviews (%)')\n",
    "        plt.title(style)\n",
    "        plt.show();\n",
    "\n",
    "        # plt.savefig('Ratings_per_Region.png')"
   ]
  },
  {
   "cell_type": "code",
   "execution_count": 48,
   "metadata": {
    "ExecuteTime": {
     "end_time": "2021-05-16T14:57:08.313508Z",
     "start_time": "2021-05-16T14:57:08.072482Z"
    },
    "hidden": true
   },
   "outputs": [
    {
     "data": {
      "image/png": "[encoded data removed]",
      "text/plain": [
       "<Figure size 748.8x514.8 with 1 Axes>"
      ]
     },
     "metadata": {},
     "output_type": "display_data"
    }
   ],
   "source": [
    "# Combining SNS styles - merge settings of first with second\n",
    "with plt.style.context(['seaborn-talk', 'seaborn-darkgrid']):\n",
    "\n",
    "    # Making a grouped bar chart for each city normalizing the ratings\n",
    "    norm_rating = combined.groupby('City')['rating'].value_counts(normalize=True).to_frame().unstack(0).plot(kind='bar')\n",
    "    legend = plt.legend()\n",
    "    legend.get_texts()[0].set_text('Napa Valley')\n",
    "    legend.get_texts()[1].set_text('San Diego')\n",
    "    plt.xticks(rotation = 0)\n",
    "    plt.xlabel('Rating')\n",
    "    plt.ylabel('Reviews (%)')\n",
    "    plt.title(style)\n",
    "    plt.show();\n",
    "\n",
    "    # plt.savefig('Ratings_per_Region.png')"
   ]
  },
  {
   "cell_type": "code",
   "execution_count": 49,
   "metadata": {
    "ExecuteTime": {
     "end_time": "2021-05-16T14:57:08.609482Z",
     "start_time": "2021-05-16T14:57:08.457484Z"
    },
    "code_folding": [],
    "hidden": true,
    "scrolled": false
   },
   "outputs": [
    {
     "data": {
      "image/png": "[encoded data removed]",
      "text/plain": [
       "<Figure size 432x288 with 1 Axes>"
      ]
     },
     "metadata": {
      "needs_background": "light"
     },
     "output_type": "display_data"
    }
   ],
   "source": [
    "# Show count of businesses per city\n",
    "\n",
    "sns.countplot(x=combined['City'])\n",
    "plt.xlabel('Region')\n",
    "plt.ylabel('Total')\n",
    "plt.title('Number of Wineries per Region');\n",
    "\n",
    "# plt.savefig('Number_of_Wineries_per_Region.png')"
   ]
  },
  {
   "cell_type": "code",
   "execution_count": 53,
   "metadata": {
    "ExecuteTime": {
     "end_time": "2021-05-15T20:57:04.655182Z",
     "start_time": "2021-05-15T20:57:04.610490Z"
    },
    "hidden": true,
    "scrolled": true
   },
   "outputs": [
    {
     "data": {
      "text/html": [
       "<div>\n",
       "<style scoped>\n",
       "    .dataframe tbody tr th:only-of-type {\n",
       "        vertical-align: middle;\n",
       "    }\n",
       "\n",
       "    .dataframe tbody tr th {\n",
       "        vertical-align: top;\n",
       "    }\n",
       "\n",
       "    .dataframe thead th {\n",
       "        text-align: right;\n",
       "    }\n",
       "</style>\n",
       "<table border=\"1\" class=\"dataframe\">\n",
       "  <thead>\n",
       "    <tr style=\"text-align: right;\">\n",
       "      <th></th>\n",
       "      <th>name</th>\n",
       "      <th>location</th>\n",
       "      <th>Business ID</th>\n",
       "      <th>alias</th>\n",
       "      <th>title</th>\n",
       "      <th>rating</th>\n",
       "      <th>review_count</th>\n",
       "      <th>price</th>\n",
       "      <th>latitude</th>\n",
       "      <th>longitude</th>\n",
       "      <th>price_converted</th>\n",
       "      <th>City</th>\n",
       "    </tr>\n",
       "  </thead>\n",
       "  <tbody>\n",
       "    <tr>\n",
       "      <th>0</th>\n",
       "      <td>Hendry Vineyard and Winery</td>\n",
       "      <td>3104 Redwood Rd Napa, CA 94558</td>\n",
       "      <td>mO8n3zTLoFhlmcfQr7X_TQ</td>\n",
       "      <td>wineries</td>\n",
       "      <td>Wineries</td>\n",
       "      <td>5.0</td>\n",
       "      <td>658</td>\n",
       "      <td>$$</td>\n",
       "      <td>38.321680</td>\n",
       "      <td>-122.344810</td>\n",
       "      <td>2</td>\n",
       "      <td>Napa Valley</td>\n",
       "    </tr>\n",
       "    <tr>\n",
       "      <th>1</th>\n",
       "      <td>Domaine Carneros</td>\n",
       "      <td>1240 Duhig Rd Napa, CA 94559</td>\n",
       "      <td>8eGTOeEQpUpYb89ISug3ag</td>\n",
       "      <td>wineries</td>\n",
       "      <td>Wineries</td>\n",
       "      <td>4.0</td>\n",
       "      <td>2239</td>\n",
       "      <td>$$</td>\n",
       "      <td>38.255534</td>\n",
       "      <td>-122.351391</td>\n",
       "      <td>2</td>\n",
       "      <td>Napa Valley</td>\n",
       "    </tr>\n",
       "    <tr>\n",
       "      <th>2</th>\n",
       "      <td>Paraduxx Winery</td>\n",
       "      <td>7257 Silverado Trl Napa, CA 94558</td>\n",
       "      <td>cBFZALrZbLV5XBsiPcgknQ</td>\n",
       "      <td>wineries</td>\n",
       "      <td>Wineries</td>\n",
       "      <td>4.5</td>\n",
       "      <td>373</td>\n",
       "      <td>$$</td>\n",
       "      <td>38.435480</td>\n",
       "      <td>-122.351430</td>\n",
       "      <td>2</td>\n",
       "      <td>Napa Valley</td>\n",
       "    </tr>\n",
       "    <tr>\n",
       "      <th>3</th>\n",
       "      <td>Jarvis Winery</td>\n",
       "      <td>2970 Monticello Rd Napa, CA 94558</td>\n",
       "      <td>NPkAqW68Og5eBofEpPiRXQ</td>\n",
       "      <td>wineries</td>\n",
       "      <td>Wineries</td>\n",
       "      <td>4.5</td>\n",
       "      <td>209</td>\n",
       "      <td>$$$</td>\n",
       "      <td>38.357010</td>\n",
       "      <td>-122.213620</td>\n",
       "      <td>3</td>\n",
       "      <td>Napa Valley</td>\n",
       "    </tr>\n",
       "    <tr>\n",
       "      <th>4</th>\n",
       "      <td>White Rock Vineyards</td>\n",
       "      <td>1112 Loma Vista Dr Napa, CA 94558</td>\n",
       "      <td>shbhrTpVLOdql8hNGC9NDw</td>\n",
       "      <td>wineries</td>\n",
       "      <td>Wineries</td>\n",
       "      <td>5.0</td>\n",
       "      <td>55</td>\n",
       "      <td>$$</td>\n",
       "      <td>38.377683</td>\n",
       "      <td>-122.286565</td>\n",
       "      <td>2</td>\n",
       "      <td>Napa Valley</td>\n",
       "    </tr>\n",
       "    <tr>\n",
       "      <th>...</th>\n",
       "      <td>...</td>\n",
       "      <td>...</td>\n",
       "      <td>...</td>\n",
       "      <td>...</td>\n",
       "      <td>...</td>\n",
       "      <td>...</td>\n",
       "      <td>...</td>\n",
       "      <td>...</td>\n",
       "      <td>...</td>\n",
       "      <td>...</td>\n",
       "      <td>...</td>\n",
       "      <td>...</td>\n",
       "    </tr>\n",
       "    <tr>\n",
       "      <th>398</th>\n",
       "      <td>Andretti Winery</td>\n",
       "      <td>1625 Trancas St NAPA, CA 94558</td>\n",
       "      <td>NKCMqIlRopcSMA15JpeyJg</td>\n",
       "      <td>wineries</td>\n",
       "      <td>Wineries</td>\n",
       "      <td>3.5</td>\n",
       "      <td>311</td>\n",
       "      <td>$$</td>\n",
       "      <td>38.321516</td>\n",
       "      <td>-122.304108</td>\n",
       "      <td>2</td>\n",
       "      <td>Napa Valley</td>\n",
       "    </tr>\n",
       "    <tr>\n",
       "      <th>399</th>\n",
       "      <td>Lionstone International</td>\n",
       "      <td>21481 8th St E Sonoma, CA 95476</td>\n",
       "      <td>pW9QPUkm2_tTXLCzyQ6qvg</td>\n",
       "      <td>wineries</td>\n",
       "      <td>Wineries</td>\n",
       "      <td>1.0</td>\n",
       "      <td>1</td>\n",
       "      <td>$$</td>\n",
       "      <td>38.262062</td>\n",
       "      <td>-122.442036</td>\n",
       "      <td>2</td>\n",
       "      <td>Napa Valley</td>\n",
       "    </tr>\n",
       "    <tr>\n",
       "      <th>400</th>\n",
       "      <td>Napa Vinyards</td>\n",
       "      <td>Napa, CA 94558</td>\n",
       "      <td>UwgQWRkTzlFnw3-QYCaBlQ</td>\n",
       "      <td>wineries</td>\n",
       "      <td>Wineries</td>\n",
       "      <td>1.0</td>\n",
       "      <td>1</td>\n",
       "      <td>$$</td>\n",
       "      <td>38.383260</td>\n",
       "      <td>-122.313060</td>\n",
       "      <td>2</td>\n",
       "      <td>Napa Valley</td>\n",
       "    </tr>\n",
       "    <tr>\n",
       "      <th>401</th>\n",
       "      <td>Cook Vinyard Management</td>\n",
       "      <td>19626 Eighth St E Sonoma, CA 95476</td>\n",
       "      <td>LxMkyxBokxu6iRIsuMF5Tw</td>\n",
       "      <td>wineries</td>\n",
       "      <td>Wineries</td>\n",
       "      <td>1.0</td>\n",
       "      <td>1</td>\n",
       "      <td>$$</td>\n",
       "      <td>38.286261</td>\n",
       "      <td>-122.434893</td>\n",
       "      <td>2</td>\n",
       "      <td>Napa Valley</td>\n",
       "    </tr>\n",
       "    <tr>\n",
       "      <th>402</th>\n",
       "      <td>Top It Off Bottling</td>\n",
       "      <td>21481 8th St E Ste 1 Sonoma, CA 95476</td>\n",
       "      <td>Jt-VYmagp5ETW1v_G_Ae0g</td>\n",
       "      <td>wineries</td>\n",
       "      <td>Wineries</td>\n",
       "      <td>1.0</td>\n",
       "      <td>2</td>\n",
       "      <td>$$</td>\n",
       "      <td>38.262480</td>\n",
       "      <td>-122.442070</td>\n",
       "      <td>2</td>\n",
       "      <td>Napa Valley</td>\n",
       "    </tr>\n",
       "  </tbody>\n",
       "</table>\n",
       "<p>403 rows × 12 columns</p>\n",
       "</div>"
      ],
      "text/plain": [
       "                           name                               location  \\\n",
       "0    Hendry Vineyard and Winery         3104 Redwood Rd Napa, CA 94558   \n",
       "1              Domaine Carneros           1240 Duhig Rd Napa, CA 94559   \n",
       "2               Paraduxx Winery      7257 Silverado Trl Napa, CA 94558   \n",
       "3                 Jarvis Winery      2970 Monticello Rd Napa, CA 94558   \n",
       "4          White Rock Vineyards      1112 Loma Vista Dr Napa, CA 94558   \n",
       "..                          ...                                    ...   \n",
       "398             Andretti Winery         1625 Trancas St NAPA, CA 94558   \n",
       "399     Lionstone International        21481 8th St E Sonoma, CA 95476   \n",
       "400               Napa Vinyards                         Napa, CA 94558   \n",
       "401     Cook Vinyard Management     19626 Eighth St E Sonoma, CA 95476   \n",
       "402         Top It Off Bottling  21481 8th St E Ste 1 Sonoma, CA 95476   \n",
       "\n",
       "                Business ID     alias     title  rating  review_count price  \\\n",
       "0    mO8n3zTLoFhlmcfQr7X_TQ  wineries  Wineries     5.0           658    $$   \n",
       "1    8eGTOeEQpUpYb89ISug3ag  wineries  Wineries     4.0          2239    $$   \n",
       "2    cBFZALrZbLV5XBsiPcgknQ  wineries  Wineries     4.5           373    $$   \n",
       "3    NPkAqW68Og5eBofEpPiRXQ  wineries  Wineries     4.5           209   $$$   \n",
       "4    shbhrTpVLOdql8hNGC9NDw  wineries  Wineries     5.0            55    $$   \n",
       "..                      ...       ...       ...     ...           ...   ...   \n",
       "398  NKCMqIlRopcSMA15JpeyJg  wineries  Wineries     3.5           311    $$   \n",
       "399  pW9QPUkm2_tTXLCzyQ6qvg  wineries  Wineries     1.0             1    $$   \n",
       "400  UwgQWRkTzlFnw3-QYCaBlQ  wineries  Wineries     1.0             1    $$   \n",
       "401  LxMkyxBokxu6iRIsuMF5Tw  wineries  Wineries     1.0             1    $$   \n",
       "402  Jt-VYmagp5ETW1v_G_Ae0g  wineries  Wineries     1.0             2    $$   \n",
       "\n",
       "      latitude   longitude  price_converted         City  \n",
       "0    38.321680 -122.344810                2  Napa Valley  \n",
       "1    38.255534 -122.351391                2  Napa Valley  \n",
       "2    38.435480 -122.351430                2  Napa Valley  \n",
       "3    38.357010 -122.213620                3  Napa Valley  \n",
       "4    38.377683 -122.286565                2  Napa Valley  \n",
       "..         ...         ...              ...          ...  \n",
       "398  38.321516 -122.304108                2  Napa Valley  \n",
       "399  38.262062 -122.442036                2  Napa Valley  \n",
       "400  38.383260 -122.313060                2  Napa Valley  \n",
       "401  38.286261 -122.434893                2  Napa Valley  \n",
       "402  38.262480 -122.442070                2  Napa Valley  \n",
       "\n",
       "[403 rows x 12 columns]"
      ]
     },
     "execution_count": 53,
     "metadata": {},
     "output_type": "execute_result"
    }
   ],
   "source": [
    "df_nv = combined[combined['City'] == 'Napa Valley']\n",
    "df_nv"
   ]
  },
  {
   "cell_type": "code",
   "execution_count": 57,
   "metadata": {
    "ExecuteTime": {
     "end_time": "2021-05-15T20:59:17.507324Z",
     "start_time": "2021-05-15T20:59:17.420900Z"
    },
    "hidden": true
   },
   "outputs": [
    {
     "data": {
      "application/vnd.plotly.v1+json": {
       "config": {
        "plotlyServerURL": "https://plot.ly"
       },
       "data": [
        {
         "hovertemplate": "<b>%{hovertext}</b><br><br>Number of Reviews =%{marker.size}<br>Latitude =%{lat}<br>Longitude =%{lon}<br>Price ($) =%{marker.color}<extra></extra>",
         "hovertext": [
          "Hendry Vineyard and Winery",
          "Domaine Carneros",
          "Paraduxx Winery",
          "Jarvis Winery",
          "White Rock Vineyards",
          "Cuvaison Estate Wines",
          "Clos du Val",
          "William Hill Estate Winery",
          "Shadybrook Estate Winery",
          "Platypus Wine Tours",
          "Ashes & Diamonds",
          "Stag's Leap Wine Cellars",
          "Hagafen Cellars",
          "Saintsbury",
          "Chimney Rock Winery",
          "Stags' Leap Winery",
          "Trefethen Family Vineyards",
          "Verve Napa Valley",
          "Trinitas Cellars",
          "Darioush Winery",
          "Truchard Vineyards",
          "Piazza Del Dotto",
          "Judd's Hill Winery",
          "Palmaz Vineyards",
          "Porter Family Vineyards",
          "Roots Run Deep Winery",
          "Monticello Vineyards - Corley Family Napa Valley",
          "Kieu Hoang Winery",
          "Cornerstone Cellars",
          "Silverado Vineyards",
          "Signorello Estate",
          "O'Brien Estate",
          "Laird Family Estate",
          "Kenzo Estate",
          "Silenus Winery",
          "Napa Sonoma Wine Tasting Driver ®",
          "Etude Wines",
          "Eleven Eleven Winery",
          "JaM Cellars",
          "Reynolds Family Winery",
          "Goosecross Cellars",
          "Caldwell Vineyard",
          "Trahan Winery",
          "Encanto Vineyards",
          "Fontanella Family Winery",
          "Elyse Winery",
          "Robert Mondavi Winery",
          "Pine Ridge Vineyards",
          "WineINN & DineINN",
          "Chandon",
          "Odette Estate",
          "Mi Sueno Winery",
          "Hyde Estate Winery",
          "Robert Sinskey Vineyards",
          "Scribe Winery",
          "AvinoDos Wines",
          "Yao Family Wines",
          "Ceja Vineyards",
          "Baldacci Family Vineyards",
          "Cakebread Cellars",
          "McKenzie-Mueller Vineyards and Winery",
          "James Cole Winery",
          "Tulocay Winery",
          "Razi Winery",
          "WeWine Napa",
          "Shafer Vineyards",
          "Napa Cellars Tasting Room",
          "Hudson Ranch",
          "John Anthony Vineyards",
          "PF Wine Tours",
          "Materra, Cunat Family Vineyards",
          "Robert Biale Vineyards",
          "The Wine Foundry",
          "Mayacamas Vineyards & Winery",
          "Aonair Wine",
          "Jacuzzi Family Vineyards",
          "Quixote Winery",
          "Carneros Della Notte",
          "Viansa Winery & Marketplace",
          "Tres Sabores Winery",
          "Laces and Limos",
          "Wine Country Drivers",
          "Celani Family Vineyards",
          "Far Niente Winery",
          "Luna Vineyards",
          "Cornerstone Cellars",
          "Opus One Winery",
          "Beau Wine Tours & Limousine Service",
          "Napa Private Tours",
          "Madorom Vineyards",
          "Silver Oak - Oakville",
          "Inglenook",
          "The Caves at Soda Canyon",
          "Madonna Estate",
          "Whetstone Wine Cellars",
          "Grgich Hills Estate",
          "PlumpJack Winery",
          "Lewis Cellars",
          "Larson Family Winery",
          "Rocca Family Vineyards Tasting Room",
          "All Day Wine Tours",
          "Prime Cellars",
          "Beaulieu Vineyard",
          "Hamel Family Wines",
          "T3 - Tesla Tours & Transportation",
          "Sciandri Family Vineyards",
          "Gundlach Bundschu Winery",
          "Napa Valley Wine Trolley",
          "Robert Craig Winery Tasting Salon",
          "B Cellars Vineyards & Winery",
          "St. Supery Estate Vineyards & Winery",
          "Nickel & Nickel",
          "Covert Estate",
          "Napa Bee Driven",
          "Antica Napa Valley",
          "Wine Country Safari",
          "Holman Cellars",
          "Amuse Bouche Winery",
          "Italics Winegrowers",
          "Maritas Vineyard",
          "Falcor Winery",
          "Gloria Ferrer Winery",
          "Havens Winery",
          "We Drive Your Car Napa Valley",
          "Fortunati Vineyards",
          "Promontory Winery",
          "Buena Vista Winery",
          "Oakville Ranch Vineyards",
          "Wine Tour Drivers",
          "Wine Tasting Driver",
          "Robledo Family Winery",
          "Vine Cliff Winery",
          "Boyd Family Vineyard",
          "Matthiasson Wines",
          "Shed Creek Cellar",
          "Reid Family Vineyards",
          "Small Lot Wine Tours",
          "Ancien",
          "Gargiulo Vineyards",
          "Harvest Wine Tours",
          "Roy Estate",
          "Hidden Napa Jeep Wine Tours",
          "Napa Valley Wine Guides",
          "Cliff Lede Vineyards",
          "Smith Devereux Wines",
          "Screaming Eagle Winery",
          "Robinson Family Vineyards",
          "Black Cat Vineyard",
          "Oasis by Hoopes",
          "Wine Me Away",
          "Let's Roll Wine Tours & Designated Drivers",
          "Stewart Cellars",
          "Frias Family Vineyard",
          "Groth Vineyards & Winery",
          "Priest Ranch",
          "Taylor Family Vineyards",
          "Miner Family Winery",
          "Bell Wine Cellars",
          "Bello Family Vineyards",
          "Realm Cellars",
          "Ovid Vineyard",
          "Mira Winery",
          "Elkhorn Peak Cellars",
          "Oberon",
          "Staglin Family Vineyard",
          "Sodaro Estate Winery",
          "Ram's Gate Winery",
          "Quintessential Wines",
          "The Donum Estate",
          "Ideology Cellars",
          "J.Moss",
          "Buccella",
          "Futo Wines",
          "Intimate Wine Tours",
          "Hill Family Estate",
          "Nicholson Ranch Winery",
          "Suisun Creek Winery",
          "Beckstoffer Vineyards",
          "Spelletich Family Winery",
          "Manny´s Wine Tours",
          "Hyde de Villaine Wines",
          "Handwritten Wines",
          "Tournesol Wine",
          "Kale Wines",
          "Vezer Family Vineyard",
          "Cardinale Winery",
          "Harlan Estate",
          "Gamble Family Vineyard",
          "Eagle Eye Winery",
          "Favia Erickson Winegrowers",
          "Paradigm Winery",
          "Silver Trident Winery",
          "Savor Napa Valley Wine Tours",
          "Own A Napa Vineyard",
          "Farella Vineyard",
          "Napa Valley Chauffeur",
          "Rudd Estate",
          "The Hess Collection Winery",
          "Bliss Wine Tours",
          "Westwood Estate Wine",
          "RAM Wine Country Tours",
          "My Private Napa Driver",
          "Altamura Winery",
          "Elizabeth Spencer Winery",
          "Napa Valley College Winery",
          "Hanzell Vineyards",
          "Relic Wine Cellars",
          "BOND",
          "Buoncristiani Family Winery",
          "Napa Driving Services",
          "Schug Carneros Estate Winery",
          "Dolce Winery",
          "Valley Wine Warehouse",
          "Blackbird Vineyards",
          "J Moss",
          "Napa Valley Wine Country Tours",
          "Meadowcroft Wines",
          "Scholium Project",
          "Destiny Wine Tours",
          "Forthright Winery",
          "David Arthur Vineyards",
          "Absolutely Fabulous Tours",
          "Stacy's Wine Tours",
          "Ghost Block Estate Wines",
          "Thirty-Seven Winery",
          "Your Driver In Napa Wine Tours",
          "Dynamic Napa Wine Tours",
          "Vinfolio",
          "G V Cellars",
          "Wine & Dine Events",
          "Vezer Family Vineyard",
          "Winter Wineland",
          "Rock Creek Vineyard",
          "Kongsgaard Winery",
          "Classic Convertible Wine Tours",
          "Peter Cellars",
          "Sonoma Valley Wine Trolley",
          "Groth Vineyards & Winery",
          "Simply Driven",
          "Wooden Valley Winery",
          "Godspeed Vineyards",
          "Frazier Winery",
          "Mountain Terraces Vineyard",
          "Vinoce Vineyards",
          "Napa Valley Wine Tours",
          "Blankiet Estate",
          "Keever Vineyards",
          "Valley of the Moon Winery",
          "Ceja Vineyards Wine Salon",
          "Phenomenal Limos & Wine Tours",
          "Napa Your Way",
          "Gemstone Vineyard",
          "Hope & Grace Wines",
          "Lagier Meredith Vineyard",
          "Old Bridge Cellars",
          "Auteur Wines",
          "Fine Wine Tours",
          "Moss Creek Winery",
          "J Gregory Cellars",
          "Dominus Estate",
          "Darms Lane Vineyard",
          "Patz & Hall Winery",
          "Stone Edge Farm Winery",
          "Iconic Wine Tours",
          "Surh Cellars",
          "Master Wine Tours",
          "Bonneau Wines",
          "Designated Drivers Napa Sonoma",
          "Monticelli Brothers",
          "VinRoc Wine Caves",
          "Napa Private Driver",
          "Wine Country Confidential",
          "Roche Winery & Vineyards",
          "Tin Barn Vineyards",
          "Mangels Vineyards",
          "Wine Tours by Shane",
          "Repris Wines",
          "Napa Sonoma Wine Guy",
          "Unique Wine Experience",
          "Robert John Vineyards",
          "BX of Napa Wines",
          "Jade Mountain Winery",
          "Vinum Cellars",
          "Chris Phelps Wines",
          "Driven in Napa Valley",
          "Ilsley Vineyards",
          "WALT Wines",
          "Crosby Roamann",
          "Kapcsandy Family Winery",
          "Homewood Winery",
          "Vellum Wines",
          "Petroni Vineyards",
          "Detert Family Vineyard",
          "Sip California",
          "Amapola Creek",
          "Napa Valley Vics Wine Tours & Car Services",
          "Maroon Wines",
          "Beau Vigne",
          "Wine Compliance Alliance",
          "Random Ridge",
          "Perry's Tours",
          "Andrew's Tours and Transportation",
          "Chanticleer Winery",
          "Destination Napa Valley",
          "Canihan Wines",
          "Liparita Cellars",
          "Galvan Family Cellars",
          "Topaz Wines",
          "Napa Valley Luxury Wine Tours",
          "Sonoma Private Tours",
          "CM Destinations & Consulting",
          "PUNCH Vineyards",
          "CALNAP Winery Tours & Limousine",
          "Last Bottle Wines",
          "Leviathan Winery",
          "Napa Wine Company",
          "EMBRAZEN",
          "Rutas De Napa Wine Tours",
          "Kamen Estate Wines",
          "Agajanian Vineyards & Wine Company",
          "Lail Vineyards",
          "Hawkes",
          "Lindstrom Wines",
          "Lake Sonoma Winery",
          "Noah Vineyards",
          "Oakville Cross",
          "Atlas Peak",
          "Napa Driver Tours",
          "Corner 103",
          "Vine Tours Luxury Transportation",
          "Stagecoach Vineyard",
          "Food & Vine Inc",
          "Elan Vineyards",
          "Chiarello Family Vineyards",
          "CINNAMON'S WINE TOURS",
          "Entre Nous Wines",
          "Justice Grace Vineyards",
          "Bedrock Wine Company",
          "Wine Tasting HdV",
          "Napa Native Wine Tours",
          "Eighth Street Wineries Open House",
          "Amicis Tours",
          "Napa Limousine Inc",
          "Rancho Maria Wines",
          "Selene Wines",
          "Troika Wines",
          "Clarbec Wines",
          "Howell At the Moon",
          "Bardessono Vineyards And Wines",
          "Three Sticks Wines",
          "Lonnie's Wine Tours & Transportation",
          "Dog-Friendly Wine Tours",
          "B. Kosuge Wines",
          "WineZooloo",
          "Coho Wines",
          "Rutherford Appellation Wineries Passport Weekend",
          "Bacchus Wine Tours & Transportation LLC",
          "Mora Estate",
          "Peter Franus Wines",
          "Winery Sixteen 600",
          "Spoto Wines",
          "Napa Terroir Wine Tours",
          "Vino Valley Tours",
          "Destination Drivers Napa & Sonoma",
          "Page Wine Cellars",
          "Don Sebastiani & Sons",
          "Napa Valley Excursions & Wine Tours",
          "Rosalynd Winery",
          "L'Uvaggio di Giácomo",
          "Shifflett Estate",
          "Valet of the Moon Wine Tours",
          "Gourmet Food & Wine Tours",
          "Grapeline Wine Tours",
          "Consort Wine Tours",
          "Oro Puro Vineyards",
          "Alluvium Wine Tours",
          "Valley of the Moon Vintage Festival",
          "Signature Transportation of Napa Valley",
          "Sojourn Cellars",
          "Bump Wine Cellars",
          "Sonoma Plaza Wine Experience",
          "Ez Wine Tours",
          "Swanson Wine Tours",
          "Zina Hyde Cunningham Winery",
          "Napa Wine Tours",
          "David Arthur Vineyards",
          "G Wine Cellars",
          "California Wine Tour Services",
          "Calmere Estate Winery",
          "Pina Vineyard Management",
          "West Wine Tours",
          "Ultimate Wine Tours",
          "The Napa Card",
          "Valley Wine Tours",
          "Barrel Stop",
          "Tom Scott Vineyards",
          "Rose Wine Tours",
          "Modus Operandi Cellars",
          "Andretti Winery",
          "Lionstone International",
          "Napa Vinyards",
          "Cook Vinyard Management",
          "Top It Off Bottling"
         ],
         "lat": [
          38.32168,
          38.25553421701142,
          38.43548,
          38.357009999999995,
          38.377683000000005,
          38.251176,
          38.3872498,
          38.3555817630865,
          38.308954,
          38.22830820000001,
          38.34425,
          38.3983978,
          38.364751,
          38.249959999999994,
          38.390201,
          38.415754,
          38.35623742236329,
          38.3177642822266,
          38.2471,
          38.36752,
          38.289128186648,
          38.422,
          38.3393261000088,
          38.323297,
          38.2890722,
          38.297016,
          38.359204,
          38.26739,
          38.297340000000005,
          38.412273,
          38.37017,
          38.345885353769496,
          38.353977203369105,
          38.354502000000004,
          38.363671999999994,
          38.2587139,
          38.245847,
          38.3249893,
          38.297435,
          38.3552406,
          38.4266242980957,
          38.2869459,
          38.29745,
          38.301109999999994,
          38.312613,
          38.38361,
          38.441421999999996,
          38.404739899999996,
          38.29204,
          38.3963745949975,
          38.405559999999994,
          38.2598016,
          38.253863,
          38.425414,
          38.2712839,
          38.25867,
          38.267875671386705,
          38.23562255391007,
          38.418323571036034,
          38.447904,
          38.23234,
          38.37071513224139,
          38.2979965209961,
          38.349253999999995,
          38.32151629999999,
          38.419881,
          38.421192,
          38.264949,
          38.2975791,
          38.31865,
          38.3612027,
          38.35606948287929,
          38.260330200000006,
          38.36518,
          38.3177642822266,
          38.21471,
          38.4181009125607,
          38.2575999,
          38.20847,
          38.461548,
          38.295639,
          38.29695,
          38.334573,
          38.424479,
          38.345079999999996,
          38.2474144,
          38.4414391100535,
          38.296694,
          38.282759999999996,
          38.340156,
          38.4404422,
          38.458391999999996,
          38.401433000000004,
          38.255641937255895,
          38.3393115,
          38.465419,
          38.455434000000004,
          38.351246,
          38.2361999,
          38.238209999999995,
          38.32923889160156,
          38.2973361393272,
          38.460159999999995,
          38.3458142305308,
          38.2968914,
          38.281436,
          38.278529999999996,
          38.296725490059295,
          38.30657,
          38.449864,
          38.4551318502323,
          38.443243,
          38.307445,
          38.291168,
          38.427937,
          38.305503,
          38.259432000000004,
          38.30039,
          38.3137,
          38.302153999999994,
          38.256029999999996,
          38.223832,
          38.301274,
          38.3088677,
          38.34905,
          38.4208658,
          38.299502000000004,
          38.4610071602159,
          38.291542053222656,
          38.3364765,
          38.24739263290604,
          38.447107,
          38.3612027,
          38.338609999999996,
          38.338405360536775,
          38.3137,
          38.33684,
          38.297691,
          38.453315,
          38.3066965,
          38.36585,
          38.31832,
          38.3841682813529,
          38.42407,
          38.297447999999996,
          38.436927795410206,
          38.41086361969035,
          38.281490000000005,
          38.38795716301858,
          38.38326,
          38.2968,
          38.406152,
          38.3348546,
          38.449220000000004,
          38.400084,
          38.2586755,
          38.462719,
          38.389815999999996,
          38.453556060791,
          38.400333,
          38.463440000000006,
          38.38732,
          38.228224,
          38.2237,
          38.442506,
          38.315,
          38.1741152,
          38.29735,
          38.231313,
          38.3638202476272,
          38.2585653718793,
          38.39829,
          38.416191999999995,
          38.283022100000004,
          38.4011459350586,
          38.255251261885,
          38.264721,
          38.464284,
          38.253694,
          38.291168,
          38.325776,
          38.4001796,
          38.2965803877752,
          38.291168,
          38.2940805917162,
          38.428591,
          38.436927795410206,
          38.429147,
          38.341023,
          38.293479999999995,
          38.420559999999995,
          38.400496999999994,
          38.3213996887207,
          38.2575999,
          38.312621,
          38.3233943,
          38.4578819274902,
          38.190715000000004,
          38.38326,
          38.2915583,
          38.398939,
          38.3077323,
          38.364395,
          38.458979181419295,
          38.274349,
          38.313430022374604,
          38.411912,
          38.43462,
          38.40336,
          38.3214,
          38.233022670015295,
          38.4240773,
          38.2104,
          38.3606279211163,
          38.258674,
          38.2136164,
          38.2272243158716,
          38.26635,
          38.33656,
          38.33031,
          38.465325,
          38.3170536,
          38.195021999999994,
          38.43597877573925,
          38.150444,
          38.3177642822266,
          38.296690000000005,
          38.220461,
          38.24296221671643,
          38.4348204,
          38.285969,
          38.293415,
          38.268109,
          38.436451,
          38.2975381,
          38.2578964073869,
          38.260459999999995,
          38.3687531,
          38.338537,
          38.276559999999996,
          38.38908,
          38.38326,
          38.357009000000005,
          38.43888,
          38.3177642822266,
          38.400724200000006,
          38.40245,
          38.2931453,
          38.2460468131242,
          38.31918579999999,
          38.204909846218705,
          38.40245,
          38.402992248535206,
          38.3747445,
          38.2950233,
          38.29397897266821,
          38.2895385,
          38.44593,
          38.3349609,
          38.4048461914062,
          38.36385,
          38.26397,
          38.2890739440918,
          38.2798408,
          38.31832,
          38.3581390380859,
          38.2595709,
          38.3288089,
          38.33379,
          38.42648,
          38.297370910644496,
          38.23927688598629,
          38.24168,
          38.25905584491571,
          38.2646811628515,
          38.31865,
          38.345924,
          38.291168,
          38.32923889160156,
          38.297093,
          38.3177642822266,
          38.21761,
          38.223094,
          38.3029507537766,
          38.3177642822266,
          38.425523999999996,
          38.294342041015604,
          38.2603912353516,
          38.40245,
          38.24556,
          38.31364,
          38.3426659738006,
          38.428924,
          38.291859,
          38.33422,
          38.152153015136705,
          38.3180046081543,
          38.4065716,
          38.2965202331543,
          38.3702,
          38.25877,
          38.3177642822266,
          38.3899895846844,
          38.31777,
          38.273313,
          38.436786,
          38.205394,
          38.337379999999996,
          38.342125,
          38.2827606201172,
          38.297370910644496,
          38.293898,
          38.310683000000004,
          38.218437194824205,
          38.4366,
          38.4363635,
          38.22224,
          38.3177642822266,
          38.2915849246945,
          38.246978759765604,
          38.46024,
          38.294241,
          38.407973,
          38.29312,
          38.390735,
          38.44308,
          38.31364,
          38.17406,
          38.291934999999995,
          38.3214,
          38.4379,
          38.2870740762265,
          38.446128845214794,
          38.401611096057,
          38.3078,
          38.432010999999996,
          38.242694,
          38.293233824561206,
          38.326141357421896,
          38.336529999999996,
          38.262165100000004,
          38.38326,
          38.292613,
          38.2924731,
          38.31777,
          38.245232,
          38.28882,
          38.2975381,
          38.4015781,
          38.2621635,
          38.2930030822754,
          38.29737,
          38.29695,
          38.3113199134266,
          38.29695,
          38.46024,
          38.2726044,
          38.294652,
          38.299079895019496,
          38.290421,
          38.436927795410206,
          38.3210506945237,
          38.3071213,
          38.29188,
          38.293864899999996,
          38.29187,
          38.3186492919922,
          38.266387741610366,
          38.29695,
          38.4366,
          38.2890739440918,
          38.2927444,
          38.2825,
          38.4019490823782,
          38.29695,
          38.3177642822266,
          38.293415,
          38.3221893310547,
          38.2913799,
          38.2915015,
          38.291919708252,
          38.31777,
          38.28691,
          38.2921374,
          38.32322,
          38.46024,
          38.3130398821026,
          38.27259,
          38.230914,
          38.46518,
          38.286640000000006,
          38.2676277160645,
          38.31364,
          38.29188,
          38.31364,
          38.425273,
          38.28691,
          38.298858642578104,
          38.32151629999999,
          38.262062,
          38.38326,
          38.2862614,
          38.26248
         ],
         "legendgroup": "",
         "lon": [
          -122.34481000000001,
          -122.3513909116566,
          -122.35143000000001,
          -122.21361999999999,
          -122.286565,
          -122.34708400000001,
          -122.31250630000001,
          -122.270102462921,
          -122.24821899999999,
          -122.2539009,
          -122.32628400000002,
          -122.32439270000002,
          -122.28943500000001,
          -122.32538000000001,
          -122.31384299999999,
          -122.31888400000001,
          -122.32299104997801,
          -122.29174041748001,
          -122.274639,
          -122.29423999999999,
          -122.317485809326,
          -122.38811000000001,
          -122.27976149046002,
          -122.235727,
          -122.2273244,
          -122.291339,
          -122.3106703,
          -122.3487,
          -122.28893000000001,
          -122.336858,
          -122.29481000000001,
          -122.33976825643451,
          -122.335693359375,
          -122.204136,
          -122.33921299999999,
          -122.2717063,
          -122.3150228,
          -122.286911,
          -122.2893433,
          -122.2869398,
          -122.352890014648,
          -122.23581850000001,
          -122.28838,
          -122.28228899999999,
          -122.373269,
          -122.35451,
          -122.40954599999999,
          -122.33277,
          -122.29213999999999,
          -122.364698011115,
          -122.32773,
          -122.2720075,
          -122.330619,
          -122.337002,
          -122.4230626,
          -122.2736,
          -122.24878692626999,
          -122.31443098305695,
          -122.33724299999999,
          -122.409682,
          -122.33191000000001,
          -122.298978236493,
          -122.25869750976601,
          -122.283146,
          -122.30410790000002,
          -122.326894,
          -122.39017700000001,
          -122.36593500000001,
          -122.2891414,
          -122.29993999999999,
          -122.3118133,
          -122.30843067169201,
          -122.2742081,
          -122.42326000000001,
          -122.29174041748001,
          -122.45388500000001,
          -122.323620009856,
          -122.339651,
          -122.45180500000001,
          -122.44453600000001,
          -122.2999753,
          -122.2868,
          -122.293094,
          -122.404132,
          -122.28383999999998,
          -122.27207659999998,
          -122.39972029669902,
          -122.2924582,
          -122.27123,
          -122.28194599999999,
          -122.3809788,
          -122.423796,
          -122.30133000000001,
          -122.341018676758,
          -122.2623851,
          -122.42898899999999,
          -122.37411100000001,
          -122.307404,
          -122.4483,
          -122.26942,
          -122.2959213256836,
          -122.28831382142599,
          -122.42329099999999,
          -122.494017806885,
          -122.2889887,
          -122.23796000000002,
          -122.42058,
          -122.289325989441,
          -122.28251999999999,
          -122.37326399999999,
          -122.41456055411601,
          -122.40676299999998,
          -122.247464,
          -122.28627900000001,
          -122.274933,
          -122.2915887,
          -122.27444799999999,
          -122.28603899999999,
          -122.250615,
          -122.24986899999999,
          -122.276279,
          -122.47227600000001,
          -122.2874659,
          -122.2917507,
          -122.30949,
          -122.41496210000001,
          -122.42194199999999,
          -122.358888437234,
          -122.28694152832031,
          -122.3229962,
          -122.48350054331848,
          -122.350549,
          -122.3118133,
          -122.35076000000001,
          -122.10164499999999,
          -122.34831000000001,
          -122.31545,
          -122.235151,
          -122.366836,
          -122.28827199999999,
          -122.27873000000001,
          -122.29177,
          -122.285937502441,
          -122.34478700000001,
          -122.289345,
          -122.402816772461,
          -122.31935492416466,
          -122.24771399999999,
          -122.34952523506253,
          -122.31306000000001,
          -122.286,
          -122.3664433,
          -122.3199497,
          -122.379524,
          -122.35902800000001,
          -122.2716831,
          -122.37109299999999,
          -122.34574099999999,
          -122.414756774902,
          -122.33066399999998,
          -122.34397,
          -122.34846999999999,
          -122.219554,
          -122.26616999999999,
          -122.42444499999999,
          -122.23313,
          -122.45049820000001,
          -122.28764,
          -122.40286599999999,
          -122.33911094477502,
          -122.273029536009,
          -122.37058,
          -122.41236599999999,
          -122.27128370000001,
          -122.359878540039,
          -122.3913731858,
          -122.11991499999999,
          -122.395302,
          -122.275972,
          -122.28627900000001,
          -122.28308940000001,
          -122.35933130000001,
          -122.223340272903,
          -122.286064423279,
          -122.12020345369,
          -122.390506,
          -122.402816772461,
          -122.38689199999999,
          -122.12588799999999,
          -122.24972,
          -122.39378,
          -122.360031,
          -122.304061889648,
          -122.33965,
          -122.22863999999998,
          -122.3018681,
          -122.366798400879,
          -122.27033200000001,
          -122.31306000000001,
          -122.4574775,
          -122.373129,
          -122.3058297,
          -122.17517420000001,
          -122.42206067842599,
          -122.277736,
          -122.462327066159,
          -122.29330300000001,
          -122.40057,
          -122.30048000000001,
          -122.30406,
          -122.47125148773199,
          -122.402102,
          -122.25724,
          -122.31809463568399,
          -122.273574,
          -122.2533803,
          -122.457089424133,
          -122.33292,
          -122.2587,
          -122.34388999999999,
          -122.345735,
          -122.3019206,
          -122.24115,
          -122.40191144110308,
          -122.4489975,
          -122.29174041748001,
          -122.29246,
          -122.261675,
          -122.1690453203512,
          -122.2958469,
          -122.107518,
          -122.47058899999999,
          -122.163499,
          -122.2475128,
          -122.28686499999999,
          -122.45004057884199,
          -122.44134,
          -122.34131299999999,
          -122.312223,
          -122.112879,
          -122.43916999999999,
          -122.31306000000001,
          -122.466577,
          -122.48222,
          -122.29174041748001,
          -122.3837445,
          -122.36106000000001,
          -122.4593959,
          -122.42282741057501,
          -122.31011299999999,
          -122.115153021875,
          -122.36106000000001,
          -122.36212158203101,
          -122.3879989,
          -122.29388909999999,
          -122.458705292053,
          -122.2915722,
          -122.19492,
          -122.3201294,
          -122.37353515625,
          -122.35121000000001,
          -122.43761,
          -122.39685821533199,
          -122.256173,
          -122.29177,
          -122.263832092285,
          -122.4395611,
          -122.33658290000001,
          -122.32668000000001,
          -122.24922,
          -122.29046630859399,
          -122.33062744140601,
          -122.48098,
          -122.434944500494,
          -122.11363149811199,
          -122.29993999999999,
          -122.458795,
          -122.28627900000001,
          -122.2959213256836,
          -122.28895700000001,
          -122.29174041748001,
          -122.26923000000001,
          -122.263104,
          -122.314904261924,
          -122.29174041748001,
          -122.328653,
          -122.45832824706999,
          -122.274131774902,
          -122.36106000000001,
          -122.42121000000002,
          -122.29476000000001,
          -122.47730255126999,
          -122.417375,
          -122.45803559999999,
          -122.48064,
          -122.265014648438,
          -122.244613647461,
          -122.3670058,
          -122.2880859375,
          -122.46171299999999,
          -122.24878999999999,
          -122.29174041748001,
          -122.36078068613999,
          -122.29173999999999,
          -122.43121200000002,
          -122.4027311,
          -122.14233300000001,
          -122.31894,
          -122.32106,
          -122.27123260498001,
          -122.29046630859399,
          -122.296768,
          -122.298832,
          -122.27011108398399,
          -122.40258999999999,
          -122.40235279999999,
          -122.26713000000001,
          -122.29174041748001,
          -122.45612814245001,
          -122.276596069336,
          -122.42023,
          -122.458823,
          -122.32692,
          -122.45936999999999,
          -122.346252,
          -122.38796,
          -122.29476000000001,
          -122.25726,
          -122.459152,
          -122.30406,
          -122.2956,
          -122.28713518551399,
          -122.24951171875,
          -122.362370916077,
          -122.30571,
          -122.392476,
          -122.42277299999999,
          -122.456364071755,
          -122.282272338867,
          -122.32298999999999,
          -122.4399338,
          -122.31306000000001,
          -122.30146699999999,
          -122.4591225,
          -122.29173999999999,
          -122.422307,
          -122.49468999999999,
          -122.28686499999999,
          -122.3608105,
          -122.43993470000001,
          -122.282814025879,
          -122.29047,
          -122.2868,
          -122.487856708467,
          -122.2868,
          -122.42023,
          -122.42913970000001,
          -122.45741799999999,
          -122.28537750244101,
          -122.459446,
          -122.402816772461,
          -122.293578274548,
          -122.3335037,
          -122.45726,
          -122.30022,
          -122.45988,
          -122.299942016602,
          -122.12993134347964,
          -122.2868,
          -122.40258999999999,
          -122.39685821533199,
          -122.4570054,
          -122.45971000000002,
          -122.36280441284201,
          -122.2868,
          -122.29174041748001,
          -122.47058899999999,
          -122.28855133056601,
          -122.45576000000001,
          -122.45839,
          -122.45630645751999,
          -122.29173999999999,
          -122.46547,
          -122.45652040000002,
          -122.30206000000001,
          -122.42023,
          -122.234573364258,
          -122.43762,
          -122.34886100000001,
          -122.37511,
          -122.46553,
          -122.48998260498001,
          -122.29476000000001,
          -122.45726,
          -122.29476000000001,
          -122.34676599999999,
          -122.46547,
          -122.28521728515601,
          -122.30410790000002,
          -122.44203600000002,
          -122.31306000000001,
          -122.43489299999999,
          -122.44207
         ],
         "marker": {
          "color": [
           2,
           2,
           2,
           3,
           2,
           2,
           2,
           2,
           2,
           2,
           2,
           3,
           2,
           2,
           3,
           3,
           2,
           2,
           2,
           3,
           2,
           4,
           2,
           3,
           3,
           2,
           2,
           2,
           2,
           2,
           2,
           2,
           2,
           3,
           2,
           2,
           2,
           3,
           2,
           2,
           2,
           3,
           2,
           2,
           2,
           2,
           2,
           3,
           2,
           2,
           2,
           2,
           2,
           3,
           2,
           2,
           2,
           2,
           2,
           2,
           2,
           3,
           2,
           2,
           2,
           3,
           2,
           2,
           2,
           2,
           2,
           2,
           1,
           4,
           3,
           2,
           2,
           2,
           2,
           2,
           2,
           2,
           3,
           3,
           2,
           2,
           4,
           2,
           2,
           2,
           3,
           3,
           3,
           2,
           2,
           2,
           2,
           4,
           2,
           2,
           2,
           2,
           2,
           3,
           2,
           3,
           2,
           2,
           2,
           2,
           2,
           3,
           2,
           2,
           3,
           2,
           2,
           3,
           3,
           3,
           2,
           2,
           3,
           2,
           2,
           4,
           2,
           2,
           2,
           2,
           2,
           4,
           2,
           2,
           2,
           2,
           2,
           2,
           2,
           2,
           4,
           2,
           2,
           2,
           2,
           4,
           2,
           2,
           2,
           2,
           2,
           2,
           2,
           2,
           2,
           3,
           2,
           2,
           2,
           3,
           3,
           2,
           2,
           2,
           3,
           2,
           3,
           2,
           3,
           2,
           2,
           4,
           4,
           2,
           2,
           2,
           2,
           2,
           3,
           2,
           3,
           3,
           2,
           2,
           2,
           4,
           4,
           3,
           2,
           2,
           2,
           2,
           2,
           2,
           2,
           2,
           3,
           2,
           2,
           2,
           2,
           2,
           3,
           2,
           2,
           3,
           2,
           3,
           3,
           2,
           2,
           2,
           2,
           3,
           2,
           2,
           2,
           2,
           2,
           2,
           3,
           2,
           2,
           2,
           2,
           2,
           2,
           2,
           2,
           2,
           2,
           1,
           2,
           2,
           2,
           2,
           2,
           3,
           2,
           2,
           2,
           2,
           4,
           2,
           2,
           2,
           2,
           2,
           2,
           2,
           2,
           4,
           2,
           2,
           2,
           3,
           2,
           3,
           2,
           4,
           2,
           3,
           2,
           2,
           2,
           2,
           2,
           2,
           2,
           2,
           2,
           2,
           2,
           2,
           2,
           2,
           3,
           2,
           2,
           2,
           2,
           3,
           2,
           2,
           2,
           3,
           2,
           2,
           3,
           2,
           2,
           2,
           2,
           1,
           2,
           2,
           2,
           3,
           2,
           2,
           2,
           2,
           2,
           2,
           2,
           2,
           2,
           2,
           2,
           2,
           2,
           2,
           2,
           3,
           2,
           2,
           2,
           2,
           3,
           2,
           2,
           2,
           2,
           2,
           2,
           2,
           2,
           2,
           2,
           2,
           3,
           2,
           2,
           2,
           2,
           3,
           3,
           2,
           3,
           2,
           2,
           2,
           2,
           2,
           2,
           2,
           2,
           2,
           2,
           2,
           2,
           2,
           2,
           2,
           2,
           2,
           2,
           2,
           2,
           2,
           3,
           2,
           2,
           2,
           2,
           2,
           2,
           2,
           2,
           2,
           2,
           2,
           2,
           2,
           2,
           2,
           1,
           2,
           2,
           2,
           2,
           2,
           2,
           2,
           2,
           2,
           2,
           2,
           2,
           2,
           2,
           2,
           2,
           2,
           2,
           4,
           2,
           2,
           2,
           2,
           2,
           2,
           2
          ],
          "coloraxis": "coloraxis",
          "size": [
           658,
           2239,
           373,
           209,
           55,
           327,
           328,
           186,
           179,
           896,
           179,
           487,
           459,
           136,
           308,
           222,
           350,
           41,
           205,
           552,
           85,
           74,
           275,
           124,
           57,
           54,
           128,
           88,
           178,
           311,
           142,
           187,
           163,
           68,
           121,
           130,
           176,
           36,
           162,
           127,
           387,
           49,
           99,
           2,
           52,
           117,
           1097,
           307,
           5,
           1449,
           78,
           34,
           4,
           338,
           322,
           24,
           81,
           79,
           112,
           788,
           56,
           130,
           14,
           36,
           10,
           45,
           376,
           4,
           140,
           55,
           43,
           125,
           10,
           11,
           63,
           821,
           61,
           16,
           624,
           126,
           8,
           23,
           2,
           162,
           230,
           7,
           465,
           349,
           60,
           3,
           489,
           367,
           10,
           173,
           87,
           589,
           179,
           13,
           566,
           12,
           24,
           31,
           412,
           97,
           24,
           7,
           567,
           143,
           54,
           157,
           461,
           130,
           4,
           55,
           8,
           9,
           38,
           3,
           14,
           9,
           70,
           836,
           8,
           12,
           14,
           15,
           449,
           3,
           72,
           18,
           217,
           45,
           9,
           1,
           2,
           27,
           50,
           4,
           21,
           7,
           1,
           23,
           56,
           226,
           1,
           6,
           21,
           12,
           15,
           19,
           13,
           49,
           6,
           57,
           170,
           17,
           239,
           123,
           1,
           11,
           12,
           6,
           12,
           2,
           13,
           13,
           440,
           2,
           33,
           1,
           2,
           3,
           4,
           34,
           160,
           320,
           1,
           3,
           18,
           56,
           22,
           49,
           10,
           1,
           81,
           48,
           5,
           19,
           7,
           6,
           53,
           64,
           6,
           1,
           7,
           19,
           18,
           7,
           18,
           106,
           13,
           3,
           12,
           213,
           3,
           85,
           10,
           3,
           5,
           4,
           167,
           1,
           1,
           10,
           4,
           214,
           120,
           5,
           23,
           1,
           18,
           14,
           8,
           14,
           2,
           25,
           33,
           2,
           73,
           7,
           107,
           11,
           15,
           1,
           20,
           73,
           100,
           2,
           21,
           130,
           2,
           8,
           1,
           1,
           8,
           11,
           20,
           129,
           32,
           4,
           27,
           4,
           171,
           4,
           2,
           18,
           8,
           1,
           4,
           6,
           2,
           67,
           8,
           3,
           2,
           7,
           15,
           50,
           1,
           1,
           21,
           15,
           19,
           83,
           7,
           8,
           59,
           4,
           12,
           2,
           5,
           1,
           1,
           1,
           5,
           2,
           151,
           5,
           5,
           116,
           1,
           96,
           3,
           1,
           1,
           7,
           1,
           33,
           1,
           1,
           8,
           2,
           2,
           5,
           6,
           2,
           9,
           1,
           6,
           1,
           3,
           1,
           15,
           54,
           1,
           39,
           1,
           4,
           54,
           1,
           2,
           71,
           1,
           56,
           2,
           1,
           1,
           21,
           113,
           4,
           2,
           1,
           5,
           6,
           4,
           2,
           13,
           19,
           2,
           13,
           2,
           17,
           12,
           70,
           1,
           7,
           1,
           2,
           1,
           1,
           5,
           3,
           1,
           2,
           2,
           2,
           13,
           1,
           1,
           24,
           4,
           8,
           2,
           15,
           6,
           1,
           10,
           5,
           1,
           1,
           33,
           62,
           27,
           3,
           1,
           3,
           1,
           6,
           62,
           91,
           1,
           3,
           17,
           36,
           1,
           1,
           1,
           4,
           68,
           1,
           14,
           4,
           6,
           42,
           1,
           1,
           7,
           1,
           311,
           1,
           1,
           1,
           2
          ],
          "sizemode": "area",
          "sizeref": 9.95111111111111
         },
         "mode": "markers",
         "name": "",
         "showlegend": false,
         "subplot": "mapbox",
         "type": "scattermapbox"
        }
       ],
       "layout": {
        "coloraxis": {
         "cmax": 3,
         "cmin": 0,
         "colorbar": {
          "title": {
           "text": "Price ($) "
          }
         },
         "colorscale": [
          [
           0,
           "rgb(255,255,255)"
          ],
          [
           0.125,
           "rgb(240,240,240)"
          ],
          [
           0.25,
           "rgb(217,217,217)"
          ],
          [
           0.375,
           "rgb(189,189,189)"
          ],
          [
           0.5,
           "rgb(150,150,150)"
          ],
          [
           0.625,
           "rgb(115,115,115)"
          ],
          [
           0.75,
           "rgb(82,82,82)"
          ],
          [
           0.875,
           "rgb(37,37,37)"
          ],
          [
           1,
           "rgb(0,0,0)"
          ]
         ]
        },
        "height": 900,
        "legend": {
         "itemsizing": "constant",
         "tracegroupgap": 0
        },
        "mapbox": {
         "accesstoken": "pk.eyJ1IjoiYm1jY2FydHk1MDUiLCJhIjoiY2tvbnJvdnFkMDNuZzJ2cHBwbTd1d2dibiJ9.m6-cNXAgqZ4WZZUWhoTjKA",
         "center": {
          "lat": 38.3295241953953,
          "lon": -122.3340846822716
         },
         "domain": {
          "x": [
           0,
           1
          ],
          "y": [
           0,
           1
          ]
         },
         "style": "light",
         "zoom": 9.8
        },
        "template": {
         "data": {
          "bar": [
           {
            "error_x": {
             "color": "#2a3f5f"
            },
            "error_y": {
             "color": "#2a3f5f"
            },
            "marker": {
             "line": {
              "color": "#E5ECF6",
              "width": 0.5
             }
            },
            "type": "bar"
           }
          ],
          "barpolar": [
           {
            "marker": {
             "line": {
              "color": "#E5ECF6",
              "width": 0.5
             }
            },
            "type": "barpolar"
           }
          ],
          "carpet": [
           {
            "aaxis": {
             "endlinecolor": "#2a3f5f",
             "gridcolor": "white",
             "linecolor": "white",
             "minorgridcolor": "white",
             "startlinecolor": "#2a3f5f"
            },
            "baxis": {
             "endlinecolor": "#2a3f5f",
             "gridcolor": "white",
             "linecolor": "white",
             "minorgridcolor": "white",
             "startlinecolor": "#2a3f5f"
            },
            "type": "carpet"
           }
          ],
          "choropleth": [
           {
            "colorbar": {
             "outlinewidth": 0,
             "ticks": ""
            },
            "type": "choropleth"
           }
          ],
          "contour": [
           {
            "colorbar": {
             "outlinewidth": 0,
             "ticks": ""
            },
            "colorscale": [
             [
              0,
              "#0d0887"
             ],
             [
              0.1111111111111111,
              "#46039f"
             ],
             [
              0.2222222222222222,
              "#7201a8"
             ],
             [
              0.3333333333333333,
              "#9c179e"
             ],
             [
              0.4444444444444444,
              "#bd3786"
             ],
             [
              0.5555555555555556,
              "#d8576b"
             ],
             [
              0.6666666666666666,
              "#ed7953"
             ],
             [
              0.7777777777777778,
              "#fb9f3a"
             ],
             [
              0.8888888888888888,
              "#fdca26"
             ],
             [
              1,
              "#f0f921"
             ]
            ],
            "type": "contour"
           }
          ],
          "contourcarpet": [
           {
            "colorbar": {
             "outlinewidth": 0,
             "ticks": ""
            },
            "type": "contourcarpet"
           }
          ],
          "heatmap": [
           {
            "colorbar": {
             "outlinewidth": 0,
             "ticks": ""
            },
            "colorscale": [
             [
              0,
              "#0d0887"
             ],
             [
              0.1111111111111111,
              "#46039f"
             ],
             [
              0.2222222222222222,
              "#7201a8"
             ],
             [
              0.3333333333333333,
              "#9c179e"
             ],
             [
              0.4444444444444444,
              "#bd3786"
             ],
             [
              0.5555555555555556,
              "#d8576b"
             ],
             [
              0.6666666666666666,
              "#ed7953"
             ],
             [
              0.7777777777777778,
              "#fb9f3a"
             ],
             [
              0.8888888888888888,
              "#fdca26"
             ],
             [
              1,
              "#f0f921"
             ]
            ],
            "type": "heatmap"
           }
          ],
          "heatmapgl": [
           {
            "colorbar": {
             "outlinewidth": 0,
             "ticks": ""
            },
            "colorscale": [
             [
              0,
              "#0d0887"
             ],
             [
              0.1111111111111111,
              "#46039f"
             ],
             [
              0.2222222222222222,
              "#7201a8"
             ],
             [
              0.3333333333333333,
              "#9c179e"
             ],
             [
              0.4444444444444444,
              "#bd3786"
             ],
             [
              0.5555555555555556,
              "#d8576b"
             ],
             [
              0.6666666666666666,
              "#ed7953"
             ],
             [
              0.7777777777777778,
              "#fb9f3a"
             ],
             [
              0.8888888888888888,
              "#fdca26"
             ],
             [
              1,
              "#f0f921"
             ]
            ],
            "type": "heatmapgl"
           }
          ],
          "histogram": [
           {
            "marker": {
             "colorbar": {
              "outlinewidth": 0,
              "ticks": ""
             }
            },
            "type": "histogram"
           }
          ],
          "histogram2d": [
           {
            "colorbar": {
             "outlinewidth": 0,
             "ticks": ""
            },
            "colorscale": [
             [
              0,
              "#0d0887"
             ],
             [
              0.1111111111111111,
              "#46039f"
             ],
             [
              0.2222222222222222,
              "#7201a8"
             ],
             [
              0.3333333333333333,
              "#9c179e"
             ],
             [
              0.4444444444444444,
              "#bd3786"
             ],
             [
              0.5555555555555556,
              "#d8576b"
             ],
             [
              0.6666666666666666,
              "#ed7953"
             ],
             [
              0.7777777777777778,
              "#fb9f3a"
             ],
             [
              0.8888888888888888,
              "#fdca26"
             ],
             [
              1,
              "#f0f921"
             ]
            ],
            "type": "histogram2d"
           }
          ],
          "histogram2dcontour": [
           {
            "colorbar": {
             "outlinewidth": 0,
             "ticks": ""
            },
            "colorscale": [
             [
              0,
              "#0d0887"
             ],
             [
              0.1111111111111111,
              "#46039f"
             ],
             [
              0.2222222222222222,
              "#7201a8"
             ],
             [
              0.3333333333333333,
              "#9c179e"
             ],
             [
              0.4444444444444444,
              "#bd3786"
             ],
             [
              0.5555555555555556,
              "#d8576b"
             ],
             [
              0.6666666666666666,
              "#ed7953"
             ],
             [
              0.7777777777777778,
              "#fb9f3a"
             ],
             [
              0.8888888888888888,
              "#fdca26"
             ],
             [
              1,
              "#f0f921"
             ]
            ],
            "type": "histogram2dcontour"
           }
          ],
          "mesh3d": [
           {
            "colorbar": {
             "outlinewidth": 0,
             "ticks": ""
            },
            "type": "mesh3d"
           }
          ],
          "parcoords": [
           {
            "line": {
             "colorbar": {
              "outlinewidth": 0,
              "ticks": ""
             }
            },
            "type": "parcoords"
           }
          ],
          "pie": [
           {
            "automargin": true,
            "type": "pie"
           }
          ],
          "scatter": [
           {
            "marker": {
             "colorbar": {
              "outlinewidth": 0,
              "ticks": ""
             }
            },
            "type": "scatter"
           }
          ],
          "scatter3d": [
           {
            "line": {
             "colorbar": {
              "outlinewidth": 0,
              "ticks": ""
             }
            },
            "marker": {
             "colorbar": {
              "outlinewidth": 0,
              "ticks": ""
             }
            },
            "type": "scatter3d"
           }
          ],
          "scattercarpet": [
           {
            "marker": {
             "colorbar": {
              "outlinewidth": 0,
              "ticks": ""
             }
            },
            "type": "scattercarpet"
           }
          ],
          "scattergeo": [
           {
            "marker": {
             "colorbar": {
              "outlinewidth": 0,
              "ticks": ""
             }
            },
            "type": "scattergeo"
           }
          ],
          "scattergl": [
           {
            "marker": {
             "colorbar": {
              "outlinewidth": 0,
              "ticks": ""
             }
            },
            "type": "scattergl"
           }
          ],
          "scattermapbox": [
           {
            "marker": {
             "colorbar": {
              "outlinewidth": 0,
              "ticks": ""
             }
            },
            "type": "scattermapbox"
           }
          ],
          "scatterpolar": [
           {
            "marker": {
             "colorbar": {
              "outlinewidth": 0,
              "ticks": ""
             }
            },
            "type": "scatterpolar"
           }
          ],
          "scatterpolargl": [
           {
            "marker": {
             "colorbar": {
              "outlinewidth": 0,
              "ticks": ""
             }
            },
            "type": "scatterpolargl"
           }
          ],
          "scatterternary": [
           {
            "marker": {
             "colorbar": {
              "outlinewidth": 0,
              "ticks": ""
             }
            },
            "type": "scatterternary"
           }
          ],
          "surface": [
           {
            "colorbar": {
             "outlinewidth": 0,
             "ticks": ""
            },
            "colorscale": [
             [
              0,
              "#0d0887"
             ],
             [
              0.1111111111111111,
              "#46039f"
             ],
             [
              0.2222222222222222,
              "#7201a8"
             ],
             [
              0.3333333333333333,
              "#9c179e"
             ],
             [
              0.4444444444444444,
              "#bd3786"
             ],
             [
              0.5555555555555556,
              "#d8576b"
             ],
             [
              0.6666666666666666,
              "#ed7953"
             ],
             [
              0.7777777777777778,
              "#fb9f3a"
             ],
             [
              0.8888888888888888,
              "#fdca26"
             ],
             [
              1,
              "#f0f921"
             ]
            ],
            "type": "surface"
           }
          ],
          "table": [
           {
            "cells": {
             "fill": {
              "color": "#EBF0F8"
             },
             "line": {
              "color": "white"
             }
            },
            "header": {
             "fill": {
              "color": "#C8D4E3"
             },
             "line": {
              "color": "white"
             }
            },
            "type": "table"
           }
          ]
         },
         "layout": {
          "annotationdefaults": {
           "arrowcolor": "#2a3f5f",
           "arrowhead": 0,
           "arrowwidth": 1
          },
          "coloraxis": {
           "colorbar": {
            "outlinewidth": 0,
            "ticks": ""
           }
          },
          "colorscale": {
           "diverging": [
            [
             0,
             "#8e0152"
            ],
            [
             0.1,
             "#c51b7d"
            ],
            [
             0.2,
             "#de77ae"
            ],
            [
             0.3,
             "#f1b6da"
            ],
            [
             0.4,
             "#fde0ef"
            ],
            [
             0.5,
             "#f7f7f7"
            ],
            [
             0.6,
             "#e6f5d0"
            ],
            [
             0.7,
             "#b8e186"
            ],
            [
             0.8,
             "#7fbc41"
            ],
            [
             0.9,
             "#4d9221"
            ],
            [
             1,
             "#276419"
            ]
           ],
           "sequential": [
            [
             0,
             "#0d0887"
            ],
            [
             0.1111111111111111,
             "#46039f"
            ],
            [
             0.2222222222222222,
             "#7201a8"
            ],
            [
             0.3333333333333333,
             "#9c179e"
            ],
            [
             0.4444444444444444,
             "#bd3786"
            ],
            [
             0.5555555555555556,
             "#d8576b"
            ],
            [
             0.6666666666666666,
             "#ed7953"
            ],
            [
             0.7777777777777778,
             "#fb9f3a"
            ],
            [
             0.8888888888888888,
             "#fdca26"
            ],
            [
             1,
             "#f0f921"
            ]
           ],
           "sequentialminus": [
            [
             0,
             "#0d0887"
            ],
            [
             0.1111111111111111,
             "#46039f"
            ],
            [
             0.2222222222222222,
             "#7201a8"
            ],
            [
             0.3333333333333333,
             "#9c179e"
            ],
            [
             0.4444444444444444,
             "#bd3786"
            ],
            [
             0.5555555555555556,
             "#d8576b"
            ],
            [
             0.6666666666666666,
             "#ed7953"
            ],
            [
             0.7777777777777778,
             "#fb9f3a"
            ],
            [
             0.8888888888888888,
             "#fdca26"
            ],
            [
             1,
             "#f0f921"
            ]
           ]
          },
          "colorway": [
           "#636efa",
           "#EF553B",
           "#00cc96",
           "#ab63fa",
           "#FFA15A",
           "#19d3f3",
           "#FF6692",
           "#B6E880",
           "#FF97FF",
           "#FECB52"
          ],
          "font": {
           "color": "#2a3f5f"
          },
          "geo": {
           "bgcolor": "white",
           "lakecolor": "white",
           "landcolor": "#E5ECF6",
           "showlakes": true,
           "showland": true,
           "subunitcolor": "white"
          },
          "hoverlabel": {
           "align": "left"
          },
          "hovermode": "closest",
          "mapbox": {
           "style": "light"
          },
          "paper_bgcolor": "white",
          "plot_bgcolor": "#E5ECF6",
          "polar": {
           "angularaxis": {
            "gridcolor": "white",
            "linecolor": "white",
            "ticks": ""
           },
           "bgcolor": "#E5ECF6",
           "radialaxis": {
            "gridcolor": "white",
            "linecolor": "white",
            "ticks": ""
           }
          },
          "scene": {
           "xaxis": {
            "backgroundcolor": "#E5ECF6",
            "gridcolor": "white",
            "gridwidth": 2,
            "linecolor": "white",
            "showbackground": true,
            "ticks": "",
            "zerolinecolor": "white"
           },
           "yaxis": {
            "backgroundcolor": "#E5ECF6",
            "gridcolor": "white",
            "gridwidth": 2,
            "linecolor": "white",
            "showbackground": true,
            "ticks": "",
            "zerolinecolor": "white"
           },
           "zaxis": {
            "backgroundcolor": "#E5ECF6",
            "gridcolor": "white",
            "gridwidth": 2,
            "linecolor": "white",
            "showbackground": true,
            "ticks": "",
            "zerolinecolor": "white"
           }
          },
          "shapedefaults": {
           "line": {
            "color": "#2a3f5f"
           }
          },
          "ternary": {
           "aaxis": {
            "gridcolor": "white",
            "linecolor": "white",
            "ticks": ""
           },
           "baxis": {
            "gridcolor": "white",
            "linecolor": "white",
            "ticks": ""
           },
           "bgcolor": "#E5ECF6",
           "caxis": {
            "gridcolor": "white",
            "linecolor": "white",
            "ticks": ""
           }
          },
          "title": {
           "x": 0.05
          },
          "xaxis": {
           "automargin": true,
           "gridcolor": "white",
           "linecolor": "white",
           "ticks": "",
           "title": {
            "standoff": 15
           },
           "zerolinecolor": "white",
           "zerolinewidth": 2
          },
          "yaxis": {
           "automargin": true,
           "gridcolor": "white",
           "linecolor": "white",
           "ticks": "",
           "title": {
            "standoff": 15
           },
           "zerolinecolor": "white",
           "zerolinewidth": 2
          }
         }
        },
        "title": {
         "text": "Napa Valley Wineries"
        },
        "width": 900
       }
      },
      "text/html": [
       "<div>                            <div id=\"4a0ca6ce-b3ba-4fe2-9d6f-658e0ee450e4\" class=\"plotly-graph-div\" style=\"height:900px; width:900px;\"></div>            <script type=\"text/javascript\">                require([\"plotly\"], function(Plotly) {                    window.PLOTLYENV=window.PLOTLYENV || {};                                    if (document.getElementById(\"4a0ca6ce-b3ba-4fe2-9d6f-658e0ee450e4\")) {                    Plotly.newPlot(                        \"4a0ca6ce-b3ba-4fe2-9d6f-658e0ee450e4\",                        [{\"hovertemplate\": \"<b>%{hovertext}</b><br><br>Number of Reviews =%{marker.size}<br>Latitude =%{lat}<br>Longitude =%{lon}<br>Price ($) =%{marker.color}<extra></extra>\", \"hovertext\": [\"Hendry Vineyard and Winery\", \"Domaine Carneros\", \"Paraduxx Winery\", \"Jarvis Winery\", \"White Rock Vineyards\", \"Cuvaison Estate Wines\", \"Clos du Val\", \"William Hill Estate Winery\", \"Shadybrook Estate Winery\", \"Platypus Wine Tours\", \"Ashes & Diamonds\", \"Stag's Leap Wine Cellars\", \"Hagafen Cellars\", \"Saintsbury\", \"Chimney Rock Winery\", \"Stags' Leap Winery\", \"Trefethen Family Vineyards\", \"Verve Napa Valley\", \"Trinitas Cellars\", \"Darioush Winery\", \"Truchard Vineyards\", \"Piazza Del Dotto\", \"Judd's Hill Winery\", \"Palmaz Vineyards\", \"Porter Family Vineyards\", \"Roots Run Deep Winery\", \"Monticello Vineyards - Corley Family Napa Valley\", \"Kieu Hoang Winery\", \"Cornerstone Cellars\", \"Silverado Vineyards\", \"Signorello Estate\", \"O'Brien Estate\", \"Laird Family Estate\", \"Kenzo Estate\", \"Silenus Winery\", \"Napa Sonoma Wine Tasting Driver \\u00ae\", \"Etude Wines\", \"Eleven Eleven Winery\", \"JaM Cellars\", \"Reynolds Family Winery\", \"Goosecross Cellars\", \"Caldwell Vineyard\", \"Trahan Winery\", \"Encanto Vineyards\", \"Fontanella Family Winery\", \"Elyse Winery\", \"Robert Mondavi Winery\", \"Pine Ridge Vineyards\", \"WineINN & DineINN\", \"Chandon\", \"Odette Estate\", \"Mi Sueno Winery\", \"Hyde Estate Winery\", \"Robert Sinskey Vineyards\", \"Scribe Winery\", \"AvinoDos Wines\", \"Yao Family Wines\", \"Ceja Vineyards\", \"Baldacci Family Vineyards\", \"Cakebread Cellars\", \"McKenzie-Mueller Vineyards and Winery\", \"James Cole Winery\", \"Tulocay Winery\", \"Razi Winery\", \"WeWine Napa\", \"Shafer Vineyards\", \"Napa Cellars Tasting Room\", \"Hudson Ranch\", \"John Anthony Vineyards\", \"PF Wine Tours\", \"Materra, Cunat Family Vineyards\", \"Robert Biale Vineyards\", \"The Wine Foundry\", \"Mayacamas Vineyards & Winery\", \"Aonair Wine\", \"Jacuzzi Family Vineyards\", \"Quixote Winery\", \"Carneros Della Notte\", \"Viansa Winery & Marketplace\", \"Tres Sabores Winery\", \"Laces and Limos\", \"Wine Country Drivers\", \"Celani Family Vineyards\", \"Far Niente Winery\", \"Luna Vineyards\", \"Cornerstone Cellars\", \"Opus One Winery\", \"Beau Wine Tours & Limousine Service\", \"Napa Private Tours\", \"Madorom Vineyards\", \"Silver Oak - Oakville\", \"Inglenook\", \"The Caves at Soda Canyon\", \"Madonna Estate\", \"Whetstone Wine Cellars\", \"Grgich Hills Estate\", \"PlumpJack Winery\", \"Lewis Cellars\", \"Larson Family Winery\", \"Rocca Family Vineyards Tasting Room\", \"All Day Wine Tours\", \"Prime Cellars\", \"Beaulieu Vineyard\", \"Hamel Family Wines\", \"T3 - Tesla Tours & Transportation\", \"Sciandri Family Vineyards\", \"Gundlach Bundschu Winery\", \"Napa Valley Wine Trolley\", \"Robert Craig Winery Tasting Salon\", \"B Cellars Vineyards & Winery\", \"St. Supery Estate Vineyards & Winery\", \"Nickel & Nickel\", \"Covert Estate\", \"Napa Bee Driven\", \"Antica Napa Valley\", \"Wine Country Safari\", \"Holman Cellars\", \"Amuse Bouche Winery\", \"Italics Winegrowers\", \"Maritas Vineyard\", \"Falcor Winery\", \"Gloria Ferrer Winery\", \"Havens Winery\", \"We Drive Your Car Napa Valley\", \"Fortunati Vineyards\", \"Promontory Winery\", \"Buena Vista Winery\", \"Oakville Ranch Vineyards\", \"Wine Tour Drivers\", \"Wine Tasting Driver\", \"Robledo Family Winery\", \"Vine Cliff Winery\", \"Boyd Family Vineyard\", \"Matthiasson Wines\", \"Shed Creek Cellar\", \"Reid Family Vineyards\", \"Small Lot Wine Tours\", \"Ancien\", \"Gargiulo Vineyards\", \"Harvest Wine Tours\", \"Roy Estate\", \"Hidden Napa Jeep Wine Tours\", \"Napa Valley Wine Guides\", \"Cliff Lede Vineyards\", \"Smith Devereux Wines\", \"Screaming Eagle Winery\", \"Robinson Family Vineyards\", \"Black Cat Vineyard\", \"Oasis by Hoopes\", \"Wine Me Away\", \"Let's Roll Wine Tours & Designated Drivers\", \"Stewart Cellars\", \"Frias Family Vineyard\", \"Groth Vineyards & Winery\", \"Priest Ranch\", \"Taylor Family Vineyards\", \"Miner Family Winery\", \"Bell Wine Cellars\", \"Bello Family Vineyards\", \"Realm Cellars\", \"Ovid Vineyard\", \"Mira Winery\", \"Elkhorn Peak Cellars\", \"Oberon\", \"Staglin Family Vineyard\", \"Sodaro Estate Winery\", \"Ram's Gate Winery\", \"Quintessential Wines\", \"The Donum Estate\", \"Ideology Cellars\", \"J.Moss\", \"Buccella\", \"Futo Wines\", \"Intimate Wine Tours\", \"Hill Family Estate\", \"Nicholson Ranch Winery\", \"Suisun Creek Winery\", \"Beckstoffer Vineyards\", \"Spelletich Family Winery\", \"Manny\\u00b4s Wine Tours\", \"Hyde de Villaine Wines\", \"Handwritten Wines\", \"Tournesol Wine\", \"Kale Wines\", \"Vezer Family Vineyard\", \"Cardinale Winery\", \"Harlan Estate\", \"Gamble Family Vineyard\", \"Eagle Eye Winery\", \"Favia Erickson Winegrowers\", \"Paradigm Winery\", \"Silver Trident Winery\", \"Savor Napa Valley Wine Tours\", \"Own A Napa Vineyard\", \"Farella Vineyard\", \"Napa Valley Chauffeur\", \"Rudd Estate\", \"The Hess Collection Winery\", \"Bliss Wine Tours\", \"Westwood Estate Wine\", \"RAM Wine Country Tours\", \"My Private Napa Driver\", \"Altamura Winery\", \"Elizabeth Spencer Winery\", \"Napa Valley College Winery\", \"Hanzell Vineyards\", \"Relic Wine Cellars\", \"BOND\", \"Buoncristiani Family Winery\", \"Napa Driving Services\", \"Schug Carneros Estate Winery\", \"Dolce Winery\", \"Valley Wine Warehouse\", \"Blackbird Vineyards\", \"J Moss\", \"Napa Valley Wine Country Tours\", \"Meadowcroft Wines\", \"Scholium Project\", \"Destiny Wine Tours\", \"Forthright Winery\", \"David Arthur Vineyards\", \"Absolutely Fabulous Tours\", \"Stacy's Wine Tours\", \"Ghost Block Estate Wines\", \"Thirty-Seven Winery\", \"Your Driver In Napa Wine Tours\", \"Dynamic Napa Wine Tours\", \"Vinfolio\", \"G V Cellars\", \"Wine & Dine Events\", \"Vezer Family Vineyard\", \"Winter Wineland\", \"Rock Creek Vineyard\", \"Kongsgaard Winery\", \"Classic Convertible Wine Tours\", \"Peter Cellars\", \"Sonoma Valley Wine Trolley\", \"Groth Vineyards & Winery\", \"Simply Driven\", \"Wooden Valley Winery\", \"Godspeed Vineyards\", \"Frazier Winery\", \"Mountain Terraces Vineyard\", \"Vinoce Vineyards\", \"Napa Valley Wine Tours\", \"Blankiet Estate\", \"Keever Vineyards\", \"Valley of the Moon Winery\", \"Ceja Vineyards Wine Salon\", \"Phenomenal Limos & Wine Tours\", \"Napa Your Way\", \"Gemstone Vineyard\", \"Hope & Grace Wines\", \"Lagier Meredith Vineyard\", \"Old Bridge Cellars\", \"Auteur Wines\", \"Fine Wine Tours\", \"Moss Creek Winery\", \"J Gregory Cellars\", \"Dominus Estate\", \"Darms Lane Vineyard\", \"Patz & Hall Winery\", \"Stone Edge Farm Winery\", \"Iconic Wine Tours\", \"Surh Cellars\", \"Master Wine Tours\", \"Bonneau Wines\", \"Designated Drivers Napa Sonoma\", \"Monticelli Brothers\", \"VinRoc Wine Caves\", \"Napa Private Driver\", \"Wine Country Confidential\", \"Roche Winery & Vineyards\", \"Tin Barn Vineyards\", \"Mangels Vineyards\", \"Wine Tours by Shane\", \"Repris Wines\", \"Napa Sonoma Wine Guy\", \"Unique Wine Experience\", \"Robert John Vineyards\", \"BX of Napa Wines\", \"Jade Mountain Winery\", \"Vinum Cellars\", \"Chris Phelps Wines\", \"Driven in Napa Valley\", \"Ilsley Vineyards\", \"WALT Wines\", \"Crosby Roamann\", \"Kapcsandy Family Winery\", \"Homewood Winery\", \"Vellum Wines\", \"Petroni Vineyards\", \"Detert Family Vineyard\", \"Sip California\", \"Amapola Creek\", \"Napa Valley Vics Wine Tours & Car Services\", \"Maroon Wines\", \"Beau Vigne\", \"Wine Compliance Alliance\", \"Random Ridge\", \"Perry's Tours\", \"Andrew's Tours and Transportation\", \"Chanticleer Winery\", \"Destination Napa Valley\", \"Canihan Wines\", \"Liparita Cellars\", \"Galvan Family Cellars\", \"Topaz Wines\", \"Napa Valley Luxury Wine Tours\", \"Sonoma Private Tours\", \"CM Destinations & Consulting\", \"PUNCH Vineyards\", \"CALNAP Winery Tours & Limousine\", \"Last Bottle Wines\", \"Leviathan Winery\", \"Napa Wine Company\", \"EMBRAZEN\", \"Rutas De Napa Wine Tours\", \"Kamen Estate Wines\", \"Agajanian Vineyards & Wine Company\", \"Lail Vineyards\", \"Hawkes\", \"Lindstrom Wines\", \"Lake Sonoma Winery\", \"Noah Vineyards\", \"Oakville Cross\", \"Atlas Peak\", \"Napa Driver Tours\", \"Corner 103\", \"Vine Tours Luxury Transportation\", \"Stagecoach Vineyard\", \"Food & Vine Inc\", \"Elan Vineyards\", \"Chiarello Family Vineyards\", \"CINNAMON'S WINE TOURS\", \"Entre Nous Wines\", \"Justice Grace Vineyards\", \"Bedrock Wine Company\", \"Wine Tasting HdV\", \"Napa Native Wine Tours\", \"Eighth Street Wineries Open House\", \"Amicis Tours\", \"Napa Limousine Inc\", \"Rancho Maria Wines\", \"Selene Wines\", \"Troika Wines\", \"Clarbec Wines\", \"Howell At the Moon\", \"Bardessono Vineyards And Wines\", \"Three Sticks Wines\", \"Lonnie's Wine Tours & Transportation\", \"Dog-Friendly Wine Tours\", \"B. Kosuge Wines\", \"WineZooloo\", \"Coho Wines\", \"Rutherford Appellation Wineries Passport Weekend\", \"Bacchus Wine Tours & Transportation LLC\", \"Mora Estate\", \"Peter Franus Wines\", \"Winery Sixteen 600\", \"Spoto Wines\", \"Napa Terroir Wine Tours\", \"Vino Valley Tours\", \"Destination Drivers Napa & Sonoma\", \"Page Wine Cellars\", \"Don Sebastiani & Sons\", \"Napa Valley Excursions & Wine Tours\", \"Rosalynd Winery\", \"L'Uvaggio di Gi\\u00e1como\", \"Shifflett Estate\", \"Valet of the Moon Wine Tours\", \"Gourmet Food & Wine Tours\", \"Grapeline Wine Tours\", \"Consort Wine Tours\", \"Oro Puro Vineyards\", \"Alluvium Wine Tours\", \"Valley of the Moon Vintage Festival\", \"Signature Transportation of Napa Valley\", \"Sojourn Cellars\", \"Bump Wine Cellars\", \"Sonoma Plaza Wine Experience\", \"Ez Wine Tours\", \"Swanson Wine Tours\", \"Zina Hyde Cunningham Winery\", \"Napa Wine Tours\", \"David Arthur Vineyards\", \"G Wine Cellars\", \"California Wine Tour Services\", \"Calmere Estate Winery\", \"Pina Vineyard Management\", \"West Wine Tours\", \"Ultimate Wine Tours\", \"The Napa Card\", \"Valley Wine Tours\", \"Barrel Stop\", \"Tom Scott Vineyards\", \"Rose Wine Tours\", \"Modus Operandi Cellars\", \"Andretti Winery\", \"Lionstone International\", \"Napa Vinyards\", \"Cook Vinyard Management\", \"Top It Off Bottling\"], \"lat\": [38.32168, 38.25553421701142, 38.43548, 38.357009999999995, 38.377683000000005, 38.251176, 38.3872498, 38.3555817630865, 38.308954, 38.22830820000001, 38.34425, 38.3983978, 38.364751, 38.249959999999994, 38.390201, 38.415754, 38.35623742236329, 38.3177642822266, 38.2471, 38.36752, 38.289128186648, 38.422, 38.3393261000088, 38.323297, 38.2890722, 38.297016, 38.359204, 38.26739, 38.297340000000005, 38.412273, 38.37017, 38.345885353769496, 38.353977203369105, 38.354502000000004, 38.363671999999994, 38.2587139, 38.245847, 38.3249893, 38.297435, 38.3552406, 38.4266242980957, 38.2869459, 38.29745, 38.301109999999994, 38.312613, 38.38361, 38.441421999999996, 38.404739899999996, 38.29204, 38.3963745949975, 38.405559999999994, 38.2598016, 38.253863, 38.425414, 38.2712839, 38.25867, 38.267875671386705, 38.23562255391007, 38.418323571036034, 38.447904, 38.23234, 38.37071513224139, 38.2979965209961, 38.349253999999995, 38.32151629999999, 38.419881, 38.421192, 38.264949, 38.2975791, 38.31865, 38.3612027, 38.35606948287929, 38.260330200000006, 38.36518, 38.3177642822266, 38.21471, 38.4181009125607, 38.2575999, 38.20847, 38.461548, 38.295639, 38.29695, 38.334573, 38.424479, 38.345079999999996, 38.2474144, 38.4414391100535, 38.296694, 38.282759999999996, 38.340156, 38.4404422, 38.458391999999996, 38.401433000000004, 38.255641937255895, 38.3393115, 38.465419, 38.455434000000004, 38.351246, 38.2361999, 38.238209999999995, 38.32923889160156, 38.2973361393272, 38.460159999999995, 38.3458142305308, 38.2968914, 38.281436, 38.278529999999996, 38.296725490059295, 38.30657, 38.449864, 38.4551318502323, 38.443243, 38.307445, 38.291168, 38.427937, 38.305503, 38.259432000000004, 38.30039, 38.3137, 38.302153999999994, 38.256029999999996, 38.223832, 38.301274, 38.3088677, 38.34905, 38.4208658, 38.299502000000004, 38.4610071602159, 38.291542053222656, 38.3364765, 38.24739263290604, 38.447107, 38.3612027, 38.338609999999996, 38.338405360536775, 38.3137, 38.33684, 38.297691, 38.453315, 38.3066965, 38.36585, 38.31832, 38.3841682813529, 38.42407, 38.297447999999996, 38.436927795410206, 38.41086361969035, 38.281490000000005, 38.38795716301858, 38.38326, 38.2968, 38.406152, 38.3348546, 38.449220000000004, 38.400084, 38.2586755, 38.462719, 38.389815999999996, 38.453556060791, 38.400333, 38.463440000000006, 38.38732, 38.228224, 38.2237, 38.442506, 38.315, 38.1741152, 38.29735, 38.231313, 38.3638202476272, 38.2585653718793, 38.39829, 38.416191999999995, 38.283022100000004, 38.4011459350586, 38.255251261885, 38.264721, 38.464284, 38.253694, 38.291168, 38.325776, 38.4001796, 38.2965803877752, 38.291168, 38.2940805917162, 38.428591, 38.436927795410206, 38.429147, 38.341023, 38.293479999999995, 38.420559999999995, 38.400496999999994, 38.3213996887207, 38.2575999, 38.312621, 38.3233943, 38.4578819274902, 38.190715000000004, 38.38326, 38.2915583, 38.398939, 38.3077323, 38.364395, 38.458979181419295, 38.274349, 38.313430022374604, 38.411912, 38.43462, 38.40336, 38.3214, 38.233022670015295, 38.4240773, 38.2104, 38.3606279211163, 38.258674, 38.2136164, 38.2272243158716, 38.26635, 38.33656, 38.33031, 38.465325, 38.3170536, 38.195021999999994, 38.43597877573925, 38.150444, 38.3177642822266, 38.296690000000005, 38.220461, 38.24296221671643, 38.4348204, 38.285969, 38.293415, 38.268109, 38.436451, 38.2975381, 38.2578964073869, 38.260459999999995, 38.3687531, 38.338537, 38.276559999999996, 38.38908, 38.38326, 38.357009000000005, 38.43888, 38.3177642822266, 38.400724200000006, 38.40245, 38.2931453, 38.2460468131242, 38.31918579999999, 38.204909846218705, 38.40245, 38.402992248535206, 38.3747445, 38.2950233, 38.29397897266821, 38.2895385, 38.44593, 38.3349609, 38.4048461914062, 38.36385, 38.26397, 38.2890739440918, 38.2798408, 38.31832, 38.3581390380859, 38.2595709, 38.3288089, 38.33379, 38.42648, 38.297370910644496, 38.23927688598629, 38.24168, 38.25905584491571, 38.2646811628515, 38.31865, 38.345924, 38.291168, 38.32923889160156, 38.297093, 38.3177642822266, 38.21761, 38.223094, 38.3029507537766, 38.3177642822266, 38.425523999999996, 38.294342041015604, 38.2603912353516, 38.40245, 38.24556, 38.31364, 38.3426659738006, 38.428924, 38.291859, 38.33422, 38.152153015136705, 38.3180046081543, 38.4065716, 38.2965202331543, 38.3702, 38.25877, 38.3177642822266, 38.3899895846844, 38.31777, 38.273313, 38.436786, 38.205394, 38.337379999999996, 38.342125, 38.2827606201172, 38.297370910644496, 38.293898, 38.310683000000004, 38.218437194824205, 38.4366, 38.4363635, 38.22224, 38.3177642822266, 38.2915849246945, 38.246978759765604, 38.46024, 38.294241, 38.407973, 38.29312, 38.390735, 38.44308, 38.31364, 38.17406, 38.291934999999995, 38.3214, 38.4379, 38.2870740762265, 38.446128845214794, 38.401611096057, 38.3078, 38.432010999999996, 38.242694, 38.293233824561206, 38.326141357421896, 38.336529999999996, 38.262165100000004, 38.38326, 38.292613, 38.2924731, 38.31777, 38.245232, 38.28882, 38.2975381, 38.4015781, 38.2621635, 38.2930030822754, 38.29737, 38.29695, 38.3113199134266, 38.29695, 38.46024, 38.2726044, 38.294652, 38.299079895019496, 38.290421, 38.436927795410206, 38.3210506945237, 38.3071213, 38.29188, 38.293864899999996, 38.29187, 38.3186492919922, 38.266387741610366, 38.29695, 38.4366, 38.2890739440918, 38.2927444, 38.2825, 38.4019490823782, 38.29695, 38.3177642822266, 38.293415, 38.3221893310547, 38.2913799, 38.2915015, 38.291919708252, 38.31777, 38.28691, 38.2921374, 38.32322, 38.46024, 38.3130398821026, 38.27259, 38.230914, 38.46518, 38.286640000000006, 38.2676277160645, 38.31364, 38.29188, 38.31364, 38.425273, 38.28691, 38.298858642578104, 38.32151629999999, 38.262062, 38.38326, 38.2862614, 38.26248], \"legendgroup\": \"\", \"lon\": [-122.34481000000001, -122.3513909116566, -122.35143000000001, -122.21361999999999, -122.286565, -122.34708400000001, -122.31250630000001, -122.270102462921, -122.24821899999999, -122.2539009, -122.32628400000002, -122.32439270000002, -122.28943500000001, -122.32538000000001, -122.31384299999999, -122.31888400000001, -122.32299104997801, -122.29174041748001, -122.274639, -122.29423999999999, -122.317485809326, -122.38811000000001, -122.27976149046002, -122.235727, -122.2273244, -122.291339, -122.3106703, -122.3487, -122.28893000000001, -122.336858, -122.29481000000001, -122.33976825643451, -122.335693359375, -122.204136, -122.33921299999999, -122.2717063, -122.3150228, -122.286911, -122.2893433, -122.2869398, -122.352890014648, -122.23581850000001, -122.28838, -122.28228899999999, -122.373269, -122.35451, -122.40954599999999, -122.33277, -122.29213999999999, -122.364698011115, -122.32773, -122.2720075, -122.330619, -122.337002, -122.4230626, -122.2736, -122.24878692626999, -122.31443098305695, -122.33724299999999, -122.409682, -122.33191000000001, -122.298978236493, -122.25869750976601, -122.283146, -122.30410790000002, -122.326894, -122.39017700000001, -122.36593500000001, -122.2891414, -122.29993999999999, -122.3118133, -122.30843067169201, -122.2742081, -122.42326000000001, -122.29174041748001, -122.45388500000001, -122.323620009856, -122.339651, -122.45180500000001, -122.44453600000001, -122.2999753, -122.2868, -122.293094, -122.404132, -122.28383999999998, -122.27207659999998, -122.39972029669902, -122.2924582, -122.27123, -122.28194599999999, -122.3809788, -122.423796, -122.30133000000001, -122.341018676758, -122.2623851, -122.42898899999999, -122.37411100000001, -122.307404, -122.4483, -122.26942, -122.2959213256836, -122.28831382142599, -122.42329099999999, -122.494017806885, -122.2889887, -122.23796000000002, -122.42058, -122.289325989441, -122.28251999999999, -122.37326399999999, -122.41456055411601, -122.40676299999998, -122.247464, -122.28627900000001, -122.274933, -122.2915887, -122.27444799999999, -122.28603899999999, -122.250615, -122.24986899999999, -122.276279, -122.47227600000001, -122.2874659, -122.2917507, -122.30949, -122.41496210000001, -122.42194199999999, -122.358888437234, -122.28694152832031, -122.3229962, -122.48350054331848, -122.350549, -122.3118133, -122.35076000000001, -122.10164499999999, -122.34831000000001, -122.31545, -122.235151, -122.366836, -122.28827199999999, -122.27873000000001, -122.29177, -122.285937502441, -122.34478700000001, -122.289345, -122.402816772461, -122.31935492416466, -122.24771399999999, -122.34952523506253, -122.31306000000001, -122.286, -122.3664433, -122.3199497, -122.379524, -122.35902800000001, -122.2716831, -122.37109299999999, -122.34574099999999, -122.414756774902, -122.33066399999998, -122.34397, -122.34846999999999, -122.219554, -122.26616999999999, -122.42444499999999, -122.23313, -122.45049820000001, -122.28764, -122.40286599999999, -122.33911094477502, -122.273029536009, -122.37058, -122.41236599999999, -122.27128370000001, -122.359878540039, -122.3913731858, -122.11991499999999, -122.395302, -122.275972, -122.28627900000001, -122.28308940000001, -122.35933130000001, -122.223340272903, -122.286064423279, -122.12020345369, -122.390506, -122.402816772461, -122.38689199999999, -122.12588799999999, -122.24972, -122.39378, -122.360031, -122.304061889648, -122.33965, -122.22863999999998, -122.3018681, -122.366798400879, -122.27033200000001, -122.31306000000001, -122.4574775, -122.373129, -122.3058297, -122.17517420000001, -122.42206067842599, -122.277736, -122.462327066159, -122.29330300000001, -122.40057, -122.30048000000001, -122.30406, -122.47125148773199, -122.402102, -122.25724, -122.31809463568399, -122.273574, -122.2533803, -122.457089424133, -122.33292, -122.2587, -122.34388999999999, -122.345735, -122.3019206, -122.24115, -122.40191144110308, -122.4489975, -122.29174041748001, -122.29246, -122.261675, -122.1690453203512, -122.2958469, -122.107518, -122.47058899999999, -122.163499, -122.2475128, -122.28686499999999, -122.45004057884199, -122.44134, -122.34131299999999, -122.312223, -122.112879, -122.43916999999999, -122.31306000000001, -122.466577, -122.48222, -122.29174041748001, -122.3837445, -122.36106000000001, -122.4593959, -122.42282741057501, -122.31011299999999, -122.115153021875, -122.36106000000001, -122.36212158203101, -122.3879989, -122.29388909999999, -122.458705292053, -122.2915722, -122.19492, -122.3201294, -122.37353515625, -122.35121000000001, -122.43761, -122.39685821533199, -122.256173, -122.29177, -122.263832092285, -122.4395611, -122.33658290000001, -122.32668000000001, -122.24922, -122.29046630859399, -122.33062744140601, -122.48098, -122.434944500494, -122.11363149811199, -122.29993999999999, -122.458795, -122.28627900000001, -122.2959213256836, -122.28895700000001, -122.29174041748001, -122.26923000000001, -122.263104, -122.314904261924, -122.29174041748001, -122.328653, -122.45832824706999, -122.274131774902, -122.36106000000001, -122.42121000000002, -122.29476000000001, -122.47730255126999, -122.417375, -122.45803559999999, -122.48064, -122.265014648438, -122.244613647461, -122.3670058, -122.2880859375, -122.46171299999999, -122.24878999999999, -122.29174041748001, -122.36078068613999, -122.29173999999999, -122.43121200000002, -122.4027311, -122.14233300000001, -122.31894, -122.32106, -122.27123260498001, -122.29046630859399, -122.296768, -122.298832, -122.27011108398399, -122.40258999999999, -122.40235279999999, -122.26713000000001, -122.29174041748001, -122.45612814245001, -122.276596069336, -122.42023, -122.458823, -122.32692, -122.45936999999999, -122.346252, -122.38796, -122.29476000000001, -122.25726, -122.459152, -122.30406, -122.2956, -122.28713518551399, -122.24951171875, -122.362370916077, -122.30571, -122.392476, -122.42277299999999, -122.456364071755, -122.282272338867, -122.32298999999999, -122.4399338, -122.31306000000001, -122.30146699999999, -122.4591225, -122.29173999999999, -122.422307, -122.49468999999999, -122.28686499999999, -122.3608105, -122.43993470000001, -122.282814025879, -122.29047, -122.2868, -122.487856708467, -122.2868, -122.42023, -122.42913970000001, -122.45741799999999, -122.28537750244101, -122.459446, -122.402816772461, -122.293578274548, -122.3335037, -122.45726, -122.30022, -122.45988, -122.299942016602, -122.12993134347964, -122.2868, -122.40258999999999, -122.39685821533199, -122.4570054, -122.45971000000002, -122.36280441284201, -122.2868, -122.29174041748001, -122.47058899999999, -122.28855133056601, -122.45576000000001, -122.45839, -122.45630645751999, -122.29173999999999, -122.46547, -122.45652040000002, -122.30206000000001, -122.42023, -122.234573364258, -122.43762, -122.34886100000001, -122.37511, -122.46553, -122.48998260498001, -122.29476000000001, -122.45726, -122.29476000000001, -122.34676599999999, -122.46547, -122.28521728515601, -122.30410790000002, -122.44203600000002, -122.31306000000001, -122.43489299999999, -122.44207], \"marker\": {\"color\": [2, 2, 2, 3, 2, 2, 2, 2, 2, 2, 2, 3, 2, 2, 3, 3, 2, 2, 2, 3, 2, 4, 2, 3, 3, 2, 2, 2, 2, 2, 2, 2, 2, 3, 2, 2, 2, 3, 2, 2, 2, 3, 2, 2, 2, 2, 2, 3, 2, 2, 2, 2, 2, 3, 2, 2, 2, 2, 2, 2, 2, 3, 2, 2, 2, 3, 2, 2, 2, 2, 2, 2, 1, 4, 3, 2, 2, 2, 2, 2, 2, 2, 3, 3, 2, 2, 4, 2, 2, 2, 3, 3, 3, 2, 2, 2, 2, 4, 2, 2, 2, 2, 2, 3, 2, 3, 2, 2, 2, 2, 2, 3, 2, 2, 3, 2, 2, 3, 3, 3, 2, 2, 3, 2, 2, 4, 2, 2, 2, 2, 2, 4, 2, 2, 2, 2, 2, 2, 2, 2, 4, 2, 2, 2, 2, 4, 2, 2, 2, 2, 2, 2, 2, 2, 2, 3, 2, 2, 2, 3, 3, 2, 2, 2, 3, 2, 3, 2, 3, 2, 2, 4, 4, 2, 2, 2, 2, 2, 3, 2, 3, 3, 2, 2, 2, 4, 4, 3, 2, 2, 2, 2, 2, 2, 2, 2, 3, 2, 2, 2, 2, 2, 3, 2, 2, 3, 2, 3, 3, 2, 2, 2, 2, 3, 2, 2, 2, 2, 2, 2, 3, 2, 2, 2, 2, 2, 2, 2, 2, 2, 2, 1, 2, 2, 2, 2, 2, 3, 2, 2, 2, 2, 4, 2, 2, 2, 2, 2, 2, 2, 2, 4, 2, 2, 2, 3, 2, 3, 2, 4, 2, 3, 2, 2, 2, 2, 2, 2, 2, 2, 2, 2, 2, 2, 2, 2, 3, 2, 2, 2, 2, 3, 2, 2, 2, 3, 2, 2, 3, 2, 2, 2, 2, 1, 2, 2, 2, 3, 2, 2, 2, 2, 2, 2, 2, 2, 2, 2, 2, 2, 2, 2, 2, 3, 2, 2, 2, 2, 3, 2, 2, 2, 2, 2, 2, 2, 2, 2, 2, 2, 3, 2, 2, 2, 2, 3, 3, 2, 3, 2, 2, 2, 2, 2, 2, 2, 2, 2, 2, 2, 2, 2, 2, 2, 2, 2, 2, 2, 2, 2, 3, 2, 2, 2, 2, 2, 2, 2, 2, 2, 2, 2, 2, 2, 2, 2, 1, 2, 2, 2, 2, 2, 2, 2, 2, 2, 2, 2, 2, 2, 2, 2, 2, 2, 2, 4, 2, 2, 2, 2, 2, 2, 2], \"coloraxis\": \"coloraxis\", \"size\": [658, 2239, 373, 209, 55, 327, 328, 186, 179, 896, 179, 487, 459, 136, 308, 222, 350, 41, 205, 552, 85, 74, 275, 124, 57, 54, 128, 88, 178, 311, 142, 187, 163, 68, 121, 130, 176, 36, 162, 127, 387, 49, 99, 2, 52, 117, 1097, 307, 5, 1449, 78, 34, 4, 338, 322, 24, 81, 79, 112, 788, 56, 130, 14, 36, 10, 45, 376, 4, 140, 55, 43, 125, 10, 11, 63, 821, 61, 16, 624, 126, 8, 23, 2, 162, 230, 7, 465, 349, 60, 3, 489, 367, 10, 173, 87, 589, 179, 13, 566, 12, 24, 31, 412, 97, 24, 7, 567, 143, 54, 157, 461, 130, 4, 55, 8, 9, 38, 3, 14, 9, 70, 836, 8, 12, 14, 15, 449, 3, 72, 18, 217, 45, 9, 1, 2, 27, 50, 4, 21, 7, 1, 23, 56, 226, 1, 6, 21, 12, 15, 19, 13, 49, 6, 57, 170, 17, 239, 123, 1, 11, 12, 6, 12, 2, 13, 13, 440, 2, 33, 1, 2, 3, 4, 34, 160, 320, 1, 3, 18, 56, 22, 49, 10, 1, 81, 48, 5, 19, 7, 6, 53, 64, 6, 1, 7, 19, 18, 7, 18, 106, 13, 3, 12, 213, 3, 85, 10, 3, 5, 4, 167, 1, 1, 10, 4, 214, 120, 5, 23, 1, 18, 14, 8, 14, 2, 25, 33, 2, 73, 7, 107, 11, 15, 1, 20, 73, 100, 2, 21, 130, 2, 8, 1, 1, 8, 11, 20, 129, 32, 4, 27, 4, 171, 4, 2, 18, 8, 1, 4, 6, 2, 67, 8, 3, 2, 7, 15, 50, 1, 1, 21, 15, 19, 83, 7, 8, 59, 4, 12, 2, 5, 1, 1, 1, 5, 2, 151, 5, 5, 116, 1, 96, 3, 1, 1, 7, 1, 33, 1, 1, 8, 2, 2, 5, 6, 2, 9, 1, 6, 1, 3, 1, 15, 54, 1, 39, 1, 4, 54, 1, 2, 71, 1, 56, 2, 1, 1, 21, 113, 4, 2, 1, 5, 6, 4, 2, 13, 19, 2, 13, 2, 17, 12, 70, 1, 7, 1, 2, 1, 1, 5, 3, 1, 2, 2, 2, 13, 1, 1, 24, 4, 8, 2, 15, 6, 1, 10, 5, 1, 1, 33, 62, 27, 3, 1, 3, 1, 6, 62, 91, 1, 3, 17, 36, 1, 1, 1, 4, 68, 1, 14, 4, 6, 42, 1, 1, 7, 1, 311, 1, 1, 1, 2], \"sizemode\": \"area\", \"sizeref\": 9.95111111111111}, \"mode\": \"markers\", \"name\": \"\", \"showlegend\": false, \"subplot\": \"mapbox\", \"type\": \"scattermapbox\"}],                        {\"coloraxis\": {\"cmax\": 3, \"cmin\": 0, \"colorbar\": {\"title\": {\"text\": \"Price ($) \"}}, \"colorscale\": [[0.0, \"rgb(255,255,255)\"], [0.125, \"rgb(240,240,240)\"], [0.25, \"rgb(217,217,217)\"], [0.375, \"rgb(189,189,189)\"], [0.5, \"rgb(150,150,150)\"], [0.625, \"rgb(115,115,115)\"], [0.75, \"rgb(82,82,82)\"], [0.875, \"rgb(37,37,37)\"], [1.0, \"rgb(0,0,0)\"]]}, \"height\": 900, \"legend\": {\"itemsizing\": \"constant\", \"tracegroupgap\": 0}, \"mapbox\": {\"accesstoken\": \"pk.eyJ1IjoiYm1jY2FydHk1MDUiLCJhIjoiY2tvbnJvdnFkMDNuZzJ2cHBwbTd1d2dibiJ9.m6-cNXAgqZ4WZZUWhoTjKA\", \"center\": {\"lat\": 38.3295241953953, \"lon\": -122.3340846822716}, \"domain\": {\"x\": [0.0, 1.0], \"y\": [0.0, 1.0]}, \"style\": \"light\", \"zoom\": 9.8}, \"template\": {\"data\": {\"bar\": [{\"error_x\": {\"color\": \"#2a3f5f\"}, \"error_y\": {\"color\": \"#2a3f5f\"}, \"marker\": {\"line\": {\"color\": \"#E5ECF6\", \"width\": 0.5}}, \"type\": \"bar\"}], \"barpolar\": [{\"marker\": {\"line\": {\"color\": \"#E5ECF6\", \"width\": 0.5}}, \"type\": \"barpolar\"}], \"carpet\": [{\"aaxis\": {\"endlinecolor\": \"#2a3f5f\", \"gridcolor\": \"white\", \"linecolor\": \"white\", \"minorgridcolor\": \"white\", \"startlinecolor\": \"#2a3f5f\"}, \"baxis\": {\"endlinecolor\": \"#2a3f5f\", \"gridcolor\": \"white\", \"linecolor\": \"white\", \"minorgridcolor\": \"white\", \"startlinecolor\": \"#2a3f5f\"}, \"type\": \"carpet\"}], \"choropleth\": [{\"colorbar\": {\"outlinewidth\": 0, \"ticks\": \"\"}, \"type\": \"choropleth\"}], \"contour\": [{\"colorbar\": {\"outlinewidth\": 0, \"ticks\": \"\"}, \"colorscale\": [[0.0, \"#0d0887\"], [0.1111111111111111, \"#46039f\"], [0.2222222222222222, \"#7201a8\"], [0.3333333333333333, \"#9c179e\"], [0.4444444444444444, \"#bd3786\"], [0.5555555555555556, \"#d8576b\"], [0.6666666666666666, \"#ed7953\"], [0.7777777777777778, \"#fb9f3a\"], [0.8888888888888888, \"#fdca26\"], [1.0, \"#f0f921\"]], \"type\": \"contour\"}], \"contourcarpet\": [{\"colorbar\": {\"outlinewidth\": 0, \"ticks\": \"\"}, \"type\": \"contourcarpet\"}], \"heatmap\": [{\"colorbar\": {\"outlinewidth\": 0, \"ticks\": \"\"}, \"colorscale\": [[0.0, \"#0d0887\"], [0.1111111111111111, \"#46039f\"], [0.2222222222222222, \"#7201a8\"], [0.3333333333333333, \"#9c179e\"], [0.4444444444444444, \"#bd3786\"], [0.5555555555555556, \"#d8576b\"], [0.6666666666666666, \"#ed7953\"], [0.7777777777777778, \"#fb9f3a\"], [0.8888888888888888, \"#fdca26\"], [1.0, \"#f0f921\"]], \"type\": \"heatmap\"}], \"heatmapgl\": [{\"colorbar\": {\"outlinewidth\": 0, \"ticks\": \"\"}, \"colorscale\": [[0.0, \"#0d0887\"], [0.1111111111111111, \"#46039f\"], [0.2222222222222222, \"#7201a8\"], [0.3333333333333333, \"#9c179e\"], [0.4444444444444444, \"#bd3786\"], [0.5555555555555556, \"#d8576b\"], [0.6666666666666666, \"#ed7953\"], [0.7777777777777778, \"#fb9f3a\"], [0.8888888888888888, \"#fdca26\"], [1.0, \"#f0f921\"]], \"type\": \"heatmapgl\"}], \"histogram\": [{\"marker\": {\"colorbar\": {\"outlinewidth\": 0, \"ticks\": \"\"}}, \"type\": \"histogram\"}], \"histogram2d\": [{\"colorbar\": {\"outlinewidth\": 0, \"ticks\": \"\"}, \"colorscale\": [[0.0, \"#0d0887\"], [0.1111111111111111, \"#46039f\"], [0.2222222222222222, \"#7201a8\"], [0.3333333333333333, \"#9c179e\"], [0.4444444444444444, \"#bd3786\"], [0.5555555555555556, \"#d8576b\"], [0.6666666666666666, \"#ed7953\"], [0.7777777777777778, \"#fb9f3a\"], [0.8888888888888888, \"#fdca26\"], [1.0, \"#f0f921\"]], \"type\": \"histogram2d\"}], \"histogram2dcontour\": [{\"colorbar\": {\"outlinewidth\": 0, \"ticks\": \"\"}, \"colorscale\": [[0.0, \"#0d0887\"], [0.1111111111111111, \"#46039f\"], [0.2222222222222222, \"#7201a8\"], [0.3333333333333333, \"#9c179e\"], [0.4444444444444444, \"#bd3786\"], [0.5555555555555556, \"#d8576b\"], [0.6666666666666666, \"#ed7953\"], [0.7777777777777778, \"#fb9f3a\"], [0.8888888888888888, \"#fdca26\"], [1.0, \"#f0f921\"]], \"type\": \"histogram2dcontour\"}], \"mesh3d\": [{\"colorbar\": {\"outlinewidth\": 0, \"ticks\": \"\"}, \"type\": \"mesh3d\"}], \"parcoords\": [{\"line\": {\"colorbar\": {\"outlinewidth\": 0, \"ticks\": \"\"}}, \"type\": \"parcoords\"}], \"pie\": [{\"automargin\": true, \"type\": \"pie\"}], \"scatter\": [{\"marker\": {\"colorbar\": {\"outlinewidth\": 0, \"ticks\": \"\"}}, \"type\": \"scatter\"}], \"scatter3d\": [{\"line\": {\"colorbar\": {\"outlinewidth\": 0, \"ticks\": \"\"}}, \"marker\": {\"colorbar\": {\"outlinewidth\": 0, \"ticks\": \"\"}}, \"type\": \"scatter3d\"}], \"scattercarpet\": [{\"marker\": {\"colorbar\": {\"outlinewidth\": 0, \"ticks\": \"\"}}, \"type\": \"scattercarpet\"}], \"scattergeo\": [{\"marker\": {\"colorbar\": {\"outlinewidth\": 0, \"ticks\": \"\"}}, \"type\": \"scattergeo\"}], \"scattergl\": [{\"marker\": {\"colorbar\": {\"outlinewidth\": 0, \"ticks\": \"\"}}, \"type\": \"scattergl\"}], \"scattermapbox\": [{\"marker\": {\"colorbar\": {\"outlinewidth\": 0, \"ticks\": \"\"}}, \"type\": \"scattermapbox\"}], \"scatterpolar\": [{\"marker\": {\"colorbar\": {\"outlinewidth\": 0, \"ticks\": \"\"}}, \"type\": \"scatterpolar\"}], \"scatterpolargl\": [{\"marker\": {\"colorbar\": {\"outlinewidth\": 0, \"ticks\": \"\"}}, \"type\": \"scatterpolargl\"}], \"scatterternary\": [{\"marker\": {\"colorbar\": {\"outlinewidth\": 0, \"ticks\": \"\"}}, \"type\": \"scatterternary\"}], \"surface\": [{\"colorbar\": {\"outlinewidth\": 0, \"ticks\": \"\"}, \"colorscale\": [[0.0, \"#0d0887\"], [0.1111111111111111, \"#46039f\"], [0.2222222222222222, \"#7201a8\"], [0.3333333333333333, \"#9c179e\"], [0.4444444444444444, \"#bd3786\"], [0.5555555555555556, \"#d8576b\"], [0.6666666666666666, \"#ed7953\"], [0.7777777777777778, \"#fb9f3a\"], [0.8888888888888888, \"#fdca26\"], [1.0, \"#f0f921\"]], \"type\": \"surface\"}], \"table\": [{\"cells\": {\"fill\": {\"color\": \"#EBF0F8\"}, \"line\": {\"color\": \"white\"}}, \"header\": {\"fill\": {\"color\": \"#C8D4E3\"}, \"line\": {\"color\": \"white\"}}, \"type\": \"table\"}]}, \"layout\": {\"annotationdefaults\": {\"arrowcolor\": \"#2a3f5f\", \"arrowhead\": 0, \"arrowwidth\": 1}, \"coloraxis\": {\"colorbar\": {\"outlinewidth\": 0, \"ticks\": \"\"}}, \"colorscale\": {\"diverging\": [[0, \"#8e0152\"], [0.1, \"#c51b7d\"], [0.2, \"#de77ae\"], [0.3, \"#f1b6da\"], [0.4, \"#fde0ef\"], [0.5, \"#f7f7f7\"], [0.6, \"#e6f5d0\"], [0.7, \"#b8e186\"], [0.8, \"#7fbc41\"], [0.9, \"#4d9221\"], [1, \"#276419\"]], \"sequential\": [[0.0, \"#0d0887\"], [0.1111111111111111, \"#46039f\"], [0.2222222222222222, \"#7201a8\"], [0.3333333333333333, \"#9c179e\"], [0.4444444444444444, \"#bd3786\"], [0.5555555555555556, \"#d8576b\"], [0.6666666666666666, \"#ed7953\"], [0.7777777777777778, \"#fb9f3a\"], [0.8888888888888888, \"#fdca26\"], [1.0, \"#f0f921\"]], \"sequentialminus\": [[0.0, \"#0d0887\"], [0.1111111111111111, \"#46039f\"], [0.2222222222222222, \"#7201a8\"], [0.3333333333333333, \"#9c179e\"], [0.4444444444444444, \"#bd3786\"], [0.5555555555555556, \"#d8576b\"], [0.6666666666666666, \"#ed7953\"], [0.7777777777777778, \"#fb9f3a\"], [0.8888888888888888, \"#fdca26\"], [1.0, \"#f0f921\"]]}, \"colorway\": [\"#636efa\", \"#EF553B\", \"#00cc96\", \"#ab63fa\", \"#FFA15A\", \"#19d3f3\", \"#FF6692\", \"#B6E880\", \"#FF97FF\", \"#FECB52\"], \"font\": {\"color\": \"#2a3f5f\"}, \"geo\": {\"bgcolor\": \"white\", \"lakecolor\": \"white\", \"landcolor\": \"#E5ECF6\", \"showlakes\": true, \"showland\": true, \"subunitcolor\": \"white\"}, \"hoverlabel\": {\"align\": \"left\"}, \"hovermode\": \"closest\", \"mapbox\": {\"style\": \"light\"}, \"paper_bgcolor\": \"white\", \"plot_bgcolor\": \"#E5ECF6\", \"polar\": {\"angularaxis\": {\"gridcolor\": \"white\", \"linecolor\": \"white\", \"ticks\": \"\"}, \"bgcolor\": \"#E5ECF6\", \"radialaxis\": {\"gridcolor\": \"white\", \"linecolor\": \"white\", \"ticks\": \"\"}}, \"scene\": {\"xaxis\": {\"backgroundcolor\": \"#E5ECF6\", \"gridcolor\": \"white\", \"gridwidth\": 2, \"linecolor\": \"white\", \"showbackground\": true, \"ticks\": \"\", \"zerolinecolor\": \"white\"}, \"yaxis\": {\"backgroundcolor\": \"#E5ECF6\", \"gridcolor\": \"white\", \"gridwidth\": 2, \"linecolor\": \"white\", \"showbackground\": true, \"ticks\": \"\", \"zerolinecolor\": \"white\"}, \"zaxis\": {\"backgroundcolor\": \"#E5ECF6\", \"gridcolor\": \"white\", \"gridwidth\": 2, \"linecolor\": \"white\", \"showbackground\": true, \"ticks\": \"\", \"zerolinecolor\": \"white\"}}, \"shapedefaults\": {\"line\": {\"color\": \"#2a3f5f\"}}, \"ternary\": {\"aaxis\": {\"gridcolor\": \"white\", \"linecolor\": \"white\", \"ticks\": \"\"}, \"baxis\": {\"gridcolor\": \"white\", \"linecolor\": \"white\", \"ticks\": \"\"}, \"bgcolor\": \"#E5ECF6\", \"caxis\": {\"gridcolor\": \"white\", \"linecolor\": \"white\", \"ticks\": \"\"}}, \"title\": {\"x\": 0.05}, \"xaxis\": {\"automargin\": true, \"gridcolor\": \"white\", \"linecolor\": \"white\", \"ticks\": \"\", \"title\": {\"standoff\": 15}, \"zerolinecolor\": \"white\", \"zerolinewidth\": 2}, \"yaxis\": {\"automargin\": true, \"gridcolor\": \"white\", \"linecolor\": \"white\", \"ticks\": \"\", \"title\": {\"standoff\": 15}, \"zerolinecolor\": \"white\", \"zerolinewidth\": 2}}}, \"title\": {\"text\": \"Napa Valley Wineries\"}, \"width\": 900},                        {\"responsive\": true}                    ).then(function(){\n",
       "                            \n",
       "var gd = document.getElementById('4a0ca6ce-b3ba-4fe2-9d6f-658e0ee450e4');\n",
       "var x = new MutationObserver(function (mutations, observer) {{\n",
       "        var display = window.getComputedStyle(gd).display;\n",
       "        if (!display || display === 'none') {{\n",
       "            console.log([gd, 'removed!']);\n",
       "            Plotly.purge(gd);\n",
       "            observer.disconnect();\n",
       "        }}\n",
       "}});\n",
       "\n",
       "// Listen for the removal of the full notebook cells\n",
       "var notebookContainer = gd.closest('#notebook-container');\n",
       "if (notebookContainer) {{\n",
       "    x.observe(notebookContainer, {childList: true});\n",
       "}}\n",
       "\n",
       "// Listen for the clearing of the current output cell\n",
       "var outputEl = gd.closest('.output');\n",
       "if (outputEl) {{\n",
       "    x.observe(outputEl, {childList: true});\n",
       "}}\n",
       "\n",
       "                        })                };                });            </script>        </div>"
      ]
     },
     "metadata": {},
     "output_type": "display_data"
    },
    {
     "data": {
      "text/plain": [
       "<Figure size 432x288 with 0 Axes>"
      ]
     },
     "metadata": {},
     "output_type": "display_data"
    }
   ],
   "source": [
    "# Creating geospatial view of Napa Valley Wineries\n",
    "\n",
    "with open(r'C:\\Users\\bmcca\\.secret\\mapbox_api.json') as f:\n",
    "    token = json.load(f)\n",
    "\n",
    "open(r'C:\\Users\\bmcca\\.secret\\mapbox_api.json').read()\n",
    "    \n",
    "token = token['token']\n",
    "\n",
    "px.set_mapbox_access_token(token)\n",
    "\n",
    "fig = px.scatter_mapbox(df_nv, lat= \"latitude\", lon= \"longitude\", \n",
    "                        color= \"price_converted\", range_color= (0, 3),\n",
    "                        labels= {\"price_converted\": \"Price ($) \",\n",
    "                                 \"latitude\":\"Latitude \",\n",
    "                                 \"longitude\":\"Longitude \",\n",
    "                                 'review_count':'Number of Reviews '},\n",
    "                        size= 'review_count', hover_name = df_nv[\"name\"],\n",
    "                        color_continuous_scale=px.colors.sequential.Greys,\n",
    "                        size_max=15, zoom=9.8, title='Napa Valley Wineries',\n",
    "                        mapbox_style='light', width=900, height=900)\n",
    "fig.show()"
   ]
  },
  {
   "cell_type": "code",
   "execution_count": 58,
   "metadata": {
    "ExecuteTime": {
     "end_time": "2021-05-15T20:59:17.586281Z",
     "start_time": "2021-05-15T20:59:17.509324Z"
    },
    "hidden": true
   },
   "outputs": [
    {
     "data": {
      "application/vnd.plotly.v1+json": {
       "config": {
        "plotlyServerURL": "https://plot.ly"
       },
       "data": [
        {
         "hovertemplate": "<b>%{hovertext}</b><br><br>Number of Reviews =%{marker.size}<br>Latitude =%{lat}<br>Longitude =%{lon}<extra></extra>",
         "hovertext": [
          "Hendry Vineyard and Winery",
          "Domaine Carneros",
          "Paraduxx Winery",
          "Jarvis Winery",
          "White Rock Vineyards",
          "Cuvaison Estate Wines",
          "Clos du Val",
          "William Hill Estate Winery",
          "Shadybrook Estate Winery",
          "Platypus Wine Tours",
          "Ashes & Diamonds",
          "Stag's Leap Wine Cellars",
          "Hagafen Cellars",
          "Saintsbury",
          "Chimney Rock Winery",
          "Stags' Leap Winery",
          "Trefethen Family Vineyards",
          "Verve Napa Valley",
          "Trinitas Cellars",
          "Darioush Winery",
          "Truchard Vineyards",
          "Piazza Del Dotto",
          "Judd's Hill Winery",
          "Palmaz Vineyards",
          "Porter Family Vineyards",
          "Roots Run Deep Winery",
          "Monticello Vineyards - Corley Family Napa Valley",
          "Kieu Hoang Winery",
          "Cornerstone Cellars",
          "Silverado Vineyards",
          "Signorello Estate",
          "O'Brien Estate",
          "Laird Family Estate",
          "Kenzo Estate",
          "Silenus Winery",
          "Napa Sonoma Wine Tasting Driver ®",
          "Etude Wines",
          "Eleven Eleven Winery",
          "JaM Cellars",
          "Reynolds Family Winery",
          "Goosecross Cellars",
          "Caldwell Vineyard",
          "Trahan Winery",
          "Encanto Vineyards",
          "Fontanella Family Winery",
          "Elyse Winery",
          "Robert Mondavi Winery",
          "Pine Ridge Vineyards",
          "WineINN & DineINN",
          "Chandon",
          "Odette Estate",
          "Mi Sueno Winery",
          "Hyde Estate Winery",
          "Robert Sinskey Vineyards",
          "Scribe Winery",
          "AvinoDos Wines",
          "Yao Family Wines",
          "Ceja Vineyards",
          "Baldacci Family Vineyards",
          "Cakebread Cellars",
          "McKenzie-Mueller Vineyards and Winery",
          "James Cole Winery",
          "Tulocay Winery",
          "Razi Winery",
          "WeWine Napa",
          "Shafer Vineyards",
          "Napa Cellars Tasting Room",
          "Hudson Ranch",
          "John Anthony Vineyards",
          "PF Wine Tours",
          "Materra, Cunat Family Vineyards",
          "Robert Biale Vineyards",
          "The Wine Foundry",
          "Mayacamas Vineyards & Winery",
          "Aonair Wine",
          "Jacuzzi Family Vineyards",
          "Quixote Winery",
          "Carneros Della Notte",
          "Viansa Winery & Marketplace",
          "Tres Sabores Winery",
          "Laces and Limos",
          "Wine Country Drivers",
          "Celani Family Vineyards",
          "Far Niente Winery",
          "Luna Vineyards",
          "Cornerstone Cellars",
          "Opus One Winery",
          "Beau Wine Tours & Limousine Service",
          "Napa Private Tours",
          "Madorom Vineyards",
          "Silver Oak - Oakville",
          "Inglenook",
          "The Caves at Soda Canyon",
          "Madonna Estate",
          "Whetstone Wine Cellars",
          "Grgich Hills Estate",
          "PlumpJack Winery",
          "Lewis Cellars",
          "Larson Family Winery",
          "Rocca Family Vineyards Tasting Room",
          "All Day Wine Tours",
          "Prime Cellars",
          "Beaulieu Vineyard",
          "Hamel Family Wines",
          "T3 - Tesla Tours & Transportation",
          "Sciandri Family Vineyards",
          "Gundlach Bundschu Winery",
          "Napa Valley Wine Trolley",
          "Robert Craig Winery Tasting Salon",
          "B Cellars Vineyards & Winery",
          "St. Supery Estate Vineyards & Winery",
          "Nickel & Nickel",
          "Covert Estate",
          "Napa Bee Driven",
          "Antica Napa Valley",
          "Wine Country Safari",
          "Holman Cellars",
          "Amuse Bouche Winery",
          "Italics Winegrowers",
          "Maritas Vineyard",
          "Falcor Winery",
          "Gloria Ferrer Winery",
          "Havens Winery",
          "We Drive Your Car Napa Valley",
          "Fortunati Vineyards",
          "Promontory Winery",
          "Buena Vista Winery",
          "Oakville Ranch Vineyards",
          "Wine Tour Drivers",
          "Wine Tasting Driver",
          "Robledo Family Winery",
          "Vine Cliff Winery",
          "Boyd Family Vineyard",
          "Matthiasson Wines",
          "Shed Creek Cellar",
          "Reid Family Vineyards",
          "Small Lot Wine Tours",
          "Ancien",
          "Gargiulo Vineyards",
          "Harvest Wine Tours",
          "Roy Estate",
          "Hidden Napa Jeep Wine Tours",
          "Napa Valley Wine Guides",
          "Cliff Lede Vineyards",
          "Smith Devereux Wines",
          "Screaming Eagle Winery",
          "Robinson Family Vineyards",
          "Black Cat Vineyard",
          "Oasis by Hoopes",
          "Wine Me Away",
          "Let's Roll Wine Tours & Designated Drivers",
          "Stewart Cellars",
          "Frias Family Vineyard",
          "Groth Vineyards & Winery",
          "Priest Ranch",
          "Taylor Family Vineyards",
          "Miner Family Winery",
          "Bell Wine Cellars",
          "Bello Family Vineyards",
          "Realm Cellars",
          "Ovid Vineyard",
          "Mira Winery",
          "Elkhorn Peak Cellars",
          "Oberon",
          "Staglin Family Vineyard",
          "Sodaro Estate Winery",
          "Ram's Gate Winery",
          "Quintessential Wines",
          "The Donum Estate",
          "Ideology Cellars",
          "J.Moss",
          "Buccella",
          "Futo Wines",
          "Intimate Wine Tours",
          "Hill Family Estate",
          "Nicholson Ranch Winery",
          "Suisun Creek Winery",
          "Beckstoffer Vineyards",
          "Spelletich Family Winery",
          "Manny´s Wine Tours",
          "Hyde de Villaine Wines",
          "Handwritten Wines",
          "Tournesol Wine",
          "Kale Wines",
          "Vezer Family Vineyard",
          "Cardinale Winery",
          "Harlan Estate",
          "Gamble Family Vineyard",
          "Eagle Eye Winery",
          "Favia Erickson Winegrowers",
          "Paradigm Winery",
          "Silver Trident Winery",
          "Savor Napa Valley Wine Tours",
          "Own A Napa Vineyard",
          "Farella Vineyard",
          "Napa Valley Chauffeur",
          "Rudd Estate",
          "The Hess Collection Winery",
          "Bliss Wine Tours",
          "Westwood Estate Wine",
          "RAM Wine Country Tours",
          "My Private Napa Driver",
          "Altamura Winery",
          "Elizabeth Spencer Winery",
          "Napa Valley College Winery",
          "Hanzell Vineyards",
          "Relic Wine Cellars",
          "BOND",
          "Buoncristiani Family Winery",
          "Napa Driving Services",
          "Schug Carneros Estate Winery",
          "Dolce Winery",
          "Valley Wine Warehouse",
          "Blackbird Vineyards",
          "J Moss",
          "Napa Valley Wine Country Tours",
          "Meadowcroft Wines",
          "Scholium Project",
          "Destiny Wine Tours",
          "Forthright Winery",
          "David Arthur Vineyards",
          "Absolutely Fabulous Tours",
          "Stacy's Wine Tours",
          "Ghost Block Estate Wines",
          "Thirty-Seven Winery",
          "Your Driver In Napa Wine Tours",
          "Dynamic Napa Wine Tours",
          "Vinfolio",
          "G V Cellars",
          "Wine & Dine Events",
          "Vezer Family Vineyard",
          "Winter Wineland",
          "Rock Creek Vineyard",
          "Kongsgaard Winery",
          "Classic Convertible Wine Tours",
          "Peter Cellars",
          "Sonoma Valley Wine Trolley",
          "Groth Vineyards & Winery",
          "Simply Driven",
          "Wooden Valley Winery",
          "Godspeed Vineyards",
          "Frazier Winery",
          "Mountain Terraces Vineyard",
          "Vinoce Vineyards",
          "Napa Valley Wine Tours",
          "Blankiet Estate",
          "Keever Vineyards",
          "Valley of the Moon Winery",
          "Ceja Vineyards Wine Salon",
          "Phenomenal Limos & Wine Tours",
          "Napa Your Way",
          "Gemstone Vineyard",
          "Hope & Grace Wines",
          "Lagier Meredith Vineyard",
          "Old Bridge Cellars",
          "Auteur Wines",
          "Fine Wine Tours",
          "Moss Creek Winery",
          "J Gregory Cellars",
          "Dominus Estate",
          "Darms Lane Vineyard",
          "Patz & Hall Winery",
          "Stone Edge Farm Winery",
          "Iconic Wine Tours",
          "Surh Cellars",
          "Master Wine Tours",
          "Bonneau Wines",
          "Designated Drivers Napa Sonoma",
          "Monticelli Brothers",
          "VinRoc Wine Caves",
          "Napa Private Driver",
          "Wine Country Confidential",
          "Roche Winery & Vineyards",
          "Tin Barn Vineyards",
          "Mangels Vineyards",
          "Wine Tours by Shane",
          "Repris Wines",
          "Napa Sonoma Wine Guy",
          "Unique Wine Experience",
          "Robert John Vineyards",
          "BX of Napa Wines",
          "Jade Mountain Winery",
          "Vinum Cellars",
          "Chris Phelps Wines",
          "Driven in Napa Valley",
          "Ilsley Vineyards",
          "WALT Wines",
          "Crosby Roamann",
          "Kapcsandy Family Winery",
          "Homewood Winery",
          "Vellum Wines",
          "Petroni Vineyards",
          "Detert Family Vineyard",
          "Sip California",
          "Amapola Creek",
          "Napa Valley Vics Wine Tours & Car Services",
          "Maroon Wines",
          "Beau Vigne",
          "Wine Compliance Alliance",
          "Random Ridge",
          "Perry's Tours",
          "Andrew's Tours and Transportation",
          "Chanticleer Winery",
          "Destination Napa Valley",
          "Canihan Wines",
          "Liparita Cellars",
          "Galvan Family Cellars",
          "Topaz Wines",
          "Napa Valley Luxury Wine Tours",
          "Sonoma Private Tours",
          "CM Destinations & Consulting",
          "PUNCH Vineyards",
          "CALNAP Winery Tours & Limousine",
          "Last Bottle Wines",
          "Leviathan Winery",
          "Napa Wine Company",
          "EMBRAZEN",
          "Rutas De Napa Wine Tours",
          "Kamen Estate Wines",
          "Agajanian Vineyards & Wine Company",
          "Lail Vineyards",
          "Hawkes",
          "Lindstrom Wines",
          "Lake Sonoma Winery",
          "Noah Vineyards",
          "Oakville Cross",
          "Atlas Peak",
          "Napa Driver Tours",
          "Corner 103",
          "Vine Tours Luxury Transportation",
          "Stagecoach Vineyard",
          "Food & Vine Inc",
          "Elan Vineyards",
          "Chiarello Family Vineyards",
          "CINNAMON'S WINE TOURS",
          "Entre Nous Wines",
          "Justice Grace Vineyards",
          "Bedrock Wine Company",
          "Wine Tasting HdV",
          "Napa Native Wine Tours",
          "Eighth Street Wineries Open House",
          "Amicis Tours",
          "Napa Limousine Inc",
          "Rancho Maria Wines",
          "Selene Wines",
          "Troika Wines",
          "Clarbec Wines",
          "Howell At the Moon",
          "Bardessono Vineyards And Wines",
          "Three Sticks Wines",
          "Lonnie's Wine Tours & Transportation",
          "Dog-Friendly Wine Tours",
          "B. Kosuge Wines",
          "WineZooloo",
          "Coho Wines",
          "Rutherford Appellation Wineries Passport Weekend",
          "Bacchus Wine Tours & Transportation LLC",
          "Mora Estate",
          "Peter Franus Wines",
          "Winery Sixteen 600",
          "Spoto Wines",
          "Napa Terroir Wine Tours",
          "Vino Valley Tours",
          "Destination Drivers Napa & Sonoma",
          "Page Wine Cellars",
          "Don Sebastiani & Sons",
          "Napa Valley Excursions & Wine Tours",
          "Rosalynd Winery",
          "L'Uvaggio di Giácomo",
          "Shifflett Estate",
          "Valet of the Moon Wine Tours",
          "Gourmet Food & Wine Tours",
          "Grapeline Wine Tours",
          "Consort Wine Tours",
          "Oro Puro Vineyards",
          "Alluvium Wine Tours",
          "Valley of the Moon Vintage Festival",
          "Signature Transportation of Napa Valley",
          "Sojourn Cellars",
          "Bump Wine Cellars",
          "Sonoma Plaza Wine Experience",
          "Ez Wine Tours",
          "Swanson Wine Tours",
          "Zina Hyde Cunningham Winery",
          "Napa Wine Tours",
          "David Arthur Vineyards",
          "G Wine Cellars",
          "California Wine Tour Services",
          "Calmere Estate Winery",
          "Pina Vineyard Management",
          "West Wine Tours",
          "Ultimate Wine Tours",
          "The Napa Card",
          "Valley Wine Tours",
          "Barrel Stop",
          "Tom Scott Vineyards",
          "Rose Wine Tours",
          "Modus Operandi Cellars",
          "Andretti Winery",
          "Lionstone International",
          "Napa Vinyards",
          "Cook Vinyard Management",
          "Top It Off Bottling"
         ],
         "lat": [
          38.32168,
          38.25553421701142,
          38.43548,
          38.357009999999995,
          38.377683000000005,
          38.251176,
          38.3872498,
          38.3555817630865,
          38.308954,
          38.22830820000001,
          38.34425,
          38.3983978,
          38.364751,
          38.249959999999994,
          38.390201,
          38.415754,
          38.35623742236329,
          38.3177642822266,
          38.2471,
          38.36752,
          38.289128186648,
          38.422,
          38.3393261000088,
          38.323297,
          38.2890722,
          38.297016,
          38.359204,
          38.26739,
          38.297340000000005,
          38.412273,
          38.37017,
          38.345885353769496,
          38.353977203369105,
          38.354502000000004,
          38.363671999999994,
          38.2587139,
          38.245847,
          38.3249893,
          38.297435,
          38.3552406,
          38.4266242980957,
          38.2869459,
          38.29745,
          38.301109999999994,
          38.312613,
          38.38361,
          38.441421999999996,
          38.404739899999996,
          38.29204,
          38.3963745949975,
          38.405559999999994,
          38.2598016,
          38.253863,
          38.425414,
          38.2712839,
          38.25867,
          38.267875671386705,
          38.23562255391007,
          38.418323571036034,
          38.447904,
          38.23234,
          38.37071513224139,
          38.2979965209961,
          38.349253999999995,
          38.32151629999999,
          38.419881,
          38.421192,
          38.264949,
          38.2975791,
          38.31865,
          38.3612027,
          38.35606948287929,
          38.260330200000006,
          38.36518,
          38.3177642822266,
          38.21471,
          38.4181009125607,
          38.2575999,
          38.20847,
          38.461548,
          38.295639,
          38.29695,
          38.334573,
          38.424479,
          38.345079999999996,
          38.2474144,
          38.4414391100535,
          38.296694,
          38.282759999999996,
          38.340156,
          38.4404422,
          38.458391999999996,
          38.401433000000004,
          38.255641937255895,
          38.3393115,
          38.465419,
          38.455434000000004,
          38.351246,
          38.2361999,
          38.238209999999995,
          38.32923889160156,
          38.2973361393272,
          38.460159999999995,
          38.3458142305308,
          38.2968914,
          38.281436,
          38.278529999999996,
          38.296725490059295,
          38.30657,
          38.449864,
          38.4551318502323,
          38.443243,
          38.307445,
          38.291168,
          38.427937,
          38.305503,
          38.259432000000004,
          38.30039,
          38.3137,
          38.302153999999994,
          38.256029999999996,
          38.223832,
          38.301274,
          38.3088677,
          38.34905,
          38.4208658,
          38.299502000000004,
          38.4610071602159,
          38.291542053222656,
          38.3364765,
          38.24739263290604,
          38.447107,
          38.3612027,
          38.338609999999996,
          38.338405360536775,
          38.3137,
          38.33684,
          38.297691,
          38.453315,
          38.3066965,
          38.36585,
          38.31832,
          38.3841682813529,
          38.42407,
          38.297447999999996,
          38.436927795410206,
          38.41086361969035,
          38.281490000000005,
          38.38795716301858,
          38.38326,
          38.2968,
          38.406152,
          38.3348546,
          38.449220000000004,
          38.400084,
          38.2586755,
          38.462719,
          38.389815999999996,
          38.453556060791,
          38.400333,
          38.463440000000006,
          38.38732,
          38.228224,
          38.2237,
          38.442506,
          38.315,
          38.1741152,
          38.29735,
          38.231313,
          38.3638202476272,
          38.2585653718793,
          38.39829,
          38.416191999999995,
          38.283022100000004,
          38.4011459350586,
          38.255251261885,
          38.264721,
          38.464284,
          38.253694,
          38.291168,
          38.325776,
          38.4001796,
          38.2965803877752,
          38.291168,
          38.2940805917162,
          38.428591,
          38.436927795410206,
          38.429147,
          38.341023,
          38.293479999999995,
          38.420559999999995,
          38.400496999999994,
          38.3213996887207,
          38.2575999,
          38.312621,
          38.3233943,
          38.4578819274902,
          38.190715000000004,
          38.38326,
          38.2915583,
          38.398939,
          38.3077323,
          38.364395,
          38.458979181419295,
          38.274349,
          38.313430022374604,
          38.411912,
          38.43462,
          38.40336,
          38.3214,
          38.233022670015295,
          38.4240773,
          38.2104,
          38.3606279211163,
          38.258674,
          38.2136164,
          38.2272243158716,
          38.26635,
          38.33656,
          38.33031,
          38.465325,
          38.3170536,
          38.195021999999994,
          38.43597877573925,
          38.150444,
          38.3177642822266,
          38.296690000000005,
          38.220461,
          38.24296221671643,
          38.4348204,
          38.285969,
          38.293415,
          38.268109,
          38.436451,
          38.2975381,
          38.2578964073869,
          38.260459999999995,
          38.3687531,
          38.338537,
          38.276559999999996,
          38.38908,
          38.38326,
          38.357009000000005,
          38.43888,
          38.3177642822266,
          38.400724200000006,
          38.40245,
          38.2931453,
          38.2460468131242,
          38.31918579999999,
          38.204909846218705,
          38.40245,
          38.402992248535206,
          38.3747445,
          38.2950233,
          38.29397897266821,
          38.2895385,
          38.44593,
          38.3349609,
          38.4048461914062,
          38.36385,
          38.26397,
          38.2890739440918,
          38.2798408,
          38.31832,
          38.3581390380859,
          38.2595709,
          38.3288089,
          38.33379,
          38.42648,
          38.297370910644496,
          38.23927688598629,
          38.24168,
          38.25905584491571,
          38.2646811628515,
          38.31865,
          38.345924,
          38.291168,
          38.32923889160156,
          38.297093,
          38.3177642822266,
          38.21761,
          38.223094,
          38.3029507537766,
          38.3177642822266,
          38.425523999999996,
          38.294342041015604,
          38.2603912353516,
          38.40245,
          38.24556,
          38.31364,
          38.3426659738006,
          38.428924,
          38.291859,
          38.33422,
          38.152153015136705,
          38.3180046081543,
          38.4065716,
          38.2965202331543,
          38.3702,
          38.25877,
          38.3177642822266,
          38.3899895846844,
          38.31777,
          38.273313,
          38.436786,
          38.205394,
          38.337379999999996,
          38.342125,
          38.2827606201172,
          38.297370910644496,
          38.293898,
          38.310683000000004,
          38.218437194824205,
          38.4366,
          38.4363635,
          38.22224,
          38.3177642822266,
          38.2915849246945,
          38.246978759765604,
          38.46024,
          38.294241,
          38.407973,
          38.29312,
          38.390735,
          38.44308,
          38.31364,
          38.17406,
          38.291934999999995,
          38.3214,
          38.4379,
          38.2870740762265,
          38.446128845214794,
          38.401611096057,
          38.3078,
          38.432010999999996,
          38.242694,
          38.293233824561206,
          38.326141357421896,
          38.336529999999996,
          38.262165100000004,
          38.38326,
          38.292613,
          38.2924731,
          38.31777,
          38.245232,
          38.28882,
          38.2975381,
          38.4015781,
          38.2621635,
          38.2930030822754,
          38.29737,
          38.29695,
          38.3113199134266,
          38.29695,
          38.46024,
          38.2726044,
          38.294652,
          38.299079895019496,
          38.290421,
          38.436927795410206,
          38.3210506945237,
          38.3071213,
          38.29188,
          38.293864899999996,
          38.29187,
          38.3186492919922,
          38.266387741610366,
          38.29695,
          38.4366,
          38.2890739440918,
          38.2927444,
          38.2825,
          38.4019490823782,
          38.29695,
          38.3177642822266,
          38.293415,
          38.3221893310547,
          38.2913799,
          38.2915015,
          38.291919708252,
          38.31777,
          38.28691,
          38.2921374,
          38.32322,
          38.46024,
          38.3130398821026,
          38.27259,
          38.230914,
          38.46518,
          38.286640000000006,
          38.2676277160645,
          38.31364,
          38.29188,
          38.31364,
          38.425273,
          38.28691,
          38.298858642578104,
          38.32151629999999,
          38.262062,
          38.38326,
          38.2862614,
          38.26248
         ],
         "legendgroup": "",
         "lon": [
          -122.34481000000001,
          -122.3513909116566,
          -122.35143000000001,
          -122.21361999999999,
          -122.286565,
          -122.34708400000001,
          -122.31250630000001,
          -122.270102462921,
          -122.24821899999999,
          -122.2539009,
          -122.32628400000002,
          -122.32439270000002,
          -122.28943500000001,
          -122.32538000000001,
          -122.31384299999999,
          -122.31888400000001,
          -122.32299104997801,
          -122.29174041748001,
          -122.274639,
          -122.29423999999999,
          -122.317485809326,
          -122.38811000000001,
          -122.27976149046002,
          -122.235727,
          -122.2273244,
          -122.291339,
          -122.3106703,
          -122.3487,
          -122.28893000000001,
          -122.336858,
          -122.29481000000001,
          -122.33976825643451,
          -122.335693359375,
          -122.204136,
          -122.33921299999999,
          -122.2717063,
          -122.3150228,
          -122.286911,
          -122.2893433,
          -122.2869398,
          -122.352890014648,
          -122.23581850000001,
          -122.28838,
          -122.28228899999999,
          -122.373269,
          -122.35451,
          -122.40954599999999,
          -122.33277,
          -122.29213999999999,
          -122.364698011115,
          -122.32773,
          -122.2720075,
          -122.330619,
          -122.337002,
          -122.4230626,
          -122.2736,
          -122.24878692626999,
          -122.31443098305695,
          -122.33724299999999,
          -122.409682,
          -122.33191000000001,
          -122.298978236493,
          -122.25869750976601,
          -122.283146,
          -122.30410790000002,
          -122.326894,
          -122.39017700000001,
          -122.36593500000001,
          -122.2891414,
          -122.29993999999999,
          -122.3118133,
          -122.30843067169201,
          -122.2742081,
          -122.42326000000001,
          -122.29174041748001,
          -122.45388500000001,
          -122.323620009856,
          -122.339651,
          -122.45180500000001,
          -122.44453600000001,
          -122.2999753,
          -122.2868,
          -122.293094,
          -122.404132,
          -122.28383999999998,
          -122.27207659999998,
          -122.39972029669902,
          -122.2924582,
          -122.27123,
          -122.28194599999999,
          -122.3809788,
          -122.423796,
          -122.30133000000001,
          -122.341018676758,
          -122.2623851,
          -122.42898899999999,
          -122.37411100000001,
          -122.307404,
          -122.4483,
          -122.26942,
          -122.2959213256836,
          -122.28831382142599,
          -122.42329099999999,
          -122.494017806885,
          -122.2889887,
          -122.23796000000002,
          -122.42058,
          -122.289325989441,
          -122.28251999999999,
          -122.37326399999999,
          -122.41456055411601,
          -122.40676299999998,
          -122.247464,
          -122.28627900000001,
          -122.274933,
          -122.2915887,
          -122.27444799999999,
          -122.28603899999999,
          -122.250615,
          -122.24986899999999,
          -122.276279,
          -122.47227600000001,
          -122.2874659,
          -122.2917507,
          -122.30949,
          -122.41496210000001,
          -122.42194199999999,
          -122.358888437234,
          -122.28694152832031,
          -122.3229962,
          -122.48350054331848,
          -122.350549,
          -122.3118133,
          -122.35076000000001,
          -122.10164499999999,
          -122.34831000000001,
          -122.31545,
          -122.235151,
          -122.366836,
          -122.28827199999999,
          -122.27873000000001,
          -122.29177,
          -122.285937502441,
          -122.34478700000001,
          -122.289345,
          -122.402816772461,
          -122.31935492416466,
          -122.24771399999999,
          -122.34952523506253,
          -122.31306000000001,
          -122.286,
          -122.3664433,
          -122.3199497,
          -122.379524,
          -122.35902800000001,
          -122.2716831,
          -122.37109299999999,
          -122.34574099999999,
          -122.414756774902,
          -122.33066399999998,
          -122.34397,
          -122.34846999999999,
          -122.219554,
          -122.26616999999999,
          -122.42444499999999,
          -122.23313,
          -122.45049820000001,
          -122.28764,
          -122.40286599999999,
          -122.33911094477502,
          -122.273029536009,
          -122.37058,
          -122.41236599999999,
          -122.27128370000001,
          -122.359878540039,
          -122.3913731858,
          -122.11991499999999,
          -122.395302,
          -122.275972,
          -122.28627900000001,
          -122.28308940000001,
          -122.35933130000001,
          -122.223340272903,
          -122.286064423279,
          -122.12020345369,
          -122.390506,
          -122.402816772461,
          -122.38689199999999,
          -122.12588799999999,
          -122.24972,
          -122.39378,
          -122.360031,
          -122.304061889648,
          -122.33965,
          -122.22863999999998,
          -122.3018681,
          -122.366798400879,
          -122.27033200000001,
          -122.31306000000001,
          -122.4574775,
          -122.373129,
          -122.3058297,
          -122.17517420000001,
          -122.42206067842599,
          -122.277736,
          -122.462327066159,
          -122.29330300000001,
          -122.40057,
          -122.30048000000001,
          -122.30406,
          -122.47125148773199,
          -122.402102,
          -122.25724,
          -122.31809463568399,
          -122.273574,
          -122.2533803,
          -122.457089424133,
          -122.33292,
          -122.2587,
          -122.34388999999999,
          -122.345735,
          -122.3019206,
          -122.24115,
          -122.40191144110308,
          -122.4489975,
          -122.29174041748001,
          -122.29246,
          -122.261675,
          -122.1690453203512,
          -122.2958469,
          -122.107518,
          -122.47058899999999,
          -122.163499,
          -122.2475128,
          -122.28686499999999,
          -122.45004057884199,
          -122.44134,
          -122.34131299999999,
          -122.312223,
          -122.112879,
          -122.43916999999999,
          -122.31306000000001,
          -122.466577,
          -122.48222,
          -122.29174041748001,
          -122.3837445,
          -122.36106000000001,
          -122.4593959,
          -122.42282741057501,
          -122.31011299999999,
          -122.115153021875,
          -122.36106000000001,
          -122.36212158203101,
          -122.3879989,
          -122.29388909999999,
          -122.458705292053,
          -122.2915722,
          -122.19492,
          -122.3201294,
          -122.37353515625,
          -122.35121000000001,
          -122.43761,
          -122.39685821533199,
          -122.256173,
          -122.29177,
          -122.263832092285,
          -122.4395611,
          -122.33658290000001,
          -122.32668000000001,
          -122.24922,
          -122.29046630859399,
          -122.33062744140601,
          -122.48098,
          -122.434944500494,
          -122.11363149811199,
          -122.29993999999999,
          -122.458795,
          -122.28627900000001,
          -122.2959213256836,
          -122.28895700000001,
          -122.29174041748001,
          -122.26923000000001,
          -122.263104,
          -122.314904261924,
          -122.29174041748001,
          -122.328653,
          -122.45832824706999,
          -122.274131774902,
          -122.36106000000001,
          -122.42121000000002,
          -122.29476000000001,
          -122.47730255126999,
          -122.417375,
          -122.45803559999999,
          -122.48064,
          -122.265014648438,
          -122.244613647461,
          -122.3670058,
          -122.2880859375,
          -122.46171299999999,
          -122.24878999999999,
          -122.29174041748001,
          -122.36078068613999,
          -122.29173999999999,
          -122.43121200000002,
          -122.4027311,
          -122.14233300000001,
          -122.31894,
          -122.32106,
          -122.27123260498001,
          -122.29046630859399,
          -122.296768,
          -122.298832,
          -122.27011108398399,
          -122.40258999999999,
          -122.40235279999999,
          -122.26713000000001,
          -122.29174041748001,
          -122.45612814245001,
          -122.276596069336,
          -122.42023,
          -122.458823,
          -122.32692,
          -122.45936999999999,
          -122.346252,
          -122.38796,
          -122.29476000000001,
          -122.25726,
          -122.459152,
          -122.30406,
          -122.2956,
          -122.28713518551399,
          -122.24951171875,
          -122.362370916077,
          -122.30571,
          -122.392476,
          -122.42277299999999,
          -122.456364071755,
          -122.282272338867,
          -122.32298999999999,
          -122.4399338,
          -122.31306000000001,
          -122.30146699999999,
          -122.4591225,
          -122.29173999999999,
          -122.422307,
          -122.49468999999999,
          -122.28686499999999,
          -122.3608105,
          -122.43993470000001,
          -122.282814025879,
          -122.29047,
          -122.2868,
          -122.487856708467,
          -122.2868,
          -122.42023,
          -122.42913970000001,
          -122.45741799999999,
          -122.28537750244101,
          -122.459446,
          -122.402816772461,
          -122.293578274548,
          -122.3335037,
          -122.45726,
          -122.30022,
          -122.45988,
          -122.299942016602,
          -122.12993134347964,
          -122.2868,
          -122.40258999999999,
          -122.39685821533199,
          -122.4570054,
          -122.45971000000002,
          -122.36280441284201,
          -122.2868,
          -122.29174041748001,
          -122.47058899999999,
          -122.28855133056601,
          -122.45576000000001,
          -122.45839,
          -122.45630645751999,
          -122.29173999999999,
          -122.46547,
          -122.45652040000002,
          -122.30206000000001,
          -122.42023,
          -122.234573364258,
          -122.43762,
          -122.34886100000001,
          -122.37511,
          -122.46553,
          -122.48998260498001,
          -122.29476000000001,
          -122.45726,
          -122.29476000000001,
          -122.34676599999999,
          -122.46547,
          -122.28521728515601,
          -122.30410790000002,
          -122.44203600000002,
          -122.31306000000001,
          -122.43489299999999,
          -122.44207
         ],
         "marker": {
          "color": "#636efa",
          "size": [
           658,
           2239,
           373,
           209,
           55,
           327,
           328,
           186,
           179,
           896,
           179,
           487,
           459,
           136,
           308,
           222,
           350,
           41,
           205,
           552,
           85,
           74,
           275,
           124,
           57,
           54,
           128,
           88,
           178,
           311,
           142,
           187,
           163,
           68,
           121,
           130,
           176,
           36,
           162,
           127,
           387,
           49,
           99,
           2,
           52,
           117,
           1097,
           307,
           5,
           1449,
           78,
           34,
           4,
           338,
           322,
           24,
           81,
           79,
           112,
           788,
           56,
           130,
           14,
           36,
           10,
           45,
           376,
           4,
           140,
           55,
           43,
           125,
           10,
           11,
           63,
           821,
           61,
           16,
           624,
           126,
           8,
           23,
           2,
           162,
           230,
           7,
           465,
           349,
           60,
           3,
           489,
           367,
           10,
           173,
           87,
           589,
           179,
           13,
           566,
           12,
           24,
           31,
           412,
           97,
           24,
           7,
           567,
           143,
           54,
           157,
           461,
           130,
           4,
           55,
           8,
           9,
           38,
           3,
           14,
           9,
           70,
           836,
           8,
           12,
           14,
           15,
           449,
           3,
           72,
           18,
           217,
           45,
           9,
           1,
           2,
           27,
           50,
           4,
           21,
           7,
           1,
           23,
           56,
           226,
           1,
           6,
           21,
           12,
           15,
           19,
           13,
           49,
           6,
           57,
           170,
           17,
           239,
           123,
           1,
           11,
           12,
           6,
           12,
           2,
           13,
           13,
           440,
           2,
           33,
           1,
           2,
           3,
           4,
           34,
           160,
           320,
           1,
           3,
           18,
           56,
           22,
           49,
           10,
           1,
           81,
           48,
           5,
           19,
           7,
           6,
           53,
           64,
           6,
           1,
           7,
           19,
           18,
           7,
           18,
           106,
           13,
           3,
           12,
           213,
           3,
           85,
           10,
           3,
           5,
           4,
           167,
           1,
           1,
           10,
           4,
           214,
           120,
           5,
           23,
           1,
           18,
           14,
           8,
           14,
           2,
           25,
           33,
           2,
           73,
           7,
           107,
           11,
           15,
           1,
           20,
           73,
           100,
           2,
           21,
           130,
           2,
           8,
           1,
           1,
           8,
           11,
           20,
           129,
           32,
           4,
           27,
           4,
           171,
           4,
           2,
           18,
           8,
           1,
           4,
           6,
           2,
           67,
           8,
           3,
           2,
           7,
           15,
           50,
           1,
           1,
           21,
           15,
           19,
           83,
           7,
           8,
           59,
           4,
           12,
           2,
           5,
           1,
           1,
           1,
           5,
           2,
           151,
           5,
           5,
           116,
           1,
           96,
           3,
           1,
           1,
           7,
           1,
           33,
           1,
           1,
           8,
           2,
           2,
           5,
           6,
           2,
           9,
           1,
           6,
           1,
           3,
           1,
           15,
           54,
           1,
           39,
           1,
           4,
           54,
           1,
           2,
           71,
           1,
           56,
           2,
           1,
           1,
           21,
           113,
           4,
           2,
           1,
           5,
           6,
           4,
           2,
           13,
           19,
           2,
           13,
           2,
           17,
           12,
           70,
           1,
           7,
           1,
           2,
           1,
           1,
           5,
           3,
           1,
           2,
           2,
           2,
           13,
           1,
           1,
           24,
           4,
           8,
           2,
           15,
           6,
           1,
           10,
           5,
           1,
           1,
           33,
           62,
           27,
           3,
           1,
           3,
           1,
           6,
           62,
           91,
           1,
           3,
           17,
           36,
           1,
           1,
           1,
           4,
           68,
           1,
           14,
           4,
           6,
           42,
           1,
           1,
           7,
           1,
           311,
           1,
           1,
           1,
           2
          ],
          "sizemode": "area",
          "sizeref": 9.95111111111111
         },
         "mode": "markers",
         "name": "",
         "showlegend": false,
         "subplot": "mapbox",
         "type": "scattermapbox"
        }
       ],
       "layout": {
        "height": 900,
        "legend": {
         "itemsizing": "constant",
         "tracegroupgap": 0
        },
        "mapbox": {
         "accesstoken": "pk.eyJ1IjoiYm1jY2FydHk1MDUiLCJhIjoiY2tvbnJvdnFkMDNuZzJ2cHBwbTd1d2dibiJ9.m6-cNXAgqZ4WZZUWhoTjKA",
         "center": {
          "lat": 38.3295241953953,
          "lon": -122.3340846822716
         },
         "domain": {
          "x": [
           0,
           1
          ],
          "y": [
           0,
           1
          ]
         },
         "style": "light",
         "zoom": 10.25
        },
        "template": {
         "data": {
          "bar": [
           {
            "error_x": {
             "color": "#2a3f5f"
            },
            "error_y": {
             "color": "#2a3f5f"
            },
            "marker": {
             "line": {
              "color": "#E5ECF6",
              "width": 0.5
             }
            },
            "type": "bar"
           }
          ],
          "barpolar": [
           {
            "marker": {
             "line": {
              "color": "#E5ECF6",
              "width": 0.5
             }
            },
            "type": "barpolar"
           }
          ],
          "carpet": [
           {
            "aaxis": {
             "endlinecolor": "#2a3f5f",
             "gridcolor": "white",
             "linecolor": "white",
             "minorgridcolor": "white",
             "startlinecolor": "#2a3f5f"
            },
            "baxis": {
             "endlinecolor": "#2a3f5f",
             "gridcolor": "white",
             "linecolor": "white",
             "minorgridcolor": "white",
             "startlinecolor": "#2a3f5f"
            },
            "type": "carpet"
           }
          ],
          "choropleth": [
           {
            "colorbar": {
             "outlinewidth": 0,
             "ticks": ""
            },
            "type": "choropleth"
           }
          ],
          "contour": [
           {
            "colorbar": {
             "outlinewidth": 0,
             "ticks": ""
            },
            "colorscale": [
             [
              0,
              "#0d0887"
             ],
             [
              0.1111111111111111,
              "#46039f"
             ],
             [
              0.2222222222222222,
              "#7201a8"
             ],
             [
              0.3333333333333333,
              "#9c179e"
             ],
             [
              0.4444444444444444,
              "#bd3786"
             ],
             [
              0.5555555555555556,
              "#d8576b"
             ],
             [
              0.6666666666666666,
              "#ed7953"
             ],
             [
              0.7777777777777778,
              "#fb9f3a"
             ],
             [
              0.8888888888888888,
              "#fdca26"
             ],
             [
              1,
              "#f0f921"
             ]
            ],
            "type": "contour"
           }
          ],
          "contourcarpet": [
           {
            "colorbar": {
             "outlinewidth": 0,
             "ticks": ""
            },
            "type": "contourcarpet"
           }
          ],
          "heatmap": [
           {
            "colorbar": {
             "outlinewidth": 0,
             "ticks": ""
            },
            "colorscale": [
             [
              0,
              "#0d0887"
             ],
             [
              0.1111111111111111,
              "#46039f"
             ],
             [
              0.2222222222222222,
              "#7201a8"
             ],
             [
              0.3333333333333333,
              "#9c179e"
             ],
             [
              0.4444444444444444,
              "#bd3786"
             ],
             [
              0.5555555555555556,
              "#d8576b"
             ],
             [
              0.6666666666666666,
              "#ed7953"
             ],
             [
              0.7777777777777778,
              "#fb9f3a"
             ],
             [
              0.8888888888888888,
              "#fdca26"
             ],
             [
              1,
              "#f0f921"
             ]
            ],
            "type": "heatmap"
           }
          ],
          "heatmapgl": [
           {
            "colorbar": {
             "outlinewidth": 0,
             "ticks": ""
            },
            "colorscale": [
             [
              0,
              "#0d0887"
             ],
             [
              0.1111111111111111,
              "#46039f"
             ],
             [
              0.2222222222222222,
              "#7201a8"
             ],
             [
              0.3333333333333333,
              "#9c179e"
             ],
             [
              0.4444444444444444,
              "#bd3786"
             ],
             [
              0.5555555555555556,
              "#d8576b"
             ],
             [
              0.6666666666666666,
              "#ed7953"
             ],
             [
              0.7777777777777778,
              "#fb9f3a"
             ],
             [
              0.8888888888888888,
              "#fdca26"
             ],
             [
              1,
              "#f0f921"
             ]
            ],
            "type": "heatmapgl"
           }
          ],
          "histogram": [
           {
            "marker": {
             "colorbar": {
              "outlinewidth": 0,
              "ticks": ""
             }
            },
            "type": "histogram"
           }
          ],
          "histogram2d": [
           {
            "colorbar": {
             "outlinewidth": 0,
             "ticks": ""
            },
            "colorscale": [
             [
              0,
              "#0d0887"
             ],
             [
              0.1111111111111111,
              "#46039f"
             ],
             [
              0.2222222222222222,
              "#7201a8"
             ],
             [
              0.3333333333333333,
              "#9c179e"
             ],
             [
              0.4444444444444444,
              "#bd3786"
             ],
             [
              0.5555555555555556,
              "#d8576b"
             ],
             [
              0.6666666666666666,
              "#ed7953"
             ],
             [
              0.7777777777777778,
              "#fb9f3a"
             ],
             [
              0.8888888888888888,
              "#fdca26"
             ],
             [
              1,
              "#f0f921"
             ]
            ],
            "type": "histogram2d"
           }
          ],
          "histogram2dcontour": [
           {
            "colorbar": {
             "outlinewidth": 0,
             "ticks": ""
            },
            "colorscale": [
             [
              0,
              "#0d0887"
             ],
             [
              0.1111111111111111,
              "#46039f"
             ],
             [
              0.2222222222222222,
              "#7201a8"
             ],
             [
              0.3333333333333333,
              "#9c179e"
             ],
             [
              0.4444444444444444,
              "#bd3786"
             ],
             [
              0.5555555555555556,
              "#d8576b"
             ],
             [
              0.6666666666666666,
              "#ed7953"
             ],
             [
              0.7777777777777778,
              "#fb9f3a"
             ],
             [
              0.8888888888888888,
              "#fdca26"
             ],
             [
              1,
              "#f0f921"
             ]
            ],
            "type": "histogram2dcontour"
           }
          ],
          "mesh3d": [
           {
            "colorbar": {
             "outlinewidth": 0,
             "ticks": ""
            },
            "type": "mesh3d"
           }
          ],
          "parcoords": [
           {
            "line": {
             "colorbar": {
              "outlinewidth": 0,
              "ticks": ""
             }
            },
            "type": "parcoords"
           }
          ],
          "pie": [
           {
            "automargin": true,
            "type": "pie"
           }
          ],
          "scatter": [
           {
            "marker": {
             "colorbar": {
              "outlinewidth": 0,
              "ticks": ""
             }
            },
            "type": "scatter"
           }
          ],
          "scatter3d": [
           {
            "line": {
             "colorbar": {
              "outlinewidth": 0,
              "ticks": ""
             }
            },
            "marker": {
             "colorbar": {
              "outlinewidth": 0,
              "ticks": ""
             }
            },
            "type": "scatter3d"
           }
          ],
          "scattercarpet": [
           {
            "marker": {
             "colorbar": {
              "outlinewidth": 0,
              "ticks": ""
             }
            },
            "type": "scattercarpet"
           }
          ],
          "scattergeo": [
           {
            "marker": {
             "colorbar": {
              "outlinewidth": 0,
              "ticks": ""
             }
            },
            "type": "scattergeo"
           }
          ],
          "scattergl": [
           {
            "marker": {
             "colorbar": {
              "outlinewidth": 0,
              "ticks": ""
             }
            },
            "type": "scattergl"
           }
          ],
          "scattermapbox": [
           {
            "marker": {
             "colorbar": {
              "outlinewidth": 0,
              "ticks": ""
             }
            },
            "type": "scattermapbox"
           }
          ],
          "scatterpolar": [
           {
            "marker": {
             "colorbar": {
              "outlinewidth": 0,
              "ticks": ""
             }
            },
            "type": "scatterpolar"
           }
          ],
          "scatterpolargl": [
           {
            "marker": {
             "colorbar": {
              "outlinewidth": 0,
              "ticks": ""
             }
            },
            "type": "scatterpolargl"
           }
          ],
          "scatterternary": [
           {
            "marker": {
             "colorbar": {
              "outlinewidth": 0,
              "ticks": ""
             }
            },
            "type": "scatterternary"
           }
          ],
          "surface": [
           {
            "colorbar": {
             "outlinewidth": 0,
             "ticks": ""
            },
            "colorscale": [
             [
              0,
              "#0d0887"
             ],
             [
              0.1111111111111111,
              "#46039f"
             ],
             [
              0.2222222222222222,
              "#7201a8"
             ],
             [
              0.3333333333333333,
              "#9c179e"
             ],
             [
              0.4444444444444444,
              "#bd3786"
             ],
             [
              0.5555555555555556,
              "#d8576b"
             ],
             [
              0.6666666666666666,
              "#ed7953"
             ],
             [
              0.7777777777777778,
              "#fb9f3a"
             ],
             [
              0.8888888888888888,
              "#fdca26"
             ],
             [
              1,
              "#f0f921"
             ]
            ],
            "type": "surface"
           }
          ],
          "table": [
           {
            "cells": {
             "fill": {
              "color": "#EBF0F8"
             },
             "line": {
              "color": "white"
             }
            },
            "header": {
             "fill": {
              "color": "#C8D4E3"
             },
             "line": {
              "color": "white"
             }
            },
            "type": "table"
           }
          ]
         },
         "layout": {
          "annotationdefaults": {
           "arrowcolor": "#2a3f5f",
           "arrowhead": 0,
           "arrowwidth": 1
          },
          "coloraxis": {
           "colorbar": {
            "outlinewidth": 0,
            "ticks": ""
           }
          },
          "colorscale": {
           "diverging": [
            [
             0,
             "#8e0152"
            ],
            [
             0.1,
             "#c51b7d"
            ],
            [
             0.2,
             "#de77ae"
            ],
            [
             0.3,
             "#f1b6da"
            ],
            [
             0.4,
             "#fde0ef"
            ],
            [
             0.5,
             "#f7f7f7"
            ],
            [
             0.6,
             "#e6f5d0"
            ],
            [
             0.7,
             "#b8e186"
            ],
            [
             0.8,
             "#7fbc41"
            ],
            [
             0.9,
             "#4d9221"
            ],
            [
             1,
             "#276419"
            ]
           ],
           "sequential": [
            [
             0,
             "#0d0887"
            ],
            [
             0.1111111111111111,
             "#46039f"
            ],
            [
             0.2222222222222222,
             "#7201a8"
            ],
            [
             0.3333333333333333,
             "#9c179e"
            ],
            [
             0.4444444444444444,
             "#bd3786"
            ],
            [
             0.5555555555555556,
             "#d8576b"
            ],
            [
             0.6666666666666666,
             "#ed7953"
            ],
            [
             0.7777777777777778,
             "#fb9f3a"
            ],
            [
             0.8888888888888888,
             "#fdca26"
            ],
            [
             1,
             "#f0f921"
            ]
           ],
           "sequentialminus": [
            [
             0,
             "#0d0887"
            ],
            [
             0.1111111111111111,
             "#46039f"
            ],
            [
             0.2222222222222222,
             "#7201a8"
            ],
            [
             0.3333333333333333,
             "#9c179e"
            ],
            [
             0.4444444444444444,
             "#bd3786"
            ],
            [
             0.5555555555555556,
             "#d8576b"
            ],
            [
             0.6666666666666666,
             "#ed7953"
            ],
            [
             0.7777777777777778,
             "#fb9f3a"
            ],
            [
             0.8888888888888888,
             "#fdca26"
            ],
            [
             1,
             "#f0f921"
            ]
           ]
          },
          "colorway": [
           "#636efa",
           "#EF553B",
           "#00cc96",
           "#ab63fa",
           "#FFA15A",
           "#19d3f3",
           "#FF6692",
           "#B6E880",
           "#FF97FF",
           "#FECB52"
          ],
          "font": {
           "color": "#2a3f5f"
          },
          "geo": {
           "bgcolor": "white",
           "lakecolor": "white",
           "landcolor": "#E5ECF6",
           "showlakes": true,
           "showland": true,
           "subunitcolor": "white"
          },
          "hoverlabel": {
           "align": "left"
          },
          "hovermode": "closest",
          "mapbox": {
           "style": "light"
          },
          "paper_bgcolor": "white",
          "plot_bgcolor": "#E5ECF6",
          "polar": {
           "angularaxis": {
            "gridcolor": "white",
            "linecolor": "white",
            "ticks": ""
           },
           "bgcolor": "#E5ECF6",
           "radialaxis": {
            "gridcolor": "white",
            "linecolor": "white",
            "ticks": ""
           }
          },
          "scene": {
           "xaxis": {
            "backgroundcolor": "#E5ECF6",
            "gridcolor": "white",
            "gridwidth": 2,
            "linecolor": "white",
            "showbackground": true,
            "ticks": "",
            "zerolinecolor": "white"
           },
           "yaxis": {
            "backgroundcolor": "#E5ECF6",
            "gridcolor": "white",
            "gridwidth": 2,
            "linecolor": "white",
            "showbackground": true,
            "ticks": "",
            "zerolinecolor": "white"
           },
           "zaxis": {
            "backgroundcolor": "#E5ECF6",
            "gridcolor": "white",
            "gridwidth": 2,
            "linecolor": "white",
            "showbackground": true,
            "ticks": "",
            "zerolinecolor": "white"
           }
          },
          "shapedefaults": {
           "line": {
            "color": "#2a3f5f"
           }
          },
          "ternary": {
           "aaxis": {
            "gridcolor": "white",
            "linecolor": "white",
            "ticks": ""
           },
           "baxis": {
            "gridcolor": "white",
            "linecolor": "white",
            "ticks": ""
           },
           "bgcolor": "#E5ECF6",
           "caxis": {
            "gridcolor": "white",
            "linecolor": "white",
            "ticks": ""
           }
          },
          "title": {
           "x": 0.05
          },
          "xaxis": {
           "automargin": true,
           "gridcolor": "white",
           "linecolor": "white",
           "ticks": "",
           "title": {
            "standoff": 15
           },
           "zerolinecolor": "white",
           "zerolinewidth": 2
          },
          "yaxis": {
           "automargin": true,
           "gridcolor": "white",
           "linecolor": "white",
           "ticks": "",
           "title": {
            "standoff": 15
           },
           "zerolinecolor": "white",
           "zerolinewidth": 2
          }
         }
        },
        "title": {
         "text": "Napa Valley Wineries"
        },
        "width": 900
       }
      },
      "text/html": [
       "<div>                            <div id=\"9d379999-dd49-4deb-93a1-a9d74f1c1390\" class=\"plotly-graph-div\" style=\"height:900px; width:900px;\"></div>            <script type=\"text/javascript\">                require([\"plotly\"], function(Plotly) {                    window.PLOTLYENV=window.PLOTLYENV || {};                                    if (document.getElementById(\"9d379999-dd49-4deb-93a1-a9d74f1c1390\")) {                    Plotly.newPlot(                        \"9d379999-dd49-4deb-93a1-a9d74f1c1390\",                        [{\"hovertemplate\": \"<b>%{hovertext}</b><br><br>Number of Reviews =%{marker.size}<br>Latitude =%{lat}<br>Longitude =%{lon}<extra></extra>\", \"hovertext\": [\"Hendry Vineyard and Winery\", \"Domaine Carneros\", \"Paraduxx Winery\", \"Jarvis Winery\", \"White Rock Vineyards\", \"Cuvaison Estate Wines\", \"Clos du Val\", \"William Hill Estate Winery\", \"Shadybrook Estate Winery\", \"Platypus Wine Tours\", \"Ashes & Diamonds\", \"Stag's Leap Wine Cellars\", \"Hagafen Cellars\", \"Saintsbury\", \"Chimney Rock Winery\", \"Stags' Leap Winery\", \"Trefethen Family Vineyards\", \"Verve Napa Valley\", \"Trinitas Cellars\", \"Darioush Winery\", \"Truchard Vineyards\", \"Piazza Del Dotto\", \"Judd's Hill Winery\", \"Palmaz Vineyards\", \"Porter Family Vineyards\", \"Roots Run Deep Winery\", \"Monticello Vineyards - Corley Family Napa Valley\", \"Kieu Hoang Winery\", \"Cornerstone Cellars\", \"Silverado Vineyards\", \"Signorello Estate\", \"O'Brien Estate\", \"Laird Family Estate\", \"Kenzo Estate\", \"Silenus Winery\", \"Napa Sonoma Wine Tasting Driver \\u00ae\", \"Etude Wines\", \"Eleven Eleven Winery\", \"JaM Cellars\", \"Reynolds Family Winery\", \"Goosecross Cellars\", \"Caldwell Vineyard\", \"Trahan Winery\", \"Encanto Vineyards\", \"Fontanella Family Winery\", \"Elyse Winery\", \"Robert Mondavi Winery\", \"Pine Ridge Vineyards\", \"WineINN & DineINN\", \"Chandon\", \"Odette Estate\", \"Mi Sueno Winery\", \"Hyde Estate Winery\", \"Robert Sinskey Vineyards\", \"Scribe Winery\", \"AvinoDos Wines\", \"Yao Family Wines\", \"Ceja Vineyards\", \"Baldacci Family Vineyards\", \"Cakebread Cellars\", \"McKenzie-Mueller Vineyards and Winery\", \"James Cole Winery\", \"Tulocay Winery\", \"Razi Winery\", \"WeWine Napa\", \"Shafer Vineyards\", \"Napa Cellars Tasting Room\", \"Hudson Ranch\", \"John Anthony Vineyards\", \"PF Wine Tours\", \"Materra, Cunat Family Vineyards\", \"Robert Biale Vineyards\", \"The Wine Foundry\", \"Mayacamas Vineyards & Winery\", \"Aonair Wine\", \"Jacuzzi Family Vineyards\", \"Quixote Winery\", \"Carneros Della Notte\", \"Viansa Winery & Marketplace\", \"Tres Sabores Winery\", \"Laces and Limos\", \"Wine Country Drivers\", \"Celani Family Vineyards\", \"Far Niente Winery\", \"Luna Vineyards\", \"Cornerstone Cellars\", \"Opus One Winery\", \"Beau Wine Tours & Limousine Service\", \"Napa Private Tours\", \"Madorom Vineyards\", \"Silver Oak - Oakville\", \"Inglenook\", \"The Caves at Soda Canyon\", \"Madonna Estate\", \"Whetstone Wine Cellars\", \"Grgich Hills Estate\", \"PlumpJack Winery\", \"Lewis Cellars\", \"Larson Family Winery\", \"Rocca Family Vineyards Tasting Room\", \"All Day Wine Tours\", \"Prime Cellars\", \"Beaulieu Vineyard\", \"Hamel Family Wines\", \"T3 - Tesla Tours & Transportation\", \"Sciandri Family Vineyards\", \"Gundlach Bundschu Winery\", \"Napa Valley Wine Trolley\", \"Robert Craig Winery Tasting Salon\", \"B Cellars Vineyards & Winery\", \"St. Supery Estate Vineyards & Winery\", \"Nickel & Nickel\", \"Covert Estate\", \"Napa Bee Driven\", \"Antica Napa Valley\", \"Wine Country Safari\", \"Holman Cellars\", \"Amuse Bouche Winery\", \"Italics Winegrowers\", \"Maritas Vineyard\", \"Falcor Winery\", \"Gloria Ferrer Winery\", \"Havens Winery\", \"We Drive Your Car Napa Valley\", \"Fortunati Vineyards\", \"Promontory Winery\", \"Buena Vista Winery\", \"Oakville Ranch Vineyards\", \"Wine Tour Drivers\", \"Wine Tasting Driver\", \"Robledo Family Winery\", \"Vine Cliff Winery\", \"Boyd Family Vineyard\", \"Matthiasson Wines\", \"Shed Creek Cellar\", \"Reid Family Vineyards\", \"Small Lot Wine Tours\", \"Ancien\", \"Gargiulo Vineyards\", \"Harvest Wine Tours\", \"Roy Estate\", \"Hidden Napa Jeep Wine Tours\", \"Napa Valley Wine Guides\", \"Cliff Lede Vineyards\", \"Smith Devereux Wines\", \"Screaming Eagle Winery\", \"Robinson Family Vineyards\", \"Black Cat Vineyard\", \"Oasis by Hoopes\", \"Wine Me Away\", \"Let's Roll Wine Tours & Designated Drivers\", \"Stewart Cellars\", \"Frias Family Vineyard\", \"Groth Vineyards & Winery\", \"Priest Ranch\", \"Taylor Family Vineyards\", \"Miner Family Winery\", \"Bell Wine Cellars\", \"Bello Family Vineyards\", \"Realm Cellars\", \"Ovid Vineyard\", \"Mira Winery\", \"Elkhorn Peak Cellars\", \"Oberon\", \"Staglin Family Vineyard\", \"Sodaro Estate Winery\", \"Ram's Gate Winery\", \"Quintessential Wines\", \"The Donum Estate\", \"Ideology Cellars\", \"J.Moss\", \"Buccella\", \"Futo Wines\", \"Intimate Wine Tours\", \"Hill Family Estate\", \"Nicholson Ranch Winery\", \"Suisun Creek Winery\", \"Beckstoffer Vineyards\", \"Spelletich Family Winery\", \"Manny\\u00b4s Wine Tours\", \"Hyde de Villaine Wines\", \"Handwritten Wines\", \"Tournesol Wine\", \"Kale Wines\", \"Vezer Family Vineyard\", \"Cardinale Winery\", \"Harlan Estate\", \"Gamble Family Vineyard\", \"Eagle Eye Winery\", \"Favia Erickson Winegrowers\", \"Paradigm Winery\", \"Silver Trident Winery\", \"Savor Napa Valley Wine Tours\", \"Own A Napa Vineyard\", \"Farella Vineyard\", \"Napa Valley Chauffeur\", \"Rudd Estate\", \"The Hess Collection Winery\", \"Bliss Wine Tours\", \"Westwood Estate Wine\", \"RAM Wine Country Tours\", \"My Private Napa Driver\", \"Altamura Winery\", \"Elizabeth Spencer Winery\", \"Napa Valley College Winery\", \"Hanzell Vineyards\", \"Relic Wine Cellars\", \"BOND\", \"Buoncristiani Family Winery\", \"Napa Driving Services\", \"Schug Carneros Estate Winery\", \"Dolce Winery\", \"Valley Wine Warehouse\", \"Blackbird Vineyards\", \"J Moss\", \"Napa Valley Wine Country Tours\", \"Meadowcroft Wines\", \"Scholium Project\", \"Destiny Wine Tours\", \"Forthright Winery\", \"David Arthur Vineyards\", \"Absolutely Fabulous Tours\", \"Stacy's Wine Tours\", \"Ghost Block Estate Wines\", \"Thirty-Seven Winery\", \"Your Driver In Napa Wine Tours\", \"Dynamic Napa Wine Tours\", \"Vinfolio\", \"G V Cellars\", \"Wine & Dine Events\", \"Vezer Family Vineyard\", \"Winter Wineland\", \"Rock Creek Vineyard\", \"Kongsgaard Winery\", \"Classic Convertible Wine Tours\", \"Peter Cellars\", \"Sonoma Valley Wine Trolley\", \"Groth Vineyards & Winery\", \"Simply Driven\", \"Wooden Valley Winery\", \"Godspeed Vineyards\", \"Frazier Winery\", \"Mountain Terraces Vineyard\", \"Vinoce Vineyards\", \"Napa Valley Wine Tours\", \"Blankiet Estate\", \"Keever Vineyards\", \"Valley of the Moon Winery\", \"Ceja Vineyards Wine Salon\", \"Phenomenal Limos & Wine Tours\", \"Napa Your Way\", \"Gemstone Vineyard\", \"Hope & Grace Wines\", \"Lagier Meredith Vineyard\", \"Old Bridge Cellars\", \"Auteur Wines\", \"Fine Wine Tours\", \"Moss Creek Winery\", \"J Gregory Cellars\", \"Dominus Estate\", \"Darms Lane Vineyard\", \"Patz & Hall Winery\", \"Stone Edge Farm Winery\", \"Iconic Wine Tours\", \"Surh Cellars\", \"Master Wine Tours\", \"Bonneau Wines\", \"Designated Drivers Napa Sonoma\", \"Monticelli Brothers\", \"VinRoc Wine Caves\", \"Napa Private Driver\", \"Wine Country Confidential\", \"Roche Winery & Vineyards\", \"Tin Barn Vineyards\", \"Mangels Vineyards\", \"Wine Tours by Shane\", \"Repris Wines\", \"Napa Sonoma Wine Guy\", \"Unique Wine Experience\", \"Robert John Vineyards\", \"BX of Napa Wines\", \"Jade Mountain Winery\", \"Vinum Cellars\", \"Chris Phelps Wines\", \"Driven in Napa Valley\", \"Ilsley Vineyards\", \"WALT Wines\", \"Crosby Roamann\", \"Kapcsandy Family Winery\", \"Homewood Winery\", \"Vellum Wines\", \"Petroni Vineyards\", \"Detert Family Vineyard\", \"Sip California\", \"Amapola Creek\", \"Napa Valley Vics Wine Tours & Car Services\", \"Maroon Wines\", \"Beau Vigne\", \"Wine Compliance Alliance\", \"Random Ridge\", \"Perry's Tours\", \"Andrew's Tours and Transportation\", \"Chanticleer Winery\", \"Destination Napa Valley\", \"Canihan Wines\", \"Liparita Cellars\", \"Galvan Family Cellars\", \"Topaz Wines\", \"Napa Valley Luxury Wine Tours\", \"Sonoma Private Tours\", \"CM Destinations & Consulting\", \"PUNCH Vineyards\", \"CALNAP Winery Tours & Limousine\", \"Last Bottle Wines\", \"Leviathan Winery\", \"Napa Wine Company\", \"EMBRAZEN\", \"Rutas De Napa Wine Tours\", \"Kamen Estate Wines\", \"Agajanian Vineyards & Wine Company\", \"Lail Vineyards\", \"Hawkes\", \"Lindstrom Wines\", \"Lake Sonoma Winery\", \"Noah Vineyards\", \"Oakville Cross\", \"Atlas Peak\", \"Napa Driver Tours\", \"Corner 103\", \"Vine Tours Luxury Transportation\", \"Stagecoach Vineyard\", \"Food & Vine Inc\", \"Elan Vineyards\", \"Chiarello Family Vineyards\", \"CINNAMON'S WINE TOURS\", \"Entre Nous Wines\", \"Justice Grace Vineyards\", \"Bedrock Wine Company\", \"Wine Tasting HdV\", \"Napa Native Wine Tours\", \"Eighth Street Wineries Open House\", \"Amicis Tours\", \"Napa Limousine Inc\", \"Rancho Maria Wines\", \"Selene Wines\", \"Troika Wines\", \"Clarbec Wines\", \"Howell At the Moon\", \"Bardessono Vineyards And Wines\", \"Three Sticks Wines\", \"Lonnie's Wine Tours & Transportation\", \"Dog-Friendly Wine Tours\", \"B. Kosuge Wines\", \"WineZooloo\", \"Coho Wines\", \"Rutherford Appellation Wineries Passport Weekend\", \"Bacchus Wine Tours & Transportation LLC\", \"Mora Estate\", \"Peter Franus Wines\", \"Winery Sixteen 600\", \"Spoto Wines\", \"Napa Terroir Wine Tours\", \"Vino Valley Tours\", \"Destination Drivers Napa & Sonoma\", \"Page Wine Cellars\", \"Don Sebastiani & Sons\", \"Napa Valley Excursions & Wine Tours\", \"Rosalynd Winery\", \"L'Uvaggio di Gi\\u00e1como\", \"Shifflett Estate\", \"Valet of the Moon Wine Tours\", \"Gourmet Food & Wine Tours\", \"Grapeline Wine Tours\", \"Consort Wine Tours\", \"Oro Puro Vineyards\", \"Alluvium Wine Tours\", \"Valley of the Moon Vintage Festival\", \"Signature Transportation of Napa Valley\", \"Sojourn Cellars\", \"Bump Wine Cellars\", \"Sonoma Plaza Wine Experience\", \"Ez Wine Tours\", \"Swanson Wine Tours\", \"Zina Hyde Cunningham Winery\", \"Napa Wine Tours\", \"David Arthur Vineyards\", \"G Wine Cellars\", \"California Wine Tour Services\", \"Calmere Estate Winery\", \"Pina Vineyard Management\", \"West Wine Tours\", \"Ultimate Wine Tours\", \"The Napa Card\", \"Valley Wine Tours\", \"Barrel Stop\", \"Tom Scott Vineyards\", \"Rose Wine Tours\", \"Modus Operandi Cellars\", \"Andretti Winery\", \"Lionstone International\", \"Napa Vinyards\", \"Cook Vinyard Management\", \"Top It Off Bottling\"], \"lat\": [38.32168, 38.25553421701142, 38.43548, 38.357009999999995, 38.377683000000005, 38.251176, 38.3872498, 38.3555817630865, 38.308954, 38.22830820000001, 38.34425, 38.3983978, 38.364751, 38.249959999999994, 38.390201, 38.415754, 38.35623742236329, 38.3177642822266, 38.2471, 38.36752, 38.289128186648, 38.422, 38.3393261000088, 38.323297, 38.2890722, 38.297016, 38.359204, 38.26739, 38.297340000000005, 38.412273, 38.37017, 38.345885353769496, 38.353977203369105, 38.354502000000004, 38.363671999999994, 38.2587139, 38.245847, 38.3249893, 38.297435, 38.3552406, 38.4266242980957, 38.2869459, 38.29745, 38.301109999999994, 38.312613, 38.38361, 38.441421999999996, 38.404739899999996, 38.29204, 38.3963745949975, 38.405559999999994, 38.2598016, 38.253863, 38.425414, 38.2712839, 38.25867, 38.267875671386705, 38.23562255391007, 38.418323571036034, 38.447904, 38.23234, 38.37071513224139, 38.2979965209961, 38.349253999999995, 38.32151629999999, 38.419881, 38.421192, 38.264949, 38.2975791, 38.31865, 38.3612027, 38.35606948287929, 38.260330200000006, 38.36518, 38.3177642822266, 38.21471, 38.4181009125607, 38.2575999, 38.20847, 38.461548, 38.295639, 38.29695, 38.334573, 38.424479, 38.345079999999996, 38.2474144, 38.4414391100535, 38.296694, 38.282759999999996, 38.340156, 38.4404422, 38.458391999999996, 38.401433000000004, 38.255641937255895, 38.3393115, 38.465419, 38.455434000000004, 38.351246, 38.2361999, 38.238209999999995, 38.32923889160156, 38.2973361393272, 38.460159999999995, 38.3458142305308, 38.2968914, 38.281436, 38.278529999999996, 38.296725490059295, 38.30657, 38.449864, 38.4551318502323, 38.443243, 38.307445, 38.291168, 38.427937, 38.305503, 38.259432000000004, 38.30039, 38.3137, 38.302153999999994, 38.256029999999996, 38.223832, 38.301274, 38.3088677, 38.34905, 38.4208658, 38.299502000000004, 38.4610071602159, 38.291542053222656, 38.3364765, 38.24739263290604, 38.447107, 38.3612027, 38.338609999999996, 38.338405360536775, 38.3137, 38.33684, 38.297691, 38.453315, 38.3066965, 38.36585, 38.31832, 38.3841682813529, 38.42407, 38.297447999999996, 38.436927795410206, 38.41086361969035, 38.281490000000005, 38.38795716301858, 38.38326, 38.2968, 38.406152, 38.3348546, 38.449220000000004, 38.400084, 38.2586755, 38.462719, 38.389815999999996, 38.453556060791, 38.400333, 38.463440000000006, 38.38732, 38.228224, 38.2237, 38.442506, 38.315, 38.1741152, 38.29735, 38.231313, 38.3638202476272, 38.2585653718793, 38.39829, 38.416191999999995, 38.283022100000004, 38.4011459350586, 38.255251261885, 38.264721, 38.464284, 38.253694, 38.291168, 38.325776, 38.4001796, 38.2965803877752, 38.291168, 38.2940805917162, 38.428591, 38.436927795410206, 38.429147, 38.341023, 38.293479999999995, 38.420559999999995, 38.400496999999994, 38.3213996887207, 38.2575999, 38.312621, 38.3233943, 38.4578819274902, 38.190715000000004, 38.38326, 38.2915583, 38.398939, 38.3077323, 38.364395, 38.458979181419295, 38.274349, 38.313430022374604, 38.411912, 38.43462, 38.40336, 38.3214, 38.233022670015295, 38.4240773, 38.2104, 38.3606279211163, 38.258674, 38.2136164, 38.2272243158716, 38.26635, 38.33656, 38.33031, 38.465325, 38.3170536, 38.195021999999994, 38.43597877573925, 38.150444, 38.3177642822266, 38.296690000000005, 38.220461, 38.24296221671643, 38.4348204, 38.285969, 38.293415, 38.268109, 38.436451, 38.2975381, 38.2578964073869, 38.260459999999995, 38.3687531, 38.338537, 38.276559999999996, 38.38908, 38.38326, 38.357009000000005, 38.43888, 38.3177642822266, 38.400724200000006, 38.40245, 38.2931453, 38.2460468131242, 38.31918579999999, 38.204909846218705, 38.40245, 38.402992248535206, 38.3747445, 38.2950233, 38.29397897266821, 38.2895385, 38.44593, 38.3349609, 38.4048461914062, 38.36385, 38.26397, 38.2890739440918, 38.2798408, 38.31832, 38.3581390380859, 38.2595709, 38.3288089, 38.33379, 38.42648, 38.297370910644496, 38.23927688598629, 38.24168, 38.25905584491571, 38.2646811628515, 38.31865, 38.345924, 38.291168, 38.32923889160156, 38.297093, 38.3177642822266, 38.21761, 38.223094, 38.3029507537766, 38.3177642822266, 38.425523999999996, 38.294342041015604, 38.2603912353516, 38.40245, 38.24556, 38.31364, 38.3426659738006, 38.428924, 38.291859, 38.33422, 38.152153015136705, 38.3180046081543, 38.4065716, 38.2965202331543, 38.3702, 38.25877, 38.3177642822266, 38.3899895846844, 38.31777, 38.273313, 38.436786, 38.205394, 38.337379999999996, 38.342125, 38.2827606201172, 38.297370910644496, 38.293898, 38.310683000000004, 38.218437194824205, 38.4366, 38.4363635, 38.22224, 38.3177642822266, 38.2915849246945, 38.246978759765604, 38.46024, 38.294241, 38.407973, 38.29312, 38.390735, 38.44308, 38.31364, 38.17406, 38.291934999999995, 38.3214, 38.4379, 38.2870740762265, 38.446128845214794, 38.401611096057, 38.3078, 38.432010999999996, 38.242694, 38.293233824561206, 38.326141357421896, 38.336529999999996, 38.262165100000004, 38.38326, 38.292613, 38.2924731, 38.31777, 38.245232, 38.28882, 38.2975381, 38.4015781, 38.2621635, 38.2930030822754, 38.29737, 38.29695, 38.3113199134266, 38.29695, 38.46024, 38.2726044, 38.294652, 38.299079895019496, 38.290421, 38.436927795410206, 38.3210506945237, 38.3071213, 38.29188, 38.293864899999996, 38.29187, 38.3186492919922, 38.266387741610366, 38.29695, 38.4366, 38.2890739440918, 38.2927444, 38.2825, 38.4019490823782, 38.29695, 38.3177642822266, 38.293415, 38.3221893310547, 38.2913799, 38.2915015, 38.291919708252, 38.31777, 38.28691, 38.2921374, 38.32322, 38.46024, 38.3130398821026, 38.27259, 38.230914, 38.46518, 38.286640000000006, 38.2676277160645, 38.31364, 38.29188, 38.31364, 38.425273, 38.28691, 38.298858642578104, 38.32151629999999, 38.262062, 38.38326, 38.2862614, 38.26248], \"legendgroup\": \"\", \"lon\": [-122.34481000000001, -122.3513909116566, -122.35143000000001, -122.21361999999999, -122.286565, -122.34708400000001, -122.31250630000001, -122.270102462921, -122.24821899999999, -122.2539009, -122.32628400000002, -122.32439270000002, -122.28943500000001, -122.32538000000001, -122.31384299999999, -122.31888400000001, -122.32299104997801, -122.29174041748001, -122.274639, -122.29423999999999, -122.317485809326, -122.38811000000001, -122.27976149046002, -122.235727, -122.2273244, -122.291339, -122.3106703, -122.3487, -122.28893000000001, -122.336858, -122.29481000000001, -122.33976825643451, -122.335693359375, -122.204136, -122.33921299999999, -122.2717063, -122.3150228, -122.286911, -122.2893433, -122.2869398, -122.352890014648, -122.23581850000001, -122.28838, -122.28228899999999, -122.373269, -122.35451, -122.40954599999999, -122.33277, -122.29213999999999, -122.364698011115, -122.32773, -122.2720075, -122.330619, -122.337002, -122.4230626, -122.2736, -122.24878692626999, -122.31443098305695, -122.33724299999999, -122.409682, -122.33191000000001, -122.298978236493, -122.25869750976601, -122.283146, -122.30410790000002, -122.326894, -122.39017700000001, -122.36593500000001, -122.2891414, -122.29993999999999, -122.3118133, -122.30843067169201, -122.2742081, -122.42326000000001, -122.29174041748001, -122.45388500000001, -122.323620009856, -122.339651, -122.45180500000001, -122.44453600000001, -122.2999753, -122.2868, -122.293094, -122.404132, -122.28383999999998, -122.27207659999998, -122.39972029669902, -122.2924582, -122.27123, -122.28194599999999, -122.3809788, -122.423796, -122.30133000000001, -122.341018676758, -122.2623851, -122.42898899999999, -122.37411100000001, -122.307404, -122.4483, -122.26942, -122.2959213256836, -122.28831382142599, -122.42329099999999, -122.494017806885, -122.2889887, -122.23796000000002, -122.42058, -122.289325989441, -122.28251999999999, -122.37326399999999, -122.41456055411601, -122.40676299999998, -122.247464, -122.28627900000001, -122.274933, -122.2915887, -122.27444799999999, -122.28603899999999, -122.250615, -122.24986899999999, -122.276279, -122.47227600000001, -122.2874659, -122.2917507, -122.30949, -122.41496210000001, -122.42194199999999, -122.358888437234, -122.28694152832031, -122.3229962, -122.48350054331848, -122.350549, -122.3118133, -122.35076000000001, -122.10164499999999, -122.34831000000001, -122.31545, -122.235151, -122.366836, -122.28827199999999, -122.27873000000001, -122.29177, -122.285937502441, -122.34478700000001, -122.289345, -122.402816772461, -122.31935492416466, -122.24771399999999, -122.34952523506253, -122.31306000000001, -122.286, -122.3664433, -122.3199497, -122.379524, -122.35902800000001, -122.2716831, -122.37109299999999, -122.34574099999999, -122.414756774902, -122.33066399999998, -122.34397, -122.34846999999999, -122.219554, -122.26616999999999, -122.42444499999999, -122.23313, -122.45049820000001, -122.28764, -122.40286599999999, -122.33911094477502, -122.273029536009, -122.37058, -122.41236599999999, -122.27128370000001, -122.359878540039, -122.3913731858, -122.11991499999999, -122.395302, -122.275972, -122.28627900000001, -122.28308940000001, -122.35933130000001, -122.223340272903, -122.286064423279, -122.12020345369, -122.390506, -122.402816772461, -122.38689199999999, -122.12588799999999, -122.24972, -122.39378, -122.360031, -122.304061889648, -122.33965, -122.22863999999998, -122.3018681, -122.366798400879, -122.27033200000001, -122.31306000000001, -122.4574775, -122.373129, -122.3058297, -122.17517420000001, -122.42206067842599, -122.277736, -122.462327066159, -122.29330300000001, -122.40057, -122.30048000000001, -122.30406, -122.47125148773199, -122.402102, -122.25724, -122.31809463568399, -122.273574, -122.2533803, -122.457089424133, -122.33292, -122.2587, -122.34388999999999, -122.345735, -122.3019206, -122.24115, -122.40191144110308, -122.4489975, -122.29174041748001, -122.29246, -122.261675, -122.1690453203512, -122.2958469, -122.107518, -122.47058899999999, -122.163499, -122.2475128, -122.28686499999999, -122.45004057884199, -122.44134, -122.34131299999999, -122.312223, -122.112879, -122.43916999999999, -122.31306000000001, -122.466577, -122.48222, -122.29174041748001, -122.3837445, -122.36106000000001, -122.4593959, -122.42282741057501, -122.31011299999999, -122.115153021875, -122.36106000000001, -122.36212158203101, -122.3879989, -122.29388909999999, -122.458705292053, -122.2915722, -122.19492, -122.3201294, -122.37353515625, -122.35121000000001, -122.43761, -122.39685821533199, -122.256173, -122.29177, -122.263832092285, -122.4395611, -122.33658290000001, -122.32668000000001, -122.24922, -122.29046630859399, -122.33062744140601, -122.48098, -122.434944500494, -122.11363149811199, -122.29993999999999, -122.458795, -122.28627900000001, -122.2959213256836, -122.28895700000001, -122.29174041748001, -122.26923000000001, -122.263104, -122.314904261924, -122.29174041748001, -122.328653, -122.45832824706999, -122.274131774902, -122.36106000000001, -122.42121000000002, -122.29476000000001, -122.47730255126999, -122.417375, -122.45803559999999, -122.48064, -122.265014648438, -122.244613647461, -122.3670058, -122.2880859375, -122.46171299999999, -122.24878999999999, -122.29174041748001, -122.36078068613999, -122.29173999999999, -122.43121200000002, -122.4027311, -122.14233300000001, -122.31894, -122.32106, -122.27123260498001, -122.29046630859399, -122.296768, -122.298832, -122.27011108398399, -122.40258999999999, -122.40235279999999, -122.26713000000001, -122.29174041748001, -122.45612814245001, -122.276596069336, -122.42023, -122.458823, -122.32692, -122.45936999999999, -122.346252, -122.38796, -122.29476000000001, -122.25726, -122.459152, -122.30406, -122.2956, -122.28713518551399, -122.24951171875, -122.362370916077, -122.30571, -122.392476, -122.42277299999999, -122.456364071755, -122.282272338867, -122.32298999999999, -122.4399338, -122.31306000000001, -122.30146699999999, -122.4591225, -122.29173999999999, -122.422307, -122.49468999999999, -122.28686499999999, -122.3608105, -122.43993470000001, -122.282814025879, -122.29047, -122.2868, -122.487856708467, -122.2868, -122.42023, -122.42913970000001, -122.45741799999999, -122.28537750244101, -122.459446, -122.402816772461, -122.293578274548, -122.3335037, -122.45726, -122.30022, -122.45988, -122.299942016602, -122.12993134347964, -122.2868, -122.40258999999999, -122.39685821533199, -122.4570054, -122.45971000000002, -122.36280441284201, -122.2868, -122.29174041748001, -122.47058899999999, -122.28855133056601, -122.45576000000001, -122.45839, -122.45630645751999, -122.29173999999999, -122.46547, -122.45652040000002, -122.30206000000001, -122.42023, -122.234573364258, -122.43762, -122.34886100000001, -122.37511, -122.46553, -122.48998260498001, -122.29476000000001, -122.45726, -122.29476000000001, -122.34676599999999, -122.46547, -122.28521728515601, -122.30410790000002, -122.44203600000002, -122.31306000000001, -122.43489299999999, -122.44207], \"marker\": {\"color\": \"#636efa\", \"size\": [658, 2239, 373, 209, 55, 327, 328, 186, 179, 896, 179, 487, 459, 136, 308, 222, 350, 41, 205, 552, 85, 74, 275, 124, 57, 54, 128, 88, 178, 311, 142, 187, 163, 68, 121, 130, 176, 36, 162, 127, 387, 49, 99, 2, 52, 117, 1097, 307, 5, 1449, 78, 34, 4, 338, 322, 24, 81, 79, 112, 788, 56, 130, 14, 36, 10, 45, 376, 4, 140, 55, 43, 125, 10, 11, 63, 821, 61, 16, 624, 126, 8, 23, 2, 162, 230, 7, 465, 349, 60, 3, 489, 367, 10, 173, 87, 589, 179, 13, 566, 12, 24, 31, 412, 97, 24, 7, 567, 143, 54, 157, 461, 130, 4, 55, 8, 9, 38, 3, 14, 9, 70, 836, 8, 12, 14, 15, 449, 3, 72, 18, 217, 45, 9, 1, 2, 27, 50, 4, 21, 7, 1, 23, 56, 226, 1, 6, 21, 12, 15, 19, 13, 49, 6, 57, 170, 17, 239, 123, 1, 11, 12, 6, 12, 2, 13, 13, 440, 2, 33, 1, 2, 3, 4, 34, 160, 320, 1, 3, 18, 56, 22, 49, 10, 1, 81, 48, 5, 19, 7, 6, 53, 64, 6, 1, 7, 19, 18, 7, 18, 106, 13, 3, 12, 213, 3, 85, 10, 3, 5, 4, 167, 1, 1, 10, 4, 214, 120, 5, 23, 1, 18, 14, 8, 14, 2, 25, 33, 2, 73, 7, 107, 11, 15, 1, 20, 73, 100, 2, 21, 130, 2, 8, 1, 1, 8, 11, 20, 129, 32, 4, 27, 4, 171, 4, 2, 18, 8, 1, 4, 6, 2, 67, 8, 3, 2, 7, 15, 50, 1, 1, 21, 15, 19, 83, 7, 8, 59, 4, 12, 2, 5, 1, 1, 1, 5, 2, 151, 5, 5, 116, 1, 96, 3, 1, 1, 7, 1, 33, 1, 1, 8, 2, 2, 5, 6, 2, 9, 1, 6, 1, 3, 1, 15, 54, 1, 39, 1, 4, 54, 1, 2, 71, 1, 56, 2, 1, 1, 21, 113, 4, 2, 1, 5, 6, 4, 2, 13, 19, 2, 13, 2, 17, 12, 70, 1, 7, 1, 2, 1, 1, 5, 3, 1, 2, 2, 2, 13, 1, 1, 24, 4, 8, 2, 15, 6, 1, 10, 5, 1, 1, 33, 62, 27, 3, 1, 3, 1, 6, 62, 91, 1, 3, 17, 36, 1, 1, 1, 4, 68, 1, 14, 4, 6, 42, 1, 1, 7, 1, 311, 1, 1, 1, 2], \"sizemode\": \"area\", \"sizeref\": 9.95111111111111}, \"mode\": \"markers\", \"name\": \"\", \"showlegend\": false, \"subplot\": \"mapbox\", \"type\": \"scattermapbox\"}],                        {\"height\": 900, \"legend\": {\"itemsizing\": \"constant\", \"tracegroupgap\": 0}, \"mapbox\": {\"accesstoken\": \"pk.eyJ1IjoiYm1jY2FydHk1MDUiLCJhIjoiY2tvbnJvdnFkMDNuZzJ2cHBwbTd1d2dibiJ9.m6-cNXAgqZ4WZZUWhoTjKA\", \"center\": {\"lat\": 38.3295241953953, \"lon\": -122.3340846822716}, \"domain\": {\"x\": [0.0, 1.0], \"y\": [0.0, 1.0]}, \"style\": \"light\", \"zoom\": 10.25}, \"template\": {\"data\": {\"bar\": [{\"error_x\": {\"color\": \"#2a3f5f\"}, \"error_y\": {\"color\": \"#2a3f5f\"}, \"marker\": {\"line\": {\"color\": \"#E5ECF6\", \"width\": 0.5}}, \"type\": \"bar\"}], \"barpolar\": [{\"marker\": {\"line\": {\"color\": \"#E5ECF6\", \"width\": 0.5}}, \"type\": \"barpolar\"}], \"carpet\": [{\"aaxis\": {\"endlinecolor\": \"#2a3f5f\", \"gridcolor\": \"white\", \"linecolor\": \"white\", \"minorgridcolor\": \"white\", \"startlinecolor\": \"#2a3f5f\"}, \"baxis\": {\"endlinecolor\": \"#2a3f5f\", \"gridcolor\": \"white\", \"linecolor\": \"white\", \"minorgridcolor\": \"white\", \"startlinecolor\": \"#2a3f5f\"}, \"type\": \"carpet\"}], \"choropleth\": [{\"colorbar\": {\"outlinewidth\": 0, \"ticks\": \"\"}, \"type\": \"choropleth\"}], \"contour\": [{\"colorbar\": {\"outlinewidth\": 0, \"ticks\": \"\"}, \"colorscale\": [[0.0, \"#0d0887\"], [0.1111111111111111, \"#46039f\"], [0.2222222222222222, \"#7201a8\"], [0.3333333333333333, \"#9c179e\"], [0.4444444444444444, \"#bd3786\"], [0.5555555555555556, \"#d8576b\"], [0.6666666666666666, \"#ed7953\"], [0.7777777777777778, \"#fb9f3a\"], [0.8888888888888888, \"#fdca26\"], [1.0, \"#f0f921\"]], \"type\": \"contour\"}], \"contourcarpet\": [{\"colorbar\": {\"outlinewidth\": 0, \"ticks\": \"\"}, \"type\": \"contourcarpet\"}], \"heatmap\": [{\"colorbar\": {\"outlinewidth\": 0, \"ticks\": \"\"}, \"colorscale\": [[0.0, \"#0d0887\"], [0.1111111111111111, \"#46039f\"], [0.2222222222222222, \"#7201a8\"], [0.3333333333333333, \"#9c179e\"], [0.4444444444444444, \"#bd3786\"], [0.5555555555555556, \"#d8576b\"], [0.6666666666666666, \"#ed7953\"], [0.7777777777777778, \"#fb9f3a\"], [0.8888888888888888, \"#fdca26\"], [1.0, \"#f0f921\"]], \"type\": \"heatmap\"}], \"heatmapgl\": [{\"colorbar\": {\"outlinewidth\": 0, \"ticks\": \"\"}, \"colorscale\": [[0.0, \"#0d0887\"], [0.1111111111111111, \"#46039f\"], [0.2222222222222222, \"#7201a8\"], [0.3333333333333333, \"#9c179e\"], [0.4444444444444444, \"#bd3786\"], [0.5555555555555556, \"#d8576b\"], [0.6666666666666666, \"#ed7953\"], [0.7777777777777778, \"#fb9f3a\"], [0.8888888888888888, \"#fdca26\"], [1.0, \"#f0f921\"]], \"type\": \"heatmapgl\"}], \"histogram\": [{\"marker\": {\"colorbar\": {\"outlinewidth\": 0, \"ticks\": \"\"}}, \"type\": \"histogram\"}], \"histogram2d\": [{\"colorbar\": {\"outlinewidth\": 0, \"ticks\": \"\"}, \"colorscale\": [[0.0, \"#0d0887\"], [0.1111111111111111, \"#46039f\"], [0.2222222222222222, \"#7201a8\"], [0.3333333333333333, \"#9c179e\"], [0.4444444444444444, \"#bd3786\"], [0.5555555555555556, \"#d8576b\"], [0.6666666666666666, \"#ed7953\"], [0.7777777777777778, \"#fb9f3a\"], [0.8888888888888888, \"#fdca26\"], [1.0, \"#f0f921\"]], \"type\": \"histogram2d\"}], \"histogram2dcontour\": [{\"colorbar\": {\"outlinewidth\": 0, \"ticks\": \"\"}, \"colorscale\": [[0.0, \"#0d0887\"], [0.1111111111111111, \"#46039f\"], [0.2222222222222222, \"#7201a8\"], [0.3333333333333333, \"#9c179e\"], [0.4444444444444444, \"#bd3786\"], [0.5555555555555556, \"#d8576b\"], [0.6666666666666666, \"#ed7953\"], [0.7777777777777778, \"#fb9f3a\"], [0.8888888888888888, \"#fdca26\"], [1.0, \"#f0f921\"]], \"type\": \"histogram2dcontour\"}], \"mesh3d\": [{\"colorbar\": {\"outlinewidth\": 0, \"ticks\": \"\"}, \"type\": \"mesh3d\"}], \"parcoords\": [{\"line\": {\"colorbar\": {\"outlinewidth\": 0, \"ticks\": \"\"}}, \"type\": \"parcoords\"}], \"pie\": [{\"automargin\": true, \"type\": \"pie\"}], \"scatter\": [{\"marker\": {\"colorbar\": {\"outlinewidth\": 0, \"ticks\": \"\"}}, \"type\": \"scatter\"}], \"scatter3d\": [{\"line\": {\"colorbar\": {\"outlinewidth\": 0, \"ticks\": \"\"}}, \"marker\": {\"colorbar\": {\"outlinewidth\": 0, \"ticks\": \"\"}}, \"type\": \"scatter3d\"}], \"scattercarpet\": [{\"marker\": {\"colorbar\": {\"outlinewidth\": 0, \"ticks\": \"\"}}, \"type\": \"scattercarpet\"}], \"scattergeo\": [{\"marker\": {\"colorbar\": {\"outlinewidth\": 0, \"ticks\": \"\"}}, \"type\": \"scattergeo\"}], \"scattergl\": [{\"marker\": {\"colorbar\": {\"outlinewidth\": 0, \"ticks\": \"\"}}, \"type\": \"scattergl\"}], \"scattermapbox\": [{\"marker\": {\"colorbar\": {\"outlinewidth\": 0, \"ticks\": \"\"}}, \"type\": \"scattermapbox\"}], \"scatterpolar\": [{\"marker\": {\"colorbar\": {\"outlinewidth\": 0, \"ticks\": \"\"}}, \"type\": \"scatterpolar\"}], \"scatterpolargl\": [{\"marker\": {\"colorbar\": {\"outlinewidth\": 0, \"ticks\": \"\"}}, \"type\": \"scatterpolargl\"}], \"scatterternary\": [{\"marker\": {\"colorbar\": {\"outlinewidth\": 0, \"ticks\": \"\"}}, \"type\": \"scatterternary\"}], \"surface\": [{\"colorbar\": {\"outlinewidth\": 0, \"ticks\": \"\"}, \"colorscale\": [[0.0, \"#0d0887\"], [0.1111111111111111, \"#46039f\"], [0.2222222222222222, \"#7201a8\"], [0.3333333333333333, \"#9c179e\"], [0.4444444444444444, \"#bd3786\"], [0.5555555555555556, \"#d8576b\"], [0.6666666666666666, \"#ed7953\"], [0.7777777777777778, \"#fb9f3a\"], [0.8888888888888888, \"#fdca26\"], [1.0, \"#f0f921\"]], \"type\": \"surface\"}], \"table\": [{\"cells\": {\"fill\": {\"color\": \"#EBF0F8\"}, \"line\": {\"color\": \"white\"}}, \"header\": {\"fill\": {\"color\": \"#C8D4E3\"}, \"line\": {\"color\": \"white\"}}, \"type\": \"table\"}]}, \"layout\": {\"annotationdefaults\": {\"arrowcolor\": \"#2a3f5f\", \"arrowhead\": 0, \"arrowwidth\": 1}, \"coloraxis\": {\"colorbar\": {\"outlinewidth\": 0, \"ticks\": \"\"}}, \"colorscale\": {\"diverging\": [[0, \"#8e0152\"], [0.1, \"#c51b7d\"], [0.2, \"#de77ae\"], [0.3, \"#f1b6da\"], [0.4, \"#fde0ef\"], [0.5, \"#f7f7f7\"], [0.6, \"#e6f5d0\"], [0.7, \"#b8e186\"], [0.8, \"#7fbc41\"], [0.9, \"#4d9221\"], [1, \"#276419\"]], \"sequential\": [[0.0, \"#0d0887\"], [0.1111111111111111, \"#46039f\"], [0.2222222222222222, \"#7201a8\"], [0.3333333333333333, \"#9c179e\"], [0.4444444444444444, \"#bd3786\"], [0.5555555555555556, \"#d8576b\"], [0.6666666666666666, \"#ed7953\"], [0.7777777777777778, \"#fb9f3a\"], [0.8888888888888888, \"#fdca26\"], [1.0, \"#f0f921\"]], \"sequentialminus\": [[0.0, \"#0d0887\"], [0.1111111111111111, \"#46039f\"], [0.2222222222222222, \"#7201a8\"], [0.3333333333333333, \"#9c179e\"], [0.4444444444444444, \"#bd3786\"], [0.5555555555555556, \"#d8576b\"], [0.6666666666666666, \"#ed7953\"], [0.7777777777777778, \"#fb9f3a\"], [0.8888888888888888, \"#fdca26\"], [1.0, \"#f0f921\"]]}, \"colorway\": [\"#636efa\", \"#EF553B\", \"#00cc96\", \"#ab63fa\", \"#FFA15A\", \"#19d3f3\", \"#FF6692\", \"#B6E880\", \"#FF97FF\", \"#FECB52\"], \"font\": {\"color\": \"#2a3f5f\"}, \"geo\": {\"bgcolor\": \"white\", \"lakecolor\": \"white\", \"landcolor\": \"#E5ECF6\", \"showlakes\": true, \"showland\": true, \"subunitcolor\": \"white\"}, \"hoverlabel\": {\"align\": \"left\"}, \"hovermode\": \"closest\", \"mapbox\": {\"style\": \"light\"}, \"paper_bgcolor\": \"white\", \"plot_bgcolor\": \"#E5ECF6\", \"polar\": {\"angularaxis\": {\"gridcolor\": \"white\", \"linecolor\": \"white\", \"ticks\": \"\"}, \"bgcolor\": \"#E5ECF6\", \"radialaxis\": {\"gridcolor\": \"white\", \"linecolor\": \"white\", \"ticks\": \"\"}}, \"scene\": {\"xaxis\": {\"backgroundcolor\": \"#E5ECF6\", \"gridcolor\": \"white\", \"gridwidth\": 2, \"linecolor\": \"white\", \"showbackground\": true, \"ticks\": \"\", \"zerolinecolor\": \"white\"}, \"yaxis\": {\"backgroundcolor\": \"#E5ECF6\", \"gridcolor\": \"white\", \"gridwidth\": 2, \"linecolor\": \"white\", \"showbackground\": true, \"ticks\": \"\", \"zerolinecolor\": \"white\"}, \"zaxis\": {\"backgroundcolor\": \"#E5ECF6\", \"gridcolor\": \"white\", \"gridwidth\": 2, \"linecolor\": \"white\", \"showbackground\": true, \"ticks\": \"\", \"zerolinecolor\": \"white\"}}, \"shapedefaults\": {\"line\": {\"color\": \"#2a3f5f\"}}, \"ternary\": {\"aaxis\": {\"gridcolor\": \"white\", \"linecolor\": \"white\", \"ticks\": \"\"}, \"baxis\": {\"gridcolor\": \"white\", \"linecolor\": \"white\", \"ticks\": \"\"}, \"bgcolor\": \"#E5ECF6\", \"caxis\": {\"gridcolor\": \"white\", \"linecolor\": \"white\", \"ticks\": \"\"}}, \"title\": {\"x\": 0.05}, \"xaxis\": {\"automargin\": true, \"gridcolor\": \"white\", \"linecolor\": \"white\", \"ticks\": \"\", \"title\": {\"standoff\": 15}, \"zerolinecolor\": \"white\", \"zerolinewidth\": 2}, \"yaxis\": {\"automargin\": true, \"gridcolor\": \"white\", \"linecolor\": \"white\", \"ticks\": \"\", \"title\": {\"standoff\": 15}, \"zerolinecolor\": \"white\", \"zerolinewidth\": 2}}}, \"title\": {\"text\": \"Napa Valley Wineries\"}, \"width\": 900},                        {\"responsive\": true}                    ).then(function(){\n",
       "                            \n",
       "var gd = document.getElementById('9d379999-dd49-4deb-93a1-a9d74f1c1390');\n",
       "var x = new MutationObserver(function (mutations, observer) {{\n",
       "        var display = window.getComputedStyle(gd).display;\n",
       "        if (!display || display === 'none') {{\n",
       "            console.log([gd, 'removed!']);\n",
       "            Plotly.purge(gd);\n",
       "            observer.disconnect();\n",
       "        }}\n",
       "}});\n",
       "\n",
       "// Listen for the removal of the full notebook cells\n",
       "var notebookContainer = gd.closest('#notebook-container');\n",
       "if (notebookContainer) {{\n",
       "    x.observe(notebookContainer, {childList: true});\n",
       "}}\n",
       "\n",
       "// Listen for the clearing of the current output cell\n",
       "var outputEl = gd.closest('.output');\n",
       "if (outputEl) {{\n",
       "    x.observe(outputEl, {childList: true});\n",
       "}}\n",
       "\n",
       "                        })                };                });            </script>        </div>"
      ]
     },
     "metadata": {},
     "output_type": "display_data"
    },
    {
     "data": {
      "text/plain": [
       "<Figure size 432x288 with 0 Axes>"
      ]
     },
     "metadata": {},
     "output_type": "display_data"
    }
   ],
   "source": [
    "# Creating geospatial view of Napa Valley Wineries\n",
    "\n",
    "with open(r'C:\\Users\\bmcca\\.secret\\mapbox_api.json') as f:\n",
    "    token = json.load(f)\n",
    "\n",
    "open(r'C:\\Users\\bmcca\\.secret\\mapbox_api.json').read()\n",
    "    \n",
    "token = token['token']\n",
    "\n",
    "px.set_mapbox_access_token(token)\n",
    "\n",
    "fig = px.scatter_mapbox(df_nv, lat= \"latitude\", lon= \"longitude\", \n",
    "                         range_color= (0, 3),\n",
    "                        labels= {\"price_converted\": \"Price ($) \",\n",
    "                                 \"latitude\":\"Latitude \",\n",
    "                                 \"longitude\":\"Longitude \",\n",
    "                                 'review_count':'Number of Reviews '},\n",
    "                        size= 'review_count', hover_name = df_nv[\"name\"],\n",
    "                        size_max=15, zoom=10.25, title='Napa Valley Wineries',\n",
    "                        mapbox_style='light', width=900, height=900)\n",
    "fig.show()"
   ]
  },
  {
   "cell_type": "code",
   "execution_count": 59,
   "metadata": {
    "ExecuteTime": {
     "end_time": "2021-05-15T20:59:17.648105Z",
     "start_time": "2021-05-15T20:59:17.589278Z"
    },
    "hidden": true
   },
   "outputs": [
    {
     "data": {
      "text/html": [
       "<div>\n",
       "<style scoped>\n",
       "    .dataframe tbody tr th:only-of-type {\n",
       "        vertical-align: middle;\n",
       "    }\n",
       "\n",
       "    .dataframe tbody tr th {\n",
       "        vertical-align: top;\n",
       "    }\n",
       "\n",
       "    .dataframe thead th {\n",
       "        text-align: right;\n",
       "    }\n",
       "</style>\n",
       "<table border=\"1\" class=\"dataframe\">\n",
       "  <thead>\n",
       "    <tr style=\"text-align: right;\">\n",
       "      <th></th>\n",
       "      <th>name</th>\n",
       "      <th>location</th>\n",
       "      <th>Business ID</th>\n",
       "      <th>alias</th>\n",
       "      <th>title</th>\n",
       "      <th>rating</th>\n",
       "      <th>review_count</th>\n",
       "      <th>price</th>\n",
       "      <th>latitude</th>\n",
       "      <th>longitude</th>\n",
       "      <th>price_converted</th>\n",
       "      <th>City</th>\n",
       "    </tr>\n",
       "  </thead>\n",
       "  <tbody>\n",
       "    <tr>\n",
       "      <th>0</th>\n",
       "      <td>Bernardo Winery</td>\n",
       "      <td>13330 Paseo Del Verano Norte San Diego, CA 92128</td>\n",
       "      <td>DknnpiG1p4OoM1maFshzXA</td>\n",
       "      <td>winetastingroom</td>\n",
       "      <td>Wine Tasting Room</td>\n",
       "      <td>4.5</td>\n",
       "      <td>626</td>\n",
       "      <td>$$</td>\n",
       "      <td>33.032800</td>\n",
       "      <td>-117.046460</td>\n",
       "      <td>2</td>\n",
       "      <td>San Diego</td>\n",
       "    </tr>\n",
       "    <tr>\n",
       "      <th>1</th>\n",
       "      <td>Callaway Vineyard &amp; Winery</td>\n",
       "      <td>517 4th Ave Ste 101 San Diego, CA 92101</td>\n",
       "      <td>Cn2_bpTngghYW1ej4zreZg</td>\n",
       "      <td>winetastingroom</td>\n",
       "      <td>Wine Tasting Room</td>\n",
       "      <td>5.0</td>\n",
       "      <td>100</td>\n",
       "      <td>$$</td>\n",
       "      <td>32.710751</td>\n",
       "      <td>-117.160918</td>\n",
       "      <td>2</td>\n",
       "      <td>San Diego</td>\n",
       "    </tr>\n",
       "    <tr>\n",
       "      <th>2</th>\n",
       "      <td>Négociant Winery</td>\n",
       "      <td>2419 El Cajon Blvd San Diego, CA 92104</td>\n",
       "      <td>Cc1sQWRWgGyMCjzX2mmMQQ</td>\n",
       "      <td>winetastingroom</td>\n",
       "      <td>Wine Tasting Room</td>\n",
       "      <td>4.5</td>\n",
       "      <td>103</td>\n",
       "      <td>$$</td>\n",
       "      <td>32.754880</td>\n",
       "      <td>-117.138280</td>\n",
       "      <td>2</td>\n",
       "      <td>San Diego</td>\n",
       "    </tr>\n",
       "    <tr>\n",
       "      <th>3</th>\n",
       "      <td>San Pasqual Winery - Seaport Village</td>\n",
       "      <td>805 W Harbor Dr San Diego, CA 92101</td>\n",
       "      <td>gMW1RvyLu90RSQAY9UrIHw</td>\n",
       "      <td>winetastingroom</td>\n",
       "      <td>Wine Tasting Room</td>\n",
       "      <td>4.5</td>\n",
       "      <td>138</td>\n",
       "      <td>$$</td>\n",
       "      <td>32.708732</td>\n",
       "      <td>-117.168195</td>\n",
       "      <td>2</td>\n",
       "      <td>San Diego</td>\n",
       "    </tr>\n",
       "    <tr>\n",
       "      <th>4</th>\n",
       "      <td>Domaine Artefact Vineyard &amp; Winery</td>\n",
       "      <td>15404 Highland Valley Rd Escondido, CA 92025</td>\n",
       "      <td>WqVbxY77Ag96X90LultCUw</td>\n",
       "      <td>wineries</td>\n",
       "      <td>Wineries</td>\n",
       "      <td>5.0</td>\n",
       "      <td>96</td>\n",
       "      <td>$$</td>\n",
       "      <td>33.068170</td>\n",
       "      <td>-117.001600</td>\n",
       "      <td>2</td>\n",
       "      <td>San Diego</td>\n",
       "    </tr>\n",
       "    <tr>\n",
       "      <th>...</th>\n",
       "      <td>...</td>\n",
       "      <td>...</td>\n",
       "      <td>...</td>\n",
       "      <td>...</td>\n",
       "      <td>...</td>\n",
       "      <td>...</td>\n",
       "      <td>...</td>\n",
       "      <td>...</td>\n",
       "      <td>...</td>\n",
       "      <td>...</td>\n",
       "      <td>...</td>\n",
       "      <td>...</td>\n",
       "    </tr>\n",
       "    <tr>\n",
       "      <th>77</th>\n",
       "      <td>Roll OutThe Barrell Charity Event by Meritage</td>\n",
       "      <td>162 S Rancho Santa Fe Rd Encinitas, CA 92024</td>\n",
       "      <td>wyLm9fIoamN-VALcu3nUVg</td>\n",
       "      <td>wineries</td>\n",
       "      <td>Wineries</td>\n",
       "      <td>4.0</td>\n",
       "      <td>1</td>\n",
       "      <td>$$</td>\n",
       "      <td>33.037121</td>\n",
       "      <td>-117.238654</td>\n",
       "      <td>2</td>\n",
       "      <td>San Diego</td>\n",
       "    </tr>\n",
       "    <tr>\n",
       "      <th>78</th>\n",
       "      <td>Licores Kentucky</td>\n",
       "      <td>Calle Puerto y 3ra S/N Col. Centro 22000 Tijua...</td>\n",
       "      <td>B7gID-M2EsdpthrTcwTNYA</td>\n",
       "      <td>wineries</td>\n",
       "      <td>Wineries</td>\n",
       "      <td>5.0</td>\n",
       "      <td>1</td>\n",
       "      <td>$$</td>\n",
       "      <td>32.534236</td>\n",
       "      <td>-117.034976</td>\n",
       "      <td>2</td>\n",
       "      <td>San Diego</td>\n",
       "    </tr>\n",
       "    <tr>\n",
       "      <th>79</th>\n",
       "      <td>Barrica 9</td>\n",
       "      <td>Av. Revolución 1265 Col. Zona Centro 22000 Tij...</td>\n",
       "      <td>HxTqmzT4G43iAKXrB3pqQg</td>\n",
       "      <td>winetastingroom</td>\n",
       "      <td>Wine Tasting Room</td>\n",
       "      <td>4.5</td>\n",
       "      <td>7</td>\n",
       "      <td>$$</td>\n",
       "      <td>32.530430</td>\n",
       "      <td>-117.036500</td>\n",
       "      <td>2</td>\n",
       "      <td>San Diego</td>\n",
       "    </tr>\n",
       "    <tr>\n",
       "      <th>80</th>\n",
       "      <td>RL Liquid Assets, Inc</td>\n",
       "      <td>5909 Sea Lion Pl Ste G Carlsbad, CA 92010</td>\n",
       "      <td>-STecUUsS69EMSE7PxwPwA</td>\n",
       "      <td>wineries</td>\n",
       "      <td>Wineries</td>\n",
       "      <td>3.0</td>\n",
       "      <td>2</td>\n",
       "      <td>$$</td>\n",
       "      <td>33.134743</td>\n",
       "      <td>-117.248093</td>\n",
       "      <td>2</td>\n",
       "      <td>San Diego</td>\n",
       "    </tr>\n",
       "    <tr>\n",
       "      <th>81</th>\n",
       "      <td>Cactus Star Vineyard at Scaredy Cat Ranch</td>\n",
       "      <td>17029 Handlebar Rd Ramona, CA 92065</td>\n",
       "      <td>ZeiVSF1SMdVVSkiGE7qaSg</td>\n",
       "      <td>winetastingroom</td>\n",
       "      <td>Wine Tasting Room</td>\n",
       "      <td>5.0</td>\n",
       "      <td>8</td>\n",
       "      <td>$</td>\n",
       "      <td>33.020150</td>\n",
       "      <td>-116.928140</td>\n",
       "      <td>1</td>\n",
       "      <td>San Diego</td>\n",
       "    </tr>\n",
       "  </tbody>\n",
       "</table>\n",
       "<p>82 rows × 12 columns</p>\n",
       "</div>"
      ],
      "text/plain": [
       "                                             name  \\\n",
       "0                                 Bernardo Winery   \n",
       "1                      Callaway Vineyard & Winery   \n",
       "2                                Négociant Winery   \n",
       "3            San Pasqual Winery - Seaport Village   \n",
       "4              Domaine Artefact Vineyard & Winery   \n",
       "..                                            ...   \n",
       "77  Roll OutThe Barrell Charity Event by Meritage   \n",
       "78                               Licores Kentucky   \n",
       "79                                      Barrica 9   \n",
       "80                          RL Liquid Assets, Inc   \n",
       "81      Cactus Star Vineyard at Scaredy Cat Ranch   \n",
       "\n",
       "                                             location             Business ID  \\\n",
       "0    13330 Paseo Del Verano Norte San Diego, CA 92128  DknnpiG1p4OoM1maFshzXA   \n",
       "1             517 4th Ave Ste 101 San Diego, CA 92101  Cn2_bpTngghYW1ej4zreZg   \n",
       "2              2419 El Cajon Blvd San Diego, CA 92104  Cc1sQWRWgGyMCjzX2mmMQQ   \n",
       "3                 805 W Harbor Dr San Diego, CA 92101  gMW1RvyLu90RSQAY9UrIHw   \n",
       "4        15404 Highland Valley Rd Escondido, CA 92025  WqVbxY77Ag96X90LultCUw   \n",
       "..                                                ...                     ...   \n",
       "77       162 S Rancho Santa Fe Rd Encinitas, CA 92024  wyLm9fIoamN-VALcu3nUVg   \n",
       "78  Calle Puerto y 3ra S/N Col. Centro 22000 Tijua...  B7gID-M2EsdpthrTcwTNYA   \n",
       "79  Av. Revolución 1265 Col. Zona Centro 22000 Tij...  HxTqmzT4G43iAKXrB3pqQg   \n",
       "80          5909 Sea Lion Pl Ste G Carlsbad, CA 92010  -STecUUsS69EMSE7PxwPwA   \n",
       "81                17029 Handlebar Rd Ramona, CA 92065  ZeiVSF1SMdVVSkiGE7qaSg   \n",
       "\n",
       "              alias              title  rating  review_count price   latitude  \\\n",
       "0   winetastingroom  Wine Tasting Room     4.5           626    $$  33.032800   \n",
       "1   winetastingroom  Wine Tasting Room     5.0           100    $$  32.710751   \n",
       "2   winetastingroom  Wine Tasting Room     4.5           103    $$  32.754880   \n",
       "3   winetastingroom  Wine Tasting Room     4.5           138    $$  32.708732   \n",
       "4          wineries           Wineries     5.0            96    $$  33.068170   \n",
       "..              ...                ...     ...           ...   ...        ...   \n",
       "77         wineries           Wineries     4.0             1    $$  33.037121   \n",
       "78         wineries           Wineries     5.0             1    $$  32.534236   \n",
       "79  winetastingroom  Wine Tasting Room     4.5             7    $$  32.530430   \n",
       "80         wineries           Wineries     3.0             2    $$  33.134743   \n",
       "81  winetastingroom  Wine Tasting Room     5.0             8     $  33.020150   \n",
       "\n",
       "     longitude  price_converted       City  \n",
       "0  -117.046460                2  San Diego  \n",
       "1  -117.160918                2  San Diego  \n",
       "2  -117.138280                2  San Diego  \n",
       "3  -117.168195                2  San Diego  \n",
       "4  -117.001600                2  San Diego  \n",
       "..         ...              ...        ...  \n",
       "77 -117.238654                2  San Diego  \n",
       "78 -117.034976                2  San Diego  \n",
       "79 -117.036500                2  San Diego  \n",
       "80 -117.248093                2  San Diego  \n",
       "81 -116.928140                1  San Diego  \n",
       "\n",
       "[82 rows x 12 columns]"
      ]
     },
     "execution_count": 59,
     "metadata": {},
     "output_type": "execute_result"
    }
   ],
   "source": [
    "df_sd = combined[combined['City'] == 'San Diego']\n",
    "df_sd"
   ]
  },
  {
   "cell_type": "code",
   "execution_count": 60,
   "metadata": {
    "ExecuteTime": {
     "end_time": "2021-05-15T20:59:17.758106Z",
     "start_time": "2021-05-15T20:59:17.654106Z"
    },
    "code_folding": [],
    "hidden": true,
    "scrolled": false
   },
   "outputs": [
    {
     "data": {
      "application/vnd.plotly.v1+json": {
       "config": {
        "plotlyServerURL": "https://plot.ly"
       },
       "data": [
        {
         "hovertemplate": "<b>%{hovertext}</b><br><br>Number of Reviews =%{marker.size}<br>Latitude =%{lat}<br>Longitude =%{lon}<br>Price ($) =%{marker.color}<extra></extra>",
         "hovertext": [
          "Bernardo Winery",
          "Callaway Vineyard & Winery",
          "Négociant Winery",
          "San Pasqual Winery - Seaport Village",
          "Domaine Artefact Vineyard & Winery",
          "Carruth Cellars Wine Garden",
          "Blue Door Urban Winery",
          "Cordiano Winery",
          "FruitCraft - Fermentery & Distillery",
          "Pali Wine Co",
          "LJ Crafted Wines - Wines & Tastings",
          "San Pasqual Winery",
          "Altipiano Vineyard & Winery",
          "Speckle Rock Vineyards",
          "Gianni Buonomo Vintners",
          "Koi Zen Cellars",
          "La Mesa Wine Works",
          "Abnormal Wine Company",
          "Highland Valley Vineyards",
          "80 Sips Around the World",
          "Granite Lion Cellars",
          "Three Hills Winery",
          "Woof'n Rose Winery and Vineyard",
          "Bastian's Vineyards",
          "Rustic Ridge Vineyards",
          "Rose's Tasting Room",
          "Vineyard Grant James",
          "Espinosa Vineyards and Winery",
          "Charlie & Echo",
          "So Cal Wines",
          "California Wine Line",
          "San Pasqual Winery Tasting Room & Gallery",
          "Chuparosa Vineyards",
          "Principe di Tricase Winery",
          "Quigley Fine Wines",
          "Hatfield Creek Winery",
          "Record Family Wines",
          "Dulzura Vineyard & Winery",
          "Wine Smarties",
          "Cheval Winery",
          "Mermaid Valley Vineyard",
          "La Finquita Winery & Vineyard",
          "Old Julian Vineyards & Winery",
          "Hungry Hawk Vineyards & Winery",
          "Trevi Hills",
          "Poppaea Vineyard",
          "Rancho Guejito Vineyard",
          "Barrel 1 Winery",
          "Mahogany Mountain Vineyard and Winery",
          "Crystal Hill Vineyard",
          "Old Survey Vineyards",
          "Forgotten Barrel Tasting Room",
          "Mission Cellars",
          "Turtle Rock Ridge Vineyard Winery",
          "Schwaesdall Winery",
          "Castelli Family Vineyards",
          "Carruth Cellars",
          "Correcaminos Vineyard",
          "Rock Canyon Vineyards",
          "Siela Wines",
          "La Jolla Art & Wine Festival",
          "Pamo Valley Winery Tasting Room",
          "L.A. Cetto",
          "Campo Creek Vineyards Tasting Room",
          "Mia Marie Vineyards",
          "Edwards Vineyard & Cellars",
          "Milagro Farm Winery",
          "ZXQ Vineyards",
          "Kohill Winery",
          "I Love Wine",
          "Barrel Riot",
          "Vineyard Grant James",
          "GSalinas Negociante en Vinos",
          "Good Omen Mead",
          "Sans V Tasting Room",
          "La Contra",
          "Rashelica Winery & Art Garden",
          "Roll OutThe Barrell Charity Event by Meritage",
          "Licores Kentucky",
          "Barrica 9",
          "RL Liquid Assets, Inc",
          "Cactus Star Vineyard at Scaredy Cat Ranch"
         ],
         "lat": [
          33.0328,
          32.710750611729395,
          32.75488,
          32.7087316452387,
          33.06817,
          32.72748,
          32.814091,
          33.068117972323016,
          32.748217219191105,
          32.7267968,
          32.81438,
          32.771589399999996,
          33.063289642334,
          33.0613615832364,
          32.745389,
          32.9864799,
          32.7716259387843,
          33.023853302002,
          33.071769714355504,
          32.715738,
          32.715435,
          33.03098,
          33.021401000000004,
          33.070271999999996,
          32.72896,
          32.7555682871263,
          33.052155931209,
          33.0704482,
          32.89655,
          32.917669399999994,
          32.6059744,
          32.76572,
          33.009689,
          33.0246391,
          32.6837679,
          33.0441995688399,
          32.748259999999995,
          32.639056,
          32.90345,
          33.12341,
          33.0268827348204,
          33.031776799999996,
          33.052261,
          33.09388,
          32.89992,
          33.0555,
          33.095456,
          33.0632476806641,
          32.9863389262394,
          33.049052,
          33.0778968096676,
          33.1022,
          32.96892183,
          33.033069610595696,
          33.008227000000005,
          33.06372,
          32.99163,
          33.0762799,
          32.8350521,
          33.0656310151373,
          32.837047576904304,
          33.0455332,
          32.524224,
          32.9566704507056,
          33.070192,
          33.0666150952216,
          33.052468,
          33.065709999999996,
          33.0285148620605,
          32.801342,
          33.12177,
          33.05236,
          32.5126076,
          33.12182,
          33.121009,
          32.521736,
          33.010505,
          33.037121,
          32.534236,
          32.530429999999996,
          33.134743,
          33.02015
         ],
         "legendgroup": "",
         "lon": [
          -117.04646000000001,
          -117.160917759246,
          -117.13828000000001,
          -117.168194991742,
          -117.0016,
          -117.17056000000001,
          -117.218254,
          -116.99171457055219,
          -117.149462938309,
          -117.1697587,
          -117.2695,
          -117.02131809999999,
          -117.00439453125,
          -116.97740401976601,
          -117.24811000000001,
          -117.07214499999999,
          -117.021328279762,
          -117.085762023926,
          -117.00839233398399,
          -117.1610838,
          -116.84783157306343,
          -116.96538000000001,
          -116.93693300000001,
          -117.01131799999999,
          -116.83318,
          -117.19690329126301,
          -116.78319322693899,
          -117.0094544,
          -117.13743000000001,
          -117.2309713,
          -117.0441009,
          -117.01787,
          -116.85849499999999,
          -116.93266299999999,
          -117.0923119,
          -116.828583402447,
          -117.15441000000001,
          -116.769926,
          -117.18321999999999,
          -117.13297,
          -116.93342195866501,
          -116.82126540000002,
          -116.78121100000001,
          -117.03008,
          -116.89408,
          -116.77747,
          -116.95748700000001,
          -116.843803405762,
          -116.91655755043001,
          -116.808999,
          -116.96157606030899,
          -117.08685,
          -117.0359015,
          -116.82577514648399,
          -116.92434209999999,
          -116.93436000000001,
          -117.27013999999998,
          -116.86303999999998,
          -116.76641090000001,
          -117.3028134612,
          -117.255386352539,
          -116.8624832,
          -117.037935,
          -117.037956596771,
          -117.016705,
          -116.757814805557,
          -116.750704,
          -116.99772,
          -116.953086853027,
          -117.22536470000001,
          -117.08053999999998,
          -116.78258999999998,
          -117.00246429999999,
          -117.08044,
          -117.115748,
          -117.026009,
          -116.91950800000001,
          -117.238654,
          -117.034976,
          -117.0365,
          -117.248093,
          -116.92813999999998
         ],
         "marker": {
          "color": [
           2,
           2,
           2,
           2,
           2,
           2,
           2,
           2,
           2,
           2,
           2,
           2,
           2,
           2,
           2,
           2,
           2,
           2,
           2,
           2,
           2,
           2,
           2,
           2,
           2,
           2,
           2,
           2,
           1,
           2,
           2,
           2,
           2,
           2,
           2,
           2,
           2,
           2,
           2,
           2,
           2,
           2,
           2,
           2,
           2,
           2,
           2,
           2,
           2,
           2,
           2,
           2,
           2,
           2,
           2,
           2,
           2,
           2,
           2,
           2,
           1,
           2,
           2,
           2,
           2,
           2,
           2,
           2,
           2,
           2,
           2,
           2,
           3,
           2,
           2,
           2,
           2,
           2,
           2,
           2,
           2,
           1
          ],
          "coloraxis": "coloraxis",
          "size": [
           626,
           100,
           103,
           138,
           96,
           196,
           76,
           547,
           308,
           173,
           85,
           20,
           111,
           59,
           55,
           113,
           43,
           99,
           38,
           1,
           26,
           6,
           23,
           1,
           18,
           99,
           155,
           126,
           12,
           2,
           2,
           81,
           39,
           71,
           3,
           103,
           3,
           24,
           26,
           33,
           3,
           45,
           4,
           118,
           15,
           19,
           31,
           33,
           14,
           9,
           26,
           76,
           46,
           114,
           23,
           8,
           245,
           29,
           7,
           1,
           14,
           54,
           35,
           13,
           15,
           17,
           141,
           2,
           17,
           1,
           2,
           1,
           6,
           5,
           26,
           1,
           144,
           1,
           1,
           7,
           2,
           8
          ],
          "sizemode": "area",
          "sizeref": 2.7822222222222224
         },
         "mode": "markers",
         "name": "",
         "showlegend": false,
         "subplot": "mapbox",
         "type": "scattermapbox"
        }
       ],
       "layout": {
        "coloraxis": {
         "cmax": 3,
         "cmin": 0,
         "colorbar": {
          "title": {
           "text": "Price ($) "
          }
         },
         "colorscale": [
          [
           0,
           "rgb(255,255,255)"
          ],
          [
           0.125,
           "rgb(240,240,240)"
          ],
          [
           0.25,
           "rgb(217,217,217)"
          ],
          [
           0.375,
           "rgb(189,189,189)"
          ],
          [
           0.5,
           "rgb(150,150,150)"
          ],
          [
           0.625,
           "rgb(115,115,115)"
          ],
          [
           0.75,
           "rgb(82,82,82)"
          ],
          [
           0.875,
           "rgb(37,37,37)"
          ],
          [
           1,
           "rgb(0,0,0)"
          ]
         ]
        },
        "height": 900,
        "legend": {
         "itemsizing": "constant",
         "tracegroupgap": 0
        },
        "mapbox": {
         "accesstoken": "pk.eyJ1IjoiYm1jY2FydHk1MDUiLCJhIjoiY2tvbnJvdnFkMDNuZzJ2cHBwbTd1d2dibiJ9.m6-cNXAgqZ4WZZUWhoTjKA",
         "center": {
          "lat": 32.926059337907155,
          "lon": -117.01434377235367
         },
         "domain": {
          "x": [
           0,
           1
          ],
          "y": [
           0,
           1
          ]
         },
         "style": "light",
         "zoom": 9.75
        },
        "template": {
         "data": {
          "bar": [
           {
            "error_x": {
             "color": "#2a3f5f"
            },
            "error_y": {
             "color": "#2a3f5f"
            },
            "marker": {
             "line": {
              "color": "#E5ECF6",
              "width": 0.5
             }
            },
            "type": "bar"
           }
          ],
          "barpolar": [
           {
            "marker": {
             "line": {
              "color": "#E5ECF6",
              "width": 0.5
             }
            },
            "type": "barpolar"
           }
          ],
          "carpet": [
           {
            "aaxis": {
             "endlinecolor": "#2a3f5f",
             "gridcolor": "white",
             "linecolor": "white",
             "minorgridcolor": "white",
             "startlinecolor": "#2a3f5f"
            },
            "baxis": {
             "endlinecolor": "#2a3f5f",
             "gridcolor": "white",
             "linecolor": "white",
             "minorgridcolor": "white",
             "startlinecolor": "#2a3f5f"
            },
            "type": "carpet"
           }
          ],
          "choropleth": [
           {
            "colorbar": {
             "outlinewidth": 0,
             "ticks": ""
            },
            "type": "choropleth"
           }
          ],
          "contour": [
           {
            "colorbar": {
             "outlinewidth": 0,
             "ticks": ""
            },
            "colorscale": [
             [
              0,
              "#0d0887"
             ],
             [
              0.1111111111111111,
              "#46039f"
             ],
             [
              0.2222222222222222,
              "#7201a8"
             ],
             [
              0.3333333333333333,
              "#9c179e"
             ],
             [
              0.4444444444444444,
              "#bd3786"
             ],
             [
              0.5555555555555556,
              "#d8576b"
             ],
             [
              0.6666666666666666,
              "#ed7953"
             ],
             [
              0.7777777777777778,
              "#fb9f3a"
             ],
             [
              0.8888888888888888,
              "#fdca26"
             ],
             [
              1,
              "#f0f921"
             ]
            ],
            "type": "contour"
           }
          ],
          "contourcarpet": [
           {
            "colorbar": {
             "outlinewidth": 0,
             "ticks": ""
            },
            "type": "contourcarpet"
           }
          ],
          "heatmap": [
           {
            "colorbar": {
             "outlinewidth": 0,
             "ticks": ""
            },
            "colorscale": [
             [
              0,
              "#0d0887"
             ],
             [
              0.1111111111111111,
              "#46039f"
             ],
             [
              0.2222222222222222,
              "#7201a8"
             ],
             [
              0.3333333333333333,
              "#9c179e"
             ],
             [
              0.4444444444444444,
              "#bd3786"
             ],
             [
              0.5555555555555556,
              "#d8576b"
             ],
             [
              0.6666666666666666,
              "#ed7953"
             ],
             [
              0.7777777777777778,
              "#fb9f3a"
             ],
             [
              0.8888888888888888,
              "#fdca26"
             ],
             [
              1,
              "#f0f921"
             ]
            ],
            "type": "heatmap"
           }
          ],
          "heatmapgl": [
           {
            "colorbar": {
             "outlinewidth": 0,
             "ticks": ""
            },
            "colorscale": [
             [
              0,
              "#0d0887"
             ],
             [
              0.1111111111111111,
              "#46039f"
             ],
             [
              0.2222222222222222,
              "#7201a8"
             ],
             [
              0.3333333333333333,
              "#9c179e"
             ],
             [
              0.4444444444444444,
              "#bd3786"
             ],
             [
              0.5555555555555556,
              "#d8576b"
             ],
             [
              0.6666666666666666,
              "#ed7953"
             ],
             [
              0.7777777777777778,
              "#fb9f3a"
             ],
             [
              0.8888888888888888,
              "#fdca26"
             ],
             [
              1,
              "#f0f921"
             ]
            ],
            "type": "heatmapgl"
           }
          ],
          "histogram": [
           {
            "marker": {
             "colorbar": {
              "outlinewidth": 0,
              "ticks": ""
             }
            },
            "type": "histogram"
           }
          ],
          "histogram2d": [
           {
            "colorbar": {
             "outlinewidth": 0,
             "ticks": ""
            },
            "colorscale": [
             [
              0,
              "#0d0887"
             ],
             [
              0.1111111111111111,
              "#46039f"
             ],
             [
              0.2222222222222222,
              "#7201a8"
             ],
             [
              0.3333333333333333,
              "#9c179e"
             ],
             [
              0.4444444444444444,
              "#bd3786"
             ],
             [
              0.5555555555555556,
              "#d8576b"
             ],
             [
              0.6666666666666666,
              "#ed7953"
             ],
             [
              0.7777777777777778,
              "#fb9f3a"
             ],
             [
              0.8888888888888888,
              "#fdca26"
             ],
             [
              1,
              "#f0f921"
             ]
            ],
            "type": "histogram2d"
           }
          ],
          "histogram2dcontour": [
           {
            "colorbar": {
             "outlinewidth": 0,
             "ticks": ""
            },
            "colorscale": [
             [
              0,
              "#0d0887"
             ],
             [
              0.1111111111111111,
              "#46039f"
             ],
             [
              0.2222222222222222,
              "#7201a8"
             ],
             [
              0.3333333333333333,
              "#9c179e"
             ],
             [
              0.4444444444444444,
              "#bd3786"
             ],
             [
              0.5555555555555556,
              "#d8576b"
             ],
             [
              0.6666666666666666,
              "#ed7953"
             ],
             [
              0.7777777777777778,
              "#fb9f3a"
             ],
             [
              0.8888888888888888,
              "#fdca26"
             ],
             [
              1,
              "#f0f921"
             ]
            ],
            "type": "histogram2dcontour"
           }
          ],
          "mesh3d": [
           {
            "colorbar": {
             "outlinewidth": 0,
             "ticks": ""
            },
            "type": "mesh3d"
           }
          ],
          "parcoords": [
           {
            "line": {
             "colorbar": {
              "outlinewidth": 0,
              "ticks": ""
             }
            },
            "type": "parcoords"
           }
          ],
          "pie": [
           {
            "automargin": true,
            "type": "pie"
           }
          ],
          "scatter": [
           {
            "marker": {
             "colorbar": {
              "outlinewidth": 0,
              "ticks": ""
             }
            },
            "type": "scatter"
           }
          ],
          "scatter3d": [
           {
            "line": {
             "colorbar": {
              "outlinewidth": 0,
              "ticks": ""
             }
            },
            "marker": {
             "colorbar": {
              "outlinewidth": 0,
              "ticks": ""
             }
            },
            "type": "scatter3d"
           }
          ],
          "scattercarpet": [
           {
            "marker": {
             "colorbar": {
              "outlinewidth": 0,
              "ticks": ""
             }
            },
            "type": "scattercarpet"
           }
          ],
          "scattergeo": [
           {
            "marker": {
             "colorbar": {
              "outlinewidth": 0,
              "ticks": ""
             }
            },
            "type": "scattergeo"
           }
          ],
          "scattergl": [
           {
            "marker": {
             "colorbar": {
              "outlinewidth": 0,
              "ticks": ""
             }
            },
            "type": "scattergl"
           }
          ],
          "scattermapbox": [
           {
            "marker": {
             "colorbar": {
              "outlinewidth": 0,
              "ticks": ""
             }
            },
            "type": "scattermapbox"
           }
          ],
          "scatterpolar": [
           {
            "marker": {
             "colorbar": {
              "outlinewidth": 0,
              "ticks": ""
             }
            },
            "type": "scatterpolar"
           }
          ],
          "scatterpolargl": [
           {
            "marker": {
             "colorbar": {
              "outlinewidth": 0,
              "ticks": ""
             }
            },
            "type": "scatterpolargl"
           }
          ],
          "scatterternary": [
           {
            "marker": {
             "colorbar": {
              "outlinewidth": 0,
              "ticks": ""
             }
            },
            "type": "scatterternary"
           }
          ],
          "surface": [
           {
            "colorbar": {
             "outlinewidth": 0,
             "ticks": ""
            },
            "colorscale": [
             [
              0,
              "#0d0887"
             ],
             [
              0.1111111111111111,
              "#46039f"
             ],
             [
              0.2222222222222222,
              "#7201a8"
             ],
             [
              0.3333333333333333,
              "#9c179e"
             ],
             [
              0.4444444444444444,
              "#bd3786"
             ],
             [
              0.5555555555555556,
              "#d8576b"
             ],
             [
              0.6666666666666666,
              "#ed7953"
             ],
             [
              0.7777777777777778,
              "#fb9f3a"
             ],
             [
              0.8888888888888888,
              "#fdca26"
             ],
             [
              1,
              "#f0f921"
             ]
            ],
            "type": "surface"
           }
          ],
          "table": [
           {
            "cells": {
             "fill": {
              "color": "#EBF0F8"
             },
             "line": {
              "color": "white"
             }
            },
            "header": {
             "fill": {
              "color": "#C8D4E3"
             },
             "line": {
              "color": "white"
             }
            },
            "type": "table"
           }
          ]
         },
         "layout": {
          "annotationdefaults": {
           "arrowcolor": "#2a3f5f",
           "arrowhead": 0,
           "arrowwidth": 1
          },
          "coloraxis": {
           "colorbar": {
            "outlinewidth": 0,
            "ticks": ""
           }
          },
          "colorscale": {
           "diverging": [
            [
             0,
             "#8e0152"
            ],
            [
             0.1,
             "#c51b7d"
            ],
            [
             0.2,
             "#de77ae"
            ],
            [
             0.3,
             "#f1b6da"
            ],
            [
             0.4,
             "#fde0ef"
            ],
            [
             0.5,
             "#f7f7f7"
            ],
            [
             0.6,
             "#e6f5d0"
            ],
            [
             0.7,
             "#b8e186"
            ],
            [
             0.8,
             "#7fbc41"
            ],
            [
             0.9,
             "#4d9221"
            ],
            [
             1,
             "#276419"
            ]
           ],
           "sequential": [
            [
             0,
             "#0d0887"
            ],
            [
             0.1111111111111111,
             "#46039f"
            ],
            [
             0.2222222222222222,
             "#7201a8"
            ],
            [
             0.3333333333333333,
             "#9c179e"
            ],
            [
             0.4444444444444444,
             "#bd3786"
            ],
            [
             0.5555555555555556,
             "#d8576b"
            ],
            [
             0.6666666666666666,
             "#ed7953"
            ],
            [
             0.7777777777777778,
             "#fb9f3a"
            ],
            [
             0.8888888888888888,
             "#fdca26"
            ],
            [
             1,
             "#f0f921"
            ]
           ],
           "sequentialminus": [
            [
             0,
             "#0d0887"
            ],
            [
             0.1111111111111111,
             "#46039f"
            ],
            [
             0.2222222222222222,
             "#7201a8"
            ],
            [
             0.3333333333333333,
             "#9c179e"
            ],
            [
             0.4444444444444444,
             "#bd3786"
            ],
            [
             0.5555555555555556,
             "#d8576b"
            ],
            [
             0.6666666666666666,
             "#ed7953"
            ],
            [
             0.7777777777777778,
             "#fb9f3a"
            ],
            [
             0.8888888888888888,
             "#fdca26"
            ],
            [
             1,
             "#f0f921"
            ]
           ]
          },
          "colorway": [
           "#636efa",
           "#EF553B",
           "#00cc96",
           "#ab63fa",
           "#FFA15A",
           "#19d3f3",
           "#FF6692",
           "#B6E880",
           "#FF97FF",
           "#FECB52"
          ],
          "font": {
           "color": "#2a3f5f"
          },
          "geo": {
           "bgcolor": "white",
           "lakecolor": "white",
           "landcolor": "#E5ECF6",
           "showlakes": true,
           "showland": true,
           "subunitcolor": "white"
          },
          "hoverlabel": {
           "align": "left"
          },
          "hovermode": "closest",
          "mapbox": {
           "style": "light"
          },
          "paper_bgcolor": "white",
          "plot_bgcolor": "#E5ECF6",
          "polar": {
           "angularaxis": {
            "gridcolor": "white",
            "linecolor": "white",
            "ticks": ""
           },
           "bgcolor": "#E5ECF6",
           "radialaxis": {
            "gridcolor": "white",
            "linecolor": "white",
            "ticks": ""
           }
          },
          "scene": {
           "xaxis": {
            "backgroundcolor": "#E5ECF6",
            "gridcolor": "white",
            "gridwidth": 2,
            "linecolor": "white",
            "showbackground": true,
            "ticks": "",
            "zerolinecolor": "white"
           },
           "yaxis": {
            "backgroundcolor": "#E5ECF6",
            "gridcolor": "white",
            "gridwidth": 2,
            "linecolor": "white",
            "showbackground": true,
            "ticks": "",
            "zerolinecolor": "white"
           },
           "zaxis": {
            "backgroundcolor": "#E5ECF6",
            "gridcolor": "white",
            "gridwidth": 2,
            "linecolor": "white",
            "showbackground": true,
            "ticks": "",
            "zerolinecolor": "white"
           }
          },
          "shapedefaults": {
           "line": {
            "color": "#2a3f5f"
           }
          },
          "ternary": {
           "aaxis": {
            "gridcolor": "white",
            "linecolor": "white",
            "ticks": ""
           },
           "baxis": {
            "gridcolor": "white",
            "linecolor": "white",
            "ticks": ""
           },
           "bgcolor": "#E5ECF6",
           "caxis": {
            "gridcolor": "white",
            "linecolor": "white",
            "ticks": ""
           }
          },
          "title": {
           "x": 0.05
          },
          "xaxis": {
           "automargin": true,
           "gridcolor": "white",
           "linecolor": "white",
           "ticks": "",
           "title": {
            "standoff": 15
           },
           "zerolinecolor": "white",
           "zerolinewidth": 2
          },
          "yaxis": {
           "automargin": true,
           "gridcolor": "white",
           "linecolor": "white",
           "ticks": "",
           "title": {
            "standoff": 15
           },
           "zerolinecolor": "white",
           "zerolinewidth": 2
          }
         }
        },
        "title": {
         "text": "San Diego Wineries"
        },
        "width": 900
       }
      },
      "text/html": [
       "<div>                            <div id=\"ce9eca59-6537-47b1-8aec-d49def0a9746\" class=\"plotly-graph-div\" style=\"height:900px; width:900px;\"></div>            <script type=\"text/javascript\">                require([\"plotly\"], function(Plotly) {                    window.PLOTLYENV=window.PLOTLYENV || {};                                    if (document.getElementById(\"ce9eca59-6537-47b1-8aec-d49def0a9746\")) {                    Plotly.newPlot(                        \"ce9eca59-6537-47b1-8aec-d49def0a9746\",                        [{\"hovertemplate\": \"<b>%{hovertext}</b><br><br>Number of Reviews =%{marker.size}<br>Latitude =%{lat}<br>Longitude =%{lon}<br>Price ($) =%{marker.color}<extra></extra>\", \"hovertext\": [\"Bernardo Winery\", \"Callaway Vineyard & Winery\", \"N\\u00e9gociant Winery\", \"San Pasqual Winery - Seaport Village\", \"Domaine Artefact Vineyard & Winery\", \"Carruth Cellars Wine Garden\", \"Blue Door Urban Winery\", \"Cordiano Winery\", \"FruitCraft - Fermentery & Distillery\", \"Pali Wine Co\", \"LJ Crafted Wines - Wines & Tastings\", \"San Pasqual Winery\", \"Altipiano Vineyard & Winery\", \"Speckle Rock Vineyards\", \"Gianni Buonomo Vintners\", \"Koi Zen Cellars\", \"La Mesa Wine Works\", \"Abnormal Wine Company\", \"Highland Valley Vineyards\", \"80 Sips Around the World\", \"Granite Lion Cellars\", \"Three Hills Winery\", \"Woof'n Rose Winery and Vineyard\", \"Bastian's Vineyards\", \"Rustic Ridge Vineyards\", \"Rose's Tasting Room\", \"Vineyard Grant James\", \"Espinosa Vineyards and Winery\", \"Charlie & Echo\", \"So Cal Wines\", \"California Wine Line\", \"San Pasqual Winery Tasting Room & Gallery\", \"Chuparosa Vineyards\", \"Principe di Tricase Winery\", \"Quigley Fine Wines\", \"Hatfield Creek Winery\", \"Record Family Wines\", \"Dulzura Vineyard & Winery\", \"Wine Smarties\", \"Cheval Winery\", \"Mermaid Valley Vineyard\", \"La Finquita Winery & Vineyard\", \"Old Julian Vineyards & Winery\", \"Hungry Hawk Vineyards & Winery\", \"Trevi Hills\", \"Poppaea Vineyard\", \"Rancho Guejito Vineyard\", \"Barrel 1 Winery\", \"Mahogany Mountain Vineyard and Winery\", \"Crystal Hill Vineyard\", \"Old Survey Vineyards\", \"Forgotten Barrel Tasting Room\", \"Mission Cellars\", \"Turtle Rock Ridge Vineyard Winery\", \"Schwaesdall Winery\", \"Castelli Family Vineyards\", \"Carruth Cellars\", \"Correcaminos Vineyard\", \"Rock Canyon Vineyards\", \"Siela Wines\", \"La Jolla Art & Wine Festival\", \"Pamo Valley Winery Tasting Room\", \"L.A. Cetto\", \"Campo Creek Vineyards Tasting Room\", \"Mia Marie Vineyards\", \"Edwards Vineyard & Cellars\", \"Milagro Farm Winery\", \"ZXQ Vineyards\", \"Kohill Winery\", \"I Love Wine\", \"Barrel Riot\", \"Vineyard Grant James\", \"GSalinas Negociante en Vinos\", \"Good Omen Mead\", \"Sans V Tasting Room\", \"La Contra\", \"Rashelica Winery & Art Garden\", \"Roll OutThe Barrell Charity Event by Meritage\", \"Licores Kentucky\", \"Barrica 9\", \"RL Liquid Assets, Inc\", \"Cactus Star Vineyard at Scaredy Cat Ranch\"], \"lat\": [33.0328, 32.710750611729395, 32.75488, 32.7087316452387, 33.06817, 32.72748, 32.814091, 33.068117972323016, 32.748217219191105, 32.7267968, 32.81438, 32.771589399999996, 33.063289642334, 33.0613615832364, 32.745389, 32.9864799, 32.7716259387843, 33.023853302002, 33.071769714355504, 32.715738, 32.715435, 33.03098, 33.021401000000004, 33.070271999999996, 32.72896, 32.7555682871263, 33.052155931209, 33.0704482, 32.89655, 32.917669399999994, 32.6059744, 32.76572, 33.009689, 33.0246391, 32.6837679, 33.0441995688399, 32.748259999999995, 32.639056, 32.90345, 33.12341, 33.0268827348204, 33.031776799999996, 33.052261, 33.09388, 32.89992, 33.0555, 33.095456, 33.0632476806641, 32.9863389262394, 33.049052, 33.0778968096676, 33.1022, 32.96892183, 33.033069610595696, 33.008227000000005, 33.06372, 32.99163, 33.0762799, 32.8350521, 33.0656310151373, 32.837047576904304, 33.0455332, 32.524224, 32.9566704507056, 33.070192, 33.0666150952216, 33.052468, 33.065709999999996, 33.0285148620605, 32.801342, 33.12177, 33.05236, 32.5126076, 33.12182, 33.121009, 32.521736, 33.010505, 33.037121, 32.534236, 32.530429999999996, 33.134743, 33.02015], \"legendgroup\": \"\", \"lon\": [-117.04646000000001, -117.160917759246, -117.13828000000001, -117.168194991742, -117.0016, -117.17056000000001, -117.218254, -116.99171457055219, -117.149462938309, -117.1697587, -117.2695, -117.02131809999999, -117.00439453125, -116.97740401976601, -117.24811000000001, -117.07214499999999, -117.021328279762, -117.085762023926, -117.00839233398399, -117.1610838, -116.84783157306343, -116.96538000000001, -116.93693300000001, -117.01131799999999, -116.83318, -117.19690329126301, -116.78319322693899, -117.0094544, -117.13743000000001, -117.2309713, -117.0441009, -117.01787, -116.85849499999999, -116.93266299999999, -117.0923119, -116.828583402447, -117.15441000000001, -116.769926, -117.18321999999999, -117.13297, -116.93342195866501, -116.82126540000002, -116.78121100000001, -117.03008, -116.89408, -116.77747, -116.95748700000001, -116.843803405762, -116.91655755043001, -116.808999, -116.96157606030899, -117.08685, -117.0359015, -116.82577514648399, -116.92434209999999, -116.93436000000001, -117.27013999999998, -116.86303999999998, -116.76641090000001, -117.3028134612, -117.255386352539, -116.8624832, -117.037935, -117.037956596771, -117.016705, -116.757814805557, -116.750704, -116.99772, -116.953086853027, -117.22536470000001, -117.08053999999998, -116.78258999999998, -117.00246429999999, -117.08044, -117.115748, -117.026009, -116.91950800000001, -117.238654, -117.034976, -117.0365, -117.248093, -116.92813999999998], \"marker\": {\"color\": [2, 2, 2, 2, 2, 2, 2, 2, 2, 2, 2, 2, 2, 2, 2, 2, 2, 2, 2, 2, 2, 2, 2, 2, 2, 2, 2, 2, 1, 2, 2, 2, 2, 2, 2, 2, 2, 2, 2, 2, 2, 2, 2, 2, 2, 2, 2, 2, 2, 2, 2, 2, 2, 2, 2, 2, 2, 2, 2, 2, 1, 2, 2, 2, 2, 2, 2, 2, 2, 2, 2, 2, 3, 2, 2, 2, 2, 2, 2, 2, 2, 1], \"coloraxis\": \"coloraxis\", \"size\": [626, 100, 103, 138, 96, 196, 76, 547, 308, 173, 85, 20, 111, 59, 55, 113, 43, 99, 38, 1, 26, 6, 23, 1, 18, 99, 155, 126, 12, 2, 2, 81, 39, 71, 3, 103, 3, 24, 26, 33, 3, 45, 4, 118, 15, 19, 31, 33, 14, 9, 26, 76, 46, 114, 23, 8, 245, 29, 7, 1, 14, 54, 35, 13, 15, 17, 141, 2, 17, 1, 2, 1, 6, 5, 26, 1, 144, 1, 1, 7, 2, 8], \"sizemode\": \"area\", \"sizeref\": 2.7822222222222224}, \"mode\": \"markers\", \"name\": \"\", \"showlegend\": false, \"subplot\": \"mapbox\", \"type\": \"scattermapbox\"}],                        {\"coloraxis\": {\"cmax\": 3, \"cmin\": 0, \"colorbar\": {\"title\": {\"text\": \"Price ($) \"}}, \"colorscale\": [[0.0, \"rgb(255,255,255)\"], [0.125, \"rgb(240,240,240)\"], [0.25, \"rgb(217,217,217)\"], [0.375, \"rgb(189,189,189)\"], [0.5, \"rgb(150,150,150)\"], [0.625, \"rgb(115,115,115)\"], [0.75, \"rgb(82,82,82)\"], [0.875, \"rgb(37,37,37)\"], [1.0, \"rgb(0,0,0)\"]]}, \"height\": 900, \"legend\": {\"itemsizing\": \"constant\", \"tracegroupgap\": 0}, \"mapbox\": {\"accesstoken\": \"pk.eyJ1IjoiYm1jY2FydHk1MDUiLCJhIjoiY2tvbnJvdnFkMDNuZzJ2cHBwbTd1d2dibiJ9.m6-cNXAgqZ4WZZUWhoTjKA\", \"center\": {\"lat\": 32.926059337907155, \"lon\": -117.01434377235367}, \"domain\": {\"x\": [0.0, 1.0], \"y\": [0.0, 1.0]}, \"style\": \"light\", \"zoom\": 9.75}, \"template\": {\"data\": {\"bar\": [{\"error_x\": {\"color\": \"#2a3f5f\"}, \"error_y\": {\"color\": \"#2a3f5f\"}, \"marker\": {\"line\": {\"color\": \"#E5ECF6\", \"width\": 0.5}}, \"type\": \"bar\"}], \"barpolar\": [{\"marker\": {\"line\": {\"color\": \"#E5ECF6\", \"width\": 0.5}}, \"type\": \"barpolar\"}], \"carpet\": [{\"aaxis\": {\"endlinecolor\": \"#2a3f5f\", \"gridcolor\": \"white\", \"linecolor\": \"white\", \"minorgridcolor\": \"white\", \"startlinecolor\": \"#2a3f5f\"}, \"baxis\": {\"endlinecolor\": \"#2a3f5f\", \"gridcolor\": \"white\", \"linecolor\": \"white\", \"minorgridcolor\": \"white\", \"startlinecolor\": \"#2a3f5f\"}, \"type\": \"carpet\"}], \"choropleth\": [{\"colorbar\": {\"outlinewidth\": 0, \"ticks\": \"\"}, \"type\": \"choropleth\"}], \"contour\": [{\"colorbar\": {\"outlinewidth\": 0, \"ticks\": \"\"}, \"colorscale\": [[0.0, \"#0d0887\"], [0.1111111111111111, \"#46039f\"], [0.2222222222222222, \"#7201a8\"], [0.3333333333333333, \"#9c179e\"], [0.4444444444444444, \"#bd3786\"], [0.5555555555555556, \"#d8576b\"], [0.6666666666666666, \"#ed7953\"], [0.7777777777777778, \"#fb9f3a\"], [0.8888888888888888, \"#fdca26\"], [1.0, \"#f0f921\"]], \"type\": \"contour\"}], \"contourcarpet\": [{\"colorbar\": {\"outlinewidth\": 0, \"ticks\": \"\"}, \"type\": \"contourcarpet\"}], \"heatmap\": [{\"colorbar\": {\"outlinewidth\": 0, \"ticks\": \"\"}, \"colorscale\": [[0.0, \"#0d0887\"], [0.1111111111111111, \"#46039f\"], [0.2222222222222222, \"#7201a8\"], [0.3333333333333333, \"#9c179e\"], [0.4444444444444444, \"#bd3786\"], [0.5555555555555556, \"#d8576b\"], [0.6666666666666666, \"#ed7953\"], [0.7777777777777778, \"#fb9f3a\"], [0.8888888888888888, \"#fdca26\"], [1.0, \"#f0f921\"]], \"type\": \"heatmap\"}], \"heatmapgl\": [{\"colorbar\": {\"outlinewidth\": 0, \"ticks\": \"\"}, \"colorscale\": [[0.0, \"#0d0887\"], [0.1111111111111111, \"#46039f\"], [0.2222222222222222, \"#7201a8\"], [0.3333333333333333, \"#9c179e\"], [0.4444444444444444, \"#bd3786\"], [0.5555555555555556, \"#d8576b\"], [0.6666666666666666, \"#ed7953\"], [0.7777777777777778, \"#fb9f3a\"], [0.8888888888888888, \"#fdca26\"], [1.0, \"#f0f921\"]], \"type\": \"heatmapgl\"}], \"histogram\": [{\"marker\": {\"colorbar\": {\"outlinewidth\": 0, \"ticks\": \"\"}}, \"type\": \"histogram\"}], \"histogram2d\": [{\"colorbar\": {\"outlinewidth\": 0, \"ticks\": \"\"}, \"colorscale\": [[0.0, \"#0d0887\"], [0.1111111111111111, \"#46039f\"], [0.2222222222222222, \"#7201a8\"], [0.3333333333333333, \"#9c179e\"], [0.4444444444444444, \"#bd3786\"], [0.5555555555555556, \"#d8576b\"], [0.6666666666666666, \"#ed7953\"], [0.7777777777777778, \"#fb9f3a\"], [0.8888888888888888, \"#fdca26\"], [1.0, \"#f0f921\"]], \"type\": \"histogram2d\"}], \"histogram2dcontour\": [{\"colorbar\": {\"outlinewidth\": 0, \"ticks\": \"\"}, \"colorscale\": [[0.0, \"#0d0887\"], [0.1111111111111111, \"#46039f\"], [0.2222222222222222, \"#7201a8\"], [0.3333333333333333, \"#9c179e\"], [0.4444444444444444, \"#bd3786\"], [0.5555555555555556, \"#d8576b\"], [0.6666666666666666, \"#ed7953\"], [0.7777777777777778, \"#fb9f3a\"], [0.8888888888888888, \"#fdca26\"], [1.0, \"#f0f921\"]], \"type\": \"histogram2dcontour\"}], \"mesh3d\": [{\"colorbar\": {\"outlinewidth\": 0, \"ticks\": \"\"}, \"type\": \"mesh3d\"}], \"parcoords\": [{\"line\": {\"colorbar\": {\"outlinewidth\": 0, \"ticks\": \"\"}}, \"type\": \"parcoords\"}], \"pie\": [{\"automargin\": true, \"type\": \"pie\"}], \"scatter\": [{\"marker\": {\"colorbar\": {\"outlinewidth\": 0, \"ticks\": \"\"}}, \"type\": \"scatter\"}], \"scatter3d\": [{\"line\": {\"colorbar\": {\"outlinewidth\": 0, \"ticks\": \"\"}}, \"marker\": {\"colorbar\": {\"outlinewidth\": 0, \"ticks\": \"\"}}, \"type\": \"scatter3d\"}], \"scattercarpet\": [{\"marker\": {\"colorbar\": {\"outlinewidth\": 0, \"ticks\": \"\"}}, \"type\": \"scattercarpet\"}], \"scattergeo\": [{\"marker\": {\"colorbar\": {\"outlinewidth\": 0, \"ticks\": \"\"}}, \"type\": \"scattergeo\"}], \"scattergl\": [{\"marker\": {\"colorbar\": {\"outlinewidth\": 0, \"ticks\": \"\"}}, \"type\": \"scattergl\"}], \"scattermapbox\": [{\"marker\": {\"colorbar\": {\"outlinewidth\": 0, \"ticks\": \"\"}}, \"type\": \"scattermapbox\"}], \"scatterpolar\": [{\"marker\": {\"colorbar\": {\"outlinewidth\": 0, \"ticks\": \"\"}}, \"type\": \"scatterpolar\"}], \"scatterpolargl\": [{\"marker\": {\"colorbar\": {\"outlinewidth\": 0, \"ticks\": \"\"}}, \"type\": \"scatterpolargl\"}], \"scatterternary\": [{\"marker\": {\"colorbar\": {\"outlinewidth\": 0, \"ticks\": \"\"}}, \"type\": \"scatterternary\"}], \"surface\": [{\"colorbar\": {\"outlinewidth\": 0, \"ticks\": \"\"}, \"colorscale\": [[0.0, \"#0d0887\"], [0.1111111111111111, \"#46039f\"], [0.2222222222222222, \"#7201a8\"], [0.3333333333333333, \"#9c179e\"], [0.4444444444444444, \"#bd3786\"], [0.5555555555555556, \"#d8576b\"], [0.6666666666666666, \"#ed7953\"], [0.7777777777777778, \"#fb9f3a\"], [0.8888888888888888, \"#fdca26\"], [1.0, \"#f0f921\"]], \"type\": \"surface\"}], \"table\": [{\"cells\": {\"fill\": {\"color\": \"#EBF0F8\"}, \"line\": {\"color\": \"white\"}}, \"header\": {\"fill\": {\"color\": \"#C8D4E3\"}, \"line\": {\"color\": \"white\"}}, \"type\": \"table\"}]}, \"layout\": {\"annotationdefaults\": {\"arrowcolor\": \"#2a3f5f\", \"arrowhead\": 0, \"arrowwidth\": 1}, \"coloraxis\": {\"colorbar\": {\"outlinewidth\": 0, \"ticks\": \"\"}}, \"colorscale\": {\"diverging\": [[0, \"#8e0152\"], [0.1, \"#c51b7d\"], [0.2, \"#de77ae\"], [0.3, \"#f1b6da\"], [0.4, \"#fde0ef\"], [0.5, \"#f7f7f7\"], [0.6, \"#e6f5d0\"], [0.7, \"#b8e186\"], [0.8, \"#7fbc41\"], [0.9, \"#4d9221\"], [1, \"#276419\"]], \"sequential\": [[0.0, \"#0d0887\"], [0.1111111111111111, \"#46039f\"], [0.2222222222222222, \"#7201a8\"], [0.3333333333333333, \"#9c179e\"], [0.4444444444444444, \"#bd3786\"], [0.5555555555555556, \"#d8576b\"], [0.6666666666666666, \"#ed7953\"], [0.7777777777777778, \"#fb9f3a\"], [0.8888888888888888, \"#fdca26\"], [1.0, \"#f0f921\"]], \"sequentialminus\": [[0.0, \"#0d0887\"], [0.1111111111111111, \"#46039f\"], [0.2222222222222222, \"#7201a8\"], [0.3333333333333333, \"#9c179e\"], [0.4444444444444444, \"#bd3786\"], [0.5555555555555556, \"#d8576b\"], [0.6666666666666666, \"#ed7953\"], [0.7777777777777778, \"#fb9f3a\"], [0.8888888888888888, \"#fdca26\"], [1.0, \"#f0f921\"]]}, \"colorway\": [\"#636efa\", \"#EF553B\", \"#00cc96\", \"#ab63fa\", \"#FFA15A\", \"#19d3f3\", \"#FF6692\", \"#B6E880\", \"#FF97FF\", \"#FECB52\"], \"font\": {\"color\": \"#2a3f5f\"}, \"geo\": {\"bgcolor\": \"white\", \"lakecolor\": \"white\", \"landcolor\": \"#E5ECF6\", \"showlakes\": true, \"showland\": true, \"subunitcolor\": \"white\"}, \"hoverlabel\": {\"align\": \"left\"}, \"hovermode\": \"closest\", \"mapbox\": {\"style\": \"light\"}, \"paper_bgcolor\": \"white\", \"plot_bgcolor\": \"#E5ECF6\", \"polar\": {\"angularaxis\": {\"gridcolor\": \"white\", \"linecolor\": \"white\", \"ticks\": \"\"}, \"bgcolor\": \"#E5ECF6\", \"radialaxis\": {\"gridcolor\": \"white\", \"linecolor\": \"white\", \"ticks\": \"\"}}, \"scene\": {\"xaxis\": {\"backgroundcolor\": \"#E5ECF6\", \"gridcolor\": \"white\", \"gridwidth\": 2, \"linecolor\": \"white\", \"showbackground\": true, \"ticks\": \"\", \"zerolinecolor\": \"white\"}, \"yaxis\": {\"backgroundcolor\": \"#E5ECF6\", \"gridcolor\": \"white\", \"gridwidth\": 2, \"linecolor\": \"white\", \"showbackground\": true, \"ticks\": \"\", \"zerolinecolor\": \"white\"}, \"zaxis\": {\"backgroundcolor\": \"#E5ECF6\", \"gridcolor\": \"white\", \"gridwidth\": 2, \"linecolor\": \"white\", \"showbackground\": true, \"ticks\": \"\", \"zerolinecolor\": \"white\"}}, \"shapedefaults\": {\"line\": {\"color\": \"#2a3f5f\"}}, \"ternary\": {\"aaxis\": {\"gridcolor\": \"white\", \"linecolor\": \"white\", \"ticks\": \"\"}, \"baxis\": {\"gridcolor\": \"white\", \"linecolor\": \"white\", \"ticks\": \"\"}, \"bgcolor\": \"#E5ECF6\", \"caxis\": {\"gridcolor\": \"white\", \"linecolor\": \"white\", \"ticks\": \"\"}}, \"title\": {\"x\": 0.05}, \"xaxis\": {\"automargin\": true, \"gridcolor\": \"white\", \"linecolor\": \"white\", \"ticks\": \"\", \"title\": {\"standoff\": 15}, \"zerolinecolor\": \"white\", \"zerolinewidth\": 2}, \"yaxis\": {\"automargin\": true, \"gridcolor\": \"white\", \"linecolor\": \"white\", \"ticks\": \"\", \"title\": {\"standoff\": 15}, \"zerolinecolor\": \"white\", \"zerolinewidth\": 2}}}, \"title\": {\"text\": \"San Diego Wineries\"}, \"width\": 900},                        {\"responsive\": true}                    ).then(function(){\n",
       "                            \n",
       "var gd = document.getElementById('ce9eca59-6537-47b1-8aec-d49def0a9746');\n",
       "var x = new MutationObserver(function (mutations, observer) {{\n",
       "        var display = window.getComputedStyle(gd).display;\n",
       "        if (!display || display === 'none') {{\n",
       "            console.log([gd, 'removed!']);\n",
       "            Plotly.purge(gd);\n",
       "            observer.disconnect();\n",
       "        }}\n",
       "}});\n",
       "\n",
       "// Listen for the removal of the full notebook cells\n",
       "var notebookContainer = gd.closest('#notebook-container');\n",
       "if (notebookContainer) {{\n",
       "    x.observe(notebookContainer, {childList: true});\n",
       "}}\n",
       "\n",
       "// Listen for the clearing of the current output cell\n",
       "var outputEl = gd.closest('.output');\n",
       "if (outputEl) {{\n",
       "    x.observe(outputEl, {childList: true});\n",
       "}}\n",
       "\n",
       "                        })                };                });            </script>        </div>"
      ]
     },
     "metadata": {},
     "output_type": "display_data"
    },
    {
     "data": {
      "text/plain": [
       "<Figure size 432x288 with 0 Axes>"
      ]
     },
     "metadata": {},
     "output_type": "display_data"
    }
   ],
   "source": [
    "# Creating geospatial view of San Diego Wineries\n",
    "\n",
    "with open(r'C:\\Users\\bmcca\\.secret\\mapbox_api.json') as f:\n",
    "    token = json.load(f)\n",
    "\n",
    "open(r'C:\\Users\\bmcca\\.secret\\mapbox_api.json').read()\n",
    "    \n",
    "token = token['token']\n",
    "\n",
    "px.set_mapbox_access_token(token)\n",
    "\n",
    "fig = px.scatter_mapbox(df_sd, lat= \"latitude\", lon= \"longitude\",\n",
    "                        color= \"price_converted\", range_color= (0, 3),\n",
    "                        labels= {\"price_converted\": \"Price ($) \", \n",
    "                                \"latitude\":\"Latitude \",\"longitude\":\"Longitude \",\n",
    "                                'review_count':'Number of Reviews '},\n",
    "                        size= 'review_count', hover_name = df_sd[\"name\"],\n",
    "                        color_continuous_scale=px.colors.sequential.Greys,\n",
    "                        size_max=15, zoom=9.75, title='San Diego Wineries',\n",
    "                        mapbox_style='light', width=900, height=900)\n",
    "fig.show()"
   ]
  },
  {
   "cell_type": "code",
   "execution_count": 61,
   "metadata": {
    "ExecuteTime": {
     "end_time": "2021-05-15T20:59:17.774108Z",
     "start_time": "2021-05-15T20:59:17.761105Z"
    },
    "hidden": true
   },
   "outputs": [],
   "source": [
    "# # Creating geospatial view of San Diego Wineries\n",
    "\n",
    "# with open(r'C:\\Users\\bmcca\\.secret\\mapbox_api.json') as f:\n",
    "#     token = json.load(f)\n",
    "\n",
    "# open(r'C:\\Users\\bmcca\\.secret\\mapbox_api.json').read()\n",
    "    \n",
    "# token = token['token']\n",
    "\n",
    "# px.set_mapbox_access_token(token)\n",
    "\n",
    "# fig = px.scatter_mapbox(df_sd, lat= \"latitude\", lon= \"longitude\",\n",
    "#                         color= \"review_count\", range_color= (0,150),\n",
    "#                         labels= {\"review_count\": \"Number of Reviews \", \n",
    "#                                 \"latitude\":\"Latitude \",\"longitude\":\"Longitude \",\n",
    "#                                 'review_count':'Number of Reviews '},\n",
    "#                         size= 'review_count', hover_name = df_sd[\"name\"],\n",
    "#                         color_continuous_scale=px.colors.sequential.Greys,\n",
    "#                         size_max=15, zoom=9.25, title='San Diego Wineries',\n",
    "#                         mapbox_style='light', width=800, height=800)\n",
    "# fig.show()"
   ]
  },
  {
   "cell_type": "code",
   "execution_count": 62,
   "metadata": {
    "ExecuteTime": {
     "end_time": "2021-05-15T20:59:17.901110Z",
     "start_time": "2021-05-15T20:59:17.777106Z"
    },
    "hidden": true
   },
   "outputs": [
    {
     "data": {
      "application/vnd.plotly.v1+json": {
       "config": {
        "plotlyServerURL": "https://plot.ly"
       },
       "data": [
        {
         "hovertemplate": "<b>%{hovertext}</b><br><br>Number of Reviews =%{marker.size}<br>Latitude =%{lat}<br>Longitude =%{lon}<extra></extra>",
         "hovertext": [
          "Bernardo Winery",
          "Callaway Vineyard & Winery",
          "Négociant Winery",
          "San Pasqual Winery - Seaport Village",
          "Domaine Artefact Vineyard & Winery",
          "Carruth Cellars Wine Garden",
          "Blue Door Urban Winery",
          "Cordiano Winery",
          "FruitCraft - Fermentery & Distillery",
          "Pali Wine Co",
          "LJ Crafted Wines - Wines & Tastings",
          "San Pasqual Winery",
          "Altipiano Vineyard & Winery",
          "Speckle Rock Vineyards",
          "Gianni Buonomo Vintners",
          "Koi Zen Cellars",
          "La Mesa Wine Works",
          "Abnormal Wine Company",
          "Highland Valley Vineyards",
          "80 Sips Around the World",
          "Granite Lion Cellars",
          "Three Hills Winery",
          "Woof'n Rose Winery and Vineyard",
          "Bastian's Vineyards",
          "Rustic Ridge Vineyards",
          "Rose's Tasting Room",
          "Vineyard Grant James",
          "Espinosa Vineyards and Winery",
          "Charlie & Echo",
          "So Cal Wines",
          "California Wine Line",
          "San Pasqual Winery Tasting Room & Gallery",
          "Chuparosa Vineyards",
          "Principe di Tricase Winery",
          "Quigley Fine Wines",
          "Hatfield Creek Winery",
          "Record Family Wines",
          "Dulzura Vineyard & Winery",
          "Wine Smarties",
          "Cheval Winery",
          "Mermaid Valley Vineyard",
          "La Finquita Winery & Vineyard",
          "Old Julian Vineyards & Winery",
          "Hungry Hawk Vineyards & Winery",
          "Trevi Hills",
          "Poppaea Vineyard",
          "Rancho Guejito Vineyard",
          "Barrel 1 Winery",
          "Mahogany Mountain Vineyard and Winery",
          "Crystal Hill Vineyard",
          "Old Survey Vineyards",
          "Forgotten Barrel Tasting Room",
          "Mission Cellars",
          "Turtle Rock Ridge Vineyard Winery",
          "Schwaesdall Winery",
          "Castelli Family Vineyards",
          "Carruth Cellars",
          "Correcaminos Vineyard",
          "Rock Canyon Vineyards",
          "Siela Wines",
          "La Jolla Art & Wine Festival",
          "Pamo Valley Winery Tasting Room",
          "L.A. Cetto",
          "Campo Creek Vineyards Tasting Room",
          "Mia Marie Vineyards",
          "Edwards Vineyard & Cellars",
          "Milagro Farm Winery",
          "ZXQ Vineyards",
          "Kohill Winery",
          "I Love Wine",
          "Barrel Riot",
          "Vineyard Grant James",
          "GSalinas Negociante en Vinos",
          "Good Omen Mead",
          "Sans V Tasting Room",
          "La Contra",
          "Rashelica Winery & Art Garden",
          "Roll OutThe Barrell Charity Event by Meritage",
          "Licores Kentucky",
          "Barrica 9",
          "RL Liquid Assets, Inc",
          "Cactus Star Vineyard at Scaredy Cat Ranch"
         ],
         "lat": [
          33.0328,
          32.710750611729395,
          32.75488,
          32.7087316452387,
          33.06817,
          32.72748,
          32.814091,
          33.068117972323016,
          32.748217219191105,
          32.7267968,
          32.81438,
          32.771589399999996,
          33.063289642334,
          33.0613615832364,
          32.745389,
          32.9864799,
          32.7716259387843,
          33.023853302002,
          33.071769714355504,
          32.715738,
          32.715435,
          33.03098,
          33.021401000000004,
          33.070271999999996,
          32.72896,
          32.7555682871263,
          33.052155931209,
          33.0704482,
          32.89655,
          32.917669399999994,
          32.6059744,
          32.76572,
          33.009689,
          33.0246391,
          32.6837679,
          33.0441995688399,
          32.748259999999995,
          32.639056,
          32.90345,
          33.12341,
          33.0268827348204,
          33.031776799999996,
          33.052261,
          33.09388,
          32.89992,
          33.0555,
          33.095456,
          33.0632476806641,
          32.9863389262394,
          33.049052,
          33.0778968096676,
          33.1022,
          32.96892183,
          33.033069610595696,
          33.008227000000005,
          33.06372,
          32.99163,
          33.0762799,
          32.8350521,
          33.0656310151373,
          32.837047576904304,
          33.0455332,
          32.524224,
          32.9566704507056,
          33.070192,
          33.0666150952216,
          33.052468,
          33.065709999999996,
          33.0285148620605,
          32.801342,
          33.12177,
          33.05236,
          32.5126076,
          33.12182,
          33.121009,
          32.521736,
          33.010505,
          33.037121,
          32.534236,
          32.530429999999996,
          33.134743,
          33.02015
         ],
         "legendgroup": "",
         "lon": [
          -117.04646000000001,
          -117.160917759246,
          -117.13828000000001,
          -117.168194991742,
          -117.0016,
          -117.17056000000001,
          -117.218254,
          -116.99171457055219,
          -117.149462938309,
          -117.1697587,
          -117.2695,
          -117.02131809999999,
          -117.00439453125,
          -116.97740401976601,
          -117.24811000000001,
          -117.07214499999999,
          -117.021328279762,
          -117.085762023926,
          -117.00839233398399,
          -117.1610838,
          -116.84783157306343,
          -116.96538000000001,
          -116.93693300000001,
          -117.01131799999999,
          -116.83318,
          -117.19690329126301,
          -116.78319322693899,
          -117.0094544,
          -117.13743000000001,
          -117.2309713,
          -117.0441009,
          -117.01787,
          -116.85849499999999,
          -116.93266299999999,
          -117.0923119,
          -116.828583402447,
          -117.15441000000001,
          -116.769926,
          -117.18321999999999,
          -117.13297,
          -116.93342195866501,
          -116.82126540000002,
          -116.78121100000001,
          -117.03008,
          -116.89408,
          -116.77747,
          -116.95748700000001,
          -116.843803405762,
          -116.91655755043001,
          -116.808999,
          -116.96157606030899,
          -117.08685,
          -117.0359015,
          -116.82577514648399,
          -116.92434209999999,
          -116.93436000000001,
          -117.27013999999998,
          -116.86303999999998,
          -116.76641090000001,
          -117.3028134612,
          -117.255386352539,
          -116.8624832,
          -117.037935,
          -117.037956596771,
          -117.016705,
          -116.757814805557,
          -116.750704,
          -116.99772,
          -116.953086853027,
          -117.22536470000001,
          -117.08053999999998,
          -116.78258999999998,
          -117.00246429999999,
          -117.08044,
          -117.115748,
          -117.026009,
          -116.91950800000001,
          -117.238654,
          -117.034976,
          -117.0365,
          -117.248093,
          -116.92813999999998
         ],
         "marker": {
          "color": "#636efa",
          "size": [
           626,
           100,
           103,
           138,
           96,
           196,
           76,
           547,
           308,
           173,
           85,
           20,
           111,
           59,
           55,
           113,
           43,
           99,
           38,
           1,
           26,
           6,
           23,
           1,
           18,
           99,
           155,
           126,
           12,
           2,
           2,
           81,
           39,
           71,
           3,
           103,
           3,
           24,
           26,
           33,
           3,
           45,
           4,
           118,
           15,
           19,
           31,
           33,
           14,
           9,
           26,
           76,
           46,
           114,
           23,
           8,
           245,
           29,
           7,
           1,
           14,
           54,
           35,
           13,
           15,
           17,
           141,
           2,
           17,
           1,
           2,
           1,
           6,
           5,
           26,
           1,
           144,
           1,
           1,
           7,
           2,
           8
          ],
          "sizemode": "area",
          "sizeref": 2.7822222222222224
         },
         "mode": "markers",
         "name": "",
         "showlegend": false,
         "subplot": "mapbox",
         "type": "scattermapbox"
        }
       ],
       "layout": {
        "height": 800,
        "legend": {
         "itemsizing": "constant",
         "tracegroupgap": 0
        },
        "mapbox": {
         "accesstoken": "pk.eyJ1IjoiYm1jY2FydHk1MDUiLCJhIjoiY2tvbnJvdnFkMDNuZzJ2cHBwbTd1d2dibiJ9.m6-cNXAgqZ4WZZUWhoTjKA",
         "center": {
          "lat": 32.926059337907155,
          "lon": -117.01434377235367
         },
         "domain": {
          "x": [
           0,
           1
          ],
          "y": [
           0,
           1
          ]
         },
         "style": "light",
         "zoom": 9.25
        },
        "template": {
         "data": {
          "bar": [
           {
            "error_x": {
             "color": "#2a3f5f"
            },
            "error_y": {
             "color": "#2a3f5f"
            },
            "marker": {
             "line": {
              "color": "#E5ECF6",
              "width": 0.5
             }
            },
            "type": "bar"
           }
          ],
          "barpolar": [
           {
            "marker": {
             "line": {
              "color": "#E5ECF6",
              "width": 0.5
             }
            },
            "type": "barpolar"
           }
          ],
          "carpet": [
           {
            "aaxis": {
             "endlinecolor": "#2a3f5f",
             "gridcolor": "white",
             "linecolor": "white",
             "minorgridcolor": "white",
             "startlinecolor": "#2a3f5f"
            },
            "baxis": {
             "endlinecolor": "#2a3f5f",
             "gridcolor": "white",
             "linecolor": "white",
             "minorgridcolor": "white",
             "startlinecolor": "#2a3f5f"
            },
            "type": "carpet"
           }
          ],
          "choropleth": [
           {
            "colorbar": {
             "outlinewidth": 0,
             "ticks": ""
            },
            "type": "choropleth"
           }
          ],
          "contour": [
           {
            "colorbar": {
             "outlinewidth": 0,
             "ticks": ""
            },
            "colorscale": [
             [
              0,
              "#0d0887"
             ],
             [
              0.1111111111111111,
              "#46039f"
             ],
             [
              0.2222222222222222,
              "#7201a8"
             ],
             [
              0.3333333333333333,
              "#9c179e"
             ],
             [
              0.4444444444444444,
              "#bd3786"
             ],
             [
              0.5555555555555556,
              "#d8576b"
             ],
             [
              0.6666666666666666,
              "#ed7953"
             ],
             [
              0.7777777777777778,
              "#fb9f3a"
             ],
             [
              0.8888888888888888,
              "#fdca26"
             ],
             [
              1,
              "#f0f921"
             ]
            ],
            "type": "contour"
           }
          ],
          "contourcarpet": [
           {
            "colorbar": {
             "outlinewidth": 0,
             "ticks": ""
            },
            "type": "contourcarpet"
           }
          ],
          "heatmap": [
           {
            "colorbar": {
             "outlinewidth": 0,
             "ticks": ""
            },
            "colorscale": [
             [
              0,
              "#0d0887"
             ],
             [
              0.1111111111111111,
              "#46039f"
             ],
             [
              0.2222222222222222,
              "#7201a8"
             ],
             [
              0.3333333333333333,
              "#9c179e"
             ],
             [
              0.4444444444444444,
              "#bd3786"
             ],
             [
              0.5555555555555556,
              "#d8576b"
             ],
             [
              0.6666666666666666,
              "#ed7953"
             ],
             [
              0.7777777777777778,
              "#fb9f3a"
             ],
             [
              0.8888888888888888,
              "#fdca26"
             ],
             [
              1,
              "#f0f921"
             ]
            ],
            "type": "heatmap"
           }
          ],
          "heatmapgl": [
           {
            "colorbar": {
             "outlinewidth": 0,
             "ticks": ""
            },
            "colorscale": [
             [
              0,
              "#0d0887"
             ],
             [
              0.1111111111111111,
              "#46039f"
             ],
             [
              0.2222222222222222,
              "#7201a8"
             ],
             [
              0.3333333333333333,
              "#9c179e"
             ],
             [
              0.4444444444444444,
              "#bd3786"
             ],
             [
              0.5555555555555556,
              "#d8576b"
             ],
             [
              0.6666666666666666,
              "#ed7953"
             ],
             [
              0.7777777777777778,
              "#fb9f3a"
             ],
             [
              0.8888888888888888,
              "#fdca26"
             ],
             [
              1,
              "#f0f921"
             ]
            ],
            "type": "heatmapgl"
           }
          ],
          "histogram": [
           {
            "marker": {
             "colorbar": {
              "outlinewidth": 0,
              "ticks": ""
             }
            },
            "type": "histogram"
           }
          ],
          "histogram2d": [
           {
            "colorbar": {
             "outlinewidth": 0,
             "ticks": ""
            },
            "colorscale": [
             [
              0,
              "#0d0887"
             ],
             [
              0.1111111111111111,
              "#46039f"
             ],
             [
              0.2222222222222222,
              "#7201a8"
             ],
             [
              0.3333333333333333,
              "#9c179e"
             ],
             [
              0.4444444444444444,
              "#bd3786"
             ],
             [
              0.5555555555555556,
              "#d8576b"
             ],
             [
              0.6666666666666666,
              "#ed7953"
             ],
             [
              0.7777777777777778,
              "#fb9f3a"
             ],
             [
              0.8888888888888888,
              "#fdca26"
             ],
             [
              1,
              "#f0f921"
             ]
            ],
            "type": "histogram2d"
           }
          ],
          "histogram2dcontour": [
           {
            "colorbar": {
             "outlinewidth": 0,
             "ticks": ""
            },
            "colorscale": [
             [
              0,
              "#0d0887"
             ],
             [
              0.1111111111111111,
              "#46039f"
             ],
             [
              0.2222222222222222,
              "#7201a8"
             ],
             [
              0.3333333333333333,
              "#9c179e"
             ],
             [
              0.4444444444444444,
              "#bd3786"
             ],
             [
              0.5555555555555556,
              "#d8576b"
             ],
             [
              0.6666666666666666,
              "#ed7953"
             ],
             [
              0.7777777777777778,
              "#fb9f3a"
             ],
             [
              0.8888888888888888,
              "#fdca26"
             ],
             [
              1,
              "#f0f921"
             ]
            ],
            "type": "histogram2dcontour"
           }
          ],
          "mesh3d": [
           {
            "colorbar": {
             "outlinewidth": 0,
             "ticks": ""
            },
            "type": "mesh3d"
           }
          ],
          "parcoords": [
           {
            "line": {
             "colorbar": {
              "outlinewidth": 0,
              "ticks": ""
             }
            },
            "type": "parcoords"
           }
          ],
          "pie": [
           {
            "automargin": true,
            "type": "pie"
           }
          ],
          "scatter": [
           {
            "marker": {
             "colorbar": {
              "outlinewidth": 0,
              "ticks": ""
             }
            },
            "type": "scatter"
           }
          ],
          "scatter3d": [
           {
            "line": {
             "colorbar": {
              "outlinewidth": 0,
              "ticks": ""
             }
            },
            "marker": {
             "colorbar": {
              "outlinewidth": 0,
              "ticks": ""
             }
            },
            "type": "scatter3d"
           }
          ],
          "scattercarpet": [
           {
            "marker": {
             "colorbar": {
              "outlinewidth": 0,
              "ticks": ""
             }
            },
            "type": "scattercarpet"
           }
          ],
          "scattergeo": [
           {
            "marker": {
             "colorbar": {
              "outlinewidth": 0,
              "ticks": ""
             }
            },
            "type": "scattergeo"
           }
          ],
          "scattergl": [
           {
            "marker": {
             "colorbar": {
              "outlinewidth": 0,
              "ticks": ""
             }
            },
            "type": "scattergl"
           }
          ],
          "scattermapbox": [
           {
            "marker": {
             "colorbar": {
              "outlinewidth": 0,
              "ticks": ""
             }
            },
            "type": "scattermapbox"
           }
          ],
          "scatterpolar": [
           {
            "marker": {
             "colorbar": {
              "outlinewidth": 0,
              "ticks": ""
             }
            },
            "type": "scatterpolar"
           }
          ],
          "scatterpolargl": [
           {
            "marker": {
             "colorbar": {
              "outlinewidth": 0,
              "ticks": ""
             }
            },
            "type": "scatterpolargl"
           }
          ],
          "scatterternary": [
           {
            "marker": {
             "colorbar": {
              "outlinewidth": 0,
              "ticks": ""
             }
            },
            "type": "scatterternary"
           }
          ],
          "surface": [
           {
            "colorbar": {
             "outlinewidth": 0,
             "ticks": ""
            },
            "colorscale": [
             [
              0,
              "#0d0887"
             ],
             [
              0.1111111111111111,
              "#46039f"
             ],
             [
              0.2222222222222222,
              "#7201a8"
             ],
             [
              0.3333333333333333,
              "#9c179e"
             ],
             [
              0.4444444444444444,
              "#bd3786"
             ],
             [
              0.5555555555555556,
              "#d8576b"
             ],
             [
              0.6666666666666666,
              "#ed7953"
             ],
             [
              0.7777777777777778,
              "#fb9f3a"
             ],
             [
              0.8888888888888888,
              "#fdca26"
             ],
             [
              1,
              "#f0f921"
             ]
            ],
            "type": "surface"
           }
          ],
          "table": [
           {
            "cells": {
             "fill": {
              "color": "#EBF0F8"
             },
             "line": {
              "color": "white"
             }
            },
            "header": {
             "fill": {
              "color": "#C8D4E3"
             },
             "line": {
              "color": "white"
             }
            },
            "type": "table"
           }
          ]
         },
         "layout": {
          "annotationdefaults": {
           "arrowcolor": "#2a3f5f",
           "arrowhead": 0,
           "arrowwidth": 1
          },
          "coloraxis": {
           "colorbar": {
            "outlinewidth": 0,
            "ticks": ""
           }
          },
          "colorscale": {
           "diverging": [
            [
             0,
             "#8e0152"
            ],
            [
             0.1,
             "#c51b7d"
            ],
            [
             0.2,
             "#de77ae"
            ],
            [
             0.3,
             "#f1b6da"
            ],
            [
             0.4,
             "#fde0ef"
            ],
            [
             0.5,
             "#f7f7f7"
            ],
            [
             0.6,
             "#e6f5d0"
            ],
            [
             0.7,
             "#b8e186"
            ],
            [
             0.8,
             "#7fbc41"
            ],
            [
             0.9,
             "#4d9221"
            ],
            [
             1,
             "#276419"
            ]
           ],
           "sequential": [
            [
             0,
             "#0d0887"
            ],
            [
             0.1111111111111111,
             "#46039f"
            ],
            [
             0.2222222222222222,
             "#7201a8"
            ],
            [
             0.3333333333333333,
             "#9c179e"
            ],
            [
             0.4444444444444444,
             "#bd3786"
            ],
            [
             0.5555555555555556,
             "#d8576b"
            ],
            [
             0.6666666666666666,
             "#ed7953"
            ],
            [
             0.7777777777777778,
             "#fb9f3a"
            ],
            [
             0.8888888888888888,
             "#fdca26"
            ],
            [
             1,
             "#f0f921"
            ]
           ],
           "sequentialminus": [
            [
             0,
             "#0d0887"
            ],
            [
             0.1111111111111111,
             "#46039f"
            ],
            [
             0.2222222222222222,
             "#7201a8"
            ],
            [
             0.3333333333333333,
             "#9c179e"
            ],
            [
             0.4444444444444444,
             "#bd3786"
            ],
            [
             0.5555555555555556,
             "#d8576b"
            ],
            [
             0.6666666666666666,
             "#ed7953"
            ],
            [
             0.7777777777777778,
             "#fb9f3a"
            ],
            [
             0.8888888888888888,
             "#fdca26"
            ],
            [
             1,
             "#f0f921"
            ]
           ]
          },
          "colorway": [
           "#636efa",
           "#EF553B",
           "#00cc96",
           "#ab63fa",
           "#FFA15A",
           "#19d3f3",
           "#FF6692",
           "#B6E880",
           "#FF97FF",
           "#FECB52"
          ],
          "font": {
           "color": "#2a3f5f"
          },
          "geo": {
           "bgcolor": "white",
           "lakecolor": "white",
           "landcolor": "#E5ECF6",
           "showlakes": true,
           "showland": true,
           "subunitcolor": "white"
          },
          "hoverlabel": {
           "align": "left"
          },
          "hovermode": "closest",
          "mapbox": {
           "style": "light"
          },
          "paper_bgcolor": "white",
          "plot_bgcolor": "#E5ECF6",
          "polar": {
           "angularaxis": {
            "gridcolor": "white",
            "linecolor": "white",
            "ticks": ""
           },
           "bgcolor": "#E5ECF6",
           "radialaxis": {
            "gridcolor": "white",
            "linecolor": "white",
            "ticks": ""
           }
          },
          "scene": {
           "xaxis": {
            "backgroundcolor": "#E5ECF6",
            "gridcolor": "white",
            "gridwidth": 2,
            "linecolor": "white",
            "showbackground": true,
            "ticks": "",
            "zerolinecolor": "white"
           },
           "yaxis": {
            "backgroundcolor": "#E5ECF6",
            "gridcolor": "white",
            "gridwidth": 2,
            "linecolor": "white",
            "showbackground": true,
            "ticks": "",
            "zerolinecolor": "white"
           },
           "zaxis": {
            "backgroundcolor": "#E5ECF6",
            "gridcolor": "white",
            "gridwidth": 2,
            "linecolor": "white",
            "showbackground": true,
            "ticks": "",
            "zerolinecolor": "white"
           }
          },
          "shapedefaults": {
           "line": {
            "color": "#2a3f5f"
           }
          },
          "ternary": {
           "aaxis": {
            "gridcolor": "white",
            "linecolor": "white",
            "ticks": ""
           },
           "baxis": {
            "gridcolor": "white",
            "linecolor": "white",
            "ticks": ""
           },
           "bgcolor": "#E5ECF6",
           "caxis": {
            "gridcolor": "white",
            "linecolor": "white",
            "ticks": ""
           }
          },
          "title": {
           "x": 0.05
          },
          "xaxis": {
           "automargin": true,
           "gridcolor": "white",
           "linecolor": "white",
           "ticks": "",
           "title": {
            "standoff": 15
           },
           "zerolinecolor": "white",
           "zerolinewidth": 2
          },
          "yaxis": {
           "automargin": true,
           "gridcolor": "white",
           "linecolor": "white",
           "ticks": "",
           "title": {
            "standoff": 15
           },
           "zerolinecolor": "white",
           "zerolinewidth": 2
          }
         }
        },
        "title": {
         "text": "San Diego Wineries"
        },
        "width": 800
       }
      },
      "text/html": [
       "<div>                            <div id=\"502a17b4-86f5-492c-a426-f413198a6cc2\" class=\"plotly-graph-div\" style=\"height:800px; width:800px;\"></div>            <script type=\"text/javascript\">                require([\"plotly\"], function(Plotly) {                    window.PLOTLYENV=window.PLOTLYENV || {};                                    if (document.getElementById(\"502a17b4-86f5-492c-a426-f413198a6cc2\")) {                    Plotly.newPlot(                        \"502a17b4-86f5-492c-a426-f413198a6cc2\",                        [{\"hovertemplate\": \"<b>%{hovertext}</b><br><br>Number of Reviews =%{marker.size}<br>Latitude =%{lat}<br>Longitude =%{lon}<extra></extra>\", \"hovertext\": [\"Bernardo Winery\", \"Callaway Vineyard & Winery\", \"N\\u00e9gociant Winery\", \"San Pasqual Winery - Seaport Village\", \"Domaine Artefact Vineyard & Winery\", \"Carruth Cellars Wine Garden\", \"Blue Door Urban Winery\", \"Cordiano Winery\", \"FruitCraft - Fermentery & Distillery\", \"Pali Wine Co\", \"LJ Crafted Wines - Wines & Tastings\", \"San Pasqual Winery\", \"Altipiano Vineyard & Winery\", \"Speckle Rock Vineyards\", \"Gianni Buonomo Vintners\", \"Koi Zen Cellars\", \"La Mesa Wine Works\", \"Abnormal Wine Company\", \"Highland Valley Vineyards\", \"80 Sips Around the World\", \"Granite Lion Cellars\", \"Three Hills Winery\", \"Woof'n Rose Winery and Vineyard\", \"Bastian's Vineyards\", \"Rustic Ridge Vineyards\", \"Rose's Tasting Room\", \"Vineyard Grant James\", \"Espinosa Vineyards and Winery\", \"Charlie & Echo\", \"So Cal Wines\", \"California Wine Line\", \"San Pasqual Winery Tasting Room & Gallery\", \"Chuparosa Vineyards\", \"Principe di Tricase Winery\", \"Quigley Fine Wines\", \"Hatfield Creek Winery\", \"Record Family Wines\", \"Dulzura Vineyard & Winery\", \"Wine Smarties\", \"Cheval Winery\", \"Mermaid Valley Vineyard\", \"La Finquita Winery & Vineyard\", \"Old Julian Vineyards & Winery\", \"Hungry Hawk Vineyards & Winery\", \"Trevi Hills\", \"Poppaea Vineyard\", \"Rancho Guejito Vineyard\", \"Barrel 1 Winery\", \"Mahogany Mountain Vineyard and Winery\", \"Crystal Hill Vineyard\", \"Old Survey Vineyards\", \"Forgotten Barrel Tasting Room\", \"Mission Cellars\", \"Turtle Rock Ridge Vineyard Winery\", \"Schwaesdall Winery\", \"Castelli Family Vineyards\", \"Carruth Cellars\", \"Correcaminos Vineyard\", \"Rock Canyon Vineyards\", \"Siela Wines\", \"La Jolla Art & Wine Festival\", \"Pamo Valley Winery Tasting Room\", \"L.A. Cetto\", \"Campo Creek Vineyards Tasting Room\", \"Mia Marie Vineyards\", \"Edwards Vineyard & Cellars\", \"Milagro Farm Winery\", \"ZXQ Vineyards\", \"Kohill Winery\", \"I Love Wine\", \"Barrel Riot\", \"Vineyard Grant James\", \"GSalinas Negociante en Vinos\", \"Good Omen Mead\", \"Sans V Tasting Room\", \"La Contra\", \"Rashelica Winery & Art Garden\", \"Roll OutThe Barrell Charity Event by Meritage\", \"Licores Kentucky\", \"Barrica 9\", \"RL Liquid Assets, Inc\", \"Cactus Star Vineyard at Scaredy Cat Ranch\"], \"lat\": [33.0328, 32.710750611729395, 32.75488, 32.7087316452387, 33.06817, 32.72748, 32.814091, 33.068117972323016, 32.748217219191105, 32.7267968, 32.81438, 32.771589399999996, 33.063289642334, 33.0613615832364, 32.745389, 32.9864799, 32.7716259387843, 33.023853302002, 33.071769714355504, 32.715738, 32.715435, 33.03098, 33.021401000000004, 33.070271999999996, 32.72896, 32.7555682871263, 33.052155931209, 33.0704482, 32.89655, 32.917669399999994, 32.6059744, 32.76572, 33.009689, 33.0246391, 32.6837679, 33.0441995688399, 32.748259999999995, 32.639056, 32.90345, 33.12341, 33.0268827348204, 33.031776799999996, 33.052261, 33.09388, 32.89992, 33.0555, 33.095456, 33.0632476806641, 32.9863389262394, 33.049052, 33.0778968096676, 33.1022, 32.96892183, 33.033069610595696, 33.008227000000005, 33.06372, 32.99163, 33.0762799, 32.8350521, 33.0656310151373, 32.837047576904304, 33.0455332, 32.524224, 32.9566704507056, 33.070192, 33.0666150952216, 33.052468, 33.065709999999996, 33.0285148620605, 32.801342, 33.12177, 33.05236, 32.5126076, 33.12182, 33.121009, 32.521736, 33.010505, 33.037121, 32.534236, 32.530429999999996, 33.134743, 33.02015], \"legendgroup\": \"\", \"lon\": [-117.04646000000001, -117.160917759246, -117.13828000000001, -117.168194991742, -117.0016, -117.17056000000001, -117.218254, -116.99171457055219, -117.149462938309, -117.1697587, -117.2695, -117.02131809999999, -117.00439453125, -116.97740401976601, -117.24811000000001, -117.07214499999999, -117.021328279762, -117.085762023926, -117.00839233398399, -117.1610838, -116.84783157306343, -116.96538000000001, -116.93693300000001, -117.01131799999999, -116.83318, -117.19690329126301, -116.78319322693899, -117.0094544, -117.13743000000001, -117.2309713, -117.0441009, -117.01787, -116.85849499999999, -116.93266299999999, -117.0923119, -116.828583402447, -117.15441000000001, -116.769926, -117.18321999999999, -117.13297, -116.93342195866501, -116.82126540000002, -116.78121100000001, -117.03008, -116.89408, -116.77747, -116.95748700000001, -116.843803405762, -116.91655755043001, -116.808999, -116.96157606030899, -117.08685, -117.0359015, -116.82577514648399, -116.92434209999999, -116.93436000000001, -117.27013999999998, -116.86303999999998, -116.76641090000001, -117.3028134612, -117.255386352539, -116.8624832, -117.037935, -117.037956596771, -117.016705, -116.757814805557, -116.750704, -116.99772, -116.953086853027, -117.22536470000001, -117.08053999999998, -116.78258999999998, -117.00246429999999, -117.08044, -117.115748, -117.026009, -116.91950800000001, -117.238654, -117.034976, -117.0365, -117.248093, -116.92813999999998], \"marker\": {\"color\": \"#636efa\", \"size\": [626, 100, 103, 138, 96, 196, 76, 547, 308, 173, 85, 20, 111, 59, 55, 113, 43, 99, 38, 1, 26, 6, 23, 1, 18, 99, 155, 126, 12, 2, 2, 81, 39, 71, 3, 103, 3, 24, 26, 33, 3, 45, 4, 118, 15, 19, 31, 33, 14, 9, 26, 76, 46, 114, 23, 8, 245, 29, 7, 1, 14, 54, 35, 13, 15, 17, 141, 2, 17, 1, 2, 1, 6, 5, 26, 1, 144, 1, 1, 7, 2, 8], \"sizemode\": \"area\", \"sizeref\": 2.7822222222222224}, \"mode\": \"markers\", \"name\": \"\", \"showlegend\": false, \"subplot\": \"mapbox\", \"type\": \"scattermapbox\"}],                        {\"height\": 800, \"legend\": {\"itemsizing\": \"constant\", \"tracegroupgap\": 0}, \"mapbox\": {\"accesstoken\": \"pk.eyJ1IjoiYm1jY2FydHk1MDUiLCJhIjoiY2tvbnJvdnFkMDNuZzJ2cHBwbTd1d2dibiJ9.m6-cNXAgqZ4WZZUWhoTjKA\", \"center\": {\"lat\": 32.926059337907155, \"lon\": -117.01434377235367}, \"domain\": {\"x\": [0.0, 1.0], \"y\": [0.0, 1.0]}, \"style\": \"light\", \"zoom\": 9.25}, \"template\": {\"data\": {\"bar\": [{\"error_x\": {\"color\": \"#2a3f5f\"}, \"error_y\": {\"color\": \"#2a3f5f\"}, \"marker\": {\"line\": {\"color\": \"#E5ECF6\", \"width\": 0.5}}, \"type\": \"bar\"}], \"barpolar\": [{\"marker\": {\"line\": {\"color\": \"#E5ECF6\", \"width\": 0.5}}, \"type\": \"barpolar\"}], \"carpet\": [{\"aaxis\": {\"endlinecolor\": \"#2a3f5f\", \"gridcolor\": \"white\", \"linecolor\": \"white\", \"minorgridcolor\": \"white\", \"startlinecolor\": \"#2a3f5f\"}, \"baxis\": {\"endlinecolor\": \"#2a3f5f\", \"gridcolor\": \"white\", \"linecolor\": \"white\", \"minorgridcolor\": \"white\", \"startlinecolor\": \"#2a3f5f\"}, \"type\": \"carpet\"}], \"choropleth\": [{\"colorbar\": {\"outlinewidth\": 0, \"ticks\": \"\"}, \"type\": \"choropleth\"}], \"contour\": [{\"colorbar\": {\"outlinewidth\": 0, \"ticks\": \"\"}, \"colorscale\": [[0.0, \"#0d0887\"], [0.1111111111111111, \"#46039f\"], [0.2222222222222222, \"#7201a8\"], [0.3333333333333333, \"#9c179e\"], [0.4444444444444444, \"#bd3786\"], [0.5555555555555556, \"#d8576b\"], [0.6666666666666666, \"#ed7953\"], [0.7777777777777778, \"#fb9f3a\"], [0.8888888888888888, \"#fdca26\"], [1.0, \"#f0f921\"]], \"type\": \"contour\"}], \"contourcarpet\": [{\"colorbar\": {\"outlinewidth\": 0, \"ticks\": \"\"}, \"type\": \"contourcarpet\"}], \"heatmap\": [{\"colorbar\": {\"outlinewidth\": 0, \"ticks\": \"\"}, \"colorscale\": [[0.0, \"#0d0887\"], [0.1111111111111111, \"#46039f\"], [0.2222222222222222, \"#7201a8\"], [0.3333333333333333, \"#9c179e\"], [0.4444444444444444, \"#bd3786\"], [0.5555555555555556, \"#d8576b\"], [0.6666666666666666, \"#ed7953\"], [0.7777777777777778, \"#fb9f3a\"], [0.8888888888888888, \"#fdca26\"], [1.0, \"#f0f921\"]], \"type\": \"heatmap\"}], \"heatmapgl\": [{\"colorbar\": {\"outlinewidth\": 0, \"ticks\": \"\"}, \"colorscale\": [[0.0, \"#0d0887\"], [0.1111111111111111, \"#46039f\"], [0.2222222222222222, \"#7201a8\"], [0.3333333333333333, \"#9c179e\"], [0.4444444444444444, \"#bd3786\"], [0.5555555555555556, \"#d8576b\"], [0.6666666666666666, \"#ed7953\"], [0.7777777777777778, \"#fb9f3a\"], [0.8888888888888888, \"#fdca26\"], [1.0, \"#f0f921\"]], \"type\": \"heatmapgl\"}], \"histogram\": [{\"marker\": {\"colorbar\": {\"outlinewidth\": 0, \"ticks\": \"\"}}, \"type\": \"histogram\"}], \"histogram2d\": [{\"colorbar\": {\"outlinewidth\": 0, \"ticks\": \"\"}, \"colorscale\": [[0.0, \"#0d0887\"], [0.1111111111111111, \"#46039f\"], [0.2222222222222222, \"#7201a8\"], [0.3333333333333333, \"#9c179e\"], [0.4444444444444444, \"#bd3786\"], [0.5555555555555556, \"#d8576b\"], [0.6666666666666666, \"#ed7953\"], [0.7777777777777778, \"#fb9f3a\"], [0.8888888888888888, \"#fdca26\"], [1.0, \"#f0f921\"]], \"type\": \"histogram2d\"}], \"histogram2dcontour\": [{\"colorbar\": {\"outlinewidth\": 0, \"ticks\": \"\"}, \"colorscale\": [[0.0, \"#0d0887\"], [0.1111111111111111, \"#46039f\"], [0.2222222222222222, \"#7201a8\"], [0.3333333333333333, \"#9c179e\"], [0.4444444444444444, \"#bd3786\"], [0.5555555555555556, \"#d8576b\"], [0.6666666666666666, \"#ed7953\"], [0.7777777777777778, \"#fb9f3a\"], [0.8888888888888888, \"#fdca26\"], [1.0, \"#f0f921\"]], \"type\": \"histogram2dcontour\"}], \"mesh3d\": [{\"colorbar\": {\"outlinewidth\": 0, \"ticks\": \"\"}, \"type\": \"mesh3d\"}], \"parcoords\": [{\"line\": {\"colorbar\": {\"outlinewidth\": 0, \"ticks\": \"\"}}, \"type\": \"parcoords\"}], \"pie\": [{\"automargin\": true, \"type\": \"pie\"}], \"scatter\": [{\"marker\": {\"colorbar\": {\"outlinewidth\": 0, \"ticks\": \"\"}}, \"type\": \"scatter\"}], \"scatter3d\": [{\"line\": {\"colorbar\": {\"outlinewidth\": 0, \"ticks\": \"\"}}, \"marker\": {\"colorbar\": {\"outlinewidth\": 0, \"ticks\": \"\"}}, \"type\": \"scatter3d\"}], \"scattercarpet\": [{\"marker\": {\"colorbar\": {\"outlinewidth\": 0, \"ticks\": \"\"}}, \"type\": \"scattercarpet\"}], \"scattergeo\": [{\"marker\": {\"colorbar\": {\"outlinewidth\": 0, \"ticks\": \"\"}}, \"type\": \"scattergeo\"}], \"scattergl\": [{\"marker\": {\"colorbar\": {\"outlinewidth\": 0, \"ticks\": \"\"}}, \"type\": \"scattergl\"}], \"scattermapbox\": [{\"marker\": {\"colorbar\": {\"outlinewidth\": 0, \"ticks\": \"\"}}, \"type\": \"scattermapbox\"}], \"scatterpolar\": [{\"marker\": {\"colorbar\": {\"outlinewidth\": 0, \"ticks\": \"\"}}, \"type\": \"scatterpolar\"}], \"scatterpolargl\": [{\"marker\": {\"colorbar\": {\"outlinewidth\": 0, \"ticks\": \"\"}}, \"type\": \"scatterpolargl\"}], \"scatterternary\": [{\"marker\": {\"colorbar\": {\"outlinewidth\": 0, \"ticks\": \"\"}}, \"type\": \"scatterternary\"}], \"surface\": [{\"colorbar\": {\"outlinewidth\": 0, \"ticks\": \"\"}, \"colorscale\": [[0.0, \"#0d0887\"], [0.1111111111111111, \"#46039f\"], [0.2222222222222222, \"#7201a8\"], [0.3333333333333333, \"#9c179e\"], [0.4444444444444444, \"#bd3786\"], [0.5555555555555556, \"#d8576b\"], [0.6666666666666666, \"#ed7953\"], [0.7777777777777778, \"#fb9f3a\"], [0.8888888888888888, \"#fdca26\"], [1.0, \"#f0f921\"]], \"type\": \"surface\"}], \"table\": [{\"cells\": {\"fill\": {\"color\": \"#EBF0F8\"}, \"line\": {\"color\": \"white\"}}, \"header\": {\"fill\": {\"color\": \"#C8D4E3\"}, \"line\": {\"color\": \"white\"}}, \"type\": \"table\"}]}, \"layout\": {\"annotationdefaults\": {\"arrowcolor\": \"#2a3f5f\", \"arrowhead\": 0, \"arrowwidth\": 1}, \"coloraxis\": {\"colorbar\": {\"outlinewidth\": 0, \"ticks\": \"\"}}, \"colorscale\": {\"diverging\": [[0, \"#8e0152\"], [0.1, \"#c51b7d\"], [0.2, \"#de77ae\"], [0.3, \"#f1b6da\"], [0.4, \"#fde0ef\"], [0.5, \"#f7f7f7\"], [0.6, \"#e6f5d0\"], [0.7, \"#b8e186\"], [0.8, \"#7fbc41\"], [0.9, \"#4d9221\"], [1, \"#276419\"]], \"sequential\": [[0.0, \"#0d0887\"], [0.1111111111111111, \"#46039f\"], [0.2222222222222222, \"#7201a8\"], [0.3333333333333333, \"#9c179e\"], [0.4444444444444444, \"#bd3786\"], [0.5555555555555556, \"#d8576b\"], [0.6666666666666666, \"#ed7953\"], [0.7777777777777778, \"#fb9f3a\"], [0.8888888888888888, \"#fdca26\"], [1.0, \"#f0f921\"]], \"sequentialminus\": [[0.0, \"#0d0887\"], [0.1111111111111111, \"#46039f\"], [0.2222222222222222, \"#7201a8\"], [0.3333333333333333, \"#9c179e\"], [0.4444444444444444, \"#bd3786\"], [0.5555555555555556, \"#d8576b\"], [0.6666666666666666, \"#ed7953\"], [0.7777777777777778, \"#fb9f3a\"], [0.8888888888888888, \"#fdca26\"], [1.0, \"#f0f921\"]]}, \"colorway\": [\"#636efa\", \"#EF553B\", \"#00cc96\", \"#ab63fa\", \"#FFA15A\", \"#19d3f3\", \"#FF6692\", \"#B6E880\", \"#FF97FF\", \"#FECB52\"], \"font\": {\"color\": \"#2a3f5f\"}, \"geo\": {\"bgcolor\": \"white\", \"lakecolor\": \"white\", \"landcolor\": \"#E5ECF6\", \"showlakes\": true, \"showland\": true, \"subunitcolor\": \"white\"}, \"hoverlabel\": {\"align\": \"left\"}, \"hovermode\": \"closest\", \"mapbox\": {\"style\": \"light\"}, \"paper_bgcolor\": \"white\", \"plot_bgcolor\": \"#E5ECF6\", \"polar\": {\"angularaxis\": {\"gridcolor\": \"white\", \"linecolor\": \"white\", \"ticks\": \"\"}, \"bgcolor\": \"#E5ECF6\", \"radialaxis\": {\"gridcolor\": \"white\", \"linecolor\": \"white\", \"ticks\": \"\"}}, \"scene\": {\"xaxis\": {\"backgroundcolor\": \"#E5ECF6\", \"gridcolor\": \"white\", \"gridwidth\": 2, \"linecolor\": \"white\", \"showbackground\": true, \"ticks\": \"\", \"zerolinecolor\": \"white\"}, \"yaxis\": {\"backgroundcolor\": \"#E5ECF6\", \"gridcolor\": \"white\", \"gridwidth\": 2, \"linecolor\": \"white\", \"showbackground\": true, \"ticks\": \"\", \"zerolinecolor\": \"white\"}, \"zaxis\": {\"backgroundcolor\": \"#E5ECF6\", \"gridcolor\": \"white\", \"gridwidth\": 2, \"linecolor\": \"white\", \"showbackground\": true, \"ticks\": \"\", \"zerolinecolor\": \"white\"}}, \"shapedefaults\": {\"line\": {\"color\": \"#2a3f5f\"}}, \"ternary\": {\"aaxis\": {\"gridcolor\": \"white\", \"linecolor\": \"white\", \"ticks\": \"\"}, \"baxis\": {\"gridcolor\": \"white\", \"linecolor\": \"white\", \"ticks\": \"\"}, \"bgcolor\": \"#E5ECF6\", \"caxis\": {\"gridcolor\": \"white\", \"linecolor\": \"white\", \"ticks\": \"\"}}, \"title\": {\"x\": 0.05}, \"xaxis\": {\"automargin\": true, \"gridcolor\": \"white\", \"linecolor\": \"white\", \"ticks\": \"\", \"title\": {\"standoff\": 15}, \"zerolinecolor\": \"white\", \"zerolinewidth\": 2}, \"yaxis\": {\"automargin\": true, \"gridcolor\": \"white\", \"linecolor\": \"white\", \"ticks\": \"\", \"title\": {\"standoff\": 15}, \"zerolinecolor\": \"white\", \"zerolinewidth\": 2}}}, \"title\": {\"text\": \"San Diego Wineries\"}, \"width\": 800},                        {\"responsive\": true}                    ).then(function(){\n",
       "                            \n",
       "var gd = document.getElementById('502a17b4-86f5-492c-a426-f413198a6cc2');\n",
       "var x = new MutationObserver(function (mutations, observer) {{\n",
       "        var display = window.getComputedStyle(gd).display;\n",
       "        if (!display || display === 'none') {{\n",
       "            console.log([gd, 'removed!']);\n",
       "            Plotly.purge(gd);\n",
       "            observer.disconnect();\n",
       "        }}\n",
       "}});\n",
       "\n",
       "// Listen for the removal of the full notebook cells\n",
       "var notebookContainer = gd.closest('#notebook-container');\n",
       "if (notebookContainer) {{\n",
       "    x.observe(notebookContainer, {childList: true});\n",
       "}}\n",
       "\n",
       "// Listen for the clearing of the current output cell\n",
       "var outputEl = gd.closest('.output');\n",
       "if (outputEl) {{\n",
       "    x.observe(outputEl, {childList: true});\n",
       "}}\n",
       "\n",
       "                        })                };                });            </script>        </div>"
      ]
     },
     "metadata": {},
     "output_type": "display_data"
    },
    {
     "data": {
      "text/plain": [
       "<Figure size 432x288 with 0 Axes>"
      ]
     },
     "metadata": {},
     "output_type": "display_data"
    }
   ],
   "source": [
    "# Creating geospatial view of San Diego Wineries\n",
    "\n",
    "with open(r'C:\\Users\\bmcca\\.secret\\mapbox_api.json') as f:\n",
    "    token = json.load(f)\n",
    "\n",
    "open(r'C:\\Users\\bmcca\\.secret\\mapbox_api.json').read()\n",
    "    \n",
    "token = token['token']\n",
    "\n",
    "px.set_mapbox_access_token(token)\n",
    "\n",
    "fig = px.scatter_mapbox(df_sd, lat= \"latitude\", lon= \"longitude\",\n",
    "                        range_color= (0,150),\n",
    "                        labels= {\"review_count\": \"Number of Reviews \", \n",
    "                                \"latitude\":\"Latitude \",\"longitude\":\"Longitude \",\n",
    "                                'review_count':'Number of Reviews '},\n",
    "                        size= 'review_count', hover_name = df_sd[\"name\"],\n",
    "                        size_max=15, zoom=9.25, title='San Diego Wineries',\n",
    "                        mapbox_style='light', width=800, height=800)\n",
    "fig.show();"
   ]
  },
  {
   "cell_type": "code",
   "execution_count": null,
   "metadata": {
    "hidden": true
   },
   "outputs": [],
   "source": []
  }
 ],
 "metadata": {
  "kernelspec": {
   "display_name": "Python (learn-env-bmc)",
   "language": "python",
   "name": "learn-env-bmc"
  },
  "language_info": {
   "codemirror_mode": {
    "name": "ipython",
    "version": 3
   },
   "file_extension": ".py",
   "mimetype": "text/x-python",
   "name": "python",
   "nbconvert_exporter": "python",
   "pygments_lexer": "ipython3",
   "version": "3.8.5"
  },
  "toc": {
   "base_numbering": 1,
   "nav_menu": {},
   "number_sections": true,
   "sideBar": true,
   "skip_h1_title": false,
   "title_cell": "Table of Contents",
   "title_sidebar": "Contents",
   "toc_cell": false,
   "toc_position": {
    "height": "calc(100% - 180px)",
    "left": "10px",
    "top": "150px",
    "width": "304.475px"
   },
   "toc_section_display": true,
   "toc_window_display": true
  },
  "varInspector": {
   "cols": {
    "lenName": "32",
    "lenType": 16,
    "lenVar": 40
   },
   "kernels_config": {
    "python": {
     "delete_cmd_postfix": "",
     "delete_cmd_prefix": "del ",
     "library": "var_list.py",
     "varRefreshCmd": "print(var_dic_list())"
    },
    "r": {
     "delete_cmd_postfix": ") ",
     "delete_cmd_prefix": "rm(",
     "library": "var_list.r",
     "varRefreshCmd": "cat(var_dic_list()) "
    }
   },
   "position": {
    "height": "144.4px",
    "left": "1144.4px",
    "right": "20px",
    "top": "122px",
    "width": "350px"
   },
   "types_to_exclude": [
    "module",
    "function",
    "builtin_function_or_method",
    "instance",
    "_Feature"
   ],
   "window_display": false
  },
  "widgets": {
   "application/vnd.jupyter.widget-state+json": {
    "state": {},
    "version_major": 2,
    "version_minor": 0
   }
  }
 },
 "nbformat": 4,
 "nbformat_minor": 4
}
